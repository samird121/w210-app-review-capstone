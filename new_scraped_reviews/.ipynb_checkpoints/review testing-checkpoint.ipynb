{
 "cells": [
  {
   "cell_type": "code",
   "execution_count": 1,
   "metadata": {},
   "outputs": [
    {
     "name": "stderr",
     "output_type": "stream",
     "text": [
      "c:\\users\\samir\\appdata\\local\\programs\\python\\python37\\lib\\site-packages\\nltk\\twitter\\__init__.py:20: UserWarning: The twython library has not been installed. Some functionality from the twitter package will not be available.\n",
      "  warnings.warn(\"The twython library has not been installed. \"\n"
     ]
    }
   ],
   "source": [
    "import pandas as pd\n",
    "import ast\n",
    "import re\n",
    "import json\n",
    "from sklearn import linear_model\n",
    "from sklearn.feature_extraction.text import *\n",
    "from sklearn.model_selection import train_test_split\n",
    "from sklearn.metrics import classification_report, r2_score, mean_squared_error\n",
    "import numpy as np\n",
    "import matplotlib.pyplot as plt\n",
    "from nltk.sentiment.vader import SentimentIntensityAnalyzer\n",
    "from scipy import sparse"
   ]
  },
  {
   "cell_type": "code",
   "execution_count": 2,
   "metadata": {},
   "outputs": [],
   "source": [
    "reviews = []\n",
    "with open('snapchat-100pages-reviews.txt', 'r', encoding='utf-8') as f:\n",
    "    reviews = f.read()\n",
    "\n",
    "reviews = re.sub('\\]', '', reviews)\n",
    "reviews = re.sub('\\[', '', reviews)\n",
    "reviews = re.sub('\\n', '', reviews)\n",
    "reviews = re.sub(\"'\", '\"', reviews)\n",
    "reviews = re.sub('    ', ' ', reviews)\n",
    "reviews = re.sub(' {', '{', reviews)\n",
    "reviews = re.sub(' }', '}', reviews)\n",
    "reviews = re.sub('{ ', '{', reviews)\n",
    "reviews = re.sub('} ', '}', reviews)\n",
    "reviews = re.sub('}  {', '}, {', reviews)\n",
    "reviews = re.sub('}{', '}, {', reviews)\n",
    "reviews = re.sub('id:', '\"id\":', reviews)\n",
    "reviews = re.sub('userName:', '\"userName\":', reviews)\n",
    "reviews = re.sub('userImage:', '\"userImage\":', reviews)\n",
    "reviews = re.sub('date:', '\"date\":', reviews)\n",
    "reviews = re.sub('url:', '\"url\":', reviews)\n",
    "reviews = re.sub('score:', '\"score\":', reviews)\n",
    "reviews = re.sub('title:', '\"title\":', reviews)\n",
    "reviews = re.sub('text:', '\"text\":', reviews)\n",
    "reviews = re.sub('replyDate:', '\"replyDate\":', reviews)\n",
    "reviews = re.sub('replyText:', '\"replyText\":', reviews)\n",
    "reviews = re.sub(': undefined', ': \"undefined\"', reviews)"
   ]
  },
  {
   "cell_type": "code",
   "execution_count": 3,
   "metadata": {},
   "outputs": [],
   "source": [
    "review_strings = [r+'}' for r in reviews.split('},')]\n",
    "review_strings[-1] = review_strings[-1][:-1]"
   ]
  },
  {
   "cell_type": "code",
   "execution_count": 4,
   "metadata": {},
   "outputs": [],
   "source": [
    "review_list = []\n",
    "for r in review_strings:\n",
    "    try:\n",
    "        review_list.append(json.loads(r))\n",
    "    except:\n",
    "        pass"
   ]
  },
  {
   "cell_type": "code",
   "execution_count": 5,
   "metadata": {},
   "outputs": [
    {
     "data": {
      "text/plain": [
       "{'id': 'gp:AOqpTOFEwBqdIY9EWRFIge7rrQTO2Hqn046SnyvrMz11nfMzZy95jDLXqzEdlZ6s4hAR6n1LKhaXp5BUl4q_FA',\n",
       " 'userName': '',\n",
       " 'userImage': 'https://lh6.googleusercontent.com/-GVea0Srlla4/AAAAAAAAAAI/AAAAAAAAAAA/QzrUwIMDqEQ/w96-h96-p/photo.jpg',\n",
       " 'date': 'September 27, 2018',\n",
       " 'url': 'https://play.google.com/store/apps/details?id=com.snapchat.android&reviewId=Z3A6QU9xcFRPRkV3QnFkSVk5RVdSRklnZTdyclFUTzJIcW4wNDZTbnl2ck16MTFuZk16Wnk5NWpETFhxekVkbFo2czRoQVI2bjFMS2hhWHA1QlVsNHFfRkE',\n",
       " 'score': 5,\n",
       " 'title': '',\n",
       " 'text': '100% service',\n",
       " 'replyDate': 'undefined',\n",
       " 'replyText': 'undefined'}"
      ]
     },
     "execution_count": 5,
     "metadata": {},
     "output_type": "execute_result"
    }
   ],
   "source": [
    "review_list[0]"
   ]
  },
  {
   "cell_type": "code",
   "execution_count": 6,
   "metadata": {},
   "outputs": [],
   "source": [
    "review_text = [r['text'] for r in review_list]\n",
    "review_dates = [r['date'] for r in review_list]\n",
    "review_scores = [r['score'] for r in review_list]"
   ]
  },
  {
   "cell_type": "code",
   "execution_count": 11,
   "metadata": {},
   "outputs": [],
   "source": [
    "sid = SentimentIntensityAnalyzer()\n",
    "\n",
    "pscores = []\n",
    "lens = []\n",
    "for sentence in review_text:\n",
    "    pscores.append(abs(sid.polarity_scores(sentence)['compound']))\n",
    "    lens.append(np.log(len(sentence.split('.'))))\n",
    "    \n",
    "#pscores = np.reshape(pscores, [-1,1])"
   ]
  },
  {
   "cell_type": "code",
   "execution_count": 9,
   "metadata": {},
   "outputs": [
    {
     "data": {
      "text/plain": [
       "array(['September 24, 2018', 'September 25, 2018', 'September 26, 2018',\n",
       "       'September 27, 2018'], dtype='<U18')"
      ]
     },
     "execution_count": 9,
     "metadata": {},
     "output_type": "execute_result"
    }
   ],
   "source": [
    "np.unique(review_dates)"
   ]
  },
  {
   "cell_type": "code",
   "execution_count": 12,
   "metadata": {},
   "outputs": [],
   "source": [
    "train_text, test_text, train_scores, test_scores, train_pscores, test_pscores, train_lens, test_lens = train_test_split(review_text, review_scores, pscores, lens, random_state=2)\n",
    "\n",
    "cv = CountVectorizer(min_df=2, ngram_range=(0,2))\n",
    "cv_train_sentences = cv.fit_transform(train_text)\n",
    "cv_test_sentences = cv.transform(test_text)\n",
    "\n",
    "train_pscore_sparse = sparse.csr_matrix(train_pscores)\n",
    "train_pscore_int = sparse.csc_matrix.multiply(np.transpose(train_pscore_sparse), cv_train_sentences)\n",
    "#stacked_train_sentences = sparse.hstack([cv_train_sentences, np.transpose(train_pscore_sparse), train_pscore_int])\n",
    "stacked_train_sentences = sparse.hstack([cv_train_sentences, np.transpose(train_pscore_sparse), np.transpose(sparse.csr_matrix(train_lens))])\n",
    "\n",
    "\n",
    "test_pscore_sparse = sparse.csr_matrix(test_pscores)\n",
    "test_pscore_int = sparse.csc_matrix.multiply(np.transpose(test_pscore_sparse), cv_test_sentences)\n",
    "#stacked_test_sentences = sparse.hstack([cv_test_sentences, np.transpose(test_pscore_sparse), test_pscore_int])\n",
    "stacked_test_sentences = sparse.hstack([cv_test_sentences, np.transpose(test_pscore_sparse), np.transpose(sparse.csr_matrix(test_lens))])"
   ]
  },
  {
   "cell_type": "code",
   "execution_count": 27,
   "metadata": {},
   "outputs": [
    {
     "data": {
      "text/plain": [
       "(2979,)"
      ]
     },
     "execution_count": 27,
     "metadata": {},
     "output_type": "execute_result"
    }
   ],
   "source": [
    "np.transpose(train_lens).shape"
   ]
  },
  {
   "cell_type": "code",
   "execution_count": 504,
   "metadata": {},
   "outputs": [
    {
     "data": {
      "text/plain": [
       "(2979,)"
      ]
     },
     "execution_count": 504,
     "metadata": {},
     "output_type": "execute_result"
    }
   ],
   "source": [
    "np.transpose(train_pscores).shape"
   ]
  },
  {
   "cell_type": "code",
   "execution_count": 502,
   "metadata": {},
   "outputs": [
    {
     "data": {
      "text/plain": [
       "(2979,)"
      ]
     },
     "execution_count": 502,
     "metadata": {},
     "output_type": "execute_result"
    }
   ],
   "source": [
    "np.multiply(train_pscores, train_lens).shape"
   ]
  },
  {
   "cell_type": "code",
   "execution_count": 538,
   "metadata": {
    "scrolled": true
   },
   "outputs": [],
   "source": [
    "train_df = np.transpose(np.stack((train_pscores, train_lens, np.transpose(np.multiply(train_pscores, train_lens))), axis=0))\n",
    "test_df = np.transpose(np.stack((test_pscores, test_lens, np.transpose(np.multiply(test_pscores, test_lens))), axis=0))"
   ]
  },
  {
   "cell_type": "code",
   "execution_count": null,
   "metadata": {},
   "outputs": [],
   "source": []
  },
  {
   "cell_type": "code",
   "execution_count": 521,
   "metadata": {},
   "outputs": [
    {
     "data": {
      "text/plain": [
       "array([ 1.13807138, -0.52746403,  0.08262148])"
      ]
     },
     "execution_count": 521,
     "metadata": {},
     "output_type": "execute_result"
    }
   ],
   "source": [
    "lm.coef_"
   ]
  },
  {
   "cell_type": "code",
   "execution_count": 13,
   "metadata": {},
   "outputs": [
    {
     "name": "stdout",
     "output_type": "stream",
     "text": [
      "1.154458263579385\n"
     ]
    }
   ],
   "source": [
    "lm = linear_model.Ridge()\n",
    "lm.fit(cv_train_sentences, train_scores)\n",
    "preds = lm.predict(cv_test_sentences)\n",
    "print(mean_squared_error(preds, test_scores))"
   ]
  },
  {
   "cell_type": "code",
   "execution_count": 14,
   "metadata": {},
   "outputs": [
    {
     "data": {
      "image/png": "[encoded data removed]",
      "text/plain": [
       "<Figure size 432x288 with 1 Axes>"
      ]
     },
     "metadata": {
      "needs_background": "light"
     },
     "output_type": "display_data"
    }
   ],
   "source": [
    "plt.scatter(preds, test_scores)\n",
    "plt.show()"
   ]
  },
  {
   "cell_type": "code",
   "execution_count": 25,
   "metadata": {},
   "outputs": [
    {
     "data": {
      "text/plain": [
       "'I had my old account for almost a year now. But I just bought a new phone and it didn\"t let me log into my snap so I made a new one and I logged out today to give my friend to log in. And now I can\"t log back on and my email is the same. I\"m recieving email from you guys that someone is trying to log in, but that\"s me and when I say to verify through email it\"s says email not recognized. Fix it please asap.'"
      ]
     },
     "execution_count": 25,
     "metadata": {},
     "output_type": "execute_result"
    }
   ],
   "source": [
    "test_text[974]"
   ]
  },
  {
   "cell_type": "code",
   "execution_count": 22,
   "metadata": {},
   "outputs": [],
   "source": [
    "cv_featurenames = cv.get_feature_names()\n",
    "\n",
    "\n",
    "weightIndeces_positive = np.argsort(lm.coef_)[-20:]\n",
    "weightIndeces_negative = np.argsort(lm.coef_)[:20]"
   ]
  },
  {
   "cell_type": "code",
   "execution_count": 23,
   "metadata": {},
   "outputs": [
    {
     "name": "stdout",
     "output_type": "stream",
     "text": [
      "also\n",
      "streaks\n",
      "love this\n",
      "lovely\n",
      "love it\n",
      "like it\n",
      "text\n",
      "ve\n",
      "friends\n",
      "or\n",
      "that\n",
      "like\n",
      "good\n",
      "nice\n",
      "great\n",
      "best\n",
      "amazing\n",
      "cool\n",
      "awesome\n",
      "love\n"
     ]
    }
   ],
   "source": [
    "for index in weightIndeces_positive: \n",
    "    print(cv_featurenames[index])"
   ]
  },
  {
   "cell_type": "code",
   "execution_count": 24,
   "metadata": {},
   "outputs": [
    {
     "name": "stdout",
     "output_type": "stream",
     "text": [
      "bad\n",
      "worst\n",
      "not\n",
      "sucks\n",
      "keeps\n",
      "camera\n",
      "slow\n",
      "open\n",
      "update\n",
      "hate\n",
      "cant\n",
      "crashes\n",
      "why\n",
      "old\n",
      "fix\n",
      "android\n",
      "work\n",
      "on\n",
      "its not\n",
      "suck\n"
     ]
    }
   ],
   "source": [
    "for index in weightIndeces_negative: \n",
    "    print(cv_featurenames[index])"
   ]
  },
  {
   "cell_type": "code",
   "execution_count": null,
   "metadata": {},
   "outputs": [],
   "source": []
  }
 ],
 "metadata": {
  "kernelspec": {
   "display_name": "Python 3",
   "language": "python",
   "name": "python3"
  },
  "language_info": {
   "codemirror_mode": {
    "name": "ipython",
    "version": 3
   },
   "file_extension": ".py",
   "mimetype": "text/x-python",
   "name": "python",
   "nbconvert_exporter": "python",
   "pygments_lexer": "ipython3",
   "version": "3.7.0"
  }
 },
 "nbformat": 4,
 "nbformat_minor": 2
}
