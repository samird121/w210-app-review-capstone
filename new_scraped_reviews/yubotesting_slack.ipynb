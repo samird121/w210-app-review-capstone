{
 "cells": [
  {
   "cell_type": "code",
   "execution_count": 1,
   "metadata": {
    "extensions": {
     "jupyter_dashboards": {
      "version": 1,
      "views": {
       "grid_default": {
        "col": 0,
        "height": 4,
        "hidden": false,
        "row": 0,
        "width": 12
       },
       "report_default": {
        "hidden": false
       }
      }
     }
    },
    "nbpresent": {
     "id": "24ca0b73-b287-45eb-8374-5f724ba0606a"
    }
   },
   "outputs": [
    {
     "name": "stdout",
     "output_type": "stream",
     "text": [
      "[nltk_data] Downloading package stopwords to\n",
      "[nltk_data]     /Users/yubozhang/nltk_data...\n",
      "[nltk_data]   Package stopwords is already up-to-date!\n"
     ]
    }
   ],
   "source": [
    "import pandas as pd\n",
    "import spacy\n",
    "import ast\n",
    "import re\n",
    "from pprint import pprint\n",
    "import json\n",
    "import gensim\n",
    "import gensim.corpora as corpora\n",
    "from gensim.utils import simple_preprocess\n",
    "from gensim.models import CoherenceModel\n",
    "from sklearn import linear_model\n",
    "from sklearn.feature_extraction.text import *\n",
    "from sklearn.model_selection import train_test_split\n",
    "from sklearn.metrics import classification_report, r2_score, mean_squared_error\n",
    "import numpy as np\n",
    "import matplotlib.pyplot as plt\n",
    "from nltk.sentiment.vader import SentimentIntensityAnalyzer\n",
    "from scipy import sparse\n",
    "import nltk; nltk.download('stopwords')\n",
    "from nltk.corpus import stopwords\n",
    "stop_words = stopwords.words('english')\n",
    "stop_words.extend(['from', 'subject', 're', 'edu', 'use'])\n",
    "\n",
    "import logging\n",
    "logging.basicConfig(format='%(asctime)s : %(levelname)s : %(message)s', level=logging.ERROR)\n",
    "\n",
    "import warnings\n",
    "warnings.filterwarnings(\"ignore\",category=DeprecationWarning)\n",
    "# Plotting tools\n",
    "import pyLDAvis\n",
    "import pyLDAvis.gensim  # don't skip this\n",
    "import matplotlib.pyplot as plt\n",
    "%matplotlib inline"
   ]
  },
  {
   "cell_type": "code",
   "execution_count": 2,
   "metadata": {
    "extensions": {
     "jupyter_dashboards": {
      "version": 1,
      "views": {
       "grid_default": {
        "hidden": true
       },
       "report_default": {
        "hidden": true
       }
      }
     }
    },
    "nbpresent": {
     "id": "5aa33765-1a24-4ddb-98c9-2ede92aae97f"
    }
   },
   "outputs": [],
   "source": [
    "reviews = []\n",
    "with open('scraped_reviews_slack.txt', 'r') as f: #, encoding='utf-8'\n",
    "    reviews = f.read()\n",
    "\n",
    "reviews = re.sub('\\]', '', reviews)\n",
    "reviews = re.sub('\\[', '', reviews)\n",
    "reviews = re.sub('\\n', '', reviews)\n",
    "reviews = re.sub(\"'\", '\"', reviews)\n",
    "reviews = re.sub('    ', ' ', reviews)\n",
    "reviews = re.sub(' {', '{', reviews)\n",
    "reviews = re.sub(' }', '}', reviews)\n",
    "reviews = re.sub('{ ', '{', reviews)\n",
    "reviews = re.sub('} ', '}', reviews)\n",
    "reviews = re.sub('}  {', '}, {', reviews)\n",
    "reviews = re.sub('}{', '}, {', reviews)\n",
    "reviews = re.sub('id:', '\"id\":', reviews)\n",
    "reviews = re.sub('userName:', '\"userName\":', reviews)\n",
    "reviews = re.sub('userImage:', '\"userImage\":', reviews)\n",
    "reviews = re.sub('date:', '\"date\":', reviews)\n",
    "reviews = re.sub('url:', '\"url\":', reviews)\n",
    "reviews = re.sub('score:', '\"score\":', reviews)\n",
    "reviews = re.sub('title:', '\"title\":', reviews)\n",
    "reviews = re.sub('text:', '\"text\":', reviews)\n",
    "reviews = re.sub('replyDate:', '\"replyDate\":', reviews)\n",
    "reviews = re.sub('replyText:', '\"replyText\":', reviews)\n",
    "reviews = re.sub(': undefined', ': \"undefined\"', reviews)"
   ]
  },
  {
   "cell_type": "code",
   "execution_count": 3,
   "metadata": {
    "extensions": {
     "jupyter_dashboards": {
      "version": 1,
      "views": {
       "grid_default": {
        "hidden": true
       },
       "report_default": {
        "hidden": true
       }
      }
     }
    },
    "nbpresent": {
     "id": "94da91ee-dace-41a3-b461-3a350ed473a0"
    }
   },
   "outputs": [],
   "source": [
    "review_strings = [r+'}' for r in reviews.split('},')]\n",
    "review_strings[-1] = review_strings[-1][:-1]"
   ]
  },
  {
   "cell_type": "code",
   "execution_count": 4,
   "metadata": {
    "extensions": {
     "jupyter_dashboards": {
      "version": 1,
      "views": {
       "grid_default": {
        "hidden": true
       },
       "report_default": {
        "hidden": true
       }
      }
     }
    },
    "nbpresent": {
     "id": "047266ac-41d6-4ff0-84d1-1eb7972541f9"
    }
   },
   "outputs": [],
   "source": [
    "review_list = []\n",
    "for r in review_strings:\n",
    "    try:\n",
    "        review_list.append(json.loads(r))\n",
    "    except:\n",
    "        pass"
   ]
  },
  {
   "cell_type": "code",
   "execution_count": 5,
   "metadata": {
    "extensions": {
     "jupyter_dashboards": {
      "version": 1,
      "views": {
       "grid_default": {
        "hidden": true
       },
       "report_default": {
        "hidden": true
       }
      }
     }
    },
    "nbpresent": {
     "id": "b3b79604-770f-43d4-b519-fbeb9a039a3c"
    }
   },
   "outputs": [],
   "source": [
    "raw_corpus = []\n",
    "for i in range(1000): # change to larger number\n",
    "    raw_corpus.append(review_list[i][u'text'])"
   ]
  },
  {
   "cell_type": "code",
   "execution_count": 6,
   "metadata": {
    "extensions": {
     "jupyter_dashboards": {
      "version": 1,
      "views": {
       "grid_default": {
        "hidden": true
       },
       "report_default": {
        "hidden": true
       }
      }
     }
    },
    "nbpresent": {
     "id": "3d82c11d-fbb2-4c36-9e4d-be62db4cb92b"
    }
   },
   "outputs": [],
   "source": [
    "data = raw_corpus"
   ]
  },
  {
   "cell_type": "code",
   "execution_count": 7,
   "metadata": {
    "extensions": {
     "jupyter_dashboards": {
      "version": 1,
      "views": {
       "grid_default": {
        "col": 0,
        "height": 8,
        "hidden": false,
        "row": 4,
        "width": 12
       },
       "report_default": {
        "hidden": false
       }
      }
     }
    },
    "nbpresent": {
     "id": "f0518271-cfbd-4fd9-a7e2-404a41d3083a"
    }
   },
   "outputs": [
    {
     "name": "stdout",
     "output_type": "stream",
     "text": [
      "[u'Its not well designed for phones. Its hard to navigate between many conversations and its super buggy. I see notification dots but there are no unread messages.',\n",
      " u'The by far most annoying and impossible to configure ',\n",
      " u'Helped my grad student organize her thesis project',\n",
      " u'Payter!',\n",
      " u'Thanks for your slack',\n",
      " u'Storage space is low. Tanks',\n",
      " u'Love slack on Mac and iOS. First time using on Android. Good so far.',\n",
      " u'Edited. This is now fixed. I think it was a change on the windows  maybe but this just started working correctly. The team also put specific content on Android settings that also helped but i am now getting notifications and my dev team likes me (a bit) more! Old review: Need help with Oreo and Notifications. I dont think your Android  team gets how to keep the  sending notifications in Oreo given features to reduce battery consumption. My dev team hates that I dont get their notifications if I am not at my desk, but Slack seems to always be shut down on my Oneplus 3T on Oreo. I have tried every setting I can find online to keep Slack awake but it never seems to fix the issue. I really need this resolved as it is hurting productivity when my team is blocked on rovals or requirements from me.',\n",
      " u'Very useful s \\U0001f44d\\U0001f44d\\U0001f44d\\U0001f44d\\U0001f44d']\n"
     ]
    }
   ],
   "source": [
    "# Remove Emails\n",
    "data = [re.sub('\\S*@\\S*\\s?', '', sent) for sent in data]\n",
    "\n",
    "# Remove new line characters\n",
    "data = [re.sub('\\s+', ' ', sent) for sent in data]\n",
    "\n",
    "# Remove distracting single quotes\n",
    "data = [re.sub(\"\\'\", \"\", sent) for sent in data]\n",
    "data = [re.sub(\"\\\"\", \"\", sent) for sent in data]\n",
    "data = [re.sub(\"_\", \"\", sent) for sent in data]\n",
    "\n",
    "data = [re.sub(\"good'\", \"\", sent) for sent in data]\n",
    "data = [re.sub(\"app\", \"\", sent) for sent in data]\n",
    "data = [re.sub(\"nice\", \"\", sent) for sent in data]\n",
    "pprint(data[1:10])\n"
   ]
  },
  {
   "cell_type": "code",
   "execution_count": 8,
   "metadata": {
    "extensions": {
     "jupyter_dashboards": {
      "version": 1,
      "views": {
       "grid_default": {
        "hidden": true
       },
       "report_default": {
        "hidden": true
       }
      }
     }
    },
    "nbpresent": {
     "id": "8df769f7-c82a-4b8b-9ba3-130fe2f2631a"
    }
   },
   "outputs": [],
   "source": [
    "def sent_to_words(sentences):\n",
    "    for sentence in sentences:\n",
    "        yield(gensim.utils.simple_preprocess(str([sentence]), deacc=True)) \n"
   ]
  },
  {
   "cell_type": "code",
   "execution_count": 10,
   "metadata": {
    "extensions": {
     "jupyter_dashboards": {
      "version": 1,
      "views": {
       "grid_default": {
        "hidden": true
       },
       "report_default": {
        "hidden": true
       }
      }
     }
    },
    "nbpresent": {
     "id": "47c3cab3-d492-4696-bb2b-99dcb3a2765f"
    }
   },
   "outputs": [],
   "source": [
    "data_words = list(sent_to_words(data))\n",
    "\n",
    "# Build the bigram and trigram models\n",
    "bigram = gensim.models.Phrases(data_words, min_count=5, threshold=100) \n",
    "trigram = gensim.models.Phrases(bigram[data_words], threshold=100)  \n",
    "bigram_mod = gensim.models.phrases.Phraser(bigram)\n",
    "trigram_mod = gensim.models.phrases.Phraser(trigram)\n",
    "#print(trigram_mod[bigram_mod[data_words[0][:30]]])\n",
    "#print(list(sent_to_words(data)))"
   ]
  },
  {
   "cell_type": "code",
   "execution_count": 11,
   "metadata": {
    "extensions": {
     "jupyter_dashboards": {
      "version": 1,
      "views": {
       "grid_default": {
        "hidden": true
       },
       "report_default": {
        "hidden": true
       }
      }
     }
    },
    "nbpresent": {
     "id": "cf5dfef5-2131-4772-9755-633888a36089"
    }
   },
   "outputs": [],
   "source": [
    "def remove_stopwords(texts):\n",
    "    return [[word for word in simple_preprocess(str(doc)) if word not in stop_words] for doc in texts]\n",
    "def make_bigrams(texts):\n",
    "    return [bigram_mod[doc] for doc in texts]\n",
    "\n",
    "def make_trigrams(texts):\n",
    "    return [trigram_mod[bigram_mod[doc]] for doc in texts]\n",
    "\n",
    "def lemmatization(texts, allowed_postags=['NOUN', 'ADJ', 'VERB', 'ADV']):\n",
    "    \"\"\"https://spacy.io/api/annotation\"\"\"\n",
    "    texts_out = []\n",
    "    for sent in texts:\n",
    "        if sent != []:\n",
    "            doc = nlp(\" \".join(sent)) \n",
    "\n",
    "            texts_out.append([token.lemma_ for token in doc if token.pos_ in allowed_postags])\n",
    " \n",
    "    return texts_out"
   ]
  },
  {
   "cell_type": "code",
   "execution_count": 12,
   "metadata": {
    "extensions": {
     "jupyter_dashboards": {
      "version": 1,
      "views": {
       "grid_default": {
        "col": 0,
        "height": 12,
        "hidden": false,
        "row": 12,
        "width": 12
       },
       "report_default": {
        "hidden": false
       }
      }
     }
    },
    "nbpresent": {
     "id": "2b74f5ee-ab75-48b6-8254-fcf18cb1025a"
    }
   },
   "outputs": [
    {
     "name": "stdout",
     "output_type": "stream",
     "text": [
      "[[u'well', u'design', u'phone', u'hard', u'navigate', u'many', u'conversation', u'super', u'buggy', u'see', u'notification', u'dot', u'unread', u'message'], [u'far', u'annoying', u'impossible', u'configure'], [u'help', u'grad', u'student', u'organize', u'thesis', u'project'], [u'payter'], [u'thank', u'slack'], [u'storage', u'space', u'low', u'tank'], [u'love', u'slack', u'mac', u'ios', u'first', u'time', u'use', u'android', u'good', u'far'], [u'edit', u'fix', u'think', u'change', u'window', u'maybe', u'start', u'work', u'correctly', u'team', u'also', u'put', u'specific', u'content', u'android', u'setting', u'also', u'help', u'get', u'notification', u'dev', u'team', u'like', u'bit', u'old', u'review', u'need', u'help', u'oreo', u'notification', u'do', u'not', u'think', u'android', u'team', u'get', u'keep', u'send', u'notification', u'oreo', u'give', u'feature', u'reduce', u'battery', u'consumption', u'dev', u'team', u'hat', u'do', u'not', u'get', u'notification', u'desk', u'slack', u'seem', u'always', u'shut', u'oneplus', u'oreo', u'try', u'set', u'find', u'online', u'keep', u'slack', u'awake', u'never', u'seem', u'fix', u'issue', u'really', u'need', u'resolve', u'hurt', u'productivity', u'team', u'block', u'roval', u'requirement'], [u'useful'], [u'nice', u'do', u'not', u'need', u'computer'], [u'do', u'not', u'work', u'notification', u'never', u'pop', u'thread', u'order', u'alphabetically', u'instead', u'recent', u'first', u'seriously', u'bot', u'spam', u'trash', u'awful'], [u'genial', u'admittedly', u'colossal', u'nevertheless', u'instantly', u'dunno', u'case', u'bug', u'invariably', u'load', u'nevermore', u'load', u'nullifying', u'ruminate', u'worriment', u'internet', u'connectivity', u'soberly', u'slack', u'colleague', u'comprehend', u'aforesaid', u'benignantly', u'fix'], [u'log', u'account', u'rude'], [u'send', u'datum'], [u'perfect', u'lication', u'do', u'not', u'want', u'notification', u'ever', u'arrive'], [u'able', u'make', u'account', u'even', u'group', u'join', u'invite', u'yet'], [u'excellent'], [], [u'longggg', u'time', u'send', u'image', u'finally', u'could', u'not', u'upload', u'file', u'android', u'always', u'lucky', u'upload', u'photo', u'success'], [u'provide', u'sound', u'suddenly', u'disear', u'replace', u'tiny', u'little', u'ting', u'sound', u'change', u'hen', u'rely', u'sound', u'wake', u'overnight', u'work', u'incident', u'cool', u'dude', u'cool'], [u'app', u'late', u'update', u'start', u'make', u'sound', u'idea', u'disable', u'completely', u'sound'], [u'refuse', u'download', u'seconda', u'request', u'desktop', u'link', u'redirect', u'store', u'school', u'force', u'suck'], [], [u'app', u'decent', u'star', u'update', u'description'], [u'peace'], [u'personal', u'yet', u'useful'], [u'good', u'team', u'communication', u'increase', u'productivity'], [u'great', u'user', u'interface'], [u'good'], [u'great', u'employee', u'direct', u'contact', u'email', u'phone', u'number', u'need', u'use'], [u'amazing'], [u'have', u'love', u'have', u'get', u'be', u'run', u'problem', u'keep', u'want', u'crash', u'whenever', u'open', u'replying', u'notification', u'bar', u'yield', u'problem', u'please', u'fix'], [u'force', u'get', u'able', u'service'], [u'aiesec', u'use', u'slack'], [u'coool'], [u'saudi', u'money', u'company'], [u'back', u'bone', u'see', u'use', u'saudi', u'hit', u'squad', u'sponsor', u'avoid', u'avoid', u'avoid', u'send', u'message'], [u'amazing'], [u'good'], [u'inconvenient', u'way', u'sign', u'get', u'workspace'], [u'great'], [u'nice'], [u'can', u'not', u'signin', u'confirm', u'email', u'can', u'not', u'signin'], [u'crash', u'startup', u'may', u'start', u'upgrade', u'android'], [u'plan', u'updating', u'lication', u'target', u'api'], [u'part', u'life'], [u'work', u'stay', u'way', u'time', u'great', u'changelog'], [u'change', u'notification', u'sound', u'dot', u'setting', u'notification', u'setting', u'system', u'option', u'choose', u'sound', u'vibration', u'advanced', u'dropdown', u'additional', u'setting', u'nowhere', u'change', u'tone'], [u'great'], [u'notification', u'sound', u'do', u'not', u'work', u'background', u'idea', u'message', u'open'], [u'good', u'job'], [u'people', u'awesome', u'keep', u'way', u'do', u'not', u'feel', u'right', u'do', u'not', u'love', u'try'], [u'poor', u'android', u'performance'], [], [u'niceee'], [u'good', u'communication', u'tool', u'workplace', u'reduce', u'bulk', u'emailing'], [u'company', u'force'], [u'slow', u'feel', u'heavy'], [u'amazing', u'collaboration', u'base', u'project', u'internal', u'communication'], [u'good', u'thing', u'small', u'medium', u'company', u'absolutely', u'love', u'thank', u'team', u'slack'], [u'perfect'], [u'do', u'not', u'work', u'properly', u'phone', u'notch'], [u'issue', u'send', u'picture', u'always', u'send', u'picture', u'time', u'be', u'use', u'xaomi', u'redmi', u'note'], [u'slack', u'amazing'], [u'good'], [u'awesome', u'organization'], [u'good', u'use'], [u'great'], [u'knuckle', u'meme'], [u'clunky', u'intuitive', u'worth', u'learn', u'utility', u'bring'], [u'first', u'time', u'could', u'comment', u'yet', u'let', u'see', u'work'], [u'slack', u'keep', u'rock', u'always', u'ufe'], [u'wonderful'], [u'good', u'lication', u'team', u'communication', u'ufe'], [u'official', u'easy', u'ui'], [u'use', u'extensively', u'office', u'slack', u'account', u'day', u'day', u'basis', u'overall', u'design', u'good', u'awesome'], [u'cool', u'need', u'catch', u'mainstream', u'be', u'say', u'add', u'voice', u'chat', u'mean', u'replacement', u'chat', u'room', u'old'], [u'lication', u'trial', u'ear', u'provide', u'need', u'term', u'clear', u'visability', u'team', u'wish', u'push', u'notification', u'work', u'channel', u'subscribe', u'work', u'would', u'take', u'star', u'product'], [u'could', u'not', u'work'], [u'work', u'well', u'android', u'chromebook'], [u'good'], [u'work', u'quite', u'well', u'main', u'complaint', u'support', u'custom', u'notification', u'sound'], [u'awesome'], [u'good'], [u'good', u'extent'], [u'nice'], [u'never', u'work', u'say', u'sorry', u'problem', u'try', u'tired', u'time', u'never', u'work'], [u'nice', u'ad'], [u'solid', u'great', u'customer', u'service'], [u'good'], [u'brilliant', u'productivity', u'team'], [u'work', u'huawei', u'lite', u'android', u'galaxy', u'tab', u'android', u'conversation', u'panel', u'display', u'discussion', u'ability', u'communicate', u'fix', u'press', u'hold', u'button', u'switch', u'run', u'screen', u'split'], [u'spend', u'hour', u'try', u'log', u'possible', u'different', u'way', u'end', u'find', u'problem', u'use', u'brave', u'browser', u'first', u'attempt', u'chrome', u'everything', u'go', u'smooth'], [u'good'], [u'can', u'not', u'see', u'rating', u'work', u'perfectly', u'slack', u'process', u'gamechanger', u'business', u'use', u'week', u'team', u'look', u'awesome'], [u'samsung', u'literally', u'kill', u'phone', u'crash', u'real', u'lag', u'overheat', u'draining', u'battery', u'try', u'clean', u'cache', u'also', u'restore', u'entire', u'phone', u'nothing', u'work', u'company', u'use', u'slack', u'big', u'deal', u'phone', u'fine', u'everything', u'else', u'work', u'perfectly', u'already', u'try', u'contact', u'customer', u'care', u'nothing', u'really', u'change', u'something'], [u'great'], [u'chat', u'notification', u'work', u'new', u'device', u'fine', u'old', u'device', u'investigate', u'thank'], [u'good', u'one', u'give', u'notification', u'open'], [u'start', u'use', u'slack', u'mobile', u'sooo', u'slow', u'lication', u'take', u'time', u'open', u'heavy', u'game', u'hat', u'sluggishness', u'desktop', u'client', u'hat', u'whole', u'experience'], [u'use', u'keep', u'hostage', u'recreational', u'activity'], [u'easy', u'login', u'system', u'have', u'ever', u'use'], [u'suckster'], [u'great'], [u'instal', u'phone', u'use', u'bluetooth', u'wifi', u'disconnect', u'cause', u'bluetooth', u'disconnect', u'manually', u'go', u'setting', u'toggle', u'uninstalling', u'problem', u'fix', u'hen', u'reinstall', u'fix'], [u'think', u'help', u'achieve', u'project', u'milestone', u'exactly', u'look'], [u'great', u'way', u'keep', u'group', u'well', u'design', u'customer', u'service', u'quick', u'helpful', u'resolve', u'issue'], [u'slack', u'great', u'team', u'communication', u'particularly', u'manage', u'large', u'team'], [u'great', u'wish', u'easy', u'manage', u'command', u'code'], [u'bad', u'hard'], [u'find', u'really', u'hard', u'join', u'chat'], [u'push', u'notification', u'break', u'always'], [u'slack', u'mobile', u'version', u'responsive', u'instal', u'online', u'course', u'do', u'not', u'anything', u'slack', u'really', u'tempt', u'something', u'love', u'ufe'], [u'upload', u'suck', u'nifty', u'ergonomic', u'elsewhere'], [u'can', u'not', u'sign', u'already', u'account', u'workspace', u'option', u'create', u'new', u'account', u'say', u'send', u'email', u'information', u'receive'], [u'innovative', u'product', u'really', u'helpful'], [u'awful', u'sign', u'experience', u'spend', u'hour', u'probably', u'email', u'verification', u'send', u'group', u'invite', u'join', u'do', u'not', u'ear', u'sync', u'open', u'browser', u'confusing'], [u'great', u'way', u'keep', u'touch', u'staff', u'co', u'worker'], [u'great', u'many', u'company'], [u'confuse', u'have', u'ever', u'use', u'spend', u'minute', u'still', u'can', u'not', u'login', u'guy', u'must', u'seriously', u'meeting', u'make', u'difficult', u'slack', u'browser', u'want', u'phone', u'give', u'ability'], [u'simply', u'good'], [u'good', u'design', u'functionality'], [u'good'], [u'new', u'look', u'great', u'far'], [u'make', u'phone', u'slow', u'slack', u'desktop', u'version'], [u'organization', u'use', u'conversation', u'mean', u'search', u'file', u'convos', u'far', u'back', u'time'], [u'help', u'communicate', u'team'], [u'good', u'developer'], [u'keep', u'crash', u'huawei', u'mate'], [u'audio', u'call', u'performance', u'poor', u'often', u'show', u'call', u'instead', u'open', u'desktop', u'slack', u'often', u'difficulty', u'connect', u'great', u'apart'], [u'take', u'forever', u'load', u'even', u'fast', u'stable', u'wi', u'fi'], [u'unable', u'call', u'anyone', u'dissatisfied'], [u'use', u'year', u'find', u'issue', u'far', u'also', u'desktop', u'thank'], [u'good', u'collaborative', u'work', u'productive'], [], [u'would', u'good', u'android', u'user', u'option', u'refresh', u'connection', u'drop', u'connect'], [u'hard', u'find', u'work', u'hard', u'add', u'people', u'slackbot', u'annoying'], [u'slow', u'speed', u'file', u'download', u'strange', u'work', u'notification'], [u'nice'], [u'great', u'great', u'team', u'good', u'release_note', u'thank'], [u'pricy'], [u'great', u'would', u'could', u'black', u'theme'], [u'support', u'already', u'activate', u'account', u'office', u'manually', u'add', u'workspace', u'sign', u'android', u'evaluate', u'product', u'small', u'business', u'thank'], [u'usually', u'great', u'experience', u'ever', u'get', u'update', u'do', u'not', u'open', u'behaf', u'weirdly', u'try', u'open', u'flash', u'screen', u'white', u'repeatedly', u'epileptic', u'would', u'get', u'seizure', u'sure'], [u'need', u'lot'], [u'what', u's', u'wrong', u'yesterday', u'desktop', u'work', u'fine', u'could', u'not', u'login'], [u'team', u'use', u'daily', u'problem', u'do', u'not', u'get', u'notification', u'ongoing', u'conversation', u'personal', u'message', u'phone', u'frustrating', u'go', u'check', u'hen', u'forget', u'check', u'team', u'member', u'do', u'not', u'get', u'reply', u'time', u'annoy', u'correct', u'issue', u'uninstall', u'instal', u'mobile', u'time', u'problem', u'continue'], [], [u'think', u'new', u'icon', u'collection', u'terrible', u'old', u'one'], [u'can', u'not', u'access', u'slack', u'phone', u'crash', u'launchinh'], [u'love', u'easy'], [u'need', u'search', u'direct', u'message', u'conversation', u'different', u'workspace'], [u'help', u'do', u'not', u'know', u'connect', u'login', u'slack', u'use', u'sso', u'office', u'use'], [u'let', u'tell', u'something', u'go', u'percent', u'suicidal', u'female', u'do', u'not', u'download', u'takin', u'suicidal', u'do', u'not', u'download'], [u'greatt'], [u'quite', u'handy', u'lication', u'must', u'admit', u'new', u'already', u'loving'], [u'lack', u'dark', u'theme', u'year', u'ludicrous', u'especially', u'android', u'accord', u'twitter', u'account', u'much', u'request', u'feature', u'least', u'year'], [u'useful', u'could', u'hear', u'notification', u'sound', u'quiet', u'can', u'not', u'select', u'notification', u'sound', u'instead', u'restrict', u'difficulty', u'notification', u'slack', u'triall', u'team', u'seriously', u'disoint'], [u'love', u'easy', u'sort', u'practice', u'many', u'people', u'would', u'rather', u'deal', u'chaos', u'twitter', u'group', u'dms', u'talk', u'guy', u'slack', u'much', u'good'], [u'good', u'management'], [u'add', u'voice', u'message', u'support', u'similar', u'whatsapp'], [u'change', u'mind', u'love'], [u'new', u'update', u'can', u'not'], [u'work', u'better'], [u'constantly', u'hang', u'recently'], [u'useful', u'heavy', u'simple', u'usage', u'maybe', u'need', u'create', u'slack', u'lite', u'version'], [u'app', u'can', u'not', u'reliably', u'upload', u'picture', u'regardless', u'internet', u'quality', u'type', u'good', u'messaging', u'will', u'not', u'message'], [u'wish', u'could', u'actually', u'get', u'let', u'enter', u'login', u'info', u'manually', u'do', u'not', u'email', u'phone'], [u'constantly', u'show', u'unread', u'message', u'even', u'have', u'read', u'anything'], [u'multiple', u'workspace', u'support', u'add'], [u'really', u'good', u'streamline', u'project', u'work', u'multiple', u'thing', u'different', u'team'], [u'ferarri', u'app'], [u'perfect', u'perfect', u'add', u'direct', u'reply', u'msg', u'notification'], [u'great', u'school', u'group'], [u'push', u'notification', u'work'], [u'perfect', u'team', u'communication'], [u'super'], [u'really', u'amazing'], [u'nice'], [u'decent', u'least', u'android', u'replying', u'notification', u'almost', u'always', u'fail', u'experience', u'pixel'], [u'streamline', u'work', u'cut', u'slack', u'cut', u'clutter', u'prevent', u'procrastination', u'distraction', u'systematis'], [u'need', u'see', u'screen', u'person', u'call', u'slack', u'desktop'], [u'honestly', u'client', u'freakin', u'suck'], [u'cool'], [u'want', u'custom', u'emoji', u'import', u's', u'website', u'several', u'emoji', u'create', u'new', u'one', u'dramatic', u'effect', u'time', u'want', u'need', u'website', u'change', u'log', u'user', u'useful', u'way', u'also', u'support', u'staff', u'care', u'enough', u'read', u'comment'], [u'performance', u'issue', u'need', u'enhance', u'performance'], [u'app', u'annoying', u'dark', u'theme'], [u'update', u'take', u'long', u'time', u'sync', u'could', u'not', u'see', u'do', u'use', u'alack', u'desktop', u'earlier', u'lication', u'great'], [u'nothing', u'headache', u'have', u'instal', u'sport', u'podcast', u'instead', u'notification', u'drop', u'also', u'push', u'active', u'screen', u'slightly', u'back', u'make', u'difficult', u'type', u'pick', u'something', u'try', u'pick', u'difficult', u'get', u'snooze', u'mode', u'difficult', u'have', u'not', u'actually', u'figure', u'do', u'not', u'need', u'blue', u'notification', u'tell', u'unread', u'message', u'have', u'read', u'message'], [u'think', u'much', u'better', u'set', u'chat', u'background', u'black', u'light', u'colour', u'text', u'option', u'theme', u'set', u'background', u'foreground', u'color', u'chat', u'wondow', u'can', u'not', u'slack'], [u'try', u'team', u'work', u'want', u'whatsapp', u'group', u'currently', u'basically', u'thing'], [u'do', u'not', u'get', u'notification', u'half', u'time', u'usually', u'manually', u'open', u'see', u'update', u'miss', u'day', u'ago', u'manually', u'check', u'thread', u'make', u'sure', u'have', u'not', u'miss', u'something', u'would', u'delete', u'snap', u'be', u'not', u'require', u'group', u'leader'], [u'good', u'communication'], [u'feature', u'reply', u'particular', u'message', u'star', u'message', u'edit', u'check', u'update', u'version', u'response', u'option', u'particular', u'message', u'liar', u'let', u'know', u'email', u'would', u'send', u'screenshot', u'proof'], [u'give', u'password', u'case', u'phone', u'need', u'reset'], [u'great'], [u'allow', u'disable', u'peek', u'head', u'notification', u'phone', u'stick', u'invade', u'screen', u'notification'], [u'cool'], [u'app', u'crash', u'launch', u'recent', u'update'], [u'nice'], [u'esometh', u'go', u'wrong', u'try', u'later', u'can', u'not', u'see', u'third', u'workspace', u'notification', u'often', u'do', u'not', u'come'], [u'interface', u'much', u'good', u'social', u'lack', u'feature', u'mobile', u'version', u'always', u'access', u'computer', u'manage', u'user', u'extremely', u'frustrating', u'self', u'employ', u'business'], [u'fan', u'require', u'let', u'website'], [u'send', u'video', u'cool', u'could', u'learn', u'naver', u'line', u'telegram'], [u'great', u'store'], [u'soooo', u'complicated', u'get', u'start'], [u'complicated', u'world', u'do', u'not', u'get', u'popular', u'guess', u'intend', u'read', u'page', u'manual', u'find', u'way'], [u'sometimes', u'difficuct', u'download'], [u'app', u'optimize', u'chromebook'], [u'love', u'friend', u'frequently', u'discuss', u'sort', u'topic', u'lately', u'have', u'trouble', u'notification', u'samsung', u'galaxy', u'note', u'have', u'not', u'receive', u'mobile', u'notification', u'have', u'check', u'setting', u'run', u'troubleshooting', u'have', u'not', u'able', u'solve'], [u'perfect', u'match'], [u'shut', u'time', u'try', u'add', u'pic', u'profile', u'gallery'], [u'newly', u'instal', u'able', u'create', u'workspace', u'stuck', u'password', u'tell', u'error', u'occur', u'try', u'ton', u'password', u'sure', u'pasaword', u'fulfilling', u'rule', u'criterion', u'can', u'not', u'begin'], [u'discord', u'ripoff'], [u'dark', u'theme'], [], [u'be', u'sure', u'currently', u'notification', u'come', u'late', u'message', u'even', u'have', u'already', u'read', u'message'], [u'offical', u'messanger'], [u'keep', u'get', u'bad', u'time', u'seem', u'focus', u'feature', u'instead', u'quality', u'quite', u'long', u'outstanding', u'bug', u'have', u'not', u'fix'], [u'nice', u'maintain', u'team', u'communication', u'team', u'member'], [u'take', u'long', u'load', u'have', u'clear', u'cache', u'everything', u'do', u'not', u'change', u'anything', u'notification', u'clunky', u'well', u'instance', u'receive', u'message', u'read', u'respond', u'hour', u'tell', u'new', u'message', u'see', u'message', u'already', u'respond', u'still', u'have', u'not', u'fix', u'call', u'issue'], [u'lately', u'become', u'frustrating', u'time', u'search', u'user', u'switch', u'dms', u'channel', u'actually', u'show', u'message', u'send', u'channel', u'press', u'send', u'become', u'increasingly', u'laggy', u'sometimes', u'sec', u'lag', u'clear', u'great', u'start', u'feel', u'hen', u'time', u'leave', u'come', u'back'], [u'good', u'talk', u'friend', u'that', u's'], [u'good', u'internal', u'communication', u'organization'], [u'bad', u'ever'], [u'really', u'shock', u'badly', u'fail', u'transition', u'mobile', u'datum', u'wifi', u'voice', u'call', u'do', u'not', u'end', u'call', u'kill', u'get', u'reconnect', u'loop'], [u'amazing', u'tool'], [u'great'], [u'good', u'aap'], [u'subscription', u'team', u'call', u'need', u'rather', u'go', u'discord', u'thank'], [u'bad', u'workspace', u'confusing', u'tutorial', u'learn', u'max', u'experienced'], [u'good', u'file', u'transfer'], [u'disgusting', u'can', u'not', u'make', u'call', u'recepient', u'do', u'not', u'receive', u'incoming', u'call', u'notification', u'get', u'miss', u'call', u'message', u'still', u'call', u'nevertheless', u'press', u'end', u'call', u'still', u'hear', u'ring', u'sound', u'kill', u'phone', u'play', u'sound', u'headphone', u'mic', u'unusable'], [u'hate', u'see', u'notification', u'able', u'see', u'message', u'specially', u'low', u'bandit', u'network', u'take', u'age', u'never', u'hen', u'need', u'wonder', u'message', u'notification', u'message', u'content', u'retrieve', u'different', u'payload'], [u'do', u'not', u'give', u'notification', u'oneplus', u'android', u'mobile', u'kindly', u'resolve', u'issue'], [u'sleek'], [u'love'], [u'useless', u'never', u'download', u'waste', u'time'], [u'name', u'pretty', u'ironically', u'would', u'say'], [u'well', u'market', u'mostly', u'functional', u'chat', u'push', u'notification', u'do', u'not', u'work', u'large', u'proportion', u'time', u'interface', u'slow', u'clunky'], [u'slack', u'embrace', u'premise', u'simplicity', u'good', u'sense', u'humour', u'make', u'teamwork', u'communication', u'cinch', u'could', u'hier'], [u'great', u'workplace', u'communication'], [u'background', u'notification', u'receive', u'redmi', u'note'], [u'great', u'workplace', u'communication'], [u'unable', u'create', u'new', u'workspace'], [u'app', u'okayish', u'often', u'show', u'unread', u'message', u'tap', u'actual', u'conversation', u'there', u's', u'nothing', u'new', u'almost', u'always', u'turn', u'actually', u'new', u'message', u'take', u'minute', u'multiple', u'refresh', u'see', u'detect', u'new', u'message', u'immediately', u'fetch', u'keep', u'load', u'ready', u'display', u'also', u'button', u'marking', u'channel', u'conversation', u'unread', u'badly', u'missing'], [u'great', u'madden', u'league'], [u'get', u'crash', u'continuously', u'moto'], [u'able', u'good', u'satisfaction'], [u'great', u'programmeer'], [u'still', u'dark', u'mode', u'add', u'dark', u'mode', u'coward', u'year', u'dark', u'mode'], [u'great'], [u'good', u'app'], [u'current', u'update', u'samsung', u'tab', u'pen', u'keep', u'crash', u'update', u'ago', u'reboot', u'tablet', u'do', u'not', u'work', u'what', u's', u'hening'], [u'perfect', u'be', u'computer'], [u'amazing'], [u'awesome'], [u'android', u'widget', u'shortcut', u'chat', u'group', u'individual'], [u'great'], [u'good', u'platform', u'company', u'purpose'], [u'outstanding', u'inside', u'channel', u'layer', u'easily', u'get', u'focus', u'customize', u'enough', u'add', u'traditional', u'chinese', u'version', u'questionnaire', u'function'], [u'team', u'communication'], [u'great'], [u'amazing', u'problem', u'time', u'can', u'not', u'reply', u'push', u'notification', u'send', u'message', u'api', u'push', u'notification', u'may', u'work', u'properly', u'always', u'connect', u'internet', u'office', u'fix'], [u'can', u'not', u'sign', u'be', u'not', u'work'], [u'add', u'custom', u'notification', u'setting', u'look', u'next', u'sm', u'inspiration', u'repeat', u'vibration', u'interval', u'case', u'miss', u'first', u'incredibly', u'useful', u'thank'], [u'love', u'kinda', u'upper', u'hand', u'groupme', u'really', u'wish', u'guy', u'could', u'implement', u'video', u'sharing', u'gif', u'support', u'message', u'board', u'would', u'give', u'star', u'great'], [u'useful', u'communication', u'tool', u'put', u'away', u'endless', u'email', u'strand', u'attachment', u'slack'], [u'able', u'login', u'slack'], [u'do', u'not', u'send', u'confirmation', u'email', u'try', u'sign'], [u'push', u'notification', u'work', u'miss', u'important', u'message', u'due', u'help', u'fix'], [u'chi'], [u'bad', u'ui', u'well', u'bad', u'user', u'experience', u'do', u'not', u'privacy', u'slack', u'do', u'not', u'tell'], [u'really', u'useful'], [u'unusable', u'samsung', u'dex'], [u'do', u'not', u'deliver', u'notification', u'correctly', u'be', u'channel', u'set', u'push', u'notify', u'message', u'today', u'miss', u'meeting', u'day', u'channel', u'discuss', u'knowledge', u'single', u'notification', u'slack', u'definitely', u'go', u'displace', u'email', u'literally', u'single', u'chat', u'system', u'have', u'use', u'kik', u'basic', u'sm', u'get', u'right', u'slack', u'can', u'not', u'experience', u'immediately', u'switch', u'evangelist', u'naysayer', u'epic', u'fail', u'update', u'still', u'issue', u'deliver', u'notif', u'decide', u'stop', u'show', u'image', u'reinstall', u'pathetic', u'many', u'people', u'rely', u'awful', u'tool', u'can', u'not', u'imagine', u'productivity', u'loss', u'suffer', u'aggregate', u'also', u'slack', u'team', u'lot', u'review', u'notification', u'issue', u'respond', u'tell', u'user', u'email', u'make', u'look', u'dumb', u'try', u'fix', u'instead'], [u'app', u'speed', u'need', u'optimize', u'fast', u'little', u'bit', u'slow'], [u'never', u'seem', u'get', u'notification', u'manually', u'open', u'slack', u'priority', u'status', u'device', u'technically', u'override', u'notification', u'text', u'messenger', u'whatsapp', u'never', u'seem', u'get', u'notification'], [u'implement', u'ctrl', u'shortcut', u'android', u'similar', u'web', u'desktop', u'muscle', u'memory', u'keep', u'press', u'switch', u'message', u'old', u'review', u'make', u'movable', u'sdcard', u'android'], [u'constantly', u'get', u'auto', u'kill', u'background', u'never', u'receive', u'push', u'notification', u'manually', u'open', u'message', u'phone', u'oneplus', u'whatsapp', u'instagram', u'wechat', u'work', u'fine', u'sure', u'need', u'do', u'keep', u'push', u'notification', u'come', u'kill', u'would', u'get', u'star', u'easily', u'fix'], [u'perfect', u'professional', u'life'], [u'good'], [u'great', u'think', u'earn', u'money', u'market'], [u'easily', u'good', u'messaging', u'time', u'public', u'private', u'channel', u'thread', u'even', u'group', u'direct', u'message', u'contain', u'conversation', u'need', u'include', u'people', u'need', u'emoji', u'custom', u'emoji', u'reaction', u'post', u'post', u'ice', u'delicious', u'cake', u'thank', u'slack', u'be'], [u'serious', u'connectivity', u'issue', u'mobile', u'send', u'image', u'hit', u'miss', u'slack', u'mobile', u'fart', u'attack', u'try', u'stay', u'connected', u'gigabit', u'fiber', u'connection'], [u'really', u'love', u'clean', u'design', u'attractive', u'eye', u'even', u'do', u'not', u'sometimes', u'click', u'admire', u'design', u'well', u'do', u'however', u'know', u'people', u'indeed', u'super', u'functional', u'great', u'work', u'guy'], [u'fantastic', u'innovation', u'superb', u'user', u'experience'], [u'open', u'crash', u'time', u'bad'], [u'good', u'lication', u'share', u'communicate', u'datum', u'industry'], [u'love', u'awesome', u'intuitive', u'option', u'great', u'use', u'love', u'awesome', u'awesome'], [u'changelog', u'play', u'perfect', u'messaging', u'work', u'relate', u'stuff', u'complaint'], [u'wonderful', u'developer', u'actually', u'listen', u'feedback'], [u'boo'], [u'sometimes', u'do', u'not', u'sync', u'desktop'], [u'overall', u'useful', u'find', u'user', u'interface', u'abismal', u'confusing', u'add', u'workspace'], [u'good', u'job', u'slack', u'team'], [u'good', u'hope', u'update', u'specially', u'notification'], [u'can', u'not', u'login', u'exist', u'slack', u'account'], [u'cool', u'stay', u'touch', u'entire', u'team', u'regard', u'meeting', u'date', u'workplace', u'information'], [u'good'], [u'make', u'new', u'channel', u'text', u'view', u'buggy'], [u'love', u'really', u'help', u'get', u'close', u'agency', u'member'], [u'can', u'not', u'invite', u'mobile', u'number', u'available'], [u'add', u'feature', u'send', u'code', u'mobile', u'otherwise', u'great', u'ufe'], [u'awesome'], [u'seamless', u'easy'], [u'really', u'helpful'], [u'notification', u'optimise', u'android', u'option', u'notification', u'full', u'notification'], [u'good'], [u'useful'], [u'bad'], [u'amazing'], [u'awesome', u'lication', u'thank', u'great', u'lication', u'work', u'slack', u'team'], [u'would', u'great', u'could', u'get', u'push', u'notification', u'keep', u'literally', u'open'], [u'awesome', u'chat', u'people', u'organise'], [u'love'], [u'help', u'pass', u'message', u'faster'], [u'fantastic', u'app'], [u'can', u'not', u'disable', u'pop', u'notification', u'want', u'sound', u'want', u'icon', u'do', u'not', u'want', u'stupid', u'shade', u'top', u'screen', u'way', u'fix', u'oreo', u'upgrade', u'could', u'least', u'stop', u'pop', u'give', u'sound', u'less', u'ideal'], [u'nice', u'work', u'team'], [u'awesome'], [u'awesome', u'indeed'], [u'comm', u'pm', u'tool', u'great'], [u'slack', u'really', u'great', u'useful', u'workplace', u'volunteer', u'stay', u'connected', u'really', u'user', u'friendly'], [u'android', u'used', u'work', u'anyone', u'android', u'company', u'try', u'open', u'share', u'file', u'crash', u'shut', u'normally', u'feature', u'daily', u'send', u'feedback'], [u'pass', u'go', u'can', u'not', u'even', u'get', u'email', u'begin', u'create', u'work', u'space', u'uninstall', u'reinstall', u'still', u'hopeless'], [u'efficient', u'app', u'group', u'interaction'], [u'dark', u'theme', u'want', u'feature', u'would', u'consider', u'implement'], [u'awesome'], [u'good'], [u'useful', u'great', u'tool', u'team', u'manage', u'project', u'thing', u'hope', u'image', u'get', u'compressed', u'send', u'would', u'helpful', u'slow', u'interent', u'connection'], [u'memory', u'heavy', u'slow', u'run', u'clunky'], [u'update', u'bad', u'notification', u'get', u'notification', u'keep', u'stop', u'work', u'night', u'do', u'not', u'open', u'morning', u'will', u'not', u'receive', u'notification', u'rest', u'day'], [u'least', u'android', u'horrible', u'keyboard', u'get', u'stick', u'frequently', u'freeze', u'crash', u'datum', u'do', u'not', u'synch', u'several', u'minute', u'open', u'completely', u'useless', u'hipchat', u'much', u'much', u'good', u'unfortunately', u'place', u'work', u'use', u'slack', u'be', u'stuck', u'stupid'], [u'there', u's', u'specific', u'bug', u'use', u'voice', u'call', u'slack', u'sometimes', u'slack', u'do', u'not', u'realize', u'call', u'finish', u'even', u'try', u'make', u'new', u'call', u'do', u'not', u'hen', u'think', u'easy', u'reproduce', u'hen', u'time'], [u'solid', u'notification', u'part', u'sync', u'read', u'desktop', u'easy', u'pain', u'point', u'sharing', u'image', u'slack', u'cause', u'lag', u'choose', u'channel', u'share', u'otherwise', u'work', u'great'], [u'brilliant'], [u'complicated', u'log'], [u'need', u'able', u'move', u'card'], [u'main', u'issue', u'privacy', u'ip', u'company', u'partner', u'think', u'may', u'good', u'workspace', u'place', u'conversation', u'seem', u'option', u'hide', u'content', u'preview', u'notification', u'get', u'badge', u'notification', u'alone', u'bothersome', u'phone', u'music', u'navigation', u'need', u'everyone', u'see', u'private', u'conversation', u'probably', u'go', u'recommend', u'something', u'else', u'literally', u'message', u'existence', u'privacy', u'guy', u'issue'], [u'need', u'work', u'can', u'not', u'write', u'message', u'anyone'], [u'get', u'night', u'mode'], [u'download', u'have', u'not', u'time', u'set', u'yet', u'notification', u'non', u'stop', u'pester', u'uninstalled', u'instead'], [u'saldy', u'do', u'not', u'work', u'try', u'log', u'first', u'time', u'say', u'can', u'not', u'find', u'account', u'workplace', u'send', u'magic', u'email', u'do', u'not', u'work', u'well', u'email', u'arrive', u'account', u'also', u'spam', u'check', u'fine', u'desktop', u'guess', u'get', u'stay'], [u'really', u'helpful', u'communicate', u'team'], [u'notification', u'break', u'work', u'reboot', u'phone', u'couple', u'hour', u'later', u'stop', u'receive', u'work', u'need', u'reliable', u'notification'], [u'need', u'dark', u'mode'], [u'think', u'little', u'good', u'clarity', u'hearing', u'voice', u'slack'], [u'able', u'receive', u'notification', u'late', u'update'], [u'unable', u'run', u'kind', u'sd', u'card', u'huge', u'downside', u'obviously', u'anyon', u'main', u'messaging', u'one', u'go', u'want', u'hogging', u'internal', u'memory'], [u'can', u'not', u'live'], [u'good'], [u'useful'], [u'guy', u'remove', u'option', u'reorder', u'workspace'], [u'try', u'confirm', u'email', u'slack', u'symbol', u'go', u'circle', u'nothing', u'come', u'gitch'], [u'slack', u'spiritual', u'community', u'effective', u'cover', u'various', u'team', u'communication', u'separately', u'collectively'], [u'app', u'company', u'need', u'communicate', u'efficiently'], [u'add', u'auto', u'rotate', u'screen', u'image', u'viewer', u'annoying', u'turn', u'system', u'setting', u'time'], [u'there', u's', u'slice', u'bread', u'there', u's', u'slack'], [u'company', u'switch', u'messenger', u'efficient', u'effortless', u'easy', u'way', u'share', u'information', u'format'], [u'extremely', u'dissapointed', u'hummus', u'notification', u'option'], [u'channel', u'refresh', u'push', u'notification', u'show', u'new', u'message', u'profile', u'refresh', u'look', u'lot', u'unnecessary', u'caching'], [u'update', u'seem', u'incrementally', u'make', u'slack', u'bad', u'today', u'surprise', u'slack', u'long', u'default', u'share', u'message', u'channel', u'be', u'currently', u'select', u'channel', u'manually', u'time', u'want', u'share', u'something', u'come', u'idea'], [u'late', u'update', u'can', u'not', u'download', u'file', u'device', u'open', u'need', u'forward', u'document', u'somewhere', u'will', u'not'], [u'contain', u'embed', u'tracker', u'uninstall'], [u'show', u'person', u'name', u'thread', u'name', u'toolbar', u'ne', u'click', u'drop', u'see', u'name'], [u'app', u'suddenly', u'start', u'crash', u'single', u'time', u'tag', u'someone', u'galaxy', u'someone', u'fix', u'asap', u'half', u'work', u'mobile', u'able', u'tag', u'really', u'hurt', u'productivity'], [u'good', u'team'], [u'good'], [u'awesome'], [u'nice'], [u'web', u'developer', u'find', u'slack', u'really', u'helpful', u'project', u'management', u'love', u'way', u'slack', u'link', u'service', u'altogether'], [], [u'really', u'need', u'state', u'flag', u'emojis', u'tho'], [u'crash', u'start'], [u'great', u'app', u'work', u'environment'], [u'option', u'delete', u'party', u'conversation'], [u'always', u'crash', u'be', u'use', u'android'], [u'good', u'send', u'message', u'friend', u'work', u'colleague', u'do', u'not', u'even', u'need', u'phone', u'number', u'email', u'link', u'interface', u'need', u'polish', u'simple', u'main', u'gripe', u'oreo', u'os', u'say', u'heavily', u'use', u'battery', u'fix'], [u'frequently', u'close', u'automatically', u'use', u'android', u'base', u'mobile', u'able', u'open', u'flash', u'sec', u'crash', u'immediately'], [u'awesome', u'internal', u'comms', u'platform', u'easy'], [u'slow', u'unreliable', u'bad', u'chat', u'ever'], [u'keep', u'connect', u'wi', u'fi', u'bad', u'lication'], [u'awesome'], [u'sometimes', u'loose', u'important', u'message', u'always', u'show', u'notification', u'send', u'mobile', u'credential', u'reproduce', u'side'], [u'take', u'half', u'hour', u'get', u'second', u'glimpse', u'work', u'group', u'crash', u'can', u'not', u'get', u'back', u'could', u'see', u'group', u'manage', u'dialogue', u'find', u'can', u'not', u'dialogue', u'talk', u'utter', u'rubbish'], [u'love'], [u'love'], [u'slack', u'stay', u'connected', u'remote', u'team', u'work', u'good', u'stay', u'connected', u'go', u'miss', u'tiny', u'useful', u'thing', u'notification', u'badge', u'sure', u'visible', u'android', u'device', u'see', u'iphone'], [u'great', u'work', u'team', u'functional', u'effective'], [u'good'], [u'expor', u'use', u'slack', u'year', u'simple', u'statement', u'slack', u'serious', u'work', u'chat', u'team', u'project', u'can', u'not', u'live', u'slack', u'thank'], [u'use', u'year', u'good', u'way', u'communicate', u'office', u'guy', u'girl', u'wish', u'screen', u'share', u'video', u'option', u'free'], [u'good'], [u'beautiful', u'app', u'workspace', u'make', u'simple'], [u'slack', u'chance', u'company', u'people', u'culture'], [u'great', u'idea', u'really', u'like', u'highly', u'suggest', u'voice', u'message', u'feature', u'sometimes', u'work', u'become', u'stressed', u'something', u'need', u'do', u'asap', u'manager', u'time', u'write', u'long', u'paragraph', u'add', u'soon', u'thank', u'great'], [u'helpful', u'discreet'], [u'awesome', u'chance', u'intergrate', u'many', u'tool', u'cd', u'trello', u'jira'], [u'discord', u'workplace'], [u'crash', u'pixel', u'constantly', u'discord', u'productive', u'mean', u'gamer', u'do', u'not', u'install', u'want', u'phone', u'reboot', u'hour'], [u'perfect'], [u'awesome'], [u'think', u'provide', u'access', u'slack', u'android', u'mobile', u'internet', u'would', u'really', u'helpful', u'provide', u'access', u'laptop'], [u'make', u'service', u'free'], [u'really', u'good', u'wish', u'would', u'video', u'call', u'also', u'normal', u'call', u'quality', u'really', u'good', u'giving', u'star', u'need', u'email', u'access', u'contact', u'voice', u'call'], [u'problem', u'notification', u'usually', u'guarantee', u'ill', u'get', u'notification', u'therefore', u'check', u'message', u'manually'], [u'slack', u'picky', u'network', u'connection', u'suitable', u'intermittent', u'connection', u'field', u'engineer', u'deploy', u'various', u'place', u'network', u'less', u'stellar', u'slack', u'suitable', u'option', u'bandwidth', u'reliability', u'need', u'send', u'text', u'message', u'insane', u'slack', u'also', u'do', u'not', u'offer', u'feature', u'resize', u'compress', u'photo', u'fly', u'would', u'messenger', u'what', u's', u'do', u'not', u'work', u'well', u'smartphon', u'camera', u'graphic', u'work', u'accuracy', u'fidelity', u'need', u'quite', u'often', u'need', u'show', u'visually', u'situation', u'slack', u'video', u'voice', u'call', u'also', u'unreliable', u'simply', u'never', u'connect', u'always', u'revert', u'what', u's', u'would', u'work', u'perfectly', u'client', u'demand', u'network', u'slack', u'ne', u'understand', u'constraint', u'field', u'user'], [u'get', u'repeat', u'alert', u'slack', u'drain', u'battery', u'often', u'fact', u'drain', u'reason', u'android', u'os', u'keep', u'warn', u'fix', u'behaviour'], [u'never', u'get', u'pass', u'create', u'password', u'screen', u'stupid', u'matter', u'password', u'enter', u'keep', u'get', u'error', u'tey'], [u'efficient', u'pretty', u'slow', u'seem', u'drain', u'fair', u'bit', u'battery'], [u'try', u'create', u'channel', u'workspace', u'able', u'type', u'channel', u'name', u'correctly', u'end', u'double', u'letter', u'even', u'think', u'press', u'try', u'restart', u'error', u'still', u'occur', u'hope', u'bug', u'fix', u'soon'], [u'app', u'do', u'not', u'allow', u'set', u'new', u'group', u'can', u'not', u'get', u'anything', u'do', u'planning', u'help'], [u'amazing', u'loved', u'man'], [u'best', u'ever', u'see', u'administration', u'superb', u'good', u'job', u'guy', u'best', u'thnx', u'serve'], [u'love', u'release_note', u'guy', u'thank', u'good', u'service'], [u'slack', u'device', u'however', u'old', u'device', u'samsung', u'tablet', u'timezone', u'change', u'time', u'reset', u'read', u'message', u'show', u'pm', u'stead', u'change', u'timezone', u'arently', u'also', u'sync', u'problem', u'slack', u'slow', u'message', u'sync', u'facebook', u'messenger', u'fast', u'device', u'message', u'update', u'type', u'device', u'slow', u'uploading', u'picture', u'pain', u'upload', u'time', u'consume', u'rely', u'fiance', u'tell'], [u'discord', u'different', u'name', u'disoint'], [u'slack', u'really', u'bad', u'get', u'hang', u'time', u'wonderful', u'classwork', u'ect'], [u'useless'], [u'allow', u'enter', u'slack', u'crash'], [u'close', u'image', u'completely', u'obscure'], [u'add', u'option', u'mute', u'individual', u'chat'], [u'amazed', u'secure'], [u'guy', u'get', u'fix', u'notification', u'everyone', u'know', u'rock', u'slack', u'android', u'miss', u'notification', u'go'], [u'useful', u'great', u'team'], [u'serious', u'sync', u'issue'], [u'simple', u'work', u'expect'], [u'think', u'fully', u'functional', u'port', u'team', u'messenger', u'recommend'], [u'great'], [u'do', u'not', u'get', u'notify'], [u'useful', u'can', u'not', u'notify', u'new', u'message', u'come'], [u'night', u'mode', u'dark', u'background', u'option', u'would', u'still', u'great', u'better', u'ol', u'screen', u'plan', u'implement', u'thing', u'even', u'bother', u'let', u'user', u'customize', u'sidebar', u'true', u'pc', u'browser', u'version', u'mid', u'message', u'history', u'limit', u'similar', u'program', u'restriction', u'bar', u'replace', u'old', u'still', u'stupid', u'frustrating', u'take', u'way', u'screen', u'space', u'fat', u'finger', u'touch', u'accurately', u'avoid', u'press', u'function', u'mean', u'complementary', u'typing', u'slack', u'mobile', u'ui', u'seem', u'add', u'button', u'complexity', u'particularly', u'strong', u'reason', u'honestly', u'discord', u'try', u'eal', u'gamer', u'thing', u'may', u'actually', u'change', u'would', u'late'], [u'good'], [u'amazing'], [u'good'], [u'notification', u'completely', u'unreliable', u'old', u'device', u'slow', u'load', u'take', u'age', u'figure', u'switch', u'workspace', u'what', u's', u'wrong', u'menu', u'item', u'slack', u'ok', u'fail', u'crucial', u'basic', u'functionality'], [u'good'], [u'notification', u'unreliable', u'ill', u'often', u'open', u'find', u'multiple', u'new', u'message', u'various', u'channel', u'do', u'not', u'receive', u'notification'], [u'good', u'pc', u'android'], [u'love'], [u'awesome'], [u'great', u'great', u'phenomenal', u'student', u'org', u'think', u'keep', u'star', u'widget', u'would', u'love', u'see', u'widget', u'see', u'thread', u'opening'], [u'nice'], [u'do', u'not', u'know', u'review', u'high', u'unreliable', u'phone', u'many', u'notification', u'issue'], [u'would', u'great', u'android', u'auto', u'integration', u'mobile', u'sale', u'guy', u'receive', u'respond', u'slack'], [u'many', u'bug', u'late', u'notification', u'chat', u'take', u'forever', u'sync', u'message', u'need', u'serious', u'work'], [u'good'], [u'service', u'slow', u'often', u'poor', u'error', u'handle', u'delete', u'edit', u'message', u'instead', u'update', u'buggy'], [u'hell', u'update', u'slack', u'work', u'anymore'], [u'amazing', u'need', u'little', u'change', u'do'], [u'good', u'team', u'manage', u'task', u'communication'], [u'good', u'app', u'feature', u'need', u'right', u'must', u'confirm', u'quit', u'otherwise', u'ok'], [u'thank'], [u'try', u'syncyu', u'social', u'networking', u'android', u'app', u'play', u'store'], [u'handy', u'type', u'chat', u'group', u'less', u'bandwidth'], [u'install', u'personal', u'device', u'dare', u'take', u'time', u'work', u'keep', u'bug', u'maximum', u'amount', u'time', u'mute', u'notification', u'hrs', u'cool'], [u'fair', u'enough', u'sometimes', u'stop', u'work'], [u'good', u'team', u'chat'], [u'add', u'really', u'useful'], [u'innovative'], [u'ncoic', u'promise', u'lead', u'app', u'ufe'], [u'change', u'log', u'earn', u'solid', u'star'], [u'awesome', u'way', u'connect', u'fellow', u'colleague'], [u'really', u'useful', u'case', u'access', u'computer', u'laptop'], [u'detailed', u'humorous', u'change', u'log'], [u'ever', u'frustrating', u'message', u'take', u'load', u'developer', u'fix', u'priority', u'tiresome', u'inconvenient', u'wait', u'important', u'message', u'display', u'open', u'launching'], [u'come', u'chat', u'stay', u'changelog', u'slack', u'absolute', u'champion', u'provide', u'free', u'service', u'non', u'profit', u'charity'], [u'unusable', u'lication'], [u'simple', u'fast', u'desktop', u'version'], [u'less', u'buggy', u'expect', u'actually', u'have', u'not', u'find', u'anything', u'block', u'anything'], [u'error', u'error', u'user', u'agent', u'permit', u'make', u'oauth', u'authorization', u'request', u'classify', u'embed', u'user', u'agent', u'also', u'know', u'web', u'view', u'policy', u'browser', u'permit', u'make', u'authorization', u'request', u'offer', u'several', u'library', u'sample', u'native', u'perform', u'authorization', u'request', u'browser'], [u'good'], [u'super'], [u'big', u'problem', u'notification', u'sporadic', u'can', u'not', u'depend', u'huge', u'problem', u'anything', u'time', u'sensitive'], [u'great', u'tool', u'communicate', u'co', u'worker', u'problem', u'have', u'see', u'icon', u'show', u'correctly', u'level', u'get', u'tofu', u'instead', u'original', u'icon', u'fix', u'issue', u'thank'], [u'can', u'not', u'remove', u'non', u'admin', u'regular', u'member', u'chanel', u'stupidity', u'complex', u'user', u'experience', u'even', u'account', u'accessible', u'desktop', u'ask', u'create', u'new', u'much', u'confusing', u'tough', u'understand'], [u'tool', u'awesome', u'internal', u'communication', u'company', u'love', u'idea', u'put', u'lovely', u'msgs', u'load', u'start'], [u'fix', u'android', u'make', u'even', u'worse', u'soon', u'open', u'crash'], [u'would', u'give', u'good', u'sound', u'notification', u'app', u'use', u'important', u'information', u'notice', u'need', u'good', u'alert', u'sound', u'do', u'not', u'ever', u'hear', u'weak', u'default', u'sound', u'choice'], [u'system', u'hog', u'enough', u'say'], [u'clearly', u'good', u'communication', u'sleek', u'slack', u'platform'], [u'get', u'notification', u'close', u'signout', u'even', u'set', u'notification', u'useful'], [u'good'], [u'something', u'go', u'wrong', u'try'], [u'user', u'friendly', u'have', u'use', u'almost', u'month', u'perform', u'certain', u'action', u'have', u'deep', u'think', u'time', u'do', u'not', u'need', u'need', u'work'], [u'awesome', u'would', u'sooo', u'useful', u'button', u'access', u'last', u'post', u'accross', u'channel', u'workgroup', u'find', u'be', u'spend', u'much', u'time', u'dig', u'late', u'post'], [u'nice', u'design', u'feature'], [u'personalise'], [u'awesome'], [u'slack', u'bad'], [u'time', u'work'], [u'good'], [u'good', u'communication', u'colleague', u'switch', u'group', u'slow', u'constantly', u'work', u'background', u'get', u'notification', u'draining', u'battery'], [u'easy', u'interoffice', u'communication'], [u'nice', u'initiative', u'wide', u'view', u'also', u'keep', u'mind', u'small', u'aspect', u'detail'], [u'help', u'keep', u'touch', u'colleague', u'go', u'world'], [u'complicate', u'unfriendly', u'take', u'much', u'time', u'find', u'acc', u'register'], [u'could', u'help', u'update', u'conversation', u'disear', u'get', u'back', u'disointment'], [u'unable', u'login', u'work', u'couple', u'day', u'stop', u'work'], [u'android', u'implementation', u'unreliable', u'particularly', u'notification', u'collaboration', u'pov', u'group', u'twitter', u'seem', u'work', u'team', u'do', u'not', u'talk'], [u'notification', u'do', u'not', u'always', u'work', u'send', u'image', u'nightmare', u'get', u'compress', u'send', u'otherwise', u'fine'], [u'emoji'], [u'use', u'good', u'late', u'update', u'pixel', u'continue', u'freeze', u'reboot', u'use', u'slack', u'run', u'background', u'spend', u'week', u'use', u'phone', u'crash', u'almost', u'time', u'day', u'soon', u'remove', u'slack', u'phone', u'stable'], [], [u'good', u'keep', u'contact', u'coworker', u'supervisor'], [u'nice'], [u'simply', u'many', u'invasive', u'permission', u'use', u'alot', u'ton', u'personal', u'info', u'leakage', u'likely', u'uninstall', u'long', u'req'], [u'really', u'slow', u'notification', u'work', u'time', u'time'], [u'love'], [u'great'], [u'want', u'know', u'able', u'track', u'location', u'employee', u'slack'], [u'fine'], [u'channel', u'management', u'pretty', u'good', u'tho'], [u'nice'], [u'communicate', u'madden', u'mobile', u'league', u'handy', u'organize', u'could', u'use', u'resouce', u'great'], [u'bless', u'america'], [u'slack', u'trello', u'together', u'transform', u'work', u'flow', u'excellently', u'implement', u'bug', u'free', u'would', u'hy', u'upgrade', u'pay', u'version', u'budget', u'moment'], [u'great'], [u'keep', u'crash'], [u'good', u'team', u'communication'], [u'awesome'], [u'great', u'would', u'make', u'good', u'could', u'select', u'notification', u'sound'], [u'bug', u'report', u'totally', u'stop', u'work', u'last', u'update', u'multiple', u'team', u'slack', u'slack', u'open', u'open', u'window', u'forever', u'slow', u'phone', u'slack', u'sign', u'total', u'team', u'work', u'upd', u'conversation', u'hope', u'slack', u'better'], [u'always', u'error', u'upload', u'photo', u'uploading', u'file', u'always', u'error'], [u'crash', u'background', u'fail', u'send', u'notification'], [u'good', u'app'], [u'basic', u'ok'], [u'great'], [u'update', u'ear', u'ignore', u'username', u'webhook', u'message', u'ear', u'free', u'account', u'desktop', u'still', u'work', u'normally'], [u'useful', u'easy'], [u'great', u'recent', u'update', u'will', u'not', u'even', u'open', u'phone'], [u'animate', u'gif', u'do', u'not', u'automatically', u'animate', u't', u'first', u'ios', u'work', u't', u'preference', u'miss', u'something'], [u'great'], [u'love', u'descriptive', u'update', u'playful', u'intuitive', u'color', u'scheme', u'make', u'grand'], [u'good', u'tool', u'communication'], [u'great', u'interface', u'easy', u'quick'], [u'connect', u'internet', u'mobile', u'phone', u'telling', u'fail', u'try'], [u'good', u'way', u'slow', u'connect', u'sometimes'], [u'problem', u'face', u'push', u'notification', u'get', u'live', u'notification', u'huge', u'problem'], [u'useful', u'team', u'collaboration'], [u'pour', u'hour', u'companys', u'channel', u'task', u'impossible', u'access'], [u'great', u'keeping', u'team', u'together'], [u'awesome'], [u'may', u'faster'], [u'worst', u'ever', u'instal', u'phone', u'waste', u'time'], [u'connect', u'love', u'one', u'work', u'coz', u'still', u'kinda', u'work', u'home', u'lolllzzz'], [u'awesome', u'user', u'interface', u'tutorial', u'easy', u'beginner', u'love', u'thank'], [u'really', u'great', u'communicate', u'team', u'thank', u'give', u'platform', u'slack', u'get', u'learn', u'many', u'thing', u'slack', u'also', u'different', u'channel', u'idea', u'really', u'great', u'thank', u'slack', u'team'], [u'could', u'maybe', u'let', u'edit', u'time', u'zone', u'track', u'device', u'time', u'dnd', u'setting', u'want', u'change', u'change', u'timezone'], [u'hangout', u'chat', u'rock', u'sorry'], [u'notification', u'feature', u'work', u'sometimes', u'also', u'check', u'status', u'member', u'group', u'always', u'show', u'offline'], [u'great', u'great', u'concept', u'other', u'state', u'notification', u'work', u'properly', u'cause', u'major', u'issue', u'business', u'hope', u'get', u'sort', u'android'], [u'hateit', u'star', u'bc', u'share', u'will', u'not', u'see', u'link', u'self', u'pos', u'list', u'available', u'search'], [u'helpful', u'keeping', u'touch', u'co', u'worker'], [u'push', u'notification', u'work', u'even', u'enable', u'notification', u'message', u'drop', u'support', u'email', u'wait', u'response'], [u'install', u'site', u'do', u'not', u'let', u'mobile'], [u'notification', u'do', u'not', u'work'], [u'feature', u'rich', u'clean', u'interface'], [u'really', u'interface', u'helpful', u'discussion', u'solve', u'problem'], [u'need', u'proxy', u'option', u'setting'], [u'cool', u'project', u'management'], [u'cool', u'business', u'developer'], [u'download', u'slack', u'mobile', u'should', u'not', u'choice'], [u'comfortable'], [u'beautiful', u'interface', u'notification', u'do', u'not', u'work', u'many', u'time', u'think', u'kill', u'android', u'time', u'fail', u'send', u'notification', u'much', u'need', u'feature', u'would', u'read', u'receipt'], [u'show', u'user', u'online', u'feature', u'do', u'not', u'work', u'properly', u'do', u'not', u'show', u'online', u'even', u'have', u'open', u'sometimes', u'show', u'user', u'online', u'stuff'], [u'good'], [u'update', u'update', u'do', u'not', u'include', u'emoji', u'negotiate', u'steal', u'whatev', u'return', u'ugly', u'essential', u'update', u'else', u'spam', u'thank'], [u'love', u'platform', u'make', u'organize', u'communication', u'project', u'management', u'much', u'easy', u'would', u'really', u'see', u'improve', u'spell', u'check', u'autocorrect', u'feature', u'desktop', u'expand', u'searchable', u'message', u'free', u'version'], [u'hard', u'register', u'use', u'mobile'], [u'quit', u'good'], [u'schedule', u'dnd', u'do', u'not', u'work', u'will', u'not', u'stay', u'enable', u'switch', u'right', u'away', u'update', u'slack', u'response', u'bug', u'feedback', u'swift', u'minute', u'give', u'star', u'fix', u'counter', u'intuitive', u'would', u'ask', u'can', u'not', u'update', u'back', u'end', u'timezone'], [u'current', u'release', u'use', u'battery'], [u'notification', u'receive', u'new', u'message', u'come', u'thereby', u'severely', u'crippling', u'usefulness'], [u'good', u'give', u'star', u'slow', u'network'], [u'ridiculously', u'slow'], [u'failure', u'push', u'notification', u'huge', u'failure', u'overall', u'would', u'great', u'otherwise', u'send', u'important', u'message', u'team', u'get', u'notification', u'do', u'not', u'work', u'nothing', u'get', u'do', u'end', u'go', u'back', u'what', u's', u'email', u'timely', u'matter', u'rely', u'mean', u'manually', u'check', u'new', u'message', u'regularly'], [u'notification', u'setup', u'option', u'type', u'work', u'also', u'whitewash', u'screen', u'font', u'size', u'option'], [u'layout', u'messy', u'difficult', u'track', u'post', u'comment'], [u'love', u'option', u'volume', u'level', u'notification', u'also', u'desktop', u'can', u'not', u'put', u'volume', u'loud', u'listen', u'music', u'work'], [u'great', u'would', u'even', u'good', u'option', u'read', u'receipt', u'would', u'come', u'back', u'give', u'star', u'hen'], [u'star', u'great', u'changelog', u'work'], [u'cool', u'team', u'work', u'best'], [u'love'], [u'great'], [u'totally', u'idea', u'slack', u'great', u'fun', u'keep', u'guy', u'issue', u'slow', u'network', u'read', u'do', u'not', u'get', u'count', u'notification', u'sometimes', u'please', u'option', u'launch', u'particular', u'team', u'homescreen', u'something', u'chat', u'groupchat', u'shortcut', u'whatsapp', u'launch', u'team', u'straight', u'homescreen', u'would', u'awesome', u'hen'], [], [u'painful', u'sign', u'process', u'look', u'fine'], [u'white', u'noise', u'world', u'full', u'messaging'], [u'good', u'seem', u'miss', u'important', u'dms', u'work', u'snooze', u'time'], [u'can', u'not', u'upload', u'picture', u'fix', u'annoying', u'retry'], [u'app', u'non', u'functional', u'chromebook', u'terrible'], [u'good'], [u'never', u'get', u'notification', u'open', u'have', u'miss', u'several', u'message', u'pointless'], [u'bloody', u'fantastic'], [u'break', u'last', u'week', u'pixel', u'see', u'neverend', u'spinning', u'logo', u'get', u'email', u'notification', u'new', u'login', u'mobile', u'new', u'message', u'notification'], [u'good'], [u'mention', u'break', u'anyone', u'else'], [u'notification', u'new', u'message', u'never', u'arrive', u'time', u'sometimes', u'get', u'delay', u'sometimes', u'notification'], [u'thank'], [u'official', u'team', u'work', u'excellent'], [u'helpful', u'thank'], [u'good', u'help', u'school', u'alot'], [u'size', u'message', u'high', u'need', u'lite', u'version', u'launch'], [u'dis', u'stuff'], [u'gd'], [u'white', u'background', u'suck', u'version', u'well', u'linux', u'see', u'user', u'ask', u'high', u'contrast', u'version', u'year', u'look', u'difficult', u'thing', u'program'], [u'setup', u'annoying', u'mobile', u'friendly'], [u'slack', u'become', u'perfect', u'add', u'what', u's', u'functionality', u'login', u'web', u'barcode', u'already', u'sign'], [u'vey', u'good'], [u'non', u'intuitive', u'control'], [u'many', u'effort', u'able', u'get', u'notification', u'android', u'mobile', u'screen', u'slack', u'minimize', u'status', u'help'], [u'tech', u'company', u'use', u'slack', u'there', u's', u'something', u'wrong'], [u'helpful'], [u'thread', u'start', u'post', u'picture', u'automatically', u'add', u'comment', u'channel'], [u'nice', u'really', u'help', u'team', u'wide', u'communication', u'long', u'text', u'could', u'not', u'possible', u'time', u'phone', u'would', u'hang', u'type', u'long', u'msgs', u'otherwise'], [u'powerful', u'productivity', u'collaboration', u'tool', u'kudo', u'slack', u'creator', u'awesome'], [u'able', u'download', u'get', u'code', u'error'], [u'current', u'massage', u'high', u'light', u'notification', u'read', u'message'], [u'slacker'], [u'great', u'lication'], [u'useful', u'photo', u'upload', u'feature', u'android', u'galaxy', u'constantly', u'fail', u'good', u'service', u'condition'], [u'limitation', u'free', u'user'], [u'help', u'stay', u'away', u'facebook'], [u'do', u'not', u'always', u'load', u'late', u'message', u'frustrate', u'get', u'notification', u'message', u'do', u'not', u'load', u'actual', u'chat'], [u'awesome'], [u'late', u'update', u'crash', u'non', u'stop', u'will', u'not', u'even', u'let', u'send', u'feedback', u'bad', u'part', u'make', u'think', u'phone', u'mess', u'lose', u'hour', u'reset', u'phone', u'try', u'get', u'work'], [u'nice'], [u'recent', u'update', u'completely', u'break', u'remove', u'auto', u'fill', u'also', u'break', u'mobile', u'can', u'not', u'save', u'notification', u'setting', u'mobile', u'specific', u'channel', u'change', u'notification', u'sound'], [u'nothing', u'say', u'download'], [u'good', u'program', u'slack', u'time', u'main', u'question', u'future', u'video', u'support', u'call', u'conference', u'call', u'tthe', u'desktop', u'version', u'disointment', u'atm', u'otherwise', u'would', u'rate', u'star'], [u'awesome'], [u'can', u'not', u'setup', u'multiple', u'slack', u'space', u'log', u'switch'], [u'slightly', u'confuse', u'first', u'unfortunately', u'notification', u'work', u'well'], [u'great', u'work', u'business', u'group', u'project'], [u'work', u'great', u'long', u'time', u'reason', u'do', u'not', u'work', u'currently', u'help', u'developer', u'would', u'great'], [u'video', u'call', u'share', u'screen', u'can', u'not', u'able', u'view', u'android', u'lication', u'disabled'], [u'nice'], [u'slack', u'great', u'make', u'team', u'collaboration', u'simple', u'intuitive', u'love', u'notification', u'smart', u'enough', u'bug', u'have', u'see', u'desktop'], [u'nice'], [u'wish', u'support', u'pixelbook'], [u'keep', u'shut', u'day', u'fix'], [u'enjoy', u'use', u'thank', u'creator'], [u'mobile', u'need', u'set', u'disable', u'incoming', u'call', u'mobile', u'desktop', u'incoming', u'call', u'dial', u'want', u'accept', u'call', u'desktop'], [u'exactly', u'need'], [u'issue', u'notification', u'slow', u'open'], [u'good'], [u'love', u'slack', u'never', u'slack'], [u'problem', u'synchronization', u'device', u'message', u'send', u'desktop', u'display', u'android', u'lead', u'confused', u'important', u'message', u'actually', u'send', u'coworker', u'quite', u'critical', u'bug', u'otherwise', u'good'], [u'brilliant', u'work', u'communication', u'highly', u'recommend'], [u'good', u'handy', u'team', u'work', u'project', u'development', u'management'], [u'language', u'change', u'automatically'], [u'almost', u'never', u'get', u'notification', u'phone', u'open', u'see', u'message'], [u'upgrade', u'version', u'able', u'open', u'chat', u'take', u'time', u'instal', u'early', u'version', u'test', u'upload', u'late', u'package'], [u'moment', u'press', u'home', u'exit', u'stop', u'get', u'notification', u'have', u'desktop', u'instal', u'have', u'play', u'setting', u'previously', u'lock', u'recent', u'will', u'send', u'notification', u'thank', u'oreo', u'android', u'counterpart', u'useless', u'term', u'instant', u'messaging'], [u'excellent', u'internal', u'communication'], [u'dad', u'move', u'love'], [u'nice'], [u'can', u'not', u'join', u'new', u'workspace', u'click', u'link', u'email', u'also', u'make', u'new', u'password', u'workspace'], [u'slow'], [u'really', u'work', u'good'], [u'never', u'get', u'notify', u'new', u'new', u'message'], [u'need', u'disturb', u'option', u'turn', u'facebook', u'messenger', u'snooze', u'button', u'individual', u'right', u'much', u'go', u'irritate'], [u'great', u'user', u'interface', u'easy', u'extremely', u'functional', u'useful'], [u'use', u'there', u's', u'clojure', u'channel', u'want', u'complicated', u'unintuitive', u'interface', u'have', u'ever', u'use', u'can', u'not', u'figure', u'anything'], [], [u'awesome', u'work', u'stay', u'way', u'good', u'chat', u'collaboration', u'tool', u'have', u'use'], [u'can', u'not', u'invoke', u'user', u'recent', u'version'], [u'tricky', u'understand', u'tutorial', u'cluttered', u'interface', u'be', u'not', u'use', u'something', u'specific', u'would', u'uninstall'], [u'seem', u'text', u'invasion', u'privacy', u'company', u'work'], [u'nice'], [u'people', u'need', u'wall', u'submit', u'text', u'project', u'management', u'worthless', u'compare'], [u'interface', u'quite', u'good'], [u'great', u'work', u'much', u'time', u'ask', u'question', u'atom', u'community'], [u'cmon', u'hen', u'emojis', u'ugly', u'hell', u'recent', u'update', u'month', u'ago', u'icon', u'natively', u'make', u'somehow', u'depend'], [u'need', u'reply', u'particular', u'message', u'feature', u'miss'], [u'absolute', u'good', u'business', u'personal', u'love', u'add', u'emoji', u'great', u'user', u'interface', u'easy', u'be', u'process', u'get', u'friend', u'suggestion', u'would', u'like', u'good', u'gif', u'easy', u'play', u'text', u'message', u'open', u'play', u'understand', u'could', u'something', u'business', u'may', u'want', u'maybe', u'option', u'turn', u'also', u'giphy', u'horrible', u'tenor', u'bad', u'try', u'uploading', u'first', u'time', u'typing', u'name', u'want', u'give', u'everything', u'uploaded', u'want', u'able', u'gif', u'gallery', u'play', u'automatically', u'text', u'message', u'make', u'hen', u'thank'], [u'take', u'way', u'much', u'battery'], [u'need', u'desktop', u'next', u'setting', u'cf', u'want', u'delete', u'channel', u'can', u'not', u'want', u'enable', u'everyone', u'workspace', u'able', u'set', u'invite', u'can', u'not', u'want', u'create', u'permanent', u'invite', u'link', u'discord', u'do', u'not', u'invite', u'everyone', u'separately', u'slack', u'do', u'not', u'feature', u'want', u'add', u'icon', u'emoji', u'straight', u'app', u'can', u'not', u'frustrating'], [u'friendly'], [u'keep'], [u'complicated', u'distract', u'chaotic', u'option', u'clutter', u'bad', u'focus', u'sluggish', u'webversion', u'privacy', u'respect', u'purely', u'commercial', u'pattern', u'buy', u'fake', u'star', u'rating', u'south', u'asian'], [u'nice', u'concept'], [u'can', u'not', u'get', u'do', u'not', u'send', u'verification', u'code', u'sms', u'time', u'logging', u'become', u'major', u'headache'], [u'slack', u'good', u'team', u'collaboration', u'market'], [u'amazing', u'app', u'team', u'communicate', u'project', u'daily', u'routine'], [u'think', u'let', u'workspace', u'owner', u'read', u'private', u'message', u'good', u'idea'], [u'lose', u'channel', u'keep', u'crash'], [u'work'], [u'cool'], [u'use', u'several', u'month', u'communication', u'tool', u'various', u'member', u'nonprofit', u'organization', u'downfall', u'see', u'occasional', u'miss', u'update', u'alert', u'notification', u'badge', u'icon'], [u'heavy', u'remind', u'good', u'old', u'forum', u'ton', u'smilie', u'picture', u'company', u'use', u'must', u'lication'], [u'can', u'not', u'believe', u'racism', u'support', u'asian'], [u'ready', u'primetime', u'pretty', u'common', u'individual', u'need', u'access', u'corporate', u'slack', u'account', u'unforgivable', u'provide', u'easy', u'way', u'switch', u'quickly', u'account', u'simply', u'manage', u'profile', u'authorized', u'account'], [u'improve', u'share', u'screen'], [u'helpfull'], [u'constantly', u'crash', u'late', u'update', u'fix', u'reinstall'], [u'love'], [u'still', u'see', u'issue', u'sime', u'user', u'notification', u'come'], [u'search', u'option', u'job', u'find', u'nothing'], [u'issue', u'slack', u'team', u'get', u'back', u'immediately', u'top', u'tier', u'customer', u'service'], [u'make', u'dark', u'theme', u'save', u'eye'], [u'delay', u'message', u'open', u'check', u'message', u'real', u'time', u'notification', u'even', u'set', u'receive', u'instant'], [u'confusing'], [u'app', u'everything', u'suppose', u'guy', u'write', u'pretty', u'funny', u'what', u's', u'new', u'update', u'keep'], [u'good', u'work', u'flawlessly', u'especially', u'reciate', u'effort', u'put', u'write', u'what', u's', u'new', u'section', u'version', u'something', u'obvious'], [u'new', u'update', u'keep', u'crash', u'display', u'launch', u'splash', u'screen', u'work'], [u'notification', u'do', u'not', u'work', u'expect'], [u'great', u'mobile', u'slack', u'real', u'complaint'], [u'get', u'notification', u'pixel', u'time'], [u'awesome'], [u'update', u'opening', u'samsung', u'mobile'], [u'end', u'recent', u'switch', u'want', u'return', u'relaunch', u'icon', u'even', u'open', u'click', u'open', u'recent', u'click', u'close', u'select', u'anything', u'different', u'vanish', u'cumbersome'], [u'can', u'not', u'swipe', u'medium', u'image', u'send', u'press', u'can', u'not', u'swipe', u'leave', u'right', u'see', u'previous', u'next', u'image'], [u'tell', u'think'], [u'good'], [u'veru', u'useful', u'use', u'rd', u'party', u'integration', u'flock', u'much', u'good', u'alternative', u'free', u'feature'], [u'great'], [u'useful'], [u'good'], [u'do', u'not', u'get', u'notification'], [u'awesome'], [u'notification', u'cry', u'messenger', u'would', u'think', u'notification', u'essential', u'slack', u'make', u'bad', u'people', u'use', u'work', u'everybody', u'rely', u'get', u'late', u'message', u'phone', u'screw'], [u'idea', u'be'], [u'try'], [u'pointless', u'want', u'seem', u'far', u'dedicated', u'waste', u'time', u'increase', u'productivity', u'be', u'not', u'nearly', u'simple', u'option'], [u'tell', u'everyone', u'slack', u'slack', u'anytime', u'everyone', u'get', u'slack', u'office'], [u'solid', u'love', u'desktop', u'version', u'web', u'version'], [u'unable', u'receive', u'push', u'notification', u'vivo', u'even', u'try', u'several', u'time'], [u'love', u'however', u'recent', u'update', u'have', u'not', u'able', u'login'], [u'use', u'work', u'especially', u'love', u'giphy', u'integration'], [u'awesome', u'useful', u'business'], [u'great', u'comunicating', u'project'], [u'slack', u'awesome', u'year', u'night', u'mode', u'white', u'background', u'black', u'text', u'blurgh'], [u'right', u'functional', u'get', u'notification', u'new', u'comment', u'thread', u'go', u'read', u'be', u'not', u'hard', u'reply', u'something', u'can', u'not', u'see', u'fix', u'slack', u'pager', u'thank'], [], [u'good', u'collaborative', u'work', u'ever', u'use', u'free', u'single', u'channel', u'guest', u'user', u'make', u'affordable', u'even', u'small', u'team', u'company'], [u'great', u'lication', u'team', u'collaboration'], [u'thank'], [u'business', u'run', u'fantastic', u'thank', u'slack', u'team', u'love', u'fact', u'clock', u'benefiting', u'project', u'hour', u'night', u'much', u'respect', u'thank', u'slack', u'team', u'love', u'pay', u'subscriber'], [u'good', u'platform', u'least', u'allow', u'purchase', u'individual', u'plan', u'buy', u'right', u'team', u'plan', u'expensive', u'would', u'willing', u'pay', u'pro', u'feature'], [u'horrible', u'many', u'hide', u'feature', u'annoying'], [u'power', u'horse', u'work', u'tool', u'doubt', u'lately', u'face', u'alot', u'issue', u'notification', u'zuk', u'may', u'late', u'update', u'brick', u'be', u'run', u'oreo'], [u'version', u'seem', u'really', u'buggy', u'update', u'miss', u'conversation', u'feed', u'version', u'much', u'stable', u'accurate'], [u'great', u'communication', u'player', u'game', u'speak', u'individually', u'team', u'time'], [u'widely', u'use', u'unreliable', u'notification', u'system', u'receive', u'notification', u'time', u'good', u'seem', u'harsh', u'give', u'star', u'instant', u'messaging', u'do', u'not', u'reliably', u'send', u'notification', u'fundamentally', u'break', u'important', u'feature'], [u'easy', u'call', u'people', u'accident'], [u'doubt', u'flexible', u'chat', u'solution', u'integration', u'give', u'sadly', u'lag', u'behind', u'wickr', u'security', u'end', u'end', u'encryption', u'something', u'high', u'priority', u'business', u'individual'], [u'amazing', u'useful'], [u'really', u'great', u'work', u'thing', u'matter', u'picture', u'upload', u'hell', u'slow', u'take', u'lottt', u'time', u'really', u'fix'], [u'quite', u'often', u'connect', u'group', u'call', u'do', u'not', u'give', u'signal', u'call', u'ongoing', u'hour', u'fact', u'end', u'long', u'ago', u'uninstalling', u'reinstalling', u'help'], [u'slight', u'issue', u'use', u'web', u'version'], [u'force', u'download', u'instead', u'let', u'log', u'browser', u'function', u'available', u'manage', u'profile'], [u'slack'], [u'good', u'lication', u'documentation', u'could', u'improve'], [u'great'], [u'huawei', u'mate', u'device', u'run', u'official', u'release', u'andoid', u'do', u'not', u'get', u'notification', u'even', u'test', u'notification', u'menu', u'do', u'not', u'work'], [u'good'], [u'bice'], [u'amazing', u'contact', u'communication', u'developer'], [u'instal', u'get', u'stuck', u'circular', u'loop', u'try', u'verify', u'email', u'address', u'could', u'create', u'channel', u'workgroup'], [u'version', u'connect', u'mobile', u'datum', u'work', u'wifi'], [u'wonder', u'good', u'organize', u'work', u'group'], [u'revert', u'old', u'emoji', u'leave', u'perfect', u'emoji', u'pack', u'really', u'make', u'sad', u'will', u'not', u'use', u'emoji', u'anymore', u'workplace', u'turn', u'boring', u'cold', u'place'], [u'new', u'emoji', u'smile', u'really', u'awful', u'turn', u'ability', u'old', u'version', u'emoji', u'smile'], [u'love', u'home', u'button', u'work', u'chromebook'], [u'fix', u'notification', u'access', u'somtime', u'do', u'not', u'get', u'sometimes', u'get'], [u'sometimes', u'incom', u'direct', u'message', u'be', u'not', u'notification', u'come', u'there', u's', u'message'], [u'great', u'terrible', u'come', u'uploading'], [u'eat', u'way', u'much', u'battery', u'memory', u'background', u'screw', u'basic', u'text', u'badly', u'need', u'turn', u'background', u'activity', u'background', u'activity', u'drop', u'hour', u'notification', u'slack', u'server', u'be', u'background', u'activity', u'drop', u'hour', u'medium', u'usage'], [u'good', u'app'], [u'slow'], [u'love', u'rehearse'], [u'awesome', u'lication', u'free', u'version', u'enough', u'small', u'team'], [u'love'], [u'generally', u'adore', u'slack', u'find', u'abhorrent', u'choose', u'force', u'android', u'emoji', u'allow', u'emojis', u'recent', u'update', u'entire', u'communication', u'experience', u'enormously', u'flaw', u'find', u'wiggle', u'fly', u'middle', u'strawberry', u'smoothie'], [u'nice', u'communicate', u'team'], [u'awesome'], [u'think', u'awesome'], [u'create', u'slack', u'widget', u'android', u'usefull', u'anyone'], [u'late', u'release', u'become', u'unresponsive', u'pixel'], [u'excellent'], [u'always', u'love', u'release_note'], [u'star', u'awesome', u'release', u'note'], [u'require', u'work', u'would', u'not', u'otherwise', u'encryption', u'close', u'source', u'luckily', u'keybase', u'wire', u'grow'], [u'can', u'not', u'log', u'back', u'mean', u'login', u'auth', u'unfortunately', u'workspace', u'go', u'ask', u'process', u'sign', u'create', u'new', u'workspace', u'order', u'join', u'workspace', u'odd', u'thing', u'normal', u'sign', u'use', u'auth', u'force', u'create', u'workspace', u'could', u'not', u'join', u'already', u'create', u'workspace', u'therefore', u'create', u'be', u'not', u'even', u'use'], [u'useful', u'give', u'star', u'hearty', u'cleverly', u'write', u'update', u'bug', u'fix', u'status'], [u'availability', u'still', u'always', u'state', u'offline', u'even', u'try', u'set', u'online', u'setting', u'go', u'straight', u'back', u'offline'], [u'use', u'good', u'notification', u'get', u'massively', u'sync', u'compare', u'web', u'client', u'even', u'read', u'message', u'web', u'mobile', u'notification', u'stay', u'phone', u'waste', u'time', u'also', u'open', u'exist', u'conversation', u'often', u'stale', u'way', u'refreshing'], [u'usually', u'star', u'current', u'version', u'send', u'push', u'notification', u'channel', u'ask'], [u'love', u'lately', u'however', u'crash', u'whenever', u'comment', u'post', u'anything', u'fix', u'thank'], [u'simply', u'clever'], [u'main', u'problem', u'lot', u'device', u'dose', u'get', u'notification', u'new', u'message', u'real', u'time'], [u'would', u'great', u'be', u'not', u'problem', u'least', u'case', u'conversation', u'lot', u'content', u'get', u'sync', u'entirely', u'mobile', u'leave', u'hole', u'unsynced', u'line', u'would', u'go', u'back', u'conversation', u'see', u'blank', u'several', u'hour', u'exchange', u'reply', u'conversation', u'readable', u'entirety', u'browser', u'fix'], [u'keep', u'log', u'add', u'space', u'minute'], [u'slack', u'take', u'long', u'time', u'load', u'try', u'join', u'new', u'group', u'seriously', u'piss'], [u'good'], [u'awesome'], [u'force'], [u'notification', u'new', u'message', u'display', u'minute', u'message', u'receive', u'notification', u'show', u'even', u'open', u'message', u'laptop', u'have', u'set', u'show', u'notification', u'soon', u'possible'], [u'seem', u'slack', u'mobile', u'do', u'not', u'mark', u'message', u'read', u'day', u'open', u'slack', u'reply', u'channel', u'go', u'away'], [u'switch', u'workspace', u'account', u'confusing', u'do', u'not', u'sync', u'automatically', u'cause', u'miss', u'message'], [u'notification', u'work', u'properly', u'many', u'time', u'do', u'not', u'get', u'notification', u'new', u'message', u'get', u'hour', u'later'], [u'do', u'not', u'get', u'notification', u'new', u'message', u'come'], [u'good', u'thing', u'online', u'work', u'communication'], [u'awesome', u'system', u'great', u'channel', u'flexibility', u'however', u'mobile', u'keyword', u'notification', u'do', u'not', u'work', u'push', u'update', u'channel', u'none', u'helpful'], [u'nice'], [u'sooo'], [u'great'], [u'last', u'release', u'kind', u'downward', u'spiral', u'sudden', u'ill', u'miss', u'half', u'day', u'worth', u'message', u'force', u'stop', u'delete', u'entire', u'cache', u'datum', u'never', u'use'], [u'time', u'make', u'change', u'interaction', u'completely', u'crash', u'business', u'tool', u'unacceptable'], [u'perennial', u'alert', u'consume', u'much', u'power', u'lenovo', u'reboot', u'resource', u'cpu', u'usage', u'need', u'tweak', u'massive', u'improvement', u'scope'], [u'good'], [u'good'], [u'business', u'communication', u'workplace'], [u'great'], [u'amazzi', u'small', u'office', u'use', u'love', u'fact', u'link', u'make', u'even', u'useful', u'contemplating', u'make', u'bot'], [u'good', u'ap'], [u'z', u'z', u'amazing'], [u'bug', u'account', u'creation', u'can', u'not', u'even', u'create', u'workspace'], [u'connect', u'connect', u'connect', u'connected', u'edit', u'even', u'bad', u'notification', u'be', u'not', u'receive'], [u'awful', u'experience', u'try', u'actually', u'get', u'set', u'usable', u'need', u'degree', u'complex', u'processing', u'get', u'anywhere', u'good', u'start'], [u'can', u'not', u'disturb', u'mode', u'samsung', u'galaxy', u'note'], [u'lately', u'keep', u'put', u'online', u'set', u'away', u'really', u'annoying'], [u'wonderful', u'communication', u'love', u'slack'], [u'able', u'open', u'view', u'archive', u'channel', u'blank'], [u'go', u'almost', u'everyday', u'task', u'intuitive', u'fast', u'lot', u'useful', u'feature', u'wish', u'widget', u'need', u'see', u'topic', u'discussion', u'tag', u'screen', u'open', u'access', u'know', u'keep', u'thing', u'good', u'thank'], [u'app', u'ara'], [u'come', u'descriptive', u'changelog', u'slack', u'store', u'would', u'much', u'good', u'place'], [u'teamwork', u'haste', u'waste', u'can', u'not', u'even', u'describe', u'properly', u'wish', u'good', u'feature', u'possible', u'start', u'small', u'request', u'make', u'bot', u'remind', u'work', u'offline', u'would', u'even', u'better', u'thank', u'hardwork'], [u'love', u'suddenly', u'stop', u'samsung', u'galaxy'], [u'release_note', u'funny', u'also', u'great'], [u'login', u'mail', u'account', u'login', u'set', u'particular', u'device', u'hell', u'simple', u'manual', u'log', u'password', u'cry', u'login', u'link', u'mail'], [u'great', u'past', u'stable', u'crash', u'loop', u'force', u'close'], [u'useful'], [u'simple', u'abd', u'sweet', u'perfect'], [u'useful', u'buggy', u'unreliable', u'lot', u'time', u'take', u'minute', u'send', u'simple', u'message', u'never', u'trust', u'make', u'sure', u'message', u'send', u'check', u'send', u'photo', u'buggy', u'hell', u'behave', u'strangely', u'back', u'button', u'press', u'wish', u'bit', u'polished'], [u'use', u'amazing'], [u'dropbox'], [u'love', u'desktop', u'try', u'load', u'anything', u'mobile', u'take', u'agonizing', u'amount', u'time'], [u'log', u'could', u'not', u'create', u'workspace', u'whatev', u'can', u'not', u'get', u'past', u'option', u'screen'], [u'notification', u'mobile', u'work', u'become', u'cumbersome'], [u'pretty', u'essential', u'workplace', u'day', u'stay', u'connected', u'always'], [u'work', u'reasonably', u'well', u'notification', u'break'], [u'reinstall', u'time'], [u'good', u'rest', u'everything', u'fail', u'slow', u'loading', u'time', u'slow', u'network', u'mostly', u'phone', u'search', u'do', u'not', u'work', u'recommend', u'indian', u'market', u'what', u's', u'bad', u'flawless', u'time', u'download', u'background', u'slack', u'still', u'will', u'not', u'load'], [u'crash', u'galaxy', u'soon', u'try', u'start'], [u'get', u'worse', u'worse', u'still', u'still', u'see', u'issue', u'offline', u'online', u'infinite', u'upload', u'progress'], [u'really', u'help', u'great'], [u'user', u'friendly'], [u'good', u'chatting'], [u'would', u'love', u'forever', u'swipe', u'right', u'behavior', u'ting', u'top', u'leave', u'open', u'list', u'channel', u'user'], [u'know', u'love', u'update', u'think', u'good', u'thing', u'general', u'ne', u'touch', u'screen', u'time', u'instead', u'whenever', u'want', u'switch', u'team', u'awesome', u'keep', u'good', u'work', u'do', u'not', u'worry', u'be', u'go', u'increase', u'rating', u'day', u'anyway'], [u'great', u'keeping', u'friend'], [u'love', u'justice', u'lane'], [u'slack', u'hang', u'opening', u'page', u'restart', u'phone', u'twice', u'solve', u'issue', u'work', u'ok'], [u'unable', u'get', u'message', u'pop', u'look', u'connect'], [u'think', u'great', u'start'], [u'good'], [u'useful'], [u'nice'], [u'unable', u'schedule', u'disturb', u'hour', u'switch', u'go', u'back', u'soon', u'let', u'go'], [u'bad', u'notification', u'do', u'not', u'know', u'notification', u'fix', u'android', u'phone'], [u'recently', u'instal', u'desktop', u'slack', u'soon', u'dowload', u'installed', u'phone', u'connect', u'do', u'not', u'contain', u'late', u'conversation', u'workand', u'update', u'pc'], [], [u'great', u'complement', u'desktop', u'version', u'give', u'access', u'go', u'previous', u'problem', u'seem', u'resolve'], [u'way', u'login', u'reinstalling', u'do', u'not', u'get', u'mail'], [u'great'], [u'great', u'tool', u'team', u'easy'], [u'good', u'manage', u'multiple', u'conversation', u'ease'], [u'slack', u'wonderful', u'lication', u'team', u'communication', u'great', u'feature', u'third', u'party', u'integration', u'really', u'good', u'load', u'deploy', u'time', u'setback', u'take', u'hell', u'load', u'time', u'upload', u'something', u'xiaomi', u'phone', u'even', u'high', u'bandwidth', u'speed', u'recommend', u'must', u'aspire', u'company', u'team'], [u'good', u'set', u'chat', u'room', u'friend'], [u'upload', u'mobile', u'fail', u'time', u'soooo', u'frustrating'], [u'slack', u'pretty', u'easy', u'learn', u'work', u'well', u'seem', u'dev', u'team', u'really', u'care'], [u'feature', u'great', u'really', u'slow', u'possible', u'get', u'lite', u'version', u'slack', u'would', u'support', u'old', u'phone'], [u'good'], [u'simple', u'fun', u'efficient'], [u'great', u'way', u'keep', u'touch', u'group', u'club', u'reciate', u'easy', u'understand', u'personalize', u'feature'], [u'say', u'spend', u'work', u'hour', u'slack', u'probably', u'important', u'phone', u'work', u'well', u'keep', u'sync', u'colleague', u'next', u'room', u'flight', u'side', u'planet', u'can', u'not', u'star'], [u'slack', u'still', u'open', u'new', u'update'], [u'helpful', u'business', u'purpose'], [u'receive', u'otp'], [u'great', u'work', u'properly', u'find', u'be', u'get', u'push', u'notification', u'miss', u'meeting', u'becuase'], [u'creative', u'thk'], [u'crash', u'time', u'day', u'android'], [u'awesome'], [u'keep', u'connected', u'devs'], [u'fun', u'way', u'talk', u'collegue'], [u'request', u'developer', u'team', u'guy', u'add', u'delete', u'option', u'delete', u'sender', u'message', u'individually', u'essential'], [u'get', u'hang'], [u'beginner', u'put', u'time', u'wait', u'experiance'], [u'disconnect', u'internet', u'time', u'lock', u'phone', u'will', u'not', u'deliver', u'message', u'unlock', u'phone', u'bring', u'active', u'state'], [u'fantastic', u'even', u'good', u'release_note', u'thank', u'bother', u'consider', u'requirement', u'do', u'not', u'thank', u'thank', u'provide', u'real', u'release_note', u'also', u'great'], [u'work', u'vital', u'company', u'comms', u'however', u'recently', u'have', u'uninstall', u'time', u'do', u'not', u'connect', u'internet', u'everything', u'else', u'fine', u'crash', u'open', u'reason'], [u'useful', u'communication', u'workplace', u'love', u'slack', u'integration', u'git'], [u'matter', u'many', u'time', u'try', u'can', u'not', u'turn', u'notification', u'group', u'really', u'annoying', u'put', u'alert', u'else', u'message', u'show'], [u'work', u'really', u'well', u'update', u'notification', u'seem', u'work', u'anymore'], [u'cause', u'play', u'service', u'run', u'killing', u'battery', u'remove'], [u'file', u'uploaded', u'safe', u'sound', u'slack', u'unfortunately', u'workspace', u'storage', u'space', u'leave', u'get', u'space', u'upgrade', u'pay', u'account', u'delete', u'old', u'file', u'ok', u'delete', u'file', u'spam', u'bot', u'still', u'show'], [u'late', u'update', u'log', u'less', u'time', u'always', u'redirect', u'back', u'home', u'screen', u'can', u'not', u'access', u'work', u'group', u'work', u'fine', u'update'], [u'can', u'not', u'upload', u'anything', u'sluggish'], [u'kickass', u'startup', u'communication'], [], [u'last', u'update', u'yesterday', u'keep', u'crash'], [u'great', u'however', u'try', u'log', u'cause', u'crash', u'problem', u'work', u'uninstalled', u'reinstall', u'today', u'see', u'help'], [u'awesome'], [u'crash', u'lot', u'late', u'update', u'could', u'not', u'launch', u'check', u'conversation'], [], [u'work', u'samsung', u'galaxy'], [u'hope', u'fiz', u'notifecation', u'problem'], [u'dope'], [u'can', u'not', u'move', u'card'], [u'great'], [u'think', u'would', u'amazingly', u'convenient', u'have', u'not', u'able', u'get', u'account', u'hour', u'delay', u'confirmation', u'email', u'be', u'sure', u'make'], [u'grwat', u'call', u'quality'], [u'great', u'communication', u'tool', u'feature', u'would', u'great', u'scheduling', u'message', u'team', u'member', u'channel'], [u'great', u'actually', u'open', u'mobile', u'device', u'forever', u'give', u'everyone', u'else', u'company', u'hard', u'time'], [u'good', u'organizational', u'purpose'], [u'amazing'], [u'dat', u'lovely'], [u'i', u'rather', u'discord', u'comunication', u'platform'], [u'total', u'garbage'], [u'app', u'freeze', u'open', u'recent', u'update'], [u'cool', u'lication', u'team', u'work'], [u'work', u'good', u'collaboration', u'purpose', u'love', u'far'], [u'able', u'sign', u'select', u'workspace', u'action', u'take', u'first', u'page'], [u'good', u'collaboration', u'real', u'time', u'team', u'need'], [u'love', u'everyday', u'almost', u'project', u'thing', u'dislike', u'that', u's', u'notification', u'work', u'properly', u'sometimes', u'go', u'totally'], [u'hell', u'hen', u'be', u'stuck', u'infinite', u'loop', u'try', u'log', u'turn', u'firefox', u'focus', u'android', u'even', u'need', u'farm', u'login', u'process', u'browser', u'fix', u'nonsense'], [u'goof', u'tool', u'market'], [u'crash'], [u'take', u'faaaar', u'long', u'load', u'even', u'wifi', u'connection', u'good', u'sometimes', u'do', u'not', u'load', u'even', u'connection', u'fix'], [u'great'], [u'useful', u'communicate', u'robotic', u'team'], [u'real', u'usability', u'analysis'], [u'finally', u'work', u'stable', u'general', u'version', u'message', u'sync', u'desktop', u'mobile', u'everything', u'load', u'much', u'faster', u'reconsider', u'old', u'star', u'keep', u'good', u'work'], [u'notification', u'sound', u'low', u'sound', u'default', u'device', u'sound', u'high', u'sound', u'developer', u'fix', u'problem'], [u'great', u'interesting', u'amazing', u'creativity', u'good', u'luck'], [u'generally', u'great', u'slack', u'mobile', u'port', u'however', u'new', u'login', u'paradigm', u'annoying', u'work', u'simply', u'break', u'otherwise', u'time', u'login', u'send', u'email', u'something', u'else', u'delete', u'manage', u'obscure', u'userid', u'password', u'login', u'utilize', u'email', u'login', u'process', u'work', u'reboot', u'login', u'simply', u'block', u'get', u'confuse', u'simply', u'keep', u'ask', u'email', u'account', u'return', u'simple', u'textual', u'email', u'link', u'login', u'previous', u'version', u'star', u'app'], [u'maybe', u'have', u'not', u'use', u'long', u'enough', u'can', u'not', u'lync', u'mobile', u'group', u'text'], [u'good', u'stuff'], [u'love', u'slack', u'brilliant', u'project', u'base', u'work', u'however', u'notification', u'message', u'channel', u'do', u'not', u'seem', u'work', u'phone', u'ear', u'use', u'phone', u'precise', u'time', u'message', u'send', u'unlikely', u'even', u'ear', u'notification', u'section', u'scroll', u'top', u'check', u'correct', u'notification', u'setting', u'help', u'inconvenient', u'constantly', u'open', u'check', u'new', u'message'], [u'work'], [u'good'], [u'crash', u'launch', u'late', u'update'], [u'good'], [u'great', u'recently', u'issue', u'be', u'constantly', u'close', u'get', u'channel', u'refresh', u'show', u'new', u'message', u'be', u'use', u'galaxy', u'note', u'edge', u'fix'], [u'do', u'not', u'like', u'new', u'change', u'want', u'slack', u'normal'], [u'could', u'useful', u'official', u'slack', u'widget', u'home', u'screen', u'manage', u'list'], [u'sign', u'process', u'way', u'slow', u'able', u'save', u'login', u'device', u'least', u'show', u'sign', u'button', u'first', u'bury', u'action', u'deep'], [u'app', u'start', u'anymore', u'love', u'slack', u'android', u'version', u'work', u'what', u's', u'deal'], [u'really', u'would', u'love', u'call', u'screen', u'would', u'go', u'away', u'call', u'even', u'make', u'bad', u'call', u'leave', u'separate', u'screen', u'wade', u'gross'], [u'ignore', u'availibility', u'status', u'change', u'push', u'notification', u'do', u'not', u'work', u'always', u'show', u'splash', u'screen', u'enter'], [u'hope', u'slack', u'die', u'ball', u'fire', u'fury'], [u'update', u'do', u'not', u'work', u'anymore', u'crash', u'start', u'time', u'be', u'try', u'run'], [u'bad'], [u'great', u'replacement', u'discord', u'get', u'block'], [u'try', u'upload', u'short', u'min', u'video', u'take', u'min', u'process', u'bug', u'kill', u'purpose', u'efficiency', u'wait', u'min', u'upload', u'shirt', u'clip', u'speak', u'someone'], [u'send', u'email', u'verify', u'account', u'say', u'error', u'different', u'email'], [u'slack', u'crash', u'lot', u'can', u'not', u'send', u'report', u'fix', u'give', u'star'], [u'lovely', u'professional'], [u'keep', u'crash', u'open'], [u'excellent', u'easy'], [u'seem', u'great', u'company', u'want', u'slack', u'can', u'not', u'anything'], [u'take', u'forever', u'send', u'confirm', u'email', u'would', u'not', u'allow', u'confirmation', u'whole', u'series', u'something', u'go', u'wrong', u'message', u'uninstalling'], [u'first', u'do', u'not', u'complexity', u'similar', u'discord'], [u'really', u'good', u'issue', u'open', u'magic', u'link', u'oppose', u'use', u'chrome', u'factor', u'authentication', u'enable', u'cause', u'logic', u'loop', u'never', u'log', u'edit', u'work', u'fine', u'chrome', u'open', u'magic', u'link', u'think', u'something', u'put', u'backlog'], [u'nice', u'lovely'], [u'excellent'], [u'be', u'endless', u'cycle', u'try', u'login', u'enter', u'login', u'start', u'web', u'browser', u'reason', u'ask', u'code', u'send', u'email', u'click', u'link', u'email', u'target', u'slack', u'launch', u'web', u'page', u'ask', u'complain', u'expire', u'magic', u'token', u'email', u'new', u'rinse', u'repeat'], [u'ingress', u'communication', u'work', u'flawlessly'], [u'good'], [u'good', u'love', u'way', u'much', u'even', u'know', u'day', u'slack', u'usually', u'least', u'productive'], [u'good', u'job'], [u'great'], [u'call', u'drop', u'bad', u'internet', u'connection', u'need', u'force', u'close', u'hang', u'call', u'make', u'new'], [u'still', u'hate', u'new', u'icon'], [u'brilliant', u'connect', u'distribute', u'team', u'work', u'flawlessly'], [u'awesome', u'work', u'platform', u'much', u'plugin', u'manage', u'thing', u'work', u'type', u'professional', u'person'], [u'awesome'], [u'last', u'update', u'get', u'white', u'screen', u'roll', u'release', u'week', u'ago', u'lot', u'issue'], [u'late', u'version', u'work', u'android']]\n"
     ]
    }
   ],
   "source": [
    "data_words_nostops = remove_stopwords(data_words)\n",
    "data_words_bigrams = make_bigrams(data_words_nostops)\n",
    "nlp = spacy.load('en', disable=['parser', 'ner'])\n",
    "data_lemmatized = lemmatization(data_words_bigrams, allowed_postags=['NOUN', 'ADJ', 'VERB', 'ADV'])\n",
    "print(data_lemmatized)"
   ]
  },
  {
   "cell_type": "code",
   "execution_count": 13,
   "metadata": {
    "extensions": {
     "jupyter_dashboards": {
      "version": 1,
      "views": {
       "grid_default": {
        "col": 0,
        "height": 12,
        "hidden": false,
        "row": 24,
        "width": 12
       },
       "report_default": {
        "hidden": false
       }
      }
     }
    },
    "nbpresent": {
     "id": "7f1599be-b3fa-4ed4-b9fc-5695bd8e94e7"
    }
   },
   "outputs": [
    {
     "name": "stdout",
     "output_type": "stream",
     "text": [
      "[[(0, 1), (1, 1), (2, 1), (3, 1), (4, 1), (5, 1), (6, 1), (7, 1), (8, 1), (9, 1), (10, 1), (11, 1), (12, 1), (13, 1)], [(14, 1), (15, 1), (16, 1), (17, 1)], [(18, 1), (19, 1), (20, 1), (21, 1), (22, 1), (23, 1)], [(24, 1)], [(25, 1), (26, 1)], [(27, 1), (28, 1), (29, 1), (30, 1)], [(16, 1), (25, 1), (31, 1), (32, 1), (33, 1), (34, 1), (35, 1), (36, 1), (37, 1), (38, 1)], [(8, 4), (19, 2), (25, 2), (31, 2), (39, 2), (40, 1), (41, 1), (42, 1), (43, 1), (44, 1), (45, 1), (46, 1), (47, 1), (48, 1), (49, 1), (50, 2), (51, 2), (52, 1), (53, 1), (54, 1), (55, 2), (56, 3), (57, 1), (58, 1), (59, 1), (60, 1), (61, 2), (62, 1), (63, 1), (64, 2), (65, 1), (66, 2), (67, 1), (68, 1), (69, 1), (70, 3), (71, 1), (72, 1), (73, 1), (74, 1), (75, 1), (76, 1), (77, 1), (78, 1), (79, 2), (80, 1), (81, 1), (82, 1), (83, 1), (84, 1), (85, 1), (86, 5), (87, 2), (88, 1), (89, 1), (90, 1)], [(91, 1)], [(51, 1), (64, 1), (66, 1), (92, 1), (93, 1)], [(8, 1), (32, 1), (51, 1), (65, 1), (66, 1), (90, 1), (94, 1), (95, 1), (96, 1), (97, 1), (98, 1), (99, 1), (100, 1), (101, 1), (102, 1), (103, 1), (104, 1)], [(25, 1), (55, 1), (105, 1), (106, 1), (107, 1), (108, 1), (109, 1), (110, 1), (111, 1), (112, 1), (113, 1), (114, 1), (115, 1), (116, 1), (117, 1), (118, 1), (119, 2), (120, 1), (121, 1), (122, 1), (123, 1), (124, 1), (125, 1)], [(126, 1), (127, 1), (128, 1)], [(80, 1), (129, 1)], [(8, 1), (51, 1), (66, 1), (130, 1), (131, 1), (132, 1), (133, 1), (134, 1)], [(126, 1), (135, 1), (136, 1), (137, 1), (138, 1), (139, 1), (140, 1), (141, 1)], [(142, 1)], [], [(31, 1), (37, 1), (40, 1), (66, 1), (80, 1), (143, 1), (144, 1), (145, 1), (146, 1), (147, 1), (148, 1), (149, 1), (150, 1), (151, 2)], [(45, 1), (90, 1), (152, 2), (153, 1), (154, 1), (155, 1), (156, 1), (157, 1), (158, 1), (159, 1), (160, 1), (161, 1), (162, 3), (163, 1), (164, 1), (165, 1), (166, 1)], [(85, 1), (140, 1), (162, 2), (167, 1), (168, 1), (169, 1), (170, 1), (171, 1), (172, 1)], [(173, 1), (174, 1), (175, 1), (176, 1), (177, 1), (178, 1), (179, 1), (180, 1), (181, 1), (182, 1), (183, 1)], [], [(167, 1), (172, 1), (184, 1), (185, 1), (186, 1)], [(187, 1)], [(91, 1), (141, 1), (188, 1)], [(33, 1), (71, 1), (86, 1), (189, 1), (190, 1)], [(191, 1), (192, 1), (193, 1)], [(33, 1)], [(9, 1), (38, 1), (64, 1), (191, 1), (194, 1), (195, 1), (196, 1), (197, 1), (198, 1)], [(199, 1)], [(8, 1), (35, 1), (55, 1), (56, 1), (61, 1), (134, 1), (200, 1), (201, 1), (202, 1), (203, 2), (204, 1), (205, 1), (206, 2), (207, 1), (208, 1), (209, 1), (210, 1)], [(56, 1), (135, 1), (175, 1), (211, 1)], [(25, 1), (38, 1), (212, 1)], [(213, 1)], [(214, 1), (215, 1), (216, 1)], [(6, 1), (10, 1), (38, 1), (80, 1), (216, 1), (217, 3), (218, 1), (219, 1), (220, 1), (221, 1), (222, 1)], [(199, 1)], [(33, 1)], [(56, 1), (223, 1), (224, 1), (225, 1), (226, 1)], [(191, 1)], [(93, 1)], [(66, 2), (196, 1), (227, 2), (228, 1), (229, 2)], [(31, 1), (85, 1), (202, 1), (230, 1), (231, 1), (232, 1)], [(132, 1), (233, 1), (234, 1), (235, 1), (236, 1)], [(237, 1), (238, 1)], [(37, 1), (90, 1), (191, 1), (225, 1), (239, 1), (240, 1)], [(3, 1), (8, 2), (45, 2), (82, 3), (162, 2), (241, 1), (242, 1), (243, 1), (244, 1), (245, 1), (246, 1), (247, 1), (248, 1), (249, 1)], [(191, 1)], [(6, 1), (8, 1), (51, 1), (66, 1), (90, 1), (162, 1), (170, 1), (204, 1), (250, 1)], [(33, 1), (251, 1)], [(35, 1), (51, 2), (61, 1), (66, 2), (88, 1), (225, 1), (252, 1), (253, 1), (254, 1), (255, 1)], [(31, 1), (256, 1), (257, 1)], [], [(258, 1)], [(33, 1), (74, 1), (189, 1), (259, 1), (260, 1), (261, 1), (262, 1)], [(175, 1), (214, 1)], [(253, 1), (263, 1), (264, 1)], [(21, 1), (189, 1), (199, 1), (265, 1), (266, 1), (267, 1)], [(25, 1), (26, 1), (33, 1), (35, 1), (86, 1), (214, 1), (268, 1), (269, 1), (270, 1), (271, 1)], [(133, 1)], [(9, 1), (51, 1), (66, 1), (90, 1), (272, 1), (273, 1)], [(37, 1), (38, 1), (40, 1), (60, 1), (80, 2), (201, 1), (274, 1), (275, 2), (276, 1), (277, 1)], [(25, 1), (199, 1)], [(33, 1)], [(252, 1), (278, 1)], [(33, 1), (38, 1)], [(191, 1)], [(279, 1), (280, 1)], [(281, 1), (282, 1), (283, 1), (284, 1), (285, 1), (286, 1)], [(10, 1), (32, 1), (37, 1), (90, 1), (141, 1), (143, 1), (287, 1), (288, 1)], [(25, 1), (40, 1), (61, 1), (289, 1), (290, 1)], [(291, 1)], [(33, 1), (86, 1), (132, 1), (189, 1), (290, 1)], [(292, 1), (293, 1), (294, 1)], [(2, 1), (25, 1), (33, 1), (38, 1), (126, 1), (252, 1), (295, 1), (296, 2), (297, 1), (298, 1), (299, 1)], [(64, 1), (67, 1), (152, 1), (201, 1), (300, 1), (301, 1), (302, 2), (303, 1), (304, 1), (305, 1), (306, 1), (307, 1), (308, 1)], [(8, 1), (64, 1), (86, 1), (90, 2), (132, 1), (159, 1), (186, 1), (309, 1), (310, 1), (311, 1), (312, 1), (313, 1), (314, 1), (315, 1), (316, 1), (317, 1), (318, 1), (319, 1), (320, 1)], [(66, 1), (90, 1), (143, 1)], [(13, 1), (31, 1), (90, 1), (321, 1)], [(33, 1)], [(8, 1), (13, 1), (90, 1), (162, 1), (322, 1), (323, 1), (324, 1), (325, 1), (326, 1)], [(252, 1)], [(33, 1)], [(33, 1), (327, 1)], [(93, 1)], [(37, 1), (65, 2), (88, 1), (90, 2), (206, 1), (307, 1), (328, 1), (329, 1)], [(93, 1), (330, 1)], [(191, 1), (211, 1), (331, 1), (332, 1)], [(33, 1)], [(71, 1), (86, 1), (333, 1)], [(1, 1), (31, 2), (55, 1), (90, 1), (208, 1), (334, 1), (335, 1), (336, 1), (337, 1), (338, 1), (339, 1), (340, 1), (341, 1), (342, 1), (343, 1), (344, 1), (345, 1), (346, 1), (347, 1), (348, 1)], [(32, 1), (38, 1), (54, 1), (88, 1), (127, 1), (206, 1), (225, 1), (349, 1), (350, 1), (351, 1), (352, 1), (353, 1), (354, 1), (355, 1), (356, 1), (357, 1), (358, 1), (359, 1), (360, 1)], [(33, 1)], [(10, 1), (25, 1), (38, 1), (66, 1), (86, 1), (90, 1), (227, 1), (252, 1), (361, 1), (362, 1), (363, 1), (364, 1), (365, 1), (366, 1), (367, 1)], [(9, 3), (25, 1), (38, 1), (39, 1), (42, 1), (45, 1), (73, 1), (88, 2), (90, 2), (194, 1), (202, 1), (214, 1), (331, 1), (355, 1), (364, 1), (368, 1), (369, 1), (370, 1), (371, 1), (372, 1), (373, 1), (374, 1), (375, 1), (376, 1), (377, 1), (378, 1), (379, 1), (380, 1), (381, 2), (382, 1), (383, 1), (384, 1), (385, 1), (386, 1)], [(191, 1)], [(8, 1), (26, 1), (67, 1), (90, 1), (302, 1), (377, 1), (387, 2), (388, 1), (389, 1)], [(8, 1), (33, 1), (57, 1), (204, 1), (390, 1)], [(25, 1), (37, 1), (38, 1), (58, 2), (85, 1), (132, 1), (173, 1), (204, 1), (263, 1), (264, 1), (315, 1), (391, 1), (392, 1), (393, 1), (394, 1), (395, 1), (396, 1), (397, 1)], [(38, 1), (61, 1), (398, 1), (399, 1), (400, 1)], [(38, 1), (131, 1), (203, 1), (247, 1), (292, 1), (401, 1)], [(402, 1)], [(191, 1)], [(9, 1), (38, 1), (55, 2), (82, 1), (155, 1), (206, 1), (356, 1), (403, 2), (404, 1), (405, 2), (406, 1), (407, 1), (408, 1), (409, 1), (410, 1), (411, 1)], [(19, 1), (21, 1), (87, 1), (363, 1), (412, 1), (413, 1), (414, 1)], [(2, 1), (13, 1), (60, 1), (61, 1), (76, 1), (137, 1), (191, 1), (211, 1), (225, 1), (331, 1), (415, 1), (416, 1)], [(25, 1), (86, 2), (189, 1), (191, 1), (417, 1), (418, 1), (419, 1)], [(191, 1), (292, 1), (319, 1), (418, 1), (420, 1), (421, 1)], [(4, 1), (422, 1)], [(4, 1), (54, 1), (73, 1), (139, 1), (302, 1)], [(8, 1), (40, 1), (313, 1), (423, 1)], [(25, 2), (35, 1), (51, 1), (66, 1), (69, 1), (73, 1), (290, 1), (386, 1), (394, 1), (406, 1), (424, 1), (425, 1), (426, 1), (427, 1), (428, 1)], [(151, 1), (183, 1), (429, 1), (430, 1), (431, 1)], [(66, 1), (80, 1), (126, 2), (196, 1), (224, 1), (226, 1), (227, 1), (246, 1), (307, 1), (368, 1), (389, 1), (432, 1), (433, 1), (434, 1)], [(73, 1), (312, 1), (415, 1), (435, 1)], [(51, 1), (66, 1), (80, 1), (95, 1), (137, 1), (138, 1), (139, 1), (196, 1), (204, 1), (224, 1), (311, 1), (351, 1), (357, 1), (360, 1), (392, 1), (436, 1), (437, 1), (438, 1), (439, 1)], [(61, 1), (191, 1), (225, 1), (440, 1), (441, 1), (442, 1), (443, 1)], [(5, 1), (191, 1), (214, 1)], [(9, 1), (25, 1), (38, 1), (57, 1), (66, 1), (101, 1), (131, 1), (134, 1), (140, 1), (203, 1), (227, 1), (334, 1), (351, 1), (360, 1), (401, 1), (444, 1), (445, 1), (446, 1), (447, 1), (448, 1), (449, 1), (450, 1)], [(33, 1), (451, 1)], [(2, 1), (33, 1), (452, 1)], [(33, 1)], [(16, 1), (191, 1), (363, 1), (389, 1)], [(9, 1), (25, 1), (140, 1), (173, 1), (264, 1), (428, 1)], [(1, 1), (16, 1), (37, 1), (38, 1), (144, 1), (218, 1), (278, 1), (304, 1), (453, 1), (454, 1)], [(19, 1), (86, 1), (336, 1)], [(33, 1), (455, 1)], [(61, 1), (202, 1), (341, 1), (456, 1)], [(25, 1), (97, 1), (173, 1), (191, 1), (204, 1), (256, 1), (257, 1), (457, 1), (458, 1), (459, 2), (460, 1), (461, 1), (462, 2), (463, 1)], [(119, 1), (136, 1), (315, 1), (464, 1), (465, 1), (466, 1), (467, 1), (468, 1)], [(459, 1), (469, 1), (470, 1), (471, 1)], [(16, 1), (26, 1), (38, 1), (39, 1), (54, 1), (60, 1), (173, 1), (472, 1)], [(33, 1), (90, 1), (473, 1), (474, 1)], [], [(31, 1), (33, 1), (193, 1), (246, 1), (320, 1), (460, 1), (475, 1), (476, 1), (477, 1)], [(4, 2), (14, 1), (54, 1), (90, 1), (254, 1), (300, 1), (478, 1)], [(8, 1), (90, 1), (144, 1), (174, 1), (264, 1), (479, 1), (480, 1)], [(93, 1)], [(26, 1), (33, 1), (86, 1), (191, 2), (481, 1)], [(482, 1)], [(143, 1), (191, 1), (320, 1), (483, 1), (484, 1)], [(26, 1), (31, 1), (126, 1), (224, 1), (226, 1), (270, 1), (298, 1), (300, 1), (312, 1), (326, 1), (361, 1), (368, 1), (407, 1), (485, 1), (486, 1)], [(51, 1), (56, 2), (66, 1), (88, 1), (131, 1), (172, 1), (191, 1), (204, 2), (320, 1), (345, 1), (392, 1), (487, 1), (488, 1), (489, 1), (490, 1), (491, 1), (492, 1), (493, 1), (494, 1), (495, 1)], [(64, 1), (496, 1)], [(66, 1), (90, 1), (143, 1), (173, 1), (377, 1), (401, 1), (497, 1), (498, 1), (499, 1), (500, 1)], [(1, 1), (6, 1), (8, 1), (9, 1), (37, 2), (38, 1), (51, 2), (56, 2), (60, 1), (66, 2), (86, 2), (155, 1), (188, 1), (206, 2), (356, 1), (394, 1), (406, 1), (501, 1), (502, 2), (503, 1), (504, 1), (505, 1), (506, 1), (507, 1), (508, 1), (509, 1), (510, 1), (511, 1)], [], [(67, 1), (87, 1), (389, 1), (390, 1), (512, 1), (513, 1), (514, 1)], [(9, 1), (25, 1), (66, 1), (202, 1), (227, 1), (515, 1), (516, 1)], [(35, 1), (292, 1)], [(1, 1), (6, 1), (64, 1), (195, 1), (226, 1), (353, 1), (454, 1)], [(19, 1), (25, 1), (38, 2), (51, 1), (66, 1), (298, 1), (401, 1), (460, 1), (517, 1), (518, 1)], [(51, 2), (66, 2), (174, 2), (288, 1), (356, 1), (386, 1), (519, 1), (520, 1), (521, 2), (522, 1), (523, 1)], [(524, 1)], [(132, 1), (325, 1), (368, 1), (389, 1), (449, 1), (525, 1), (526, 1), (527, 1)], [(31, 1), (53, 1), (126, 1), (179, 1), (472, 2), (484, 1), (528, 1), (529, 1), (530, 1), (531, 1), (532, 1), (533, 1), (534, 1), (535, 1)], [(8, 3), (25, 1), (66, 1), (86, 1), (91, 1), (97, 1), (101, 1), (143, 1), (162, 2), (227, 1), (461, 1), (536, 1), (537, 1), (538, 1), (539, 1), (540, 1), (541, 1)], [(5, 1), (25, 1), (33, 1), (35, 1), (137, 1), (254, 1), (292, 1), (320, 1), (373, 1), (446, 1), (534, 1), (535, 1), (542, 1), (543, 1), (544, 1), (545, 1), (546, 1), (547, 1)], [(33, 1), (548, 1)], [(6, 1), (300, 1), (308, 1), (326, 1), (549, 1), (550, 1)], [(35, 1), (45, 1), (551, 1)], [(66, 1), (172, 1), (227, 1), (389, 1)], [(90, 1), (552, 1)], [(553, 1), (554, 1), (555, 1)], [(25, 1), (63, 1), (64, 1), (91, 1), (263, 1), (342, 1), (428, 1), (432, 1), (556, 1), (557, 1)], [(6, 1), (33, 1), (66, 2), (117, 1), (151, 1), (167, 1), (227, 1), (275, 1), (558, 1), (559, 1), (560, 1), (561, 1), (562, 1), (563, 1)], [(9, 1), (51, 1), (56, 1), (66, 1), (143, 1), (196, 1), (288, 1), (319, 1), (401, 1), (407, 1), (564, 1), (565, 1), (566, 1)], [(6, 1), (12, 1), (136, 1), (203, 1), (424, 1), (463, 1), (553, 1), (567, 1)], [(226, 1), (300, 1), (326, 1), (568, 1)], [(21, 1), (33, 1), (73, 1), (86, 1), (90, 1), (271, 1), (353, 1), (568, 1), (569, 1)], [(167, 1), (570, 1)], [(8, 1), (133, 2), (195, 1), (300, 1), (510, 1), (571, 1)], [(137, 1), (180, 1), (191, 1)], [(8, 1), (90, 1), (313, 1)], [(86, 1), (133, 1), (189, 1)], [(11, 1)], [(73, 1), (199, 1)], [(93, 1)], [(8, 1), (31, 1), (40, 1), (184, 1), (207, 1), (392, 1), (532, 1), (572, 1), (573, 1), (574, 1)], [(25, 1), (90, 1), (569, 1), (575, 1), (576, 2), (577, 1), (578, 1), (579, 1), (580, 1)], [(10, 1), (25, 1), (64, 1), (173, 1), (345, 1), (459, 1), (581, 1)], [(183, 1), (391, 1), (582, 1), (583, 1)], [(152, 1)], [(37, 1), (39, 1), (45, 1), (64, 1), (91, 1), (127, 1), (134, 2), (193, 1), (225, 1), (287, 1), (323, 1), (326, 1), (371, 1), (389, 1), (390, 1), (432, 1), (441, 1), (497, 1), (567, 1), (584, 1), (585, 1), (586, 2), (587, 1), (588, 1), (589, 1), (590, 2)], [(60, 1), (64, 1), (256, 2), (591, 1)], [(14, 1), (167, 1), (484, 1), (529, 1)], [(10, 1), (37, 1), (38, 1), (51, 1), (66, 1), (132, 1), (143, 1), (172, 1), (173, 1), (191, 1), (315, 1), (438, 1), (592, 1), (593, 1), (594, 1)], [(6, 2), (8, 2), (12, 1), (39, 1), (51, 1), (56, 1), (64, 1), (66, 2), (88, 1), (97, 1), (140, 1), (203, 3), (218, 1), (313, 1), (345, 1), (381, 1), (386, 1), (406, 1), (445, 3), (476, 1), (523, 1), (562, 1), (564, 1), (567, 1), (595, 1), (596, 1), (597, 1), (598, 1), (599, 1), (600, 2), (601, 1), (602, 1), (603, 1), (604, 1)], [(25, 1), (66, 1), (81, 2), (87, 1), (227, 1), (246, 1), (250, 2), (302, 2), (483, 1), (484, 1), (534, 1), (552, 1), (605, 1), (606, 1), (607, 1), (608, 1), (609, 1), (610, 1)], [(86, 1), (88, 1), (90, 1), (134, 1), (137, 1), (271, 1), (550, 1), (611, 1), (612, 1)], [(8, 1), (10, 1), (37, 1), (51, 1), (56, 1), (66, 3), (103, 1), (137, 1), (140, 1), (172, 1), (201, 1), (203, 1), (204, 1), (296, 1), (320, 1), (386, 1), (407, 2), (492, 1), (493, 1), (502, 1), (613, 1), (614, 1), (615, 1), (616, 1), (617, 2), (618, 1), (619, 1)], [(33, 1), (189, 1)], [(6, 3), (52, 1), (53, 1), (80, 1), (172, 1), (186, 1), (196, 1), (246, 1), (288, 1), (320, 1), (428, 1), (502, 1), (510, 1), (517, 1), (620, 1), (621, 2), (622, 1), (623, 1), (624, 1)], [(9, 1), (57, 1), (64, 1), (109, 1), (625, 1), (626, 1)], [(191, 1)], [(8, 2), (9, 1), (169, 1), (345, 1), (627, 1), (628, 1), (629, 1), (630, 1), (631, 1)], [(152, 1)], [(100, 1), (167, 1), (172, 1), (202, 1), (632, 1)], [(93, 1)], [(8, 1), (10, 1), (51, 1), (66, 2), (88, 1), (226, 1), (227, 1), (356, 1), (462, 1), (499, 1), (633, 1), (634, 1), (635, 1), (636, 1)], [(33, 1), (40, 1), (53, 1), (92, 1), (192, 1), (193, 1), (361, 1), (394, 1), (418, 1), (428, 1), (507, 1), (515, 1), (531, 1), (534, 1), (637, 1), (638, 1), (639, 1), (640, 1)], [(288, 1), (590, 1), (618, 1), (641, 1)], [(80, 1), (143, 1), (152, 1), (284, 1), (642, 1), (643, 1), (644, 1), (645, 1)], [(182, 1), (191, 1)], [(56, 1), (85, 1), (646, 1), (647, 1)], [(51, 1), (54, 1), (56, 1), (66, 1), (225, 1), (567, 1), (646, 1), (648, 1), (649, 1), (650, 1), (651, 1), (652, 1), (653, 1)], [(174, 1), (654, 1), (655, 1)], [(167, 1), (321, 1), (656, 1)], [(8, 2), (35, 1), (66, 2), (82, 1), (135, 1), (203, 4), (208, 1), (274, 1), (339, 1), (385, 1), (394, 1), (434, 1), (502, 1), (546, 1), (657, 1), (658, 1), (659, 1), (660, 1), (661, 1), (662, 1), (663, 1), (664, 1)], [(133, 1), (665, 1)], [(37, 1), (83, 1), (88, 1), (300, 1), (666, 1), (667, 1), (668, 1)], [(66, 1), (88, 1), (135, 1), (226, 1), (227, 1), (406, 1), (432, 1), (492, 1), (523, 1), (625, 2), (669, 1), (670, 1), (671, 1), (672, 1), (673, 1), (674, 1), (675, 1), (676, 1), (677, 1), (678, 1)], [(679, 1), (680, 1)], [(484, 1), (529, 1)], [], [(6, 2), (8, 1), (136, 1), (171, 1), (201, 1), (203, 1), (368, 1), (492, 1), (567, 1), (612, 1), (633, 1)], [(681, 1), (682, 1)], [(37, 1), (53, 1), (55, 1), (56, 1), (61, 1), (66, 1), (79, 1), (97, 1), (108, 1), (203, 1), (325, 1), (422, 1), (559, 1), (594, 1), (683, 1), (684, 1)], [(86, 2), (93, 1), (189, 1), (508, 1), (685, 1)], [(6, 3), (8, 1), (10, 1), (13, 1), (45, 1), (51, 1), (55, 1), (60, 1), (66, 2), (119, 1), (203, 2), (282, 1), (310, 1), (315, 1), (355, 1), (357, 1), (368, 1), (370, 1), (389, 1), (424, 1), (434, 1), (450, 1), (459, 1), (523, 1), (567, 1), (594, 1), (686, 1), (687, 2)], [(6, 1), (37, 2), (80, 2), (85, 1), (155, 1), (191, 1), (193, 1), (218, 1), (253, 1), (309, 2), (310, 1), (344, 1), (347, 1), (379, 1), (454, 1), (463, 1), (507, 1), (543, 1), (564, 1), (633, 1), (655, 1), (660, 1), (688, 2), (689, 1), (690, 1), (691, 1), (692, 1)], [(33, 1), (497, 1), (547, 1), (659, 1), (693, 1)], [(33, 1), (189, 1), (267, 1), (278, 1)], [(131, 1), (422, 1)], [(51, 1), (56, 1), (66, 1), (73, 1), (129, 1), (308, 1), (354, 1), (378, 1), (394, 1), (411, 1), (459, 2), (573, 1), (694, 1), (695, 1), (696, 1), (697, 1), (698, 1)], [(199, 1), (261, 1)], [(191, 1)], [(33, 1), (699, 1)], [(26, 1), (64, 1), (86, 1), (356, 1), (459, 1), (545, 1), (679, 1), (700, 1)], [(226, 1), (284, 1), (422, 1), (436, 1), (701, 1), (702, 1), (703, 1)], [(33, 1), (144, 1), (704, 1)], [(6, 1), (8, 1), (9, 1), (51, 1), (56, 1), (66, 2), (121, 1), (140, 1), (162, 2), (227, 1), (344, 1), (354, 1), (378, 1), (434, 1), (450, 2), (459, 5), (537, 1), (617, 1), (705, 1), (706, 1), (707, 1), (708, 1), (709, 1), (710, 1), (711, 1), (712, 1)], [(6, 3), (8, 2), (10, 2), (27, 1), (47, 1), (64, 1), (65, 1), (135, 1), (155, 1), (315, 1), (353, 1), (713, 1), (714, 1), (715, 1), (716, 1), (717, 1), (718, 1), (719, 1), (720, 1)], [(8, 1), (31, 1), (51, 1), (57, 1), (60, 1), (66, 1), (68, 1), (76, 1), (394, 1), (721, 1)], [(722, 1)], [(35, 1)], [(37, 1), (65, 1), (174, 1), (723, 1), (724, 1)], [(307, 1), (320, 1), (725, 1), (726, 1), (727, 1)], [(8, 1), (13, 1), (37, 1), (51, 1), (66, 1), (90, 1), (192, 1), (264, 1), (282, 1), (302, 1), (313, 1), (417, 1), (728, 1), (729, 1), (730, 1), (731, 1)], [(25, 1), (33, 1), (140, 1), (143, 1), (189, 1), (732, 1), (733, 1), (734, 1), (735, 1), (736, 1), (737, 1), (738, 1), (739, 1)], [(189, 1), (191, 1), (262, 1)], [(8, 1), (250, 1), (274, 1), (276, 1), (434, 1)], [(189, 1), (191, 1), (262, 1)], [(226, 1), (389, 1), (432, 1), (471, 1)], [(1, 2), (6, 3), (10, 1), (12, 2), (39, 1), (40, 1), (61, 1), (119, 1), (167, 1), (309, 1), (315, 1), (335, 1), (338, 1), (381, 1), (389, 3), (448, 1), (462, 1), (463, 1), (477, 1), (497, 1), (564, 1), (568, 1), (572, 1), (694, 1), (740, 1), (741, 1), (742, 1), (743, 1), (744, 1), (745, 1), (746, 1), (747, 1), (748, 1), (749, 1), (750, 1)], [(191, 1), (751, 1), (752, 1)], [(56, 1), (202, 1), (753, 1), (754, 1)], [(33, 1), (135, 1), (755, 1)], [(191, 1), (756, 1)], [(300, 1), (450, 1), (472, 1), (529, 3), (599, 3), (757, 1)], [(191, 1)], [(33, 1), (167, 1)], [(51, 1), (61, 1), (66, 1), (90, 1), (172, 2), (202, 1), (348, 1), (385, 1), (497, 1), (498, 1), (613, 1), (758, 1), (759, 1), (760, 1), (761, 1), (762, 1)], [(92, 1), (133, 1), (201, 1)], [(199, 1)], [(252, 1)], [(31, 1), (137, 1), (302, 1), (763, 1), (764, 1), (765, 1)], [(191, 1)], [(33, 1), (214, 1), (766, 1), (767, 1)], [(56, 1), (300, 1), (309, 1), (428, 1), (587, 1), (683, 1), (684, 1), (768, 1), (769, 1), (770, 1), (771, 1), (772, 1), (773, 1), (774, 1), (775, 1)], [(86, 1), (189, 1)], [(191, 1)], [(6, 1), (8, 2), (37, 1), (40, 1), (55, 1), (66, 1), (80, 1), (90, 1), (117, 1), (199, 1), (206, 1), (227, 1), (230, 1), (233, 1), (273, 1), (298, 1), (313, 2), (460, 1), (510, 1)], [(66, 2), (90, 1), (201, 1), (224, 1), (227, 1)], [(8, 1), (26, 1), (32, 1), (82, 1), (91, 1), (109, 1), (249, 1), (300, 1), (323, 1), (363, 1), (617, 1), (776, 1), (777, 1), (778, 1), (779, 1), (780, 1), (781, 1)], [(6, 1), (35, 1), (57, 1), (73, 1), (143, 1), (186, 1), (191, 1), (319, 1), (320, 1), (326, 1), (446, 1), (645, 1), (782, 1), (783, 1), (784, 1), (785, 1), (786, 1), (787, 1), (788, 1), (789, 1)], [(25, 1), (72, 1), (91, 1), (189, 1), (196, 1), (261, 1), (790, 1), (791, 1), (792, 1), (793, 1)], [(25, 1), (135, 1), (401, 1)], [(51, 1), (66, 1), (80, 1), (88, 1), (196, 1), (224, 1), (794, 1)], [(6, 1), (8, 1), (19, 1), (55, 1), (90, 1), (313, 1), (617, 1), (795, 1), (796, 1)], [(797, 1)], [(13, 1), (25, 1), (51, 2), (66, 2), (193, 1), (294, 1), (392, 1), (422, 2), (523, 1), (798, 1)], [(73, 1), (91, 1)], [(385, 1), (712, 1), (799, 1)], [(5, 1), (6, 1), (8, 3), (25, 3), (38, 1), (39, 1), (48, 1), (51, 1), (55, 1), (56, 1), (60, 2), (66, 3), (71, 1), (77, 1), (81, 1), (86, 1), (88, 1), (95, 1), (97, 1), (140, 1), (146, 1), (160, 1), (172, 1), (193, 1), (196, 2), (201, 1), (203, 1), (227, 2), (247, 1), (254, 1), (255, 1), (261, 1), (296, 1), (302, 1), (309, 2), (313, 1), (347, 1), (356, 1), (363, 1), (380, 1), (392, 1), (408, 1), (447, 1), (450, 1), (463, 1), (496, 1), (523, 1), (573, 1), (617, 1), (657, 1), (687, 1), (743, 1), (781, 1), (800, 1), (801, 1), (802, 1), (803, 1), (804, 2), (805, 1), (806, 1), (807, 1), (808, 1), (809, 1), (810, 1), (811, 1), (812, 1), (813, 1), (814, 1), (815, 1), (816, 1), (817, 2), (818, 1), (819, 1), (820, 1)], [(43, 1), (64, 1), (157, 1), (167, 1), (264, 1), (464, 1), (479, 1), (656, 1)], [(8, 3), (25, 1), (56, 2), (65, 2), (79, 2), (204, 1), (387, 1), (407, 1), (550, 1), (609, 1), (821, 1), (822, 1), (823, 1), (824, 1), (825, 1)], [(6, 1), (31, 2), (61, 1), (67, 1), (77, 1), (140, 1), (173, 1), (344, 1), (347, 1), (549, 1), (764, 1), (786, 1), (826, 1), (827, 1), (828, 1), (829, 1), (830, 1), (831, 1)], [(6, 1), (8, 2), (9, 1), (51, 1), (55, 1), (56, 2), (61, 1), (64, 1), (65, 1), (68, 1), (90, 1), (186, 1), (204, 1), (250, 1), (313, 2), (320, 1), (377, 1), (378, 2), (407, 1), (434, 1), (492, 1), (550, 1), (553, 1), (633, 1), (770, 1), (832, 1), (833, 1), (834, 1)], [(133, 1), (237, 1), (835, 1)], [(33, 1)], [(87, 1), (191, 1), (215, 1), (729, 1), (836, 1)], [(1, 1), (6, 1), (25, 1), (26, 1), (33, 1), (37, 1), (64, 2), (103, 1), (136, 1), (137, 1), (195, 1), (201, 1), (254, 1), (309, 1), (323, 1), (558, 1), (586, 2), (770, 1), (837, 1), (838, 1), (839, 1), (840, 1), (841, 1), (842, 2), (843, 1), (844, 1), (845, 1)], [(25, 1), (60, 1), (80, 1), (88, 1), (113, 1), (146, 1), (220, 1), (240, 1), (394, 2), (475, 1), (617, 1), (846, 1), (847, 1), (848, 1), (849, 1), (850, 1), (851, 1)], [(2, 2), (11, 1), (13, 1), (35, 1), (51, 2), (66, 1), (73, 1), (90, 1), (136, 1), (191, 1), (254, 1), (372, 1), (446, 1), (517, 1), (655, 1), (728, 1), (852, 1), (853, 1), (854, 1), (855, 1), (856, 1), (857, 1)], [(193, 1), (392, 1), (858, 1), (859, 1), (860, 1)], [(37, 1), (202, 1), (204, 1), (422, 1)], [(33, 1), (129, 1), (132, 1), (336, 1), (861, 1), (862, 1)], [(35, 2), (38, 1), (191, 1), (246, 1), (252, 3), (283, 1)], [(90, 1), (133, 1), (239, 1), (322, 1), (558, 1), (709, 1), (863, 1), (864, 1)], [(291, 1), (455, 1), (564, 1), (865, 1), (866, 1)], [(867, 1)], [(51, 1), (66, 1), (173, 1), (438, 1), (655, 1)], [(54, 1), (91, 1), (192, 1), (193, 1), (226, 1), (299, 1), (300, 1), (436, 1), (868, 1)], [(25, 1), (33, 1), (86, 1), (251, 1)], [(8, 1), (33, 1), (172, 1), (719, 1), (869, 1)], [(25, 1), (66, 1), (126, 1), (227, 1), (401, 1), (870, 1)], [(86, 1), (152, 1), (240, 1), (262, 1), (376, 1), (433, 1), (442, 1), (447, 1), (871, 1), (872, 1)], [(33, 1)], [(0, 1), (140, 1), (309, 1), (389, 1), (609, 1), (873, 1)], [(19, 1), (35, 1), (56, 1), (73, 1), (508, 1), (874, 1), (875, 1)], [(66, 1), (138, 1), (198, 1), (227, 1), (394, 1), (876, 1)], [(53, 1), (80, 1), (191, 1), (290, 1), (300, 1), (394, 1), (420, 1), (877, 1)], [(252, 1)], [(292, 1), (878, 1)], [(73, 1), (415, 1)], [(8, 3), (31, 1), (246, 1), (879, 1), (880, 1)], [(33, 1)], [(91, 1)], [(422, 1)], [(199, 1)], [(25, 1), (26, 1), (86, 1), (90, 1), (132, 2), (191, 1), (252, 1)], [(8, 1), (56, 1), (61, 1), (143, 1), (191, 1), (204, 1), (313, 1), (320, 1), (380, 1)], [(252, 1), (254, 1), (302, 1), (881, 1)], [(35, 1)], [(6, 1), (19, 1), (882, 1), (883, 1)], [(167, 1), (858, 1)], [(8, 1), (51, 1), (55, 1), (57, 1), (66, 2), (70, 1), (99, 2), (134, 3), (143, 1), (162, 2), (169, 1), (225, 1), (227, 1), (232, 1), (345, 1), (513, 1), (532, 1), (818, 1), (884, 1), (885, 1), (886, 1), (887, 1), (888, 1)], [(86, 1), (90, 1), (93, 1)], [(252, 1)], [(252, 1), (857, 1)], [(191, 1), (261, 1), (889, 1), (890, 1)], [(25, 1), (73, 2), (91, 1), (191, 1), (193, 1), (240, 1), (262, 1), (847, 1), (891, 1), (892, 1)], [(31, 2), (53, 1), (80, 1), (83, 1), (88, 1), (90, 1), (144, 1), (202, 1), (204, 1), (214, 1), (469, 1), (505, 1), (862, 1), (865, 1), (893, 1), (894, 1)], [(28, 1), (56, 1), (66, 1), (90, 1), (136, 1), (196, 1), (227, 1), (356, 1), (408, 1), (432, 1), (450, 1), (511, 1), (669, 1), (883, 1), (895, 1)], [(137, 1), (167, 1), (896, 1), (897, 1)], [(53, 1), (134, 1), (320, 1), (484, 1), (529, 1), (786, 1), (898, 1)], [(252, 1)], [(33, 1)], [(21, 1), (56, 1), (80, 1), (86, 1), (91, 1), (146, 1), (191, 1), (261, 1), (264, 1), (271, 1), (320, 1), (415, 1), (418, 1), (475, 1), (869, 1), (899, 1), (900, 1)], [(208, 1), (263, 1), (264, 1), (282, 1), (827, 1)], [(8, 3), (51, 1), (56, 1), (61, 1), (66, 2), (90, 1), (172, 1), (204, 1), (296, 1), (422, 1), (434, 1), (563, 1), (818, 1), (901, 1), (902, 1), (903, 1)], [(25, 1), (31, 1), (33, 1), (38, 1), (51, 1), (56, 1), (66, 1), (90, 1), (129, 1), (168, 1), (201, 1), (202, 1), (204, 1), (448, 1), (532, 1), (534, 2), (589, 1), (631, 1), (658, 1), (677, 1), (723, 1), (887, 1), (904, 1), (905, 1), (906, 1), (907, 1), (908, 1), (909, 1), (910, 1)], [(25, 2), (37, 1), (38, 1), (51, 2), (66, 2), (84, 1), (87, 1), (88, 1), (108, 1), (136, 1), (140, 1), (155, 2), (292, 1), (308, 1), (389, 1), (459, 3), (497, 1), (655, 1), (749, 1), (911, 1), (912, 1), (913, 1)], [(8, 1), (25, 1), (90, 1), (146, 1), (173, 1), (191, 1), (238, 1), (243, 1), (292, 1), (309, 1), (332, 1), (379, 1), (404, 1), (438, 1), (567, 1), (788, 1), (862, 1), (877, 1), (914, 1), (915, 1)], [(333, 1)], [(127, 1), (646, 1)], [(64, 1), (135, 1), (916, 1), (917, 1)], [(1, 2), (6, 1), (8, 2), (9, 1), (10, 1), (33, 1), (47, 1), (56, 1), (60, 2), (64, 1), (79, 1), (87, 1), (214, 1), (226, 1), (230, 1), (246, 1), (324, 1), (356, 1), (375, 1), (380, 1), (386, 1), (437, 1), (446, 1), (798, 2), (843, 1), (908, 1), (918, 1), (919, 1), (920, 1), (921, 1), (922, 1), (923, 1), (924, 1), (925, 1), (926, 1), (927, 1), (928, 1), (929, 1)], [(6, 1), (64, 1), (66, 1), (90, 1), (227, 1), (469, 1), (930, 1)], [(56, 1), (599, 1), (902, 1)], [(8, 1), (37, 1), (66, 1), (81, 1), (97, 1), (141, 1), (174, 1), (203, 1), (818, 1), (931, 1), (932, 1), (933, 1)], [(13, 1), (32, 1), (37, 1), (39, 1), (51, 2), (54, 1), (56, 1), (66, 3), (80, 1), (88, 1), (90, 2), (102, 1), (126, 2), (127, 1), (130, 1), (173, 1), (196, 2), (227, 1), (240, 1), (262, 1), (307, 1), (377, 1), (502, 1), (648, 1), (934, 1), (935, 1)], [(73, 1), (86, 1), (336, 1), (415, 1)], [(8, 2), (9, 1), (64, 1), (90, 2), (357, 1), (423, 1), (434, 1), (635, 1), (761, 1), (818, 1), (936, 1), (937, 1)], [(64, 1), (529, 1), (599, 1)], [(25, 1), (33, 1), (87, 1), (157, 1), (308, 1), (938, 1), (939, 1)], [(8, 1), (135, 1), (171, 1), (172, 1), (434, 1)], [(134, 1), (208, 1), (267, 1), (324, 1), (356, 1), (390, 1), (471, 1), (558, 1), (827, 1), (916, 1), (940, 1), (941, 1), (942, 1), (943, 1), (944, 1), (945, 1), (946, 1)], [(66, 1), (227, 1), (947, 1)], [(33, 1)], [(91, 1)], [(226, 1), (246, 1), (446, 1), (948, 1), (949, 1)], [(25, 1), (88, 1), (196, 1), (228, 1), (356, 1), (381, 1), (633, 1), (950, 1), (951, 1), (952, 1)], [(25, 1), (86, 1), (189, 1), (953, 1), (954, 1), (955, 1), (956, 1), (957, 1), (958, 1), (959, 1)], [(64, 1), (167, 1), (214, 1), (336, 1), (960, 1)], [(14, 1), (37, 1), (82, 1), (146, 1), (247, 1), (300, 1), (345, 1), (750, 1), (832, 1), (961, 1), (962, 1)], [(25, 1), (497, 2), (749, 2), (963, 1), (964, 1)], [(214, 1), (225, 1), (292, 1), (347, 1), (433, 1), (821, 1), (862, 1), (896, 1), (965, 1), (966, 1)], [(8, 1), (246, 1), (638, 1), (967, 1), (968, 1)], [(6, 1), (8, 1), (309, 1), (313, 1), (363, 1), (389, 1), (463, 1), (477, 2), (496, 1), (668, 1), (969, 1), (970, 1)], [(6, 1), (25, 2), (37, 1), (79, 1), (134, 1), (140, 1), (170, 1), (172, 1), (201, 1), (309, 2), (386, 1), (407, 1), (422, 1), (540, 1), (594, 1), (612, 1), (633, 1), (820, 1), (862, 2), (971, 1), (972, 1), (973, 1)], [(64, 1), (66, 2), (144, 1), (171, 1), (172, 1), (174, 1), (204, 1), (227, 1), (387, 1), (563, 1), (974, 1), (975, 1), (976, 1)], [(511, 1), (838, 1), (977, 1), (978, 1)], [(10, 1), (103, 1), (463, 1), (476, 1), (581, 1), (726, 3), (854, 1), (979, 1), (980, 1)], [(37, 1), (55, 1), (59, 1), (71, 1), (73, 1), (85, 1), (90, 1), (135, 1), (163, 1), (167, 1), (202, 1), (339, 1), (394, 1), (615, 1), (817, 1), (981, 1), (982, 2), (983, 2)], [(33, 1), (86, 1)], [(33, 1)], [(252, 1)], [(93, 1)], [(21, 1), (25, 2), (35, 1), (54, 1), (73, 1), (176, 1), (211, 1), (225, 1), (415, 1), (455, 1), (548, 1), (831, 1), (984, 1)], [], [(64, 1), (73, 1), (985, 1), (986, 1), (987, 1), (988, 1)], [(85, 1), (202, 1)], [(90, 1), (167, 1), (191, 1), (989, 1)], [(1, 1), (246, 1), (614, 1), (990, 1)], [(31, 1), (38, 1), (40, 1), (201, 1), (202, 1)], [(6, 1), (9, 1), (33, 1), (38, 1), (42, 1), (51, 1), (55, 1), (64, 2), (66, 1), (70, 1), (80, 1), (90, 1), (110, 1), (136, 1), (176, 1), (192, 1), (196, 1), (198, 1), (307, 1), (324, 1), (556, 1), (659, 1), (991, 1), (992, 1), (993, 1), (994, 1)], [(31, 1), (38, 1), (135, 1), (202, 1), (204, 1), (265, 1), (394, 1), (489, 1), (658, 1), (692, 1), (743, 1), (875, 1), (995, 1)], [(252, 1), (267, 1), (292, 1), (766, 1), (996, 1)], [(131, 1), (264, 1), (302, 1), (422, 1), (997, 1)], [(61, 1), (132, 1), (422, 1), (460, 1), (465, 1), (468, 1)], [(252, 1)], [(6, 1), (8, 1), (40, 1), (80, 1), (394, 1), (463, 1), (655, 1), (796, 1), (913, 1), (998, 1), (999, 1), (1000, 1)], [(10, 1), (54, 1), (56, 2), (66, 2), (90, 1), (137, 2), (143, 1), (202, 1), (218, 1), (227, 2), (315, 1), (357, 1), (418, 1), (547, 1), (615, 1), (1001, 2), (1002, 1), (1003, 1), (1004, 1), (1005, 1)], [(35, 1)], [(35, 1)], [(8, 1), (10, 1), (25, 1), (31, 1), (33, 1), (86, 1), (90, 1), (91, 1), (165, 1), (240, 2), (271, 1), (356, 1), (387, 1), (492, 1), (617, 1), (847, 2), (919, 1), (1006, 1), (1007, 1), (1008, 1)], [(86, 1), (90, 1), (191, 1), (728, 1), (956, 1)], [(33, 1)], [(21, 1), (25, 3), (26, 1), (38, 1), (66, 1), (86, 1), (90, 1), (227, 1), (302, 1), (472, 1), (556, 1), (851, 1), (947, 1), (1009, 1), (1010, 1)], [(33, 1), (38, 1), (225, 1), (246, 1), (298, 1), (319, 1), (336, 1), (345, 1), (446, 1), (472, 1), (645, 1), (862, 1), (1011, 1), (1012, 1)], [(33, 1)], [(140, 1), (167, 1), (226, 1), (556, 1), (1013, 1)], [(25, 1), (214, 1), (254, 1), (1014, 1), (1015, 1)], [(6, 1), (26, 1), (37, 1), (51, 1), (53, 1), (62, 1), (64, 1), (73, 1), (90, 1), (170, 1), (191, 2), (300, 1), (308, 1), (386, 1), (594, 1), (655, 1), (688, 1), (930, 1), (981, 1), (1016, 1), (1017, 1), (1018, 1), (1019, 1), (1020, 1), (1021, 1)], [(415, 1), (1022, 1)], [(5, 1), (252, 1), (261, 1), (1014, 1), (1023, 1), (1024, 1), (1025, 1), (1026, 1)], [(262, 1), (679, 1)], [(9, 1), (51, 1), (66, 1), (134, 1), (202, 1), (304, 1), (357, 1), (474, 1), (553, 1), (574, 1), (679, 1), (761, 1), (1027, 1), (1028, 1)], [(133, 1)], [(252, 1)], [(25, 1), (31, 1), (73, 1), (87, 1), (117, 1), (159, 2), (320, 1), (394, 1), (415, 1), (515, 2), (1029, 1)], [(140, 1), (211, 1), (1011, 1)], [(33, 2), (39, 1), (64, 1), (73, 2), (186, 1), (194, 1), (196, 1), (308, 1), (319, 1), (320, 1), (459, 3), (515, 1), (559, 1), (645, 1), (1030, 1), (1031, 1)], [(6, 1), (8, 2), (56, 1), (206, 1), (407, 1), (493, 1), (502, 1), (1032, 1), (1033, 1), (1034, 1)], [(6, 1), (13, 1), (25, 5), (39, 2), (40, 1), (51, 2), (53, 1), (64, 3), (65, 1), (66, 2), (80, 1), (90, 3), (149, 1), (193, 1), (246, 1), (308, 1), (320, 2), (325, 1), (364, 1), (391, 1), (451, 1), (459, 1), (460, 1), (462, 1), (463, 1), (475, 2), (497, 2), (498, 2), (609, 1), (645, 1), (716, 3), (821, 1), (885, 1), (908, 1), (959, 1), (979, 1), (997, 1), (1035, 1), (1036, 1), (1037, 1), (1038, 1), (1039, 1), (1040, 1), (1041, 1), (1042, 1), (1043, 1), (1044, 2), (1045, 1), (1046, 1), (1047, 1), (1048, 1), (1049, 1), (1050, 1), (1051, 1), (1052, 1), (1053, 1), (1054, 1), (1055, 1), (1056, 1), (1057, 2), (1058, 1), (1059, 1)], [(25, 1), (31, 1), (42, 1), (55, 1), (56, 1), (61, 1), (462, 1), (780, 1), (993, 1), (1060, 1), (1061, 1), (1062, 2), (1063, 1), (1064, 1), (1065, 1)], [(56, 2), (61, 1), (65, 1), (345, 1), (432, 1), (565, 1), (625, 2), (671, 1), (883, 1), (887, 1), (1066, 1), (1067, 1)], [(42, 1), (43, 1), (79, 1), (264, 1), (727, 1), (896, 1), (1062, 1), (1068, 1)], [(48, 1), (55, 1), (87, 1), (88, 2), (108, 1), (135, 1), (136, 1), (226, 1), (309, 2), (344, 1), (354, 1), (432, 1), (450, 1), (562, 1), (671, 1), (674, 1), (726, 1), (869, 1), (1019, 1), (1069, 1), (1070, 1), (1071, 1)], [(19, 1), (51, 2), (56, 1), (66, 2), (81, 1), (137, 1), (167, 1), (227, 1), (389, 1), (424, 1), (627, 1), (1072, 1)], [(199, 1), (1073, 1), (1074, 1)], [(10, 1), (33, 1), (131, 1), (251, 1), (446, 1), (860, 1), (1075, 1), (1076, 2), (1077, 1), (1078, 1)], [(26, 1), (33, 1), (35, 1), (211, 1), (446, 1), (481, 1)], [(6, 3), (25, 2), (37, 2), (39, 1), (45, 2), (67, 1), (151, 1), (160, 1), (172, 1), (206, 1), (264, 2), (275, 1), (385, 1), (387, 4), (438, 2), (463, 1), (464, 1), (523, 1), (562, 1), (567, 1), (626, 1), (762, 1), (821, 1), (856, 1), (890, 1), (914, 1), (1079, 1), (1080, 1), (1081, 1), (1082, 1), (1083, 1), (1084, 2), (1085, 1)], [(353, 1), (536, 1), (679, 1), (726, 1)], [(25, 1), (37, 1), (56, 1), (73, 1), (291, 1), (422, 1), (554, 1), (1086, 1), (1087, 1)], [(723, 1)], [(25, 1), (202, 1), (565, 1), (627, 1)], [(146, 1), (168, 1), (875, 1), (1088, 1)], [(246, 1), (300, 1), (302, 1), (763, 1), (1089, 1)], [(1090, 1), (1091, 1)], [(8, 2), (25, 1), (31, 1), (55, 1), (56, 1), (289, 1), (356, 1), (446, 1), (517, 1), (617, 1), (921, 1)], [(86, 1), (91, 1), (191, 1)], [(60, 1), (438, 1), (851, 1)], [(90, 1), (556, 1), (1092, 1)], [(86, 1), (87, 1), (728, 1), (821, 1), (929, 1), (1093, 1), (1094, 1)], [(191, 1)], [(51, 1), (56, 1), (66, 1), (815, 1)], [(6, 1), (66, 1), (91, 1), (227, 1), (389, 1), (633, 1), (815, 1)], [(6, 1), (25, 1), (28, 1), (45, 1), (67, 1), (79, 1), (88, 1), (136, 1), (161, 1), (171, 1), (191, 1), (193, 1), (200, 1), (217, 1), (225, 1), (230, 1), (234, 1), (246, 1), (250, 1), (271, 2), (288, 1), (294, 1), (300, 1), (304, 1), (315, 1), (320, 2), (335, 1), (344, 1), (345, 2), (351, 1), (394, 1), (419, 1), (428, 1), (442, 1), (450, 2), (507, 1), (529, 1), (549, 1), (552, 1), (564, 1), (583, 1), (599, 1), (679, 1), (769, 1), (771, 1), (786, 1), (887, 1), (902, 1), (1027, 1), (1064, 1), (1095, 1), (1096, 1), (1097, 1), (1098, 1), (1099, 1), (1100, 1), (1101, 1), (1102, 1), (1103, 1), (1104, 1), (1105, 1), (1106, 1), (1107, 1), (1108, 1), (1109, 1), (1110, 1), (1111, 1), (1112, 1)], [(33, 1)], [(199, 1)], [(33, 1)], [(8, 1), (25, 1), (67, 1), (119, 1), (168, 1), (226, 1), (264, 1), (315, 1), (347, 1), (387, 1), (452, 1), (497, 1), (498, 1), (499, 1), (573, 1), (597, 1), (713, 1), (801, 1), (997, 1), (1113, 1), (1114, 1), (1115, 1), (1116, 1)], [(33, 1)], [(6, 1), (8, 2), (51, 1), (54, 1), (66, 1), (204, 1), (309, 1), (389, 1), (434, 1), (462, 1), (568, 1), (959, 1), (997, 1), (1033, 1)], [(31, 1), (33, 1), (1106, 1)], [(35, 1)], [(252, 1)], [(10, 2), (22, 1), (35, 1), (61, 1), (87, 1), (103, 1), (186, 1), (191, 2), (320, 1), (765, 2), (1117, 1), (1118, 1), (1119, 1)], [(93, 1)], [(5, 1), (8, 1), (9, 1), (51, 1), (60, 1), (66, 1), (77, 1), (517, 1), (997, 1), (1120, 1)], [(25, 1), (31, 1), (191, 1), (320, 1), (394, 1), (434, 1), (446, 1), (687, 1), (832, 1), (1121, 1), (1122, 1)], [(5, 1), (6, 1), (8, 1), (64, 1), (90, 1), (108, 1), (171, 1), (302, 1), (315, 1), (438, 1), (466, 1), (851, 1)], [(33, 1)], [(0, 1), (6, 1), (52, 1), (97, 1), (172, 1), (211, 1), (257, 1), (264, 1), (462, 1), (614, 1), (671, 1), (1123, 1)], [(25, 1), (90, 1), (172, 1), (1124, 1), (1125, 1)], [(45, 1), (51, 1), (64, 1), (157, 1), (199, 1)], [(33, 1), (86, 1), (189, 1), (418, 1), (1126, 1)], [(33, 1), (53, 1), (64, 1), (167, 1), (228, 1), (255, 1), (449, 1), (877, 1), (1116, 1), (1127, 1)], [(26, 1)], [(31, 1), (88, 1), (167, 1), (182, 1), (640, 1), (709, 1), (1128, 1), (1129, 1)], [(137, 1), (302, 1), (526, 1), (562, 1), (885, 1), (1036, 1)], [(8, 1), (37, 2), (61, 1), (90, 1), (108, 1), (152, 1), (188, 1), (315, 1), (387, 1), (1028, 1), (1089, 1), (1130, 1), (1131, 1), (1132, 1), (1133, 1)], [(90, 1), (587, 1), (655, 1), (818, 1), (1068, 1)], [(33, 1), (86, 1), (302, 1)], [(73, 1), (91, 1), (300, 1)], [(435, 1)], [(167, 1), (290, 1), (1134, 1), (1135, 1), (1136, 1)], [(45, 1), (127, 1), (186, 1), (332, 1), (836, 1)], [(110, 1), (225, 1), (252, 1), (460, 1), (1137, 1)], [(73, 1), (91, 1), (92, 1), (109, 1), (515, 1), (1029, 1)], [(45, 1), (127, 1), (1138, 1), (1139, 1)], [(6, 2), (55, 1), (119, 1), (131, 1), (204, 1), (223, 1), (315, 1), (338, 1), (455, 1), (507, 1), (796, 1), (823, 1), (1140, 1), (1141, 1), (1142, 1)], [(25, 1), (159, 1), (211, 1), (239, 1), (240, 1), (302, 1), (633, 1), (931, 1), (1011, 1), (1143, 1), (1144, 1), (1145, 1), (1146, 1)], [(132, 1), (712, 1)], [(173, 1), (428, 1), (464, 1), (556, 1)], [(0, 1), (44, 1), (54, 1), (66, 1), (203, 1), (424, 2), (564, 1), (885, 1), (1092, 1)], [(39, 1), (140, 2), (179, 3), (193, 2), (351, 2), (517, 1), (589, 1), (671, 2), (831, 1), (873, 1), (977, 1), (1049, 1), (1147, 2), (1148, 3), (1149, 1), (1150, 1), (1151, 1), (1152, 1), (1153, 1), (1154, 2), (1155, 1), (1156, 1)], [(33, 1)], [(11, 1)], [(8, 1), (37, 1), (66, 1), (206, 2), (227, 1), (369, 1), (424, 1), (943, 1), (1157, 1), (1158, 1), (1159, 1)], [(10, 1), (26, 1), (48, 1), (55, 1), (56, 1), (60, 1), (97, 1), (191, 1), (203, 1), (206, 1), (261, 1), (336, 1), (440, 1), (443, 1), (463, 1), (513, 2), (1160, 1), (1161, 1), (1162, 1)], [(66, 1), (126, 1), (136, 1), (173, 1), (193, 1), (227, 1), (389, 1), (392, 1), (432, 1), (436, 1), (508, 1), (534, 1), (931, 1), (948, 1), (1058, 1), (1163, 1), (1164, 1), (1165, 1), (1166, 1), (1167, 1), (1168, 1), (1169, 1), (1170, 1)], [(35, 1), (72, 1), (85, 1), (119, 1), (170, 1), (189, 1), (214, 1), (252, 1), (261, 1), (267, 1), (1171, 1), (1172, 1)], [(31, 1), (55, 1), (136, 1), (140, 1), (202, 1), (204, 1), (1019, 1), (1173, 1)], [(8, 1), (33, 2), (38, 1), (51, 1), (57, 1), (64, 1), (66, 1), (131, 1), (162, 3), (167, 1), (320, 1), (433, 1), (537, 1), (796, 1), (971, 1), (1060, 1), (1174, 1), (1175, 1), (1176, 1)], [(247, 1), (307, 1), (587, 1), (1177, 1)], [(25, 1), (33, 1), (189, 1), (722, 1), (766, 1), (1178, 1)], [(8, 2), (56, 1), (81, 1), (91, 1), (136, 1), (875, 1), (1179, 1)], [(33, 1)], [(88, 1), (356, 1), (386, 1), (499, 1)], [(37, 1), (38, 1), (51, 1), (64, 2), (66, 1), (87, 1), (90, 1), (193, 1), (203, 2), (572, 1), (891, 1), (1153, 1), (1180, 1), (1181, 1), (1182, 1), (1183, 1)], [(37, 1), (54, 1), (91, 1), (171, 1), (201, 1), (252, 1), (309, 1), (320, 1), (335, 1), (360, 1), (396, 1), (515, 1), (534, 1), (842, 2), (1184, 1), (1185, 1), (1186, 1), (1187, 1)], [(2, 1), (53, 1), (93, 1)], [(1188, 1)], [(252, 1)], [(25, 1), (422, 1)], [(37, 1), (90, 1)], [(33, 1)], [(8, 1), (33, 1), (42, 1), (56, 1), (90, 1), (110, 1), (137, 1), (189, 1), (250, 1), (264, 1), (347, 1), (374, 1), (553, 1)], [(189, 1), (292, 1), (1189, 1)], [(39, 1), (61, 1), (93, 1), (270, 1), (551, 1), (873, 1), (1190, 1), (1191, 1), (1192, 1), (1193, 1)], [(19, 1), (61, 1), (110, 1), (356, 1), (442, 1), (653, 1)], [(37, 1), (54, 1), (315, 1), (534, 1), (1194, 1), (1195, 1), (1196, 1), (1197, 1)], [(1, 1), (19, 1), (56, 1), (143, 1), (153, 1), (172, 1), (218, 1), (1198, 1)], [(90, 2), (296, 1), (401, 1), (471, 1), (818, 1), (936, 1)], [(8, 1), (31, 1), (51, 1), (66, 1), (79, 1), (86, 1), (90, 1), (137, 1), (266, 1), (419, 1), (535, 1), (547, 1), (997, 1), (1199, 1), (1200, 1)], [(8, 1), (40, 1), (51, 1), (56, 1), (66, 1), (80, 2), (90, 1), (146, 1), (377, 1), (877, 1), (1038, 1), (1201, 1)], [(586, 1)], [(9, 2), (25, 2), (33, 1), (37, 1), (38, 3), (171, 1), (172, 1), (202, 1), (208, 1), (250, 1), (296, 1), (360, 1), (367, 1), (467, 1), (503, 1), (572, 1), (574, 1), (761, 1), (904, 1), (948, 1), (1019, 1)], [], [(33, 1), (61, 1), (194, 1), (1202, 1), (1203, 1)], [(93, 1)], [(5, 1), (38, 1), (188, 1), (451, 1), (511, 1), (566, 1), (594, 1), (678, 1), (1204, 1), (1205, 1), (1206, 1), (1207, 1), (1208, 1), (1209, 1)], [(8, 1), (37, 2), (73, 1), (90, 1), (264, 1)], [(35, 1)], [(191, 1)], [(25, 1), (134, 1), (135, 1), (197, 1), (517, 1), (1210, 1), (1211, 1)], [(377, 1)], [(33, 1), (309, 1), (548, 1), (727, 1), (988, 1)], [(93, 1)], [(20, 1), (38, 1), (143, 1), (191, 1), (336, 1), (394, 1), (526, 1), (751, 1), (752, 1), (1212, 1)], [(1213, 1), (1214, 1)], [(25, 1), (90, 1), (108, 1), (232, 1), (320, 1), (428, 1), (786, 1), (1011, 1), (1026, 1), (1215, 1), (1216, 1), (1217, 1), (1218, 1), (1219, 1), (1220, 1), (1221, 1), (1222, 1)], [(191, 1)], [(61, 1), (202, 1)], [(33, 1), (86, 1), (189, 1)], [(252, 1)], [(8, 1), (33, 1), (140, 1), (143, 1), (162, 1), (191, 1), (320, 1), (540, 1)], [(1, 1), (9, 1), (25, 4), (86, 2), (89, 1), (90, 2), (108, 1), (172, 1), (204, 2), (224, 1), (264, 1), (466, 1), (552, 1), (568, 1), (818, 1), (869, 1), (1186, 1), (1223, 1), (1224, 1), (1225, 1), (1226, 1)], [(40, 2), (144, 1), (149, 1), (151, 1), (671, 2), (1085, 1)], [(8, 1), (80, 1), (202, 1), (250, 1), (573, 1)], [(33, 1), (167, 1)], [(801, 1), (1116, 1)], [(191, 1)], [(6, 1), (90, 1), (126, 1), (172, 1), (173, 1), (311, 2), (450, 1), (893, 1), (1011, 1), (1227, 1), (1228, 1), (1229, 1)], [(91, 1), (292, 1)], [(9, 1), (66, 1), (100, 1), (136, 1), (172, 1), (191, 1), (204, 1), (563, 1)], [(32, 1), (34, 1), (51, 1), (66, 1), (90, 1), (386, 1), (617, 1), (783, 1), (995, 1), (1230, 2), (1231, 1), (1232, 2)], [(191, 1)], [(35, 1), (140, 1), (172, 1), (283, 1), (605, 1), (1233, 1), (1234, 1), (1235, 1), (1236, 1)], [(33, 1), (189, 1), (261, 1)], [(191, 1), (192, 1), (292, 1), (416, 1)], [(9, 1), (88, 1), (117, 1), (394, 1), (460, 1), (573, 1), (1237, 1)], [(33, 1), (225, 1), (264, 1), (460, 1), (655, 1)], [(8, 2), (56, 1), (206, 2), (313, 1), (943, 1), (947, 1), (1238, 1)], [(86, 1), (91, 1), (266, 1)], [(17, 1), (309, 1), (357, 1), (515, 1), (1126, 1), (1239, 1), (1240, 1)], [(86, 1), (191, 1), (1221, 1), (1241, 1)], [(252, 1)], [(230, 1), (882, 1)], [(9, 1), (37, 1), (131, 1), (406, 1), (724, 1), (1242, 1)], [(35, 1), (90, 2), (390, 1), (450, 1), (460, 1), (787, 1), (1243, 1), (1244, 1), (1245, 1)], [(26, 1), (35, 1), (192, 1), (193, 1), (252, 1), (292, 1), (703, 1), (1246, 1)], [(5, 1), (25, 3), (26, 2), (39, 1), (56, 1), (57, 1), (73, 2), (86, 2), (170, 1), (191, 2), (271, 1), (284, 1), (309, 1), (336, 1), (353, 1), (766, 1)], [(37, 2), (45, 2), (52, 1), (63, 1), (82, 1), (134, 1), (143, 1), (288, 1), (387, 1), (1084, 1), (1211, 1), (1247, 1), (1248, 1)], [(289, 1), (302, 1), (328, 1), (1249, 1)], [(8, 1), (39, 1), (40, 1), (53, 1), (90, 1), (137, 1), (463, 1), (502, 1), (508, 1), (655, 1), (824, 1), (1250, 1)], [(8, 1), (31, 1), (56, 1), (60, 1), (90, 1), (191, 2), (273, 1), (361, 1), (404, 1), (546, 1), (869, 1), (987, 1), (1251, 1), (1252, 1), (1253, 1)], [(10, 1), (66, 1), (176, 1), (186, 1), (454, 1), (563, 1), (639, 1), (862, 1), (876, 1), (1254, 1), (1255, 1), (1256, 1), (1257, 1)], [(415, 1), (440, 1), (442, 1), (443, 1), (1241, 1)], [(6, 1), (8, 2), (90, 1), (136, 1), (196, 1), (313, 1), (326, 1), (476, 1), (623, 1), (1142, 1), (1258, 1)], [(51, 1), (66, 1), (288, 1), (394, 1), (1028, 1), (1259, 1)], [(8, 1), (51, 1), (66, 1), (90, 1)], [(53, 1), (192, 1), (372, 1), (1260, 1)], [(73, 1), (192, 1), (206, 1), (337, 1), (415, 1), (661, 1)], [(64, 1), (82, 1), (246, 1), (1261, 1)], [(21, 1), (152, 1), (548, 1)], [(152, 1), (361, 1), (455, 1)], [(25, 1), (66, 1), (174, 1), (394, 1), (1174, 1), (1262, 1)], [(1263, 1)], [(5, 1), (8, 2), (31, 1), (37, 2), (51, 1), (53, 1), (64, 1), (66, 1), (80, 1), (87, 1), (90, 1), (192, 1), (320, 1), (378, 1), (534, 1), (567, 1), (573, 1), (1013, 1), (1264, 1)], [(51, 2), (53, 1), (66, 2), (69, 3), (90, 1), (136, 1), (193, 2), (203, 1), (204, 1), (273, 1), (463, 3), (655, 1), (864, 1)], [(33, 1)], [(26, 1), (51, 1), (66, 1), (102, 1), (172, 3), (375, 1), (586, 1), (841, 1), (1265, 1), (1266, 1), (1267, 1), (1268, 1), (1269, 1), (1270, 1)], [(6, 1), (10, 1), (20, 1), (21, 1), (35, 1), (53, 1), (73, 1), (140, 1), (173, 1), (189, 1), (292, 1), (320, 1), (428, 1), (502, 1), (534, 1), (548, 1), (766, 1), (1011, 1), (1271, 1), (1272, 1), (1273, 1), (1274, 1), (1275, 1)], [(4, 1), (38, 1), (394, 1), (1196, 1)], [(33, 1), (1127, 1)], [(25, 1), (51, 1), (55, 1), (57, 1), (66, 3), (90, 1), (108, 1), (172, 2), (186, 1), (218, 1), (227, 1), (240, 1), (255, 1), (283, 1), (320, 1), (347, 1), (354, 1), (448, 1), (563, 1), (623, 1), (791, 1), (865, 1), (1084, 1), (1165, 1), (1247, 1), (1258, 1), (1276, 1), (1277, 1), (1278, 1)], [(38, 1), (42, 1), (758, 1), (1279, 1)], [(6, 1), (8, 1), (389, 1), (434, 1), (633, 1), (1280, 1), (1281, 1), (1282, 1), (1283, 1)], [(33, 1), (57, 1), (186, 1), (264, 1), (716, 1)], [(264, 1), (1284, 1)], [(6, 2), (8, 2), (51, 2), (56, 2), (66, 1), (80, 1), (86, 1), (90, 1), (160, 1), (191, 1), (196, 1), (218, 1), (299, 1), (304, 1), (313, 1), (320, 1), (354, 1), (356, 1), (381, 1), (389, 1), (407, 1), (497, 1), (498, 1), (502, 1), (796, 1), (877, 1), (943, 1), (1066, 1), (1285, 2), (1286, 1), (1287, 1)], [(8, 1), (39, 1), (90, 1), (246, 2), (345, 1), (562, 1), (1288, 1), (1289, 1), (1290, 1), (1291, 1)], [(287, 1), (445, 1), (842, 1), (1211, 1), (1292, 1), (1293, 1)], [(8, 1), (35, 1), (39, 1), (66, 1), (72, 1), (90, 1), (173, 1), (227, 1), (246, 1), (866, 1), (925, 1), (1160, 1), (1294, 1), (1295, 2)], [(33, 1), (57, 1), (136, 1), (155, 1), (186, 1), (191, 1), (218, 1), (246, 1), (320, 2), (567, 1), (633, 1), (1264, 1)], [(90, 1), (186, 1), (191, 1), (239, 1)], [(86, 1), (90, 1), (152, 1), (1076, 1)], [(35, 1)], [(191, 1)], [(8, 1), (25, 1), (51, 1), (56, 1), (60, 1), (61, 1), (66, 1), (86, 2), (155, 1), (170, 1), (191, 1), (205, 1), (246, 1), (252, 1), (264, 1), (302, 1), (320, 1), (386, 1), (446, 1), (550, 1), (567, 1), (621, 1), (632, 2), (655, 1), (716, 1), (764, 1), (1225, 1), (1296, 1), (1297, 1), (1298, 1), (1299, 2), (1300, 1)], [], [(224, 1), (363, 1), (365, 1), (377, 1), (1301, 1)], [(495, 1), (558, 1), (653, 1), (879, 1), (1302, 1)], [(33, 1), (37, 1), (79, 1), (90, 1), (543, 1), (603, 1), (617, 1), (796, 1)], [(14, 1), (55, 1), (66, 1), (151, 1), (227, 1), (275, 1), (1303, 1)], [(167, 1), (321, 1), (514, 1), (728, 1), (931, 1)], [(33, 1)], [(6, 1), (8, 1), (56, 1), (65, 1), (203, 1), (204, 1), (589, 1), (617, 1), (1304, 1)], [(858, 1), (1305, 1)], [(6, 1), (8, 2), (10, 1), (56, 1), (196, 1), (367, 1), (389, 2), (394, 1), (401, 1), (423, 1), (574, 1), (1186, 1), (1306, 1), (1307, 1), (1308, 1)], [(33, 1)], [(375, 1), (423, 1), (469, 1), (1309, 1)], [(6, 1), (8, 2), (37, 1), (56, 1), (65, 1), (130, 1), (389, 1), (655, 2), (1310, 1)], [(26, 1)], [(86, 1), (90, 1), (142, 1), (293, 1)], [(26, 1), (415, 1)], [(19, 1), (33, 1), (180, 1), (1204, 1)], [(6, 1), (64, 1), (342, 1), (428, 1), (632, 1), (1120, 1), (1290, 1)], [(864, 1), (1311, 1)], [(1312, 1)], [(10, 1), (13, 1), (183, 1), (193, 1), (250, 1), (271, 1), (363, 1), (428, 2), (445, 1), (472, 1), (495, 1), (1107, 1), (1120, 1), (1165, 1), (1313, 1), (1314, 1)], [(14, 1), (394, 1), (891, 1), (1289, 1)], [(25, 1), (133, 1), (224, 1), (300, 1), (368, 1), (401, 1), (452, 1), (497, 1), (498, 1), (688, 1), (831, 1), (1315, 1)], [(33, 1), (1316, 1)], [(283, 1), (931, 1), (1317, 1)], [(5, 1), (8, 1), (19, 1), (25, 1), (31, 1), (56, 1), (135, 1), (345, 1), (394, 1), (824, 1), (1318, 1), (1319, 1)], [(25, 1), (38, 1), (214, 1), (386, 1), (497, 1), (499, 1), (749, 1), (1320, 1)], [(415, 1)], [(85, 1), (103, 1), (275, 1), (287, 1), (300, 1), (309, 1), (842, 1), (995, 1)], [(9, 1), (19, 1), (37, 1), (66, 1), (73, 1), (86, 1), (93, 1), (143, 1), (189, 1), (320, 1), (358, 1), (554, 1), (562, 1), (594, 2), (609, 1), (877, 1), (1172, 1), (1193, 1)], [(25, 1), (71, 1), (252, 1), (261, 1), (266, 1), (1321, 1), (1322, 1), (1323, 1)], [(56, 1), (135, 1), (174, 1), (420, 1), (671, 1)], [(6, 1), (8, 1), (567, 1), (608, 1), (758, 1), (1120, 1), (1324, 1)], [(1325, 1)], [(132, 1), (191, 1)], [(31, 1), (33, 1), (53, 1), (91, 1), (149, 1), (151, 1), (211, 1), (339, 1), (553, 1), (573, 1), (1326, 1)], [(193, 1), (1011, 1), (1327, 1)], [(19, 1), (240, 1), (791, 1), (1081, 1)], [(6, 2), (8, 1), (40, 1), (51, 2), (56, 1), (66, 2), (119, 2), (171, 1), (302, 1), (740, 1), (1328, 1)], [(252, 1)], [(9, 2), (56, 1), (66, 1), (80, 1), (87, 1), (88, 1), (90, 1), (136, 1), (140, 1), (171, 1), (172, 1), (202, 1), (238, 1), (288, 1), (357, 1), (422, 1), (563, 1), (626, 1), (818, 1), (865, 1), (931, 1), (1329, 1), (1330, 1)], [(93, 1)], [(8, 2), (39, 1), (45, 1), (66, 1), (82, 1), (84, 1), (100, 1), (162, 1), (168, 1), (172, 1), (227, 1), (309, 1), (394, 2), (423, 2), (832, 1), (948, 1), (1331, 1), (1332, 1)], [(174, 1), (307, 1), (381, 1)], [(25, 1), (33, 1), (37, 1), (173, 1), (186, 1), (320, 1), (324, 1), (326, 1), (428, 1), (459, 2), (645, 1), (877, 1), (1107, 1), (1198, 1), (1333, 1), (1334, 1), (1335, 1), (1336, 1), (1337, 1), (1338, 1)], [(252, 1)], [(25, 1), (28, 1), (66, 1), (127, 1), (227, 1), (347, 1), (568, 1), (1289, 1)], [(8, 1), (13, 1), (32, 1), (90, 1), (444, 1), (602, 1), (910, 1)], [(21, 1), (90, 1), (137, 1), (191, 1), (361, 1)], [(19, 1), (37, 1), (51, 1), (66, 1), (90, 2), (191, 2), (320, 1), (455, 1), (594, 1), (612, 1), (1064, 1)], [(31, 1), (66, 1), (132, 1), (135, 1), (227, 1), (345, 1), (459, 1), (645, 1), (862, 1), (873, 1), (1339, 1)], [(93, 1)], [(8, 1), (10, 1), (25, 1), (35, 1), (86, 1), (108, 1), (140, 1), (173, 1), (191, 1), (203, 1), (266, 1), (283, 1), (556, 1), (587, 1), (1340, 1)], [(93, 1)], [(319, 1), (326, 1), (1341, 1)], [(55, 1), (61, 1), (83, 1), (296, 1)], [(26, 1), (38, 1), (1321, 1), (1342, 1)], [(64, 1), (81, 1), (134, 1), (169, 1), (173, 2), (394, 2), (459, 3), (707, 2), (1343, 1), (1344, 1)], [(64, 1), (413, 1)], [(8, 1), (60, 1), (204, 1), (264, 1)], [(33, 1)], [(25, 2), (35, 1), (65, 1)], [(6, 2), (31, 1), (33, 1), (80, 2), (108, 1), (173, 1), (206, 1), (325, 1), (338, 1), (387, 1), (564, 1), (796, 1), (877, 1), (1134, 1), (1202, 1), (1345, 1), (1346, 1), (1347, 1)], [(90, 1), (189, 1), (333, 1), (929, 1), (1016, 1)], [(21, 1), (33, 1), (86, 1), (90, 1), (526, 1), (548, 1), (1348, 1)], [(45, 1), (995, 1), (1349, 1)], [(6, 1), (8, 1), (9, 1), (10, 1), (56, 1), (65, 1), (204, 1), (572, 1)], [(37, 1), (135, 1), (151, 1), (171, 1), (204, 1), (232, 1), (302, 1), (315, 1), (406, 1), (428, 2), (1350, 1), (1351, 1), (1352, 1)], [(8, 2), (26, 1), (31, 1), (56, 1), (70, 1), (80, 1), (82, 1), (100, 1), (173, 1), (203, 2), (316, 1), (344, 1), (406, 1), (558, 1), (563, 1), (709, 1), (723, 1), (818, 1), (1219, 1), (1244, 1), (1353, 1), (1354, 1), (1355, 1), (1356, 1), (1357, 1)], [(142, 1), (189, 1), (267, 1)], [(35, 1), (917, 1), (1358, 1)], [(93, 1)], [(39, 1), (66, 1), (139, 1), (140, 1), (176, 1), (196, 1), (226, 2), (227, 1), (389, 2), (625, 1), (854, 1)], [(264, 1)], [(33, 1), (73, 1), (90, 1)], [(6, 1), (56, 1), (65, 1), (389, 2), (815, 1)], [(64, 1), (246, 1), (255, 1), (335, 1), (356, 1), (534, 1), (603, 1), (750, 1), (763, 1), (821, 1), (1081, 1), (1359, 1), (1360, 1)], [(91, 1), (191, 1), (192, 1), (193, 1), (292, 1), (638, 1), (728, 1)], [(38, 2), (66, 1), (131, 1), (134, 1), (192, 1), (203, 1), (227, 1), (309, 1), (424, 1), (497, 1), (597, 1), (646, 1), (749, 1), (1361, 1), (1362, 1)], [], [(33, 1), (38, 1), (90, 1), (203, 1), (225, 1), (240, 1), (252, 1), (261, 1), (266, 1), (302, 1)], [(66, 1), (100, 1), (193, 1), (227, 1), (428, 1), (1363, 1)], [(38, 1), (66, 1), (84, 1), (192, 1), (201, 1), (320, 1), (386, 1), (511, 1), (703, 1), (1058, 1), (1364, 1), (1365, 1)], [(79, 1), (90, 1), (214, 1), (609, 1), (798, 1), (1366, 1)], [(93, 1)], [(21, 1), (64, 1), (254, 1), (548, 1), (609, 1), (1367, 1), (1368, 1), (1369, 1), (1370, 1)], [(33, 1), (192, 1), (325, 1)], [(37, 1), (90, 1), (191, 1), (534, 1), (954, 1), (1165, 1), (1336, 1), (1371, 1)], [(100, 1), (140, 1), (155, 1), (172, 1), (513, 1), (613, 1), (985, 1), (1125, 1), (1157, 1), (1183, 1), (1269, 1), (1372, 1), (1373, 1), (1374, 1)], [(6, 1), (53, 1), (64, 1), (510, 1), (617, 1), (621, 1)], [(6, 2), (26, 1), (32, 1), (33, 2), (35, 1), (37, 1), (39, 1), (56, 1), (57, 1), (62, 1), (63, 1), (88, 1), (134, 3), (135, 1), (140, 1), (143, 1), (155, 1), (188, 1), (191, 1), (192, 1), (193, 1), (201, 1), (204, 1), (230, 1), (246, 1), (292, 2), (300, 1), (320, 1), (355, 1), (361, 2), (365, 1), (386, 1), (422, 1), (586, 1), (609, 2), (659, 1), (666, 1), (709, 3), (726, 1), (750, 1), (783, 2), (906, 1), (995, 1), (1058, 1), (1085, 1), (1112, 1), (1143, 1), (1375, 1), (1376, 1), (1377, 1), (1378, 1)], [(42, 1), (225, 1), (315, 1), (534, 1)], [(25, 1), (51, 2), (53, 1), (64, 1), (66, 5), (81, 1), (82, 1), (134, 4), (135, 1), (138, 3), (167, 1), (173, 1), (176, 1), (226, 1), (227, 3), (300, 1), (309, 1), (432, 1), (507, 1), (513, 1), (586, 1), (614, 1), (679, 1), (779, 1), (921, 2), (957, 1), (1258, 1), (1300, 1), (1379, 1), (1380, 1)], [(891, 1)], [(61, 1)], [(186, 1), (246, 1), (366, 1), (422, 1), (575, 1), (646, 1), (683, 1), (798, 1), (1381, 1), (1382, 1), (1383, 1), (1384, 1), (1385, 1), (1386, 1), (1387, 1), (1388, 1), (1389, 1), (1390, 1), (1391, 1), (1392, 1)], [(93, 1), (1251, 1)], [(37, 1), (51, 1), (56, 1), (66, 2), (80, 1), (227, 1), (420, 1), (439, 1), (598, 1), (688, 1), (1252, 1), (1393, 1), (1394, 1)], [(25, 1), (33, 1), (86, 1), (266, 1), (729, 1)], [(21, 1), (86, 1), (167, 1), (199, 1), (336, 1), (505, 1), (1395, 1)], [(6, 1), (33, 1), (87, 1), (170, 1), (226, 1), (288, 1), (567, 1), (843, 1), (1396, 1)], [(61, 1), (202, 1), (309, 1), (1329, 1)], [(90, 1)], [(152, 1)], [(8, 1), (10, 1), (38, 1), (172, 1), (189, 1), (261, 1), (278, 1), (508, 1), (513, 1), (589, 1), (617, 1), (919, 1), (959, 1), (1060, 1), (1183, 1), (1397, 1), (1398, 1), (1399, 1)], [(33, 1), (38, 1), (67, 1), (132, 1), (214, 1), (263, 1), (275, 1), (449, 1), (678, 1), (1400, 1), (1401, 1), (1402, 1)], [(66, 1), (227, 1), (326, 1), (1381, 1), (1403, 1), (1404, 1)], [(25, 1), (64, 1), (126, 3), (159, 1), (225, 1), (292, 1), (347, 1), (418, 1), (451, 1), (515, 1), (668, 1), (727, 1), (747, 1), (763, 1), (1405, 1), (1406, 1), (1407, 1), (1408, 1), (1409, 1), (1410, 1)], [(345, 1), (862, 1), (1273, 1)], [(1411, 1)], [(55, 1), (171, 1), (172, 1), (202, 1), (408, 1), (553, 1)], [(35, 1)], [(8, 1), (10, 1), (60, 1), (193, 1), (450, 1), (633, 1), (1412, 1)], [(54, 1), (246, 1), (251, 1), (381, 1), (454, 1)], [(25, 1), (56, 1), (60, 1), (86, 1), (211, 1), (218, 1), (331, 1), (743, 1), (888, 1), (1413, 1)], [(140, 1), (484, 1), (529, 1), (855, 1), (1332, 1)], [(6, 2), (8, 1), (37, 1), (81, 1), (136, 1), (204, 1), (383, 1), (434, 1), (502, 1), (1310, 1), (1355, 1)], [(436, 1)], [(61, 1), (167, 1), (172, 1), (355, 1), (389, 1), (446, 1), (497, 1), (498, 1), (727, 1), (930, 1), (1414, 1), (1415, 1)], [(33, 1), (72, 1), (90, 1), (386, 1), (389, 1), (428, 1), (497, 1), (498, 1), (530, 1), (930, 1), (1318, 1), (1416, 1), (1417, 1), (1418, 1), (1419, 1)], [(61, 1), (90, 1), (172, 1), (202, 1), (338, 1), (345, 1), (389, 1), (632, 1), (1420, 1)], [(8, 1), (51, 1), (66, 1), (90, 1), (1092, 1)], [(25, 1), (191, 1), (322, 1), (383, 1), (394, 1)], [(8, 1), (37, 1), (56, 1), (574, 1)], [(252, 1)], [(172, 1), (385, 1), (394, 1), (1117, 1)], [(100, 2), (134, 1), (136, 1), (204, 2), (347, 1), (353, 1), (354, 1), (424, 1), (513, 1), (540, 1), (854, 2), (875, 1), (1267, 1), (1421, 1), (1422, 1), (1423, 1)], [(10, 1), (66, 2), (80, 1), (146, 2), (227, 2), (255, 1), (269, 1), (344, 1), (691, 1), (779, 1), (1424, 1), (1425, 2)], [(87, 1), (523, 1)], [(33, 1)], [(33, 1), (38, 1), (53, 1), (91, 1), (534, 1), (990, 1), (1011, 1), (1121, 1), (1426, 1), (1427, 1), (1428, 1), (1429, 1)], [(191, 1)], [(91, 1)], [(33, 1)], [(8, 1), (51, 1), (56, 1), (66, 1)], [(252, 1)], [(6, 1), (8, 2), (9, 1), (25, 1), (38, 1), (56, 1), (87, 1), (90, 1), (140, 1), (160, 1), (171, 1), (254, 1), (320, 1), (422, 1), (821, 1), (1265, 1), (1430, 1), (1431, 1), (1432, 1)], [(170, 1), (201, 1)], [(88, 1)], [(16, 1), (37, 1), (66, 1), (71, 1), (79, 1), (134, 1), (190, 1), (201, 1), (246, 1), (556, 1), (724, 1), (1304, 1), (1433, 1), (1434, 1)], [(25, 3), (56, 1), (298, 1), (523, 1), (921, 2), (1435, 1)], [(35, 1), (173, 1), (332, 1), (428, 2), (831, 1)], [(8, 1), (37, 1), (88, 1), (136, 1), (313, 1), (434, 1), (471, 1), (589, 1), (1436, 1)], [(35, 1), (66, 1), (100, 1), (135, 1), (172, 1), (203, 1), (401, 1), (856, 1)], [(35, 1), (38, 1), (90, 1), (530, 1), (1121, 1), (1375, 1)], [(91, 1), (252, 1), (361, 1)], [(21, 1), (191, 1), (1437, 1)], [(25, 1), (250, 1), (252, 1), (472, 1), (483, 1), (495, 1), (599, 1), (609, 1), (902, 1), (1438, 1)], [(4, 1), (8, 1), (10, 1), (25, 1), (26, 1), (55, 1), (56, 1), (66, 2), (103, 1), (201, 1), (227, 1), (255, 1), (287, 1), (356, 1), (386, 1), (389, 1), (510, 1), (567, 1), (728, 1), (1439, 1)], [], [(33, 1), (38, 1), (86, 1), (90, 1), (131, 1), (136, 1), (140, 1), (193, 1), (214, 1), (270, 1), (309, 1), (473, 1), (817, 1), (1011, 1), (1440, 1), (1441, 1)], [(86, 1), (132, 1), (191, 1), (266, 1)], [(26, 1)], [(21, 1), (25, 2), (26, 2), (35, 2), (86, 2), (208, 1), (357, 1), (361, 1), (534, 1), (858, 1), (902, 1), (1063, 1), (1220, 1), (1389, 1), (1442, 1), (1443, 1), (1444, 1)], [(33, 1), (53, 1), (86, 1), (234, 2), (255, 1), (320, 1), (532, 1), (627, 1), (763, 1), (766, 1), (1220, 1), (1382, 1), (1445, 1), (1446, 1), (1447, 1), (1448, 1)], [(5, 1), (14, 1), (53, 1), (906, 1), (923, 1)], [(8, 1), (60, 1), (70, 1), (90, 1), (171, 1), (172, 1), (201, 1), (208, 1), (230, 1), (261, 1), (660, 1), (1204, 1), (1238, 1), (1449, 1), (1450, 1), (1451, 1), (1452, 1), (1453, 1)], [(0, 1), (1, 1), (73, 1), (79, 1), (172, 1), (428, 2), (467, 1), (534, 1), (617, 1), (1454, 1), (1455, 1)], [(37, 1), (86, 1), (189, 1), (191, 1), (393, 1), (1456, 1), (1457, 1), (1458, 1)], [(8, 3), (33, 1), (37, 1), (38, 1), (51, 1), (53, 1), (57, 1), (66, 1), (79, 1), (80, 1), (186, 1), (247, 1), (423, 1), (434, 1), (558, 1), (561, 1), (796, 1), (997, 1), (1355, 1), (1459, 1), (1460, 1), (1461, 1)], [(254, 1), (292, 1), (459, 1), (1462, 1)], [(57, 1), (302, 1), (354, 2), (361, 1), (379, 1), (386, 1), (763, 1), (823, 1), (1120, 1), (1121, 1), (1450, 1), (1463, 1), (1464, 1), (1465, 1), (1466, 1), (1467, 1), (1468, 1), (1469, 1)], [(91, 1), (199, 1)], [(37, 1), (55, 1), (73, 2), (90, 1), (151, 1), (191, 1), (264, 1), (271, 1), (275, 1), (315, 1), (1066, 1), (1125, 1), (1470, 1)], [(19, 1), (51, 1), (57, 1), (66, 1), (137, 1), (325, 1), (354, 1), (357, 1), (410, 1), (459, 2), (460, 1), (462, 1), (509, 1), (594, 1), (613, 1), (1063, 1), (1471, 1), (1472, 1)], [(38, 1), (60, 1), (428, 1), (831, 1), (1473, 1)], [(97, 1), (127, 1), (174, 1), (175, 1), (288, 1), (351, 1), (418, 1), (668, 1), (771, 1), (876, 1)], [(25, 1)], [(33, 1), (132, 1), (143, 1), (1273, 1), (1474, 1)], [(191, 1)], [(8, 2), (51, 2), (56, 1), (66, 2), (90, 1), (136, 1), (208, 1), (293, 1), (341, 1), (387, 1), (456, 1), (1115, 1), (1279, 1), (1352, 1), (1475, 1)], [(33, 1)], [(1476, 1)], [(189, 1), (194, 1), (199, 1), (455, 1)], [(56, 1), (88, 1), (143, 1), (196, 1), (309, 1), (406, 1), (432, 1), (677, 1), (695, 1), (1187, 1), (1477, 1), (1478, 1), (1479, 1)], [(90, 1), (129, 1), (394, 1), (411, 1), (428, 1), (460, 1)], [(20, 1), (33, 1), (90, 1), (137, 1), (720, 1)], [(38, 1), (66, 1), (67, 1), (73, 1), (133, 1), (140, 1), (262, 1), (563, 1), (586, 3), (691, 1), (750, 1), (908, 1), (1053, 1), (1124, 1), (1480, 1), (1481, 1), (1482, 1), (1483, 1)], [(67, 1), (73, 1), (95, 1), (334, 1), (389, 1), (428, 1), (586, 2), (750, 1), (1484, 2)], [(35, 1), (90, 1), (321, 1), (335, 1), (1244, 1)], [(8, 1), (51, 1), (55, 1), (56, 2), (66, 1), (515, 1), (655, 1), (1485, 1)], [(6, 2), (8, 1), (66, 1), (195, 1), (201, 1), (497, 1), (633, 1), (655, 1), (749, 1), (1486, 1)], [(191, 1), (514, 1), (633, 1), (1085, 1)], [(8, 1), (25, 1), (42, 1), (64, 1), (201, 1), (225, 1), (250, 4), (269, 1), (357, 2), (398, 3), (476, 2), (534, 1), (557, 1), (609, 1), (694, 1), (750, 1), (801, 1), (827, 1), (1432, 1), (1487, 1), (1488, 1)], [(33, 1), (167, 1)], [(264, 1)], [(35, 1), (1489, 1)], [(86, 1), (132, 1), (252, 1), (270, 1), (428, 1), (587, 1), (1011, 1)], [(35, 1)], [(25, 1), (31, 1), (54, 2), (100, 1), (172, 1), (175, 1), (189, 1), (243, 1), (376, 1), (392, 1), (586, 1), (627, 1), (985, 1), (1045, 1), (1490, 1), (1491, 1), (1492, 1), (1493, 1), (1494, 1), (1495, 1), (1496, 1), (1497, 1), (1498, 1)], [(86, 1), (93, 1), (336, 1)], [(252, 1)], [(87, 1), (252, 1)], [(25, 1), (31, 1), (432, 1), (469, 1), (765, 1), (1499, 1)], [(171, 1), (574, 1), (688, 1), (1279, 1), (1500, 1)], [(142, 1)], [(35, 1), (40, 1), (481, 1)], [(186, 1), (252, 1), (274, 1), (1279, 1)], [(66, 1), (90, 1), (320, 1), (618, 1), (875, 1), (877, 1), (1464, 1), (1501, 1), (1502, 1), (1503, 1), (1504, 1), (1505, 1)], [(38, 2), (66, 3), (98, 1), (127, 1), (136, 1), (139, 2), (143, 1), (175, 1), (201, 1), (218, 1), (224, 2), (226, 5), (227, 1), (271, 1), (304, 1), (356, 1), (365, 1), (368, 1), (389, 1), (401, 1), (432, 4), (910, 1), (1031, 1), (1034, 1), (1165, 1), (1506, 2), (1507, 1)], [(55, 1), (57, 1), (91, 1), (108, 1), (172, 1), (186, 1), (824, 1), (930, 1), (1508, 1), (1509, 1)], [(40, 1), (69, 1), (81, 1), (82, 1), (88, 1), (136, 1), (218, 1), (356, 1), (450, 1), (987, 1), (1250, 2), (1300, 1), (1510, 1)], [(1, 1), (6, 1), (8, 2), (9, 1), (33, 1), (37, 1), (38, 1), (39, 1), (56, 1), (136, 1), (204, 1), (225, 1), (240, 1), (391, 1), (394, 1), (438, 1), (462, 1), (567, 1), (724, 1), (831, 2), (870, 1), (1367, 1), (1511, 1), (1512, 1), (1513, 1)], [(8, 1), (80, 1), (186, 1), (309, 1), (313, 1), (428, 1), (493, 1), (758, 1), (1165, 1)], [(26, 1), (35, 1), (55, 1), (202, 1), (209, 1), (287, 1), (424, 1), (660, 1), (842, 1), (856, 1)], [(451, 1), (1514, 1)], [(6, 1), (8, 1), (37, 1), (56, 1), (206, 1), (324, 1), (383, 1), (387, 1), (389, 1), (496, 1), (1515, 1)], [(1, 3), (10, 1), (47, 1), (55, 1), (56, 1), (66, 1), (109, 1), (191, 1), (201, 1), (206, 1), (218, 1), (320, 2), (351, 1), (356, 1), (357, 1), (394, 1), (438, 1), (496, 1), (510, 1), (532, 1), (589, 1), (642, 1), (691, 1), (1516, 1), (1517, 1), (1518, 1), (1519, 1), (1520, 1), (1521, 1), (1522, 1)], [(28, 1), (61, 1), (127, 1), (300, 1), (448, 1)], [(25, 1), (37, 1), (88, 1), (101, 1), (119, 1), (137, 1), (139, 1), (315, 1), (389, 1), (594, 1), (1523, 1)], [(33, 1)], [(252, 1)], [(175, 1)], [(6, 3), (8, 3), (81, 1), (136, 1), (203, 1), (204, 1), (338, 1), (358, 1), (389, 1), (434, 1), (448, 1), (463, 2), (1019, 1), (1029, 1)], [(6, 1), (25, 2), (51, 1), (66, 1), (79, 1), (204, 1), (296, 1), (309, 1), (356, 1), (394, 1), (510, 1), (567, 1), (791, 1), (1524, 1)], [(6, 1), (51, 1), (66, 1), (126, 1), (226, 1), (347, 1), (404, 1), (436, 1), (438, 1), (617, 1), (995, 1)], [(5, 1), (6, 1), (8, 2), (37, 1), (51, 1), (56, 2), (66, 1), (90, 1), (273, 1), (357, 1), (389, 1), (635, 1)], [(6, 1), (8, 1), (51, 1), (56, 1), (66, 1), (389, 1), (633, 1)], [(33, 1), (69, 1), (90, 1), (189, 1), (271, 1)], [(8, 1), (51, 1), (66, 1), (90, 1), (172, 1), (191, 1), (247, 1), (252, 1), (309, 2), (313, 1), (394, 1), (415, 1), (856, 1), (1525, 1), (1526, 1), (1527, 1)], [(93, 1)], [(396, 1)], [(191, 1)], [(6, 1), (38, 1), (65, 1), (129, 1), (175, 1), (286, 1), (296, 1), (370, 1), (376, 1), (614, 1), (615, 1), (617, 1), (818, 1), (944, 1), (1033, 1), (1186, 1), (1279, 1), (1528, 1), (1529, 1), (1530, 1)], [(37, 1), (45, 1), (140, 1), (168, 1), (202, 1), (261, 1), (361, 1), (897, 1), (1531, 1)], [(64, 1), (534, 1), (557, 1), (761, 1), (1060, 1), (1080, 1), (1452, 1), (1532, 1), (1533, 1), (1534, 1), (1535, 1), (1536, 1), (1537, 1), (1538, 1), (1539, 1)], [(33, 1)], [(33, 1)], [(189, 1), (262, 1), (361, 1)], [(191, 1)], [(35, 1), (38, 1), (91, 1), (96, 1), (136, 1), (140, 2), (176, 1), (270, 1), (298, 1), (1063, 1), (1540, 1), (1541, 1)], [(33, 1), (1542, 1)], [(199, 1), (1543, 2)], [(66, 1), (108, 1), (126, 1), (136, 1), (226, 1), (227, 1), (432, 1), (1544, 1)], [(8, 1), (52, 1), (66, 1), (136, 1), (201, 1), (422, 1), (434, 1), (460, 3), (847, 1)], [(33, 1), (56, 2), (64, 1), (81, 1), (85, 1), (88, 1), (95, 1), (392, 1), (564, 1), (1167, 1), (1545, 1), (1546, 1), (1547, 1), (1548, 1)], [(66, 1), (227, 1), (274, 1), (339, 1), (385, 1), (599, 1), (1359, 1)], [(14, 1), (61, 1), (69, 1), (72, 1), (73, 1), (81, 1), (660, 1), (791, 1)], [(25, 1), (35, 1), (189, 1), (291, 1)], [(135, 1), (204, 1), (309, 1), (873, 1), (1516, 1), (1549, 1)], [(10, 1), (26, 1), (33, 1), (53, 1), (61, 1), (64, 1), (91, 1), (204, 1), (271, 1), (283, 1), (319, 1), (337, 1), (345, 1), (356, 1), (464, 1), (496, 1), (515, 1), (517, 1), (572, 1), (662, 1), (765, 1), (983, 1), (1126, 1), (1550, 1)], [(167, 1), (1551, 1)], [(25, 1), (33, 1), (182, 1), (239, 1), (320, 1), (534, 1), (633, 1), (908, 1), (1233, 1)], [(26, 1), (33, 1), (53, 1), (66, 1), (85, 1), (90, 1), (96, 1), (136, 2), (140, 1), (179, 1), (227, 1), (270, 1), (273, 1), (319, 1), (320, 1), (358, 1), (552, 1), (724, 1), (739, 1), (1250, 1), (1401, 1), (1552, 1), (1553, 1), (1554, 1)], [(35, 1), (163, 1), (339, 1), (385, 1), (818, 1)], [(39, 1), (191, 1), (481, 1), (1414, 1)], [(81, 1), (126, 1), (127, 1), (176, 1), (387, 1), (401, 3), (556, 1), (621, 1), (625, 1), (650, 1), (1125, 1), (1430, 1), (1555, 2)], [(175, 1), (191, 1), (202, 1), (467, 1), (695, 1), (875, 1), (1556, 1)], [(91, 1)], [(133, 1), (556, 1), (1557, 1), (1558, 1)], [(0, 2), (6, 2), (37, 1), (43, 1), (65, 1), (80, 3), (91, 1), (140, 1), (149, 1), (218, 1), (315, 1), (319, 1), (335, 1), (344, 1), (448, 1), (492, 1), (496, 1), (502, 1), (556, 1), (997, 1), (1125, 1), (1559, 1), (1560, 1), (1561, 1), (1562, 1)], [(38, 1), (199, 1)], [(1563, 1)], [(35, 1), (37, 1), (88, 1), (119, 1), (173, 1), (315, 1), (394, 1), (424, 1), (1130, 1), (1564, 1)], [(56, 1), (66, 2), (127, 1), (143, 1), (226, 1), (227, 1), (246, 1), (345, 1), (432, 1), (1270, 1), (1556, 1)], [(8, 1), (90, 1), (394, 1), (688, 1), (1421, 1)], [(40, 1), (240, 1), (262, 1), (296, 1), (727, 1), (847, 1), (1265, 1)], [(8, 1), (13, 1), (90, 1), (423, 1), (1565, 1)], [(37, 1), (408, 1)], [(9, 1), (25, 1), (33, 1), (37, 2), (51, 1), (66, 2), (90, 1), (119, 1), (174, 1), (250, 1), (264, 2), (355, 1), (422, 1), (450, 1), (454, 1), (497, 1), (498, 1), (563, 1), (573, 1), (716, 1), (729, 1), (730, 1), (903, 1), (929, 1), (1566, 1), (1567, 1), (1568, 1)], [(85, 1), (88, 1), (202, 1), (339, 1), (1019, 1)], [(10, 1), (56, 1), (60, 1), (69, 1), (151, 1), (450, 2), (1173, 2), (1250, 1), (1569, 1), (1570, 1)], [(19, 1), (73, 1), (191, 1)], [(193, 1), (891, 1)], [(33, 1), (1571, 1)], [(35, 1), (164, 1), (193, 1), (204, 1), (255, 1), (309, 1), (320, 1), (466, 1), (691, 1), (888, 1), (1256, 1), (1425, 1), (1572, 1)], [(33, 2), (35, 1), (37, 1), (51, 1), (61, 1), (66, 1), (86, 1), (87, 1), (90, 1), (97, 1), (134, 1), (172, 1), (190, 1), (201, 1), (209, 1), (252, 1), (271, 1), (296, 1), (345, 1), (347, 1), (356, 1), (366, 1), (442, 1), (517, 1), (979, 1), (1573, 1), (1574, 1), (1575, 1)], [(191, 1), (659, 1), (1241, 1)], [(35, 1), (1576, 1), (1577, 1)], [(9, 1), (25, 1), (60, 1), (90, 1), (554, 1), (651, 1), (661, 1), (1071, 1), (1116, 1), (1117, 1), (1578, 1)], [(6, 1), (56, 1), (99, 1), (363, 1), (460, 1), (471, 1)], [(85, 1), (87, 1), (191, 1)], [(33, 1)], [(91, 1)], [(93, 1)], [(218, 1), (288, 1), (347, 1), (356, 2), (357, 1), (471, 1), (1019, 1), (1277, 1), (1359, 1)], [(8, 2), (9, 1), (31, 1), (51, 1), (55, 1), (66, 1), (422, 1), (517, 1)], [(1, 1), (9, 1), (25, 1), (51, 1), (66, 1), (171, 1), (172, 1), (173, 1), (406, 1), (460, 1), (555, 1), (838, 1), (1019, 1), (1106, 1), (1579, 1), (1580, 1), (1581, 1)], [], [(57, 1), (76, 1), (79, 1), (173, 1), (191, 1), (206, 1), (356, 1), (428, 1), (515, 1), (1424, 1), (1582, 1)], [(51, 1), (56, 1), (66, 1), (225, 1), (401, 1), (1471, 1), (1555, 1)], [(191, 1)], [(86, 1), (191, 1), (261, 1), (292, 1)], [(1, 1), (33, 1), (418, 1), (568, 1), (1583, 1)], [(9, 1), (25, 1), (33, 1), (37, 2), (53, 1), (73, 1), (86, 2), (119, 2), (132, 1), (136, 1), (151, 1), (189, 1), (191, 1), (214, 1), (291, 1), (315, 1), (386, 1), (449, 1), (479, 1), (636, 1), (929, 1), (990, 1), (1036, 1), (1041, 1), (1120, 1), (1121, 1), (1125, 1), (1584, 1), (1585, 1), (1586, 1)], [(33, 1), (81, 1), (302, 1), (306, 1), (659, 1)], [(37, 1), (151, 1), (394, 1), (507, 1), (573, 1), (647, 1)], [(13, 1), (25, 1), (50, 1), (73, 1), (79, 1), (86, 1), (90, 1), (284, 1), (292, 1), (371, 1), (727, 1)], [(9, 1), (25, 1), (53, 1), (56, 1), (67, 1), (73, 1), (191, 1), (264, 1), (320, 1), (326, 1), (342, 1), (358, 1), (428, 1)], [(33, 1)], [(556, 1), (896, 1), (1297, 1)], [(53, 1), (61, 1), (137, 1), (191, 1), (225, 1), (292, 1), (442, 1), (1058, 1), (1418, 1), (1587, 1), (1588, 1)], [(9, 1), (13, 1), (25, 1), (61, 1), (66, 1), (90, 2), (110, 1), (186, 1), (227, 1), (306, 1), (307, 1), (357, 1), (360, 1), (437, 1), (438, 1), (779, 1), (796, 1), (1000, 1), (1589, 1), (1590, 1)], [(25, 1), (172, 1), (204, 1), (389, 1), (450, 1)], [(361, 1), (415, 1), (767, 1)], [(434, 1), (1591, 1)], [(8, 1), (54, 1), (56, 1), (90, 1), (191, 1), (201, 1), (273, 1), (313, 1), (447, 1), (617, 1), (1592, 1)], [(1593, 1), (1594, 1)], [(31, 1), (37, 1), (202, 1), (296, 1)], [(252, 1)], [(61, 1), (847, 1), (1595, 1)], [(225, 1), (547, 1), (1297, 1), (1596, 1)], [(6, 1), (86, 1), (179, 1), (246, 1), (300, 1), (446, 1), (455, 1), (614, 2), (1265, 1), (1456, 1), (1597, 1)], [(56, 1), (554, 1)], [(37, 1), (72, 1), (1142, 1), (1246, 1), (1598, 1)], [(6, 1), (9, 2), (37, 1), (66, 1), (117, 1), (281, 1), (405, 1), (563, 1), (595, 1), (804, 1), (987, 1), (1356, 1), (1599, 1)], [(26, 3), (33, 1), (39, 1), (51, 1), (66, 1), (75, 1), (136, 1), (159, 1), (191, 1), (383, 1), (481, 2), (858, 1), (898, 1), (1096, 1)], [(37, 1), (51, 1), (66, 1), (90, 1), (117, 1), (202, 1), (203, 1), (204, 1), (214, 1), (355, 1), (375, 1), (377, 1), (460, 1), (511, 1), (555, 1), (856, 1), (996, 1), (1064, 1), (1600, 1)], [(25, 1), (35, 1), (91, 1), (189, 1), (262, 1), (1121, 1), (1601, 1)], [(5, 1), (6, 1), (8, 1), (14, 1), (37, 1), (66, 1), (72, 1), (73, 1), (88, 1), (137, 1), (227, 1), (375, 1), (463, 1), (750, 1), (1060, 1), (1066, 1)], [(8, 1), (13, 1), (73, 1), (79, 1), (90, 2), (172, 1), (1124, 1)], [(42, 1), (208, 1), (211, 1), (404, 1), (709, 1), (948, 1), (1602, 1)], [(25, 1), (28, 2), (29, 1), (56, 1), (67, 1), (96, 1), (102, 1), (126, 1), (144, 3), (162, 1), (226, 1), (232, 1), (450, 1), (463, 1), (614, 2), (691, 1), (910, 1), (1116, 1), (1220, 1), (1378, 1), (1603, 1)], [(37, 1), (40, 1), (66, 1), (90, 2), (127, 1), (137, 1), (171, 1), (172, 2), (177, 1), (218, 1), (227, 1), (345, 1), (377, 1), (515, 1), (885, 1), (1244, 1)], [(66, 1), (151, 1), (227, 1), (424, 1), (1390, 1)], [(189, 1), (231, 1), (1604, 1)], [], [(61, 1), (172, 1), (202, 1), (500, 1), (1186, 1)], [(10, 1), (19, 1), (88, 1), (90, 1), (127, 1), (191, 1), (202, 1), (206, 1), (404, 1), (408, 1), (820, 1), (856, 1), (933, 1)], [(252, 1)], [(1, 1), (66, 1), (143, 1), (171, 1), (172, 1), (202, 1), (496, 1), (502, 1), (632, 1)], [], [(90, 1), (339, 1), (385, 1)], [(206, 1), (869, 1), (1605, 1), (1606, 1)], [(1607, 1)], [(66, 1), (227, 1), (916, 1), (917, 1)], [(191, 1)], [(56, 1), (66, 1), (87, 1), (126, 1), (135, 1), (140, 1), (196, 1), (201, 1), (203, 1), (320, 1), (357, 1), (492, 1), (794, 1), (1310, 1), (1608, 1), (1609, 1)], [(459, 1), (559, 1), (1610, 1)], [(6, 1), (53, 1), (86, 1), (189, 1), (191, 2), (261, 1), (309, 1), (320, 1), (508, 1), (1611, 1)], [(4, 1), (37, 1), (57, 1), (191, 1), (204, 1), (214, 1), (375, 1), (387, 1), (394, 1), (466, 1), (564, 1), (921, 1)], [(33, 1), (767, 1), (1612, 1)], [(199, 1)], [(1171, 1), (1613, 1)], [(545, 1), (679, 1), (766, 1), (1614, 1), (1615, 1)], [(1224, 1), (1616, 1)], [(100, 1), (167, 1), (172, 1), (204, 1), (904, 1)], [(86, 1), (90, 1), (132, 1), (152, 1)], [(16, 1), (33, 1), (35, 1), (90, 1), (266, 1), (767, 1)], [(32, 1), (135, 1), (224, 1), (226, 1), (315, 1), (540, 1), (651, 1), (1180, 1)], [(33, 1), (37, 1), (64, 1), (86, 1), (266, 1), (383, 1)], [(8, 1), (21, 1), (35, 1), (90, 1), (271, 1), (273, 1), (356, 1), (497, 1), (572, 1), (655, 1), (693, 1), (1225, 1), (1550, 1), (1617, 1)], [(31, 1), (55, 1), (64, 1), (88, 1), (127, 1), (136, 1), (155, 1), (201, 1), (351, 1), (365, 1), (401, 1), (677, 1), (683, 1), (695, 1), (750, 1), (1125, 1), (1569, 1), (1618, 1), (1619, 1), (1620, 1)], [(261, 1), (729, 1), (1621, 1)], [(202, 1)], [(33, 1), (51, 1), (55, 1), (66, 1), (119, 2), (136, 2), (315, 1), (411, 1), (475, 2), (594, 1), (655, 1), (1622, 1)], [(191, 1)], [(86, 1), (91, 1), (336, 1), (1623, 1)], [(383, 1), (1624, 1), (1625, 1)], [(6, 1), (33, 1), (61, 1), (67, 1), (90, 2), (119, 1), (145, 1), (173, 1), (186, 1), (355, 1), (394, 1), (428, 1), (438, 1), (467, 1), (534, 1), (882, 1), (1574, 1), (1626, 1)], [(8, 1), (27, 1), (55, 1), (162, 4), (206, 1), (387, 1), (455, 1), (971, 1), (1120, 1)], [(33, 1), (191, 1), (199, 1), (1627, 1), (1628, 1), (1629, 1)], [(14, 1), (25, 1), (37, 1), (44, 1), (56, 1), (61, 1), (80, 1), (90, 2), (126, 1), (167, 1), (176, 1), (186, 1), (191, 1), (196, 4), (365, 1), (375, 1), (386, 1), (389, 1), (394, 1), (401, 6), (418, 1), (423, 1), (428, 1), (444, 1), (451, 3), (556, 1), (614, 1), (625, 1), (761, 1), (856, 1), (877, 1), (1088, 1), (1094, 1), (1165, 1), (1267, 1), (1424, 1), (1494, 1), (1630, 1), (1631, 1), (1632, 1), (1633, 1)], [(38, 1), (63, 1), (66, 2), (137, 1), (203, 1), (227, 1), (394, 1), (587, 1), (594, 1), (609, 1), (1634, 1)], [(33, 1), (864, 1)], [(6, 3), (8, 3), (9, 2), (19, 1), (21, 1), (25, 1), (35, 1), (37, 1), (38, 1), (51, 1), (66, 1), (79, 1), (80, 1), (82, 1), (90, 2), (136, 1), (204, 1), (223, 1), (265, 1), (309, 1), (311, 2), (333, 1), (389, 1), (502, 2), (504, 1), (553, 1), (856, 1), (888, 1), (1419, 1), (1635, 1), (1636, 1), (1637, 1)], [(90, 1)], [(33, 1)], [(171, 1), (172, 1), (202, 1), (632, 1)], [(33, 1)], [(6, 1), (38, 1), (55, 1), (56, 1), (60, 1), (191, 1), (201, 2), (274, 1), (309, 1), (339, 1), (389, 1), (463, 1), (477, 1), (553, 1), (555, 1), (875, 1), (1638, 1)], [(25, 1), (45, 1), (51, 1), (62, 1), (66, 1), (134, 1), (389, 1), (1031, 1)], [(25, 1), (91, 1), (143, 1), (293, 1), (345, 1), (418, 1), (765, 1), (1244, 1), (1256, 1)], [(32, 1), (135, 1), (224, 2), (225, 1), (264, 1), (335, 1), (365, 1), (387, 1), (401, 1), (463, 1), (532, 1), (1180, 1), (1182, 1), (1332, 1), (1639, 1)], [(25, 1), (31, 1), (35, 1), (85, 1), (90, 1), (167, 1), (373, 1), (428, 1), (497, 1), (498, 1), (1124, 1)], [(35, 1), (73, 1), (136, 1), (140, 1), (320, 2), (345, 2), (356, 1), (422, 1), (459, 3), (691, 1), (791, 1), (1640, 1), (1641, 1), (1642, 1)], [(8, 1), (40, 1), (45, 1), (51, 1), (66, 1), (90, 1), (313, 1), (345, 1), (463, 1), (565, 1), (824, 1), (1227, 1), (1420, 1), (1643, 1)], [(25, 1), (869, 1), (1644, 1), (1645, 1), (1646, 1), (1647, 1)], [(37, 1), (51, 1), (66, 1), (85, 1), (88, 1), (90, 1), (172, 1), (201, 1), (202, 1), (208, 1), (1124, 1)], [(422, 1)], [(44, 1), (56, 1), (191, 1), (305, 1), (679, 1)], [(88, 1), (108, 1), (151, 2), (315, 1), (365, 1), (378, 1), (645, 1), (767, 1), (982, 1), (1142, 1), (1458, 1), (1648, 1), (1649, 1), (1650, 3), (1651, 1), (1652, 1)], [(80, 1), (126, 1), (196, 2), (307, 1), (353, 1), (671, 1), (1479, 1)], [(25, 1), (55, 1), (57, 1), (66, 1), (80, 1), (186, 1), (202, 1), (227, 1), (496, 1), (1223, 1)], [(835, 1), (1171, 1)], [(61, 1), (202, 1), (204, 1)], [(142, 1), (292, 1)], [(25, 1), (66, 1), (79, 1), (134, 1), (191, 1), (214, 1), (227, 1), (424, 1)], [(6, 1), (66, 1), (80, 1), (196, 1), (228, 1), (315, 1), (320, 1), (356, 1), (386, 1), (397, 1), (410, 1), (466, 1), (499, 1), (627, 1), (794, 1), (1653, 1)], [(32, 1), (51, 1), (66, 1), (549, 1), (679, 1), (1098, 1)], [(33, 1), (38, 1), (52, 1), (60, 1), (65, 1), (72, 1), (73, 1), (87, 1), (90, 1), (127, 1), (176, 2), (204, 2), (352, 2), (377, 1), (386, 1), (404, 1), (695, 1), (934, 2), (1258, 1), (1654, 1), (1655, 1), (1656, 1), (1657, 1), (1658, 1)], [(93, 1), (1171, 1)], [(142, 1)], [(25, 1), (80, 1), (85, 1), (88, 1), (176, 1), (196, 3), (201, 1), (235, 1), (351, 1), (389, 1), (401, 2), (420, 1), (565, 1), (632, 1), (651, 1), (780, 1), (792, 1), (831, 2), (854, 1), (934, 1), (1064, 1), (1165, 2), (1659, 1), (1660, 1), (1661, 1), (1662, 1), (1663, 1)], [(90, 1), (189, 1), (1416, 1), (1664, 1)], [(33, 1)], [(25, 1), (33, 1), (35, 1), (136, 1), (225, 1), (296, 1), (474, 1), (493, 1), (517, 1), (532, 1), (534, 1)], [(33, 1), (251, 1)], [(191, 1)], [(64, 1), (117, 1), (140, 1), (175, 1), (389, 1), (422, 1), (459, 2), (475, 1), (476, 1), (554, 1), (875, 1)], [(389, 1), (450, 1), (513, 1), (715, 1)], [(86, 1), (90, 1), (333, 1), (460, 1), (1416, 1), (1665, 1)], [(90, 2), (252, 1), (271, 1), (418, 1), (534, 1), (562, 1), (581, 1), (766, 1), (835, 1), (1666, 1)], [(252, 1)], [(56, 1), (60, 1), (172, 1), (345, 1), (367, 1), (495, 1), (496, 1), (613, 1), (1186, 1), (1279, 1), (1667, 1)], [(31, 1), (90, 1), (171, 1), (428, 1)]]\n"
     ]
    }
   ],
   "source": [
    "# Create Dictionary\n",
    "id2word = corpora.Dictionary(data_lemmatized)\n",
    "\n",
    "# Create Corpus\n",
    "texts = data_lemmatized\n",
    "\n",
    "# Term Document Frequency\n",
    "corpus = [id2word.doc2bow(text) for text in texts]\n",
    "\n",
    "# View\n",
    "print(corpus)"
   ]
  },
  {
   "cell_type": "code",
   "execution_count": 15,
   "metadata": {
    "extensions": {
     "jupyter_dashboards": {
      "version": 1,
      "views": {
       "grid_default": {
        "col": 0,
        "height": 4,
        "hidden": false,
        "row": 36,
        "width": 12
       },
       "report_default": {
        "hidden": false
       }
      }
     }
    },
    "nbpresent": {
     "id": "85bbe127-bdc5-4c87-aa2c-9481b83e07ac"
    }
   },
   "outputs": [
    {
     "data": {
      "text/plain": [
       "u'conversation'"
      ]
     },
     "execution_count": 15,
     "metadata": {},
     "output_type": "execute_result"
    }
   ],
   "source": [
    "id2word[1]"
   ]
  },
  {
   "cell_type": "code",
   "execution_count": 16,
   "metadata": {
    "extensions": {
     "jupyter_dashboards": {
      "version": 1,
      "views": {
       "grid_default": {
        "hidden": true
       },
       "report_default": {
        "hidden": true
       }
      }
     }
    },
    "nbpresent": {
     "id": "b3be3278-593e-43a8-9e04-6d245220e88d"
    }
   },
   "outputs": [],
   "source": [
    "# Human readable format of corpus (term-frequency)\n",
    "#[[(id2word[id], freq) for id, freq in cp] for cp in corpus[:1]]"
   ]
  },
  {
   "cell_type": "code",
   "execution_count": 17,
   "metadata": {
    "extensions": {
     "jupyter_dashboards": {
      "version": 1,
      "views": {
       "grid_default": {
        "col": 0,
        "height": 12,
        "hidden": false,
        "row": 40,
        "width": 12
       },
       "report_default": {
        "hidden": false
       }
      }
     }
    },
    "nbpresent": {
     "id": "9b48686c-6083-48c3-a6c2-b5f05dfd4dc0"
    }
   },
   "outputs": [],
   "source": [
    "import warnings\n",
    "warnings.filterwarnings(\"ignore\",category=DeprecationWarning)\n",
    "\n",
    "# Build LDA model\n",
    "lda_model = gensim.models.ldamodel.LdaModel(corpus=corpus,\n",
    "                                           id2word=id2word,\n",
    "                                           num_topics=4, \n",
    "                                           random_state=100,\n",
    "                                           update_every=1,\n",
    "                                           chunksize=100,\n",
    "                                           passes=10,\n",
    "                                           alpha='auto',\n",
    "                                           per_word_topics=True)\n"
   ]
  },
  {
   "cell_type": "code",
   "execution_count": 18,
   "metadata": {
    "extensions": {
     "jupyter_dashboards": {
      "version": 1,
      "views": {
       "grid_default": {
        "col": 0,
        "height": 6,
        "hidden": false,
        "row": 52,
        "width": 12
       },
       "report_default": {
        "hidden": false
       }
      }
     }
    },
    "nbpresent": {
     "id": "8c9b52c5-579c-440c-b2cb-1761d743d214"
    }
   },
   "outputs": [
    {
     "name": "stdout",
     "output_type": "stream",
     "text": [
      "[(0,\n",
      "  u'0.031*\"update\" + 0.026*\"new\" + 0.025*\"even\" + 0.018*\"make\" + 0.015*\"screen\" + 0.013*\"workspace\" + 0.012*\"app\" + 0.012*\"late\" + 0.012*\"bad\" + 0.012*\"much\"'),\n",
      " (1,\n",
      "  u'0.019*\"able\" + 0.018*\"load\" + 0.017*\"easy\" + 0.014*\"amazing\" + 0.013*\"project\" + 0.013*\"back\" + 0.013*\"lot\" + 0.011*\"add\" + 0.010*\"galaxy\" + 0.010*\"launch\"'),\n",
      " (2,\n",
      "  u'0.077*\"good\" + 0.063*\"great\" + 0.036*\"team\" + 0.024*\"mobile\" + 0.019*\"communication\" + 0.019*\"call\" + 0.016*\"slack\" + 0.013*\"slow\" + 0.012*\"nice\" + 0.011*\"sound\"'),\n",
      " (3,\n",
      "  u'0.045*\"not\" + 0.039*\"work\" + 0.034*\"notification\" + 0.024*\"slack\" + 0.023*\"get\" + 0.022*\"time\" + 0.022*\"message\" + 0.021*\"do\" + 0.016*\"love\" + 0.015*\"can\"')]\n"
     ]
    }
   ],
   "source": [
    "# Print the Keyword in the 10 topics\n",
    "pprint(lda_model.print_topics())\n",
    "doc_lda = lda_model[corpus]"
   ]
  },
  {
   "cell_type": "code",
   "execution_count": 20,
   "metadata": {
    "extensions": {
     "jupyter_dashboards": {
      "version": 1,
      "views": {
       "grid_default": {
        "col": 0,
        "height": 29,
        "hidden": false,
        "row": 58,
        "width": null
       },
       "report_default": {
        "hidden": false
       }
      }
     }
    },
    "nbpresent": {
     "id": "7f7b4eb4-ee3f-4be3-a5bf-2a667752a485"
    }
   },
   "outputs": [
    {
     "data": {
      "text/html": [
       "\n",
       "<link rel=\"stylesheet\" type=\"text/css\" href=\"https://cdn.rawgit.com/bmabey/pyLDAvis/files/ldavis.v1.0.0.css\">\n",
       "\n",
       "\n",
       "<div id=\"ldavis_el2205448485603364308034782\"></div>\n",
       "<script type=\"text/javascript\">\n",
       "\n",
       "var ldavis_el2205448485603364308034782_data = {\"plot.opts\": {\"xlab\": \"PC1\", \"ylab\": \"PC2\"}, \"topic.order\": [4, 1, 3, 2], \"token.table\": {\"Topic\": [4, 2, 4, 4, 4, 1, 2, 2, 2, 1, 4, 2, 1, 2, 4, 4, 3, 1, 4, 1, 2, 3, 4, 3, 1, 3, 1, 3, 3, 4, 2, 1, 1, 1, 2, 2, 2, 3, 3, 2, 4, 3, 1, 4, 4, 1, 2, 4, 4, 2, 1, 2, 3, 1, 2, 4, 3, 3, 4, 1, 1, 3, 3, 2, 4, 1, 3, 4, 1, 1, 2, 2, 4, 3, 2, 4, 1, 1, 1, 3, 4, 4, 1, 3, 2, 3, 4, 1, 2, 4, 4, 3, 4, 2, 4, 1, 4, 2, 3, 1, 1, 2, 1, 3, 4, 4, 1, 3, 1, 4, 3, 1, 2, 2, 4, 3, 4, 2, 2, 1, 1, 2, 3, 2, 2, 3, 1, 3, 3, 3, 1, 3, 4, 1, 2, 3, 2, 3, 1, 3, 3, 1, 3, 1, 2, 2, 2, 1, 1, 2, 4, 1, 3, 3, 1, 1, 2, 2, 2, 2, 1, 3, 3, 2, 1], \"Freq\": [0.9770846962928772, 0.9782174229621887, 0.9607784748077393, 0.9109182357788086, 0.9306899905204773, 0.6477376222610474, 0.33929112553596497, 0.9757570028305054, 0.9853317737579346, 0.9944097399711609, 0.9080883860588074, 0.9790251851081848, 0.9571104049682617, 0.025867847725749016, 0.951433539390564, 0.8854232430458069, 0.9908103346824646, 0.9879416227340698, 0.9039602875709534, 0.9782272577285767, 0.954654335975647, 0.9503053426742554, 0.8600414991378784, 0.9804630875587463, 0.24377910792827606, 0.7313373684883118, 0.20819921791553497, 0.7807470560073853, 0.9278528690338135, 0.9736291766166687, 0.9728150963783264, 0.9514147043228149, 0.9815341830253601, 0.06606493890285492, 0.8588442206382751, 0.9404564499855042, 0.28339195251464844, 0.6612479090690613, 0.9167934656143188, 0.9467384815216064, 0.8515885472297668, 0.985245406627655, 0.992771327495575, 0.9459093809127808, 0.9512898325920105, 0.9919164180755615, 0.9142683148384094, 0.8133619427680969, 0.9303926825523376, 0.991378903388977, 0.40838247537612915, 0.2227540761232376, 0.3712567985057831, 0.9795235991477966, 0.28489235043525696, 0.6647487878799438, 0.9611532092094421, 0.9371570348739624, 0.9451698064804077, 0.9969826340675354, 0.9680292010307312, 0.9926246404647827, 0.99253910779953, 0.9818564057350159, 0.8519582152366638, 0.9740513563156128, 0.876751184463501, 0.9817574620246887, 0.9793964624404907, 0.9170394539833069, 0.07641994953155518, 0.9832432270050049, 0.9683148264884949, 0.9273312091827393, 0.9570387005805969, 0.9697654247283936, 0.9792971611022949, 0.9742499589920044, 0.0789034366607666, 0.9468412399291992, 0.9180167317390442, 0.9481116533279419, 0.9941962957382202, 0.9708892107009888, 0.9723060131072998, 0.6964232921600342, 0.30952146649360657, 0.938448965549469, 0.054560985416173935, 0.8479506373405457, 0.8378204703330994, 0.989163339138031, 0.9253250360488892, 0.8771944642066956, 0.08771944791078568, 0.813800573348999, 0.17801886796951294, 0.9965856075286865, 0.9595813155174255, 0.9940422177314758, 0.994164764881134, 0.9102475047111511, 0.9922078847885132, 0.9406893253326416, 0.8879028558731079, 0.9214780926704407, 0.9933364987373352, 0.9868333339691162, 0.984587550163269, 0.980424702167511, 0.9471296668052673, 0.9954217672348022, 0.9568120837211609, 0.961247980594635, 0.8513315320014954, 0.8432737588882446, 0.9728487730026245, 0.939120888710022, 0.966116189956665, 0.960994303226471, 0.9537104368209839, 0.023842761293053627, 0.9513517022132874, 0.9577569961547852, 0.9288126230239868, 0.8958145976066589, 0.7891892194747925, 0.20768137276172638, 0.9835532307624817, 0.8622111678123474, 0.9930822849273682, 0.9926812052726746, 0.8219139575958252, 0.9723759889602661, 0.9485015869140625, 0.8561716675758362, 0.9312533140182495, 0.983684778213501, 0.9221440553665161, 0.06830696761608124, 0.9289023876190186, 0.9892809987068176, 0.9916901588439941, 0.9724829792976379, 0.9392594695091248, 0.9884633421897888, 0.9396818280220032, 0.9805583357810974, 0.9769605398178101, 0.56538987159729, 0.39577290415763855, 0.5906029343605042, 0.3758382201194763, 0.8689553141593933, 0.9688379764556885, 0.28808361291885376, 0.6721951365470886, 0.9759294390678406, 0.9479537010192871, 0.9339315295219421, 0.9478347897529602, 0.04955999180674553, 0.923361599445343, 0.9763452410697937, 0.9901217222213745], \"Term\": [\"able\", \"account\", \"add\", \"almost\", \"amazing\", \"android\", \"android\", \"app\", \"ask\", \"awesome\", \"back\", \"bad\", \"be\", \"be\", \"brilliant\", \"browser\", \"call\", \"can\", \"cause\", \"channel\", \"chat\", \"collaboration\", \"communicate\", \"communication\", \"company\", \"company\", \"connect\", \"connect\", \"connection\", \"constantly\", \"conversation\", \"could\", \"crash\", \"create\", \"create\", \"delete\", \"desktop\", \"desktop\", \"developer\", \"device\", \"different\", \"discord\", \"do\", \"drop\", \"easy\", \"email\", \"emoji\", \"enough\", \"error\", \"even\", \"feature\", \"feature\", \"feature\", \"fix\", \"force\", \"force\", \"forever\", \"free\", \"galaxy\", \"get\", \"go\", \"good\", \"great\", \"group\", \"hang\", \"have\", \"hope\", \"interface\", \"issue\", \"keep\", \"keep\", \"late\", \"launch\", \"lication\", \"link\", \"load\", \"log\", \"login\", \"long\", \"long\", \"loop\", \"lot\", \"love\", \"lovely\", \"make\", \"manage\", \"manage\", \"message\", \"message\", \"min\", \"minute\", \"mobile\", \"mode\", \"much\", \"much\", \"need\", \"need\", \"new\", \"nice\", \"not\", \"notification\", \"old\", \"open\", \"option\", \"password\", \"perfect\", \"phone\", \"platform\", \"problem\", \"project\", \"purpose\", \"really\", \"receive\", \"recent\", \"reinstall\", \"release_note\", \"run\", \"s\", \"screen\", \"seem\", \"send\", \"send\", \"service\", \"show\", \"sign\", \"simply\", \"slack\", \"slack\", \"slow\", \"small\", \"something\", \"sound\", \"stable\", \"star\", \"still\", \"support\", \"sync\", \"team\", \"thank\", \"thank\", \"thing\", \"time\", \"tool\", \"try\", \"turn\", \"update\", \"upload\", \"use\", \"useful\", \"user\", \"user\", \"version\", \"version\", \"video\", \"want\", \"way\", \"way\", \"web\", \"well\", \"what\", \"work\", \"work\", \"workplace\", \"workspace\", \"would\"]}, \"mdsDat\": {\"y\": [0.0564329816735223, 0.1894164774413512, -0.23957422817610852, -0.006275230938765045], \"cluster\": [1, 1, 1, 1], \"Freq\": [47.8475227355957, 21.4837589263916, 19.11023712158203, 11.55847454071045], \"topics\": [1, 2, 3, 4], \"x\": [-0.292513792908923, 0.15373564498658226, 0.05032929428598734, 0.08844885363635326]}, \"R\": 30, \"lambda.step\": 0.01, \"tinfo\": {\"Category\": [\"Default\", \"Default\", \"Default\", \"Default\", \"Default\", \"Default\", \"Default\", \"Default\", \"Default\", \"Default\", \"Default\", \"Default\", \"Default\", \"Default\", \"Default\", \"Default\", \"Default\", \"Default\", \"Default\", \"Default\", \"Default\", \"Default\", \"Default\", \"Default\", \"Default\", \"Default\", \"Default\", \"Default\", \"Default\", \"Default\", \"Topic1\", \"Topic1\", \"Topic1\", \"Topic1\", \"Topic1\", \"Topic1\", \"Topic1\", \"Topic1\", \"Topic1\", \"Topic1\", \"Topic1\", \"Topic1\", \"Topic1\", \"Topic1\", \"Topic1\", \"Topic1\", \"Topic1\", \"Topic1\", \"Topic1\", \"Topic1\", \"Topic1\", \"Topic1\", \"Topic1\", \"Topic1\", \"Topic1\", \"Topic1\", \"Topic1\", \"Topic1\", \"Topic1\", \"Topic1\", \"Topic1\", \"Topic1\", \"Topic1\", \"Topic1\", \"Topic1\", \"Topic1\", \"Topic1\", \"Topic1\", \"Topic2\", \"Topic2\", \"Topic2\", \"Topic2\", \"Topic2\", \"Topic2\", \"Topic2\", \"Topic2\", \"Topic2\", \"Topic2\", \"Topic2\", \"Topic2\", \"Topic2\", \"Topic2\", \"Topic2\", \"Topic2\", \"Topic2\", \"Topic2\", \"Topic2\", \"Topic2\", \"Topic2\", \"Topic2\", \"Topic2\", \"Topic2\", \"Topic2\", \"Topic2\", \"Topic2\", \"Topic2\", \"Topic2\", \"Topic2\", \"Topic2\", \"Topic2\", \"Topic2\", \"Topic2\", \"Topic2\", \"Topic3\", \"Topic3\", \"Topic3\", \"Topic3\", \"Topic3\", \"Topic3\", \"Topic3\", \"Topic3\", \"Topic3\", \"Topic3\", \"Topic3\", \"Topic3\", \"Topic3\", \"Topic3\", \"Topic3\", \"Topic3\", \"Topic3\", \"Topic3\", \"Topic3\", \"Topic3\", \"Topic3\", \"Topic3\", \"Topic3\", \"Topic3\", \"Topic3\", \"Topic3\", \"Topic3\", \"Topic3\", \"Topic3\", \"Topic3\", \"Topic3\", \"Topic3\", \"Topic3\", \"Topic3\", \"Topic3\", \"Topic3\", \"Topic3\", \"Topic3\", \"Topic3\", \"Topic4\", \"Topic4\", \"Topic4\", \"Topic4\", \"Topic4\", \"Topic4\", \"Topic4\", \"Topic4\", \"Topic4\", \"Topic4\", \"Topic4\", \"Topic4\", \"Topic4\", \"Topic4\", \"Topic4\", \"Topic4\", \"Topic4\", \"Topic4\", \"Topic4\", \"Topic4\", \"Topic4\", \"Topic4\", \"Topic4\", \"Topic4\", \"Topic4\", \"Topic4\", \"Topic4\", \"Topic4\", \"Topic4\", \"Topic4\", \"Topic4\", \"Topic4\", \"Topic4\", \"Topic4\"], \"Term\": [\"good\", \"great\", \"not\", \"notification\", \"team\", \"update\", \"work\", \"new\", \"even\", \"mobile\", \"get\", \"time\", \"do\", \"slack\", \"communication\", \"make\", \"call\", \"screen\", \"love\", \"able\", \"load\", \"message\", \"can\", \"easy\", \"workspace\", \"slow\", \"use\", \"app\", \"late\", \"bad\", \"not\", \"notification\", \"get\", \"time\", \"do\", \"love\", \"can\", \"use\", \"open\", \"would\", \"crash\", \"awesome\", \"really\", \"phone\", \"email\", \"try\", \"login\", \"channel\", \"fix\", \"useful\", \"go\", \"have\", \"want\", \"star\", \"seem\", \"something\", \"log\", \"problem\", \"could\", \"issue\", \"work\", \"send\", \"message\", \"be\", \"keep\", \"slack\", \"thank\", \"need\", \"update\", \"new\", \"even\", \"make\", \"screen\", \"workspace\", \"app\", \"late\", \"bad\", \"show\", \"account\", \"group\", \"still\", \"s\", \"device\", \"upload\", \"conversation\", \"link\", \"sign\", \"chat\", \"ask\", \"recent\", \"receive\", \"emoji\", \"web\", \"old\", \"sync\", \"delete\", \"what\", \"turn\", \"much\", \"well\", \"create\", \"way\", \"android\", \"good\", \"great\", \"team\", \"mobile\", \"communication\", \"call\", \"slow\", \"nice\", \"sound\", \"option\", \"tool\", \"lication\", \"thing\", \"collaboration\", \"discord\", \"simply\", \"platform\", \"connection\", \"developer\", \"purpose\", \"free\", \"long\", \"lovely\", \"workplace\", \"hope\", \"forever\", \"service\", \"release_note\", \"support\", \"video\", \"small\", \"connect\", \"desktop\", \"company\", \"slack\", \"version\", \"manage\", \"feature\", \"work\", \"able\", \"easy\", \"load\", \"amazing\", \"project\", \"back\", \"add\", \"lot\", \"galaxy\", \"launch\", \"interface\", \"run\", \"browser\", \"communicate\", \"cause\", \"constantly\", \"error\", \"loop\", \"almost\", \"hang\", \"perfect\", \"drop\", \"min\", \"reinstall\", \"enough\", \"different\", \"brilliant\", \"minute\", \"stable\", \"mode\", \"password\", \"force\", \"user\", \"need\"], \"loglift\": [30.0, 29.0, 28.0, 27.0, 26.0, 25.0, 24.0, 23.0, 22.0, 21.0, 20.0, 19.0, 18.0, 17.0, 16.0, 15.0, 14.0, 13.0, 12.0, 11.0, 10.0, 9.0, 8.0, 7.0, 6.0, 5.0, 4.0, 3.0, 2.0, 1.0, 0.7337999939918518, 0.7328000068664551, 0.730400025844574, 0.7300999760627747, 0.7300999760627747, 0.727400004863739, 0.7267000079154968, 0.725600004196167, 0.7249000072479248, 0.7243000268936157, 0.7239000201225281, 0.7232999801635742, 0.7222999930381775, 0.7218000292778015, 0.7215999960899353, 0.7214000225067139, 0.7213000059127808, 0.7200999855995178, 0.7200000286102295, 0.7193999886512756, 0.7178999781608582, 0.713699996471405, 0.7132999897003174, 0.7120000123977661, 0.7109000086784363, 0.7098000049591064, 0.7089999914169312, 0.7084000110626221, 0.7073000073432922, 0.7069000005722046, 0.6822999715805054, 0.6984999775886536, 0.6722999811172485, 0.6895999908447266, 0.6460999846458435, 0.49570000171661377, 0.6553999781608582, 0.5203999876976013, 1.5262000560760498, 1.5236999988555908, 1.5232000350952148, 1.518399953842163, 1.5140999555587769, 1.5113999843597412, 1.5098999738693237, 1.5089000463485718, 1.507200002670288, 1.507099986076355, 1.5062999725341797, 1.5039000511169434, 1.5023000240325928, 1.5017999410629272, 1.5002000331878662, 1.5, 1.4983999729156494, 1.4936000108718872, 1.4918999671936035, 1.4900000095367432, 1.4873000383377075, 1.4866000413894653, 1.4855999946594238, 1.4854999780654907, 1.4846999645233154, 1.482699990272522, 1.482300043106079, 1.482100009918213, 1.4778000116348267, 1.4740999937057495, 1.4291000366210938, 1.4657000303268433, 1.4139000177383423, 1.1684000492095947, 0.4982999861240387, 1.6497000455856323, 1.6484999656677246, 1.6420999765396118, 1.6373000144958496, 1.6346999406814575, 1.6337000131607056, 1.6240999698638916, 1.6217999458312988, 1.6200000047683716, 1.6180000305175781, 1.61489999294281, 1.6103999614715576, 1.6095999479293823, 1.5993000268936157, 1.593999981880188, 1.5908000469207764, 1.5850000381469727, 1.5848000049591064, 1.5808000564575195, 1.579300045967102, 1.5785000324249268, 1.5759999752044678, 1.5745999813079834, 1.5705000162124634, 1.5699000358581543, 1.5672999620437622, 1.5649000406265259, 1.561400055885315, 1.5608999729156494, 1.5568000078201294, 1.5568000078201294, 1.378600001335144, 1.267799973487854, 1.333400011062622, 0.0997999981045723, 0.7013000249862671, 1.2512999773025513, 0.6219000220298767, -1.3217999935150146, 2.1201999187469482, 2.117799997329712, 2.114500045776367, 2.1103999614715576, 2.1061999797821045, 2.098599910736084, 2.098400115966797, 2.0975000858306885, 2.091900110244751, 2.0852999687194824, 2.0836000442504883, 2.0822999477386475, 2.0815999507904053, 2.0724000930786133, 2.0680999755859375, 2.067699909210205, 2.067500114440918, 2.0632998943328857, 2.0543999671936035, 2.0513999462127686, 2.0511999130249023, 2.0510001182556152, 2.0488998889923096, 2.037600040435791, 2.0371999740600586, 2.036099910736084, 2.0355000495910645, 2.035399913787842, 2.0350000858306885, 2.0325000286102295, 2.0216000080108643, 1.700600028038025, 1.1943000555038452, 0.46549999713897705], \"Freq\": [120.0, 98.0, 178.0, 134.0, 56.0, 54.0, 161.0, 46.0, 45.0, 38.0, 89.0, 86.0, 83.0, 120.0, 30.0, 32.0, 30.0, 27.0, 62.0, 18.0, 17.0, 91.0, 57.0, 16.0, 23.0, 21.0, 53.0, 22.0, 22.0, 21.0, 177.46197509765625, 134.1947479248047, 88.67221069335938, 86.32184600830078, 83.01309967041016, 61.75618362426758, 57.095863342285156, 52.421905517578125, 48.782527923583984, 48.85771560668945, 45.24508285522461, 42.64561462402344, 40.58274459838867, 38.6630859375, 39.70506286621094, 38.46500015258789, 40.4133415222168, 35.17332077026367, 35.12271499633789, 34.18788146972656, 31.412063598632812, 25.07028579711914, 25.19645118713379, 24.0684871673584, 22.298994064331055, 21.556121826171875, 21.84092903137207, 20.72364044189453, 20.403823852539062, 24.766307830810547, 152.79942321777344, 40.35169219970703, 85.88318634033203, 36.86225891113281, 35.84174346923828, 94.5584945678711, 26.980127334594727, 31.65773582458496, 53.995445251464844, 45.50811767578125, 44.72829818725586, 32.276390075683594, 27.29001808166504, 22.941667556762695, 21.924903869628906, 21.736839294433594, 20.80274200439453, 20.249147415161133, 19.810840606689453, 18.7045955657959, 17.296842575073242, 17.460830688476562, 17.293296813964844, 17.418659210205078, 15.810369491577148, 15.994804382324219, 13.367000579833984, 12.980335235595703, 12.542405128479004, 11.860111236572266, 12.894904136657715, 11.417439460754395, 11.65884780883789, 11.436260223388672, 11.17394733428955, 12.067171096801758, 10.08296012878418, 9.988603591918945, 20.44964599609375, 10.795909881591797, 13.371850967407227, 14.393305778503418, 11.463967323303223, 120.26292419433594, 98.10050964355469, 56.20109558105469, 37.74269485473633, 29.984115600585938, 29.641645431518555, 20.701858520507812, 18.147201538085938, 17.50971031188965, 17.416894912719727, 15.500561714172363, 13.407679557800293, 15.431619644165039, 10.948952674865723, 10.504284858703613, 10.469520568847656, 8.504283905029297, 9.042500495910645, 8.102757453918457, 8.80997371673584, 7.907881736755371, 11.711902618408203, 7.603652477264404, 7.962296485900879, 7.333215236663818, 7.624693393707275, 6.724429607391357, 6.479600429534912, 6.378852367401123, 6.259533882141113, 6.308050155639648, 14.573782920837402, 14.375137329101562, 11.896223068237305, 25.418703079223633, 14.35437297821045, 8.630967140197754, 9.587096214294434, 8.225327491760254, 17.74263572692871, 16.160747528076172, 16.788654327392578, 13.32241439819336, 12.593369483947754, 12.455835342407227, 10.789172172546387, 11.916818618774414, 9.905674934387207, 9.605695724487305, 8.511799812316895, 8.578451156616211, 8.373111724853516, 7.473621368408203, 8.091232299804688, 7.508731842041016, 6.87470006942749, 6.937883377075195, 5.939894199371338, 6.332324981689453, 5.852974891662598, 5.700793743133545, 6.3458356857299805, 5.208255290985107, 5.449223518371582, 5.198802471160889, 5.580533504486084, 5.280540943145752, 5.380629539489746, 4.767521381378174, 5.89748477935791, 6.666408061981201, 6.749167442321777, 7.239317417144775], \"Total\": [120.0, 98.0, 178.0, 134.0, 56.0, 54.0, 161.0, 46.0, 45.0, 38.0, 89.0, 86.0, 83.0, 120.0, 30.0, 32.0, 30.0, 27.0, 62.0, 18.0, 17.0, 91.0, 57.0, 16.0, 23.0, 21.0, 53.0, 22.0, 22.0, 21.0, 178.06085205078125, 134.78651428222656, 89.26935577392578, 86.93182373046875, 83.6043472290039, 62.36193084716797, 57.695716857910156, 53.031009674072266, 49.38481140136719, 49.48886489868164, 45.846595764160156, 43.24173355102539, 41.18857192993164, 39.261619567871094, 40.32597732543945, 39.075233459472656, 41.05722427368164, 35.77900695800781, 35.73165512084961, 34.801815032958984, 32.023826599121094, 25.665998458862305, 25.804107666015625, 24.68181037902832, 22.892955780029297, 22.153249740600586, 22.465091705322266, 21.32872772216797, 21.02132797241211, 25.525924682617188, 161.4205322265625, 41.94145202636719, 91.64057159423828, 38.65802764892578, 39.25676345825195, 120.376708984375, 29.279590606689453, 39.32167434692383, 54.6302490234375, 46.15760040283203, 45.39132308959961, 32.91144943237305, 27.946949005126953, 23.557241439819336, 22.54659652709961, 22.37493133544922, 21.449907302856445, 20.882123947143555, 20.44535255432129, 19.351099014282227, 17.923006057739258, 18.102035522460938, 17.956384658813477, 18.091230392456055, 16.447113037109375, 16.718236923217773, 13.99636459350586, 13.617494583129883, 13.193525314331055, 12.483771324157715, 13.586785316467285, 12.031478881835938, 12.295970916748047, 12.084625244140625, 11.81203842163086, 12.759761810302734, 10.707423210144043, 10.646685600280762, 22.79996109008789, 11.603941917419434, 15.136621475219727, 20.827285766601562, 32.420536041259766, 120.89161682128906, 98.73666381835938, 56.92880630493164, 38.41630554199219, 30.59778594970703, 30.278247833251953, 21.351158142089844, 18.758180618286133, 18.132709503173828, 18.071853637695312, 16.134071350097656, 14.018723487854004, 16.148090362548828, 11.575226783752441, 11.1647310256958, 11.163023948669434, 9.120080947875977, 9.699813842773438, 8.726065635681152, 9.502394676208496, 8.536456108093262, 12.67371940612793, 8.239869117736816, 8.663994789123535, 7.984021186828613, 8.323334693908691, 7.357951641082764, 7.115127086639404, 7.007940292358398, 6.904842853546143, 6.958852291107178, 19.21236801147461, 21.172090530395508, 16.408296585083008, 120.376708984375, 37.25006866455078, 12.923174858093262, 26.93553352355957, 161.4205322265625, 18.422149658203125, 16.81926918029785, 17.530012130737305, 13.968131065368652, 13.259559631347656, 13.21457290649414, 11.44904899597168, 12.656737327575684, 10.580109596252441, 10.32721996307373, 9.16723346710205, 9.251180648803711, 9.035226821899414, 8.139142036437988, 8.849946022033691, 8.216680526733398, 7.523705005645752, 7.625133514404297, 6.5867600440979, 7.042598724365234, 6.51127815246582, 6.34310245513916, 7.075883388519287, 5.873152732849121, 6.147324562072754, 5.871379852294922, 6.306273460388184, 5.967865467071533, 6.083361625671387, 5.403506755828857, 6.757495880126953, 10.530293464660645, 17.68691062927246, 39.32167434692383], \"logprob\": [30.0, 29.0, 28.0, 27.0, 26.0, 25.0, 24.0, 23.0, 22.0, 21.0, 20.0, 19.0, 18.0, 17.0, 16.0, 15.0, 14.0, 13.0, 12.0, 11.0, 10.0, 9.0, 8.0, 7.0, 6.0, 5.0, 4.0, 3.0, 2.0, 1.0, -3.096100091934204, -3.3756000995635986, -3.789900064468384, -3.816800117492676, -3.8559000492095947, -4.151700019836426, -4.230100154876709, -4.315499782562256, -4.387499809265137, -4.385900020599365, -4.462800025939941, -4.521900177001953, -4.571499824523926, -4.619999885559082, -4.593400001525879, -4.625100135803223, -4.575699806213379, -4.714600086212158, -4.716000080108643, -4.743000030517578, -4.827700138092041, -5.053199768066406, -5.0482001304626465, -5.093999862670898, -5.170300006866455, -5.20419979095459, -5.191100120544434, -5.243599891662598, -5.259099960327148, -5.065400123596191, -3.245699882507324, -4.577199935913086, -3.821899890899658, -4.667699813842773, -4.695700168609619, -3.725600004196167, -4.979800224304199, -4.819900035858154, -3.4851999282836914, -3.6561999320983887, -3.6735000610351562, -3.999799966812134, -4.167600154876709, -4.34119987487793, -4.386499881744385, -4.395100116729736, -4.4390997886657715, -4.466000080108643, -4.4878997802734375, -4.545400142669678, -4.623600006103516, -4.614200115203857, -4.623799800872803, -4.616600036621094, -4.713500022888184, -4.701900005340576, -4.881400108337402, -4.910699844360352, -4.945000171661377, -5.000999927520752, -4.917300224304199, -5.039000034332275, -5.018099784851074, -5.037399768829346, -5.0605998039245605, -4.983699798583984, -5.163300037384033, -5.172699928283691, -4.456200122833252, -5.09499979019165, -4.88100004196167, -4.807400226593018, -5.034900188446045, -2.5673999786376953, -2.7711000442504883, -3.3280999660491943, -3.726300001144409, -3.956399917602539, -3.967900037765503, -4.3267998695373535, -4.458600044250488, -4.49429988861084, -4.499599933624268, -4.616199970245361, -4.761199951171875, -4.62060022354126, -4.963799953460693, -5.005300045013428, -5.008600234985352, -5.2164998054504395, -5.155099868774414, -5.264900207519531, -5.18120002746582, -5.2891998291015625, -4.896500110626221, -5.328400135040283, -5.282299995422363, -5.364699840545654, -5.325699806213379, -5.451300144195557, -5.488399982452393, -5.5040998458862305, -5.5229997634887695, -5.515200138092041, -4.677800178527832, -4.6915998458862305, -4.880799770355225, -4.121600151062012, -4.692999839782715, -5.201700210571289, -5.09660005569458, -5.249800205230713, -3.978300094604492, -4.071700096130371, -4.033599853515625, -4.264800071716309, -4.321100234985352, -4.332099914550781, -4.4756999015808105, -4.376299858093262, -4.561200141906738, -4.591899871826172, -4.712800025939941, -4.704999923706055, -4.7291998863220215, -4.842899799346924, -4.763500213623047, -4.838200092315674, -4.926400184631348, -4.917300224304199, -5.0725998878479, -5.008600234985352, -5.087299823760986, -5.113699913024902, -5.006499767303467, -5.203999996185303, -5.15880012512207, -5.2058000564575195, -5.135000228881836, -5.190199851989746, -5.171500205993652, -5.292399883270264, -5.079699993133545, -4.957200050354004, -4.944799900054932, -4.87470006942749]}};\n",
       "\n",
       "function LDAvis_load_lib(url, callback){\n",
       "  var s = document.createElement('script');\n",
       "  s.src = url;\n",
       "  s.async = true;\n",
       "  s.onreadystatechange = s.onload = callback;\n",
       "  s.onerror = function(){console.warn(\"failed to load library \" + url);};\n",
       "  document.getElementsByTagName(\"head\")[0].appendChild(s);\n",
       "}\n",
       "\n",
       "if(typeof(LDAvis) !== \"undefined\"){\n",
       "   // already loaded: just create the visualization\n",
       "   !function(LDAvis){\n",
       "       new LDAvis(\"#\" + \"ldavis_el2205448485603364308034782\", ldavis_el2205448485603364308034782_data);\n",
       "   }(LDAvis);\n",
       "}else if(typeof define === \"function\" && define.amd){\n",
       "   // require.js is available: use it to load d3/LDAvis\n",
       "   require.config({paths: {d3: \"https://cdnjs.cloudflare.com/ajax/libs/d3/3.5.5/d3.min\"}});\n",
       "   require([\"d3\"], function(d3){\n",
       "      window.d3 = d3;\n",
       "      LDAvis_load_lib(\"https://cdn.rawgit.com/bmabey/pyLDAvis/files/ldavis.v1.0.0.js\", function(){\n",
       "        new LDAvis(\"#\" + \"ldavis_el2205448485603364308034782\", ldavis_el2205448485603364308034782_data);\n",
       "      });\n",
       "    });\n",
       "}else{\n",
       "    // require.js not available: dynamically load d3 & LDAvis\n",
       "    LDAvis_load_lib(\"https://cdnjs.cloudflare.com/ajax/libs/d3/3.5.5/d3.min.js\", function(){\n",
       "         LDAvis_load_lib(\"https://cdn.rawgit.com/bmabey/pyLDAvis/files/ldavis.v1.0.0.js\", function(){\n",
       "                 new LDAvis(\"#\" + \"ldavis_el2205448485603364308034782\", ldavis_el2205448485603364308034782_data);\n",
       "            })\n",
       "         });\n",
       "}\n",
       "</script>"
      ],
      "text/plain": [
       "PreparedData(topic_coordinates=            Freq  cluster  topics         x         y\n",
       "topic                                                \n",
       "3      47.847523        1       1 -0.292514  0.056433\n",
       "0      21.483759        1       2  0.153736  0.189416\n",
       "2      19.110237        1       3  0.050329 -0.239574\n",
       "1      11.558475        1       4  0.088449 -0.006275, topic_info=     Category        Freq           Term       Total  loglift  logprob\n",
       "term                                                                  \n",
       "928   Default  120.000000           good  120.000000  30.0000  30.0000\n",
       "1297  Default   98.000000          great   98.000000  29.0000  29.0000\n",
       "536   Default  178.000000            not  178.000000  28.0000  28.0000\n",
       "392   Default  134.000000   notification  134.000000  27.0000  27.0000\n",
       "423   Default   56.000000           team   56.000000  26.0000  26.0000\n",
       "386   Default   54.000000         update   54.000000  25.0000  25.0000\n",
       "67    Default  161.000000           work  161.000000  24.0000  24.0000\n",
       "25    Default   46.000000            new   46.000000  23.0000  23.0000\n",
       "23    Default   45.000000           even   45.000000  22.0000  22.0000\n",
       "1015  Default   38.000000         mobile   38.000000  21.0000  21.0000\n",
       "643   Default   89.000000            get   89.000000  20.0000  20.0000\n",
       "1411  Default   86.000000           time   86.000000  19.0000  19.0000\n",
       "202   Default   83.000000             do   83.000000  18.0000  18.0000\n",
       "1419  Default  120.000000          slack  120.000000  17.0000  17.0000\n",
       "760   Default   30.000000  communication   30.000000  16.0000  16.0000\n",
       "272   Default   32.000000           make   32.000000  15.0000  15.0000\n",
       "48    Default   30.000000           call   30.000000  14.0000  14.0000\n",
       "664   Default   27.000000         screen   27.000000  13.0000  13.0000\n",
       "1155  Default   62.000000           love   62.000000  12.0000  12.0000\n",
       "1437  Default   18.000000           able   18.000000  11.0000  11.0000\n",
       "1083  Default   17.000000           load   17.000000  10.0000  10.0000\n",
       "127   Default   91.000000        message   91.000000   9.0000   9.0000\n",
       "1290  Default   57.000000            can   57.000000   8.0000   8.0000\n",
       "301   Default   16.000000           easy   16.000000   7.0000   7.0000\n",
       "1452  Default   23.000000      workspace   23.000000   6.0000   6.0000\n",
       "636   Default   21.000000           slow   21.000000   5.0000   5.0000\n",
       "1306  Default   53.000000            use   53.000000   4.0000   4.0000\n",
       "1302  Default   22.000000            app   22.000000   3.0000   3.0000\n",
       "924   Default   22.000000           late   22.000000   2.0000   2.0000\n",
       "211   Default   21.000000            bad   21.000000   1.0000   1.0000\n",
       "...       ...         ...            ...         ...      ...      ...\n",
       "172    Topic4   12.593369        project   13.259560   2.1062  -4.3211\n",
       "1183   Topic4   12.455835           back   13.214573   2.0986  -4.3321\n",
       "1574   Topic4   10.789172            add   11.449049   2.0984  -4.4757\n",
       "770    Topic4   11.916819            lot   12.656737   2.0975  -4.3763\n",
       "1359   Topic4    9.905675         galaxy   10.580110   2.0919  -4.5612\n",
       "966    Topic4    9.605696         launch   10.327220   2.0853  -4.5919\n",
       "1074   Topic4    8.511800      interface    9.167233   2.0836  -4.7128\n",
       "1195   Topic4    8.578451            run    9.251181   2.0823  -4.7050\n",
       "599    Topic4    8.373112        browser    9.035227   2.0816  -4.7292\n",
       "750    Topic4    7.473621    communicate    8.139142   2.0724  -4.8429\n",
       "1389   Topic4    8.091232          cause    8.849946   2.0681  -4.7635\n",
       "351    Topic4    7.508732     constantly    8.216681   2.0677  -4.8382\n",
       "1119   Topic4    6.874700          error    7.523705   2.0675  -4.9264\n",
       "1121   Topic4    6.937883           loop    7.625134   2.0633  -4.9173\n",
       "1537   Topic4    5.939894         almost    6.586760   2.0544  -5.0726\n",
       "279    Topic4    6.332325           hang    7.042599   2.0514  -5.0086\n",
       "1360   Topic4    5.852975        perfect    6.511278   2.0512  -5.0873\n",
       "540    Topic4    5.700794           drop    6.343102   2.0510  -5.1137\n",
       "1434   Topic4    6.345836            min    7.075883   2.0489  -5.0065\n",
       "1362   Topic4    5.208255      reinstall    5.873153   2.0376  -5.2040\n",
       "658    Topic4    5.449224         enough    6.147325   2.0372  -5.1588\n",
       "699    Topic4    5.198802      different    5.871380   2.0361  -5.2058\n",
       "449    Topic4    5.580534      brilliant    6.306273   2.0355  -5.1350\n",
       "415    Topic4    5.280541         minute    5.967865   2.0354  -5.1902\n",
       "1261   Topic4    5.380630         stable    6.083362   2.0350  -5.1715\n",
       "1379   Topic4    4.767521           mode    5.403507   2.0325  -5.2924\n",
       "1583   Topic4    5.897485       password    6.757496   2.0216  -5.0797\n",
       "16     Topic4    6.666408          force   10.530293   1.7006  -4.9572\n",
       "147    Topic4    6.749167           user   17.686911   1.1943  -4.9448\n",
       "1431   Topic4    7.239317           need   39.321674   0.4655  -4.8747\n",
       "\n",
       "[176 rows x 6 columns], token_table=      Topic      Freq           Term\n",
       "term                                \n",
       "1437      4  0.977085           able\n",
       "1321      2  0.978217        account\n",
       "1574      4  0.960778            add\n",
       "1537      4  0.910918         almost\n",
       "80        4  0.930690        amazing\n",
       "1547      1  0.647738        android\n",
       "1547      2  0.339291        android\n",
       "1302      2  0.975757            app\n",
       "863       2  0.985332            ask\n",
       "487       1  0.994410        awesome\n",
       "1183      4  0.908088           back\n",
       "211       2  0.979025            bad\n",
       "1194      1  0.957110             be\n",
       "1194      2  0.025868             be\n",
       "449       4  0.951434      brilliant\n",
       "599       4  0.885423        browser\n",
       "48        3  0.990810           call\n",
       "1290      1  0.987942            can\n",
       "1389      4  0.903960          cause\n",
       "613       1  0.978227        channel\n",
       "1238      2  0.954654           chat\n",
       "1443      3  0.950305  collaboration\n",
       "750       4  0.860041    communicate\n",
       "760       3  0.980463  communication\n",
       "873       1  0.243779        company\n",
       "873       3  0.731337        company\n",
       "779       1  0.208199        connect\n",
       "779       3  0.780747        connect\n",
       "1080      3  0.927853     connection\n",
       "351       4  0.973629     constantly\n",
       "...     ...       ...            ...\n",
       "350       3  0.856172        support\n",
       "835       2  0.931253           sync\n",
       "423       3  0.983685           team\n",
       "523       1  0.922144          thank\n",
       "523       3  0.068307          thank\n",
       "569       3  0.928902          thing\n",
       "1411      1  0.989281           time\n",
       "164       3  0.991690           tool\n",
       "1278      1  0.972483            try\n",
       "76        2  0.939259           turn\n",
       "386       2  0.988463         update\n",
       "12        2  0.939682         upload\n",
       "1306      1  0.980558            use\n",
       "457       1  0.976961         useful\n",
       "147       2  0.565390           user\n",
       "147       4  0.395773           user\n",
       "846       1  0.590603        version\n",
       "846       3  0.375838        version\n",
       "1280      3  0.868955          video\n",
       "70        1  0.968838           want\n",
       "355       1  0.288084            way\n",
       "355       2  0.672195            way\n",
       "1571      2  0.975929            web\n",
       "1560      2  0.947954           well\n",
       "841       2  0.933932           what\n",
       "67        1  0.947835           work\n",
       "67        3  0.049560           work\n",
       "675       3  0.923362      workplace\n",
       "1452      2  0.976345      workspace\n",
       "47        1  0.990122          would\n",
       "\n",
       "[165 rows x 3 columns], R=30, lambda_step=0.01, plot_opts={'xlab': 'PC1', 'ylab': 'PC2'}, topic_order=[4, 1, 3, 2])"
      ]
     },
     "execution_count": 20,
     "metadata": {},
     "output_type": "execute_result"
    }
   ],
   "source": [
    "import warnings\n",
    "warnings.filterwarnings(\"ignore\",category=DeprecationWarning)\n",
    "# Visualize the topics\n",
    "pyLDAvis.enable_notebook()\n",
    "vis = pyLDAvis.gensim.prepare(lda_model, corpus, id2word)\n",
    "vis"
   ]
  },
  {
   "cell_type": "code",
   "execution_count": null,
   "metadata": {
    "extensions": {
     "jupyter_dashboards": {
      "version": 1,
      "views": {
       "grid_default": {
        "hidden": true
       },
       "report_default": {
        "hidden": true
       }
      }
     }
    },
    "nbpresent": {
     "id": "1ecd0d99-cbdd-426b-9d36-5395a684a8e2"
    }
   },
   "outputs": [],
   "source": []
  },
  {
   "cell_type": "code",
   "execution_count": 18,
   "metadata": {
    "extensions": {
     "jupyter_dashboards": {
      "version": 1,
      "views": {
       "grid_default": {
        "col": 0,
        "height": 4,
        "hidden": false,
        "row": 87,
        "width": 12
       },
       "report_default": {
        "hidden": false
       }
      }
     }
    },
    "nbpresent": {
     "id": "9fb063b7-96ce-47c4-967b-95e0e3f8f3ad"
    }
   },
   "outputs": [
    {
     "name": "stdout",
     "output_type": "stream",
     "text": [
      "('\\nPerplexity: ', -6.413305381851651)\n",
      "('\\nCoherence Score: ', 0.4960519494995757)\n"
     ]
    }
   ],
   "source": [
    "# Compute Perplexity\n",
    "print('\\nPerplexity: ', lda_model.log_perplexity(corpus))  # a measure of how good the model is. lower the better.\n",
    "\n",
    "import warnings\n",
    "warnings.filterwarnings(\"ignore\",category=DeprecationWarning)\n",
    "# Compute Coherence Score\n",
    "coherence_model_lda = CoherenceModel(model=lda_model, texts=data_lemmatized, dictionary=id2word, coherence='c_v')\n",
    "coherence_lda = coherence_model_lda.get_coherence()\n",
    "print('\\nCoherence Score: ', coherence_lda)\n"
   ]
  }
 ],
 "metadata": {
  "anaconda-cloud": {},
  "extensions": {
   "jupyter_dashboards": {
    "activeView": "report_default",
    "version": 1,
    "views": {
     "grid_default": {
      "cellMargin": 10,
      "defaultCellHeight": 20,
      "maxColumns": 12,
      "name": "grid",
      "type": "grid"
     },
     "report_default": {
      "name": "report",
      "type": "report"
     }
    }
   }
  },
  "kernelspec": {
   "display_name": "Python [default]",
   "language": "python",
   "name": "python2"
  },
  "language_info": {
   "codemirror_mode": {
    "name": "ipython",
    "version": 2
   },
   "file_extension": ".py",
   "mimetype": "text/x-python",
   "name": "python",
   "nbconvert_exporter": "python",
   "pygments_lexer": "ipython2",
   "version": "2.7.13"
  },
  "nbpresent": {
   "slides": {
    "06665074-5a34-42ac-8d7a-c636a04384c4": {
     "id": "06665074-5a34-42ac-8d7a-c636a04384c4",
     "prev": "e05eca8c-65f7-495d-85f9-26c4938e8e46",
     "regions": {
      "198347ca-8cc1-439d-8115-f214e2f48141": {
       "attrs": {
        "height": 0.8,
        "width": 0.8,
        "x": 0.1,
        "y": 0.1
       },
       "content": {
        "cell": "85bbe127-bdc5-4c87-aa2c-9481b83e07ac",
        "part": "whole"
       },
       "id": "198347ca-8cc1-439d-8115-f214e2f48141"
      }
     }
    },
    "108e302f-8485-4cec-b835-604fa062f571": {
     "id": "108e302f-8485-4cec-b835-604fa062f571",
     "prev": "95df674d-f368-4983-9e53-d1970f1cce20",
     "regions": {
      "ac564226-56f5-44d6-b747-dfca51b4594f": {
       "attrs": {
        "height": 0.8,
        "width": 0.8,
        "x": 0.1,
        "y": 0.1
       },
       "content": {
        "cell": "cf5dfef5-2131-4772-9755-633888a36089",
        "part": "whole"
       },
       "id": "ac564226-56f5-44d6-b747-dfca51b4594f"
      }
     }
    },
    "154cf516-f826-4775-95c7-24fab535f55f": {
     "id": "154cf516-f826-4775-95c7-24fab535f55f",
     "prev": "87b2b7f2-8060-4c2f-83b4-aa5bbe2c245d",
     "regions": {
      "bafde9b7-51c4-40cf-9f3b-f425a53c98a2": {
       "attrs": {
        "height": 0.8,
        "width": 0.8,
        "x": 0.1,
        "y": 0.1
       },
       "content": {
        "cell": "f0518271-cfbd-4fd9-a7e2-404a41d3083a",
        "part": "whole"
       },
       "id": "bafde9b7-51c4-40cf-9f3b-f425a53c98a2"
      }
     }
    },
    "173aeed9-cad1-417c-80ce-8548a41b73df": {
     "id": "173aeed9-cad1-417c-80ce-8548a41b73df",
     "prev": "25759c41-67af-4ee2-998d-667b10f6d3e3",
     "regions": {
      "0da81a50-eb42-4368-9b70-f6a3628c05c7": {
       "attrs": {
        "height": 0.8,
        "width": 0.8,
        "x": 0.1,
        "y": 0.1
       },
       "content": {
        "cell": "5aa33765-1a24-4ddb-98c9-2ede92aae97f",
        "part": "whole"
       },
       "id": "0da81a50-eb42-4368-9b70-f6a3628c05c7"
      }
     }
    },
    "25759c41-67af-4ee2-998d-667b10f6d3e3": {
     "id": "25759c41-67af-4ee2-998d-667b10f6d3e3",
     "prev": null,
     "regions": {
      "f025df98-fc47-4191-9189-7f39f915f0f7": {
       "attrs": {
        "height": 0.8,
        "width": 0.8,
        "x": 0.1,
        "y": 0.1
       },
       "content": {
        "cell": "24ca0b73-b287-45eb-8374-5f724ba0606a",
        "part": "whole"
       },
       "id": "f025df98-fc47-4191-9189-7f39f915f0f7"
      }
     }
    },
    "2bd78ed9-8eb4-4488-9b1a-048bc7ad49b6": {
     "id": "2bd78ed9-8eb4-4488-9b1a-048bc7ad49b6",
     "prev": "d9c31ac4-e98e-4025-adee-7d5b9ef0c380",
     "regions": {
      "1e7c2003-cff2-4fc3-b34a-8f38bedb0020": {
       "attrs": {
        "height": 0.8,
        "width": 0.8,
        "x": 0.1,
        "y": 0.1
       },
       "content": {
        "cell": "9b48686c-6083-48c3-a6c2-b5f05dfd4dc0",
        "part": "whole"
       },
       "id": "1e7c2003-cff2-4fc3-b34a-8f38bedb0020"
      }
     }
    },
    "46f0ae02-170e-4f94-9acb-986b9a626ae1": {
     "id": "46f0ae02-170e-4f94-9acb-986b9a626ae1",
     "prev": "108e302f-8485-4cec-b835-604fa062f571",
     "regions": {
      "2d34914e-db2b-4f9d-87b3-1ffdf5bd23fc": {
       "attrs": {
        "height": 0.8,
        "width": 0.8,
        "x": 0.1,
        "y": 0.1
       },
       "content": {
        "cell": "2b74f5ee-ab75-48b6-8254-fcf18cb1025a",
        "part": "whole"
       },
       "id": "2d34914e-db2b-4f9d-87b3-1ffdf5bd23fc"
      }
     }
    },
    "57dc2581-e052-4d9a-82f8-7b6121a09876": {
     "id": "57dc2581-e052-4d9a-82f8-7b6121a09876",
     "prev": "173aeed9-cad1-417c-80ce-8548a41b73df",
     "regions": {
      "c49aec27-417b-4250-aab5-f8182fb87ffa": {
       "attrs": {
        "height": 0.8,
        "width": 0.8,
        "x": 0.1,
        "y": 0.1
       },
       "content": {
        "cell": "94da91ee-dace-41a3-b461-3a350ed473a0",
        "part": "whole"
       },
       "id": "c49aec27-417b-4250-aab5-f8182fb87ffa"
      }
     }
    },
    "87b2b7f2-8060-4c2f-83b4-aa5bbe2c245d": {
     "id": "87b2b7f2-8060-4c2f-83b4-aa5bbe2c245d",
     "prev": "e2c9d68d-782a-4ce6-ad53-4ac7173bbcd2",
     "regions": {
      "e7c13fd8-b47e-42c4-881f-2539dfe1e48c": {
       "attrs": {
        "height": 0.8,
        "width": 0.8,
        "x": 0.1,
        "y": 0.1
       },
       "content": {
        "cell": "3d82c11d-fbb2-4c36-9e4d-be62db4cb92b",
        "part": "whole"
       },
       "id": "e7c13fd8-b47e-42c4-881f-2539dfe1e48c"
      }
     }
    },
    "88e2081a-297a-49ba-9880-718573ab2b8e": {
     "id": "88e2081a-297a-49ba-9880-718573ab2b8e",
     "prev": "c7df94b5-900e-4927-9275-b49240ea83a2",
     "regions": {
      "e25d684e-1a8d-47f1-beaf-2584acde1baa": {
       "attrs": {
        "height": 0.8,
        "width": 0.8,
        "x": 0.1,
        "y": 0.1
       },
       "content": {
        "cell": "1ecd0d99-cbdd-426b-9d36-5395a684a8e2",
        "part": "whole"
       },
       "id": "e25d684e-1a8d-47f1-beaf-2584acde1baa"
      }
     }
    },
    "95df674d-f368-4983-9e53-d1970f1cce20": {
     "id": "95df674d-f368-4983-9e53-d1970f1cce20",
     "prev": "d37df809-954a-4ed3-81a0-322cf204d5b5",
     "regions": {
      "15f185d5-9425-4459-aef2-001995ee1426": {
       "attrs": {
        "height": 0.8,
        "width": 0.8,
        "x": 0.1,
        "y": 0.1
       },
       "content": {
        "cell": "47c3cab3-d492-4696-bb2b-99dcb3a2765f",
        "part": "whole"
       },
       "id": "15f185d5-9425-4459-aef2-001995ee1426"
      }
     }
    },
    "c7df94b5-900e-4927-9275-b49240ea83a2": {
     "id": "c7df94b5-900e-4927-9275-b49240ea83a2",
     "prev": "cd64f496-c480-4558-b9ee-ba99c6aa38bf",
     "regions": {
      "486c377a-2f2d-4caa-ba3f-88d8a434115d": {
       "attrs": {
        "height": 0.8,
        "width": 0.8,
        "x": 0.1,
        "y": 0.1
       },
       "content": {
        "cell": "9fb063b7-96ce-47c4-967b-95e0e3f8f3ad",
        "part": "whole"
       },
       "id": "486c377a-2f2d-4caa-ba3f-88d8a434115d"
      }
     }
    },
    "cd64f496-c480-4558-b9ee-ba99c6aa38bf": {
     "id": "cd64f496-c480-4558-b9ee-ba99c6aa38bf",
     "prev": "f1072372-abd3-4925-bf9b-f2f9dfa4e186",
     "regions": {
      "7e5a3f1b-5195-49f6-8931-d8a6f3f55a99": {
       "attrs": {
        "height": 0.8,
        "width": 0.8,
        "x": 0.1,
        "y": 0.1
       },
       "content": {
        "cell": "7f7b4eb4-ee3f-4be3-a5bf-2a667752a485",
        "part": "whole"
       },
       "id": "7e5a3f1b-5195-49f6-8931-d8a6f3f55a99"
      }
     }
    },
    "d37df809-954a-4ed3-81a0-322cf204d5b5": {
     "id": "d37df809-954a-4ed3-81a0-322cf204d5b5",
     "prev": "154cf516-f826-4775-95c7-24fab535f55f",
     "regions": {
      "b168872e-9dad-413c-8186-17ca7bd5379c": {
       "attrs": {
        "height": 0.8,
        "width": 0.8,
        "x": 0.1,
        "y": 0.1
       },
       "content": {
        "cell": "8df769f7-c82a-4b8b-9ba3-130fe2f2631a",
        "part": "whole"
       },
       "id": "b168872e-9dad-413c-8186-17ca7bd5379c"
      }
     }
    },
    "d9c31ac4-e98e-4025-adee-7d5b9ef0c380": {
     "id": "d9c31ac4-e98e-4025-adee-7d5b9ef0c380",
     "prev": "06665074-5a34-42ac-8d7a-c636a04384c4",
     "regions": {
      "541e91d8-9608-433e-a86d-10dc3388d9aa": {
       "attrs": {
        "height": 0.8,
        "width": 0.8,
        "x": 0.1,
        "y": 0.1
       },
       "content": {
        "cell": "b3be3278-593e-43a8-9e04-6d245220e88d",
        "part": "whole"
       },
       "id": "541e91d8-9608-433e-a86d-10dc3388d9aa"
      }
     }
    },
    "dd2c77f5-0dea-4cf9-b96a-1b4352793adc": {
     "id": "dd2c77f5-0dea-4cf9-b96a-1b4352793adc",
     "prev": "57dc2581-e052-4d9a-82f8-7b6121a09876",
     "regions": {
      "bab925d7-be05-4b12-99d6-c1b55f7a1c2c": {
       "attrs": {
        "height": 0.8,
        "width": 0.8,
        "x": 0.1,
        "y": 0.1
       },
       "content": {
        "cell": "047266ac-41d6-4ff0-84d1-1eb7972541f9",
        "part": "whole"
       },
       "id": "bab925d7-be05-4b12-99d6-c1b55f7a1c2c"
      }
     }
    },
    "e05eca8c-65f7-495d-85f9-26c4938e8e46": {
     "id": "e05eca8c-65f7-495d-85f9-26c4938e8e46",
     "prev": "46f0ae02-170e-4f94-9acb-986b9a626ae1",
     "regions": {
      "3e14274e-76d5-4486-99dc-34cbc0e42cf1": {
       "attrs": {
        "height": 0.8,
        "width": 0.8,
        "x": 0.1,
        "y": 0.1
       },
       "content": {
        "cell": "7f1599be-b3fa-4ed4-b9fc-5695bd8e94e7",
        "part": "whole"
       },
       "id": "3e14274e-76d5-4486-99dc-34cbc0e42cf1"
      }
     }
    },
    "e2c9d68d-782a-4ce6-ad53-4ac7173bbcd2": {
     "id": "e2c9d68d-782a-4ce6-ad53-4ac7173bbcd2",
     "prev": "dd2c77f5-0dea-4cf9-b96a-1b4352793adc",
     "regions": {
      "2d16d21b-6568-4f2d-9aa1-4e2bf3d114a8": {
       "attrs": {
        "height": 0.8,
        "width": 0.8,
        "x": 0.1,
        "y": 0.1
       },
       "content": {
        "cell": "b3b79604-770f-43d4-b519-fbeb9a039a3c",
        "part": "whole"
       },
       "id": "2d16d21b-6568-4f2d-9aa1-4e2bf3d114a8"
      }
     }
    },
    "f1072372-abd3-4925-bf9b-f2f9dfa4e186": {
     "id": "f1072372-abd3-4925-bf9b-f2f9dfa4e186",
     "prev": "2bd78ed9-8eb4-4488-9b1a-048bc7ad49b6",
     "regions": {
      "8690c4f2-fde2-427a-bf3e-b930a1f604c7": {
       "attrs": {
        "height": 0.8,
        "width": 0.8,
        "x": 0.1,
        "y": 0.1
       },
       "content": {
        "cell": "8c9b52c5-579c-440c-b2cb-1761d743d214",
        "part": "whole"
       },
       "id": "8690c4f2-fde2-427a-bf3e-b930a1f604c7"
      }
     }
    }
   },
   "themes": {}
  }
 },
 "nbformat": 4,
 "nbformat_minor": 2
}
