{
 "cells": [
  {
   "cell_type": "code",
   "execution_count": 1,
   "metadata": {
    "extensions": {
     "jupyter_dashboards": {
      "version": 1,
      "views": {
       "grid_default": {
        "col": 0,
        "height": 4,
        "hidden": false,
        "row": 0,
        "width": 12
       },
       "report_default": {
        "hidden": false
       }
      }
     }
    },
    "nbpresent": {
     "id": "24ca0b73-b287-45eb-8374-5f724ba0606a"
    }
   },
   "outputs": [
    {
     "name": "stdout",
     "output_type": "stream",
     "text": [
      "[nltk_data] Downloading package stopwords to\n",
      "[nltk_data]     /Users/yubozhang/nltk_data...\n",
      "[nltk_data]   Package stopwords is already up-to-date!\n"
     ]
    }
   ],
   "source": [
    "import pandas as pd\n",
    "import spacy\n",
    "import ast\n",
    "import re\n",
    "from pprint import pprint\n",
    "import json\n",
    "import gensim\n",
    "import gensim.corpora as corpora\n",
    "from gensim.utils import simple_preprocess\n",
    "from gensim.models import CoherenceModel\n",
    "from sklearn import linear_model\n",
    "from sklearn.feature_extraction.text import *\n",
    "from sklearn.model_selection import train_test_split\n",
    "from sklearn.metrics import classification_report, r2_score, mean_squared_error\n",
    "import numpy as np\n",
    "import matplotlib.pyplot as plt\n",
    "from nltk.sentiment.vader import SentimentIntensityAnalyzer\n",
    "from scipy import sparse\n",
    "import nltk; nltk.download('stopwords')\n",
    "from nltk.corpus import stopwords\n",
    "stop_words = stopwords.words('english')\n",
    "stop_words.extend(['from', 'subject', 're', 'edu', 'use'])\n",
    "\n",
    "import logging\n",
    "logging.basicConfig(format='%(asctime)s : %(levelname)s : %(message)s', level=logging.ERROR)\n",
    "\n",
    "import warnings\n",
    "warnings.filterwarnings(\"ignore\",category=DeprecationWarning)\n",
    "# Plotting tools\n",
    "import pyLDAvis\n",
    "import pyLDAvis.gensim  # don't skip this\n",
    "import matplotlib.pyplot as plt\n",
    "%matplotlib inline"
   ]
  },
  {
   "cell_type": "code",
   "execution_count": 2,
   "metadata": {
    "extensions": {
     "jupyter_dashboards": {
      "version": 1,
      "views": {
       "grid_default": {
        "hidden": true
       },
       "report_default": {
        "hidden": true
       }
      }
     }
    },
    "nbpresent": {
     "id": "5aa33765-1a24-4ddb-98c9-2ede92aae97f"
    }
   },
   "outputs": [],
   "source": [
    "reviews = []\n",
    "with open('scraped_reviews_spotify.txt', 'r') as f: #, encoding='utf-8'\n",
    "    reviews = f.read()\n",
    "\n",
    "reviews = re.sub('\\]', '', reviews)\n",
    "reviews = re.sub('\\[', '', reviews)\n",
    "reviews = re.sub('\\n', '', reviews)\n",
    "reviews = re.sub(\"'\", '\"', reviews)\n",
    "reviews = re.sub('    ', ' ', reviews)\n",
    "reviews = re.sub(' {', '{', reviews)\n",
    "reviews = re.sub(' }', '}', reviews)\n",
    "reviews = re.sub('{ ', '{', reviews)\n",
    "reviews = re.sub('} ', '}', reviews)\n",
    "reviews = re.sub('}  {', '}, {', reviews)\n",
    "reviews = re.sub('}{', '}, {', reviews)\n",
    "reviews = re.sub('id:', '\"id\":', reviews)\n",
    "reviews = re.sub('userName:', '\"userName\":', reviews)\n",
    "reviews = re.sub('userImage:', '\"userImage\":', reviews)\n",
    "reviews = re.sub('date:', '\"date\":', reviews)\n",
    "reviews = re.sub('url:', '\"url\":', reviews)\n",
    "reviews = re.sub('score:', '\"score\":', reviews)\n",
    "reviews = re.sub('title:', '\"title\":', reviews)\n",
    "reviews = re.sub('text:', '\"text\":', reviews)\n",
    "reviews = re.sub('replyDate:', '\"replyDate\":', reviews)\n",
    "reviews = re.sub('replyText:', '\"replyText\":', reviews)\n",
    "reviews = re.sub(': undefined', ': \"undefined\"', reviews)"
   ]
  },
  {
   "cell_type": "code",
   "execution_count": 3,
   "metadata": {
    "extensions": {
     "jupyter_dashboards": {
      "version": 1,
      "views": {
       "grid_default": {
        "hidden": true
       },
       "report_default": {
        "hidden": true
       }
      }
     }
    },
    "nbpresent": {
     "id": "94da91ee-dace-41a3-b461-3a350ed473a0"
    }
   },
   "outputs": [],
   "source": [
    "review_strings = [r+'}' for r in reviews.split('},')]\n",
    "review_strings[-1] = review_strings[-1][:-1]"
   ]
  },
  {
   "cell_type": "code",
   "execution_count": 4,
   "metadata": {
    "extensions": {
     "jupyter_dashboards": {
      "version": 1,
      "views": {
       "grid_default": {
        "hidden": true
       },
       "report_default": {
        "hidden": true
       }
      }
     }
    },
    "nbpresent": {
     "id": "047266ac-41d6-4ff0-84d1-1eb7972541f9"
    }
   },
   "outputs": [],
   "source": [
    "review_list = []\n",
    "for r in review_strings:\n",
    "    try:\n",
    "        review_list.append(json.loads(r))\n",
    "    except:\n",
    "        pass"
   ]
  },
  {
   "cell_type": "code",
   "execution_count": 5,
   "metadata": {
    "extensions": {
     "jupyter_dashboards": {
      "version": 1,
      "views": {
       "grid_default": {
        "hidden": true
       },
       "report_default": {
        "hidden": true
       }
      }
     }
    },
    "nbpresent": {
     "id": "b3b79604-770f-43d4-b519-fbeb9a039a3c"
    }
   },
   "outputs": [],
   "source": [
    "raw_corpus = []\n",
    "for i in range(1000): # change to larger number\n",
    "    raw_corpus.append(review_list[i][u'text'])"
   ]
  },
  {
   "cell_type": "code",
   "execution_count": 6,
   "metadata": {
    "extensions": {
     "jupyter_dashboards": {
      "version": 1,
      "views": {
       "grid_default": {
        "hidden": true
       },
       "report_default": {
        "hidden": true
       }
      }
     }
    },
    "nbpresent": {
     "id": "3d82c11d-fbb2-4c36-9e4d-be62db4cb92b"
    }
   },
   "outputs": [],
   "source": [
    "data = raw_corpus"
   ]
  },
  {
   "cell_type": "code",
   "execution_count": 7,
   "metadata": {
    "extensions": {
     "jupyter_dashboards": {
      "version": 1,
      "views": {
       "grid_default": {
        "col": 0,
        "height": 8,
        "hidden": false,
        "row": 4,
        "width": 12
       },
       "report_default": {
        "hidden": false
       }
      }
     }
    },
    "nbpresent": {
     "id": "f0518271-cfbd-4fd9-a7e2-404a41d3083a"
    }
   },
   "outputs": [
    {
     "name": "stdout",
     "output_type": "stream",
     "text": [
      "[u'Superb!',\n",
      " u'Too many ads! Blips of music with numerous ad interruptions, not even worth the effort!',\n",
      " u'I enjoyed it, but it doesnt actually let me listen to what I want to hear. Trying to get Gohans Anger theme, and giving me random songs, also, I dont want what Spotify gives me it, it freaking sucks.',\n",
      " u'It used to be an excellent . Now its constantly crashing down on my Note 8. Please fix the bug.',\n",
      " u'I like the  but it needs some dude Jupiter (Please)',\n",
      " u'Great , Ive been using it for 3 years, I highly recommend it\\U0001f601',\n",
      " u'I have used spotify for years & when i use premium, no complaints but right now i do not have premium & when i try to listen to specific groups, it no longer stays just in the selected group, instead it pulls songs from any/all groups. I dont like that at all.. Whats the point in creating groups if u cant play from a specified group? It wasnt always like this.. Is this an error/bug? Will it be fixed? PLEASE!',\n",
      " u'Love the  think it could be cheaper but still a great ',\n",
      " u'Good']\n"
     ]
    }
   ],
   "source": [
    "# Remove Emails\n",
    "data = [re.sub('\\S*@\\S*\\s?', '', sent) for sent in data]\n",
    "\n",
    "# Remove new line characters\n",
    "data = [re.sub('\\s+', ' ', sent) for sent in data]\n",
    "\n",
    "# Remove distracting single quotes\n",
    "data = [re.sub(\"\\'\", \"\", sent) for sent in data]\n",
    "data = [re.sub(\"\\\"\", \"\", sent) for sent in data]\n",
    "data = [re.sub(\"_\", \"\", sent) for sent in data]\n",
    "\n",
    "data = [re.sub(\"good'\", \"\", sent) for sent in data]\n",
    "data = [re.sub(\"app\", \"\", sent) for sent in data]\n",
    "data = [re.sub(\"nice\", \"\", sent) for sent in data]\n",
    "pprint(data[1:10])\n"
   ]
  },
  {
   "cell_type": "code",
   "execution_count": 8,
   "metadata": {
    "extensions": {
     "jupyter_dashboards": {
      "version": 1,
      "views": {
       "grid_default": {
        "hidden": true
       },
       "report_default": {
        "hidden": true
       }
      }
     }
    },
    "nbpresent": {
     "id": "8df769f7-c82a-4b8b-9ba3-130fe2f2631a"
    }
   },
   "outputs": [],
   "source": [
    "def sent_to_words(sentences):\n",
    "    for sentence in sentences:\n",
    "        yield(gensim.utils.simple_preprocess(str([sentence]), deacc=True)) \n"
   ]
  },
  {
   "cell_type": "code",
   "execution_count": 9,
   "metadata": {
    "extensions": {
     "jupyter_dashboards": {
      "version": 1,
      "views": {
       "grid_default": {
        "hidden": true
       },
       "report_default": {
        "hidden": true
       }
      }
     }
    },
    "nbpresent": {
     "id": "47c3cab3-d492-4696-bb2b-99dcb3a2765f"
    }
   },
   "outputs": [
    {
     "name": "stderr",
     "output_type": "stream",
     "text": [
      "/Users/yubozhang/anaconda/lib/python2.7/site-packages/gensim/models/phrases.py:598: UserWarning: For a faster implementation, use the gensim.models.phrases.Phraser class\n",
      "  warnings.warn(\"For a faster implementation, use the gensim.models.phrases.Phraser class\")\n"
     ]
    }
   ],
   "source": [
    "data_words = list(sent_to_words(data))\n",
    "\n",
    "# Build the bigram and trigram models\n",
    "bigram = gensim.models.Phrases(data_words, min_count=5, threshold=100) \n",
    "trigram = gensim.models.Phrases(bigram[data_words], threshold=100)  \n",
    "bigram_mod = gensim.models.phrases.Phraser(bigram)\n",
    "trigram_mod = gensim.models.phrases.Phraser(trigram)\n",
    "#print(trigram_mod[bigram_mod[data_words[0][:30]]])\n",
    "#print(list(sent_to_words(data)))"
   ]
  },
  {
   "cell_type": "code",
   "execution_count": 10,
   "metadata": {
    "extensions": {
     "jupyter_dashboards": {
      "version": 1,
      "views": {
       "grid_default": {
        "hidden": true
       },
       "report_default": {
        "hidden": true
       }
      }
     }
    },
    "nbpresent": {
     "id": "cf5dfef5-2131-4772-9755-633888a36089"
    }
   },
   "outputs": [],
   "source": [
    "def remove_stopwords(texts):\n",
    "    return [[word for word in simple_preprocess(str(doc)) if word not in stop_words] for doc in texts]\n",
    "def make_bigrams(texts):\n",
    "    return [bigram_mod[doc] for doc in texts]\n",
    "\n",
    "def make_trigrams(texts):\n",
    "    return [trigram_mod[bigram_mod[doc]] for doc in texts]\n",
    "\n",
    "def lemmatization(texts, allowed_postags=['NOUN', 'ADJ', 'VERB', 'ADV']):\n",
    "    \"\"\"https://spacy.io/api/annotation\"\"\"\n",
    "    texts_out = []\n",
    "    for sent in texts:\n",
    "        if sent != []:\n",
    "            doc = nlp(\" \".join(sent)) \n",
    "\n",
    "            texts_out.append([token.lemma_ for token in doc if token.pos_ in allowed_postags])\n",
    " \n",
    "    return texts_out"
   ]
  },
  {
   "cell_type": "code",
   "execution_count": 11,
   "metadata": {
    "extensions": {
     "jupyter_dashboards": {
      "version": 1,
      "views": {
       "grid_default": {
        "col": 0,
        "height": 12,
        "hidden": false,
        "row": 12,
        "width": 12
       },
       "report_default": {
        "hidden": false
       }
      }
     }
    },
    "nbpresent": {
     "id": "2b74f5ee-ab75-48b6-8254-fcf18cb1025a"
    }
   },
   "outputs": [
    {
     "name": "stdout",
     "output_type": "stream",
     "text": [
      "[[u'good', u'iheartradio'], [u'superb'], [u'many', u'ad', u'blip', u'music', u'numerous', u'ad', u'interruption', u'even', u'worth', u'effort'], [u'enjoy', u'do', u'not', u'actually', u'let', u'listen', u'want', u'hear', u'try', u'get', u'gohan', u'anger', u'theme', u'give', u'random', u'song', u'also', u'do', u'not', u'want', u'spotify', u'give', u'freaking', u'suck'], [u'use', u'excellent', u'constantly', u'crash', u'note', u'please_fix', u'bug'], [u'need', u'dude', u'jupiter'], [u'great', u'have', u'use', u'year', u'highly', u'recommend'], [u'use', u'spotify', u'year', u'premium', u'complaint', u'right', u'premium', u'try', u'listen', u'specific', u'group', u'longer', u'stay', u'select', u'group', u'instead', u'pull', u'song', u'group', u'do', u'not', u'like', u'what', u's', u'point', u'create', u'group', u'can', u'not', u'play', u'specify', u'group', u'be', u'not', u'always', u'error', u'bug', u'fix'], [u'love', u'think', u'could', u'cheaper', u'still', u'great'], [u'good'], [u'go', u'anytime', u'music'], [u'listen', u'day', u'long', u'work'], [u'look', u'song', u'find', u'love', u'thank'], [u'far', u'good'], [u'far', u'provide', u'great', u'experience', u'stream', u'download', u'favorite', u'song', u'include', u'think', u'difficult', u'find'], [u'be', u'good', u'music', u'have', u'not', u'find', u'music', u'better'], [u'last', u'update', u'keep', u'ask', u'want', u'share', u'chrome', u'be', u'not', u'network', u'keep', u'stop', u'shutting', u'second', u'playing'], [u'much', u'music'], [u'good', u'last', u'update', u'close', u'bit', u'listening'], [u'complicate', u'listen', u'sample', u'song', u'complicate'], [], [u'thank', u'music'], [u'good'], [u'amount', u'add', u'hide', u'irritant', u'able', u'skip', u'song', u'ridiculous', u'disoint', u'consider', u'rep'], [u'do', u'not', u'much', u'buy', u'subscription', u'able', u'access', u'full', u'ability', u'function', u'accessable', u'desktop', u'aside', u'great', u'easy', u'easy', u'find', u'song', u'artist'], [u'awesome'], [u'love'], [], [u'love', u'spotify', u'love', u'there', u's', u'ad', u'download', u'make', u'playlist', u'favorite', u'song'], [u'sweet'], [u'love', u'selection', u'have', u'update', u'premium', u'have', u'experience', u'frequent', u'crash'], [u'easily', u'crash', u'late', u'update', u'make', u'improvement'], [u'easy', u'music', u'great'], [u'great', u'everyday'], [u'good', u'music', u'universe'], [u'good', u'selection', u'music', u'ease'], [u'think', u'perfect', u'premium', u'good', u'feature', u'always', u'deal', u'premium', u'user', u'also', u'like', u'help', u'discover', u'music', u'have', u'not', u'listen', u'make', u'life', u'much', u'easy'], [u'do', u'not', u'understand', u'many', u'song', u'already', u'unavailable', u'use', u'available', u'song', u'love', u'be', u'not', u'spotify', u'make', u'really', u'sad'], [], [u'nice'], [u'use', u'great', u'new', u'update', u'shut', u'second'], [u'great'], [u'fine'], [u'turn', u'daughter', u'turn', u'spotify', u'light'], [u'great'], [u'take', u'adjustment', u'availability', u'type', u'music'], [u'good', u'way', u'listen', u'old', u'hit'], [u'good', u'place', u'stream', u'music'], [u'great', u'wish', u'monthly', u'subscription', u'cheap'], [u'usefully'], [u'recent', u'update', u'time', u'write', u'review', u'october', u'constant', u'crash', u'mid', u'song', u'try', u'uninstalling', u'keep', u'hen', u'please_fix', u'be', u'premium', u'user', u'long', u'time', u'whole', u'ecosystem', u'spotify'], [u'spotify', u'premium', u'music', u'have', u'use', u'year', u'would', u'wish', u'personalization', u'feature', u'multi', u'user', u'social', u'interface', u'allow', u'something', u'party', u'mode', u'instance', u'still', u'be', u'pretty', u'content', u'song', u'music', u'genre', u'variety', u'pretty', u'good', u'algorithm', u'experience', u'bug'], [u'love', u'have', u'not', u'try', u'music', u'do', u'not', u'think', u'spotify', u'everything', u'realise', u'start', u'use', u'highly', u'recommend'], [u'awesome'], [u'user', u'friendly', u'relevant', u'mood', u'portable', u'afordable'], [u'cool'], [u'really', u'good', u'song', u'remind', u'memory', u'past'], [u'music'], [u'fly', u'high'], [u'great', u'free', u'platform', u'use', u'good', u'system', u'hone', u'music', u'taste', u'thank'], [u'close', u'perfect', u'developer', u'sadly', u'focus', u'time', u'put', u'good', u'feature', u'io', u'even', u'something', u'simple', u'swipe', u'currently', u'play', u'song', u'get', u'menu', u'instead', u'tap', u'even', u'there', u's', u'arrow', u'panel', u'open', u'right', u'make', u'sense', u'overall', u'decent', u'need', u'attention', u'android'], [u'get', u'favorite', u'music'], [u'easy', u'way', u'play', u'music'], [u'spotify', u'feed', u'metal', u'music', u'need'], [u'second', u'crash'], [u'good'], [u'do', u'not', u'even', u'know', u'people', u'anything', u'spotify'], [u'love', u'good', u'find'], [u'great', u'selection', u'music', u'have', u'find', u'anywhere', u'even', u'hard', u'find', u'stuff', u'much', u'remaster', u'good', u'amazon', u'free', u'do', u'not', u'mind', u'occasional', u'short', u'commercial'], [u'great'], [u'many', u'add', u'love', u'music'], [u'wanna', u'ask', u'beta', u'tester', u'thank'], [u'keep', u'crash', u'song', u'particular', u'spot', u'do', u'not', u'pay', u'month', u'thing', u'crash', u'time'], [u'help', u'join', u'st', u'century', u'love', u'favourite', u'music', u'play', u'room', u'house', u'due', u'compatibility', u'spotify', u'easy', u'link', u'do', u'not', u'know', u'do', u'not'], [u'love'], [u'nice'], [u'great', u'much', u'enjoying'], [u'love'], [u'really', u'love', u'take', u'little', u'figure', u'thing', u'one', u'know', u'everything', u'listen', u'music', u'forever', u'even', u'play', u'music', u'use', u'edit', u'do', u'not', u'know', u'play', u'playlist', u'there', u's', u'always', u'random', u'song', u'come'], [u'love', u'spotfiy'], [u'great', u'lil', u'many', u'add'], [u'alot', u'music', u'listen', u'ad', u'get', u'music', u'ad'], [u'spotify', u'listen', u'variety', u'music', u'everyday', u'need', u'wi', u'fi', u'do', u'not', u'make', u'hy', u'can', u'not', u'listen', u'spotify', u'wi', u'fi', u'overall', u'spotify', u'great'], [u'good', u'app'], [u'let', u'go'], [u'good'], [u'lot', u'ad', u'good', u'pandora'], [u'fantastic'], [u'constantly', u'delete', u'download', u'music'], [u'love', u'make', u'music', u'source'], [u'good', u'podcast', u'collection', u'recommendation'], [u'wish', u'do', u'not', u'push', u'monthly', u'subscription', u'hard', u'commercial', u'help', u'buy', u'thing', u'service', u'cent', u'month', u'be', u'not', u'netflix'], [u'really', u'good', u'interactive'], [u'love', u'good', u'music', u'worth', u'penny'], [u'really', u'enjoy', u'family', u'especially', u'morning'], [u'bang', u'tidy'], [u'always', u'use', u'never', u'problem', u'find'], [u'song', u'favorite', u'list'], [u'absolutely', u'love', u'spotify', u'hardly', u'ever', u'interrupt', u'new', u'music', u'time'], [u'longer', u'listen', u'song', u'wifi', u'must', u'datum', u'listen', u'music', u'crash', u'great', u'service', u'new', u'update', u'make', u'unusable'], [u'keep', u'crash', u'even', u'be', u'connect', u'internet', u'say', u'offline', u'try', u'closing', u'reopen', u'agai', u'see', u'detect', u'internet', u'connection', u'still', u'do', u'not', u'can', u'not', u'open', u'second', u'keep', u'close', u'crash', u'subscribe', u'spotify', u'premium', u'hen', u'may', u'uninstall', u'wait', u'next', u'update'], [u'love', u'spotify'], [u'last', u'update', u'wreck', u'close', u'randomly', u'time', u'open', u'frustrating', u'hear', u'maybe', u'song', u'close', u'completely'], [u'do', u'not', u'understand', u'something'], [u'find', u'interesting', u'find', u'good', u'selection', u'music', u'basically', u'thing', u'put', u'cd', u'record', u'great', u'thank'], [u'hate', u'do', u'not', u'ever', u'let', u'play', u'music', u'add', u'log', u'could', u'not', u'log', u'back'], [u'por', u'favor', u'puede', u'reproducir', u'tema', u'todo', u'tiempo', u'elimin', u'xe', u'volver', u'descangar', u'tampoco', u'puede', u'mal', u'xedsima', u'la', u'xfaltima', u'aplicaci', u'xf', u'desastre'], [u'great'], [u'can', u'not', u'live'], [u'easy'], [u'many', u'ad', u'listen', u'playlist', u'get', u'bunch', u'recommend', u'song', u'play', u'annoying'], [u'really', u'awful', u'shuffle', u'algorithm', u'terrible', u'job', u'period'], [u'sit', u'overlook', u'sea', u'life', u'feel', u'good', u'paul', u'weller', u'singing', u'ear', u'blissec'], [u'do', u'not', u'tell', u'anyone', u'great', u'everybody', u'know', u'spotify', u'love', u'much'], [u'crash', u'time', u'make', u'impossible', u'listen', u'music'], [u'great', u'great', u'music'], [u'late', u'update', u'close', u'less', u'second', u'pay', u'premium', u'be', u'feel', u'rip'], [u'late', u'update', u'close', u'less', u'second', u'pay', u'premium', u'be', u'feel', u'rip'], [u'great', u'year', u'good'], [u'sleep', u'help', u'alot'], [u'love', u'love', u'playlist'], [u'spotify', u'crash', u'playing', u'song', u'second', u'insanely', u'annoying', u'pay', u'premium'], [u'great'], [u'keep', u'crash', u'late', u'update', u'android'], [u'hate', u'stupid', u'shuffle', u'want', u'listen', u'song', u'shuffle'], [u'bit', u'frustrating'], [u'good', u'time', u'make', u'playlist', u'keep', u'add', u'random', u'song'], [u'awesome', u'ae', u'ae', u'ae', u'ae', u'ae'], [u'relax'], [u'good', u'music', u'period'], [u'amazing', u'user', u'day', u'trouble', u'may', u'ton', u'add', u'end', u'premium', u'be', u'tell', u'worth'], [u'spotify', u'great', u'atrocious', u'constantly', u'crash', u'laggy', u'slow', u'practically', u'unusable'], [u'keep', u'cut'], [u'make', u'easy', u'listen', u'music', u'want', u'hear'], [u'nice'], [u'really', u'annoying', u'sometimes', u'start', u'computer', u'also', u'take', u'forever', u'download', u'even', u'song', u'computer', u'make', u'playlist'], [u'way', u'many', u'ad', u'always', u'cut', u'song', u'short'], [u'always', u'crash', u'everysong', u'repeat', u'suddenly', u'stop', u'play', u'reopened', u'play', u'song', u'begin', u'please_fix', u'next', u'update'], [u'good', u'thing'], [u'favorite', u'band', u'may', u'never', u'even', u'hear', u'be', u'not', u'many', u'playlist', u'throw', u'base', u'listening', u'habit'], [u'time', u'add', u'hate'], [u'good', u'music', u'be', u'look', u'however', u'music', u'constantly', u'cut', u'keep', u'closing'], [u'thing', u'real', u'catalogue'], [u'love', u'android', u'interface', u'p', u'great', u'job', u'keep', u'good', u'work'], [u'bad', u'week', u'trail', u'pay', u'dollar', u'monthly', u'nonstop', u'music', u'allow', u'ad', u'also', u'unlimmited', u'swipe', u'song', u'wjich', u'thing', u'bad', u'choice', u'really', u'interested', u'listen', u'music', u'love', u'go', u'ahead', u'do', u'not', u'complain', u'lose', u'money'], [u'really', u'good', u'would', u'better', u'people', u'premium', u'chance', u'skip', u'music', u'thank'], [u'love'], [u'awesome', u'lication'], [u'song', u'cut', u'time'], [u'love', u'spotify', u'complaint', u'may', u'miss', u'would', u'option', u'keep', u'spotify', u'open', u'phone', u'charging', u'suck', u'unlock', u'phone', u'time', u'need', u'heart', u'thumb', u'song'], [u'love', u'really', u'great', u'selection', u'song', u'podcast', u'however', u'do', u'not', u'like', u'fact', u'pay', u'listen', u'music', u'can', u'not', u'change', u'user', u'name', u'understand', u'need', u'money', u'continue', u'can', u'not', u'pay', u'be', u'sorry'], [u'maybe', u'old', u'song', u'available', u'would', u'even', u'better'], [u'crash', u'whenever', u'try', u'listen', u'preview', u'song'], [u'love'], [u'everything', u'pretty', u'good', u'could', u'let', u'user', u'choose', u'want', u'lockscreen', u'album', u'art', u'google', u'play', u'music', u'seem', u'do', u'not', u'think', u'impossible', u'feature', u'add'], [u'goid'], [u'goid'], [u'dope', u'update'], [u'good', u'music'], [u'bext', u'muxic', u'app', u'ever'], [u'musiz', u'incredible'], [u'literally', u'great'], [], [u'normally', u'pretty', u'hy', u'longer', u'allow', u'favourite', u'hide', u'song', u'play', u'ad', u'frequently'], [u'amazing', u'listen', u'favorite', u'song', u'free'], [u'nice'], [u'good'], [u'require', u'monthly', u'payment', u'incredibly', u'glitchy', u'constantly', u'crash', u'variety', u'music', u'dwarf', u'fact', u'difficult', u'search', u'song', u'encounter', u'issue', u'fix', u'bug', u'could', u'decent'], [u'great'], [u'amazing', u'song', u'great', u'little', u'love', u'music', u'do', u'not', u'want', u'listen', u'explicit', u'music', u'go', u'set', u'turn', u'spotify', u'almost', u'day'], [u'love', u'eveything'], [u'fantastic'], [u'love', u'people', u'need', u'music', u'perfect', u'everything', u'music', u'relate', u'thing', u'order', u'listen', u'anywhere', u'pay', u'dollar', u'month', u'worth'], [u'la', u'aplicaci', u'actualiz', u'xf', u'hace', u'uno', u'xeda', u'desde', u'entonce', u'cierra', u'autom', u'ticamente', u'unos', u'segundo', u'funci', u'realice', u'molesto', u'porque', u'deja', u'cumplir', u'funci', u'desinstalar', u'instalar', u'nuevo', u'implicar', u'xeda', u'borrar', u'contenido', u'offline', u'tel', u'xe', u'fono', u'supongo', u'que', u'cancelar', u'xe', u'la', u'suscripci', u'soluciona', u'por', u'parte', u'la', u'versi', u'escritorio', u'tuvo', u'tiempo', u'iniciarla', u'computadora', u'deten', u'xeda', u'deb', u'xeda', u'reiniciarla', u'creo', u'fuera', u'recurso', u'equipo', u'porque', u'trabaja', u'sin', u'problema', u'son', u'otro', u'programa', u'mismo', u'tiempo', u'finalmente', u'instal', u'xe', u'desinstal', u'funcion', u'mejor', u'por', u'pronto', u'revisar', u'ocurre', u'mismo', u'otro', u'dispositivos', u'como', u'tablet'], [u'do', u'not', u'really', u'hate', u'work', u'offline'], [u'great', u'thing', u'miss', u'flac', u'quality', u'high', u'kbp'], [u'enjoy'], [u'let', u'record', u'listening', u'music', u'go', u'gallery', u'keep', u'make', u'watch', u'video', u'minute', u'uninterrupted', u'listening', u'keep', u'repeat', u'change', u'song', u'everything', u'else', u'great'], [u'good', u'pandora', u'eye'], [u'awesome'], [u'good', u'music', u'last', u'update', u'crash', u'song', u'be', u'scroll', u'search', u'song', u'really', u'frustrating'], [u'good'], [u'love'], [u'love', u'list', u'song', u'play', u'make'], [u'lovely'], [u'nice'], [u'always', u'find', u'love', u'song', u'spotify'], [u'crash', u'much'], [u'love'], [u'love'], [u'good', u'good', u'joox'], [u'love'], [u'good', u'listen', u'whenever', u'wherever'], [u'love', u'spotify'], [u'keep', u'kick'], [u'music', u'everyday', u'everywhere'], [u'love', u'day'], [u'count', u'star', u'culd', u'add', u'anothr', u'wuld', u'spotify', u'keep', u'gettn', u'bettr', u'mix', u'shazam', u'musixmatch', u'well', u'download', u'see', u'wat', u'be', u'talkn', u'urself'], [u'love', u'spotify', u'last', u'update', u'slow', u'open', u'look', u'song', u'close', u'reason'], [u'keep', u'crash', u'constantly', u'time', u'search', u'music'], [u'ever', u'update', u'october', u'crash', u'constantly', u'android', u'do', u'not', u'want', u'pay', u'month', u'service', u'do', u'not', u'work'], [u'update', u'spotify', u'premium', u'last', u'oct', u'start', u'listen', u'playlist', u'always', u'crash', u'music', u'always', u'stop', u'play', u'even', u'uninstalled', u'instal', u'still', u'will', u'not', u'work', u'can', u'not', u'listen', u'music', u'update', u'disointed', u'hope', u'fix', u'soon'], [u'think', u'put', u'late', u'korean', u'ost', u'spotify'], [], [u'update', u'month', u'app', u'close', u'second', u'play', u'song', u'frustrate', u'have', u'start', u'amazon', u'music', u'consider', u'sack', u'spotify', u'need', u'fix', u'soon', u'be', u'pay', u'service', u'can', u'not'], [u'love', u'favourite', u'music', u'present', u'easy', u'definitely', u'recommend'], [u'brilliant', u'value', u'pay', u'xa', u'month', u'family', u'couple'], [u'premium', u'play', u'album', u'order', u'ad', u'be', u'not', u'enough', u'recommend', u'song', u'stupid', u'app', u'frustrating'], [u'awesome'], [u'love', u'spotify'], [u'disoint', u'ever', u'subscribe', u'today', u'keep', u'crash', u'whenever', u'search', u'music', u'least', u'say', u'finish', u'play', u'full', u'song'], [u'have', u'premium', u'user', u'several', u'year', u'absolutely', u'love', u'spotify', u'go', u'music', u'however', u'recently', u'simply', u'refuse', u'stay', u'open', u'past', u'second', u'do', u'not', u'necessarily', u'crash', u'stop', u'play', u'music', u'reason', u'way', u'get', u'play', u'restart', u'also', u'crash', u'nothing', u'look', u'library', u'sometimes', u'enough', u'crash'], [u'good', u'music', u'ever'], [u'love', u'good', u'music', u'hand', u'nothing', u'beat'], [u'money', u'would', u'subscribe', u'maga'], [u'really'], [u'love', u'music', u'play', u'want', u'want'], [u'good', u'tune'], [u'love', u'music'], [u'easy', u'great', u'create', u'songlist'], [u'great'], [u'good', u'always', u'good', u'music', u'quality', u'hope', u'platform'], [u'love'], [u'do', u'not', u'do', u'not', u'playlist', u'see', u'artist', u'song', u'choose'], [u'nice', u'music', u'streaming'], [u'use', u'love', u'update', u'last', u'week', u'become', u'unusable', u'crash', u'time', u'have', u'contact', u'support', u'team', u'twitter', u'feel', u'be', u'brush', u'time', u'roll', u'back', u'product', u'version', u'work', u'adequate', u'testing', u'releasing'], [u'good', u'music'], [u'spotify', u'android', u'soooooooo', u'slow'], [u'late', u'update', u'be', u'longer', u'able', u'play', u'song', u'close', u'what', u's', u'point', u'pay', u'month', u'work'], [u'slow'], [u'best', u'ever'], [u'family', u'premium', u'good', u'option'], [u'would', u'make', u'something', u'ne', u'get', u'least', u'hour', u'free', u'premium'], [u'guy', u'be', u'sure', u'due', u'recent', u'daye', u'ill', u'try', u'listen', u'music', u'spotify', u'close'], [u'love'], [u'good', u'lot', u'song'], [u'still', u'song', u'want', u'listen'], [u'song', u'need'], [u'excellent'], [u'spotify', u'everything', u'music', u'podcast', u'audiobook'], [], [u'feeling'], [u'premium', u'spotify', u'awesome'], [u'really', u'useful'], [u'slow', u'loading'], [u'love', u'recently', u'new', u'update', u'crash', u'second', u'podcast', u'play', u'hen', u'listen', u'podcast', u'completely', u'restart', u'phone', u'work', u'regular', u'song'], [u'good', u'world'], [u'need', u'artist', u'steven', u'ray', u'please', u'cd', u'whisnant'], [u'keep', u'crash', u'can', u'not', u'play', u'tune', u'hen', u'use', u'love', u'spotify', u'cmon', u'sort'], [u'do', u'not', u'anymore', u'want', u'play', u'music', u'can', u'not', u'click', u'shuffle', u'play', u'play', u'random', u'music', u'bad', u'thing', u'can', u'not', u'skip', u'unwanted', u'random', u'music', u'add', u'random', u'music', u'playlist', u'call', u'playlist', u'reason', u'add', u'favorite', u'music', u'shtty', u'random', u'music', u'trigger', u'wait', u'suggest', u'song', u'finish', u'playing', u'song', u'want'], [u'think', u'people', u'do', u'not', u'totally', u'get', u'let', u'listen', u'music', u'do', u'not', u'play', u'song', u'song', u'auto', u'play', u'song'], [u'love'], [u'awe', u'inspiring', u'music'], [u'really', u'good', u'do', u'not', u'know', u'play', u'spotify', u'get', u'back'], [u'can', u'not', u'live', u'need', u'time', u'everywhere', u'go'], [u'tis', u'dope'], [u'love', u'able', u'listen', u'kind', u'music'], [u'elderly', u'love', u'listen', u'music', u'song', u'generation', u'find', u'song', u'want', u'hear', u'spotify', u'thank', u'chance', u'relive', u'youth'], [u'problem', u'lately', u'close', u'something', u'be', u'try', u'listen'], [u'go', u'place', u'music'], [u'love', u'need'], [u'quit', u'run', u'even', u'premium', u'account'], [u'amazing', u'need', u'wifi', u'around'], [u'terrible'], [u'great', u'overall', u'bit', u'annoying', u'listen', u'ad', u'do', u'not', u'premium'], [u'love'], [u'ight'], [u'love'], [u'love', u'do', u'not', u'like', u'add', u'random', u'song', u'play', u'list'], [u'notice', u'today', u'song', u'stop', u'play', u'begin', u'open', u'chrome', u'instagram', u'become', u'annoying', u'never', u'use', u'somehow', u'run', u'multiple', u'affect', u'spotify', u'please_fix', u'be', u'wifi', u'connection', u'hen', u'lte', u'well'], [u'have', u'spotify', u'love'], [u'great', u'hear', u'favorite', u'artist', u'sometimes', u'do', u'not', u'understand', u'can', u'not', u'find', u'artist', u'block'], [u'love'], [u'do', u'not', u'realize', u'create', u'custom', u'playlist', u'spotify', u'think', u'radio', u'streaming', u'service', u'listen', u'mostly', u'song', u'search'], [u'keep', u'crash', u'new', u'android', u'install', u'really', u'disoint'], [u'make', u'account', u'free', u'spotify', u'unlimited', u'next', u'search', u'thank'], [u'excellent'], [u'think', u'good', u'need', u'add', u'take', u'away'], [u'never', u'fail'], [u'application', u'crash', u'waste', u'money', u'fix', u'asap'], [u'fabulous'], [u'extremely', u'awesome'], [u'amazing'], [u'get', u'tune', u'time', u'spotify', u'get', u'free', u'app'], [u'nice'], [u'fav', u'music'], [u'awesome'], [u'totally', u'amazing'], [u'volume', u'cut', u'time', u'song'], [], [u'lot', u'would', u'good', u'way', u'change', u'name', u'account', u'put', u'name', u'good', u'old', u'day', u'play', u'list', u'public', u'would', u'rather', u'nickname'], [u'think', u'amazing'], [u'do', u'not', u'like', u'make', u'go', u'song', u'queue', u'back', u'close', u'screen', u'sometimes', u'do', u'not', u'want', u'album', u'cover', u'show', u'rather', u'song', u'queue', u'list', u'display', u'instead', u'also', u'late', u'update', u'make', u'bit', u'buggy'], [u'spotify', u'freeze', u'reload', u'refresh', u'annoying', u'middle', u'good', u'song'], [u'constant', u'crashing'], [u'keep', u'crash', u'last', u'update'], [u'nice', u'work', u'well', u'free'], [u'crash', u'second', u'something', u'problem', u'irritate'], [u'good', u'offline', u'listen', u'music', u'phone'], [u'love', u'customer', u'service', u'amazing', u'chat', u'half', u'hour', u'try', u'help', u'sort', u'issue', u'really', u'care'], [u'update', u'review', u'be', u'use', u'couple', u'month', u'already', u'premium', u'pass', u'be', u'hy', u'huge', u'amount', u'music', u'style', u'artist', u'main', u'problem', u'lag', u'unstable', u'be', u'step', u'update', u'update', u'think', u'get', u'bad', u'good', u'take', u'sometimes', u'load', u'song', u'album', u'sometimes', u'display', u'freeze', u'kick', u'annoying', u'please_fix'], [u'far', u'good', u'music'], [u'love', u'update', u'crash', u'second', u'devastate', u'exactly', u'pay'], [u'good', u'burn'], [u'keep', u'stop', u'second', u'listen', u'song', u'seem', u'hen', u'last', u'update', u'pretty', u'annoying'], [u'still', u'good'], [u'das', u'neue', u'design', u'ist', u'schlecht', u'voll', u'xfcbersichtlich', u'update', u'zu', u'update', u'schlechter'], [u'app', u'crash', u'second', u'play', u'song', u'time', u'open', u'start', u'hen', u'late', u'update', u'be', u'use', u'really', u'crash', u'ruin', u'experience'], [u'crash', u'second', u'new', u'update'], [u'stop', u'spotify', u'premium', u'add', u'listen', u'help', u'sleep', u'add', u'spotify', u'premium', u'come', u'do', u'not', u'want', u'premium'], [u'room', u'improvement'], [u'keep', u'crash', u'second', u'last', u'update', u'fix'], [u'can', u'not', u'live'], [u'fact', u'add', u'rain', u'autumn', u'great'], [u'keep', u'close', u'self'], [u'xc', u'purpurina', u'gambino', u'arregladlo', u'por', u'favor', u'gracia'], [u'cool', u'can', u'not', u'get', u'offline', u'song'], [u'love'], [u'love'], [u'unable', u'get', u'even', u'song', u'due', u'october', u'update'], [u'amazing'], [u'provide', u'adequate', u'list', u'musical', u'genre'], [u'crash', u'second', u'week'], [u'pristine', u'quality', u'user', u'friendly'], [u'generally', u'great', u'time', u'chromecast', u'support', u'quite', u'bad', u'frequent', u'disconnect', u'issue'], [u'epic'], [u'do', u'not', u'know'], [u'thank'], [u'far', u'good', u'sometimes', u'listen', u'abrupt', u'portion', u'music', u'ruin', u'listen', u'music', u'choice', u'sudden', u'interruption', u'occur', u'depend', u'music', u'listen', u'fragment', u'song', u'simultaneously', u'can', u'not', u'complain', u'free'], [], [u'spotify', u'good', u'music', u'anything'], [u'great'], [u'free', u'music', u'choice'], [u'amazing', u'have', u'year', u'thing', u'add', u'thin', u'could', u'choose', u'son', u'do', u'not', u'press', u'shuffle', u'play'], [u'love', u'music', u'want', u'know', u'youtube', u'still', u'anything'], [u'handy'], [u'new', u'music', u'discover', u'spotify', u'nothing', u'short', u'amazing', u'spotify', u'good', u'thing', u'come', u'internet', u'decade'], [u'great'], [u'want', u'lyric', u'lyric', u'way', u'important', u'right', u'trivium'], [u'spotify', u'mostly', u'listen', u'urban', u'rescue', u'music', u'spofity', u'change', u'life', u'big', u'time', u'spofity', u'jordan', u'frye', u'band', u'urban', u'rescue', u'bless', u'thank'], [u'easy'], [u'good', u'job'], [u'free'], [u'love'], [u'amazing', u'music', u'best', u'would', u'lose', u'spotify', u'playlist', u'can', u'not', u'find', u'music', u'want'], [u'personally', u'do', u'not', u'like', u'spend', u'money', u'play', u'music', u'offline', u'otherwise', u'great'], [u'amazing', u'love'], [u'absurd', u'do', u'not', u'support', u'many', u'screen', u'be', u'still', u'wait', u'patch', u'solve', u'annoying', u'format'], [u'awesome'], [u'crash', u'minute', u'open', u'sure', u'new', u'update', u'can', u'not'], [u'money'], [u'love', u'favourite', u'song'], [u'love'], [u'cool'], [u'awesome'], [u'firsr', u'choice', u'podcast', u'last', u'update', u'close', u'second', u'play'], [u'last', u'update', u'crash', u'second', u'playing', u'song', u'delete', u'clear', u'cache', u'redownload', u'still', u'occur'], [u'pretty', u'cool'], [u'good', u'lication', u'ever', u'make'], [u'good'], [u'good'], [u'nice'], [u'good', u'app'], [u'problem', u'far'], [u'best', u'ever'], [u'goooooooood'], [u'can', u'not', u'get', u'student', u'discount', u'because', u'need', u'credit', u'card', u'obviously', u'do', u'not', u'kinda', u'suck', u'tho'], [u'last', u'oct', u'update', u'keep', u'crash', u'second', u'play', u'song', u'make', u'kind', u'useless'], [u'star'], [u'totally', u'go'], [u'music', u'ever', u'need'], [u'love', u'spotify', u'however', u'follow', u'recent', u'update', u'play', u'second', u'shut', u'good', u'enough', u'pay', u'service'], [u'terribly', u'slow', u'keep', u'load', u'everytime', u'even', u'open', u'playlist', u'download', u'already'], [u'good', u'music', u'town'], [u'good'], [u'keep', u'crash', u'be', u'premium', u'can', u'not', u'listen', u'pay', u'thank', u'spotify', u'help', u'make', u'decision', u'switch', u'amazon', u'music', u'thing', u'actually', u'listen', u'music', u'uninterrupted'], [u'spotify', u'spot'], [u'great', u'love', u'thank'], [u'crash', u'music', u'do', u'not', u'load', u'properly'], [u'offline', u'mode'], [u'superb', u'would', u'far', u'better', u'cheap'], [u'can', u'not', u'go', u'day'], [u'spotify', u'fan', u'long', u'time'], [u'good', u'problem', u'moment', u'will', u'not', u'stay', u'open', u'least', u'second'], [u'tidy'], [u'glitchy', u'recent', u'update', u'play', u'couple', u'second', u'song', u'stop', u'play', u'advert', u'time', u'restart', u'also', u'fact', u'non', u'premium', u'user', u'can', u'not', u'shuffle', u'infuriating', u'play', u'last', u'song', u'insist', u'play'], [u'think', u'stuff', u'time'], [u'imagine', u'liking', u'make', u'pay', u'pound', u'month', u'ew', u'can', u'not', u'relate'], [u'love'], [u'amazing', u'fun', u'chill'], [u'good', u'youtube'], [u'love', u'spotify', u'never', u'issue'], [u'surprised', u'made', u'day', u'easy', u'big', u'range', u'artist'], [u'keep', u'closing', u'second', u'sort', u'want', u'money', u'back'], [u'good'], [u'switch', u'music', u'spotify', u'great', u'love', u'use', u'daily', u'however', u'need', u'widget', u'could', u'provide', u'becoz', u'be', u'not', u'look', u'screen'], [u'love'], [u'recent', u'update', u'android', u'keep', u'cause', u'crash', u'second'], [u'fantastic'], [u'good', u'fit', u'purpose'], [], [u'perfecto'], [u'useful', u'great', u'music', u'really', u'love', u'much'], [u'try'], [u'free', u'music', u'good'], [u'excellent'], [u'keep', u'cut', u'sort', u'pay', u'service', u'rely', u'work'], [u'brilliant', u'less', u'ad'], [u'use', u'good', u'slow', u'unresponsive', u'look', u'simple', u'alternative'], [u'absolutely', u'love', u'lication', u'great', u'music', u'streaming', u'thing', u'would', u'like', u'feature', u'filter', u'see', u'playlist', u'create', u'instead', u'one', u'make', u'follow', u'thank'], [u'fantastic', u'time'], [u'love'], [u'great'], [u'great', u'ad', u'out', u'free', u'live'], [u'love', u'sportify', u'fantastic'], [u'easy', u'listen', u'good', u'music'], [u'good', u'really', u'help', u'chanel', u'hope', u'reach', u'max', u'level', u'keep', u'work'], [u'brilliant'], [u'crash', u'second', u'time', u'time', u'go', u'back', u'amazon'], [u'bacase', u'give', u'star', u'bacase', u'wer', u'ever'], [u'love'], [u'fun'], [u'excellent'], [u'great', u'stuff'], [u'go', u'good', u'year', u'recently', u'keep', u'shut', u'crash', u'minute', u'open', u'advise', u'use', u'edge', u'try', u'reinstall', u'put', u'phone', u'battery', u'power', u'resolve', u'issue', u'help'], [u'brilliant', u'quality'], [u'good', u'everytime', u'try', u'download', u'music', u'turn', u'download', u'use', u'cellular', u'still', u'tell', u'turn', u'download', u'use', u'cellular', u'buy', u'need', u'fix'], [u'do', u'not', u'even', u'play', u'music'], [u'buggy', u'xiaomi'], [u'crash', u'lot', u'recently'], [u'would', u'like', u'star'], [u'brilliant', u'app', u'easy', u'search', u'download', u'music'], [u'good', u'good'], [u'lov', u'love', u'love', u'love', u'love', u'love', u'love', u'love', u'love', u'mu', u'love', u'muc', u'love', u'much', u'lo', u'love', u'love'], [u'constraint', u'quite', u'annoying', u'guess', u'pay', u'get', u'full', u'service', u'really', u'good'], [u'good', u'need'], [u'album', u'month', u'download', u'track', u'device', u'play', u'anywhere', u'would', u'not', u'spotify'], [u'spotify', u'stop', u'playing', u'song', u'second', u'try', u'reboot', u'still', u'unusable', u'be', u'android'], [u'spotify'], [u'best', u'ever', u'listen', u'music'], [u'super', u'die', u'app', u'und', u'gute', u'qualit', u'selbst', u'ohne', u'premium', u'mich', u'die', u'werbung', u'nicht', u'ich', u'mal', u'musik'], [u'good'], [u'dumb', u'really', u'music', u'title', u'show'], [u'feature', u'do', u'not', u'work'], [u'keep', u'crash', u'second', u'recent', u'update', u'android', u'get', u'sort', u'refund', u'solve'], [u'stop', u'matter', u'hen', u'last', u'update', u'annoying'], [u'spotify', u'awesome'], [u'do', u'not', u'think', u'make', u'playlist', u'also', u'play', u'music', u'also', u'share', u'song', u'good', u'continent', u'that', u's', u'opinion', u'read', u'btw'], [u'good'], [u'bring', u'back', u'feature', u'wherein', u'want', u'save', u'certain', u'song', u'immediately', u'ask', u'want', u'put', u'playlist', u'even', u'heart', u'save', u'song', u'thank', u'muchhh'], [u'nice'], [u'stop', u'show', u'phone', u'play', u'device', u'annoying'], [u'simply', u'high', u'quality'], [u'overall', u'rat', u'amazing', u'large', u'archive', u'song', u'choose'], [u'worth', u'subscription'], [u'great', u'lately', u'close', u'unexpectedly', u'usually', u'play', u'song', u'close', u'reason'], [u'keep', u'randomly', u'crash', u'time'], [u'keep', u'crash', u'update'], [u'nice', u'simple'], [u'nice'], [u'decision', u'awesome', u'fav', u'song', u'tightrope', u'great', u'showman'], [u'stop', u'ruin', u'playlist', u'song', u'do', u'not', u'want', u'hear', u'tell', u'stop', u'skip', u'song', u'guy', u'add'], [u'love', u'thank'], [u'nice', u'music', u'library', u'favorite', u'song'], [u'love'], [u'good'], [u'great', u'hear', u'music'], [u'big', u'gay'], [u'perfect', u'music'], [u'love'], [u'time', u'convenient'], [u'see', u'lyric', u'maybe'], [u'wish', u'could', u'control', u'volume', u'play', u'device'], [u'update', u'late', u'version', u'crash', u'everytime', u'use'], [u'daftar', u'premium', u'knp', u'masih', u'iklan'], [u'love'], [u'good', u'music', u'streaming', u'yet'], [u'delete', u'song', u'list', u'can', u'not', u'find'], [u'need', u'go', u'sleep'], [u'great', u'music'], [u'suuuuch', u'good', u'streaming', u'premium', u'worth', u'add', u'option', u'combine', u'playlist', u'together', u'xxx'], [u'good', u'selection', u'music'], [u'good', u'job'], [u'great'], [u'keep', u'crash', u'last', u'update'], [u'love'], [u'wish', u'bear', u'premium', u'wanna', u'make', u'money', u'people', u'wanna', u'listen', u'music'], [u'hate', u'ad'], [u'know', u'download', u'song', u'want'], [u'app', u'consistently', u'crash', u'virtually', u'unusable'], [u'keep', u'crash', u'late', u'update', u'please_fix'], [u'last', u'update', u'thing', u'get', u'really', u'bad', u'crash', u'several', u'song', u'stop', u'share', u'device', u'stable', u'anymore', u'be', u'consider', u'cancel', u'subscription'], [u'add', u'song'], [u'work', u'time', u'make', u'music', u'really', u'convenient'], [u'recent', u'update', u'ruin', u'crash', u'least', u'time', u'be', u'able', u'play', u'song', u'finishing', u'say', u'song', u'go', u'select', u'new', u'song', u'crash', u'go', u'back', u'previous', u'patch'], [u'request', u'specific', u'singer', u'home', u'always', u'play', u'singer', u'sportify'], [u'good', u'music', u'ever'], [u'old', u'bass', u'player', u'find', u'band', u'play', u'site', u'use', u'pandora', u'find', u'spotify', u'much', u'good'], [u'really', u'love', u'listen', u'music', u'spotify', u'really', u'help'], [u'last', u'update', u'keep', u'crash', u'second', u'pay', u'service', u'need', u'fix', u'quickly'], [u'premium', u'really', u'good', u'normal', u'best', u'use', u'computer', u'still', u'listen', u'music', u'school'], [u'get', u'spotify'], [u'good', u'music', u'period'], [u'awesome'], [u'amazing', u'ever'], [u'spotify', u'first', u'come', u'number', u'place', u'music'], [u'good', u'integrate'], [u'good', u'music'], [u'discover', u'song'], [u'good'], [u'super', u'dope'], [u'booo'], [], [u'can', u'not', u'shuffle', u'playlist', u'hear', u'random', u'song'], [u'love', u'spotify'], [u'spotify', u'great', u'music', u'however', u'update', u'find', u'crash', u'especially', u'be', u'earphone', u'please_fix', u'samsung', u'galaxy'], [u'enjoy', u'music', u'oer', u'dj', u'good', u'music', u'ever', u'see'], [u'contented', u'music', u'hear'], [u'awesome', u'range', u'music'], [u'love', u'listen', u'favrioute', u'song'], [u'love', u'listen', u'live', u'tv'], [u'good'], [u'change', u'life', u'whh', u'whooo'], [u'last', u'update', u'slow', u'considerably', u'green', u'circle', u'icon', u'always', u'spin', u'good', u'second', u'everytime', u'click', u'new', u'tab'], [u'do', u'not', u'allow', u'choose', u'single', u'song'], [u'best', u'worst', u'pretty', u'much', u'useless', u'do', u'not', u'premium', u'pain', u'do', u'not', u'want', u'listen', u'minute', u'long', u'ad', u'song', u'many', u'ad', u'shuffle', u'playlist', u'add', u'song', u'do', u'not', u'want', u'hear', u'do', u'not', u'extra', u'dollar', u'spare', u'month'], [u'excellent', u'ad', u'part', u'life', u'want', u'free'], [u'cool'], [u'late', u'update', u'keep', u'crash', u'do', u'not', u'get', u'rectify', u'end', u'month', u'switch', u'soundcloud'], [u'nice'], [u'keep', u'log', u'random', u'time', u'uninstall', u'reinstall'], [u'use', u'spotify', u'everyday', u'way', u'school', u'late', u'update', u'can', u'not', u'start', u'play', u'song', u'shut', u'first', u'second', u'song', u'can', u'not', u'late', u'android', u'update'], [u'play', u'song', u'even', u'messenger'], [u'app', u'crash', u'second', u'restart', u'song', u'listen', u'everytime', u'phone', u'do', u'not', u'say', u'crash', u'music', u'stop', u'play', u'take', u'long', u'time', u'open', u'become', u'extremely', u'tedious'], [u'keep', u'crash', u'second', u'open', u'please_fix', u'issue', u'spotify'], [u'keep', u'forget', u'password', u'that', u's', u'spotify', u'mayb', u'ad', u'little', u'hint', u'question'], [u'good', u'start', u'crash', u'late', u'update', u'also', u'keep', u'kicking', u'keep', u'ask', u'login', u'kick', u'sec', u'shame'], [u'love', u'selection', u'music', u'radar', u'cool', u'feature', u'well', u'playlist', u'base', u'listen'], [u'app', u'crash', u'everytime', u'foreground', u'ever', u'last', u'update', u'wait', u'nevermind', u'still', u'crash', u'even', u'currently', u'open', u'play', u'music'], [u'crash', u'sec', u'device', u'last', u'update', u'please_fix', u'cancel', u'subscription'], [u'open', u'search', u'uninstall', u'reinstall', u'work', u'frustrate', u'previous', u'review', u'prior', u'version', u'indicate', u'seamless', u'operate'], [u'amazing', u'good', u'soundclound'], [u'good', u'youtube', u'streaming', u'music', u'less', u'ad', u'time', u'spotify', u'feature', u'function', u'smoothly'], [u'love'], [], [u'probably', u'good', u'kind'], [u'suck', u'pay', u's', u'love', u'pandora'], [u'expect', u'enjoy', u'much', u'even', u'premium', u'version', u'listen', u'music', u'want', u'awesome'], [u'wish', u'crash', u'less', u'great', u'service'], [u'spotify', u'start', u'listen', u'music', u'become', u'pay', u'subscriber', u'spotifys', u'free', u'tier', u'would', u'not', u'get', u'music', u'streaming', u'service'], [u'love', u'music', u'love', u'spotify'], [u'can', u'not', u'even', u'search', u'bar', u'keep', u'crashibg', u'sec'], [u'love', u'find', u'favorite', u'song', u'listen', u'day'], [u'spotify'], [u'awesome'], [u'get'], [u'awesome'], [u'october', u'update', u'keep', u'crash', u'second', u'foreground', u'work', u'fine', u'play', u'background'], [u'good', u'music'], [u'artwork'], [u'give', u'save', u'download', u'hear', u'music', u'eventhough', u'ther', u'wifi', u'cellular', u'datum'], [u'app', u'crash', u'constantly', u'past', u'couple', u'day', u'spotify', u'seem', u'ignore', u'issue'], [u'love', u'have', u'find', u'new', u'artist', u'listen', u'spotifys', u'create', u'playlist'], [u'love'], [u'many', u'ad'], [u'love'], [u'love', u'music', u'spotify', u'help', u'get', u'pass', u'tough', u'time', u'life', u'good', u'friend', u'rock', u'supporter', u'think', u'love', u'bring', u'world', u'share', u'way', u'father', u'pass', u'everyday', u'find', u'comfort', u'listen', u'whatev', u'song', u'want', u'spotify', u'may', u'cry', u'smile', u'remember', u'forget', u'spotify', u'music', u'help', u'get', u'be', u'work', u'driving', u'shopping', u'hanging', u'music', u'almost', u'always', u'play', u'thank', u'playlist', u'dedicated', u'father', u'save', u'song', u'want', u'also', u'edit', u'playlist', u'do', u'not', u'want', u'song', u'play', u'ever'], [u'sometimes', u'put', u'song', u'do', u'not', u'add', u'do', u'not', u'even', u'listen'], [u'good', u'music'], [u'keep', u'crash', u'second'], [u'go', u'be', u'drive'], [u'love', u'spotify', u'much', u'basically'], [u's', u'go', u'song', u'steelheart', u'non', u'list'], [u'awesome', u'family', u'premium', u'even', u'good', u'value', u'money'], [u'love', u'spotify', u'muuuuccch', u'spotify', u'gimme', u'wonderful', u'extrodinary', u'music', u'feel', u'cool', u'personal', u'recommendation', u'good', u'service', u'everything', u'good'], [u'love', u'spotify', u'ufe'], [], [u'love', u'sometimes', u'randomly', u'turn', u'know', u'phone', u'love', u'spotify'], [u'developer', u'make', u'year', u'allow', u'huge', u'bug', u'make', u'production', u'disgrace', u'pay', u'service', u'monthly', u'pos', u'skip', u'song', u'whenever', u'decide', u'play', u'song', u'couple', u'second', u'change', u'song', u'be', u'drive', u'great', u'qa', u'guy', u'great', u'development', u'process', u'get', u'give', u'money', u'back'], [u'need', u'bollywood', u'specific'], [u'good'], [u'have', u'use', u'spotify', u'work', u'starbucks', u'free', u'lol', u'love', u'still'], [u'spotify', u'help', u'relieve', u'stress'], [u'pay', u'subscription', u'perform', u'badly'], [u'amazing', u'always', u'play', u'sis'], [u'user', u'friendly', u'highly', u'recommend'], [u'good', u'music', u'ever'], [u'ea'], [u'love'], [u'love', u'thing', u'much', u'find', u'favorite', u'music', u'love', u'best', u'ever'], [u'phone', u'love', u'much', u'here', u'question', u'try', u'search', u'somthing', u'close'], [u'definitely', u'good', u'music', u'have', u'ever', u'use', u'playlist', u'shuffle', u'option', u'help', u'develop', u'musical', u'taste', u'have', u'also', u'lead', u'song', u'artist', u'would', u'previously', u'never', u'hear', u'favorite', u'however', u'big', u'downside', u'ad', u'obviously', u'fine', u'ad', u'second', u'ad', u'half', u'hour', u'really', u'obnoxious', u'seem', u'superfluous', u'keep', u'ad', u'variegate', u'unobtrusive', u'music', u'listening', u'experience', u'spotify', u'would', u'perfect'], [u'wonderful'], [u'do', u'not', u'remember', u'problem', u'start', u'keep', u'crash', u'always', u'update', u'phone', u'os', u'do', u'not', u'know', u'cause', u'problem', u'phone', u'brand', u'new', u'xiaomi', u'redmi', u'note'], [u'really', u'good'], [u'select', u'great', u'song', u'listen', u'choice'], [u'mum', u'big', u'gae', u'eek', u'dee'], [u'will', u'not', u'stop', u'crash'], [u'love', u'free', u'user', u'able', u'pic', u'song', u'instead', u'shuffle', u'good'], [u'good', u'joox'], [u'good', u'music', u'variety'], [u'dear', u'spotify', u'love', u'be', u'pay', u'month', u'be', u'go', u'keep', u'get', u'boot', u'second'], [u'love'], [u'love'], [u'guy', u'pioneer', u'music', u'subscription', u'far', u'good'], [u'many', u'add'], [u'good', u'music'], [u'nice'], [u'really', u'great', u'selection', u'music'], [u'cool'], [u'last', u'update', u'hopeless', u'keep', u'shut', u'second', u'prior', u'update', u'go', u'music', u'service', u'use', u'service', u'stable'], [u'good'], [u'really', u'good'], [u'good', u'stuff', u'keep', u'go'], [u'perfeft'], [u'there', u's', u'nothing', u'else', u'say', u'love'], [u'love'], [u'awesome', u'rage', u'great', u'close'], [u'can', u'not', u'choose', u'song', u'want', u'play'], [u'awesome'], [u'take', u'forever', u'load', u'do', u'not', u'like', u'new', u'layout', u'confusing'], [u'spotify', u'amazing', u'come', u'music', u'look'], [u'app', u'crash', u'constant', u'fix'], [u'crash', u'second', u'ready', u'go', u'deezer'], [u'jusy', u'want', u'say', u'new', u'interface', u'android', u'would', u'much', u'appreciate', u'great', u'app'], [u'great', u'music', u'platform'], [u'good', u'music', u'ever'], [u'brunchy'], [u'great', u'do', u'not', u'many', u'ad', u'listen', u'want', u'whenever', u'want'], [u'amazing', u'love', u'use', u'extra', u'device', u'sono', u'well', u'verse', u'alot', u'device', u'link', u'computer', u'many', u'thing', u'would', u'see', u'change', u'keep', u'twitter', u'get', u'find', u'able', u'call', u'center', u'direct', u'way', u'get', u'hold', u'guess', u'apart', u'still', u'old', u'school', u'lol', u'new', u'way', u'good', u'problem', u'take', u'care', u'right', u'away', u'go', u'smoothly', u'complaint'], [u'far', u'selection', u'fantastic', u'anything', u'search', u'library'], [u'love', u'problem'], [u'love', u'wish', u'do', u'not', u'need', u'be', u'datum', u'listen', u'wifi', u'love', u'music', u'could', u'ever', u'want'], [u'spotify', u'light'], [u'coool'], [u'great', u'music', u'go', u'free'], [u'great', u'app'], [u'nice', u'salt', u'lake', u'city', u'utah'], [u'nice', u'music'], [u'awesome'], [u'last', u'update', u'randomly', u'close', u'stop', u'playback'], [u'cool'], [u'love'], [u'serve', u'well', u'miss', u'song'], [u'pat', u'say', u'free', u'music'], [u'sometimes', u'pain'], [u'keep', u'crash'], [u'music', u'good', u'do', u'not', u'like', u'keep', u'talk', u'premium', u'think', u'guy', u'get', u'keep', u'talk', u'premium', u'hate', u'premium', u'can', u'not', u'hear', u'music', u'can', u'not', u'get'], [u'new', u'update', u'break', u'constantly', u'crash'], [u'excellent'], [u'stick', u'strongly', u'spotify', u'many', u'year', u'recent', u'update', u'keep', u'crash', u'annoying', u'close', u'stop', u'premium', u'subscription', u'go', u'somewhere', u'else'], [u'good', u'music'], [u'do', u'not', u'know', u'try', u'listening', u'playlist', u'create', u'add', u'random', u'song', u'do', u'not', u'know'], [u'nice'], [u'thank', u'musical'], [u'iloveit'], [u'app', u'will', u'not', u'even', u'load', u'oreo', u'reinstall', u'dozen', u'time', u'still', u'will', u'not', u'load', u'crash', u'try', u'go', u'setting', u'garbage', u'right'], [u'listen', u'music', u'make', u'playlist', u'honestly', u'great'], [u'think', u'take', u'offline', u'hear', u'music', u'offline', u'also'], [u'be', u'enjoy', u'wide', u'range', u'music', u'spotify', u'still', u'kind', u'new', u'likin', u'much', u'far', u'sure', u'make', u'lot', u'easy', u'collecting', u'cd', u'skip', u'find', u'song', u'want', u'hear', u'chance', u'think', u'song', u'sing', u'find', u'be', u'look', u'enjoy', u'new', u'music', u'old', u'music', u'have', u'hear', u'really', u'enjoy', u'music', u'spotify', u'hha', u'help', u'able'], [u'trash', u'be', u'try', u'listen', u'whole', u'song'], [u'register', u'premium', u'account', u'good', u'far', u'music', u'database', u'huge', u'oldie', u'new', u'hit'], [u'go', u'everywhere'], [u'love'], [u'great'], [u'could', u'not', u'ask', u'good'], [u'nc', u'plss', u'update'], [u'sometimes', u'replay', u'radio', u'station', u'song', u'start', u'half', u'way', u'play'], [u'good'], [u'love'], [u'wonderful', u'streaming', u'music', u'phone', u'premium', u'optional', u'work', u'also', u'use', u'minimal', u'datum', u'can', u'not', u'afford', u'premium', u'still', u'viable', u'option', u'premium', u'still', u'come', u'wjth', u'perk', u'however', u'able', u'download', u'music', u'infinite', u'skip', u'play', u'individual', u'song', u'ability', u'turn', u'shuffle', u'great', u'perk', u'necessary', u'helpful', u'would', u'rate', u'possible', u'whenever', u'friend', u'ask', u'music', u'streaming', u'instantly', u'suggest', u'spotify'], [u'love'], [u'love', u'spotify'], [u'amazing', u'oct', u'update', u'crash', u'time', u'sec', u'launch'], [u'good'], [u'nice', u'app'], [u'love'], [u'fix', u'shuffle', u'play', u'free', u'always', u'love', u'spotify', u'shuffle', u'play'], [u'awesome', u'still', u'wait', u'lossless', u'format', u'high', u'quality', u'stream'], [u'really', u'great', u'premium', u'awesome', u'music', u'go', u'problem', u'last', u'week', u'spotify', u'start', u'shut', u'second', u'song', u'play', u'first', u'would', u'hen', u'could', u'reopen', u'would', u'fine', u'let', u'play', u'song', u'second', u'annoying', u'agitate', u'be', u'try', u'daily', u'routine', u'involve', u'music', u'ask', u'fix', u'bug', u'come', u'back', u'good', u'review'], [u'good', u'premium'], [u'hear', u'song', u'that', u's', u'fault', u'switch', u'spotify'], [u'quick', u'download', u'easy', u'manage', u'love', u'almost', u'song', u'search'], [u'personally', u'enjoy', u'wish', u'dowload', u'podcast'], [u'easy', u'music', u'listen', u'music', u'lover', u'love'], [u'love'], [u'wish', u'would', u'better', u'widget', u'samsung', u'home', u'screen', u'still', u'good'], [u'can', u'not', u'log', u'account', u'ask', u'change', u'location', u'can', u'not', u'location', u'option', u'usa', u'change'], [u'great', u'streaming', u'music', u'may', u'make', u'switch', u'pandora'], [], [u'good'], [u'work', u'great', u'algorithm', u'really'], [u'emperor', u'emperor', u'emperor', u'inno', u'satana'], [u'stupid', u'premium', u'skip', u'song'], [u'good', u'music', u'ever'], [u'love', u'almost', u'day', u'definitely', u'go', u'premium', u'well', u'worth'], [u'easy', u'find', u'music', u'rock'], [u'easy', u'music', u'player'], [], [u'good'], [u'change', u'interface', u'idea', u'even', u'play', u'song', u'separately'], [u'good', u'music', u'good', u'internet'], [u'change', u'mind', u'music'], [u'beautiful'], [u'owesome'], [u'premium', u'add', u'think', u'worth', u'price', u'selection', u'downloable', u'material', u'impressive'], [u'love', u'yet', u'get', u'premium', u'however', u'access', u'artist', u'album', u'currently', u'make', u'make', u'best', u'especially', u'love', u'song', u'always', u'see', u'utube', u'want', u'do', u'not', u'know', u'other', u'hear', u'love', u'numerous', u'song', u'favorite', u'artist', u'do', u'not', u'know', u'even', u'existed', u'star'], [u'mera', u'verga'], [u'would', u'much', u'good', u'wifi', u'be', u'not', u'need'], [u'really', u'good', u'streqm', u'available', u'music'], [u'nice', u'music'], [u'good', u'music'], [u'love', u'music', u'enjoy', u'thank'], [u'love', u'suggest', u'daily', u'play', u'list', u'base', u'song', u'search', u'minimal', u'commercial', u'basic', u'plan', u'allow', u'pay', u'go', u'subscription', u'month', u'sort', u'extra', u'even', u'basic', u'plan', u'give', u'much', u'do', u'not', u'mind', u'wait'], [u'love', u'tune', u'spotify', u'premium'], [u'love', u'love', u'music'], [u'great', u'find', u'new', u'favorite', u'song', u'playlist', u'easy', u'manage', u'reason', u'give', u'star', u'shuffle', u'play', u'song'], [u'really', u'great', u'help', u'explore', u'new', u'type', u'music', u'really', u'love'], [u'good', u'do', u'not', u'premium', u'ad', u'get', u'annoying', u'can', u'not', u'choose', u'song', u'want', u'also', u'limit', u'amount', u'skip', u'almost', u'song', u'playlist', u'really', u'wish', u'spotify', u'would', u'maybe', u'tab', u'music', u'divide', u'genre'], [u'good', u'keep', u'develop'], [u'nice'], [u'super'], [u'work', u'great', u'month', u'recent', u'update', u'crash', u'second'], [u'really', u'well'], [u'enjoy', u'save', u'money', u'time', u'instead', u'buy', u'cds'], [u'love', u'spotify', u'totally', u'awesome', u'matter', u'much', u'try', u'tell', u'month', u'worth', u'argue', u'tooth', u'nail', u'buck', u'month', u'totally', u'worth', u'skip', u'stupid', u'song', u'do', u'not', u'want', u'hear', u'justin', u'bieber', u'get', u'premium', u'amazing'], [u'last', u'update', u'keep', u'close', u'randomly'], [u'want', u'free', u'spotify', u'premium'], [u'love', u'wish', u'international', u'support'], [u'nothing', u'free', u'ff', u'ok', u'besides'], [u'great'], [u'pickle'], [u'work', u'issue', u'would', u'playing', u'playlist', u'completely', u'go', u'total', u'different', u'channel', u'station', u'whatev', u'want', u'call', u'start', u'play', u'different', u'music', u'do', u'not', u'pick', u'try', u'play', u'playlist', u'jump', u'go', u'something', u'else'], [u'love', u'spotify', u'love', u'listen', u'music', u'bc'], [u'cool'], [u'love', u'hater', u'learn', u'manner'], [u'good', u'obviously', u'good'], [u'let', u'meh', u'think', u'good'], [u'good', u'video', u'option', u'add', u'playlist', u'stop', u'play', u'song', u'video', u'available', u'country', u'would', u'reciate', u'option', u'turn', u'video', u'music', u'streaming', u'want', u'video', u'would', u'use', u'something', u'else'], [u'write', u'short', u'review'], [u'would', u'download', u'music', u'free', u'buying', u'premium'], [u'absolutely', u'love', u'good', u'experience', u'definitely', u'recommend', u'ufe', u'ufe'], [u'love'], [u'deez', u'nut'], [u'bs', u'keep', u'skip', u'song', u'want', u'play', u'spotify', u'tf', u'pay', u'gott', u'premium', u'still', u'trash', u'aff'], [u'great', u'will', u'not', u'let', u'choose', u'song', u'want'], [u'do', u'not', u'listen', u'playlist', u'shuffle', u'add', u'song', u'listen', u'want', u'listen', u'playlist', u'order', u'song', u'playlist'], [u'love'], [u'good', u'loved', u'thing', u'do', u'not', u'would', u'play', u'song', u'dosent', u'go', u'playlist'], [u'love', u'help', u'relax', u'gr'], [u'love', u'music', u'right'], [u'browse', u'button'], [u'nice', u'honest', u'do', u'not', u'mind', u'short', u'ad', u'intermission'], [u's', u'say'], [u'review', u'will', u'not', u'change', u'spotifys', u'image', u'always', u'good'], [u'straightforward', u'easy'], [u'restart', u'time'], [u'great', u'listen', u'music'], [u'stupid', u'will', u'not', u'let', u'download', u'use', u'cellular', u'network', u'frustrating'], [u'keep', u'crash', u'second', u'last', u'android', u'update', u'week', u'ago'], [u'great'], [u'app', u'crash', u'second', u'pretty', u'much', u'unusable', u'point'], [u'amazing'], [u'look', u'song', u'lyric', u'composer', u'songwriter', u'play', u'music', u'much', u'helpful', u'music', u'lover', u'understand', u'composition', u'song', u'good', u'playing', u'music'], [u'music', u'palm', u'hand', u'love'], [u'great'], [u'type', u'song', u'click', u'put', u'playlist', u'do', u'not', u'play', u'song'], [u'spanish', u'music', u'would', u'see', u'enjoy', u'much'], [u'make', u'life', u'hi', u'love', u'music'], [u'great', u'recent', u'rollout', u'android', u'system', u'update', u'cause', u'spotify', u'crash', u'restart', u'constantly'], [u'tht', u'krazy'], [u'good', u'value', u'song'], [u'ever', u'late', u'update', u'stay', u'open', u'second', u'crash', u'restart', u'have', u'reboot', u'device', u'reinstall', u'do', u'force', u'stop', u'be', u'run', u'smansung', u'galaxy', u'edge'], [u'nice'], [u'good', u'music', u'good', u'think', u'song', u'top', u'head', u'do', u'not'], [u'kool'], [u'buggie', u'sometimes', u'crash', u'sometimes', u'reset', u'song'], [u'always', u'say', u'be', u'offline', u'even', u'be', u'connect', u'wifi', u'issue', u'spotify'], [u'anything', u'turn', u'phone', u'still', u'play', u'work'], [u'app', u'crash', u'often', u'hat', u'app', u'may', u'cancel', u'subscription'], [u'mondern', u'technology', u'allow', u'access', u'ridiculous', u'amount', u'playlist', u'think', u'upgrade', u'premium'], [u'love', u'love', u'love'], [u'keep', u'crash', u'sec', u'last', u'update', u'android', u'please_fix', u'get', u'real', u'annoying'], [u'rock', u'roll'], [u'mobile', u'version', u'definitely', u'good', u'version', u'problem', u'shuffle', u'feature', u'bomb', u'ass', u'playlist', u'thank'], [u'awesome'], [], [u'sound', u'quality', u'better', u'really', u'discontinue', u'music', u'pay', u'membership'], [u'love'], [u'uff', u'uff'], [u'amz', u'listen', u'free', u'music', u'do', u'not', u'need', u'download'], [u'cool'], [u'display', u'do', u'not', u'update', u'automatically', u'whatev', u'song', u'play', u'notification', u'bar', u'lock', u'screen', u'open', u'always', u'need', u'gp', u'maybe', u'close', u'reopen', u'also', u'suddenly', u'play', u'whenever', u'turn', u'play', u'sound', u'alarm', u'video', u'youtube', u'annoying', u'have', u'already', u'uninstall', u'reinstall', u'first', u'work', u'okay', u'day', u'problem', u'hen', u'kindly', u'fix'], [u'good', u'music'], [u'decent'], [u'great'], [u'amazing', u'premium', u'even', u'better'], [u'trash', u'do', u'not', u'even', u'compete', u'youtube', u'music'], [u'love'], [u'reason', u'use', u'map', u'music', u'together', u'program', u'shut'], [u'offline', u'music', u'could', u'cool'], [u'need', u'freedom'], [u'love', u'show', u'grandmother', u'ipad', u'listen', u'book', u'oldie'], [u'lately', u'cut'], [u'great', u'finding', u'almost', u'song', u'want', u'listen'], [], [u'rally', u'good'], [u'rewind', u'button', u'can', u'not'], [u'problem', u'sometimes', u'say', u'be', u'offline', u'can', u'not', u'see', u'certain', u'album', u'actually', u'wifi', u'love'], [u'last', u'update', u'android', u'crash', u'second', u'play', u'music', u'uninstall', u'install', u'still', u'do', u'not', u'work', u'properly', u'please_fix', u'music', u'listen'], [u'wonderful', u'thank'], [u'recent', u'update', u'make', u'crash', u'allll', u'thhheee', u'tiiiimmmeee', u'please_fix', u'issue', u'ill', u'return', u'starss'], [u'good', u'far', u'today'], [u'really', u'good'], [u'love'], [u'love', u'be', u'run', u'school'], [u'love', u'spotify', u'hate', u'fail', u'single', u'time', u'freeze', u'will', u'not', u'play', u'music', u'will', u'not', u'stop', u'play', u'music', u'even', u'force', u'close', u'even', u'possible', u'also', u'randomly', u'remove', u'song', u'readd', u'fix'], [u'digg'], [u'amazing'], [u'love', u'help', u'relax', u'focus'], [u'last', u'day', u'crash', u'second', u'song', u'please_fix', u'asap'], [u'good', u'music', u'ever'], [u'cool', u'thank'], [u'satisfied'], [], [u'really', u'enjoy', u'variety', u'spotify', u'offer'], [u'always', u'crash', u'update', u'oct'], [u'cool'], [u'love', u'music', u'many', u'different', u'music', u'type', u'also', u'love', u'make', u'playlist', u'totally', u'would', u'suggest', u'music'], [u'music', u'collection', u'year', u'listen', u'old', u'new', u'good'], [u'good'], [u'many', u'ad'], [u'can', u'not', u'log'], [u'good', u'music'], [u'awesome', u'probably', u'good', u'ever'], [u'amazing'], [u'guy', u'love', u'have', u'complaint', u'spotify', u'sometimes', u'crash', u'be', u'play', u'song', u'go', u'past', u'week', u'seem', u'be', u'online', u'phone', u'huawei', u'nova', u'help'], [u'wide', u'variety', u'song', u'high', u'quality', u'music'], [u'be', u'impressed', u'spotify'], [u'awesome'], [u'love'], [u'awesome'], [u'love'], [u'could', u'better'], [u'excellent'], [u'good', u'music'], [u'be', u'bad', u'love'], [u'love', u'could', u'able', u'choose', u'actual', u'song', u'want', u'would', u'perfect', u'be', u'poor', u'buy', u'premium', u'time', u'would', u'play', u'specific', u'song', u'friend', u'could', u'not', u'do', u'not', u'mind', u'limit', u'skip', u'would', u'love', u'pick', u'specific', u'song'], [u'motley', u'crue'], [u'excellent'], [u'spotify', u'great', u'family', u'day'], [u'great', u'do', u'not', u'pay', u'premium', u'late', u'pay', u'be', u'not', u'back', u'absolutely', u'love', u'way', u'listen', u'music'], [u'love'], [u'perfect', u'chillin', u'mode'], [u'love', u'do', u'not', u'listen', u'main', u'stream', u'music', u'anywhere', u'else'], [u'be', u'spotify'], [u'spotify', u'fantastic', u'music', u'huge', u'amount', u'music', u'show', u'new', u'artist', u'never', u'would', u'have', u'find', u'otherwise', u'remind', u'nostalgic', u'time', u'bring', u'back', u'great', u'situation', u'need', u'sweet', u'jam', u'know', u'exactly', u'be', u'look'], [u'wish', u'could', u'listen', u'playlist', u'buy', u'premium'], [u'app', u'keep', u'closing', u'second', u'listen', u'song'], [u'keep', u'crash', u'second', u'play', u'song', u'matter', u'song'], [u'useful', u'enjoying', u'music', u'good', u'variety', u'available'], [u'soon', u'figure', u'file', u'complaint', u'never', u'use', u'thiss', u'time', u'review', u'ad', u'delete', u'do', u'sure', u'shuffle', u'worth', u'delete', u'sccount', u'have', u'encounter', u'huge', u'bug', u'use', u'recreating', u'playlist', u'log', u'new', u'playlist', u'delete', u'want', u'listen', u'ablum', u'video', u'youtube', u'flag', u'flag', u'trash'], [u'make', u'possible', u'live', u'music'], [u'great', u'party', u'trip', u'whatev', u'need'], [u'great', u'stuff'], [u'great', u'especially', u'love', u'music'], [u'many', u'email', u'send', u'listener'], [u'excellent'], [u'many', u'ad', u'poor', u'recommendation', u'algorithm', u'random', u'selective', u'what', u's', u'play', u'example', u'depeche', u'mode', u'base', u'seem', u'think'], [u'book'], [u'wish', u'reset', u'button', u'playlist', u'song'], [u'need', u'help', u'go', u'old', u'fossil', u'new', u'version', u'find', u'spotify', u'play', u'store', u'watch'], [u'word'], [u'disoint', u'new', u'update', u'take', u'radio', u'function', u'much', u'bring', u'old', u'version', u'drop', u'new', u'garbage'], [u'mine', u'music', u'park'], [u'great'], [u'love'], [u'crash', u'second', u'android', u'update'], [], [u'say', u'lication', u'suck'], [u'love', u'best', u'great'], [u'absolutely', u'love', u'spotify'], [u'app', u'force', u'close', u'roughly', u'second', u'playback'], [u'keep', u'add', u'song', u'play', u'list', u'do', u'not', u'know'], [u'nice'], [u'explore', u'type', u'genre', u'music', u'amazing'], [u'dumm'], [u'spotify', u'ufe'], [u'great', u'music', u'service', u'many', u'ad', u'free', u'version', u'can', u'not', u'justify', u'month', u'ad', u'free', u'listening', u'complaint', u'ugly', u'album', u'art', u'play', u'screen', u'go', u'back', u'window', u'mobile', u'look', u'much', u'clean', u'display'], [u'wicked'], [u'do', u'not', u'add', u'whole', u'koutetsujou', u'kabaneri', u'ost', u'blood', u'steam', u'janopan', u'whole', u'ost', u'do', u'not', u'care', u'want', u'song'], [u'great', u'free', u'music'], [u'actually', u'good', u'specially', u'love', u'music', u'much', u'recommend', u'upgrade', u'premium', u'access'], [u'spotify', u'good', u'music', u'good', u'time', u'whenever', u'wherever'], [u'amazing', u'spectacular', u'extraordinary'], [u'allow', u'disable', u'client', u'caching', u'allow', u'high', u'rate', u'plan', u'spotify', u'would', u'expirence', u'double', u'growth', u'year', u'thank'], [u'premium', u'nothing'], [u'crash', u'android', u'update'], [u'good', u'wish', u'do', u'not', u'pay', u'spotify', u'premium'], [u'actually', u'stupid', u'pay', u'play', u'music', u'want', u'instead', u'whatev', u'hell', u'spotify', u'want', u'put', u'playlist'], [u'live', u'favorite', u'song'], [u'love', u'shot'], [u'lication', u'keep', u'shut', u'uninstalled', u'download', u'keep', u'shut', u'take', u'aps', u'page', u'say', u'open'], [u'awesomeness'], [u'work', u'great', u'exactly', u'say'], [u'great', u'music', u'listen', u'tune'], [u'have', u'use', u'spotify', u'almost', u'day', u'year', u'straight', u'student', u'discount', u'can', u'not', u'beat', u'get', u'spotify', u'have', u'really', u'able', u'flesh', u'taste', u'music', u'discover', u'weekly', u'radio', u'recommendation', u'love', u'much'], [u'kmk', u'suka', u'mak', u'sehh'], [u'update', u'crash', u'second', u'constantly'], [u'amazing'], [u'really', u'great', u'streaming', u'music', u'day', u'night', u'convenient', u'playlist', u'wish', u'premium'], [u'useful'], [u'thank', u'music', u'share'], [u'amazing', u'song', u'free'], [u'spotify', u'daily', u'great', u'app'], [u'late', u'update', u'keep', u'stop', u'randomly', u'great', u'round'], [u'would', u'give', u'star', u'bug'], [u'good', u'streaming', u'music', u'often', u'do', u'not', u'connect', u'server', u'say', u'be', u'offline', u'internet', u'connection', u'frustrating', u'bug', u'prohibit', u'main', u'purpose'], [u'awesome'], [u'love', u'able', u'listen', u'wide', u'variety', u'genre', u'amazing', u'music', u'amazing', u'price'], [u'would', u'get', u'star', u'will', u'not', u'remove', u'song', u'even', u'delete', u'play', u'list', u'do', u'not', u'even', u'song', u'alot', u'artist', u'blank', u'can', u'not', u'listen'], [u'sharon', u'michelle', u'walker', u'guillotte', u'love'], [u'totally', u'free', u'everythong', u'say'], [u'awesome'], [u'do', u'not', u'like', u'fact', u'get', u'premium', u'get', u'skip', u'able', u'offline', u'make', u'playlist'], [u'spotify', u'music', u'service', u'get'], [u'awesome'], [u'love'], [u'able', u'choose', u'song', u'premium', u'repelant', u'work'], [u'good', u'music', u'say'], [u'good', u'free', u'music'], [u'good', u'music', u'ever', u'have', u'spotify', u'year', u'use', u'day', u'definitely', u'worth', u'penny'], [u'really', u'good', u'however', u'would', u'like', u'able', u'listen', u'album', u'phone', u'computer', u'able', u'skip', u'song'], [u'loveeree'], [u'great', u'music'], [u'love', u'variety', u'song', u'listen'], [u'lie', u'say', u'minute', u'uninterupted', u'music'], [u'quirk', u'interface', u'great', u'music', u'selection', u'recommendation'], [u'app', u'crash', u'lot', u'almost', u'unbearable', u'have', u'crash', u'time', u'row', u'try', u'play', u'song'], [u'love', u'playlist', u'make', u'favorite', u'artist'], [u'listen', u'spotify', u'day'], [u'advertisement', u'do', u'not', u'sound', u'cap', u'tv', u'prepare', u'ear', u'speaker', u'blow', u'interest'], [u'use', u'free', u'version', u'watch', u'first', u'video', u'ad', u'pretty', u'infrequent', u'hard', u'play', u'specific', u'song', u'sometimes'], [u'frequently', u'crash', u'late', u'update', u'open', u'screen', u'sort', u'asap'], [], [u'spotify', u'awesome'], [u'much', u'good', u'pandora'], [u'useless', u'always', u'crash', u'waste', u'money'], [u'love'], [u'do', u'not', u'buy', u'cds', u'life', u'easy', u'lol'], [u'keep'], [u'have'], [u'amazing'], [], [u'light'], [u'great', u'choose', u'playlist', u'enjoy'], [u'difficult', u'navigate'], [u'love'], [u'start', u'use', u'navigation', u'be', u'not', u'feel', u'comfortable'], [u'do', u'not', u'feel', u'write', u'cool'], [u'good', u'pandora'], [u'really', u'convenient', u'music', u'access', u'love'], [u'spotify', u'else', u'need'], [u'sure', u'hear', u'sound', u'good'], [u'love'], [u'song', u'absolute', u'need', u'listen', u'lot', u'indie', u'stuff', u'also', u'customizable', u'complex', u'music', u'player', u'shuttle', u'example', u'keep', u'freeze', u'several', u'minute', u'button', u'delete', u'song', u'way', u'easily', u'press', u'confirmation', u'need', u'put', u'somewhere', u'way', u'prone', u'accidental', u'press'], [u'good', u'music'], [u'move', u'tidal', u'spotify', u'crash', u'second', u'can', u'not', u'cool', u'consider', u'pay', u'premium'], [u'good', u'music', u'even', u'pay', u'premium', u'enjoy', u'feature', u'worth', u'love', u'playlist', u'feature', u'find', u'lot', u'new', u'artist'], [u'be', u'go', u'rating'], [u'great', u'can', u'not', u'remove', u'spotify', u'premium', u'subscription', u'therefore', u'ill', u'pay', u'something', u'do', u'not', u'much', u'spotify', u'premium', u'perk'], [u'favorite', u'contain', u'song', u'love', u'also', u'allow', u'help', u'idol', u'gain', u'streaming'], [u'class', u'sony', u'phone', u'hook', u'play', u'station', u'tv', u'sweet'], [u'good', u'hear', u'music', u'day'], [u'love'], [u'radio'], [u'always', u'great', u'suggestion'], [u'late', u'update', u'awful', u'playlist', u'be', u'not', u'easy', u'accessibile'], [u'tyvm', u'love'], [u'love'], [u'good', u'music', u'ever', u'use'], [u'love', u'family', u'option', u'enjoy', u'music', u'house'], [u'great', u'youtube', u'concern', u'ad'], [u'think', u'amazing'], [u'many', u'ad', u'good', u'musical', u'choice', u'good', u'sound', u'quality'], [u'spotify'], [u'update', u'today', u'problem', u'view', u'music', u'album', u'choose', u'close', u'go', u'home', u'screen', u'start', u'bad'], [u'good'], [u'good'], [u'crash', u'minute', u'close', u'completely', u'music', u'stop', u'even', u'though', u'keep', u'open', u'crash']]\n"
     ]
    }
   ],
   "source": [
    "data_words_nostops = remove_stopwords(data_words)\n",
    "data_words_bigrams = make_bigrams(data_words_nostops)\n",
    "nlp = spacy.load('en', disable=['parser', 'ner'])\n",
    "data_lemmatized = lemmatization(data_words_bigrams, allowed_postags=['NOUN', 'ADJ', 'VERB', 'ADV'])\n",
    "print(data_lemmatized)"
   ]
  },
  {
   "cell_type": "code",
   "execution_count": 12,
   "metadata": {
    "extensions": {
     "jupyter_dashboards": {
      "version": 1,
      "views": {
       "grid_default": {
        "col": 0,
        "height": 12,
        "hidden": false,
        "row": 24,
        "width": 12
       },
       "report_default": {
        "hidden": false
       }
      }
     }
    },
    "nbpresent": {
     "id": "7f1599be-b3fa-4ed4-b9fc-5695bd8e94e7"
    }
   },
   "outputs": [
    {
     "name": "stdout",
     "output_type": "stream",
     "text": [
      "[[(0, 1), (1, 1)], [(2, 1)], [(3, 2), (4, 1), (5, 1), (6, 1), (7, 1), (8, 1), (9, 1), (10, 1), (11, 1)], [(12, 1), (13, 1), (14, 1), (15, 2), (16, 1), (17, 1), (18, 1), (19, 2), (20, 1), (21, 1), (22, 1), (23, 1), (24, 2), (25, 1), (26, 1), (27, 1), (28, 1), (29, 1), (30, 1), (31, 2)], [(32, 1), (33, 1), (34, 1), (35, 1), (36, 1), (37, 1), (38, 1)], [(39, 1), (40, 1), (41, 1)], [(38, 1), (42, 1), (43, 1), (44, 1), (45, 1), (46, 1)], [(15, 1), (23, 1), (24, 3), (26, 1), (27, 1), (30, 1), (32, 1), (38, 1), (46, 1), (47, 1), (48, 1), (49, 1), (50, 1), (51, 1), (52, 1), (53, 1), (54, 5), (55, 1), (56, 1), (57, 1), (58, 1), (59, 1), (60, 2), (61, 1), (62, 1), (63, 1), (64, 1), (65, 1), (66, 1), (67, 1), (68, 1)], [(42, 1), (69, 1), (70, 1), (71, 1), (72, 1), (73, 1)], [(0, 1)], [(9, 1), (74, 1), (75, 1)], [(23, 1), (76, 1), (77, 1), (78, 1)], [(26, 1), (71, 1), (79, 1), (80, 1), (81, 1)], [(0, 1), (82, 1)], [(26, 1), (42, 1), (73, 1), (79, 1), (82, 1), (83, 1), (84, 1), (85, 1), (86, 1), (87, 1), (88, 1), (89, 1)], [(0, 1), (9, 2), (24, 1), (43, 1), (48, 1), (79, 1), (90, 1)], [(24, 1), (31, 1), (48, 1), (91, 1), (92, 1), (93, 2), (94, 1), (95, 1), (96, 1), (97, 1), (98, 1), (99, 1), (100, 1), (101, 1)], [(9, 1), (102, 1)], [(0, 1), (94, 1), (101, 1), (103, 1), (104, 1), (105, 1)], [(23, 1), (26, 1), (106, 2), (107, 1)], [], [(9, 1), (81, 1)], [(0, 1)], [(26, 1), (108, 1), (109, 1), (110, 1), (111, 1), (112, 1), (113, 1), (114, 1), (115, 1), (116, 1), (117, 1)], [(15, 1), (24, 1), (26, 1), (42, 1), (79, 1), (102, 1), (108, 1), (118, 1), (119, 1), (120, 1), (121, 1), (122, 1), (123, 1), (124, 1), (125, 2), (126, 1), (127, 1), (128, 1)], [(129, 1)], [(71, 1)], [], [(3, 1), (26, 1), (27, 1), (63, 1), (71, 2), (84, 1), (86, 1), (130, 1), (131, 1), (132, 1)], [(133, 1)], [(34, 1), (43, 2), (60, 1), (71, 1), (85, 1), (101, 1), (134, 1), (135, 1)], [(34, 1), (101, 1), (130, 1), (136, 1), (137, 1), (138, 1)], [(9, 1), (42, 1), (125, 1)], [(42, 1), (139, 1)], [(0, 1), (9, 1), (140, 1)], [(0, 1), (9, 1), (135, 1), (141, 1)], [(0, 1), (9, 1), (13, 1), (23, 1), (24, 1), (43, 1), (47, 1), (56, 1), (60, 2), (73, 1), (102, 1), (125, 1), (130, 1), (142, 1), (143, 1), (144, 1), (145, 1), (146, 1), (147, 1), (148, 1)], [(8, 1), (15, 1), (24, 2), (26, 2), (27, 1), (38, 1), (48, 1), (71, 1), (130, 1), (149, 1), (150, 1), (151, 1), (152, 1), (153, 1), (154, 1)], [], [(155, 1)], [(38, 1), (42, 1), (97, 1), (101, 1), (156, 1), (157, 1)], [(42, 1)], [(158, 1)], [(27, 1), (159, 1), (160, 1), (161, 2)], [(42, 1)], [(9, 1), (162, 1), (163, 1), (164, 1), (165, 1)], [(0, 1), (23, 1), (166, 1), (167, 1), (168, 1)], [(0, 1), (9, 1), (89, 1), (169, 1)], [(42, 1), (128, 1), (170, 1), (171, 1), (172, 1)], [(173, 1)], [(26, 1), (27, 1), (30, 1), (34, 1), (37, 1), (48, 1), (60, 1), (77, 1), (93, 1), (101, 1), (148, 1), (174, 1), (175, 1), (176, 1), (177, 1), (178, 1), (179, 1), (180, 1), (181, 2), (182, 1), (183, 1), (184, 1)], [(0, 1), (9, 2), (26, 1), (27, 1), (32, 1), (38, 1), (43, 1), (46, 1), (48, 1), (60, 1), (72, 1), (85, 1), (144, 1), (148, 1), (172, 1), (185, 1), (186, 1), (187, 1), (188, 1), (189, 1), (190, 1), (191, 1), (192, 1), (193, 1), (194, 1), (195, 2), (196, 1), (197, 1), (198, 1), (199, 1)], [(9, 1), (15, 1), (24, 2), (27, 1), (30, 1), (38, 1), (43, 1), (44, 1), (45, 1), (71, 1), (73, 1), (200, 1), (201, 1), (202, 1)], [(129, 1)], [(148, 1), (203, 1), (204, 1), (205, 1), (206, 1), (207, 1)], [(208, 1)], [(0, 1), (26, 1), (151, 1), (209, 1), (210, 1), (211, 1)], [(9, 1)], [(212, 1), (213, 1)], [(0, 1), (9, 1), (38, 1), (42, 1), (81, 1), (214, 1), (215, 1), (216, 1), (217, 1), (218, 1)], [(0, 1), (6, 2), (18, 1), (26, 1), (41, 1), (55, 1), (58, 1), (62, 1), (63, 1), (104, 1), (130, 1), (132, 1), (144, 1), (147, 1), (181, 1), (197, 1), (219, 1), (220, 1), (221, 1), (222, 1), (223, 1), (224, 1), (225, 1), (226, 1), (227, 1), (228, 1), (229, 1), (230, 1), (231, 1), (232, 1), (233, 1), (234, 1), (235, 1), (236, 1)], [(9, 1), (18, 1), (86, 1)], [(9, 1), (58, 1), (125, 1), (168, 1)], [(9, 1), (27, 1), (41, 1), (237, 1), (238, 1)], [(34, 1), (97, 1)], [(0, 1)], [(6, 1), (15, 1), (24, 1), (27, 1), (239, 1), (240, 1), (241, 1)], [(0, 1), (71, 1), (79, 1)], [(0, 1), (6, 1), (9, 1), (15, 1), (24, 1), (42, 1), (43, 1), (79, 2), (102, 1), (135, 1), (214, 1), (242, 1), (243, 1), (244, 1), (245, 1), (246, 1), (247, 1), (248, 1), (249, 1), (250, 1)], [(42, 1)], [(8, 1), (9, 1), (71, 1), (109, 1)], [(81, 1), (91, 1), (251, 1), (252, 1), (253, 1)], [(15, 1), (24, 1), (26, 1), (34, 2), (93, 1), (181, 1), (254, 1), (255, 1), (256, 1), (257, 1), (258, 1)], [(9, 1), (15, 2), (24, 2), (27, 1), (58, 1), (71, 1), (125, 1), (145, 1), (240, 1), (259, 1), (260, 1), (261, 1), (262, 1), (263, 1), (264, 1), (265, 1), (266, 1), (267, 1)], [(71, 1)], [(155, 1)], [(42, 1), (102, 1), (268, 1)], [(71, 1)], [(6, 1), (9, 2), (15, 1), (23, 1), (24, 1), (25, 1), (26, 1), (38, 1), (47, 1), (58, 2), (63, 1), (71, 1), (131, 1), (132, 1), (151, 1), (164, 1), (200, 1), (240, 2), (258, 1), (269, 1), (270, 1), (271, 1), (272, 1), (273, 1), (274, 1)], [(71, 1), (275, 1)], [(8, 1), (42, 1), (109, 1), (276, 1)], [(3, 2), (9, 2), (18, 1), (23, 1), (277, 1)], [(9, 1), (15, 1), (23, 2), (24, 2), (27, 3), (41, 1), (42, 1), (49, 1), (130, 1), (139, 1), (198, 1), (229, 1), (278, 2), (279, 1), (280, 2)], [(0, 1), (281, 1)], [(22, 1), (75, 1)], [(0, 1)], [(0, 1), (3, 1), (282, 1), (283, 1)], [(284, 1)], [(9, 1), (33, 1), (84, 1), (285, 1)], [(9, 1), (71, 1), (130, 1), (286, 1)], [(0, 1), (287, 1), (288, 1), (289, 1)], [(15, 1), (24, 2), (48, 1), (123, 1), (128, 1), (145, 1), (171, 1), (172, 1), (244, 1), (245, 1), (254, 1), (258, 1), (290, 1), (291, 1), (292, 1), (293, 1)], [(0, 1), (151, 1), (294, 1)], [(0, 1), (9, 1), (11, 1), (71, 1), (295, 1)], [(16, 1), (151, 1), (296, 1), (297, 1), (298, 1)], [(299, 1), (300, 1)], [(38, 1), (47, 1), (79, 1), (301, 1), (302, 1)], [(26, 1), (86, 1), (303, 1)], [(9, 1), (27, 1), (71, 1), (156, 1), (181, 1), (304, 1), (305, 1), (306, 1), (307, 1)], [(9, 1), (23, 2), (26, 1), (34, 1), (42, 1), (57, 1), (101, 1), (130, 1), (156, 1), (293, 1), (308, 1), (309, 1), (310, 1), (311, 1)], [(6, 1), (15, 1), (24, 2), (27, 1), (30, 1), (34, 2), (48, 1), (49, 1), (60, 1), (72, 1), (93, 2), (97, 1), (101, 1), (104, 1), (176, 1), (228, 1), (312, 1), (313, 1), (314, 1), (315, 1), (316, 1), (317, 2), (318, 1), (319, 1), (320, 1), (321, 1), (322, 1), (323, 1), (324, 1), (325, 1), (326, 1)], [(27, 1), (71, 1)], [(21, 1), (26, 1), (94, 1), (101, 1), (104, 2), (181, 1), (228, 1), (327, 1), (328, 1), (329, 1), (330, 1), (331, 1)], [(15, 1), (24, 1), (154, 1), (197, 1)], [(0, 1), (9, 1), (42, 1), (79, 2), (81, 1), (135, 1), (231, 1), (258, 1), (332, 1), (333, 1), (334, 1), (335, 1)], [(9, 1), (15, 1), (22, 1), (24, 2), (58, 1), (70, 1), (109, 1), (305, 1), (336, 1), (337, 1), (338, 2)], [(339, 1), (340, 1), (341, 1), (342, 1), (343, 1), (344, 1), (345, 1), (346, 1), (347, 2), (348, 1), (349, 1), (350, 1), (351, 1), (352, 1), (353, 1), (354, 1), (355, 1), (356, 1), (357, 1)], [(42, 1)], [(24, 1), (49, 1), (358, 1)], [(125, 1)], [(3, 1), (8, 1), (18, 1), (23, 1), (26, 1), (45, 1), (58, 1), (131, 1), (359, 1), (360, 1)], [(151, 1), (185, 1), (361, 1), (362, 1), (363, 1), (364, 1), (365, 1)], [(0, 1), (146, 1), (366, 1), (367, 1), (368, 1), (369, 1), (370, 1), (371, 1), (372, 1), (373, 1), (374, 1)], [(15, 1), (24, 1), (27, 1), (42, 1), (71, 1), (102, 1), (240, 1), (375, 1), (376, 1), (377, 1)], [(9, 1), (23, 1), (34, 1), (130, 1), (181, 1), (378, 1)], [(9, 1), (42, 2)], [(48, 1), (60, 1), (97, 1), (101, 1), (104, 1), (138, 1), (256, 1), (368, 1), (379, 1), (380, 1)], [(48, 1), (60, 1), (97, 1), (101, 1), (104, 1), (138, 1), (256, 1), (368, 1), (379, 1), (380, 1)], [(0, 1), (42, 1), (46, 1)], [(145, 1), (277, 1), (381, 1)], [(71, 2), (131, 1)], [(26, 1), (27, 1), (34, 1), (60, 1), (96, 1), (97, 1), (256, 1), (359, 1), (382, 1)], [(42, 1)], [(34, 1), (93, 1), (101, 1), (138, 1), (219, 1)], [(23, 1), (26, 1), (31, 1), (337, 1), (364, 2), (383, 1)], [(103, 1), (328, 1)], [(0, 1), (25, 1), (26, 1), (93, 1), (109, 1), (130, 1), (131, 1), (181, 1)], [(129, 1), (384, 5)], [(385, 1)], [(0, 1), (9, 1), (363, 1)], [(11, 1), (48, 1), (60, 1), (76, 1), (109, 1), (148, 1), (318, 1), (377, 1), (386, 1), (387, 1), (388, 1), (389, 1)], [(27, 1), (33, 1), (34, 1), (42, 1), (310, 1), (390, 1), (391, 1), (392, 1), (393, 1)], [(93, 1), (394, 1)], [(9, 1), (21, 1), (23, 1), (31, 1), (125, 1), (130, 1)], [(155, 1)], [(6, 1), (13, 1), (26, 1), (84, 1), (130, 1), (131, 1), (151, 1), (164, 1), (202, 1), (272, 1), (359, 1), (395, 2), (396, 1)], [(3, 1), (8, 1), (26, 1), (47, 1), (168, 1), (249, 1), (394, 1)], [(26, 1), (34, 1), (37, 1), (47, 1), (58, 2), (100, 1), (101, 1), (319, 1), (397, 1), (398, 1), (399, 1), (400, 1), (401, 1)], [(0, 1), (258, 1)], [(6, 1), (8, 1), (21, 1), (24, 1), (48, 1), (86, 1), (105, 1), (131, 1), (301, 1), (318, 1), (402, 1), (403, 1), (404, 1), (405, 1)], [(109, 1), (181, 1), (337, 1)], [(0, 1), (9, 2), (33, 1), (48, 1), (80, 1), (93, 1), (313, 1), (394, 1), (406, 1)], [(258, 1), (407, 1), (408, 1)], [(0, 1), (42, 1), (71, 1), (78, 1), (93, 1), (190, 1), (219, 1), (362, 1), (409, 1)], [(3, 1), (9, 2), (13, 1), (15, 1), (23, 1), (24, 1), (26, 1), (71, 1), (75, 1), (151, 1), (171, 1), (186, 1), (235, 1), (256, 1), (258, 1), (410, 1), (411, 2), (412, 1), (413, 1), (414, 1), (415, 1), (416, 1), (417, 1), (418, 1), (419, 1), (420, 1), (421, 1), (422, 1)], [(0, 1), (9, 1), (60, 1), (81, 1), (90, 1), (117, 1), (151, 1), (199, 1), (241, 1), (423, 1)], [(71, 1)], [(129, 1), (424, 1)], [(26, 1), (181, 1), (394, 1)], [(26, 1), (27, 2), (28, 1), (41, 1), (50, 1), (71, 1), (93, 1), (181, 1), (199, 1), (228, 1), (318, 1), (425, 1), (426, 1), (427, 1), (428, 1), (429, 2), (430, 1), (431, 1)], [(9, 1), (15, 1), (23, 1), (24, 3), (26, 1), (41, 1), (42, 1), (48, 1), (49, 2), (56, 1), (71, 1), (135, 1), (148, 1), (151, 1), (154, 1), (256, 2), (288, 1), (406, 1), (417, 1), (432, 1), (433, 1), (434, 1), (435, 1), (436, 1)], [(6, 1), (26, 1), (90, 1), (150, 1), (167, 1), (199, 1), (329, 1)], [(23, 1), (26, 1), (30, 1), (34, 1), (437, 1), (438, 1)], [(71, 1)], [(0, 1), (9, 1), (15, 1), (22, 1), (24, 1), (31, 1), (58, 1), (70, 1), (73, 1), (109, 1), (144, 1), (148, 1), (195, 1), (200, 1), (378, 1), (439, 1), (440, 1), (441, 1), (442, 1), (443, 1), (444, 1)], [(445, 1)], [(445, 1)], [(101, 1), (446, 1)], [(0, 1), (9, 1)], [(281, 1), (305, 1), (447, 1), (448, 1)], [(449, 1), (450, 1)], [(42, 1), (451, 1)], [], [(3, 1), (26, 1), (57, 1), (58, 1), (113, 1), (186, 1), (195, 1), (262, 1), (279, 1), (452, 1), (453, 1)], [(23, 1), (26, 1), (86, 1), (214, 1), (386, 1)], [(155, 1)], [(0, 1)], [(9, 1), (26, 1), (32, 1), (33, 1), (34, 1), (53, 1), (70, 1), (83, 1), (171, 1), (198, 1), (223, 1), (434, 1), (454, 1), (455, 1), (456, 1), (457, 1), (458, 1), (459, 1), (460, 1), (461, 1)], [(42, 1)], [(9, 2), (15, 1), (23, 1), (24, 1), (26, 1), (27, 1), (31, 1), (42, 1), (71, 1), (75, 1), (76, 1), (161, 1), (273, 1), (386, 1), (462, 1), (463, 1), (464, 1)], [(71, 1), (465, 1)], [(284, 1)], [(9, 2), (11, 1), (23, 1), (41, 1), (71, 1), (147, 1), (200, 1), (241, 1), (243, 1), (254, 1), (256, 1), (258, 1), (414, 1), (466, 1), (467, 1)], [(320, 1), (339, 1), (344, 3), (346, 2), (351, 2), (354, 3), (356, 1), (468, 1), (469, 1), (470, 1), (471, 1), (472, 1), (473, 1), (474, 1), (475, 1), (476, 1), (477, 1), (478, 1), (479, 1), (480, 1), (481, 1), (482, 1), (483, 1), (484, 1), (485, 1), (486, 1), (487, 1), (488, 1), (489, 1), (490, 1), (491, 2), (492, 1), (493, 1), (494, 1), (495, 1), (496, 1), (497, 1), (498, 1), (499, 2), (500, 1), (501, 1), (502, 1), (503, 2), (504, 1), (505, 2), (506, 1), (507, 1), (508, 1), (509, 1), (510, 1), (511, 1), (512, 1), (513, 1), (514, 1), (515, 1), (516, 1), (517, 1), (518, 1), (519, 1), (520, 1), (521, 1), (522, 1), (523, 1), (524, 1), (525, 1), (526, 1), (527, 1), (528, 4)], [(15, 1), (24, 1), (78, 1), (151, 1), (320, 1), (337, 1)], [(42, 1), (213, 1), (258, 1), (427, 1), (529, 1), (530, 1), (531, 1)], [(16, 1)], [(9, 1), (22, 1), (26, 1), (42, 1), (75, 1), (93, 2), (105, 2), (130, 1), (200, 1), (335, 1), (400, 1), (432, 1), (532, 1), (533, 1), (534, 1), (535, 1), (536, 1), (537, 1)], [(0, 1), (283, 1), (538, 1)], [(129, 1)], [(0, 1), (9, 1), (26, 2), (34, 1), (48, 1), (94, 1), (101, 1), (151, 1), (328, 1), (461, 1), (539, 1)], [(0, 1)], [(71, 1)], [(26, 1), (58, 1), (71, 1), (130, 1), (303, 1)], [(540, 1)], [(155, 1)], [(26, 1), (27, 1), (47, 1), (71, 1), (79, 1)], [(34, 1), (102, 1)], [(71, 1)], [(71, 1)], [(0, 2), (541, 1)], [(71, 1)], [(0, 1), (23, 1), (438, 1), (542, 1)], [(27, 1), (71, 1)], [(93, 1), (543, 1)], [(9, 1), (139, 1), (544, 1)], [(71, 1), (76, 1)], [(27, 1), (48, 1), (84, 1), (93, 1), (109, 1), (323, 1), (545, 1), (546, 1), (547, 1), (548, 1), (549, 1), (550, 1), (551, 1), (552, 1), (553, 1), (554, 1), (555, 1), (556, 1), (557, 1), (558, 1)], [(26, 1), (27, 1), (71, 1), (80, 1), (94, 1), (101, 1), (104, 1), (228, 1), (393, 1), (559, 1)], [(9, 1), (33, 1), (34, 1), (93, 1), (181, 1), (461, 1)], [(15, 2), (24, 2), (31, 1), (33, 1), (34, 1), (78, 1), (101, 1), (178, 1), (219, 1), (254, 1), (256, 1), (293, 1), (305, 1)], [(6, 1), (9, 2), (23, 2), (24, 2), (27, 1), (34, 1), (47, 2), (49, 1), (53, 1), (58, 1), (60, 1), (72, 1), (78, 1), (94, 1), (100, 1), (101, 2), (131, 1), (202, 1), (496, 1), (560, 1), (561, 1), (562, 1), (563, 1), (564, 1), (565, 1)], [(27, 1), (73, 1), (138, 1), (231, 1), (566, 1), (567, 1)], [], [(9, 1), (24, 1), (26, 1), (27, 1), (41, 1), (43, 1), (48, 1), (49, 1), (53, 1), (58, 1), (97, 1), (101, 1), (104, 1), (111, 1), (202, 1), (242, 1), (254, 1), (256, 1), (281, 1), (293, 1), (563, 1), (568, 1), (569, 1)], [(9, 1), (45, 1), (71, 1), (125, 1), (262, 1), (570, 1), (571, 1)], [(254, 1), (256, 1), (297, 1), (572, 1), (573, 1), (574, 1), (575, 1)], [(3, 1), (24, 1), (26, 1), (45, 1), (48, 1), (58, 1), (60, 1), (281, 1), (328, 1), (383, 1), (439, 1), (466, 1), (576, 1)], [(129, 1)], [(27, 1), (71, 1)], [(9, 1), (26, 1), (34, 1), (58, 1), (93, 1), (112, 1), (126, 1), (305, 1), (322, 1), (324, 1), (438, 1), (461, 1), (577, 1), (578, 1), (579, 1)], [(9, 2), (13, 1), (15, 1), (18, 1), (24, 1), (27, 1), (34, 3), (43, 1), (46, 1), (58, 2), (60, 1), (67, 1), (71, 1), (75, 1), (80, 1), (97, 1), (100, 1), (148, 1), (168, 1), (210, 1), (228, 1), (304, 1), (396, 1), (406, 1), (559, 1), (576, 1), (580, 1), (581, 1), (582, 1), (583, 1), (584, 1), (585, 1), (586, 1), (587, 1)], [(0, 1), (9, 1), (305, 1)], [(0, 1), (9, 1), (71, 1), (582, 1), (588, 1), (589, 1)], [(199, 1), (324, 1), (417, 1), (590, 1)], [(151, 1)], [(9, 1), (31, 2), (58, 1), (71, 1)], [(0, 1), (591, 1)], [(9, 1), (71, 1)], [(42, 1), (51, 1), (125, 1), (592, 1)], [(42, 1)], [(0, 2), (9, 1), (47, 1), (216, 1), (531, 1), (561, 1)], [(71, 1)], [(15, 2), (24, 2), (26, 1), (121, 1), (131, 1), (323, 1), (441, 1)], [(9, 1), (155, 1), (593, 1)], [(34, 1), (38, 1), (43, 1), (48, 1), (71, 1), (78, 1), (94, 1), (101, 1), (181, 2), (310, 1), (336, 1), (368, 1), (421, 1), (594, 1), (595, 1), (596, 1), (597, 1), (598, 1), (599, 1), (600, 1), (601, 1), (602, 1), (603, 1), (604, 1), (605, 1)], [(0, 1), (9, 1)], [(27, 1), (219, 1), (393, 1), (606, 1)], [(26, 1), (48, 1), (57, 1), (58, 1), (59, 1), (63, 1), (68, 1), (78, 1), (101, 1), (104, 1), (108, 1), (138, 1), (254, 1), (256, 1)], [(393, 1)], [(305, 1), (607, 1)], [(0, 1), (60, 1), (297, 1), (428, 1)], [(18, 1), (60, 1), (130, 1), (197, 1), (199, 1), (214, 1), (578, 1), (608, 1), (609, 1)], [(9, 1), (23, 1), (27, 1), (30, 1), (48, 1), (104, 1), (179, 1), (261, 1), (610, 1), (611, 1), (612, 1), (613, 1)], [(71, 1)], [(0, 1), (26, 1), (282, 1)], [(23, 1), (26, 1), (31, 1), (72, 1)], [(26, 1), (41, 1)], [(35, 1)], [(9, 1), (27, 1), (200, 1), (288, 1), (614, 1)], [], [(615, 1)], [(27, 1), (60, 1), (129, 1)], [(151, 1), (616, 1)], [(393, 1), (617, 1)], [(23, 1), (26, 1), (34, 1), (58, 1), (71, 1), (78, 1), (97, 1), (101, 1), (156, 1), (176, 1), (288, 2), (327, 1), (429, 1), (583, 1), (585, 1), (618, 1)], [(0, 1), (619, 1)], [(41, 1), (121, 1), (333, 1), (620, 1), (621, 1), (622, 1), (623, 1)], [(24, 1), (27, 1), (34, 1), (38, 1), (49, 1), (58, 1), (71, 1), (93, 1), (176, 1), (591, 1), (624, 1), (625, 1)], [(9, 6), (15, 1), (24, 3), (25, 4), (26, 2), (31, 2), (49, 2), (58, 3), (86, 1), (96, 1), (109, 2), (117, 1), (131, 2), (258, 1), (326, 1), (364, 1), (411, 1), (559, 1), (577, 1), (626, 1), (627, 1), (628, 1), (629, 1), (630, 1), (631, 1), (632, 1)], [(9, 1), (15, 2), (18, 1), (22, 1), (23, 1), (24, 2), (26, 3), (58, 2), (73, 1), (241, 1), (633, 1), (634, 1)], [(71, 1)], [(9, 1), (635, 1), (636, 1)], [(0, 1), (15, 1), (18, 1), (24, 1), (27, 1), (58, 1), (151, 1), (240, 1), (336, 1)], [(24, 1), (41, 1), (49, 1), (75, 1), (181, 1), (358, 1), (544, 1)], [(446, 1), (637, 1)], [(9, 1), (23, 1), (71, 1), (108, 1), (638, 1)], [(9, 1), (21, 1), (23, 1), (26, 2), (27, 1), (31, 1), (71, 1), (79, 1), (81, 1), (423, 1), (639, 1), (640, 1), (641, 1), (642, 1)], [(23, 1), (30, 1), (48, 1), (104, 1), (197, 1), (302, 1), (643, 1)], [(9, 1), (75, 1), (169, 1)], [(41, 1), (71, 1)], [(6, 1), (60, 1), (644, 1), (645, 1), (646, 1)], [(41, 1), (311, 1), (386, 1), (647, 1)], [(365, 1)], [(3, 1), (15, 1), (23, 1), (24, 1), (42, 1), (60, 1), (103, 1), (229, 1), (359, 1)], [(71, 1)], [(648, 1)], [(71, 1)], [(15, 1), (24, 1), (25, 1), (26, 1), (56, 1), (58, 1), (71, 1), (109, 1), (303, 1)], [(26, 1), (27, 1), (37, 1), (38, 1), (48, 1), (58, 1), (92, 1), (100, 1), (176, 1), (228, 1), (301, 1), (311, 1), (315, 1), (359, 1), (397, 1), (557, 1), (579, 1), (595, 1), (646, 1), (649, 1), (650, 1), (651, 1), (652, 1), (653, 1), (654, 1)], [(27, 1), (43, 1), (71, 1)], [(15, 1), (21, 1), (24, 2), (42, 1), (49, 1), (79, 1), (86, 1), (121, 2), (154, 1), (396, 1), (655, 1)], [(71, 1)], [(15, 1), (23, 1), (24, 1), (26, 1), (27, 1), (51, 1), (73, 1), (131, 1), (293, 1), (461, 1), (593, 1), (656, 1), (657, 1), (658, 1), (659, 1)], [(34, 1), (93, 1), (112, 1), (151, 1), (156, 1), (219, 1), (660, 1)], [(27, 1), (81, 1), (130, 1), (214, 1), (319, 1), (461, 1), (644, 1), (661, 1)], [(35, 1)], [(0, 1), (41, 1), (73, 1), (109, 1), (164, 1), (662, 1)], [(301, 1), (663, 1)], [(34, 1), (53, 1), (417, 1), (664, 1), (665, 1), (666, 1)], [(667, 1)], [(129, 1), (668, 1)], [(386, 1)], [(18, 2), (27, 1), (181, 1), (214, 1), (281, 1), (591, 1)], [(155, 1)], [(9, 1), (669, 1)], [(129, 1)], [(386, 1), (634, 1)], [(26, 1), (181, 1), (394, 1), (670, 1)], [], [(0, 2), (58, 1), (76, 1), (167, 1), (168, 1), (199, 2), (231, 1), (282, 1), (303, 1), (432, 1), (435, 2), (644, 1), (671, 1), (672, 1), (673, 1)], [(73, 1), (386, 1)], [(13, 1), (15, 2), (24, 2), (26, 2), (31, 1), (55, 1), (56, 1), (75, 1), (101, 1), (103, 1), (104, 1), (130, 2), (138, 1), (303, 1), (336, 1), (396, 1), (439, 1), (673, 1), (674, 1), (675, 1), (676, 1), (677, 2), (678, 1), (679, 1)], [(0, 1), (26, 1), (27, 1), (359, 1), (680, 1), (681, 1), (682, 1), (683, 1)], [(174, 1), (684, 1)], [(34, 1), (93, 1), (94, 1), (101, 1)], [(78, 1), (155, 1), (214, 1), (557, 1)], [(34, 1), (97, 1), (197, 1), (302, 1), (685, 1)], [(0, 1), (9, 1), (23, 1), (320, 1), (429, 1)], [(30, 1), (71, 1), (145, 1), (151, 1), (293, 1), (386, 1), (458, 1), (608, 1), (625, 1), (686, 1), (687, 1), (688, 1), (689, 1)], [(0, 1), (9, 1), (18, 1), (26, 1), (37, 1), (38, 1), (48, 3), (60, 1), (73, 1), (101, 3), (110, 1), (121, 1), (149, 1), (164, 1), (180, 1), (254, 1), (279, 1), (302, 1), (359, 1), (396, 2), (411, 1), (439, 1), (543, 1), (573, 1), (676, 1), (680, 1), (690, 1), (691, 1), (692, 1), (693, 1), (694, 1), (695, 1), (696, 1), (697, 1)], [(0, 1), (9, 1), (82, 1)], [(34, 1), (71, 1), (97, 1), (101, 1), (256, 1), (698, 1), (699, 1)], [(0, 1), (700, 1)], [(23, 1), (26, 1), (93, 1), (94, 1), (97, 1), (100, 1), (101, 1), (176, 1), (195, 1), (359, 1), (444, 1)], [(0, 1), (72, 1)], [(101, 2), (701, 1), (702, 1), (703, 1), (704, 1), (705, 1), (706, 1), (707, 1), (708, 1), (709, 1)], [(26, 1), (34, 2), (38, 1), (48, 1), (58, 1), (85, 1), (97, 1), (101, 1), (138, 1), (151, 1), (176, 1), (181, 1), (202, 1), (228, 1), (281, 1), (710, 1)], [(34, 1), (97, 1), (101, 1), (156, 1)], [(15, 1), (23, 1), (24, 1), (27, 2), (31, 1), (60, 3), (100, 1), (109, 2), (145, 1), (269, 1), (381, 1)], [(137, 1), (266, 1)], [(34, 1), (53, 1), (93, 1), (94, 1), (97, 1), (101, 1)], [(24, 1), (49, 1), (358, 1)], [(42, 1), (109, 1), (434, 1), (711, 1), (712, 1)], [(93, 1), (104, 1), (713, 1)], [(343, 1), (346, 1), (714, 1), (715, 1), (716, 1), (717, 1), (718, 1)], [(18, 1), (24, 1), (26, 1), (49, 1), (208, 1), (320, 1)], [(71, 1)], [(71, 1)], [(6, 1), (18, 1), (26, 1), (101, 1), (178, 1), (261, 1), (719, 1)], [(386, 1)], [(88, 1), (188, 1), (303, 1), (594, 1), (720, 1)], [(34, 1), (97, 1), (421, 1)], [(148, 1), (204, 1), (531, 1), (721, 1)], [(42, 1), (134, 1), (181, 1), (411, 1), (458, 1), (601, 1), (722, 1), (723, 1), (724, 1), (725, 1)], [(726, 1)], [(15, 1), (24, 1), (240, 1)], [(81, 1)], [(0, 1), (7, 1), (9, 3), (23, 3), (24, 1), (26, 1), (49, 1), (82, 1), (214, 1), (396, 1), (412, 1), (413, 1), (710, 1), (727, 1), (728, 1), (729, 1), (730, 1), (731, 1), (732, 1), (733, 1)], [], [(0, 1), (9, 1), (27, 1), (239, 1)], [(42, 1)], [(9, 1), (214, 1), (412, 1)], [(15, 1), (24, 1), (43, 1), (46, 1), (58, 1), (70, 1), (109, 1), (258, 1), (364, 1), (386, 1), (441, 1), (517, 1), (734, 1), (735, 1)], [(9, 1), (31, 1), (71, 1), (72, 1), (239, 1), (240, 1), (736, 1)], [(737, 1)], [(0, 1), (9, 1), (27, 2), (143, 1), (156, 1), (249, 1), (258, 1), (269, 1), (317, 1), (386, 1), (582, 1), (738, 1)], [(42, 1)], [(31, 1), (62, 1), (168, 1), (739, 1), (740, 2), (741, 1)], [(9, 1), (23, 1), (27, 1), (81, 1), (146, 1), (181, 1), (402, 1), (432, 1), (657, 1), (742, 1), (743, 1), (744, 1), (745, 1), (746, 2), (747, 2), (748, 2)], [(125, 1)], [(0, 1), (362, 1)], [(214, 1)], [(71, 1)], [(9, 2), (24, 1), (27, 1), (31, 1), (49, 1), (79, 1), (131, 1), (199, 1), (386, 1), (416, 1), (607, 1)], [(9, 1), (15, 1), (24, 1), (42, 1), (56, 1), (58, 1), (320, 1), (417, 1), (749, 1), (750, 1), (751, 1)], [(71, 1), (386, 1)], [(8, 1), (15, 1), (24, 1), (48, 1), (72, 1), (326, 1), (359, 1), (601, 1), (678, 1), (752, 1), (753, 1), (754, 1), (755, 1)], [(129, 1)], [(24, 1), (34, 1), (49, 1), (101, 1), (156, 1), (228, 1), (534, 1), (613, 1)], [(417, 1)], [(26, 1), (71, 1), (262, 1)], [(71, 1)], [(208, 1)], [(129, 1)], [(58, 1), (94, 1), (97, 1), (101, 1), (104, 1), (288, 1), (412, 1), (756, 1)], [(26, 1), (34, 1), (72, 1), (94, 1), (96, 1), (97, 1), (101, 1), (285, 1), (730, 1), (757, 1), (758, 1), (759, 1)], [(195, 1), (208, 1)], [(0, 1), (130, 1), (305, 1), (424, 1)], [(0, 1)], [(0, 1)], [(155, 1)], [(0, 1), (281, 1)], [(82, 1), (302, 1)], [(305, 1), (607, 1)], [(760, 1)], [(15, 1), (18, 1), (24, 2), (28, 1), (41, 1), (49, 1), (761, 1), (762, 1), (763, 1), (764, 1), (765, 1), (766, 1), (767, 1), (768, 1)], [(26, 1), (34, 1), (58, 1), (93, 1), (94, 1), (97, 1), (101, 1), (130, 1), (562, 1), (638, 1), (769, 1)], [(553, 1)], [(75, 1), (634, 1)], [(9, 1), (41, 1), (305, 1)], [(0, 1), (27, 1), (58, 1), (71, 1), (97, 1), (101, 1), (157, 1), (179, 1), (256, 1), (293, 1), (406, 1), (576, 1), (770, 1)], [(6, 1), (84, 1), (93, 1), (131, 1), (149, 1), (228, 1), (393, 1), (692, 1), (771, 1), (772, 1)], [(0, 1), (9, 1), (773, 1)], [(0, 1)], [(9, 2), (12, 1), (23, 2), (24, 1), (27, 1), (34, 1), (48, 1), (49, 1), (60, 1), (81, 1), (93, 1), (130, 1), (145, 1), (242, 1), (256, 1), (258, 1), (535, 1), (774, 1), (775, 1)], [(27, 1), (257, 1)], [(42, 1), (71, 1), (81, 1)], [(9, 1), (15, 1), (24, 1), (34, 1), (692, 1), (776, 1)], [(191, 1), (320, 1)], [(2, 1), (82, 1), (90, 1), (170, 1), (199, 1)], [(24, 1), (49, 1), (75, 1), (76, 1)], [(27, 1), (77, 1), (181, 1), (777, 1)], [(0, 1), (24, 1), (67, 1), (97, 1), (228, 1), (302, 1), (565, 1), (578, 1), (778, 1)], [(300, 1)], [(13, 1), (24, 1), (26, 2), (49, 1), (58, 4), (60, 1), (94, 1), (97, 1), (100, 1), (101, 1), (148, 1), (179, 1), (181, 1), (364, 1), (434, 1), (456, 1), (573, 1), (585, 1), (779, 1), (780, 1), (781, 1), (782, 1)], [(73, 1), (181, 1), (250, 1)], [(24, 1), (49, 1), (130, 1), (254, 1), (256, 1), (467, 1), (783, 1), (784, 1), (785, 1), (786, 1)], [(71, 1)], [(386, 1), (787, 1), (788, 1)], [(0, 1), (736, 1)], [(27, 1), (71, 1), (301, 1), (458, 1)], [(76, 1), (121, 1), (125, 1), (742, 1), (789, 1), (790, 1), (791, 1)], [(31, 1), (93, 1), (97, 1), (313, 1), (336, 1), (417, 1), (625, 1)], [(0, 1)], [(9, 1), (24, 1), (27, 1), (38, 1), (41, 1), (42, 1), (48, 1), (70, 1), (71, 1), (80, 1), (88, 1), (406, 1), (678, 1), (775, 1), (792, 1), (793, 1), (794, 1)], [(71, 1)], [(34, 1), (93, 1), (97, 1), (101, 1), (179, 1), (219, 1), (795, 1)], [(284, 1)], [(0, 1), (796, 1), (797, 1)], [], [(798, 1)], [(9, 1), (42, 1), (71, 1), (102, 1), (151, 1), (616, 1)], [(30, 1)], [(0, 1), (9, 1), (214, 1)], [(35, 1)], [(78, 1), (93, 1), (256, 1), (293, 1), (394, 1), (625, 1), (799, 1)], [(3, 1), (379, 1), (572, 1)], [(0, 1), (38, 1), (80, 1), (234, 1), (393, 1), (800, 1), (801, 1)], [(9, 1), (42, 1), (51, 1), (55, 1), (56, 1), (71, 1), (81, 1), (130, 1), (131, 1), (144, 1), (199, 1), (258, 1), (274, 1), (304, 1), (323, 1), (424, 1), (593, 1), (770, 1), (802, 1)], [(181, 1), (284, 1)], [(71, 1)], [(42, 1)], [(3, 1), (42, 1), (214, 1), (358, 1), (803, 1)], [(71, 1), (284, 1), (804, 1)], [(0, 1), (9, 1), (23, 1), (125, 1)], [(0, 1), (78, 1), (93, 1), (145, 1), (151, 1), (561, 1), (805, 1), (806, 1), (807, 1), (808, 1)], [(572, 1)], [(34, 1), (75, 1), (97, 1), (181, 2), (242, 1), (336, 1)], [(19, 1), (305, 1), (553, 1), (809, 2), (810, 1)], [(71, 1)], [(788, 1)], [(35, 1)], [(42, 1), (250, 1)], [(0, 1), (30, 1), (34, 1), (38, 1), (46, 1), (75, 1), (93, 1), (145, 1), (157, 1), (228, 1), (231, 1), (429, 1), (458, 1), (534, 1), (583, 1), (811, 1), (812, 1), (813, 1), (814, 1), (815, 1), (816, 1)], [(531, 1), (572, 1)], [(0, 1), (9, 1), (30, 1), (38, 2), (41, 1), (53, 1), (72, 1), (84, 3), (123, 1), (161, 2), (377, 1), (771, 1), (817, 2)], [(6, 1), (9, 1), (15, 1), (24, 1), (58, 1)], [(674, 1), (818, 1)], [(34, 1), (282, 1), (583, 1)], [(56, 1), (199, 1), (553, 1)], [(9, 1), (84, 1), (125, 1), (281, 1), (461, 1), (572, 1)], [(0, 2)], [(71, 12), (102, 1), (819, 1), (820, 1), (821, 1), (822, 1)], [(0, 1), (18, 1), (126, 1), (151, 1), (256, 1), (293, 1), (359, 1), (725, 1), (823, 1), (824, 1)], [(0, 1), (41, 1)], [(24, 1), (27, 1), (58, 1), (84, 1), (199, 1), (243, 1), (254, 1), (439, 1), (825, 1), (826, 1)], [(26, 1), (27, 1), (30, 1), (48, 1), (72, 1), (96, 1), (97, 1), (100, 1), (219, 1), (310, 1), (827, 1)], [(27, 1)], [(9, 1), (23, 1), (305, 1), (607, 1)], [(60, 1), (281, 1), (345, 1), (828, 2), (829, 1), (830, 1), (831, 1), (832, 1), (833, 1), (834, 1), (835, 1), (836, 1), (837, 1), (838, 1), (839, 1)], [(0, 1)], [(9, 1), (151, 1), (679, 1), (840, 1), (841, 1)], [(15, 1), (24, 1), (78, 1), (144, 1)], [(18, 1), (34, 1), (93, 1), (97, 1), (101, 1), (179, 1), (219, 1), (625, 1), (755, 1), (842, 1)], [(94, 1), (100, 1), (101, 1), (176, 1), (359, 1), (843, 1)], [(27, 1), (129, 1)], [(0, 1), (9, 1), (13, 2), (15, 1), (24, 1), (26, 1), (58, 1), (63, 1), (73, 1), (98, 1), (130, 1), (131, 1), (844, 1), (845, 1), (846, 1), (847, 1), (848, 1)], [(0, 1)], [(6, 1), (26, 2), (31, 2), (81, 1), (91, 1), (131, 1), (144, 1), (231, 1), (336, 1), (426, 1), (849, 1), (850, 1), (851, 1), (852, 1), (853, 2), (854, 1)], [(155, 1)], [(58, 1), (100, 1), (359, 1), (429, 1), (679, 1), (825, 1)], [(213, 1), (531, 1), (587, 1)], [(26, 1), (229, 1), (386, 1), (441, 1), (855, 1), (856, 1), (857, 1)], [(11, 1), (128, 1)], [(26, 1), (42, 1), (58, 1), (104, 2), (559, 1), (643, 1), (858, 1), (859, 1)], [(34, 1), (93, 1), (181, 1), (330, 1)], [(34, 1), (93, 1), (101, 1)], [(155, 1), (234, 1)], [(155, 1)], [(26, 1), (42, 1), (129, 1), (669, 1), (774, 1), (860, 1), (861, 1)], [(15, 1), (21, 1), (24, 1), (26, 2), (31, 1), (100, 2), (109, 1), (117, 1), (131, 1), (377, 1), (611, 1), (710, 1)], [(71, 1), (81, 1)], [(9, 1), (26, 1), (86, 1), (155, 1), (580, 1)], [(71, 1)], [(0, 1)], [(9, 1), (21, 1), (42, 1)], [(742, 1), (862, 1)], [(9, 1), (147, 1)], [(71, 1)], [(181, 1), (863, 1)], [(323, 1), (329, 1), (740, 1)], [(58, 1), (70, 1), (172, 1), (670, 1), (825, 1), (864, 1)], [(34, 1), (38, 1), (101, 1), (138, 1), (605, 1), (771, 1)], [(60, 1), (865, 1), (866, 1), (867, 1), (868, 1)], [(71, 1)], [(0, 1), (9, 1), (593, 1), (869, 1)], [(24, 1), (26, 1), (49, 1), (79, 1), (285, 1), (303, 1)], [(41, 1), (75, 1), (381, 1)], [(9, 1), (42, 1)], [(0, 1), (11, 1), (60, 1), (109, 1), (131, 1), (428, 1), (593, 1), (870, 1), (871, 1), (872, 1), (873, 1)], [(0, 1), (9, 1), (135, 1)], [(0, 1), (362, 1)], [(42, 1)], [(34, 1), (93, 1), (94, 1), (101, 1)], [(71, 1)], [(9, 1), (23, 1), (60, 1), (130, 1), (172, 1), (241, 1), (253, 2), (417, 1), (874, 1)], [(3, 1), (337, 1)], [(26, 1), (31, 1), (84, 1), (240, 1)], [(34, 1), (281, 1), (310, 1), (875, 1), (876, 1)], [(34, 1), (37, 1), (93, 1), (101, 1), (138, 1)], [(18, 1), (26, 1), (34, 1), (48, 1), (94, 1), (98, 1), (100, 1), (101, 1), (111, 1), (128, 1), (151, 1), (258, 1), (411, 1), (586, 1), (626, 1), (825, 1), (877, 1), (878, 1)], [(26, 1), (109, 1)], [(9, 1), (78, 1), (130, 1), (151, 1), (181, 1), (863, 1)], [(26, 3), (34, 2), (48, 1), (58, 1), (64, 1), (75, 2), (101, 1), (108, 1), (156, 1), (179, 1), (181, 1), (322, 1), (336, 1), (578, 1), (710, 1), (754, 1), (879, 1), (880, 1)], [(47, 1), (58, 1), (65, 1), (804, 1), (881, 1), (882, 1), (883, 2)], [(0, 1), (9, 1), (305, 1)], [(0, 1), (27, 1), (38, 1), (58, 1), (79, 2), (102, 1), (167, 1), (283, 1), (402, 1), (884, 1), (885, 1), (886, 1)], [(9, 1), (23, 1), (27, 1), (71, 1), (145, 1), (151, 2)], [(34, 1), (41, 1), (53, 1), (93, 1), (94, 1), (97, 1), (101, 1), (256, 1), (293, 1), (887, 1)], [(0, 1), (9, 1), (23, 1), (38, 1), (60, 1), (72, 1), (151, 1), (395, 1), (607, 1), (888, 1), (889, 1)], [(18, 1), (27, 1)], [(0, 1), (9, 1), (363, 1)], [(129, 1)], [(305, 1), (386, 1)], [(9, 1), (27, 1), (169, 1), (269, 1), (890, 1), (891, 1)], [(0, 1), (892, 1)], [(0, 1), (9, 1)], [(26, 1), (143, 1)], [(0, 1)], [(446, 1), (837, 1)], [(893, 1)], [], [(21, 1), (24, 1), (25, 1), (26, 1), (49, 1), (131, 1), (364, 1)], [(27, 1), (71, 1)], [(9, 1), (27, 1), (34, 1), (37, 1), (42, 1), (48, 1), (79, 1), (101, 1), (296, 1), (406, 1), (894, 1), (895, 1), (896, 1)], [(0, 1), (9, 2), (16, 1), (305, 1), (323, 1), (897, 1), (898, 1)], [(9, 1), (21, 1), (899, 1)], [(9, 1), (129, 1), (790, 1)], [(23, 1), (26, 1), (71, 1), (900, 1)], [(23, 1), (71, 1), (358, 1), (901, 1)], [(0, 1)], [(146, 1), (432, 1), (902, 1), (903, 1)], [(0, 1), (47, 1), (94, 1), (97, 1), (101, 1), (156, 1), (393, 1), (628, 1), (771, 1), (904, 1), (905, 1), (906, 1), (907, 1), (908, 1), (909, 1)], [(15, 1), (24, 1), (26, 1), (186, 1), (441, 1), (910, 1)], [(3, 2), (8, 1), (15, 4), (21, 1), (23, 1), (24, 4), (26, 2), (31, 2), (60, 1), (77, 1), (102, 1), (109, 1), (131, 1), (195, 1), (254, 1), (364, 1), (414, 1), (534, 1), (607, 1), (769, 1), (911, 1), (912, 1), (913, 1), (914, 1)], [(3, 1), (31, 1), (35, 1), (146, 1), (214, 1), (915, 1)], [(208, 1)], [(15, 1), (18, 1), (24, 1), (34, 1), (93, 1), (101, 1), (138, 1), (254, 1), (387, 1), (775, 1), (916, 1), (917, 1)], [(155, 1)], [(25, 1), (93, 1), (181, 1), (325, 1), (338, 1), (815, 1)], [(24, 2), (26, 2), (27, 1), (38, 1), (49, 2), (58, 1), (97, 1), (101, 2), (138, 2), (139, 1), (157, 1), (168, 1), (202, 1), (219, 1), (889, 1), (890, 1)], [(6, 1), (26, 1), (58, 1), (918, 1)], [(9, 1), (15, 1), (23, 1), (24, 1), (26, 1), (34, 2), (58, 1), (77, 1), (97, 1), (100, 1), (164, 1), (181, 1), (228, 1), (281, 1), (322, 1), (429, 1), (585, 1), (595, 1), (668, 1), (771, 1), (919, 1)], [(27, 1), (34, 1), (37, 1), (93, 1), (97, 1), (228, 1), (458, 1)], [(3, 1), (27, 1), (63, 1), (93, 1), (273, 1), (848, 1), (920, 1), (921, 1), (922, 1), (923, 1), (924, 1)], [(0, 1), (13, 1), (34, 1), (91, 1), (93, 2), (101, 1), (138, 1), (202, 1), (543, 1), (925, 1), (926, 1), (927, 1), (928, 1)], [(9, 1), (23, 1), (71, 1), (131, 1), (135, 1), (144, 1), (208, 1), (403, 1), (557, 1), (929, 1)], [(6, 1), (9, 1), (34, 2), (58, 1), (72, 1), (94, 1), (101, 1), (222, 1), (228, 1), (281, 1), (305, 1), (326, 1), (771, 1), (930, 1), (931, 1)], [(34, 1), (37, 1), (94, 1), (101, 1), (128, 1), (825, 1), (877, 1), (927, 1)], [(78, 1), (180, 1), (228, 1), (325, 1), (461, 1), (568, 1), (605, 1), (815, 1), (880, 1), (932, 1), (933, 1), (934, 1), (935, 1)], [(0, 1), (386, 1), (936, 1)], [(0, 1), (3, 1), (9, 1), (27, 1), (127, 1), (144, 1), (181, 1), (379, 1), (593, 1), (736, 1), (937, 1)], [(71, 1)], [], [(0, 1), (638, 1), (938, 1)], [(28, 1), (63, 1), (71, 1), (256, 1), (283, 1)], [(6, 1), (9, 1), (16, 1), (23, 1), (31, 1), (60, 1), (102, 1), (129, 1), (605, 1), (939, 1)], [(34, 1), (42, 1), (172, 1), (293, 1), (379, 1)], [(9, 2), (18, 1), (23, 1), (24, 1), (27, 1), (199, 1), (202, 1), (214, 1), (256, 1), (293, 1), (593, 1), (595, 1), (940, 1), (941, 1), (942, 1)], [(9, 1), (27, 1), (71, 2)], [(6, 1), (24, 1), (49, 1), (93, 1), (461, 1), (927, 1), (943, 1), (944, 1)], [(23, 1), (26, 1), (71, 1), (76, 1), (79, 1), (86, 1)], [(27, 1)], [(129, 1)], [(18, 1)], [(129, 1)], [(34, 1), (58, 1), (78, 1), (93, 1), (97, 1), (101, 1), (158, 1), (178, 1), (930, 1), (945, 1)], [(0, 1), (9, 1)], [(946, 1)], [(9, 1), (19, 1), (21, 1), (84, 1), (308, 1), (311, 1), (817, 1), (853, 1), (947, 1), (948, 1)], [(27, 1), (33, 1), (34, 1), (76, 1), (210, 1), (281, 1), (444, 1), (458, 1), (573, 1), (949, 1)], [(23, 1), (43, 1), (51, 1), (71, 1), (79, 1), (121, 1), (131, 1), (156, 1), (940, 1)], [(71, 1)], [(3, 1), (8, 1)], [(71, 1)], [(0, 1), (9, 3), (13, 1), (15, 1), (18, 2), (23, 1), (24, 1), (26, 3), (27, 3), (31, 3), (47, 1), (48, 1), (58, 2), (71, 2), (73, 1), (78, 1), (79, 1), (81, 1), (98, 1), (131, 2), (139, 1), (145, 2), (146, 1), (168, 1), (181, 1), (270, 1), (305, 1), (318, 1), (462, 1), (619, 1), (694, 2), (849, 1), (853, 1), (920, 1), (950, 1), (951, 1), (952, 1), (953, 1), (954, 2), (955, 1), (956, 1), (957, 1), (958, 1), (959, 1), (960, 1), (961, 1), (962, 1), (963, 1)], [(6, 1), (15, 2), (23, 1), (24, 2), (26, 1), (109, 1), (231, 1), (396, 1)], [(0, 1), (9, 1)], [(34, 1), (93, 1), (97, 1)], [(48, 1), (75, 1), (964, 1)], [(27, 1), (71, 1), (102, 1), (332, 1)], [(26, 1), (63, 1), (75, 1), (303, 1), (782, 1), (965, 1)], [(0, 1), (6, 1), (60, 1), (129, 1), (297, 1), (417, 1), (574, 1)], [(0, 2), (9, 1), (27, 2), (71, 1), (200, 1), (208, 1), (289, 1), (293, 1), (368, 1), (966, 1), (967, 1), (968, 1), (969, 1), (970, 1)], [(27, 1), (71, 1), (971, 1)], [], [(27, 1), (71, 2), (161, 1), (240, 1), (330, 1), (396, 1), (429, 1)], [(18, 1), (19, 1), (26, 3), (32, 1), (42, 2), (46, 1), (48, 1), (58, 1), (97, 1), (117, 1), (130, 2), (171, 1), (186, 1), (224, 1), (256, 1), (293, 1), (336, 1), (417, 1), (432, 1), (438, 1), (573, 1), (611, 1), (690, 1), (964, 1), (972, 1), (973, 1), (974, 1), (975, 1), (976, 1), (977, 1), (978, 1)], [(41, 1), (65, 1), (979, 1)], [(0, 1)], [(27, 1), (38, 1), (43, 1), (71, 1), (72, 1), (78, 1), (214, 1), (980, 1), (981, 1)], [(27, 1), (145, 1), (982, 1), (983, 1)], [(128, 1), (256, 1), (984, 1), (985, 1)], [(47, 1), (58, 1), (386, 1), (986, 1)], [(44, 1), (45, 1), (148, 1), (204, 1)], [(0, 1), (9, 1), (305, 1)], [(987, 1)], [(71, 1)], [(9, 1), (71, 2), (79, 1), (86, 1), (102, 1), (258, 1), (305, 1), (607, 1)], [(30, 1), (71, 1), (102, 1), (104, 1), (429, 1), (461, 1), (924, 1), (988, 1), (989, 1)], [(0, 1), (3, 4), (9, 2), (13, 1), (21, 1), (26, 1), (27, 1), (38, 1), (43, 2), (85, 1), (86, 1), (93, 1), (97, 1), (105, 1), (121, 1), (131, 1), (145, 1), (147, 1), (151, 1), (158, 1), (199, 2), (218, 1), (301, 1), (305, 1), (364, 1), (406, 1), (428, 1), (444, 1), (570, 1), (608, 1), (689, 1), (720, 1), (742, 1), (766, 1), (990, 1), (991, 1), (992, 1), (993, 1), (994, 1), (995, 1), (996, 1), (997, 1)], [(970, 1)], [(15, 2), (24, 2), (34, 1), (36, 1), (47, 1), (93, 1), (101, 1), (156, 1), (202, 1), (240, 1), (302, 2), (429, 2), (795, 1), (818, 1), (957, 1), (998, 1), (999, 1), (1000, 1)], [(0, 1), (151, 1)], [(23, 1), (26, 1), (42, 1), (64, 1), (412, 1)], [(742, 1), (1001, 1), (1002, 1), (1003, 1), (1004, 1)], [(24, 1), (34, 1), (100, 1), (565, 1)], [(0, 1), (26, 1), (55, 1), (71, 1), (108, 1), (148, 1), (214, 1), (364, 1), (1005, 1)], [(0, 1), (541, 1)], [(0, 1), (9, 1), (198, 1)], [(18, 1), (27, 1), (48, 2), (71, 1), (75, 1), (93, 1), (97, 1), (254, 1), (256, 1), (1006, 1), (1007, 1)], [(71, 1)], [(71, 1)], [(0, 1), (9, 1), (82, 1), (128, 1), (611, 1), (1008, 1)], [(8, 1), (109, 1)], [(0, 1), (9, 1)], [(155, 1)], [(9, 1), (42, 1), (135, 1), (151, 1)], [(208, 1)], [(9, 1), (38, 1), (75, 1), (93, 1), (94, 1), (97, 1), (101, 2), (157, 1), (293, 2), (878, 1), (934, 1), (1009, 1)], [(0, 1)], [(0, 1), (151, 1)], [(0, 1), (75, 1), (93, 1), (250, 1)], [(1010, 1)], [(63, 1), (71, 1), (132, 1), (322, 1), (532, 1), (582, 1)], [(71, 1)], [(42, 1), (104, 1), (129, 1), (1011, 1)], [(24, 1), (26, 1), (31, 1), (49, 1), (58, 1), (441, 1)], [(129, 1)], [(15, 1), (24, 1), (56, 1), (156, 1), (164, 1), (272, 1), (692, 1), (1012, 1), (1013, 1)], [(9, 1), (27, 1), (80, 1), (269, 1), (386, 1)], [(34, 1), (53, 1), (174, 1), (281, 1)], [(34, 1), (75, 1), (97, 1), (1014, 1), (1015, 1)], [(31, 1), (42, 1), (102, 1), (156, 1), (190, 1), (199, 1), (219, 1), (281, 1), (322, 1), (1016, 1), (1017, 1)], [(9, 1), (42, 1), (216, 1)], [(0, 1), (9, 1), (305, 1)], [(1018, 1)], [(3, 1), (8, 1), (15, 1), (23, 1), (24, 1), (31, 2), (42, 1), (438, 1)], [(0, 1), (8, 1), (18, 2), (38, 1), (50, 1), (62, 1), (71, 1), (72, 1), (75, 1), (79, 1), (93, 1), (108, 1), (156, 1), (164, 1), (167, 1), (168, 2), (199, 1), (258, 1), (265, 1), (277, 1), (302, 1), (323, 1), (386, 1), (395, 1), (432, 1), (557, 1), (604, 1), (627, 1), (662, 1), (686, 1), (824, 1), (825, 2), (889, 1), (911, 1), (937, 1), (980, 1), (1019, 1), (1020, 1), (1021, 1), (1022, 1), (1023, 1), (1024, 1)], [(82, 1), (135, 1), (239, 1), (284, 1), (461, 1), (580, 1)], [(71, 1), (302, 1)], [(9, 1), (15, 1), (23, 1), (24, 1), (31, 1), (41, 1), (48, 1), (70, 1), (71, 2), (172, 1), (305, 1), (308, 1), (311, 1)], [(27, 1), (160, 1)], [(1025, 1)], [(9, 1), (42, 1), (75, 1), (214, 1)], [(42, 1), (281, 1)], [(155, 1), (1026, 1), (1027, 1), (1028, 1), (1029, 1)], [(9, 1), (155, 1)], [(129, 1)], [(94, 1), (100, 1), (101, 1), (104, 1), (330, 1), (1030, 1)], [(208, 1)], [(71, 1)], [(26, 1), (427, 1), (557, 1), (1031, 1)], [(9, 1), (214, 1), (322, 1), (1032, 1)], [(396, 1), (912, 1)], [(34, 1), (93, 1)], [(0, 1), (9, 2), (15, 1), (18, 2), (21, 1), (24, 3), (49, 2), (56, 1), (60, 3), (73, 1), (93, 2), (337, 1), (611, 1), (1033, 2)], [(33, 1), (34, 1), (101, 1), (156, 1), (1034, 1)], [(35, 1)], [(8, 1), (27, 1), (34, 1), (46, 1), (60, 1), (75, 1), (93, 1), (100, 1), (101, 1), (104, 1), (128, 1), (179, 1), (359, 1), (532, 1), (1035, 1), (1036, 1), (1037, 1)], [(0, 1), (9, 1)], [(15, 2), (24, 2), (25, 1), (26, 1), (30, 1), (51, 1), (105, 1), (109, 1), (131, 1), (240, 2)], [(155, 1)], [(81, 1), (720, 1)], [(1038, 1)], [(6, 1), (24, 2), (30, 1), (34, 1), (62, 1), (72, 1), (75, 1), (181, 1), (281, 1), (565, 2), (692, 2), (815, 1), (1039, 1), (1040, 1), (1041, 1), (1042, 1)], [(9, 1), (23, 1), (42, 1), (130, 1), (131, 1), (1043, 1)], [(9, 1), (13, 1), (21, 1), (73, 1), (164, 1), (320, 2)], [(9, 4), (16, 3), (21, 2), (26, 2), (27, 2), (31, 1), (43, 1), (48, 2), (72, 1), (73, 1), (79, 2), (80, 1), (82, 1), (102, 1), (108, 1), (117, 1), (125, 1), (130, 1), (145, 1), (151, 1), (156, 2), (167, 1), (282, 1), (333, 1), (423, 1), (613, 1), (638, 1), (790, 1), (1044, 1), (1045, 1), (1046, 1), (1047, 1), (1048, 1)], [(23, 1), (26, 1), (30, 1), (48, 1), (183, 1), (1049, 1)], [(0, 1), (9, 1), (60, 1), (82, 1), (156, 1), (166, 1), (644, 1), (690, 1), (1050, 1), (1051, 1), (1052, 1)], [(75, 1), (544, 1)], [(71, 1)], [(42, 1)], [(0, 1), (24, 1), (70, 1), (91, 1)], [(101, 1), (1053, 1), (1054, 1)], [(26, 1), (58, 1), (168, 1), (202, 1), (396, 1), (658, 1), (689, 1), (1055, 1), (1056, 1)], [(0, 1)], [(71, 1)], [(9, 3), (13, 1), (24, 1), (26, 1), (27, 1), (38, 1), (42, 1), (49, 1), (58, 1), (60, 3), (72, 2), (78, 1), (84, 1), (91, 1), (108, 1), (117, 1), (118, 1), (161, 1), (199, 1), (269, 1), (308, 1), (364, 1), (406, 1), (428, 1), (429, 1), (438, 1), (593, 2), (630, 1), (955, 1), (970, 1), (1057, 1), (1058, 1), (1059, 1), (1060, 1), (1061, 1), (1062, 1), (1063, 1), (1064, 1), (1065, 2), (1066, 1), (1067, 1), (1068, 1), (1069, 1)], [(71, 1)], [(27, 1), (71, 1)], [(34, 1), (101, 1), (181, 1), (386, 1), (562, 1), (927, 1), (1070, 1)], [(0, 1)], [(155, 1), (281, 1)], [(71, 1)], [(27, 1), (47, 1), (53, 1), (58, 2), (71, 1), (214, 1), (364, 2)], [(72, 1), (89, 1), (129, 1), (213, 1), (326, 1), (531, 1), (753, 1), (1071, 1)], [(0, 1), (9, 2), (22, 1), (26, 2), (27, 1), (30, 1), (32, 1), (42, 1), (48, 1), (53, 1), (58, 2), (60, 1), (70, 1), (75, 1), (91, 1), (94, 1), (97, 2), (129, 1), (151, 1), (157, 1), (158, 1), (176, 1), (180, 1), (199, 2), (202, 1), (269, 1), (302, 1), (321, 1), (336, 1), (359, 1), (421, 1), (793, 1), (890, 1), (1072, 1), (1073, 1), (1074, 1)], [(0, 1), (60, 1)], [(21, 1), (26, 1), (27, 1), (63, 1), (775, 1), (848, 1), (1075, 1)], [(26, 1), (71, 1), (84, 1), (125, 1), (461, 1), (462, 1), (1076, 1), (1077, 1)], [(16, 1), (172, 1), (288, 1), (750, 1), (1078, 1)], [(9, 2), (23, 1), (71, 1), (125, 1), (1079, 1)], [(71, 1)], [(0, 1), (72, 1), (90, 1), (172, 1), (199, 1), (678, 1), (794, 1), (881, 1), (896, 1)], [(24, 2), (49, 2), (91, 1), (338, 1), (428, 1), (432, 2), (644, 1), (1080, 2), (1081, 1)], [(9, 1), (42, 1), (130, 1), (283, 1), (318, 1), (593, 1), (775, 1)], [], [(0, 1)], [(42, 1), (78, 1), (151, 1), (185, 1)], [(1082, 3), (1083, 1), (1084, 1)], [(26, 1), (60, 1), (117, 1), (383, 1)], [(0, 1), (9, 1), (305, 1)], [(11, 1), (60, 1), (71, 1), (75, 1), (76, 1), (462, 1), (557, 1), (570, 1)], [(9, 1), (79, 1), (125, 1), (958, 1)], [(9, 1), (125, 1), (885, 1)], [], [(0, 1)], [(6, 1), (26, 1), (58, 1), (190, 1), (432, 1), (1085, 1), (1086, 1)], [(0, 2), (9, 1), (317, 1)], [(9, 1), (246, 1), (432, 1)], [(1087, 1)], [(1088, 1)], [(11, 1), (60, 1), (73, 1), (109, 1), (135, 1), (1089, 1), (1090, 1), (1091, 1), (1092, 1)], [(6, 1), (10, 1), (15, 2), (18, 1), (21, 1), (24, 2), (26, 2), (31, 1), (47, 1), (60, 1), (71, 3), (86, 1), (119, 1), (121, 2), (130, 2), (222, 1), (240, 2), (296, 1), (323, 1), (406, 1), (439, 1), (553, 1), (607, 1), (869, 1), (1093, 1), (1094, 1), (1095, 1)], [(1096, 1), (1097, 1)], [(0, 1), (24, 1), (41, 1), (48, 1), (102, 1), (199, 1), (311, 1)], [(0, 1), (9, 1), (150, 1), (151, 1), (1098, 1)], [(9, 1), (155, 1)], [(0, 1), (9, 1)], [(9, 1), (16, 1), (71, 1), (81, 1)], [(6, 1), (15, 1), (19, 1), (24, 1), (26, 1), (58, 1), (71, 1), (75, 1), (102, 1), (128, 1), (186, 1), (244, 1), (246, 1), (254, 1), (256, 1), (303, 1), (326, 1), (403, 1), (461, 1), (625, 1), (630, 1), (793, 1), (911, 1), (1062, 1), (1099, 2), (1100, 2)], [(27, 1), (60, 1), (71, 1), (591, 1)], [(9, 1), (71, 2)], [(19, 1), (26, 2), (42, 1), (58, 1), (79, 1), (86, 1), (125, 1), (131, 1), (156, 1), (364, 1), (553, 1), (559, 1), (1076, 1)], [(9, 1), (42, 1), (71, 1), (145, 1), (151, 2), (156, 1), (165, 1), (1101, 1)], [(0, 1), (3, 1), (9, 1), (13, 1), (15, 1), (18, 1), (24, 2), (26, 2), (27, 1), (31, 1), (49, 1), (60, 1), (110, 1), (117, 1), (131, 1), (151, 1), (172, 1), (188, 1), (199, 1), (329, 1), (359, 1), (441, 1), (462, 1), (909, 1), (1102, 1), (1103, 1)], [(0, 1), (93, 1), (990, 1)], [(155, 1)], [(837, 1)], [(34, 1), (42, 1), (78, 1), (97, 1), (101, 1), (179, 1), (254, 1)], [(151, 1), (557, 1)], [(16, 1), (55, 1), (123, 1), (181, 1), (417, 1), (853, 1), (1104, 1)], [(11, 2), (15, 1), (18, 1), (21, 1), (24, 1), (26, 1), (27, 1), (30, 1), (31, 1), (60, 1), (71, 1), (102, 1), (117, 1), (129, 1), (254, 2), (377, 1), (383, 1), (386, 1), (634, 2), (843, 1), (1105, 1), (1106, 1), (1107, 1), (1108, 1), (1109, 1), (1110, 1)], [(93, 1), (94, 1), (101, 1), (104, 1), (330, 1)], [(27, 1), (31, 1), (60, 1), (214, 1)], [(71, 1), (172, 1), (601, 1), (1111, 1)], [(214, 1), (582, 1), (1112, 1), (1113, 1), (1114, 1)], [(42, 1)], [(1115, 1)], [(9, 1), (15, 1), (24, 1), (30, 1), (31, 1), (58, 2), (75, 2), (78, 1), (96, 1), (131, 2), (197, 1), (199, 1), (202, 1), (327, 1), (458, 1), (532, 1), (627, 1), (963, 1), (1056, 1), (1116, 1), (1117, 2), (1118, 1), (1119, 1), (1120, 1)], [(9, 1), (23, 1), (27, 1), (71, 2), (1121, 1)], [(208, 1)], [(71, 1), (1122, 1), (1123, 1), (1124, 1)], [(0, 2), (766, 1)], [(0, 1), (22, 1), (73, 1), (1125, 1)], [(0, 1), (9, 1), (26, 1), (31, 1), (38, 1), (58, 1), (100, 1), (109, 1), (131, 1), (150, 1), (161, 1), (197, 1), (199, 2), (428, 2), (532, 1), (536, 4), (593, 1), (1126, 1), (1127, 1)], [(180, 1), (184, 1), (249, 1)], [(9, 1), (60, 1), (84, 1), (199, 1), (214, 1), (1128, 1)], [(0, 1), (45, 1), (71, 1), (85, 1), (304, 1), (570, 1), (971, 2)], [(71, 1)], [(1129, 1), (1130, 1)], [(26, 1), (27, 1), (31, 1), (58, 1), (60, 1), (72, 1), (93, 1), (117, 1), (256, 1), (1049, 1), (1131, 1), (1132, 1), (1133, 1), (1134, 1)], [(22, 1), (24, 1), (26, 1), (31, 1), (42, 1), (441, 1), (565, 1)], [(15, 1), (23, 3), (24, 1), (26, 2), (31, 1), (109, 1), (131, 3), (364, 1), (466, 1)], [(71, 1)], [(0, 1), (15, 1), (24, 1), (26, 1), (58, 1), (75, 1), (131, 1), (199, 1), (258, 1), (1135, 1), (1136, 1)], [(71, 1), (145, 1), (385, 1), (1137, 1)], [(9, 1), (62, 1), (71, 1)], [(1138, 1), (1139, 1)], [(3, 1), (15, 1), (24, 1), (155, 1), (246, 1), (249, 1), (1140, 1), (1141, 1)], [(63, 1), (322, 1)], [(0, 1), (24, 1), (47, 1), (180, 1), (432, 1), (565, 1), (940, 1), (1142, 1)], [(125, 1), (1143, 1)], [(181, 1), (585, 1)], [(9, 1), (23, 1), (42, 1)], [(22, 1), (24, 1), (38, 1), (84, 1), (95, 1), (328, 1), (383, 1), (565, 1), (817, 1)], [(34, 1), (93, 1), (94, 1), (97, 1), (101, 1), (219, 1), (421, 1), (1144, 1)], [(42, 1)], [(34, 1), (59, 1), (97, 1), (102, 1), (195, 1), (281, 1), (310, 1)], [(386, 1)], [(0, 1), (9, 3), (26, 2), (58, 1), (80, 1), (96, 1), (102, 1), (154, 1), (740, 1), (1058, 1), (1079, 1), (1145, 1), (1146, 1), (1147, 1)], [(9, 1), (71, 1), (589, 1), (1148, 1)], [(42, 1)], [(15, 1), (24, 1), (26, 2), (58, 1), (131, 1), (165, 1), (231, 1), (628, 1)], [(9, 1), (16, 1), (102, 1), (199, 1), (323, 1), (1149, 1)], [(9, 1), (71, 1), (130, 1), (146, 1), (1150, 1)], [(27, 1), (33, 1), (34, 1), (42, 1), (101, 1), (179, 1), (217, 1), (219, 1), (585, 1), (795, 1), (1151, 1)], [(1152, 1), (1153, 1)], [(0, 1), (26, 1), (574, 1)], [(15, 1), (34, 1), (43, 1), (48, 1), (67, 1), (97, 1), (100, 1), (101, 1), (138, 1), (228, 1), (305, 1), (585, 1), (646, 1), (813, 1), (815, 1), (825, 1), (827, 1), (895, 1), (1154, 1), (1155, 1)], [(155, 1)], [(0, 2), (9, 1), (15, 1), (24, 1), (26, 1), (73, 1), (1156, 1), (1157, 1)], [(1158, 1)], [(26, 1), (34, 1), (396, 2), (1159, 1), (1160, 1)], [(6, 1), (27, 1), (47, 1), (48, 2), (311, 1), (314, 1), (320, 1), (322, 1), (458, 1)], [(58, 1), (72, 1), (78, 1), (161, 1), (239, 1), (429, 1)], [(34, 1), (128, 1), (281, 2), (318, 1), (877, 1), (1161, 1), (1162, 1)], [(60, 1), (73, 1), (110, 1), (116, 1), (119, 1), (131, 1), (186, 1), (1163, 1), (1164, 1), (1165, 1)], [(71, 3)], [(18, 1), (34, 1), (37, 1), (93, 1), (94, 1), (101, 1), (219, 1), (359, 1), (408, 1), (927, 1)], [(600, 1), (958, 1)], [(0, 1), (81, 1), (131, 1), (144, 1), (302, 1), (364, 1), (570, 1), (605, 2), (1166, 1), (1167, 1), (1168, 1)], [(129, 1)], [], [(9, 1), (90, 1), (151, 1), (256, 1), (531, 1), (1169, 1), (1170, 1), (1171, 1)], [(71, 1)], [(1172, 2)], [(9, 1), (15, 1), (23, 1), (24, 1), (41, 1), (84, 1), (214, 1), (1173, 1)], [(208, 1)], [(13, 1), (15, 1), (24, 1), (26, 1), (41, 1), (43, 1), (47, 1), (53, 1), (58, 3), (76, 1), (78, 1), (101, 1), (104, 1), (149, 1), (161, 1), (176, 1), (228, 1), (302, 1), (321, 1), (325, 1), (329, 1), (359, 1), (401, 1), (438, 1), (536, 1), (676, 1), (678, 1), (736, 1), (815, 1), (890, 1), (943, 1), (963, 1), (1171, 1), (1174, 1), (1175, 1), (1176, 1), (1177, 1), (1178, 1), (1179, 1), (1180, 1)], [(0, 1), (9, 1)], [(223, 1)], [(42, 1)], [(6, 1), (60, 1), (90, 1), (386, 1)], [(6, 1), (9, 1), (15, 1), (24, 1), (736, 1), (1049, 1), (1181, 1)], [(71, 1)], [(9, 1), (38, 1), (157, 1), (559, 1), (872, 1), (1182, 1), (1183, 1)], [(9, 1), (70, 1), (208, 1), (320, 1)], [(41, 1), (1184, 1)], [(23, 1), (71, 1), (679, 1), (1051, 1), (1185, 1), (1186, 1), (1187, 1)], [(394, 1), (643, 1)], [(23, 1), (26, 1), (31, 1), (42, 1), (462, 1), (1188, 1)], [], [(0, 1), (1189, 1)], [(24, 1), (49, 1), (1139, 1), (1190, 1)], [(12, 1), (24, 1), (48, 1), (49, 1), (71, 1), (302, 1), (311, 1), (320, 1), (322, 1), (323, 1), (396, 1), (439, 1), (850, 1)], [(9, 2), (15, 1), (23, 1), (24, 1), (34, 1), (37, 1), (58, 1), (72, 1), (78, 1), (94, 1), (97, 1), (101, 1), (219, 1), (325, 1), (660, 1), (776, 1)], [(81, 1), (970, 1)], [(34, 1), (37, 1), (101, 1), (130, 1), (179, 1), (458, 1), (612, 1), (1191, 1), (1192, 1), (1193, 1), (1194, 1), (1195, 1)], [(0, 1), (82, 1), (579, 1)], [(0, 1), (151, 1)], [(71, 1)], [(48, 1), (71, 1), (646, 1), (889, 1)], [(6, 2), (9, 2), (13, 1), (24, 2), (26, 1), (27, 1), (53, 1), (58, 2), (71, 1), (100, 1), (104, 1), (181, 1), (330, 1), (337, 1), (565, 2), (663, 1), (680, 1), (910, 1), (1066, 1), (1154, 1), (1196, 1), (1197, 1)], [(1198, 1)], [(386, 1)], [(71, 1), (145, 1), (225, 1), (385, 1)], [(26, 1), (34, 1), (37, 1), (76, 1), (94, 1), (97, 1), (665, 1)], [(0, 1), (9, 1), (305, 1)], [(81, 1), (208, 1)], [(1199, 1)], [], [(16, 1), (27, 1), (151, 1), (198, 1), (1200, 1)], [(34, 1), (47, 1), (101, 1), (562, 1)], [(208, 1)], [(8, 1), (9, 3), (13, 1), (71, 2), (130, 1), (131, 1), (165, 1), (199, 1), (630, 1), (634, 1), (1117, 1)], [(0, 1), (9, 1), (23, 1), (46, 1), (156, 1), (167, 1), (287, 1)], [(0, 1)], [(3, 1), (8, 1)], [(24, 1), (49, 1), (338, 1)], [(0, 1), (9, 1)], [(0, 1), (129, 1), (305, 1), (938, 1)], [(386, 1)], [(26, 1), (27, 1), (34, 1), (43, 1), (48, 2), (50, 1), (58, 1), (71, 1), (75, 1), (145, 1), (210, 1), (396, 1), (421, 1), (429, 1), (444, 1), (611, 1), (1201, 1), (1202, 1), (1203, 1)], [(9, 1), (26, 1), (198, 1), (213, 1), (531, 1), (1048, 1)], [(27, 1), (48, 1), (1204, 1)], [(129, 1)], [(71, 1)], [(129, 1)], [(71, 1)], [(70, 1), (90, 1)], [(35, 1)], [(0, 1), (9, 1)], [(48, 1), (71, 1), (411, 1)], [(15, 1), (24, 2), (26, 3), (31, 1), (48, 1), (58, 1), (60, 1), (65, 2), (70, 2), (71, 2), (108, 1), (117, 1), (123, 1), (147, 1), (181, 1), (199, 3), (246, 1), (441, 1), (955, 1), (1103, 1), (1119, 1), (1205, 1), (1206, 1)], [(1207, 1), (1208, 1)], [(35, 1)], [(27, 1), (42, 1), (76, 1), (297, 1)], [(9, 1), (15, 1), (23, 1), (24, 2), (42, 1), (48, 1), (60, 1), (71, 1), (138, 1), (168, 1), (256, 2), (304, 1), (336, 1)], [(71, 1)], [(147, 1), (191, 1), (1209, 1)], [(9, 1), (15, 1), (23, 1), (24, 1), (71, 1), (89, 1), (243, 1), (532, 1), (693, 1)], [(27, 1), (48, 1)], [(9, 2), (27, 1), (41, 1), (42, 1), (43, 1), (48, 1), (79, 1), (80, 1), (110, 1), (121, 1), (133, 1), (156, 1), (181, 1), (199, 1), (211, 1), (240, 1), (284, 1), (301, 1), (336, 1), (679, 1), (690, 1), (699, 1), (749, 1), (849, 1), (1210, 1), (1211, 1), (1212, 1)], [(23, 1), (60, 1), (70, 1), (123, 1), (131, 1), (172, 1)], [(23, 1), (26, 1), (93, 1), (97, 1), (281, 1), (313, 1)], [(26, 2), (34, 1), (58, 1), (93, 1), (97, 1), (843, 1)], [(0, 1), (9, 1), (150, 1), (198, 1), (268, 1), (616, 1)], [(3, 1), (11, 1), (15, 1), (23, 1), (31, 1), (32, 1), (38, 2), (43, 1), (50, 1), (131, 2), (156, 1), (180, 1), (181, 1), (271, 1), (285, 3), (301, 1), (338, 1), (364, 1), (455, 1), (536, 1), (563, 1), (613, 1), (690, 1), (736, 1), (1049, 1), (1213, 1), (1214, 1), (1215, 2), (1216, 1), (1217, 1), (1218, 1)], [(9, 1), (130, 1), (358, 1), (1066, 1)], [(41, 1), (42, 1), (193, 1), (963, 1), (1219, 1)], [(42, 1), (250, 1)], [(9, 1), (42, 1), (71, 1), (296, 1)], [(8, 1), (1220, 1), (1221, 1), (1222, 1)], [(35, 1)], [(3, 1), (8, 1), (25, 1), (58, 1), (63, 1), (68, 1), (73, 1), (185, 1), (191, 1), (289, 1), (403, 1), (444, 1), (1206, 1), (1223, 1), (1224, 1), (1225, 1)], [(1185, 1)], [(26, 1), (131, 1), (172, 1), (1139, 1), (1160, 1)], [(27, 1), (41, 1), (58, 1), (75, 1), (79, 1), (145, 1), (156, 1), (167, 1), (537, 1), (605, 1), (1226, 1), (1227, 1)], [(1228, 1)], [(101, 1), (102, 1), (112, 1), (127, 1), (156, 2), (164, 1), (167, 1), (605, 1), (658, 1), (849, 1), (1040, 1), (1229, 1)], [(9, 1), (1230, 1), (1231, 1)], [(42, 1)], [(71, 1)], [(34, 1), (97, 1), (101, 1), (219, 1)], [], [(28, 1), (322, 1), (424, 1)], [(42, 1), (71, 1), (607, 1)], [(27, 1), (71, 1), (304, 1)], [(97, 1), (104, 1), (281, 1), (1030, 1), (1154, 1), (1232, 1)], [(15, 1), (24, 1), (26, 1), (58, 1), (93, 1), (109, 1), (240, 1), (303, 1)], [(155, 1)], [(9, 1), (165, 1), (188, 1), (386, 1), (1101, 1)], [(1233, 1)], [(27, 1), (971, 1)], [(3, 2), (8, 1), (9, 1), (24, 1), (42, 1), (49, 1), (50, 1), (58, 1), (75, 1), (80, 1), (102, 1), (105, 1), (214, 2), (254, 1), (293, 1), (336, 1), (439, 1), (440, 1), (605, 1), (676, 1), (678, 1), (1168, 1), (1234, 1), (1235, 1), (1236, 1), (1237, 1)], [(1238, 1)], [(15, 2), (24, 2), (26, 1), (31, 1), (109, 1), (183, 2), (567, 2), (686, 1), (1239, 1), (1240, 1), (1241, 1), (1242, 1), (1243, 1)], [(9, 1), (42, 1), (214, 1)], [(0, 1), (9, 1), (12, 1), (45, 1), (60, 1), (71, 1), (102, 1), (119, 1), (1165, 1), (1244, 1)], [(0, 2), (9, 1), (27, 1), (181, 1), (438, 1), (542, 1)], [(386, 1), (1245, 1), (1246, 1)], [(27, 1), (46, 1), (81, 1), (186, 2), (199, 1), (213, 1), (1067, 1), (1100, 1), (1247, 1), (1248, 1), (1249, 1), (1250, 1), (1251, 1), (1252, 1)], [(60, 1), (582, 1)], [(34, 1), (101, 1), (219, 1)], [(0, 1), (15, 1), (24, 1), (27, 1), (60, 1), (172, 1), (256, 1)], [(9, 1), (12, 1), (27, 1), (31, 2), (55, 1), (58, 1), (131, 1), (231, 1), (256, 1), (383, 1), (963, 1), (1253, 1)], [(26, 1), (86, 1), (358, 1)], [(71, 1), (1254, 1)], [(84, 1), (93, 2), (157, 2), (164, 1), (228, 1), (322, 1), (424, 1), (564, 1), (1255, 1), (1256, 1)], [(1257, 1)], [(42, 1), (78, 1), (322, 1), (699, 1)], [(9, 1), (23, 1), (42, 1), (591, 1)], [(9, 1), (18, 1), (24, 1), (27, 2), (38, 1), (43, 2), (46, 1), (49, 1), (71, 1), (76, 1), (102, 1), (108, 1), (143, 1), (151, 1), (218, 1), (289, 1), (462, 1), (588, 1), (658, 1), (764, 1), (767, 1), (1258, 1), (1259, 1), (1260, 1)], [(1261, 1), (1262, 1), (1263, 1), (1264, 1)], [(33, 1), (34, 1), (97, 1), (101, 1)], [(386, 1)], [(9, 1), (42, 1), (60, 1), (76, 1), (131, 1), (151, 1), (172, 1), (593, 1), (863, 1), (1265, 1)], [(616, 1)], [(9, 1), (81, 1), (98, 1)], [(26, 1), (214, 1), (386, 1)], [(27, 1), (42, 1), (281, 1), (793, 1)], [(42, 1), (93, 1), (100, 1), (101, 1), (138, 1), (330, 1), (1266, 1)], [(19, 1), (32, 1), (199, 1), (553, 1)], [(0, 1), (9, 1), (15, 1), (24, 1), (32, 1), (48, 1), (314, 1), (315, 1), (317, 1), (320, 1), (322, 1), (328, 1), (593, 1), (693, 1), (797, 1), (1162, 1), (1267, 1), (1268, 1)], [(129, 1)], [(9, 1), (23, 1), (71, 1), (108, 1), (188, 1), (198, 1), (386, 2), (1048, 1), (1092, 1)], [(6, 2), (15, 1), (18, 1), (23, 1), (24, 3), (26, 2), (49, 1), (58, 1), (121, 1), (199, 1), (277, 1), (285, 1), (303, 1), (553, 1), (565, 1), (1197, 1), (1269, 1)], [(71, 1), (1270, 1), (1271, 1), (1272, 1), (1273, 1)], [(214, 1), (322, 1), (634, 1), (1274, 1)], [(129, 1)], [(15, 1), (18, 2), (24, 1), (56, 1), (60, 1), (108, 1), (117, 1), (130, 1), (131, 1), (320, 1), (434, 1)], [(9, 1), (18, 1), (27, 1), (293, 1)], [(129, 1)], [(71, 1)], [(26, 1), (60, 1), (78, 1), (108, 1), (441, 1), (1275, 1)], [(0, 1), (9, 1), (322, 1)], [(0, 1), (9, 1), (214, 1)], [(0, 1), (9, 1), (11, 1), (27, 1), (38, 1), (43, 1), (46, 1), (76, 1), (295, 1), (305, 1), (570, 1)], [(0, 1), (23, 1), (26, 1), (56, 1), (108, 2), (117, 1), (151, 1), (199, 1), (395, 1), (406, 1), (429, 1), (439, 1)], [(1276, 1)], [(9, 1), (42, 1)], [(23, 1), (26, 1), (71, 1), (198, 1)], [(9, 1), (322, 1), (534, 1), (1277, 1), (1278, 1)], [(9, 1), (42, 1), (135, 1), (190, 1), (289, 1), (1279, 1)], [(26, 1), (30, 1), (34, 2), (43, 1), (58, 1), (181, 1), (281, 1), (282, 1), (462, 1), (1280, 1), (1281, 1)], [(71, 1), (86, 1), (121, 1), (130, 1), (131, 1)], [(23, 1), (27, 1), (76, 1)], [(15, 1), (24, 1), (367, 1), (901, 1), (1171, 1), (1282, 1), (1283, 1), (1284, 1), (1285, 1), (1286, 1), (1287, 1)], [(3, 1), (26, 1), (38, 1), (58, 1), (65, 1), (195, 1), (214, 1), (245, 1), (396, 1), (536, 1), (537, 1), (605, 1), (890, 1), (1288, 1)], [(34, 1), (101, 1), (138, 1), (228, 1), (452, 1), (625, 1), (665, 1), (678, 1)], [], [(27, 1), (129, 1)], [(0, 1), (102, 1), (283, 1)], [(34, 1), (47, 1), (417, 1), (666, 1), (769, 1)], [(71, 1)], [(15, 1), (24, 1), (123, 1), (125, 1), (146, 1), (980, 1), (1104, 1)], [(93, 1)], [(43, 1)], [(386, 1)], [], [(160, 1)], [(16, 1), (42, 1), (131, 1), (441, 1)], [(83, 1), (1289, 1)], [(71, 1)], [(24, 1), (38, 1), (48, 1), (202, 1), (368, 1), (1290, 1), (1291, 1)], [(15, 1), (24, 1), (184, 1), (208, 1), (368, 1)], [(0, 1), (283, 1)], [(9, 1), (71, 1), (119, 1), (151, 1), (863, 1)], [(27, 1), (41, 1), (532, 1)], [(0, 1), (21, 1), (613, 1), (1171, 1)], [(71, 1)], [(9, 1), (13, 1), (23, 1), (26, 2), (41, 2), (93, 1), (136, 1), (168, 2), (231, 1), (250, 1), (282, 1), (285, 1), (534, 1), (586, 1), (680, 1), (734, 2), (885, 1), (1035, 1), (1139, 1), (1224, 1), (1292, 1), (1293, 1), (1294, 1), (1295, 1), (1296, 1), (1297, 1), (1298, 1), (1299, 1)], [(0, 1), (9, 1)], [(24, 1), (27, 1), (34, 1), (49, 1), (60, 1), (97, 1), (111, 1), (208, 1), (256, 1), (1300, 1), (1301, 1)], [(0, 1), (6, 1), (9, 1), (11, 1), (16, 1), (60, 1), (71, 1), (79, 1), (121, 1), (131, 1), (144, 2), (156, 1), (256, 1), (282, 1)], [(48, 1), (75, 1), (1302, 1)], [(15, 1), (24, 2), (27, 2), (42, 1), (49, 1), (60, 2), (102, 1), (128, 1), (197, 1), (256, 1), (612, 1), (1065, 1), (1197, 1), (1303, 1)], [(13, 1), (26, 1), (71, 1), (86, 1), (145, 1), (186, 1), (593, 1), (1304, 1), (1305, 1), (1306, 1)], [(58, 1), (133, 1), (429, 1), (901, 1), (1056, 1), (1307, 1), (1308, 1), (1309, 1)], [(0, 1), (9, 1), (21, 1), (76, 1)], [(71, 1)], [(658, 1)], [(42, 1), (47, 1), (1310, 1)], [(24, 1), (48, 1), (101, 1), (125, 1), (131, 1), (138, 1), (361, 1), (1311, 1)], [(71, 1), (1312, 1)], [(71, 1)], [(0, 1), (9, 1), (38, 1), (305, 1)], [(9, 1), (16, 1), (71, 1), (263, 1), (297, 1), (428, 1)], [(3, 1), (42, 1), (736, 1), (1313, 1)], [(73, 1), (386, 1)], [(0, 2), (3, 1), (8, 1), (412, 1), (531, 1), (720, 1), (1171, 1)], [(27, 1)], [(9, 1), (75, 1), (101, 1), (104, 1), (202, 1), (302, 1), (411, 1), (439, 1), (441, 1), (579, 1), (678, 1), (881, 1), (1314, 1)], [(0, 1)], [(0, 1)], [(6, 1), (9, 1), (34, 2), (93, 1), (100, 1), (104, 1), (228, 1), (327, 1), (534, 1), (1315, 1)]]\n"
     ]
    }
   ],
   "source": [
    "# Create Dictionary\n",
    "id2word = corpora.Dictionary(data_lemmatized)\n",
    "\n",
    "# Create Corpus\n",
    "texts = data_lemmatized\n",
    "\n",
    "# Term Document Frequency\n",
    "corpus = [id2word.doc2bow(text) for text in texts]\n",
    "\n",
    "# View\n",
    "print(corpus)"
   ]
  },
  {
   "cell_type": "code",
   "execution_count": 13,
   "metadata": {
    "extensions": {
     "jupyter_dashboards": {
      "version": 1,
      "views": {
       "grid_default": {
        "col": 0,
        "height": 4,
        "hidden": false,
        "row": 36,
        "width": 12
       },
       "report_default": {
        "hidden": false
       }
      }
     }
    },
    "nbpresent": {
     "id": "85bbe127-bdc5-4c87-aa2c-9481b83e07ac"
    }
   },
   "outputs": [
    {
     "data": {
      "text/plain": [
       "u'iheartradio'"
      ]
     },
     "execution_count": 13,
     "metadata": {},
     "output_type": "execute_result"
    }
   ],
   "source": [
    "id2word[1]"
   ]
  },
  {
   "cell_type": "code",
   "execution_count": 14,
   "metadata": {
    "extensions": {
     "jupyter_dashboards": {
      "version": 1,
      "views": {
       "grid_default": {
        "hidden": true
       },
       "report_default": {
        "hidden": true
       }
      }
     }
    },
    "nbpresent": {
     "id": "b3be3278-593e-43a8-9e04-6d245220e88d"
    }
   },
   "outputs": [],
   "source": [
    "# Human readable format of corpus (term-frequency)\n",
    "#[[(id2word[id], freq) for id, freq in cp] for cp in corpus[:1]]"
   ]
  },
  {
   "cell_type": "code",
   "execution_count": 27,
   "metadata": {
    "extensions": {
     "jupyter_dashboards": {
      "version": 1,
      "views": {
       "grid_default": {
        "col": 0,
        "height": 12,
        "hidden": false,
        "row": 40,
        "width": 12
       },
       "report_default": {
        "hidden": false
       }
      }
     }
    },
    "nbpresent": {
     "id": "9b48686c-6083-48c3-a6c2-b5f05dfd4dc0"
    }
   },
   "outputs": [],
   "source": [
    "import warnings\n",
    "warnings.filterwarnings(\"ignore\",category=DeprecationWarning)\n",
    "\n",
    "# Build LDA model\n",
    "lda_model = gensim.models.ldamodel.LdaModel(corpus=corpus,\n",
    "                                           id2word=id2word,\n",
    "                                           num_topics=4, \n",
    "                                           random_state=100,\n",
    "                                           update_every=1,\n",
    "                                           chunksize=100,\n",
    "                                           passes=10,\n",
    "                                           alpha='auto',\n",
    "                                           per_word_topics=True)\n"
   ]
  },
  {
   "cell_type": "code",
   "execution_count": 28,
   "metadata": {
    "extensions": {
     "jupyter_dashboards": {
      "version": 1,
      "views": {
       "grid_default": {
        "col": 0,
        "height": 6,
        "hidden": false,
        "row": 52,
        "width": 12
       },
       "report_default": {
        "hidden": false
       }
      }
     }
    },
    "nbpresent": {
     "id": "8c9b52c5-579c-440c-b2cb-1761d743d214"
    }
   },
   "outputs": [
    {
     "name": "stdout",
     "output_type": "stream",
     "text": [
      "[(0,\n",
      "  u'0.065*\"love\" + 0.053*\"not\" + 0.052*\"song\" + 0.052*\"music\" + 0.039*\"spotify\" + 0.035*\"great\" + 0.031*\"do\" + 0.026*\"listen\" + 0.022*\"play\" + 0.020*\"playlist\"'),\n",
      " (1,\n",
      "  u'0.058*\"crash\" + 0.045*\"update\" + 0.039*\"keep\" + 0.029*\"second\" + 0.019*\"new\" + 0.017*\"time\" + 0.017*\"say\" + 0.016*\"ever\" + 0.015*\"work\" + 0.015*\"day\"'),\n",
      " (2,\n",
      "  u'0.033*\"amazing\" + 0.030*\"use\" + 0.029*\"awesome\" + 0.027*\"be\" + 0.026*\"pay\" + 0.025*\"have\" + 0.018*\"find\" + 0.016*\"thank\" + 0.013*\"download\" + 0.012*\"problem\"'),\n",
      " (3,\n",
      "  u'0.124*\"good\" + 0.071*\"music\" + 0.032*\"would\" + 0.026*\"go\" + 0.024*\"really\" + 0.018*\"app\" + 0.016*\"free\" + 0.014*\"cool\" + 0.012*\"streaming\" + 0.010*\"worth\"')]\n"
     ]
    }
   ],
   "source": [
    "# Print the Keyword in the 10 topics\n",
    "pprint(lda_model.print_topics())\n",
    "doc_lda = lda_model[corpus]"
   ]
  },
  {
   "cell_type": "code",
   "execution_count": 29,
   "metadata": {
    "extensions": {
     "jupyter_dashboards": {
      "version": 1,
      "views": {
       "grid_default": {
        "col": 0,
        "height": 29,
        "hidden": false,
        "row": 58,
        "width": null
       },
       "report_default": {
        "hidden": false
       }
      }
     }
    },
    "nbpresent": {
     "id": "7f7b4eb4-ee3f-4be3-a5bf-2a667752a485"
    }
   },
   "outputs": [
    {
     "data": {
      "text/html": [
       "\n",
       "<link rel=\"stylesheet\" type=\"text/css\" href=\"https://cdn.rawgit.com/bmabey/pyLDAvis/files/ldavis.v1.0.0.css\">\n",
       "\n",
       "\n",
       "<div id=\"ldavis_el942951123776741927899157066\"></div>\n",
       "<script type=\"text/javascript\">\n",
       "\n",
       "var ldavis_el942951123776741927899157066_data = {\"plot.opts\": {\"xlab\": \"PC1\", \"ylab\": \"PC2\"}, \"topic.order\": [1, 2, 4, 3], \"token.table\": {\"Topic\": [1, 3, 1, 1, 3, 1, 2, 4, 2, 3, 1, 4, 1, 2, 4, 2, 3, 4, 3, 4, 1, 4, 1, 2, 4, 3, 3, 1, 2, 2, 3, 3, 1, 4, 1, 2, 1, 1, 2, 2, 4, 3, 1, 3, 4, 4, 3, 4, 3, 1, 3, 3, 1, 4, 1, 1, 3, 4, 3, 4, 2, 1, 2, 2, 4, 4, 3, 1, 2, 4, 1, 2, 1, 1, 3, 2, 4, 1, 1, 3, 1, 4, 4, 2, 2, 1, 2, 2, 4, 4, 3, 1, 2, 1, 1, 3, 4, 3, 3, 2, 1, 3, 2, 4, 4, 2, 2, 2, 3, 4, 4, 3, 1, 1, 2, 1, 3, 4, 2, 1, 2, 4, 2, 1, 1, 2, 3, 3, 4, 1, 2, 4, 2, 3, 2, 4, 3, 3, 4, 2, 1, 4, 4, 2, 1, 2, 3, 3, 3], \"Freq\": [0.9506533741950989, 0.04321151599287987, 0.9828405380249023, 0.9786272048950195, 0.9218208193778992, 0.9594500660896301, 0.9892328977584839, 0.9868376851081848, 0.9867473840713501, 0.9707810282707214, 0.9453994631767273, 0.9878209233283997, 0.1781950742006302, 0.2969917953014374, 0.5147857666015625, 0.8657810688018799, 0.9595540165901184, 0.9059269428253174, 0.8862163424491882, 0.8885008096694946, 0.9780859351158142, 0.9659834504127502, 0.9826297760009766, 0.9712398648262024, 0.9703456163406372, 0.8488374352455139, 0.987550675868988, 0.9878467321395874, 0.9979958534240723, 0.9657469391822815, 0.881596028804779, 0.8832768797874451, 0.9963557720184326, 0.9837627410888672, 0.9796477556228638, 0.9052639007568359, 0.9765837788581848, 0.9590247869491577, 0.02996952459216118, 0.9843313097953796, 0.933369517326355, 0.9388843178749084, 0.9918121099472046, 0.94718337059021, 0.8916348814964294, 0.9731725454330444, 0.6721693873405457, 0.2987419664859772, 0.8452394008636475, 0.9895215630531311, 0.9876304864883423, 0.995580792427063, 0.9921132922172546, 0.9750919342041016, 0.9708614349365234, 0.9768503904342651, 0.9294530153274536, 0.8794979453086853, 0.9640800952911377, 0.9053837060928345, 0.9831046462059021, 0.9517314434051514, 0.9485630989074707, 0.9916101694107056, 0.9005211591720581, 0.8713468313217163, 0.8572335243225098, 0.9922224283218384, 0.9209781885147095, 0.9638436436653137, 0.9352289438247681, 0.06166344881057739, 0.9700833559036255, 0.9565801620483398, 0.8805868029594421, 0.9668760299682617, 0.907333254814148, 0.9674079418182373, 0.6487494707107544, 0.35140594840049744, 0.65412837266922, 0.32706418633461, 0.8551743030548096, 0.9669816493988037, 0.9553349614143372, 0.9931215047836304, 0.9559927582740784, 0.9748457074165344, 0.9312337040901184, 0.9581981897354126, 0.9320132732391357, 0.7475785613059998, 0.2532120943069458, 0.9915256500244141, 0.8405574560165405, 0.15009954571723938, 0.954343318939209, 0.877010703086853, 0.8661510944366455, 0.8891950845718384, 0.23502536118030548, 0.7638324499130249, 0.9627513289451599, 0.8139914274215698, 0.9011315703392029, 0.8971664905548096, 0.9725626707077026, 0.9854869246482849, 0.9054569005966187, 0.9734969139099121, 0.9304735660552979, 0.9227871298789978, 0.9442934393882751, 0.9540135264396667, 0.039750564843416214, 0.10629605501890182, 0.5314802527427673, 0.3188881576061249, 0.9633650183677673, 0.9249771237373352, 0.008564603514969349, 0.06851682811975479, 0.9674185514450073, 0.9235223531723022, 0.9825189709663391, 0.9876474142074585, 0.9368930459022522, 0.8118105530738831, 0.935133159160614, 0.958574652671814, 0.8464785814285278, 0.1302274763584137, 0.944091796875, 0.8333812355995178, 0.9934737682342529, 0.9683918356895447, 0.7902276515960693, 0.949735164642334, 0.9374419450759888, 0.9285488128662109, 0.9908666610717773, 0.9560443162918091, 0.8727225661277771, 0.9793755412101746, 0.9442225098609924, 0.9915767908096313, 0.9026894569396973, 0.9927908182144165, 0.8999342918395996], \"Term\": [\"able\", \"able\", \"ad\", \"add\", \"allow\", \"also\", \"always\", \"amazing\", \"android\", \"app\", \"artist\", \"awesome\", \"be\", \"be\", \"be\", \"best\", \"better\", \"bug\", \"button\", \"buy\", \"can\", \"change\", \"choose\", \"close\", \"constantly\", \"convenient\", \"cool\", \"could\", \"crash\", \"day\", \"definitely\", \"delete\", \"do\", \"download\", \"easy\", \"else\", \"enjoy\", \"even\", \"even\", \"ever\", \"excellent\", \"far\", \"favorite\", \"feature\", \"feel\", \"find\", \"free\", \"free\", \"genre\", \"get\", \"go\", \"good\", \"great\", \"have\", \"hear\", \"help\", \"high\", \"huge\", \"interface\", \"issue\", \"keep\", \"know\", \"last\", \"late\", \"lication\", \"life\", \"list\", \"listen\", \"look\", \"lot\", \"love\", \"love\", \"make\", \"many\", \"mind\", \"minute\", \"month\", \"much\", \"music\", \"music\", \"need\", \"need\", \"never\", \"new\", \"nice\", \"not\", \"old\", \"open\", \"pandora\", \"pay\", \"perfect\", \"play\", \"play\", \"playlist\", \"premium\", \"premium\", \"problem\", \"put\", \"quality\", \"randomly\", \"really\", \"really\", \"recent\", \"recommendation\", \"review\", \"s\", \"say\", \"second\", \"selection\", \"service\", \"shut\", \"something\", \"sometimes\", \"song\", \"song\", \"sound\", \"sound\", \"sound\", \"specific\", \"spotify\", \"spotify\", \"spotify\", \"star\", \"start\", \"still\", \"stop\", \"streaming\", \"stuff\", \"thank\", \"think\", \"time\", \"time\", \"turn\", \"type\", \"update\", \"use\", \"useful\", \"variety\", \"version\", \"video\", \"want\", \"week\", \"wifi\", \"will\", \"wish\", \"work\", \"worth\", \"would\", \"year\"]}, \"mdsDat\": {\"y\": [0.10309746663047016, 0.17558010072428928, -0.2270016361108884, -0.051675931243871154], \"cluster\": [1, 1, 1, 1], \"Freq\": [43.898780822753906, 23.62141227722168, 17.247079849243164, 15.232725143432617], \"topics\": [1, 2, 3, 4], \"x\": [-0.2624302683767603, 0.15707144214726954, -0.028072276495763552, 0.1334311027252544]}, \"R\": 30, \"lambda.step\": 0.01, \"tinfo\": {\"Category\": [\"Default\", \"Default\", \"Default\", \"Default\", \"Default\", \"Default\", \"Default\", \"Default\", \"Default\", \"Default\", \"Default\", \"Default\", \"Default\", \"Default\", \"Default\", \"Default\", \"Default\", \"Default\", \"Default\", \"Default\", \"Default\", \"Default\", \"Default\", \"Default\", \"Default\", \"Default\", \"Default\", \"Default\", \"Default\", \"Default\", \"Topic1\", \"Topic1\", \"Topic1\", \"Topic1\", \"Topic1\", \"Topic1\", \"Topic1\", \"Topic1\", \"Topic1\", \"Topic1\", \"Topic1\", \"Topic1\", \"Topic1\", \"Topic1\", \"Topic1\", \"Topic1\", \"Topic1\", \"Topic1\", \"Topic1\", \"Topic1\", \"Topic1\", \"Topic1\", \"Topic1\", \"Topic1\", \"Topic1\", \"Topic1\", \"Topic1\", \"Topic1\", \"Topic1\", \"Topic1\", \"Topic1\", \"Topic1\", \"Topic1\", \"Topic1\", \"Topic1\", \"Topic1\", \"Topic1\", \"Topic2\", \"Topic2\", \"Topic2\", \"Topic2\", \"Topic2\", \"Topic2\", \"Topic2\", \"Topic2\", \"Topic2\", \"Topic2\", \"Topic2\", \"Topic2\", \"Topic2\", \"Topic2\", \"Topic2\", \"Topic2\", \"Topic2\", \"Topic2\", \"Topic2\", \"Topic2\", \"Topic2\", \"Topic2\", \"Topic2\", \"Topic2\", \"Topic2\", \"Topic2\", \"Topic2\", \"Topic2\", \"Topic2\", \"Topic2\", \"Topic2\", \"Topic2\", \"Topic2\", \"Topic2\", \"Topic3\", \"Topic3\", \"Topic3\", \"Topic3\", \"Topic3\", \"Topic3\", \"Topic3\", \"Topic3\", \"Topic3\", \"Topic3\", \"Topic3\", \"Topic3\", \"Topic3\", \"Topic3\", \"Topic3\", \"Topic3\", \"Topic3\", \"Topic3\", \"Topic3\", \"Topic3\", \"Topic3\", \"Topic3\", \"Topic3\", \"Topic3\", \"Topic3\", \"Topic3\", \"Topic3\", \"Topic3\", \"Topic3\", \"Topic3\", \"Topic3\", \"Topic3\", \"Topic3\", \"Topic3\", \"Topic3\", \"Topic4\", \"Topic4\", \"Topic4\", \"Topic4\", \"Topic4\", \"Topic4\", \"Topic4\", \"Topic4\", \"Topic4\", \"Topic4\", \"Topic4\", \"Topic4\", \"Topic4\", \"Topic4\", \"Topic4\", \"Topic4\", \"Topic4\", \"Topic4\", \"Topic4\", \"Topic4\", \"Topic4\", \"Topic4\", \"Topic4\", \"Topic4\", \"Topic4\", \"Topic4\", \"Topic4\", \"Topic4\", \"Topic4\", \"Topic4\", \"Topic4\", \"Topic4\", \"Topic4\", \"Topic4\"], \"Term\": [\"good\", \"music\", \"crash\", \"not\", \"love\", \"update\", \"song\", \"keep\", \"great\", \"do\", \"second\", \"would\", \"amazing\", \"spotify\", \"use\", \"listen\", \"awesome\", \"go\", \"pay\", \"have\", \"really\", \"be\", \"playlist\", \"new\", \"say\", \"app\", \"find\", \"ever\", \"want\", \"time\", \"not\", \"great\", \"do\", \"listen\", \"playlist\", \"want\", \"can\", \"get\", \"ad\", \"make\", \"much\", \"hear\", \"enjoy\", \"many\", \"add\", \"also\", \"think\", \"still\", \"help\", \"easy\", \"wish\", \"artist\", \"choose\", \"favorite\", \"sometimes\", \"able\", \"could\", \"song\", \"know\", \"start\", \"love\", \"even\", \"spotify\", \"premium\", \"music\", \"play\", \"need\", \"crash\", \"update\", \"keep\", \"second\", \"new\", \"say\", \"ever\", \"work\", \"close\", \"last\", \"stop\", \"always\", \"nice\", \"day\", \"open\", \"late\", \"android\", \"will\", \"video\", \"s\", \"else\", \"minute\", \"recent\", \"randomly\", \"star\", \"look\", \"turn\", \"old\", \"best\", \"specific\", \"time\", \"play\", \"be\", \"love\", \"good\", \"would\", \"go\", \"app\", \"cool\", \"streaming\", \"worth\", \"variety\", \"year\", \"allow\", \"feature\", \"quality\", \"selection\", \"put\", \"list\", \"delete\", \"far\", \"definitely\", \"button\", \"better\", \"stuff\", \"something\", \"genre\", \"convenient\", \"type\", \"high\", \"perfect\", \"mind\", \"interface\", \"useful\", \"really\", \"free\", \"music\", \"premium\", \"sound\", \"amazing\", \"awesome\", \"use\", \"pay\", \"have\", \"find\", \"thank\", \"download\", \"service\", \"month\", \"problem\", \"version\", \"shut\", \"change\", \"excellent\", \"lot\", \"bug\", \"issue\", \"pandora\", \"buy\", \"constantly\", \"life\", \"wifi\", \"feel\", \"review\", \"never\", \"recommendation\", \"lication\", \"week\", \"huge\", \"be\", \"need\", \"free\", \"spotify\"], \"loglift\": [30.0, 29.0, 28.0, 27.0, 26.0, 25.0, 24.0, 23.0, 22.0, 21.0, 20.0, 19.0, 18.0, 17.0, 16.0, 15.0, 14.0, 13.0, 12.0, 11.0, 10.0, 9.0, 8.0, 7.0, 6.0, 5.0, 4.0, 3.0, 2.0, 1.0, 0.819100022315979, 0.8166999816894531, 0.8159999847412109, 0.8147000074386597, 0.8122000098228455, 0.8091999888420105, 0.8066999912261963, 0.8058000206947327, 0.804099977016449, 0.8014000058174133, 0.800000011920929, 0.7925999760627747, 0.7918999791145325, 0.7907999753952026, 0.7907000184059143, 0.7904000282287598, 0.7893999814987183, 0.7893000245094299, 0.7890999913215637, 0.7886999845504761, 0.7857000231742859, 0.785099983215332, 0.784600019454956, 0.7840999960899353, 0.7832000255584717, 0.7814000248908997, 0.7810999751091003, 0.777899980545044, 0.7771999835968018, 0.7746000289916992, 0.7555000185966492, 0.7728000283241272, 0.7454000115394592, 0.6503999829292297, 0.38989999890327454, 0.5321999788284302, 0.39989998936653137, 1.4358999729156494, 1.433899998664856, 1.4322999715805054, 1.4287999868392944, 1.4184000492095947, 1.4178999662399292, 1.4155999422073364, 1.4147000312805176, 1.4139000177383423, 1.4134999513626099, 1.4117000102996826, 1.4106999635696411, 1.4093999862670898, 1.4092999696731567, 1.4089000225067139, 1.4079999923706055, 1.4016000032424927, 1.3961000442504883, 1.3776999711990356, 1.375499963760376, 1.3738000392913818, 1.3737000226974487, 1.3730000257492065, 1.3717999458312988, 1.3708000183105469, 1.3661999702453613, 1.3616000413894653, 1.3597999811172485, 1.3493000268936157, 1.3481999635696411, 1.2833000421524048, 0.04800000041723251, 0.21459999680519104, -1.3135000467300415, 1.7525999546051025, 1.7376999855041504, 1.7330000400543213, 1.72160005569458, 1.715399980545044, 1.7070000171661377, 1.6955000162124634, 1.6917999982833862, 1.6917999982833862, 1.6845999956130981, 1.6828999519348145, 1.6727999448776245, 1.6683000326156616, 1.6676000356674194, 1.6668000221252441, 1.666100025177002, 1.6632000207901, 1.65339994430542, 1.649999976158142, 1.6454999446868896, 1.6435999870300293, 1.6374000310897827, 1.6359000205993652, 1.635200023651123, 1.6334999799728394, 1.6274000406265259, 1.6232999563217163, 1.621000051498413, 1.6190999746322632, 1.6186000108718872, 1.4854999780654907, 1.3518999814987183, 0.7069000005722046, -0.12489999830722809, 1.1274000406265259, 1.8609000444412231, 1.858299970626831, 1.857200026512146, 1.854599952697754, 1.8532999753952026, 1.8442000150680542, 1.8382999897003174, 1.8288999795913696, 1.8269000053405762, 1.8243999481201172, 1.8243000507354736, 1.823099970817566, 1.8086999654769897, 1.807800054550171, 1.8029999732971191, 1.7978999614715576, 1.7956000566482544, 1.7879999876022339, 1.7869000434875488, 1.7825000286102295, 1.781000018119812, 1.7789000272750854, 1.778499960899353, 1.77839994430542, 1.7776999473571777, 1.7618000507354736, 1.7544000148773193, 1.7523000240325928, 1.738700032234192, 1.736899971961975, 1.2203999757766724, 0.7705000042915344, 0.7279000282287598, -0.8355000019073486], \"Freq\": [136.0, 221.0, 87.0, 149.0, 194.0, 68.0, 150.0, 58.0, 96.0, 86.0, 44.0, 35.0, 32.0, 116.0, 29.0, 73.0, 28.0, 29.0, 26.0, 24.0, 34.0, 50.0, 57.0, 28.0, 26.0, 20.0, 18.0, 24.0, 44.0, 30.0, 148.3978271484375, 96.1290512084961, 85.68592834472656, 72.94474792480469, 56.85392379760742, 43.78652572631836, 37.20608139038086, 35.75109100341797, 32.939754486083984, 28.238313674926758, 30.298423767089844, 19.977699279785156, 19.847246170043945, 19.22684669494629, 18.792261123657227, 19.16183090209961, 18.151443481445312, 18.691741943359375, 18.796314239501953, 17.750242233276367, 16.319469451904297, 16.29013442993164, 15.664318084716797, 15.512795448303223, 15.26016616821289, 22.193416595458984, 14.556724548339844, 144.2438507080078, 13.044099807739258, 13.40772819519043, 181.85496520996094, 31.724987030029297, 108.0126953125, 56.04735565185547, 143.90408325195312, 61.988895416259766, 18.019073486328125, 86.55243682861328, 67.82661437988281, 58.366241455078125, 44.01936721801758, 28.252384185791016, 26.070903778076172, 23.722183227539062, 22.547042846679688, 21.00061798095703, 20.47035789489746, 19.625572204589844, 19.574859619140625, 18.218339920043945, 22.025236129760742, 17.845417022705078, 17.528491973876953, 14.584604263305664, 13.639391899108887, 11.097673416137695, 9.376401901245117, 9.276677131652832, 9.65011215209961, 8.716404914855957, 8.3788480758667, 9.616939544677734, 9.04953670501709, 7.810967445373535, 8.662337303161621, 7.361966609954834, 7.552975177764893, 26.180269241333008, 20.553007125854492, 14.786094665527344, 12.359434127807617, 135.93679809570312, 34.56224822998047, 28.650896072387695, 19.875276565551758, 15.532962799072266, 13.191357612609863, 11.452974319458008, 9.85927963256836, 10.404616355895996, 9.076448440551758, 8.81845474243164, 7.425091743469238, 7.070645332336426, 7.2953314781188965, 7.457834243774414, 9.299426078796387, 6.7843427658081055, 6.132758140563965, 6.080255508422852, 5.590002536773682, 5.495663642883301, 5.765894889831543, 5.238063335418701, 5.21227502822876, 5.299746990203857, 4.723278999328613, 4.6910529136657715, 4.953385353088379, 4.515913486480713, 4.405285835266113, 25.931297302246094, 17.848974227905273, 77.6248779296875, 10.140948295593262, 5.009998798370361, 31.758201599121094, 27.689966201782227, 29.220991134643555, 25.39139747619629, 23.923236846923828, 17.814815521240234, 15.358148574829102, 12.534771919250488, 11.669445037841797, 11.44814395904541, 11.872686386108398, 11.065488815307617, 8.991601943969727, 8.65279483795166, 7.922040939331055, 8.586648941040039, 8.102240562438965, 7.04008150100708, 6.837168216705322, 7.134090900421143, 6.522964954376221, 6.2130255699157715, 6.20094633102417, 6.0684709548950195, 6.000608444213867, 5.186031341552734, 6.489998817443848, 4.878355503082275, 4.5330352783203125, 4.9185333251953125, 26.06997299194336, 9.057672500610352, 8.44662857055664, 7.713259696960449], \"Total\": [136.0, 221.0, 87.0, 149.0, 194.0, 68.0, 150.0, 58.0, 96.0, 86.0, 44.0, 35.0, 32.0, 116.0, 29.0, 73.0, 28.0, 29.0, 26.0, 24.0, 34.0, 50.0, 57.0, 28.0, 26.0, 20.0, 18.0, 24.0, 44.0, 30.0, 149.0250701904297, 96.76314544677734, 86.3145523071289, 73.57221221923828, 57.48716735839844, 44.40557098388672, 37.82898712158203, 36.38121795654297, 33.576148986816406, 28.86349868774414, 31.01070213317871, 20.600261688232422, 20.47955322265625, 19.862422943115234, 19.41495132446289, 19.803010940551758, 18.77787971496582, 19.338048934936523, 19.450265884399414, 18.373950958251953, 16.945158004760742, 16.924062728881836, 16.2828369140625, 16.13208770751953, 15.884892463684082, 23.141979217529297, 15.184541702270508, 150.94125366210938, 13.65931510925293, 14.07654094696045, 194.60475158691406, 33.36722946166992, 116.7596435546875, 66.62245178222656, 221.9654998779297, 82.9344253540039, 27.517534255981445, 87.17471313476562, 68.44670104980469, 58.99677276611328, 44.647979736328125, 28.95608139038086, 26.733495712280273, 24.382034301757812, 23.19537925720215, 21.62184715270996, 21.084522247314453, 20.250141143798828, 20.21768569946289, 18.8415584564209, 22.78029441833496, 18.464460372924805, 18.152294158935547, 15.201458930969238, 14.294822692871094, 11.846442222595215, 10.031582832336426, 9.941852569580078, 10.3425874710083, 9.3482084274292, 8.99690055847168, 10.336787223815918, 9.772218704223633, 8.47375202178955, 9.414297103881836, 8.085185050964355, 8.304224967956543, 30.715484619140625, 82.9344253540039, 50.506446838378906, 194.60475158691406, 136.6036834716797, 35.254154205322266, 29.363208770751953, 20.60196876525879, 16.20170021057129, 13.875650405883789, 12.185807228088379, 10.529251098632812, 11.111922264099121, 9.763285636901855, 9.501855850219727, 8.081730842590332, 7.730903625488281, 7.981658458709717, 8.165802955627441, 10.189330101013184, 7.455657482147217, 6.805838108062744, 6.770355701446533, 6.252904891967773, 6.159072399139404, 6.502041339874268, 5.9154839515686035, 5.890409469604492, 5.999655246734619, 5.379508018493652, 5.364730358123779, 5.678031921386719, 5.186291217803955, 5.061832427978516, 34.03887939453125, 26.778963088989258, 221.9654998779297, 66.62245178222656, 9.407687187194824, 32.42681121826172, 28.345218658447266, 29.946556091308594, 26.090635299682617, 24.61306381225586, 18.496206283569336, 16.040496826171875, 13.214568138122559, 12.326695442199707, 12.12343978881836, 12.574090957641602, 11.734060287475586, 9.672493934631348, 9.316929817199707, 8.571096420288086, 9.337614059448242, 8.830734252929688, 7.7315287590026855, 7.516910076141357, 7.878439903259277, 7.213924407958984, 6.885891914367676, 6.87503719329834, 6.729211807250977, 6.658295154571533, 5.846761226654053, 7.371085166931152, 5.552340507507324, 5.229883193969727, 5.685061454772949, 50.506446838378906, 27.517534255981445, 26.778963088989258, 116.7596435546875], \"logprob\": [30.0, 29.0, 28.0, 27.0, 26.0, 25.0, 24.0, 23.0, 22.0, 21.0, 20.0, 19.0, 18.0, 17.0, 16.0, 15.0, 14.0, 13.0, 12.0, 11.0, 10.0, 9.0, 8.0, 7.0, 6.0, 5.0, 4.0, 3.0, 2.0, 1.0, -2.9321999549865723, -3.3664000034332275, -3.4814999103546143, -3.642400026321411, -3.891700029373169, -4.1528000831604, -4.315700054168701, -4.355599880218506, -4.4375, -4.5914998054504395, -4.520999908447266, -4.9375, -4.9440999031066895, -4.975800037384033, -4.998700141906738, -4.9791998863220215, -5.033400058746338, -5.0040998458862305, -4.998499870300293, -5.055699825286865, -5.139800071716309, -5.141600131988525, -5.180799961090088, -5.190499782562256, -5.206900119781494, -4.832300186157227, -5.2540998458862305, -2.960599899291992, -5.363800048828125, -5.336299896240234, -2.7288999557495117, -4.474999904632568, -3.2499001026153564, -3.905900001525879, -2.9630000591278076, -3.8052000999450684, -5.0406999588012695, -2.8517000675201416, -3.0954999923706055, -3.245699882507324, -3.5278000831604004, -3.9711999893188477, -4.051599979400635, -4.145999908447266, -4.196800231933594, -4.267899990081787, -4.293399810791016, -4.335599899291992, -4.338200092315674, -4.409999847412109, -4.220200061798096, -4.430699825286865, -4.448599815368652, -4.632400035858154, -4.699399948120117, -4.905700206756592, -5.07420015335083, -5.08489990234375, -5.045400142669678, -5.147200107574463, -5.186699867248535, -5.048900127410889, -5.1097002029418945, -5.256899833679199, -5.15339994430542, -5.316100120544434, -5.290500164031982, -4.047399997711182, -4.289400100708008, -4.61870002746582, -4.797999858856201, -2.085700035095215, -3.4551000595092773, -3.642699956893921, -4.008399963378906, -4.254899978637695, -4.418300151824951, -4.559599876403809, -4.709499835968018, -4.655600070953369, -4.792200088500977, -4.821000099182129, -4.993000030517578, -5.041900157928467, -5.010700225830078, -4.98859977722168, -4.767899990081787, -5.0833001136779785, -5.184299945831299, -5.192800045013428, -5.276899814605713, -5.293900012969971, -5.2459001541137695, -5.341899871826172, -5.34689998626709, -5.3302001953125, -5.445400238037109, -5.452199935913086, -5.397799968719482, -5.490300178527832, -5.515100002288818, -3.7423999309539795, -4.115900039672852, -2.6459999084472656, -4.681300163269043, -5.386499881744385, -3.4154999256134033, -3.5525999069213867, -3.498800039291382, -3.6393001079559326, -3.6988000869750977, -3.9937000274658203, -4.142099857330322, -4.345200061798096, -4.4166998863220215, -4.4359002113342285, -4.399499893188477, -4.469900131225586, -4.6774001121521, -4.715799808502197, -4.803999900817871, -4.723499774932861, -4.781599998474121, -4.922100067138672, -4.951300144195557, -4.90880012512207, -4.9984002113342285, -5.047100067138672, -5.048999786376953, -5.0706000328063965, -5.0817999839782715, -5.227700233459473, -5.003399848937988, -5.288899898529053, -5.362299919128418, -5.280700206756592, -3.6129000186920166, -4.670100212097168, -4.7399001121521, -4.8308000564575195]}};\n",
       "\n",
       "function LDAvis_load_lib(url, callback){\n",
       "  var s = document.createElement('script');\n",
       "  s.src = url;\n",
       "  s.async = true;\n",
       "  s.onreadystatechange = s.onload = callback;\n",
       "  s.onerror = function(){console.warn(\"failed to load library \" + url);};\n",
       "  document.getElementsByTagName(\"head\")[0].appendChild(s);\n",
       "}\n",
       "\n",
       "if(typeof(LDAvis) !== \"undefined\"){\n",
       "   // already loaded: just create the visualization\n",
       "   !function(LDAvis){\n",
       "       new LDAvis(\"#\" + \"ldavis_el942951123776741927899157066\", ldavis_el942951123776741927899157066_data);\n",
       "   }(LDAvis);\n",
       "}else if(typeof define === \"function\" && define.amd){\n",
       "   // require.js is available: use it to load d3/LDAvis\n",
       "   require.config({paths: {d3: \"https://cdnjs.cloudflare.com/ajax/libs/d3/3.5.5/d3.min\"}});\n",
       "   require([\"d3\"], function(d3){\n",
       "      window.d3 = d3;\n",
       "      LDAvis_load_lib(\"https://cdn.rawgit.com/bmabey/pyLDAvis/files/ldavis.v1.0.0.js\", function(){\n",
       "        new LDAvis(\"#\" + \"ldavis_el942951123776741927899157066\", ldavis_el942951123776741927899157066_data);\n",
       "      });\n",
       "    });\n",
       "}else{\n",
       "    // require.js not available: dynamically load d3 & LDAvis\n",
       "    LDAvis_load_lib(\"https://cdnjs.cloudflare.com/ajax/libs/d3/3.5.5/d3.min.js\", function(){\n",
       "         LDAvis_load_lib(\"https://cdn.rawgit.com/bmabey/pyLDAvis/files/ldavis.v1.0.0.js\", function(){\n",
       "                 new LDAvis(\"#\" + \"ldavis_el942951123776741927899157066\", ldavis_el942951123776741927899157066_data);\n",
       "            })\n",
       "         });\n",
       "}\n",
       "</script>"
      ],
      "text/plain": [
       "PreparedData(topic_coordinates=            Freq  cluster  topics         x         y\n",
       "topic                                                \n",
       "0      43.898781        1       1 -0.262430  0.103097\n",
       "1      23.621412        1       2  0.157071  0.175580\n",
       "3      17.247080        1       3 -0.028072 -0.227002\n",
       "2      15.232725        1       4  0.133431 -0.051676, topic_info=     Category        Freq            Term       Total  loglift  logprob\n",
       "term                                                                   \n",
       "380   Default  136.000000            good  136.000000  30.0000  30.0000\n",
       "196   Default  221.000000           music  221.000000  29.0000  29.0000\n",
       "381   Default   87.000000           crash   87.000000  28.0000  28.0000\n",
       "998   Default  149.000000             not  149.000000  27.0000  27.0000\n",
       "161   Default  194.000000            love  194.000000  26.0000  26.0000\n",
       "1281  Default   68.000000          update   68.000000  25.0000  25.0000\n",
       "43    Default  150.000000            song  150.000000  24.0000  24.0000\n",
       "478   Default   58.000000            keep   58.000000  23.0000  23.0000\n",
       "138   Default   96.000000           great   96.000000  22.0000  22.0000\n",
       "696   Default   86.000000              do   86.000000  21.0000  21.0000\n",
       "85    Default   44.000000          second   44.000000  20.0000  20.0000\n",
       "186   Default   35.000000           would   35.000000  19.0000  19.0000\n",
       "284   Default   32.000000         amazing   32.000000  18.0000  18.0000\n",
       "356   Default  116.000000         spotify  116.000000  17.0000  17.0000\n",
       "183   Default   29.000000             use   29.000000  16.0000  16.0000\n",
       "532   Default   73.000000          listen   73.000000  15.0000  15.0000\n",
       "255   Default   28.000000         awesome   28.000000  14.0000  14.0000\n",
       "13    Default   29.000000              go   29.000000  13.0000  13.0000\n",
       "932   Default   26.000000             pay   26.000000  12.0000  12.0000\n",
       "583   Default   24.000000            have   24.000000  11.0000  11.0000\n",
       "434   Default   34.000000          really   34.000000  10.0000  10.0000\n",
       "1108  Default   50.000000              be   50.000000   9.0000   9.0000\n",
       "459   Default   57.000000        playlist   57.000000   8.0000   8.0000\n",
       "111   Default   28.000000             new   28.000000   7.0000   7.0000\n",
       "580   Default   26.000000             say   26.000000   6.0000   6.0000\n",
       "167   Default   20.000000             app   20.000000   5.0000   5.0000\n",
       "673   Default   18.000000            find   18.000000   4.0000   4.0000\n",
       "114   Default   24.000000            ever   24.000000   3.0000   3.0000\n",
       "263   Default   44.000000            want   44.000000   2.0000   2.0000\n",
       "1309  Default   30.000000            time   30.000000   1.0000   1.0000\n",
       "...       ...         ...             ...         ...      ...      ...\n",
       "583    Topic4   23.923237            have   24.613064   1.8533  -3.6988\n",
       "673    Topic4   17.814816            find   18.496206   1.8442  -3.9937\n",
       "360    Topic4   15.358149           thank   16.040497   1.8383  -4.1421\n",
       "90     Topic4   12.534772        download   13.214568   1.8289  -4.3452\n",
       "516    Topic4   11.669445         service   12.326695   1.8269  -4.4167\n",
       "8      Topic4   11.448144           month   12.123440   1.8244  -4.4359\n",
       "1230   Topic4   11.872686         problem   12.574091   1.8243  -4.3995\n",
       "106    Topic4   11.065489         version   11.734060   1.8231  -4.4699\n",
       "455    Topic4    8.991602            shut    9.672494   1.8087  -4.6774\n",
       "135    Topic4    8.652795          change    9.316930   1.8078  -4.7158\n",
       "4      Topic4    7.922041       excellent    8.571096   1.8030  -4.8040\n",
       "535    Topic4    8.586649             lot    9.337614   1.7979  -4.7235\n",
       "1211   Topic4    8.102241             bug    8.830734   1.7956  -4.7816\n",
       "450    Topic4    7.040082           issue    7.731529   1.7880  -4.9221\n",
       "983    Topic4    6.837168         pandora    7.516910   1.7869  -4.9513\n",
       "1193   Topic4    7.134091             buy    7.878440   1.7825  -4.9088\n",
       "1197   Topic4    6.522965      constantly    7.213924   1.7810  -4.9984\n",
       "863    Topic4    6.213026            life    6.885892   1.7789  -5.0471\n",
       "1302   Topic4    6.200946            wifi    6.875037   1.7785  -5.0490\n",
       "496    Topic4    6.068471            feel    6.729212   1.7784  -5.0706\n",
       "762    Topic4    6.000608          review    6.658295   1.7777  -5.0818\n",
       "125    Topic4    5.186031           never    5.846761   1.7618  -5.2277\n",
       "1083   Topic4    6.489999  recommendation    7.371085   1.7544  -5.0034\n",
       "606    Topic4    4.878356        lication    5.552341   1.7523  -5.2889\n",
       "948    Topic4    4.533035            week    5.229883   1.7387  -5.3623\n",
       "236    Topic4    4.918533            huge    5.685061   1.7369  -5.2807\n",
       "1108   Topic4   26.069973              be   50.506447   1.2204  -3.6129\n",
       "914    Topic4    9.057673            need   27.517534   0.7705  -4.6701\n",
       "460    Topic4    8.446629            free   26.778963   0.7279  -4.7399\n",
       "356    Topic4    7.713260         spotify  116.759644  -0.8355  -4.8308\n",
       "\n",
       "[170 rows x 6 columns], token_table=      Topic      Freq        Term\n",
       "term                             \n",
       "595       1  0.950653        able\n",
       "595       3  0.043212        able\n",
       "1239      1  0.982841          ad\n",
       "1017      1  0.978627         add\n",
       "332       3  0.921821       allow\n",
       "1011      1  0.959450        also\n",
       "405       2  0.989233      always\n",
       "284       4  0.986838     amazing\n",
       "944       2  0.986747     android\n",
       "167       3  0.970781         app\n",
       "720       1  0.945399      artist\n",
       "255       4  0.987821     awesome\n",
       "1108      1  0.178195          be\n",
       "1108      2  0.296992          be\n",
       "1108      4  0.514786          be\n",
       "757       2  0.865781        best\n",
       "368       3  0.959554      better\n",
       "1211      4  0.905927         bug\n",
       "65        3  0.886216      button\n",
       "1193      4  0.888501         buy\n",
       "239       1  0.978086         can\n",
       "135       4  0.965983      change\n",
       "372       1  0.982630      choose\n",
       "753       2  0.971240       close\n",
       "1197      4  0.970346  constantly\n",
       "593       3  0.848837  convenient\n",
       "58        3  0.987551        cool\n",
       "475       1  0.987847       could\n",
       "381       2  0.997996       crash\n",
       "398       2  0.965747         day\n",
       "...     ...       ...         ...\n",
       "356       1  0.924977     spotify\n",
       "356       2  0.008565     spotify\n",
       "356       4  0.068517     spotify\n",
       "1275      2  0.967419        star\n",
       "1179      1  0.923522       start\n",
       "351       1  0.982519       still\n",
       "704       2  0.987647        stop\n",
       "1080      3  0.936893   streaming\n",
       "729       3  0.811811       stuff\n",
       "360       4  0.935133       thank\n",
       "488       1  0.958575       think\n",
       "1309      2  0.846479        time\n",
       "1309      4  0.130227        time\n",
       "275       2  0.944092        turn\n",
       "202       3  0.833381        type\n",
       "1281      2  0.993474      update\n",
       "183       4  0.968392         use\n",
       "784       3  0.790228      useful\n",
       "1256      3  0.949735     variety\n",
       "106       4  0.937442     version\n",
       "87        2  0.928549       video\n",
       "263       1  0.990867        want\n",
       "948       4  0.956044        week\n",
       "1302      4  0.872723        wifi\n",
       "890       2  0.979376        will\n",
       "731       1  0.944223        wish\n",
       "232       2  0.991577        work\n",
       "37        3  0.902689       worth\n",
       "186       3  0.992791       would\n",
       "429       3  0.899934        year\n",
       "\n",
       "[149 rows x 3 columns], R=30, lambda_step=0.01, plot_opts={'xlab': 'PC1', 'ylab': 'PC2'}, topic_order=[1, 2, 4, 3])"
      ]
     },
     "execution_count": 29,
     "metadata": {},
     "output_type": "execute_result"
    }
   ],
   "source": [
    "import warnings\n",
    "warnings.filterwarnings(\"ignore\",category=DeprecationWarning)\n",
    "# Visualize the topics\n",
    "pyLDAvis.enable_notebook()\n",
    "vis = pyLDAvis.gensim.prepare(lda_model, corpus, id2word)\n",
    "vis"
   ]
  },
  {
   "cell_type": "code",
   "execution_count": 30,
   "metadata": {
    "extensions": {
     "jupyter_dashboards": {
      "version": 1,
      "views": {
       "grid_default": {
        "col": 0,
        "height": 4,
        "hidden": false,
        "row": 87,
        "width": 12
       },
       "report_default": {
        "hidden": false
       }
      }
     }
    },
    "nbpresent": {
     "id": "9fb063b7-96ce-47c4-967b-95e0e3f8f3ad"
    }
   },
   "outputs": [
    {
     "name": "stdout",
     "output_type": "stream",
     "text": [
      "('\\nPerplexity: ', -6.413305381851651)\n",
      "('\\nCoherence Score: ', 0.4960519494995757)\n"
     ]
    }
   ],
   "source": [
    "# Compute Perplexity\n",
    "print('\\nPerplexity: ', lda_model.log_perplexity(corpus))  # a measure of how good the model is. lower the better.\n",
    "\n",
    "import warnings\n",
    "warnings.filterwarnings(\"ignore\",category=DeprecationWarning)\n",
    "# Compute Coherence Score\n",
    "coherence_model_lda = CoherenceModel(model=lda_model, texts=data_lemmatized, dictionary=id2word, coherence='c_v')\n",
    "coherence_lda = coherence_model_lda.get_coherence()\n",
    "print('\\nCoherence Score: ', coherence_lda)\n"
   ]
  },
  {
   "cell_type": "code",
   "execution_count": null,
   "metadata": {
    "extensions": {
     "jupyter_dashboards": {
      "version": 1,
      "views": {
       "grid_default": {
        "hidden": true
       },
       "report_default": {
        "hidden": true
       }
      }
     }
    },
    "nbpresent": {
     "id": "1ecd0d99-cbdd-426b-9d36-5395a684a8e2"
    }
   },
   "outputs": [],
   "source": []
  }
 ],
 "metadata": {
  "anaconda-cloud": {},
  "extensions": {
   "jupyter_dashboards": {
    "activeView": "report_default",
    "version": 1,
    "views": {
     "grid_default": {
      "cellMargin": 10,
      "defaultCellHeight": 20,
      "maxColumns": 12,
      "name": "grid",
      "type": "grid"
     },
     "report_default": {
      "name": "report",
      "type": "report"
     }
    }
   }
  },
  "kernelspec": {
   "display_name": "Python [default]",
   "language": "python",
   "name": "python2"
  },
  "language_info": {
   "codemirror_mode": {
    "name": "ipython",
    "version": 2
   },
   "file_extension": ".py",
   "mimetype": "text/x-python",
   "name": "python",
   "nbconvert_exporter": "python",
   "pygments_lexer": "ipython2",
   "version": "2.7.13"
  },
  "nbpresent": {
   "slides": {
    "06665074-5a34-42ac-8d7a-c636a04384c4": {
     "id": "06665074-5a34-42ac-8d7a-c636a04384c4",
     "prev": "e05eca8c-65f7-495d-85f9-26c4938e8e46",
     "regions": {
      "198347ca-8cc1-439d-8115-f214e2f48141": {
       "attrs": {
        "height": 0.8,
        "width": 0.8,
        "x": 0.1,
        "y": 0.1
       },
       "content": {
        "cell": "85bbe127-bdc5-4c87-aa2c-9481b83e07ac",
        "part": "whole"
       },
       "id": "198347ca-8cc1-439d-8115-f214e2f48141"
      }
     }
    },
    "108e302f-8485-4cec-b835-604fa062f571": {
     "id": "108e302f-8485-4cec-b835-604fa062f571",
     "prev": "95df674d-f368-4983-9e53-d1970f1cce20",
     "regions": {
      "ac564226-56f5-44d6-b747-dfca51b4594f": {
       "attrs": {
        "height": 0.8,
        "width": 0.8,
        "x": 0.1,
        "y": 0.1
       },
       "content": {
        "cell": "cf5dfef5-2131-4772-9755-633888a36089",
        "part": "whole"
       },
       "id": "ac564226-56f5-44d6-b747-dfca51b4594f"
      }
     }
    },
    "154cf516-f826-4775-95c7-24fab535f55f": {
     "id": "154cf516-f826-4775-95c7-24fab535f55f",
     "prev": "87b2b7f2-8060-4c2f-83b4-aa5bbe2c245d",
     "regions": {
      "bafde9b7-51c4-40cf-9f3b-f425a53c98a2": {
       "attrs": {
        "height": 0.8,
        "width": 0.8,
        "x": 0.1,
        "y": 0.1
       },
       "content": {
        "cell": "f0518271-cfbd-4fd9-a7e2-404a41d3083a",
        "part": "whole"
       },
       "id": "bafde9b7-51c4-40cf-9f3b-f425a53c98a2"
      }
     }
    },
    "173aeed9-cad1-417c-80ce-8548a41b73df": {
     "id": "173aeed9-cad1-417c-80ce-8548a41b73df",
     "prev": "25759c41-67af-4ee2-998d-667b10f6d3e3",
     "regions": {
      "0da81a50-eb42-4368-9b70-f6a3628c05c7": {
       "attrs": {
        "height": 0.8,
        "width": 0.8,
        "x": 0.1,
        "y": 0.1
       },
       "content": {
        "cell": "5aa33765-1a24-4ddb-98c9-2ede92aae97f",
        "part": "whole"
       },
       "id": "0da81a50-eb42-4368-9b70-f6a3628c05c7"
      }
     }
    },
    "25759c41-67af-4ee2-998d-667b10f6d3e3": {
     "id": "25759c41-67af-4ee2-998d-667b10f6d3e3",
     "prev": null,
     "regions": {
      "f025df98-fc47-4191-9189-7f39f915f0f7": {
       "attrs": {
        "height": 0.8,
        "width": 0.8,
        "x": 0.1,
        "y": 0.1
       },
       "content": {
        "cell": "24ca0b73-b287-45eb-8374-5f724ba0606a",
        "part": "whole"
       },
       "id": "f025df98-fc47-4191-9189-7f39f915f0f7"
      }
     }
    },
    "2bd78ed9-8eb4-4488-9b1a-048bc7ad49b6": {
     "id": "2bd78ed9-8eb4-4488-9b1a-048bc7ad49b6",
     "prev": "d9c31ac4-e98e-4025-adee-7d5b9ef0c380",
     "regions": {
      "1e7c2003-cff2-4fc3-b34a-8f38bedb0020": {
       "attrs": {
        "height": 0.8,
        "width": 0.8,
        "x": 0.1,
        "y": 0.1
       },
       "content": {
        "cell": "9b48686c-6083-48c3-a6c2-b5f05dfd4dc0",
        "part": "whole"
       },
       "id": "1e7c2003-cff2-4fc3-b34a-8f38bedb0020"
      }
     }
    },
    "46f0ae02-170e-4f94-9acb-986b9a626ae1": {
     "id": "46f0ae02-170e-4f94-9acb-986b9a626ae1",
     "prev": "108e302f-8485-4cec-b835-604fa062f571",
     "regions": {
      "2d34914e-db2b-4f9d-87b3-1ffdf5bd23fc": {
       "attrs": {
        "height": 0.8,
        "width": 0.8,
        "x": 0.1,
        "y": 0.1
       },
       "content": {
        "cell": "2b74f5ee-ab75-48b6-8254-fcf18cb1025a",
        "part": "whole"
       },
       "id": "2d34914e-db2b-4f9d-87b3-1ffdf5bd23fc"
      }
     }
    },
    "57dc2581-e052-4d9a-82f8-7b6121a09876": {
     "id": "57dc2581-e052-4d9a-82f8-7b6121a09876",
     "prev": "173aeed9-cad1-417c-80ce-8548a41b73df",
     "regions": {
      "c49aec27-417b-4250-aab5-f8182fb87ffa": {
       "attrs": {
        "height": 0.8,
        "width": 0.8,
        "x": 0.1,
        "y": 0.1
       },
       "content": {
        "cell": "94da91ee-dace-41a3-b461-3a350ed473a0",
        "part": "whole"
       },
       "id": "c49aec27-417b-4250-aab5-f8182fb87ffa"
      }
     }
    },
    "87b2b7f2-8060-4c2f-83b4-aa5bbe2c245d": {
     "id": "87b2b7f2-8060-4c2f-83b4-aa5bbe2c245d",
     "prev": "e2c9d68d-782a-4ce6-ad53-4ac7173bbcd2",
     "regions": {
      "e7c13fd8-b47e-42c4-881f-2539dfe1e48c": {
       "attrs": {
        "height": 0.8,
        "width": 0.8,
        "x": 0.1,
        "y": 0.1
       },
       "content": {
        "cell": "3d82c11d-fbb2-4c36-9e4d-be62db4cb92b",
        "part": "whole"
       },
       "id": "e7c13fd8-b47e-42c4-881f-2539dfe1e48c"
      }
     }
    },
    "88e2081a-297a-49ba-9880-718573ab2b8e": {
     "id": "88e2081a-297a-49ba-9880-718573ab2b8e",
     "prev": "c7df94b5-900e-4927-9275-b49240ea83a2",
     "regions": {
      "e25d684e-1a8d-47f1-beaf-2584acde1baa": {
       "attrs": {
        "height": 0.8,
        "width": 0.8,
        "x": 0.1,
        "y": 0.1
       },
       "content": {
        "cell": "1ecd0d99-cbdd-426b-9d36-5395a684a8e2",
        "part": "whole"
       },
       "id": "e25d684e-1a8d-47f1-beaf-2584acde1baa"
      }
     }
    },
    "95df674d-f368-4983-9e53-d1970f1cce20": {
     "id": "95df674d-f368-4983-9e53-d1970f1cce20",
     "prev": "d37df809-954a-4ed3-81a0-322cf204d5b5",
     "regions": {
      "15f185d5-9425-4459-aef2-001995ee1426": {
       "attrs": {
        "height": 0.8,
        "width": 0.8,
        "x": 0.1,
        "y": 0.1
       },
       "content": {
        "cell": "47c3cab3-d492-4696-bb2b-99dcb3a2765f",
        "part": "whole"
       },
       "id": "15f185d5-9425-4459-aef2-001995ee1426"
      }
     }
    },
    "c7df94b5-900e-4927-9275-b49240ea83a2": {
     "id": "c7df94b5-900e-4927-9275-b49240ea83a2",
     "prev": "cd64f496-c480-4558-b9ee-ba99c6aa38bf",
     "regions": {
      "486c377a-2f2d-4caa-ba3f-88d8a434115d": {
       "attrs": {
        "height": 0.8,
        "width": 0.8,
        "x": 0.1,
        "y": 0.1
       },
       "content": {
        "cell": "9fb063b7-96ce-47c4-967b-95e0e3f8f3ad",
        "part": "whole"
       },
       "id": "486c377a-2f2d-4caa-ba3f-88d8a434115d"
      }
     }
    },
    "cd64f496-c480-4558-b9ee-ba99c6aa38bf": {
     "id": "cd64f496-c480-4558-b9ee-ba99c6aa38bf",
     "prev": "f1072372-abd3-4925-bf9b-f2f9dfa4e186",
     "regions": {
      "7e5a3f1b-5195-49f6-8931-d8a6f3f55a99": {
       "attrs": {
        "height": 0.8,
        "width": 0.8,
        "x": 0.1,
        "y": 0.1
       },
       "content": {
        "cell": "7f7b4eb4-ee3f-4be3-a5bf-2a667752a485",
        "part": "whole"
       },
       "id": "7e5a3f1b-5195-49f6-8931-d8a6f3f55a99"
      }
     }
    },
    "d37df809-954a-4ed3-81a0-322cf204d5b5": {
     "id": "d37df809-954a-4ed3-81a0-322cf204d5b5",
     "prev": "154cf516-f826-4775-95c7-24fab535f55f",
     "regions": {
      "b168872e-9dad-413c-8186-17ca7bd5379c": {
       "attrs": {
        "height": 0.8,
        "width": 0.8,
        "x": 0.1,
        "y": 0.1
       },
       "content": {
        "cell": "8df769f7-c82a-4b8b-9ba3-130fe2f2631a",
        "part": "whole"
       },
       "id": "b168872e-9dad-413c-8186-17ca7bd5379c"
      }
     }
    },
    "d9c31ac4-e98e-4025-adee-7d5b9ef0c380": {
     "id": "d9c31ac4-e98e-4025-adee-7d5b9ef0c380",
     "prev": "06665074-5a34-42ac-8d7a-c636a04384c4",
     "regions": {
      "541e91d8-9608-433e-a86d-10dc3388d9aa": {
       "attrs": {
        "height": 0.8,
        "width": 0.8,
        "x": 0.1,
        "y": 0.1
       },
       "content": {
        "cell": "b3be3278-593e-43a8-9e04-6d245220e88d",
        "part": "whole"
       },
       "id": "541e91d8-9608-433e-a86d-10dc3388d9aa"
      }
     }
    },
    "dd2c77f5-0dea-4cf9-b96a-1b4352793adc": {
     "id": "dd2c77f5-0dea-4cf9-b96a-1b4352793adc",
     "prev": "57dc2581-e052-4d9a-82f8-7b6121a09876",
     "regions": {
      "bab925d7-be05-4b12-99d6-c1b55f7a1c2c": {
       "attrs": {
        "height": 0.8,
        "width": 0.8,
        "x": 0.1,
        "y": 0.1
       },
       "content": {
        "cell": "047266ac-41d6-4ff0-84d1-1eb7972541f9",
        "part": "whole"
       },
       "id": "bab925d7-be05-4b12-99d6-c1b55f7a1c2c"
      }
     }
    },
    "e05eca8c-65f7-495d-85f9-26c4938e8e46": {
     "id": "e05eca8c-65f7-495d-85f9-26c4938e8e46",
     "prev": "46f0ae02-170e-4f94-9acb-986b9a626ae1",
     "regions": {
      "3e14274e-76d5-4486-99dc-34cbc0e42cf1": {
       "attrs": {
        "height": 0.8,
        "width": 0.8,
        "x": 0.1,
        "y": 0.1
       },
       "content": {
        "cell": "7f1599be-b3fa-4ed4-b9fc-5695bd8e94e7",
        "part": "whole"
       },
       "id": "3e14274e-76d5-4486-99dc-34cbc0e42cf1"
      }
     }
    },
    "e2c9d68d-782a-4ce6-ad53-4ac7173bbcd2": {
     "id": "e2c9d68d-782a-4ce6-ad53-4ac7173bbcd2",
     "prev": "dd2c77f5-0dea-4cf9-b96a-1b4352793adc",
     "regions": {
      "2d16d21b-6568-4f2d-9aa1-4e2bf3d114a8": {
       "attrs": {
        "height": 0.8,
        "width": 0.8,
        "x": 0.1,
        "y": 0.1
       },
       "content": {
        "cell": "b3b79604-770f-43d4-b519-fbeb9a039a3c",
        "part": "whole"
       },
       "id": "2d16d21b-6568-4f2d-9aa1-4e2bf3d114a8"
      }
     }
    },
    "f1072372-abd3-4925-bf9b-f2f9dfa4e186": {
     "id": "f1072372-abd3-4925-bf9b-f2f9dfa4e186",
     "prev": "2bd78ed9-8eb4-4488-9b1a-048bc7ad49b6",
     "regions": {
      "8690c4f2-fde2-427a-bf3e-b930a1f604c7": {
       "attrs": {
        "height": 0.8,
        "width": 0.8,
        "x": 0.1,
        "y": 0.1
       },
       "content": {
        "cell": "8c9b52c5-579c-440c-b2cb-1761d743d214",
        "part": "whole"
       },
       "id": "8690c4f2-fde2-427a-bf3e-b930a1f604c7"
      }
     }
    }
   },
   "themes": {}
  }
 },
 "nbformat": 4,
 "nbformat_minor": 2
}
