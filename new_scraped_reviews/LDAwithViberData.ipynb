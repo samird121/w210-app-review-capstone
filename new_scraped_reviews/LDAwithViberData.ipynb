{
 "cells": [
  {
   "cell_type": "code",
   "execution_count": 1,
   "metadata": {
    "extensions": {
     "jupyter_dashboards": {
      "version": 1,
      "views": {
       "grid_default": {
        "col": 0,
        "height": 4,
        "hidden": false,
        "row": 0,
        "width": 12
       },
       "report_default": {}
      }
     }
    }
   },
   "outputs": [
    {
     "name": "stdout",
     "output_type": "stream",
     "text": [
      "[nltk_data] Downloading package stopwords to\n",
      "[nltk_data]     /Users/yubozhang/nltk_data...\n",
      "[nltk_data]   Package stopwords is already up-to-date!\n"
     ]
    }
   ],
   "source": [
    "\n",
    "#useful: https://www.kdnuggets.com/2018/04/robust-word2vec-models-gensim.html\n",
    "\n",
    "import csv\n",
    "import nltk\n",
    "import re\n",
    "import numpy as np\n",
    "import datetime\n",
    "import time\n",
    "import gensim, logging\n",
    "import gensim\n",
    "import gensim.corpora as corpora\n",
    "import matplotlib.pyplot as plt\n",
    "from sklearn.preprocessing import StandardScaler\n",
    "from scipy.spatial.distance import cdist\n",
    "from scipy.spatial.distance import cosine\n",
    "from sklearn.cluster import KMeans\n",
    "from sklearn.decomposition import PCA\n",
    "from scipy.spatial import cKDTree\n",
    "from gensim.models import Word2Vec\n",
    "from nltk.tokenize import sent_tokenize\n",
    "from nltk.tokenize import word_tokenize\n",
    "from nltk.corpus import stopwords\n",
    "from nltk.stem.porter import PorterStemmer\n",
    "import spacy\n",
    "from scipy import sparse\n",
    "import nltk; nltk.download('stopwords')\n",
    "from nltk.corpus import stopwords\n",
    "stop_words = stopwords.words('english')\n",
    "stop_words.extend([u'like',u'ebay', u'message', u'seller', u'sell', u'see', u'website', u'site', u'new', u'star', u'customer', u'wish', u'paypal', u'ca', u'page', u'android', u'shop', u'way', u'ad', u'let', u'add', u'team', u'able',u'library', u'hear', u'thing', u'really', u'continue', u'job', u'everyday', u'basic', u'choice', u'lil', u'month', u'save', u'come', u'ever', u'guy', u'keep', u'wifi', u'sometimes', u'artist', u'selection', u'choose', u'always', u'nothing', u'tablet', u'range', u'know', u'follow', u'daily', u'overall', u'give', u'totally', u'life', u'anything', u'everything', u'never', u'spotify', u'think', u'also', u'many', u'stuff', u'second', u'could', u'try', u'still', u'must', u'need', u'away', u'day', u'bit', u'number', u'make',u'year', u'lot', u'time',u'buy', u'song', u'even', u'minute', u'phone', u'gemitin', u'basta', u'say', u'everyone', u'service', u'take', u'bottom', u'panget', u'otherwise', u'yet', u'put', u'much', u'far', u'thank',  u'-PRON-', u'go', u'play',u'app', u'from', u'subject', u're', u'edu', u'use',  u'album', u'get', u'would', u'already',u'xe',u'vez', u'include', u'litt', u'sort', u'dayu', u'nice', u'dont', u'i', u'want', u'that'])\n",
    "import warnings\n",
    "import pyLDAvis\n",
    "import pyLDAvis.gensim  # don't skip this"
   ]
  },
  {
   "cell_type": "code",
   "execution_count": 2,
   "metadata": {
    "extensions": {
     "jupyter_dashboards": {
      "version": 1,
      "views": {
       "grid_default": {
        "hidden": true
       },
       "report_default": {}
      }
     }
    }
   },
   "outputs": [],
   "source": [
    "with open('./android/viber/total_info.txt') as f:\n",
    "    reader = csv.reader(f, delimiter=\"\\t\")\n",
    "    d = list(reader)\n",
    "\n",
    "ratings = []\n",
    "reviews = []\n",
    "titles = []\n",
    "dates = []\n",
    "versions = []\n",
    "\n",
    "for line in d:\n",
    "    vals = line[0].split(\"******\")\n",
    "    ratings.append(float(vals[0]))\n",
    "    reviews.append(vals[1])\n",
    "    dates.append(vals[2])\n",
    "    versions.append(vals[3])"
   ]
  },
  {
   "cell_type": "code",
   "execution_count": 3,
   "metadata": {
    "extensions": {
     "jupyter_dashboards": {
      "version": 1,
      "views": {
       "grid_default": {
        "col": 0,
        "height": 4,
        "hidden": false,
        "row": 4,
        "width": 12
       },
       "report_default": {}
      }
     }
    }
   },
   "outputs": [],
   "source": [
    "reviews_new = []\n",
    "counter1 = 0\n",
    "counter2 = 0\n",
    "counter3 = 0\n",
    "counter4 = 0\n",
    "counter5 = 0\n",
    "for i in range(len(ratings)):\n",
    "    if ratings[i] == 1.0 and counter1<3947:\n",
    "        counter1 = counter1 + 1\n",
    "        reviews_new.append(reviews[i])\n",
    "    if ratings[i] == 2.0 and counter2<3947:\n",
    "        counter2 = counter2 + 1\n",
    "        reviews_new.append(reviews[i])\n",
    "    if ratings[i] == 3.0 and counter3<3947:\n",
    "        counter3 = counter3 + 1\n",
    "        reviews_new.append(reviews[i])\n",
    "    if ratings[i] == 4.0 and counter4<3947:\n",
    "        counter4 = counter4 + 1\n",
    "        reviews_new.append(reviews[i])\n",
    "    if ratings[i] == 5.0 and counter5<3947:\n",
    "        counter5 = counter5 + 1\n",
    "        reviews_new.append(reviews[i])\n",
    "\n"
   ]
  },
  {
   "cell_type": "code",
   "execution_count": 4,
   "metadata": {},
   "outputs": [
    {
     "data": {
      "text/plain": [
       "[13004, 4338, 3947, 4069, 10125]"
      ]
     },
     "execution_count": 4,
     "metadata": {},
     "output_type": "execute_result"
    }
   ],
   "source": [
    "[13004,4338,3947, 4069, 10125]\n"
   ]
  },
  {
   "cell_type": "code",
   "execution_count": 5,
   "metadata": {
    "extensions": {
     "jupyter_dashboards": {
      "version": 1,
      "views": {
       "grid_default": {
        "col": 0,
        "height": 9,
        "hidden": false,
        "row": 8,
        "width": 12
       },
       "report_default": {}
      }
     }
    }
   },
   "outputs": [],
   "source": [
    "reviews=reviews_new"
   ]
  },
  {
   "cell_type": "code",
   "execution_count": 6,
   "metadata": {
    "extensions": {
     "jupyter_dashboards": {
      "version": 1,
      "views": {
       "grid_default": {
        "hidden": true
       },
       "report_default": {}
      }
     }
    }
   },
   "outputs": [],
   "source": [
    "def remove_stopwords(texts, stop_words):\n",
    "    corp=[]\n",
    "    for doc in texts:\n",
    "        fix_doc=[]\n",
    "        for word in doc:\n",
    "            if word not in stop_words:\n",
    "                fix_doc.append(word)\n",
    "        corp.append(fix_doc)\n",
    "    return corp\n",
    "def make_bigrams(texts):\n",
    "    return [bigram_mod[doc] for doc in texts]\n",
    "\n",
    "def make_trigrams(texts):\n",
    "    return [trigram_mod[bigram_mod[doc]] for doc in texts]\n",
    "\n",
    "def lemmatization(texts, allowed_postags=['NOUN', 'ADJ', 'VERB', 'ADV']):\n",
    "    \"\"\"https://spacy.io/api/annotation\"\"\"\n",
    "    texts_out = []\n",
    "    for sent in texts:\n",
    "        if sent != []:\n",
    "            doc = nlp(\" \".join(sent)) \n",
    "\n",
    "            texts_out.append([token.lemma_ for token in doc if token.pos_ in allowed_postags])\n",
    " \n",
    "    return texts_out\n",
    "def sent_to_words(sentences):\n",
    "        for sentence in sentences:\n",
    "            yield(gensim.utils.simple_preprocess(str([sentence]), deacc=True)) "
   ]
  },
  {
   "cell_type": "code",
   "execution_count": 7,
   "metadata": {
    "extensions": {
     "jupyter_dashboards": {
      "version": 1,
      "views": {
       "grid_default": {
        "hidden": true
       },
       "report_default": {}
      }
     }
    }
   },
   "outputs": [],
   "source": [
    "data_words = list(sent_to_words(reviews))"
   ]
  },
  {
   "cell_type": "code",
   "execution_count": 8,
   "metadata": {
    "extensions": {
     "jupyter_dashboards": {
      "version": 1,
      "views": {
       "grid_default": {
        "hidden": true
       },
       "report_default": {}
      }
     }
    }
   },
   "outputs": [
    {
     "name": "stderr",
     "output_type": "stream",
     "text": [
      "/Users/yubozhang/anaconda/lib/python2.7/site-packages/gensim/models/phrases.py:598: UserWarning: For a faster implementation, use the gensim.models.phrases.Phraser class\n",
      "  warnings.warn(\"For a faster implementation, use the gensim.models.phrases.Phraser class\")\n"
     ]
    }
   ],
   "source": [
    "# Build the bigram and trigram models\n",
    "bigram = gensim.models.Phrases(data_words, min_count=5, threshold=100) \n",
    "trigram = gensim.models.Phrases(bigram[data_words], threshold=100)  \n",
    "bigram_mod = gensim.models.phrases.Phraser(bigram)\n",
    "trigram_mod = gensim.models.phrases.Phraser(trigram)\n",
    "\n",
    "\n",
    "\n"
   ]
  },
  {
   "cell_type": "code",
   "execution_count": 9,
   "metadata": {
    "extensions": {
     "jupyter_dashboards": {
      "version": 1,
      "views": {
       "grid_default": {
        "hidden": true
       },
       "report_default": {}
      }
     }
    }
   },
   "outputs": [],
   "source": [
    "nlp = spacy.load('en', disable=['parser', 'ner'])\n",
    "data_lemmatized = lemmatization(data_words, allowed_postags=['NOUN', 'ADJ', 'VERB', 'ADV'])\n",
    "data_words_nostops = remove_stopwords(data_lemmatized, stop_words)\n",
    "data_words_bigrams = make_bigrams(data_words_nostops)\n",
    "\n",
    "data_lemmatized = data_words_bigrams"
   ]
  },
  {
   "cell_type": "code",
   "execution_count": 10,
   "metadata": {
    "extensions": {
     "jupyter_dashboards": {
      "version": 1,
      "views": {
       "grid_default": {
        "hidden": true
       },
       "report_default": {}
      }
     }
    }
   },
   "outputs": [],
   "source": [
    "# Create Dictionary\n",
    "id2word = corpora.Dictionary(data_lemmatized)\n",
    "\n",
    "# Create Corpus\n",
    "texts = data_lemmatized\n",
    "\n",
    "# Term Document Frequency\n",
    "corpus = [id2word.doc2bow(text) for text in texts]\n",
    "\n",
    "\n",
    "warnings.filterwarnings(\"ignore\",category=DeprecationWarning)\n",
    "\n",
    "# Build LDA model\n",
    "lda_model = gensim.models.ldamodel.LdaModel(corpus=corpus,\n",
    "                                           id2word=id2word,\n",
    "                                           num_topics=5, \n",
    "                                           random_state=100,\n",
    "                                           update_every=1,\n",
    "                                           chunksize=100,\n",
    "                                           passes=10,\n",
    "                                           alpha='auto',\n",
    "                                           per_word_topics=True)\n"
   ]
  },
  {
   "cell_type": "code",
   "execution_count": 11,
   "metadata": {
    "extensions": {
     "jupyter_dashboards": {
      "version": 1,
      "views": {
       "grid_default": {
        "col": 0,
        "height": 13,
        "hidden": false,
        "row": 46,
        "width": 12
       },
       "report_default": {}
      }
     }
    }
   },
   "outputs": [],
   "source": [
    "#pyLDAvis.save_html(vis, 'lda1.html')\n",
    "    "
   ]
  },
  {
   "cell_type": "code",
   "execution_count": 12,
   "metadata": {
    "extensions": {
     "jupyter_dashboards": {
      "version": 1,
      "views": {
       "grid_default": {
        "col": 0,
        "height": 29,
        "hidden": false,
        "row": 17,
        "width": null
       },
       "report_default": {}
      }
     }
    }
   },
   "outputs": [
    {
     "name": "stderr",
     "output_type": "stream",
     "text": [
      "/Users/yubozhang/anaconda/lib/python2.7/site-packages/pyLDAvis/_prepare.py:257: FutureWarning: Sorting because non-concatenation axis is not aligned. A future version\n",
      "of pandas will change to not sort by default.\n",
      "\n",
      "To accept the future behavior, pass 'sort=False'.\n",
      "\n",
      "To retain the current behavior and silence the warning, pass 'sort=True'.\n",
      "\n",
      "  return pd.concat([default_term_info] + list(topic_dfs))\n"
     ]
    },
    {
     "data": {
      "text/html": [
       "\n",
       "<link rel=\"stylesheet\" type=\"text/css\" href=\"https://cdn.rawgit.com/bmabey/pyLDAvis/files/ldavis.v1.0.0.css\">\n",
       "\n",
       "\n",
       "<div id=\"ldavis_el97036112185360592809979608\"></div>\n",
       "<script type=\"text/javascript\">\n",
       "\n",
       "var ldavis_el97036112185360592809979608_data = {\"plot.opts\": {\"xlab\": \"PC1\", \"ylab\": \"PC2\"}, \"topic.order\": [2, 5, 4, 3, 1], \"token.table\": {\"Topic\": [3, 5, 3, 4, 5, 2, 4, 2, 5, 1, 3, 3, 4, 1, 3, 1, 2, 1, 5, 3, 1, 4, 5, 3, 4, 5, 4, 3, 4, 5, 3, 3, 4, 5, 5, 5, 2, 3, 5, 3, 4, 3, 2, 1, 3, 3, 1, 4, 4, 5, 3, 3, 4, 4, 1, 2, 5, 1, 1, 1, 5, 3, 3, 2, 4, 5, 5, 5, 4, 2, 1, 4, 4, 2, 4, 2, 2, 2, 1, 1, 2, 5, 5, 1, 1, 4, 3, 2, 1, 4, 2, 5, 4, 1, 2, 3, 5, 2, 5, 5, 4, 5, 5, 2, 4, 1, 1, 5, 1, 1, 2, 5, 3, 2, 2, 2, 3, 3, 3, 1, 3, 5, 4, 4, 2, 5, 3, 3, 1, 2, 2, 1, 2, 4, 1, 2, 2, 2, 4, 2, 5, 1, 2, 1, 4, 3, 4, 1, 1, 4, 3], \"Freq\": [0.9962242841720581, 0.9968613386154175, 0.9945482015609741, 0.9946096539497375, 0.9920604228973389, 0.9968248009681702, 0.9947429895401001, 0.9990335702896118, 0.9948594570159912, 0.9990285038948059, 0.9979721307754517, 0.9992685317993164, 0.9986068606376648, 0.9909810423851013, 0.9960169196128845, 0.9957445859909058, 0.9978913068771362, 0.9999078512191772, 0.9988511204719543, 0.9983702898025513, 0.9986039400100708, 0.9958743453025818, 0.9977896213531494, 0.998577356338501, 0.9914039373397827, 0.9961816668510437, 0.9995245337486267, 0.9976401925086975, 0.9986640214920044, 0.9989519715309143, 0.9987409710884094, 0.9948303699493408, 0.9989145398139954, 0.9942495822906494, 0.9991980791091919, 0.9983634352684021, 0.9954447746276855, 0.995798647403717, 0.9954095482826233, 0.9955624341964722, 0.9979873299598694, 0.9978156089782715, 0.9989097714424133, 0.9968589544296265, 0.9977046847343445, 0.9992236495018005, 0.9908524751663208, 0.9939016699790955, 0.9975929260253906, 0.9939853549003601, 0.9977796077728271, 0.9962950348854065, 0.9973832368850708, 0.9959328770637512, 0.9975504279136658, 0.9992052912712097, 0.995201051235199, 0.9994405508041382, 0.9991605877876282, 0.9996737241744995, 0.9993857741355896, 0.9988117814064026, 0.9947448372840881, 0.9962659478187561, 0.9991260766983032, 0.9905603528022766, 0.9933358430862427, 0.9978134036064148, 0.9960477948188782, 0.9992150664329529, 0.9962418079376221, 0.9951476454734802, 0.9975635409355164, 0.9972886443138123, 0.9921039938926697, 0.9997878670692444, 0.9989021420478821, 0.9976902008056641, 0.9958134889602661, 0.9978163242340088, 0.9971714019775391, 0.9925053119659424, 0.9961137175559998, 0.9965642690658569, 0.993193507194519, 0.992885410785675, 0.9934934377670288, 0.9964439868927002, 0.9965016841888428, 0.9964076280593872, 0.9982743263244629, 0.9930261373519897, 0.9975389838218689, 0.9958910942077637, 0.9966833591461182, 0.9994451999664307, 0.9958747625350952, 0.9979071021080017, 0.994869589805603, 0.9986234307289124, 0.9977890849113464, 0.9974364638328552, 0.9977051019668579, 0.9989399313926697, 0.9973763227462769, 0.9980871677398682, 0.9969770312309265, 0.999575138092041, 0.998254120349884, 0.9935745596885681, 0.9971795082092285, 0.9959287047386169, 0.99849534034729, 0.9965371489524841, 0.9968441724777222, 0.9983069896697998, 0.9991999864578247, 0.996107280254364, 0.996984601020813, 0.9967549443244934, 0.9977599382400513, 0.9952050447463989, 0.9972562789916992, 0.9987841844558716, 0.9990822672843933, 0.997194230556488, 0.9997779130935669, 0.9991874694824219, 0.9915263056755066, 0.9968351125717163, 0.9977053999900818, 0.9955784678459167, 0.99639493227005, 0.9990524649620056, 0.9943860173225403, 0.9991204738616943, 0.9956128597259521, 0.999622106552124, 0.9971325397491455, 0.9974811673164368, 0.999101996421814, 0.9970654249191284, 0.0026327641680836678, 0.9997397661209106, 0.9983989596366882, 0.9980462789535522, 0.9965236186981201, 0.995345413684845, 0.9914007782936096, 0.9995819926261902, 0.9982009530067444], \"Term\": [\"account\", \"activate\", \"activation\", \"almost\", \"animate\", \"annoy\", \"appear\", \"application\", \"ask\", \"audio\", \"back\", \"background\", \"bad\", \"battery\", \"become\", \"better\", \"bug\", \"call\", \"camera\", \"change\", \"chat\", \"clear\", \"close\", \"code\", \"communication\", \"connect\", \"connection\", \"constantly\", \"contact\", \"conversation\", \"correct\", \"crash\", \"default\", \"delay\", \"delete\", \"developer\", \"device\", \"digit\", \"disable\", \"disappear\", \"disconnect\", \"display\", \"download\", \"easy\", \"enter\", \"error\", \"especially\", \"excellent\", \"fail\", \"family\", \"feature\", \"file\", \"find\", \"fine\", \"first\", \"fix\", \"fly\", \"free\", \"friend\", \"good\", \"great\", \"group\", \"hang\", \"happen\", \"help\", \"hope\", \"hour\", \"image\", \"improve\", \"instal\", \"install\", \"instead\", \"internet\", \"issue\", \"label\", \"last\", \"late\", \"load\", \"log\", \"long\", \"longer\", \"look\", \"lose\", \"love\", \"low\", \"matter\", \"miss\", \"mobile\", \"money\", \"network\", \"notification\", \"often\", \"old\", \"one\", \"online\", \"open\", \"option\", \"people\", \"person\", \"photo\", \"picture\", \"poor\", \"possible\", \"problem\", \"program\", \"properly\", \"public_chat\", \"quality\", \"quot\", \"read\", \"receive\", \"reinstall\", \"remove\", \"reset\", \"samsung\", \"screen\", \"send\", \"set\", \"show\", \"skype\", \"slow\", \"small\", \"something\", \"sound\", \"start\", \"stay\", \"sticker\", \"stop\", \"super\", \"support\", \"switch\", \"talk\", \"tell\", \"text\", \"today\", \"turn\", \"uninstall\", \"update\", \"upgrade\", \"vayber\", \"version\", \"viber\", \"viber\", \"video\", \"voice\", \"wallpaper\", \"well\", \"whatsapp\", \"window\", \"work\", \"write\"]}, \"mdsDat\": {\"y\": [0.2301723701483792, -0.29021266252325184, -0.10872558710918835, 0.11864452435703275, 0.05012135512702828], \"cluster\": [1, 1, 1, 1, 1], \"Freq\": [23.50912094116211, 21.826461791992188, 21.179821014404297, 19.05994415283203, 14.424649238586426], \"topics\": [1, 2, 3, 4, 5], \"x\": [-0.07275936601119234, -0.20866608697435546, 0.3464217211398694, -0.04214251806936617, -0.022853750084955434]}, \"R\": 30, \"lambda.step\": 0.01, \"tinfo\": {\"Category\": [\"Default\", \"Default\", \"Default\", \"Default\", \"Default\", \"Default\", \"Default\", \"Default\", \"Default\", \"Default\", \"Default\", \"Default\", \"Default\", \"Default\", \"Default\", \"Default\", \"Default\", \"Default\", \"Default\", \"Default\", \"Default\", \"Default\", \"Default\", \"Default\", \"Default\", \"Default\", \"Default\", \"Default\", \"Default\", \"Default\", \"Topic1\", \"Topic1\", \"Topic1\", \"Topic1\", \"Topic1\", \"Topic1\", \"Topic1\", \"Topic1\", \"Topic1\", \"Topic1\", \"Topic1\", \"Topic1\", \"Topic1\", \"Topic1\", \"Topic1\", \"Topic1\", \"Topic1\", \"Topic1\", \"Topic1\", \"Topic1\", \"Topic1\", \"Topic1\", \"Topic1\", \"Topic1\", \"Topic1\", \"Topic1\", \"Topic1\", \"Topic1\", \"Topic1\", \"Topic1\", \"Topic2\", \"Topic2\", \"Topic2\", \"Topic2\", \"Topic2\", \"Topic2\", \"Topic2\", \"Topic2\", \"Topic2\", \"Topic2\", \"Topic2\", \"Topic2\", \"Topic2\", \"Topic2\", \"Topic2\", \"Topic2\", \"Topic2\", \"Topic2\", \"Topic2\", \"Topic2\", \"Topic2\", \"Topic2\", \"Topic2\", \"Topic2\", \"Topic2\", \"Topic2\", \"Topic2\", \"Topic2\", \"Topic2\", \"Topic2\", \"Topic3\", \"Topic3\", \"Topic3\", \"Topic3\", \"Topic3\", \"Topic3\", \"Topic3\", \"Topic3\", \"Topic3\", \"Topic3\", \"Topic3\", \"Topic3\", \"Topic3\", \"Topic3\", \"Topic3\", \"Topic3\", \"Topic3\", \"Topic3\", \"Topic3\", \"Topic3\", \"Topic3\", \"Topic3\", \"Topic3\", \"Topic3\", \"Topic3\", \"Topic3\", \"Topic3\", \"Topic3\", \"Topic3\", \"Topic3\", \"Topic4\", \"Topic4\", \"Topic4\", \"Topic4\", \"Topic4\", \"Topic4\", \"Topic4\", \"Topic4\", \"Topic4\", \"Topic4\", \"Topic4\", \"Topic4\", \"Topic4\", \"Topic4\", \"Topic4\", \"Topic4\", \"Topic4\", \"Topic4\", \"Topic4\", \"Topic4\", \"Topic4\", \"Topic4\", \"Topic4\", \"Topic4\", \"Topic4\", \"Topic4\", \"Topic4\", \"Topic4\", \"Topic4\", \"Topic4\", \"Topic5\", \"Topic5\", \"Topic5\", \"Topic5\", \"Topic5\", \"Topic5\", \"Topic5\", \"Topic5\", \"Topic5\", \"Topic5\", \"Topic5\", \"Topic5\", \"Topic5\", \"Topic5\", \"Topic5\", \"Topic5\", \"Topic5\", \"Topic5\", \"Topic5\", \"Topic5\", \"Topic5\", \"Topic5\", \"Topic5\", \"Topic5\", \"Topic5\", \"Topic5\", \"Topic5\", \"Topic5\", \"Topic5\", \"Topic5\"], \"Term\": [\"call\", \"viber\", \"update\", \"good\", \"work\", \"send\", \"fix\", \"video\", \"sticker\", \"quality\", \"application\", \"last\", \"problem\", \"code\", \"background\", \"change\", \"contact\", \"bad\", \"chat\", \"photo\", \"open\", \"voice\", \"download\", \"great\", \"connection\", \"version\", \"quot\", \"write\", \"sound\", \"load\", \"call\", \"good\", \"video\", \"chat\", \"quot\", \"free\", \"long\", \"friend\", \"love\", \"install\", \"first\", \"viber\", \"audio\", \"talk\", \"public_chat\", \"skype\", \"whatsapp\", \"one\", \"log\", \"today\", \"read\", \"low\", \"properly\", \"especially\", \"money\", \"window\", \"super\", \"battery\", \"better\", \"easy\", \"update\", \"fix\", \"application\", \"last\", \"problem\", \"download\", \"load\", \"notification\", \"receive\", \"late\", \"turn\", \"annoy\", \"screen\", \"online\", \"people\", \"happen\", \"instal\", \"bug\", \"issue\", \"device\", \"tell\", \"start\", \"vayber\", \"mobile\", \"longer\", \"reset\", \"uninstall\", \"support\", \"switch\", \"samsung\", \"send\", \"sticker\", \"code\", \"background\", \"change\", \"open\", \"write\", \"back\", \"error\", \"show\", \"enter\", \"correct\", \"slow\", \"constantly\", \"remove\", \"set\", \"stop\", \"group\", \"become\", \"file\", \"wallpaper\", \"feature\", \"hang\", \"disappear\", \"account\", \"digit\", \"display\", \"crash\", \"miss\", \"activation\", \"work\", \"contact\", \"bad\", \"voice\", \"connection\", \"sound\", \"picture\", \"program\", \"default\", \"help\", \"internet\", \"well\", \"disconnect\", \"upgrade\", \"something\", \"network\", \"text\", \"fine\", \"improve\", \"old\", \"find\", \"appear\", \"fail\", \"excellent\", \"matter\", \"clear\", \"instead\", \"communication\", \"label\", \"almost\", \"quality\", \"photo\", \"great\", \"version\", \"connect\", \"option\", \"delete\", \"reinstall\", \"activate\", \"poor\", \"camera\", \"lose\", \"ask\", \"conversation\", \"close\", \"person\", \"developer\", \"image\", \"possible\", \"hour\", \"look\", \"often\", \"fly\", \"family\", \"disable\", \"animate\", \"delay\", \"stay\", \"hope\", \"small\"], \"loglift\": [30.0, 29.0, 28.0, 27.0, 26.0, 25.0, 24.0, 23.0, 22.0, 21.0, 20.0, 19.0, 18.0, 17.0, 16.0, 15.0, 14.0, 13.0, 12.0, 11.0, 10.0, 9.0, 8.0, 7.0, 6.0, 5.0, 4.0, 3.0, 2.0, 1.0, 1.44760000705719, 1.4473999738693237, 1.4472999572753906, 1.4469000101089478, 1.4465999603271484, 1.4464000463485718, 1.4459999799728394, 1.4458999633789062, 1.4456000328063965, 1.4455000162124634, 1.4448000192642212, 1.4448000192642212, 1.4448000192642212, 1.444700002670288, 1.444700002670288, 1.4443999528884888, 1.444000005722046, 1.4437999725341797, 1.4433000087738037, 1.4433000087738037, 1.4430999755859375, 1.4430999755859375, 1.4428000450134277, 1.4424999952316284, 1.4424999952316284, 1.4423999786376953, 1.4423999786376953, 1.4422999620437622, 1.4420000314712524, 1.4417999982833862, 1.5217000246047974, 1.5216000080108643, 1.521299958229065, 1.521299958229065, 1.521299958229065, 1.5210000276565552, 1.5206999778747559, 1.520300030708313, 1.5200999975204468, 1.5197999477386475, 1.519700050354004, 1.519700050354004, 1.5196000337600708, 1.5196000337600708, 1.5195000171661377, 1.5195000171661377, 1.5194000005722046, 1.5192999839782715, 1.5191999673843384, 1.5189000368118286, 1.5188000202178955, 1.5188000202178955, 1.5185999870300293, 1.5182000398635864, 1.5181000232696533, 1.5180000066757202, 1.517899990081787, 1.5176000595092773, 1.5174000263214111, 1.517199993133545, 1.5516999959945679, 1.5514999628067017, 1.551300048828125, 1.551200032234192, 1.551200032234192, 1.5511000156402588, 1.5507999658584595, 1.5506000518798828, 1.5503000020980835, 1.5503000020980835, 1.5501999855041504, 1.5501999855041504, 1.5499999523162842, 1.5498000383377075, 1.5496000051498413, 1.549399971961975, 1.549399971961975, 1.549299955368042, 1.549299955368042, 1.5492000579833984, 1.5491000413894653, 1.5484000444412231, 1.5480999946594238, 1.5479999780654907, 1.5479999780654907, 1.5479999780654907, 1.5478999614715576, 1.5478999614715576, 1.5477999448776245, 1.5477999448776245, 1.657099962234497, 1.656599998474121, 1.656599998474121, 1.6563999652862549, 1.6563999652862549, 1.6561000347137451, 1.6561000347137451, 1.656000018119812, 1.6557999849319458, 1.6556999683380127, 1.6555999517440796, 1.6555999517440796, 1.6555999517440796, 1.655500054359436, 1.655400037765503, 1.6550999879837036, 1.6548999547958374, 1.6548999547958374, 1.6548999547958374, 1.6546000242233276, 1.6540000438690186, 1.6539000272750854, 1.6535999774932861, 1.6532000303268433, 1.6531000137329102, 1.652999997138977, 1.6527999639511108, 1.652400016784668, 1.6523000001907349, 1.6521999835968018, 1.9354000091552734, 1.934999942779541, 1.9348000288009644, 1.9348000288009644, 1.934000015258789, 1.9335999488830566, 1.93340003490448, 1.9330999851226807, 1.9330999851226807, 1.9328999519348145, 1.9328999519348145, 1.9328999519348145, 1.9328999519348145, 1.9326000213623047, 1.9325000047683716, 1.9322999715805054, 1.9321999549865723, 1.9321000576019287, 1.9321000576019287, 1.931399941444397, 1.9312000274658203, 1.930899977684021, 1.930799961090088, 1.9306000471115112, 1.9305000305175781, 1.930400013923645, 1.930299997329712, 1.9301999807357788, 1.9300999641418457, 1.9299999475479126], \"Freq\": [3271.0, 2658.0, 2066.0, 1877.0, 1478.0, 1459.0, 1383.0, 1420.0, 1083.0, 783.0, 911.0, 900.0, 848.0, 817.0, 761.0, 734.0, 669.0, 657.0, 739.0, 532.0, 663.0, 593.0, 645.0, 481.0, 553.0, 471.0, 568.0, 522.0, 465.0, 488.0, 3270.64697265625, 1876.9569091796875, 1419.7152099609375, 738.3660888671875, 568.3402709960938, 472.611083984375, 368.1494140625, 339.6317138671875, 304.39202880859375, 290.4397888183594, 222.8905792236328, 2650.8955078125, 219.55157470703125, 209.27505493164062, 210.9781494140625, 193.97381591796875, 174.1605682373047, 165.01950073242188, 147.9611358642578, 149.1735382080078, 141.25392150878906, 140.30154418945312, 132.59820556640625, 126.4951400756836, 122.77783203125, 122.39713287353516, 120.37435913085938, 119.42636108398438, 112.82621002197266, 108.6878890991211, 2066.105712890625, 1382.4222412109375, 911.2095947265625, 899.515869140625, 848.2254028320312, 645.0313720703125, 487.4500732421875, 392.0036926269531, 353.32684326171875, 293.651611328125, 290.5824890136719, 284.2272033691406, 278.79888916015625, 270.2252197265625, 270.8902587890625, 266.31756591796875, 258.52825927734375, 241.83468627929688, 241.97854614257812, 212.2951202392578, 207.0748291015625, 205.51821899414062, 195.81776428222656, 173.948974609375, 171.80238342285156, 170.9087677001953, 161.03262329101562, 150.80075073242188, 144.65652465820312, 140.7687530517578, 1458.481689453125, 1082.553955078125, 816.4813232421875, 760.8517456054688, 733.4984130859375, 662.6796264648438, 522.2566528320312, 461.23486328125, 374.60400390625, 373.4393005371094, 357.13970947265625, 350.75616455078125, 317.0227355957031, 291.0022888183594, 268.7196350097656, 250.29051208496094, 249.5181427001953, 240.60162353515625, 240.27203369140625, 235.182373046875, 252.7378692626953, 187.7197265625, 171.22039794921875, 165.04771423339844, 164.93678283691406, 164.00657653808594, 163.67311096191406, 161.1508026123047, 160.3614044189453, 158.1863250732422, 1477.94677734375, 669.2276611328125, 657.2446899414062, 593.2783813476562, 552.5916748046875, 464.8935852050781, 441.30267333984375, 432.46771240234375, 427.7239685058594, 365.64715576171875, 333.1438903808594, 333.4915466308594, 334.0001220703125, 330.2764587402344, 307.173095703125, 265.2865905761719, 256.5655822753906, 253.35984802246094, 247.30519104003906, 227.88783264160156, 186.8188018798828, 183.29672241210938, 168.72975158691406, 152.2630615234375, 159.43040466308594, 145.9315643310547, 141.00991821289062, 128.43865966796875, 126.32829284667969, 126.00448608398438, 782.6528930664062, 532.0621337890625, 480.6187438964844, 470.7516784667969, 306.4981994628906, 253.37744140625, 233.5205535888672, 219.21849060058594, 212.99659729003906, 204.8531951904297, 202.56101989746094, 200.1079559326172, 199.35585021972656, 184.52337646484375, 183.72348022460938, 169.1976318359375, 166.60299682617188, 163.68678283691406, 160.7013397216797, 138.25205993652344, 133.32760620117188, 124.20421600341797, 123.9214859008789, 120.04632568359375, 117.8713607788086, 117.25519561767578, 114.98452758789062, 114.63068389892578, 110.37318420410156, 108.84322357177734], \"Total\": [3271.0, 2658.0, 2066.0, 1877.0, 1478.0, 1459.0, 1383.0, 1420.0, 1083.0, 783.0, 911.0, 900.0, 848.0, 817.0, 761.0, 734.0, 669.0, 657.0, 739.0, 532.0, 663.0, 593.0, 645.0, 481.0, 553.0, 471.0, 568.0, 522.0, 465.0, 488.0, 3271.301513671875, 1877.6126708984375, 1420.36962890625, 739.03173828125, 568.993408203125, 473.2647705078125, 368.80535888671875, 340.28564453125, 305.0480651855469, 291.093994140625, 223.54759216308594, 2658.802490234375, 220.2139434814453, 209.92820739746094, 211.63978576660156, 194.631591796875, 174.81369018554688, 165.68077087402344, 148.62220764160156, 149.84120178222656, 141.91184997558594, 140.95944213867188, 133.25489807128906, 127.1632308959961, 123.43180084228516, 123.0582046508789, 121.0255355834961, 120.08302307128906, 113.48291778564453, 109.34345245361328, 2066.781005859375, 1383.09912109375, 911.8812866210938, 900.1909790039062, 848.89990234375, 645.7039794921875, 488.1274719238281, 392.6776428222656, 353.9984436035156, 294.3231201171875, 291.25616455078125, 284.9046325683594, 279.47314453125, 270.8984680175781, 271.568359375, 266.9969787597656, 259.2034606933594, 242.51138305664062, 242.65792846679688, 212.97012329101562, 207.7489471435547, 206.18922424316406, 196.49493408203125, 174.62095642089844, 172.48789978027344, 171.59420776367188, 161.70944213867188, 151.4794158935547, 145.33348083496094, 141.44638061523438, 1459.1673583984375, 1083.2406005859375, 817.1625366210938, 761.5570678710938, 734.196533203125, 663.3680419921875, 522.9407958984375, 461.9367370605469, 375.2913513183594, 374.1281433105469, 357.8213195800781, 351.4424743652344, 317.7117004394531, 291.6883239746094, 269.4053649902344, 250.97698974609375, 250.2032928466797, 241.2866973876953, 240.9597625732422, 235.8739013671875, 253.49525451660156, 188.41836547851562, 171.90338134765625, 165.73545837402344, 165.62535095214844, 164.69192504882812, 164.35902404785156, 161.83663940429688, 161.04786682128906, 158.86610412597656, 1478.6180419921875, 669.8949584960938, 657.9165649414062, 593.950927734375, 553.2630615234375, 465.5660400390625, 441.9771728515625, 433.13641357421875, 428.465087890625, 366.32012939453125, 333.8133239746094, 334.16168212890625, 334.673583984375, 330.948974609375, 307.8446350097656, 265.9554138183594, 257.2437438964844, 254.03318786621094, 247.98007202148438, 228.5625, 187.49061584472656, 183.9671173095703, 169.40777587890625, 152.93263244628906, 160.1393280029297, 146.60484313964844, 141.68751525878906, 129.10983276367188, 127.00281524658203, 126.682861328125, 783.3328247070312, 532.7333374023438, 481.2956237792969, 471.42333984375, 307.1728820800781, 254.04800415039062, 234.18780517578125, 219.895263671875, 213.67063903808594, 205.52687072753906, 203.23348999023438, 200.78028869628906, 200.02825927734375, 185.194091796875, 184.40760803222656, 169.8715057373047, 167.2737579345703, 164.35939025878906, 161.37033081054688, 138.9258270263672, 134.0043182373047, 124.87083435058594, 124.59793853759766, 120.72612762451172, 118.54417419433594, 117.93636322021484, 115.66512298583984, 115.32357025146484, 111.04825592041016, 109.5251693725586], \"logprob\": [30.0, 29.0, 28.0, 27.0, 26.0, 25.0, 24.0, 23.0, 22.0, 21.0, 20.0, 19.0, 18.0, 17.0, 16.0, 15.0, 14.0, 13.0, 12.0, 11.0, 10.0, 9.0, 8.0, 7.0, 6.0, 5.0, 4.0, 3.0, 2.0, 1.0, -2.061199903488159, -2.616499900817871, -2.895699977874756, -3.549499988555908, -3.811199903488159, -3.9955999851226807, -4.2453999519348145, -4.326000213623047, -4.4355998039245605, -4.482500076293945, -4.747200012207031, -2.271199941635132, -4.76230001449585, -4.810200214385986, -4.80210018157959, -4.886199951171875, -4.993899822235107, -5.047800064086914, -5.156899929046631, -5.148799896240234, -5.2032999992370605, -5.210100173950195, -5.266600131988525, -5.313700199127197, -5.343500137329102, -5.34660005569458, -5.36329984664917, -5.371200084686279, -5.427999973297119, -5.465400218963623, -2.446199893951416, -2.8480000495910645, -3.264899969100952, -3.2778000831604004, -3.3364999294281006, -3.610300064086914, -3.890399932861328, -4.108399868011475, -4.212200164794922, -4.397200107574463, -4.407700061798096, -4.429900169372559, -4.449100017547607, -4.480400085449219, -4.47790002822876, -4.494900226593018, -4.524600028991699, -4.591400146484375, -4.590799808502197, -4.721700191497803, -4.746600151062012, -4.7540998458862305, -4.8024001121521, -4.920899868011475, -4.933300018310547, -4.938499927520752, -4.998000144958496, -5.063700199127197, -5.105299949645996, -5.132500171661377, -2.764400005340576, -3.0625, -3.344599962234497, -3.41510009765625, -3.45169997215271, -3.553299903869629, -3.7913999557495117, -3.915600061416626, -4.123700141906738, -4.126800060272217, -4.17140007019043, -4.189499855041504, -4.290599822998047, -4.376200199127197, -4.455900192260742, -4.526899814605713, -4.53000020980835, -4.566400051116943, -4.567800045013428, -4.589200019836426, -4.517199993133545, -4.814599990844727, -4.906599998474121, -4.943299770355225, -4.943999767303467, -4.9496002197265625, -4.951700210571289, -4.967199802398682, -4.972099781036377, -4.985799789428711, -2.645699977874756, -3.437999963760376, -3.4560000896453857, -3.5583999156951904, -3.629499912261963, -3.802299976348877, -3.8543999195098877, -3.8745999336242676, -3.8856000900268555, -4.042399883270264, -4.135499954223633, -4.134500026702881, -4.132999897003174, -4.144199848175049, -4.216700077056885, -4.36329984664917, -4.396699905395508, -4.409299850463867, -4.433499813079834, -4.515200138092041, -4.714000225067139, -4.732999801635742, -4.815800189971924, -4.918499946594238, -4.872499942779541, -4.960999965667725, -4.995299816131592, -5.088600158691406, -5.105199813842773, -5.107800006866455, -3.0027999877929688, -3.388700008392334, -3.4904000759124756, -3.5111000537872314, -3.940200090408325, -4.1305999755859375, -4.212200164794922, -4.275400161743164, -4.304200172424316, -4.343200206756592, -4.354400157928467, -4.366600036621094, -4.3703999519348145, -4.447700023651123, -4.452000141143799, -4.53439998626709, -4.549799919128418, -4.567500114440918, -4.585899829864502, -4.736400127410889, -4.772600173950195, -4.843500137329102, -4.845799922943115, -4.877600193023682, -4.895899772644043, -4.901100158691406, -4.920599937438965, -4.923699855804443, -4.961599826812744, -4.975500106811523]}};\n",
       "\n",
       "function LDAvis_load_lib(url, callback){\n",
       "  var s = document.createElement('script');\n",
       "  s.src = url;\n",
       "  s.async = true;\n",
       "  s.onreadystatechange = s.onload = callback;\n",
       "  s.onerror = function(){console.warn(\"failed to load library \" + url);};\n",
       "  document.getElementsByTagName(\"head\")[0].appendChild(s);\n",
       "}\n",
       "\n",
       "if(typeof(LDAvis) !== \"undefined\"){\n",
       "   // already loaded: just create the visualization\n",
       "   !function(LDAvis){\n",
       "       new LDAvis(\"#\" + \"ldavis_el97036112185360592809979608\", ldavis_el97036112185360592809979608_data);\n",
       "   }(LDAvis);\n",
       "}else if(typeof define === \"function\" && define.amd){\n",
       "   // require.js is available: use it to load d3/LDAvis\n",
       "   require.config({paths: {d3: \"https://cdnjs.cloudflare.com/ajax/libs/d3/3.5.5/d3.min\"}});\n",
       "   require([\"d3\"], function(d3){\n",
       "      window.d3 = d3;\n",
       "      LDAvis_load_lib(\"https://cdn.rawgit.com/bmabey/pyLDAvis/files/ldavis.v1.0.0.js\", function(){\n",
       "        new LDAvis(\"#\" + \"ldavis_el97036112185360592809979608\", ldavis_el97036112185360592809979608_data);\n",
       "      });\n",
       "    });\n",
       "}else{\n",
       "    // require.js not available: dynamically load d3 & LDAvis\n",
       "    LDAvis_load_lib(\"https://cdnjs.cloudflare.com/ajax/libs/d3/3.5.5/d3.min.js\", function(){\n",
       "         LDAvis_load_lib(\"https://cdn.rawgit.com/bmabey/pyLDAvis/files/ldavis.v1.0.0.js\", function(){\n",
       "                 new LDAvis(\"#\" + \"ldavis_el97036112185360592809979608\", ldavis_el97036112185360592809979608_data);\n",
       "            })\n",
       "         });\n",
       "}\n",
       "</script>"
      ],
      "text/plain": [
       "PreparedData(topic_coordinates=            Freq  cluster  topics         x         y\n",
       "topic                                                \n",
       "1      23.509121        1       1 -0.072759  0.230172\n",
       "4      21.826462        1       2 -0.208666 -0.290213\n",
       "3      21.179821        1       3  0.346422 -0.108726\n",
       "2      19.059944        1       4 -0.042143  0.118645\n",
       "0      14.424649        1       5 -0.022854  0.050121, topic_info=     Category         Freq          Term        Total  loglift  logprob\n",
       "term                                                                   \n",
       "4714  Default  3271.000000          call  3271.000000  30.0000  30.0000\n",
       "8227  Default  2658.000000         viber  2658.000000  29.0000  29.0000\n",
       "8110  Default  2066.000000        update  2066.000000  28.0000  28.0000\n",
       "8008  Default  1877.000000          good  1877.000000  27.0000  27.0000\n",
       "2428  Default  1478.000000          work  1478.000000  26.0000  26.0000\n",
       "1763  Default  1459.000000          send  1459.000000  25.0000  25.0000\n",
       "153   Default  1383.000000           fix  1383.000000  24.0000  24.0000\n",
       "1791  Default  1420.000000         video  1420.000000  23.0000  23.0000\n",
       "2731  Default  1083.000000       sticker  1083.000000  22.0000  22.0000\n",
       "4255  Default   783.000000       quality   783.000000  21.0000  21.0000\n",
       "4016  Default   911.000000   application   911.000000  20.0000  20.0000\n",
       "1501  Default   900.000000          last   900.000000  19.0000  19.0000\n",
       "2302  Default   848.000000       problem   848.000000  18.0000  18.0000\n",
       "1746  Default   817.000000          code   817.000000  17.0000  17.0000\n",
       "5093  Default   761.000000    background   761.000000  16.0000  16.0000\n",
       "2969  Default   734.000000        change   734.000000  15.0000  15.0000\n",
       "2766  Default   669.000000       contact   669.000000  14.0000  14.0000\n",
       "4951  Default   657.000000           bad   657.000000  13.0000  13.0000\n",
       "1716  Default   739.000000          chat   739.000000  12.0000  12.0000\n",
       "2774  Default   532.000000         photo   532.000000  11.0000  11.0000\n",
       "795   Default   663.000000          open   663.000000  10.0000  10.0000\n",
       "7036  Default   593.000000         voice   593.000000   9.0000   9.0000\n",
       "4090  Default   645.000000      download   645.000000   8.0000   8.0000\n",
       "1531  Default   481.000000         great   481.000000   7.0000   7.0000\n",
       "1505  Default   553.000000    connection   553.000000   6.0000   6.0000\n",
       "8249  Default   471.000000       version   471.000000   5.0000   5.0000\n",
       "4742  Default   568.000000          quot   568.000000   4.0000   4.0000\n",
       "3030  Default   522.000000         write   522.000000   3.0000   3.0000\n",
       "5625  Default   465.000000         sound   465.000000   2.0000   2.0000\n",
       "1509  Default   488.000000          load   488.000000   1.0000   1.0000\n",
       "...       ...          ...           ...          ...      ...      ...\n",
       "4255   Topic5   782.652893       quality   783.332825   1.9354  -3.0028\n",
       "2774   Topic5   532.062134         photo   532.733337   1.9350  -3.3887\n",
       "1531   Topic5   480.618744         great   481.295624   1.9348  -3.4904\n",
       "8249   Topic5   470.751678       version   471.423340   1.9348  -3.5111\n",
       "5994   Topic5   306.498199       connect   307.172882   1.9340  -3.9402\n",
       "8431   Topic5   253.377441        option   254.048004   1.9336  -4.1306\n",
       "5175   Topic5   233.520554        delete   234.187805   1.9334  -4.2122\n",
       "7314   Topic5   219.218491     reinstall   219.895264   1.9331  -4.2754\n",
       "6584   Topic5   212.996597      activate   213.670639   1.9331  -4.3042\n",
       "3449   Topic5   204.853195          poor   205.526871   1.9329  -4.3432\n",
       "4130   Topic5   202.561020        camera   203.233490   1.9329  -4.3544\n",
       "4507   Topic5   200.107956          lose   200.780289   1.9329  -4.3666\n",
       "3659   Topic5   199.355850           ask   200.028259   1.9329  -4.3704\n",
       "7110   Topic5   184.523376  conversation   185.194092   1.9326  -4.4477\n",
       "3787   Topic5   183.723480         close   184.407608   1.9325  -4.4520\n",
       "253    Topic5   169.197632        person   169.871506   1.9323  -4.5344\n",
       "8348   Topic5   166.602997     developer   167.273758   1.9322  -4.5498\n",
       "1066   Topic5   163.686783         image   164.359390   1.9321  -4.5675\n",
       "455    Topic5   160.701340      possible   161.370331   1.9321  -4.5859\n",
       "5892   Topic5   138.252060          hour   138.925827   1.9314  -4.7364\n",
       "3845   Topic5   133.327606          look   134.004318   1.9312  -4.7726\n",
       "6319   Topic5   124.204216         often   124.870834   1.9309  -4.8435\n",
       "5318   Topic5   123.921486           fly   124.597939   1.9308  -4.8458\n",
       "3519   Topic5   120.046326        family   120.726128   1.9306  -4.8776\n",
       "8321   Topic5   117.871361       disable   118.544174   1.9305  -4.8959\n",
       "473    Topic5   117.255196       animate   117.936363   1.9304  -4.9011\n",
       "1882   Topic5   114.984528         delay   115.665123   1.9303  -4.9206\n",
       "4600   Topic5   114.630684          stay   115.323570   1.9302  -4.9237\n",
       "2069   Topic5   110.373184          hope   111.048256   1.9301  -4.9616\n",
       "1170   Topic5   108.843224         small   109.525169   1.9300  -4.9755\n",
       "\n",
       "[180 rows x 6 columns], token_table=      Topic      Freq           Term\n",
       "term                                \n",
       "6500      3  0.996224        account\n",
       "6584      5  0.996861       activate\n",
       "4638      3  0.994548     activation\n",
       "6808      4  0.994610         almost\n",
       "473       5  0.992060        animate\n",
       "8828      2  0.996825          annoy\n",
       "2955      4  0.994743         appear\n",
       "4016      2  0.999034    application\n",
       "3659      5  0.994859            ask\n",
       "2206      1  0.999029          audio\n",
       "6323      3  0.997972           back\n",
       "5093      3  0.999269     background\n",
       "4951      4  0.998607            bad\n",
       "3818      1  0.990981        battery\n",
       "2232      3  0.996017         become\n",
       "4778      1  0.995745         better\n",
       "6927      2  0.997891            bug\n",
       "4714      1  0.999908           call\n",
       "4130      5  0.998851         camera\n",
       "2969      3  0.998370         change\n",
       "1716      1  0.998604           chat\n",
       "4004      4  0.995874          clear\n",
       "3787      5  0.997790          close\n",
       "1746      3  0.998577           code\n",
       "8128      4  0.991404  communication\n",
       "5994      5  0.996182        connect\n",
       "1505      4  0.999525     connection\n",
       "518       3  0.997640     constantly\n",
       "2766      4  0.998664        contact\n",
       "7110      5  0.998952   conversation\n",
       "...     ...       ...            ...\n",
       "1170      5  0.995205          small\n",
       "8846      4  0.997256      something\n",
       "5625      4  0.998784          sound\n",
       "3417      2  0.999082          start\n",
       "4600      5  0.997194           stay\n",
       "2731      3  0.999778        sticker\n",
       "4940      3  0.999187           stop\n",
       "5130      1  0.991526          super\n",
       "517       2  0.996835        support\n",
       "5379      2  0.997705         switch\n",
       "4328      1  0.995578           talk\n",
       "4721      2  0.996395           tell\n",
       "6695      4  0.999052           text\n",
       "7691      1  0.994386          today\n",
       "7805      2  0.999120           turn\n",
       "3589      2  0.995613      uninstall\n",
       "8110      2  0.999622         update\n",
       "3201      4  0.997133        upgrade\n",
       "5613      2  0.997481         vayber\n",
       "8249      5  0.999102        version\n",
       "8227      1  0.997065          viber\n",
       "8227      2  0.002633          viber\n",
       "1791      1  0.999740          video\n",
       "7036      4  0.998399          voice\n",
       "1889      3  0.998046      wallpaper\n",
       "4472      4  0.996524           well\n",
       "5085      1  0.995345       whatsapp\n",
       "3065      1  0.991401         window\n",
       "2428      4  0.999582           work\n",
       "3030      3  0.998201          write\n",
       "\n",
       "[151 rows x 3 columns], R=30, lambda_step=0.01, plot_opts={'xlab': 'PC1', 'ylab': 'PC2'}, topic_order=[2, 5, 4, 3, 1])"
      ]
     },
     "execution_count": 12,
     "metadata": {},
     "output_type": "execute_result"
    }
   ],
   "source": [
    "warnings.filterwarnings(\"ignore\",category=DeprecationWarning)\n",
    "# Visualize the topics\n",
    "#score =1\n",
    "pyLDAvis.enable_notebook()\n",
    "vis = pyLDAvis.gensim.prepare(lda_model, corpus, id2word)\n",
    "vis"
   ]
  },
  {
   "cell_type": "code",
   "execution_count": 13,
   "metadata": {},
   "outputs": [],
   "source": [
    "pyLDAvis.save_html(vis, 'lda.html')"
   ]
  },
  {
   "cell_type": "code",
   "execution_count": 87,
   "metadata": {
    "extensions": {
     "jupyter_dashboards": {
      "version": 1,
      "views": {
       "grid_default": {
        "hidden": true
       },
       "report_default": {}
      }
     }
    }
   },
   "outputs": [
    {
     "ename": "ImportError",
     "evalue": "No module named lda2vec",
     "output_type": "error",
     "traceback": [
      "\u001b[0;31m---------------------------------------------------------------------------\u001b[0m",
      "\u001b[0;31mImportError\u001b[0m                               Traceback (most recent call last)",
      "\u001b[0;32m<ipython-input-87-ae1d89043bf3>\u001b[0m in \u001b[0;36m<module>\u001b[0;34m()\u001b[0m\n\u001b[0;32m----> 1\u001b[0;31m \u001b[0;32mfrom\u001b[0m \u001b[0mlda2vec\u001b[0m \u001b[0;32mimport\u001b[0m \u001b[0mpreprocess\u001b[0m\u001b[0;34m,\u001b[0m \u001b[0mCorpus\u001b[0m\u001b[0;34m\u001b[0m\u001b[0m\n\u001b[0m\u001b[1;32m      2\u001b[0m \u001b[0;32mimport\u001b[0m \u001b[0mmatplotlib\u001b[0m\u001b[0;34m.\u001b[0m\u001b[0mpyplot\u001b[0m \u001b[0;32mas\u001b[0m \u001b[0mplt\u001b[0m\u001b[0;34m\u001b[0m\u001b[0m\n\u001b[1;32m      3\u001b[0m \u001b[0;32mimport\u001b[0m \u001b[0mnumpy\u001b[0m \u001b[0;32mas\u001b[0m \u001b[0mnp\u001b[0m\u001b[0;34m\u001b[0m\u001b[0m\n\u001b[1;32m      4\u001b[0m \u001b[0mget_ipython\u001b[0m\u001b[0;34m(\u001b[0m\u001b[0;34m)\u001b[0m\u001b[0;34m.\u001b[0m\u001b[0mmagic\u001b[0m\u001b[0;34m(\u001b[0m\u001b[0;34mu'matplotlib inline'\u001b[0m\u001b[0;34m)\u001b[0m\u001b[0;34m\u001b[0m\u001b[0m\n\u001b[1;32m      5\u001b[0m \u001b[0;34m\u001b[0m\u001b[0m\n",
      "\u001b[0;31mImportError\u001b[0m: No module named lda2vec"
     ]
    }
   ],
   "source": []
  },
  {
   "cell_type": "code",
   "execution_count": null,
   "metadata": {},
   "outputs": [],
   "source": []
  }
 ],
 "metadata": {
  "anaconda-cloud": {},
  "extensions": {
   "jupyter_dashboards": {
    "activeView": "grid_default",
    "version": 1,
    "views": {
     "grid_default": {
      "cellMargin": 10,
      "defaultCellHeight": 20,
      "maxColumns": 12,
      "name": "grid",
      "type": "grid"
     },
     "report_default": {
      "name": "report",
      "type": "report"
     }
    }
   }
  },
  "kernelspec": {
   "display_name": "Python [default]",
   "language": "python",
   "name": "python2"
  },
  "language_info": {
   "codemirror_mode": {
    "name": "ipython",
    "version": 2
   },
   "file_extension": ".py",
   "mimetype": "text/x-python",
   "name": "python",
   "nbconvert_exporter": "python",
   "pygments_lexer": "ipython2",
   "version": "2.7.13"
  }
 },
 "nbformat": 4,
 "nbformat_minor": 2
}
