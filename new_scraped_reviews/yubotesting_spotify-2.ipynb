{
 "cells": [
  {
   "cell_type": "code",
   "execution_count": 29,
   "metadata": {
    "extensions": {
     "jupyter_dashboards": {
      "version": 1,
      "views": {
       "grid_default": {
        "col": 0,
        "height": 4,
        "hidden": false,
        "row": 0,
        "width": 12
       },
       "report_default": {
        "hidden": false
       }
      }
     }
    },
    "nbpresent": {
     "id": "24ca0b73-b287-45eb-8374-5f724ba0606a"
    }
   },
   "outputs": [
    {
     "name": "stdout",
     "output_type": "stream",
     "text": [
      "[nltk_data] Downloading package stopwords to\n",
      "[nltk_data]     /Users/yubozhang/nltk_data...\n",
      "[nltk_data]   Package stopwords is already up-to-date!\n"
     ]
    }
   ],
   "source": [
    "import pandas as pd\n",
    "import spacy\n",
    "import ast\n",
    "import re\n",
    "from pprint import pprint\n",
    "import json\n",
    "import gensim\n",
    "import gensim.corpora as corpora\n",
    "from gensim.utils import simple_preprocess\n",
    "from gensim.models import CoherenceModel\n",
    "from sklearn import linear_model\n",
    "from sklearn.feature_extraction.text import *\n",
    "from sklearn.model_selection import train_test_split\n",
    "from sklearn.metrics import classification_report, r2_score, mean_squared_error\n",
    "import numpy as np\n",
    "import matplotlib.pyplot as plt\n",
    "from nltk.sentiment.vader import SentimentIntensityAnalyzer\n",
    "from scipy import sparse\n",
    "import nltk; nltk.download('stopwords')\n",
    "from nltk.corpus import stopwords\n",
    "stop_words = stopwords.words('english')\n",
    "stop_words.extend(['from', 'subject', 're', 'edu', 'use', 'good', 'nice', 'dont'])\n",
    "\n",
    "import logging\n",
    "logging.basicConfig(format='%(asctime)s : %(levelname)s : %(message)s', level=logging.ERROR)\n",
    "\n",
    "import warnings\n",
    "warnings.filterwarnings(\"ignore\",category=DeprecationWarning)\n",
    "# Plotting tools\n",
    "import pyLDAvis\n",
    "import pyLDAvis.gensim  # don't skip this\n",
    "import matplotlib.pyplot as plt\n",
    "%matplotlib inline"
   ]
  },
  {
   "cell_type": "code",
   "execution_count": 30,
   "metadata": {
    "extensions": {
     "jupyter_dashboards": {
      "version": 1,
      "views": {
       "grid_default": {
        "hidden": true
       },
       "report_default": {
        "hidden": true
       }
      }
     }
    },
    "nbpresent": {
     "id": "5aa33765-1a24-4ddb-98c9-2ede92aae97f"
    }
   },
   "outputs": [],
   "source": [
    "reviews = []\n",
    "with open('scraped_reviews_spotify 2.txt', 'r') as f: #, encoding='utf-8'\n",
    "    reviews = f.read()\n",
    "\n",
    "reviews = re.sub('\\]', '', reviews)\n",
    "reviews = re.sub('\\[', '', reviews)\n",
    "reviews = re.sub('\\n', '', reviews)\n",
    "reviews = re.sub(\"'\", '\"', reviews)\n",
    "reviews = re.sub('    ', ' ', reviews)\n",
    "reviews = re.sub(' {', '{', reviews)\n",
    "reviews = re.sub(' }', '}', reviews)\n",
    "reviews = re.sub('{ ', '{', reviews)\n",
    "reviews = re.sub('} ', '}', reviews)\n",
    "reviews = re.sub('}  {', '}, {', reviews)\n",
    "reviews = re.sub('}{', '}, {', reviews)\n",
    "reviews = re.sub('id:', '\"id\":', reviews)\n",
    "reviews = re.sub('userName:', '\"userName\":', reviews)\n",
    "reviews = re.sub('userImage:', '\"userImage\":', reviews)\n",
    "reviews = re.sub('date:', '\"date\":', reviews)\n",
    "reviews = re.sub('url:', '\"url\":', reviews)\n",
    "reviews = re.sub('score:', '\"score\":', reviews)\n",
    "reviews = re.sub('title:', '\"title\":', reviews)\n",
    "reviews = re.sub('text:', '\"text\":', reviews)\n",
    "reviews = re.sub('replyDate:', '\"replyDate\":', reviews)\n",
    "reviews = re.sub('replyText:', '\"replyText\":', reviews)\n",
    "reviews = re.sub(': undefined', ': \"undefined\"', reviews)"
   ]
  },
  {
   "cell_type": "code",
   "execution_count": 31,
   "metadata": {
    "extensions": {
     "jupyter_dashboards": {
      "version": 1,
      "views": {
       "grid_default": {
        "hidden": true
       },
       "report_default": {
        "hidden": true
       }
      }
     }
    },
    "nbpresent": {
     "id": "94da91ee-dace-41a3-b461-3a350ed473a0"
    }
   },
   "outputs": [],
   "source": [
    "review_strings = [r+'}' for r in reviews.split('},')]\n",
    "review_strings[-1] = review_strings[-1][:-1]"
   ]
  },
  {
   "cell_type": "code",
   "execution_count": 32,
   "metadata": {
    "extensions": {
     "jupyter_dashboards": {
      "version": 1,
      "views": {
       "grid_default": {
        "hidden": true
       },
       "report_default": {
        "hidden": true
       }
      }
     }
    },
    "nbpresent": {
     "id": "047266ac-41d6-4ff0-84d1-1eb7972541f9"
    }
   },
   "outputs": [],
   "source": [
    "review_list = []\n",
    "for r in review_strings:\n",
    "    try:\n",
    "        review_list.append(json.loads(r))\n",
    "    except:\n",
    "        pass"
   ]
  },
  {
   "cell_type": "code",
   "execution_count": 33,
   "metadata": {
    "extensions": {
     "jupyter_dashboards": {
      "version": 1,
      "views": {
       "grid_default": {
        "hidden": true
       },
       "report_default": {
        "hidden": true
       }
      }
     }
    },
    "nbpresent": {
     "id": "b3b79604-770f-43d4-b519-fbeb9a039a3c"
    }
   },
   "outputs": [],
   "source": [
    "raw_corpus = []\n",
    "for i in range(1000): # change to larger number\n",
    "    raw_corpus.append(review_list[i][u'text'])"
   ]
  },
  {
   "cell_type": "code",
   "execution_count": 34,
   "metadata": {
    "extensions": {
     "jupyter_dashboards": {
      "version": 1,
      "views": {
       "grid_default": {
        "hidden": true
       },
       "report_default": {
        "hidden": true
       }
      }
     }
    },
    "nbpresent": {
     "id": "3d82c11d-fbb2-4c36-9e4d-be62db4cb92b"
    }
   },
   "outputs": [],
   "source": [
    "data = raw_corpus"
   ]
  },
  {
   "cell_type": "code",
   "execution_count": 35,
   "metadata": {
    "extensions": {
     "jupyter_dashboards": {
      "version": 1,
      "views": {
       "grid_default": {
        "col": 0,
        "height": 8,
        "hidden": false,
        "row": 4,
        "width": 12
       },
       "report_default": {
        "hidden": false
       }
      }
     }
    },
    "nbpresent": {
     "id": "f0518271-cfbd-4fd9-a7e2-404a41d3083a"
    }
   },
   "outputs": [
    {
     "name": "stdout",
     "output_type": "stream",
     "text": [
      "[u'Collection',\n",
      " u'Reliable lication for team projects',\n",
      " u'Great  we use at work',\n",
      " u'Take too much time to load.Expecting a lighter version soon',\n",
      " u'Great',\n",
      " u'The latest update not at all works. Always shows opening. What is this?',\n",
      " u'It works like a charm',\n",
      " u'Awesome ',\n",
      " u'33 MB for a chat ?']\n"
     ]
    }
   ],
   "source": [
    "# Remove Emails\n",
    "data = [re.sub('\\S*@\\S*\\s?', '', sent) for sent in data]\n",
    "\n",
    "# Remove new line characters\n",
    "data = [re.sub('\\s+', ' ', sent) for sent in data]\n",
    "\n",
    "# Remove distracting single quotes\n",
    "data = [re.sub(\"\\'\", \"\", sent) for sent in data]\n",
    "data = [re.sub(\"\\\"\", \"\", sent) for sent in data]\n",
    "data = [re.sub(\"_\", \"\", sent) for sent in data]\n",
    "\n",
    "data = [re.sub(\"good'\", \"\", sent) for sent in data]\n",
    "data = [re.sub(\"app\", \"\", sent) for sent in data]\n",
    "data = [re.sub(\"nice\", \"\", sent) for sent in data]\n",
    "pprint(data[1:10])\n"
   ]
  },
  {
   "cell_type": "code",
   "execution_count": 36,
   "metadata": {
    "extensions": {
     "jupyter_dashboards": {
      "version": 1,
      "views": {
       "grid_default": {
        "hidden": true
       },
       "report_default": {
        "hidden": true
       }
      }
     }
    },
    "nbpresent": {
     "id": "8df769f7-c82a-4b8b-9ba3-130fe2f2631a"
    }
   },
   "outputs": [],
   "source": [
    "def sent_to_words(sentences):\n",
    "    for sentence in sentences:\n",
    "        yield(gensim.utils.simple_preprocess(str([sentence]), deacc=True)) \n"
   ]
  },
  {
   "cell_type": "code",
   "execution_count": 37,
   "metadata": {
    "extensions": {
     "jupyter_dashboards": {
      "version": 1,
      "views": {
       "grid_default": {
        "hidden": true
       },
       "report_default": {
        "hidden": true
       }
      }
     }
    },
    "nbpresent": {
     "id": "47c3cab3-d492-4696-bb2b-99dcb3a2765f"
    }
   },
   "outputs": [],
   "source": [
    "data_words = list(sent_to_words(data))\n",
    "\n",
    "# Build the bigram and trigram models\n",
    "bigram = gensim.models.Phrases(data_words, min_count=5, threshold=100) \n",
    "trigram = gensim.models.Phrases(bigram[data_words], threshold=100)  \n",
    "bigram_mod = gensim.models.phrases.Phraser(bigram)\n",
    "trigram_mod = gensim.models.phrases.Phraser(trigram)\n",
    "#print(trigram_mod[bigram_mod[data_words[0][:30]]])\n",
    "#print(list(sent_to_words(data)))"
   ]
  },
  {
   "cell_type": "code",
   "execution_count": 38,
   "metadata": {
    "extensions": {
     "jupyter_dashboards": {
      "version": 1,
      "views": {
       "grid_default": {
        "hidden": true
       },
       "report_default": {
        "hidden": true
       }
      }
     }
    },
    "nbpresent": {
     "id": "cf5dfef5-2131-4772-9755-633888a36089"
    }
   },
   "outputs": [],
   "source": [
    "def remove_stopwords(texts):\n",
    "    return [[word for word in simple_preprocess(str(doc)) if word not in stop_words] for doc in texts]\n",
    "def make_bigrams(texts):\n",
    "    return [bigram_mod[doc] for doc in texts]\n",
    "\n",
    "def make_trigrams(texts):\n",
    "    return [trigram_mod[bigram_mod[doc]] for doc in texts]\n",
    "\n",
    "def lemmatization(texts, allowed_postags=['NOUN', 'ADJ', 'VERB', 'ADV']):\n",
    "    \"\"\"https://spacy.io/api/annotation\"\"\"\n",
    "    texts_out = []\n",
    "    for sent in texts:\n",
    "        if sent != []:\n",
    "            doc = nlp(\" \".join(sent)) \n",
    "\n",
    "            texts_out.append([token.lemma_ for token in doc if token.pos_ in allowed_postags])\n",
    " \n",
    "    return texts_out"
   ]
  },
  {
   "cell_type": "code",
   "execution_count": 39,
   "metadata": {
    "extensions": {
     "jupyter_dashboards": {
      "version": 1,
      "views": {
       "grid_default": {
        "col": 0,
        "height": 12,
        "hidden": false,
        "row": 12,
        "width": 12
       },
       "report_default": {
        "hidden": false
       }
      }
     }
    },
    "nbpresent": {
     "id": "2b74f5ee-ab75-48b6-8254-fcf18cb1025a"
    }
   },
   "outputs": [
    {
     "name": "stdout",
     "output_type": "stream",
     "text": [
      "[[u'waste'], [u'collection'], [u'reliable', u'lication', u'team', u'project'], [u'great', u'work'], [u'take', u'much', u'time', u'load', u'expect', u'light', u'version', u'soon'], [u'great'], [u'late', u'update', u'work', u'always', u'show', u'opening'], [u'work', u'charm'], [u'awesome'], [u'chat'], [u'functionality', u'bit', u'complicated'], [u'best', u'useful'], [u'love', u'phone', u'integrate', u'perfectly', u'desktop', u'easy', u'stay', u'touch', u'team', u'great', u'way', u'make', u'sure', u'everyone', u'include', u'conversation'], [u'amazing'], [u'favorite', u'communication', u'app', u'company'], [u'make', u'feel', u'connect', u'real', u'time', u'feel', u'pressured', u'engage'], [u'great', u'think', u'company', u'could', u'run', u'slack', u'point'], [u'great', u'clicking', u'view', u'reminder', u'permanently', u'freeze', u'require'], [u'communication', u'team', u'small', u'organisation', u'experience', u'big', u'company'], [u'easy'], [u'awesome'], [u'want', u'wallet', u'that', u's', u'want', u'invest'], [u'word', u'free'], [u'excellent'], [u'interface'], [u'do', u'not', u'copy', u'function', u'message'], [u'brilliant'], [u'really', u'great', u'team', u'communicator'], [u'awesome', u'tool', u'consistent', u'feature', u'cross', u'platform'], [u'good', u'app'], [u'pretty'], [u'come', u'featured', u'silicon', u'valley', u'look', u'great', u'attractive', u'interface'], [u'timely', u'notification', u'consistent', u'seem', u'bad', u'galaxy', u'phone'], [u'slack', u'theatre', u'troupe', u'brilliant', u'way', u'keep', u'myriad', u'small', u'group', u'connect', u'still', u'able', u'communicate', u'wholesale', u'large', u'group', u'feature', u'thread', u'take', u'app', u'yet', u'level', u'allow', u'even', u'nuanc', u'communication', u'have', u'use', u'slack', u'send', u'large', u'script', u'file', u'choreography', u'video', u'check', u'option', u'massive', u'event', u'overall', u'brilliant', u'thank', u'slack', u'team'], [u'great', u'platform', u'communicate', u'collaborating', u'project'], [u'cool', u'banana'], [u'love', u'add', u'add', u'get', u'premium', u'overall', u'love'], [u'awesome'], [u'great', u'even', u'free', u'version'], [u'think', u'fire'], [u'life', u'much', u'easy', u'spotify'], [u'great', u'love', u'ad'], [u'kid', u'online', u'recommend', u'spotify', u'year', u'ago', u'check', u'thing', u'better', u'rhapsody'], [], [u'love', u'spotify'], [u'many', u'song', u'choice', u'always', u'find', u'love', u'ufe'], [u'keep', u'busy', u'awake', u'help', u'keep', u'music', u'industry'], [u'great', u'problem', u'whenever', u'pause', u'music', u'notification', u'bar', u'go', u'away', u'go', u'turn', u'also', u'randomly', u'stop', u'music'], [u'really', u'love', u'good', u'music', u'better', u'rhapsody', u'better', u'lot', u'other', u'able', u'find', u'artist', u'do', u'not', u'think', u'ever', u'go', u'find', u'spotify', u'ayyye'], [u'new', u'graphic'], [u'easy', u'fresh', u'new', u'music', u'soon', u'release', u'would', u'definitely', u'recommend', u'anyone', u'that', u's', u'already', u'use', u'suggest', u'premium'], [u'satisfy'], [], [u'love', u'spotify'], [], [u'love', u'spotify', u'love', u'integrated', u'function', u'map'], [u'love'], [u'think', u'play', u'skip', u'download', u'song', u'even', u'premium'], [u'spotify', u'amazing'], [u'add', u'feature', u'arrange', u'add', u'music'], [u'good', u'fam'], [u'app', u'awesome', u'website', u'computer', u'trash', u'realtalk'], [u'premium', u'really', u'worth'], [u'love', u'daught', u'get', u'hook', u'well', u'yea', u'part', u'rest', u'music', u'love'], [u'find', u'easy'], [u'amazing'], [u'problem', u'ad', u'bone', u'pick', u'can', u'not', u'play', u'want'], [u'really', u'quality', u'great', u'music'], [u'cool'], [u'love'], [u'brilliant', u'everything'], [u'wish', u'could', u'give', u'star', u'premium', u'worth'], [u'life', u'saving'], [u'spotify', u'start', u'get', u'annoying', u'play', u'song', u'first', u'song', u'right', u'add', u'hen', u'song'], [u'brilliant', u'say', u'expectation', u'iisten', u'song', u'late', u'love', u'enjoy', u'music', u'take', u'life', u'chos', u'song', u'suit', u'love', u'spotify', u'many', u'thank', u'guy'], [u'love', u'fast', u'hear', u'new', u'song', u'sync', u'device', u'good', u'thing', u'ever', u'create', u'use', u'think', u'would', u'never', u'find', u'reason', u'enough', u'pay', u'listen', u'music', u'sure', u'make', u'worth'], [u'cool'], [u'great'], [u'love'], [u'pretty'], [u'great'], [u'late', u'update', u'discover', u'new', u'music', u'can', u'not', u'due', u'lack', u'browser', u'tab', u'bring', u'back'], [u'pretty', u'damn'], [u'good', u'music', u'place', u'job', u'making'], [u'update', u'fix', u'problem'], [u'love', u'spotify'], [u'good', u'ad', u'break', u'music', u'provider'], [u'helpfull'], [u'good', u'music'], [u'love'], [u'have', u'premium', u'member', u'say', u'thing', u'survive', u'many', u'personal', u'budget', u'cut', u'well', u'worth', u'money'], [], [u'buggy', u'hell', u'freeze', u'take', u'forever', u'load', u'also', u'harder', u'explore', u'find', u'new', u'music'], [u'incredible'], [u'come', u'spotify', u'else', u'say', u'dope', u'music', u'dope'], [u'love'], [u'bring', u'old', u'version'], [u'great', u'music', u'especially', u'walk', u'jog', u'take', u'close', u'none', u'data', u'dailey', u'do', u'not', u'take', u'even', u'gig', u'month', u'many', u'song', u'upgrade', u'premium', u'even', u'get', u'hulu', u'amazing', u'deal', u'amazing', u'price', u'fill', u'song', u'artist', u'love'], [u'absolutely', u'love', u'first', u'day'], [u'get', u'traffic', u'jam', u'everytime'], [u'annoying', u'ever', u'want', u'listen', u'song', u'force', u'pay', u'version', u'delete', u'phone', u'playstation'], [u'good'], [u'love', u'everyday', u'commute', u'school', u'song', u'search', u'super', u'easy', u'star', u'sure'], [u'trash'], [u'beautiful'], [u'time', u'be', u'something', u'be', u'listen', u'go', u'get', u'song', u'otherwise', u'really', u'wish', u'could', u'play', u'song'], [u'really'], [], [u'wish', u'song', u'lyric', u'song', u'feature'], [u'ace'], [u'get', u'useful', u'love'], [u'great', u'selection', u'music', u'streaming', u'radio', u'playlist', u'option', u'offline', u'mode', u'need', u'pay', u'dollar', u'subscription', u'feature', u'bet', u'well', u'worth'], [u'lag'], [u'complaint'], [u'great', u'wish', u'play', u'song', u'want', u'put', u'playlist', u'pay'], [], [u'would', u'unfortunately', u'unstall', u'phone', u'memory', u'full', u'go', u'card', u'make', u'go', u'card'], [u'need', u'listen', u'certain', u'song', u'premium'], [], [u'love'], [u'there', u's', u'thing', u'hate', u'play', u'random', u'song', u'be', u'not', u'playlist'], [u'try', u'first', u'comment'], [u'dis', u'great'], [u'good', u'music'], [u'difficult', u'manage', u'setting', u'create', u'playlist', u'convenient', u'ability', u'seamlessly', u'transfer', u'phone', u'pc', u'sound', u'device'], [u'good', u'music', u'world'], [u'spotify', u'play', u'music', u'everyday', u'absolutely', u'love'], [u'awesome'], [u'work', u'properly', u'update', u'day', u'ago', u'can', u'not', u'really', u'enjoy', u'listen', u'music', u'due', u'consistent', u'crashing', u'many', u'user', u'experience', u'problem', u'hope', u'fix', u'immediately', u'thank'], [u'unable', u'log', u'problem', u'refuse', u'link', u'playstation', u'account'], [u'cool'], [u'hihi'], [u'love'], [u'love', u'music', u'want'], [u'rating', u'ropriate', u'persistent', u'problem', u'solution'], [u'love', u'spotify', u'listen', u'day'], [u'bring', u'back', u'old', u'interface', u'be', u'cancel', u'premium', u'membership'], [u'have', u'use', u'year'], [u'good'], [u'awful', u'hate', u'new', u'update', u'profile', u'go', u'can', u'not', u'go', u'friend', u'page', u'can', u'not', u'find', u'music', u'know', u'save', u'shuffle', u'artist', u'music', u'fixxx', u'stupid', u'downtrade', u'spotify', u'keep', u'way', u'ff'], [u'great'], [u'great'], [u'love', u'spotify', u'youtube', u'can', u'not', u'download', u'song', u'vid', u'download', u'song', u'often', u'helpful', u'parent', u'love', u'much', u'love', u'love', u'ros', u'red', u'violet', u'blue', u'spotify', u'amazing', u'lov', u'love', u'love', u'love', u'lov', u'stay'], [u'love'], [u'restart', u'phone', u'log', u'tell', u'be', u'offline', u'uninstall', u'reinstall', u'time', u'order', u'log', u'need', u'download', u'playlist', u'need', u'keep', u'download', u'playlist', u'frustrating'], [u'download', u'song', u'already', u'download', u'several', u'time', u'even', u'pay', u'bill'], [u'problem', u'thank'], [u'love'], [u'amazing', u'music', u'yrs'], [u'love'], [u'great'], [u'love', u'everything'], [u'entertaining'], [], [u'skip'], [u'dope'], [u'star', u'pay', u'full', u'access', u'be', u'indian'], [u'good', u'music', u'far'], [u'listen'], [u'great', u'music', u'however', u'face', u'problem', u'everytime', u'exit', u'go', u'back', u'page', u'stuck', u'screen', u'swipe', u'tap', u'playlist', u'page', u'become', u'overyaly'], [u'good', u'music', u'ever'], [u'good', u'membership', u'stop', u'ad', u'also', u'music', u'casual', u'know'], [u'thank', u'much', u'send', u'trend', u'first', u'mom', u'go', u'face', u'white', u'boy'], [u'honestly', u'totally', u'worth', u'good', u'other', u'have', u'try'], [u'think', u'ready', u'become', u'star'], [u'can', u'not', u'even', u'listen', u'music', u'go', u'library', u'tap', u'shuffle', u'play', u'skip', u'song', u'get', u'want'], [], [u'love', u'ufe'], [u'love', u'amazing', u'mind', u'blow'], [u'music', u'life', u'enjoy', u'make', u'playlist', u'search', u'new', u'album', u'tune', u'spotify'], [u'can', u'not', u'jump', u'music', u'want'], [u'greasy', u'app', u'plenty', u'bigmouth', u'bass', u'swim', u'around', u'keep', u'chubb', u'day', u'long', u'soccer', u'field', u'way', u'go', u'spotify', u'bust', u'amother', u'load', u'tribe', u'lifer'], [u'find', u'favorite', u'song', u'love'], [u'great'], [u'free', u'version', u'good', u'update', u'can', u'not', u'song', u'artist', u'radio'], [u'love'], [u'fun'], [u'music', u'app'], [u'love', u'hear', u'many', u'time', u'friend'], [u'think', u'pretty', u'honest'], [u'wonderful'], [u'variety', u'easy', u'navigate'], [u'free', u'version', u'still', u'beat', u'pandora', u'opinion'], [u'love', u'slow'], [u'amazing', u'everyday', u'love'], [u'music', u'guess'], [u'simply', u'awesome', u'always'], [u'awesome'], [u'love', u'spotify', u'make', u'several', u'customizable', u'playlist', u'follow', u'artist', u'page', u'follow', u'friend', u'list', u'amazing', u'music'], [u'good', u'music'], [u'spotify', u'music', u'fix', u'need', u'salutespotify'], [u'spoti', u'get', u'lot', u'tune', u'make', u'decent', u'playlist', u'improve', u'time', u'yet', u'zenith'], [u'really', u'love', u'great', u'feature', u'great', u'music', u'hate', u'ad'], [u'pretty', u'track', u'original'], [u'love'], [u'first', u'do', u'not', u'work', u'well', u'come', u'back', u'updated', u'great', u'music'], [u'update', u'delete', u'station', u'cool'], [u'make', u'playlist', u'add', u'song', u'do', u'not', u'choose', u'fix', u'algorithm'], [u'nothing', u'sit', u'listen', u'jethro', u'tull'], [u'awesomeness'], [u'awesome', u'keep', u'work'], [u'great', u'see', u'language', u'show', u'service'], [u'perhaps', u'could', u'better', u'could', u'premium', u'easy', u'way', u'credit', u'card'], [u'get', u'buggy', u'time', u'decide', u'reopen', u'later', u'use', u'go', u'blank', u'unable', u'listen', u'song', u'take', u'minute', u'start', u'work', u'sometimes', u'restart', u'phone', u'get', u'play', u'music', u'be', u'pay', u'monthly', u'premium', u'be', u'get', u'premium', u'service', u'may', u'switch', u'tidal', u'something', u'else', u'extremely', u'frustrating', u'able', u'listen', u'music', u'opening'], [u'good', u'music', u'android'], [u'app', u'dope'], [u'great'], [u'probably', u'good', u'good', u'selection', u'also', u'download', u'song', u'podcast', u'else'], [u'decir'], [u'spotify'], [], [u'love', u'listen', u'music', u'day', u'listen', u'favorite', u'song', u'push', u'button', u'good', u'get', u'premium'], [u'great', u'selection', u'music', u'time', u'listen', u'music', u'take', u'space', u'phone', u'delete', u'download'], [u'great', u'platform', u'streaming', u'music', u'quality', u'great', u'well', u'believe', u'family', u'pack', u'worth', u'penny'], [u'great', u'worth', u'buy', u'premium'], [u'love'], [u'neat'], [u'great', u'ever', u'make'], [u'amazing'], [u'want', u'download', u'music'], [u'music', u'awesome'], [u'user', u'friendly', u'allow', u'make', u'playlist', u'music', u'could', u'ever', u'want', u'available'], [u'love', u'much'], [u'great', u'pay', u'month', u'limit', u'recommend'], [u'spoterfy'], [u'great', u'music'], [u'love', u'spotify'], [u'great'], [u'fantastic', u'worth'], [u'good', u'music', u'app', u'ok'], [u'basta', u'panget', u'gamitin'], [u'good', u'music', u'have', u'ever'], [u'really', u'take', u'ad', u'better'], [u'great'], [u'brilliant'], [u'change', u'lonely', u'life', u'thank'], [u'can', u'not', u'listen', u'album', u'normally', u'like', u'browser', u'player', u'song', u'shuffle', u'can', u'not', u'directly', u'pick', u'song', u'want', u'listen', u'be', u'allow', u'skip', u'time', u'hour', u'hell'], [u'thank', u'song'], [u'awesome', u'music', u'huge', u'variety'], [u'think', u'spotify', u'great', u'love'], [u'great', u'song'], [u'unbelievably', u'glitchy', u'often', u'nothing', u'hen', u'press', u'button', u'restart', u'constantly', u'sometimes', u'pause', u'button', u'do', u'not', u'work', u'even', u'close', u'take', u'almost', u'minute', u'stop', u'music'], [u'love'], [u'sometimes', u'freeze'], [u'can', u'not', u'live', u'day', u'office'], [u'easy', u'great', u'selection', u'great', u'music', u'database'], [u'love'], [u'word', u'love'], [u'amazing'], [u'great'], [u'uglyboy'], [u'best', u'ever'], [u'cool', u'music', u'selection', u'love'], [u'awesome'], [u'great'], [u'shhhh', u'luvv'], [u'play', u'music', u'realy'], [u'convenient', u'making', u'playlist'], [u'love', u'definitely', u'downo'], [u'complaint', u'spotify', u'favorite'], [u'awesome'], [u'really', u'enjoy', u'prime', u'little', u'expensive'], [u'music', u'selection', u'current'], [u'awesome', u'period', u'awesome'], [u'fact', u'play', u'different', u'song', u'be', u'listen', u'playlist'], [u'good'], [u'love', u'first', u'night'], [u'what', u's', u'good'], [u'great', u'chill', u'taking', u'morning', u'walk'], [u'reception', u'include', u'ad'], [u'do', u'not', u'work', u'well'], [u'great', u'phone', u'suck'], [u'music', u'app'], [u'love', u'much'], [u'think', u'point', u'view', u'listen', u'music', u'anywhere', u'time'], [u'samsung', u'mini', u'keep', u'restart', u'regularly', u'sssllllooowww', u'load', u'do', u'not', u'much', u'want', u'yr', u'old', u'eg', u'music'], [u'make', u'pay', u'everything'], [u'great', u'music'], [u'spotify', u'absolute', u'favorite', u'music', u'even', u'recommend', u'amazing', u'song', u'forget', u'always', u'put', u'song', u'be', u'not', u'even', u'playlist', u'skip', u'enough'], [u'new', u'look', u'terrible', u'feel', u'uneven', u'unbalanced', u'bottom'], [u'will', u'not', u'install'], [u'love', u'everything', u'could', u'ask', u'music', u'find', u'playlist', u'make', u'people', u'make', u'playlist', u'song', u'love', u'definitely', u'recommend', u'ad', u'get', u'bit', u'annoying'], [u'dope'], [u'spotify', u'good', u'music', u'device'], [u'thai', u'work', u'compare', u'one', u'really'], [u'think', u'amazing'], [u'love', u'music'], [u'love', u'work', u'work', u'line'], [u'amazing', u'keep'], [u'sure', u'learn', u'sing', u'love'], [u'love'], [u'love', u'love', u'love'], [u'new', u'spotify', u'be', u'impressed'], [u'get', u'free', u'trial', u'first', u'like', u'enough', u'pay', u'premium'], [], [u'great'], [u'amazing', u'definitely', u'worth', u'money'], [u'love', u'much', u'can', u'not', u'explain'], [u'love', u'spotify', u'way', u'netflix', u'come', u'subscription', u'service', u'have', u'find', u'music', u'do', u'not', u'think', u'could', u'ever', u'find', u'anywhere', u'absolute', u'beast', u'almost', u'daily'], [u'difficult', u'find', u'song', u'keep', u'play', u'random', u'sonh', u'do', u'not', u'know'], [u'great'], [u'playlist', u'always', u'need', u'improvement'], [u'truly', u'good', u'music', u'ever'], [u'service'], [u'trash'], [u'soawesome'], [u'coo'], [u'get', u'premium'], [u'roald', u'smitn'], [u'buy', u'premium', u'be', u'late', u'day', u'buy', u'premium', u'month', u'song', u'download', u'library', u'go', u'must', u'download', u'sometimes', u'must', u'go', u'place', u'internet', u'connection'], [u'use', u'free', u'love', u'find', u'song', u'want', u'listen'], [u'good', u'pandora'], [u'satisfiy', u'fir', u'mood'], [u'be', u'speechless', u'say', u'awesome', u'listen', u'music', u'wifi', u'datum', u'would', u'highly', u'recommend'], [u'awesomeness'], [u'start', u'use', u'spotify', u'love', u'say', u'good', u'music', u'recommend', u'download', u'spotify'], [u'need', u'lyric'], [u'easy'], [u'looooove'], [u'pretty', u'dope'], [u'always', u'great', u'music', u'people', u'choose', u'mislead', u'artist'], [u'dope'], [u'good', u'streaming', u'music', u'love', u'spotify', u'ufe'], [u'never', u'leave'], [u'love', u'music', u'site', u'love', u'star'], [u'spotify', u'premium', u'user', u'never', u'ever', u'go', u'back', u'anything', u'else'], [u'well', u'do', u'easy', u'great', u'variety', u'musical', u'choice'], [u'price', u'perfect', u'music', u'lover', u'well', u'do'], [u'late', u'great', u'rdio', u'still', u'excellent', u'listening', u'month', u'would', u'want', u'hear', u'fingertip', u'use', u'daydream', u'stuff', u'music', u'listener', u'dream', u'come', u'true', u'playlist', u'friend', u'rdio'], [u'hope', u'someday', u'include', u'customization', u'letter', u'colour'], [u'love', u'music', u'free'], [u'great', u'music', u'sould', u'great'], [u'great'], [u'love'], [u'great', u'music'], [u'great', u'pick', u'song', u'play'], [u'great'], [u'be', u'get', u'mad', u'try', u'listen', u'playlist', u'song', u'rest', u'recommend', u'song', u'skip', u'can', u'not', u'skip', u'anymore'], [u'love'], [u'problem', u'whatsoever'], [u'sound'], [u'playlist', u'work', u'perfectly', u'other', u'however', u'play', u'song', u'stop', u'play', u'go', u'play', u'say', u'unavailable', u'have', u'try', u'delete', u'reinstall', u'work', u'go', u'back', u'thing', u'shame', u'use', u'love', u'playing', u'music', u'bit', u'hassle'], [u'perfect', u'music', u'great', u'personalize', u'playlist', u'come', u'free', u'showtime'], [u'amazing'], [u'spotify', u'satisfy', u'station', u'different', u'variety', u'music'], [u'great', u'daily', u'mix'], [u'ufe'], [u'love', u'easy', u'find', u'music'], [u'also', u'podcast', u'well', u'range', u'music'], [u'new', u'streaming', u'music', u'be', u'not', u'difficult', u'figure', u'love', u'variety', u'music'], [u'love', u'spotify'], [u'great', u'definitely', u'recommend'], [u'thank', u'alot'], [u'listen', u'ballad', u'song', u'bedtime'], [u'melhor'], [u'awesome'], [u'good'], [u'love', u'use', u'spotify', u'problem', u'much', u'ad'], [u'love', u'spotify', u'help', u'lot'], [u'quick', u'easy'], [u'love'], [u'great'], [u'good', u'music', u'have', u'ever', u'use', u'totally', u'worth', u'money', u'be', u'pay'], [], [u'wish', u'less', u'ad', u'also', u'take', u'whopping', u'space', u'great'], [u'awesome'], [u'love', u'spotify'], [u'can', u'not', u'hear', u'song', u'great'], [u'love', u'spotify'], [u'good', u'music'], [u'amazing'], [u'love'], [u'different', u'music', u'never', u'hear', u'new', u'song', u'everyday'], [u'dae', u'wae', u'thank'], [u'awesome'], [u'need', u'pakistani', u'artist', u'song'], [u'love'], [u'love', u'spotify'], [u'know', u'play', u'song', u'line'], [u'work', u'great', u'issue'], [u'love', u'able', u'make', u'playlist', u'listen', u'music', u'choose'], [u'want', u'many', u'force', u'feed', u'take', u'valuable', u'space', u'want', u'option', u'uninstall', u'may', u'wonderful'], [u'love'], [u'good', u'music', u'ever'], [u'love', u'recommend', u'playlist', u'base', u'listen'], [u'best', u'good'], [u'love', u'love', u'love', u'selection'], [u'app', u'quite', u'recommend', u'similar', u'music', u'listening'], [u'thank', u'much', u'love'], [u'think', u'awesome', u'get', u'wast', u'time', u'listen', u'favorite', u'song', u'best'], [u'get', u'selection', u'always', u'helpful'], [u'easy', u'great', u'complaint'], [u'gudm'], [u'awesome', u'premium', u'good'], [u'generally', u'make', u'frustrating', u'choice', u'remove', u'certain', u'functionality', u'be', u'not', u'reason', u'eg', u'use', u'able', u'play', u'whole', u'folder', u'playlist', u'take', u'away', u'complain', u'staff', u'get', u'generic', u'response', u'still', u'price', u'access', u'pretty', u'much', u'music', u'world', u'amazing', u'someone', u'bear'], [u'love'], [u'song', u'pretty'], [u'great', u'idea', u'download', u'sooner'], [u'great', u'music'], [u'love', u'enjoy'], [u'perefct', u'music'], [u'music'], [u'great', u'great', u'music', u'many', u'ad'], [u'love', u'spotify', u'favorite', u'music', u'far'], [u'great', u'party', u'reason', u'would', u'need', u'create', u'playlist', u'need', u'monitoring', u'time'], [u'music'], [u'unintuitive', u'shuffle', u'play', u'audio', u'book', u'flaky', u'chromecast', u'support', u'tap', u'wrong', u'area', u'replace', u'currently', u'run', u'music'], [u'nada'], [u'can', u'not', u'live'], [u'ton', u'selection'], [u'great', u'wish', u'jrock'], [u'love', u'much'], [u'discover', u'favorite', u'band', u'use', u'radio', u'feature', u'year', u'ago'], [u'stream', u'music'], [u'great'], [u'try', u'listen', u'music', u'song', u'pop', u'part', u'playlist', u'listening'], [u'awesome'], [u'say', u'also', u'support', u'artist', u'thing', u'book'], [u'great', u'variety', u'band', u'get', u'album', u'miss', u'pretty'], [u'spotify', u'premium', u'awesome', u'great', u'come', u'free', u'spark', u'phone', u'plan'], [u'live'], [u'job'], [u'perfect', u'music'], [u'great', u'keep', u'let', u'pick', u'song'], [u'love', u'music'], [u'thank'], [u'great', u'job', u'music'], [u'amazing', u'hearing', u'music', u'watch', u'short', u'add', u'get', u'hear', u'music', u'min', u'add', u'love'], [], [u'awesome', u'bro'], [u'amazing'], [u'choose', u'want', u'listen', u'recommend', u'decent', u'stuff', u'bonus'], [u'awesome'], [u'lovely'], [u'love'], [u'think'], [u'wide', u'variety', u'music'], [u'server', u'do', u'not', u'let'], [u'great'], [u'think', u'really', u'always', u'pick', u'song', u'want', u'anytime', u'wish', u'could', u'wifi', u'datum', u'fix', u'want', u'thank', u'maker', u'spotify'], [u'music', u'love'], [u'love', u'spotify', u'many', u'glitch', u'sometimes', u'slow'], [u'amazing'], [u'love'], [u'big', u'library', u'sound', u'quality', u'perfect'], [u'super', u'dope', u'diggity', u'awesome'], [u'wish', u'premium', u'free'], [u'maybe', u'could', u'go', u'wi', u'fi'], [u'add', u'karouke', u'version', u'tho', u'would', u'lot', u'funnnnnnnnnnn'], [u'love'], [u'great', u'always', u'love'], [u'awesome'], [u'great', u'love'], [u'great', u'premium', u'ad', u'overwhelming'], [u'love', u'never', u'stop', u'be', u'thing'], [u'cool', u'never', u'stop', u'useing'], [u'good', u'music', u'pointblank'], [u'many', u'commercial', u'long'], [u'apologize', u'confused', u'playlist', u'feature', u'random', u'song', u'pop', u'play', u'song', u'want', u'stuck', u'suggest', u'song', u'instal', u'many', u'time', u'solution'], [u'exactly', u'want', u'play', u'music', u'base', u'taste'], [u'want'], [u'great', u'love'], [u'good', u'music', u'lover'], [u'spotify', u'make', u'find', u'new', u'world', u'soul', u'spirut', u'listenin', u'music', u'keep', u'rock', u'spotify'], [u'best', u'good', u'music', u'ever'], [u'hooked', u'love', u'music', u'love', u'discover', u'really', u'great', u'new', u'music', u'recommend', u'download'], [u'cool', u'music'], [u'easy', u'practical', u'fast', u'fun'], [u'video'], [u'light'], [u'late', u'update', u'slightly', u'ruin', u'be', u'play', u'song', u'can', u'not', u'skip', u'next', u'slide', u'finger', u'screen', u'press', u'back', u'choose', u'next', u'song', u'click', u'also', u'sing', u'previous', u'song', u'button', u'work', u'apart', u'issue', u'awesome'], [u'much', u'find', u'band', u'be', u'look'], [u'love'], [u'convenient'], [u'love', u'spotify', u'lot', u'great', u'music', u'keep', u'go', u'day', u'work', u'play', u'listen', u'free', u'mind', u'ad'], [u'many', u'ad', u'song', u'shuffle', u'can', u'not', u'even', u'download'], [u'rubbish', u'want', u'listen', u'song', u'would', u'let', u'listen', u'shuffled', u'play', u'list', u'delete', u'song', u'even', u'rubbish'], [u'love'], [u'good', u'thing', u'slice', u'bread'], [u'amazing', u'nothing', u'wrong', u'song', u'ringtone', u'offline'], [u'excellent'], [u'good', u'market', u'non', u'stop', u'hit', u'hit', u'everything', u'need'], [u'amazing', u'love', u'definitely', u'recommend', u'get', u'premium', u'worth', u'awesome', u'also', u'huge', u'selection', u'music'], [u'love'], [u'love'], [u'edit', u'october', u'update', u'fix', u'second', u'crash', u'thank', u'fix', u'be', u'back', u'listen', u'music', u'favourite', u'music'], [u'great', u'really', u'even', u'rarely', u'still', u'make', u'love', u'simple', u'love'], [u'intuitive', u'easy'], [u'spotify'], [u'love', u'variety'], [u'use', u'life', u'would', u'not', u'get', u'day'], [u'great', u'selection', u'song', u'playlist'], [u'music'], [u'listen', u'spotify', u'day', u'long', u'great', u'suggested', u'music', u'option'], [u'work'], [u'hope', u'share', u'music', u'playlist', u'story', u'sound', u'second', u'rather', u'show', u'play', u'spotify'], [u'brilliant'], [u'smart', u'lication'], [u'awesome'], [u'super'], [], [u'playlist', u'discover', u'weekly', u'spotify', u'connect', u'great', u'miss', u'bpm', u'run', u'feature', u'remove'], [u'beautiful', u'music'], [u'want', u'spotify', u'add', u'song', u'playlist', u'turn', u'feature', u'still', u'add', u'song', u'fix'], [u'enjoy', u'use', u'easy', u'understand', u'navigate'], [u'mucho', u'anuncio', u'feo'], [u'music'], [u'loooooovvveee'], [u'music', u'mixed', u'relevant', u'singer', u'select', u'listen'], [u'great', u'always', u'think', u'offline', u'can', u'not', u'search', u'play', u'anything', u'new'], [u'sick'], [u'mean', u'lisn', u'music'], [u'excellent'], [u'give', u'multiple', u'option', u'song', u'search'], [u'easy', u'way', u'add', u'song', u'playlist', u'put', u'check', u'song', u'will', u'add', u'do'], [u'premium', u'better', u'be', u'sure', u'basic', u'qpp', u'love', u'hour', u'day'], [], [u'love', u'know', u'get', u'song', u'want', u'get', u'free', u'day', u'premium'], [], [u'last', u'update', u'suck', u'lag', u'force', u'close', u'do', u'not', u'work', u'well'], [u'do'], [u'think', u'good', u'music', u'ever', u'love', u'carrie', u'underwood', u'katy', u'perry', u'luke', u'bryan'], [u'perfect'], [u'love', u'jazz', u'classic', u'musician', u'easily', u'accessible'], [u'add', u'interrupt', u'study', u'music', u'time'], [u'buggy', u'music', u'randomly', u'stop', u'want', u'start', u'control', u'show', u'part', u'load', u'slowly'], [u'spotify', u'year', u'would', u'not'], [u'useful'], [], [u'love'], [u'listen', u'music', u'wish', u'free'], [u'love'], [u'need', u'less', u'ad'], [u'hate'], [u'amazing'], [u'really', u'lot', u'have', u'actually', u'reconnect', u'old', u'stuff', u'listen', u'young', u'have', u'also', u'find', u'new', u'music', u'enjoy'], [u'ap'], [u'seem', u'get', u'slow', u'buggy', u'update', u'crash', u'glitch', u'time'], [u'hear', u'music', u'playing', u'game'], [u'reallly', u'love', u'spotify', u'use', u'great', u'change', u'year', u'mean', u'ad', u'buy', u'premium', u'that', u's', u'deal', u'ad', u'great', u'music'], [u'love', u'spotify', u'nothing', u'else'], [u'provide', u'free', u'vip'], [u'sound', u'hound', u'type', u'feature', u'build'], [u'will', u'fine', u'house', u'ninety', u'chicago', u'house'], [u'love', u'holla'], [], [u'good', u'want', u'listen', u'music', u'ever'], [u'love'], [u'love'], [u'spotify', u'life'], [u'truly', u'enjoy', u'spotify', u'experience'], [u'love', u'spotify', u'good', u'music'], [u'good', u'kind'], [u'awesome'], [u'love'], [u'amazing', u'get', u'xbox', u'work', u'wonderfully'], [u'ton', u'genra', u'new', u'music', u'load', u'time'], [u'think', u'really', u'cool', u'listen', u'tablet', u'know', u'share', u'playlist'], [u'song', u'want', u'always', u'work'], [u'great', u'get', u'album', u'song'], [u'amazing', u'listen', u'song', u'want'], [u'great', u'music', u'experience'], [u'really', u'problem', u'wi', u'fi'], [u'crazy', u'slow', u'time', u'especially', u'boot', u'system', u'say', u'use', u'space', u'say', u'intuitive', u'thing', u'save', u'content'], [u'great', u'song', u'selection', u'payment', u'low', u'spotify', u'premium', u'totally', u'affordable', u'college', u'student', u'love'], [u'love', u'music'], [u'great', u'wish', u'do', u'not', u'pay', u'premium'], [u'grace'], [], [u'cool'], [u'work', u'advertise'], [u'love', u'air'], [u'excellent', u'would', u'long', u'could', u'developer', u'exceptional'], [], [u'great', u'music', u'choosing'], [u'think', u'spotify', u'great', u'have', u'phone', u'never', u'rebuild', u'music', u'library'], [u'like'], [u'love', u'song'], [u'net', u'work'], [u'perfect'], [u'think', u'remove', u'ad', u'play', u'music'], [u'be', u'love'], [u'many', u'add'], [u'think', u'great', u'sort', u'music', u'people'], [u'notice', u'new', u'update', u'bug', u'love', u'spotify', u'especially', u'offline', u'feature', u'click', u'song', u'regularly', u'say', u'go', u'online', u'see', u'menu', u'can', u'not', u'add', u'song', u'queue', u'playlist', u'use', u'often', u'fix', u'asap', u'listen', u'music', u'be', u'road', u'wifi', u'mobile', u'network', u'fall', u'asleep', u'thank', u'dev', u'team'], [u'great', u'music', u'there', u's', u'way', u'many', u'add', u'have', u'start', u'put', u'add', u'be', u'listen', u'music', u'get', u'annoying', u'get', u'need'], [u'enjoy', u'second'], [u'seem', u'have', u'not', u'feature', u'could', u'share', u'song', u'instagram', u'story', u'fix', u'be', u'indonesia', u'friend', u'already', u'feature', u'fix', u'thank', u'fyi', u'already', u'pay', u'premium', u'feature'], [u'enough', u'political', u'candidate', u'ad', u'understand', u'commercial', u'time', u'stupid', u'political', u'ad', u'listen', u'music', u'escape'], [], [u'switch', u'play', u'faith', u'pretty', u'great', u'much', u'glitch', u'will', u'not', u'connect', u'internet', u'show', u'song', u'anything', u'sometimes', u'will', u'play', u'song', u'second', u'will', u'cut', u'audio', u'play', u'skip', u'back', u'song'], [], [u'music'], [u'great'], [u'awesome'], [u'type', u'title', u'album', u'quickly', u'retrief', u'request'], [u'good', u'way', u'reciate', u'artist', u'pay'], [u'kiss', u'good'], [u'hood', u'need', u'premium'], [u'poor', u'design', u'flaw', u'search', u'engine', u'slow', u'response', u'full', u'bug', u'error', u'likely', u'cancel', u'soon', u'update', u'can', u'not', u'fix', u'thumb'], [u'phenomenal'], [u'love'], [u'damn', u'love'], [u'pick', u'like', u'make', u'play', u'list'], [u'rock'], [u'great', u'listen', u'music', u'seem', u'everything', u'would', u'need', u'listen', u'favorite', u'band', u'artist'], [u'think', u'pretty', u'cool'], [u'many', u'ad'], [u'app', u'work', u'gem', u'lag', u'even', u'use', u'shuffle', u'song', u'playlist'], [], [u'spotify', u'want', u'taylor', u'mean', u'make', u'hen'], [u'outstanding'], [], [u'great', u'list', u'old', u'classic', u'housework', u'make', u'lunch'], [u'better', u'hop', u'need', u'work', u'cds', u'continue', u'buy', u'add', u'collection', u'access', u'phone', u'tablet', u'pc', u'continue', u'develop', u'fine', u'kind', u'regard', u'good', u'wish', u'doug', u'lineham'], [u'really'], [u'app', u'thank', u'spotify'], [u'try', u'can', u'not', u'live'], [u'need', u'improve', u'lyrical', u'fact'], [u'love', u'soo'], [u'awesome'], [u'enjoy', u'variety', u'ease'], [u'great'], [u'could', u'hier'], [u'cool'], [u'break', u'door', u'bad'], [u'convenient', u'could', u'bit', u'affordable'], [u'great', u'find', u'problem', u'totally', u'recommend', u'friend'], [u'cool'], [u'fantastic', u'time'], [u'amazing'], [u'entertaining'], [u'amazing'], [u'love', u'get', u'favourite', u'tune', u'heap', u'new', u'easy', u'navigate', u'love', u'suggestion', u'little', u'history', u'interesting'], [u'great'], [u'love'], [u'really', u'worth'], [u'cool'], [u'gusta', u'mucho', u'esta', u'aplicaci', u'xf', u'necesito', u'estar', u'descargando', u'xfasica', u'otra', u'vez', u'todo', u'est', u'aqu', u'xed'], [u'good', u'itune'], [u'song', u'group', u'together', u'category', u'spotify', u'make', u'look', u'listing', u'song', u'playlist', u'group', u'music', u'slow', u'music'], [u'love', u'infinite', u'music', u'fingertip'], [u'be', u'trial', u'version', u'selection', u'fact', u'download', u'galaxy', u'frontier', u'watch', u'awesome'], [u'wonferfull'], [u'everything', u'spot', u'ad', u'fine', u'free', u'however', u'offensive', u'can', u'not', u'opt'], [u'top', u'range', u'stuff', u'class'], [u'amazing'], [u'ever', u'update', u'work', u'way', u'slower'], [u'easy'], [u'love'], [u'pretty', u'amazing'], [u'love', u'discover', u'new', u'music', u'age'], [u'love', u'actually', u'do', u'not', u'want', u'music', u'other', u'allow', u'make', u'playlist'], [u'think', u'great', u'kind', u'better', u'rest'], [u'great', u'discover', u'new', u'song'], [], [u'let', u'take', u'podcast'], [u'light'], [u'terrible', u'bug', u'lately', u'play', u'song', u'second', u'shut', u'stop', u'play', u'mind', u'close', u'second', u'playing', u'song'], [u'spotify', u'good', u'music'], [u'great', u'selection', u'music', u'rare', u'search', u'track', u'update', u'oct', u'numerous', u'bug', u'late', u'update', u'completely', u'fail', u'display', u'album', u'sit', u'indefinitely', u'give', u'be', u'pay', u'monthly', u'subscription', u'that', u's', u'really', u'annoying'], [u'buggy'], [u'amazing', u'free', u'verson', u'great', u'premium', u'cheap', u'wonderful'], [u'love', u'spotify', u'wish', u'way', u'block', u'band', u'enter', u'feed', u'name', u'deal', u'killer'], [u'awesome'], [u'excellence'], [u'love'], [u'change', u'life', u'simple'], [u'sometimes', u'ad', u'go', u'loud', u'music'], [u'make', u'free', u'premium', u'churba', u'churb'], [u'well', u'preety'], [u'awesome', u'buff', u'say'], [u'everything', u'playlist'], [u'add', u'globe', u'telecom', u'pay', u'load'], [u'difficult', u'find', u'particular', u'song', u'find', u'album', u'song', u'pandora', u'much', u'user', u'friendly'], [u'great', u'highly', u'recommend'], [u'pricy'], [u'really', u'fascinating', u'play', u'song', u'well'], [u'mantap', u'cari', u'lagu', u'gak', u'susah', u'lagi'], [u'wonderful', u'great', u'great', u'great', u'love'], [u'stop', u'listen', u'album', u'go', u'straight', u'begin', u'play', u'repeat', u'song'], [u'first', u'download', u'listen', u'playlist', u'offline', u'mode', u'fine', u'suddenly', u'music', u'stop', u'already', u'download', u'playlist', u'go', u'need', u'download', u'can', u'not', u'download', u'use', u'cellular', u'even', u'already', u'turn', u'download', u'use', u'cellular', u'setting', u'suck', u'pay'], [u'want', u'free', u'music'], [u'awesome'], [u'complete', u'selection', u'song', u'sound', u'volume', u'complaint', u'occasionally', u'portion', u'download', u'song', u'suddenly', u'dissear', u'clear', u'reason'], [u'ad', u'repeat', u'time', u'ad', u'do', u'not', u'load', u'whole', u'playing', u'stop'], [u'enjoy', u'look', u'music', u'different', u'jandra', u'erra'], [u'service', u'offer', u'can', u'not', u'fault', u'thank'], [u'love'], [u'railaaa'], [u'easy', u'even', u'old', u'girl'], [u'really', u'love', u'wish', u'there', u's', u'speed', u'playback', u'listen', u'song', u'carefully'], [u'premium', u'member', u'year', u'year', u'stop', u'play', u'music', u'say', u'there', u's', u'wifi', u'wifi', u'will', u'not', u'load', u'artist', u'also', u'disconnect', u'chromecast', u'home', u'halfway', u'song', u'deleting'], [], [u'great', u'song', u'even', u'better', u'get', u'premium'], [u'use', u'year', u'keep', u'get', u'good', u'well', u'worth', u'money', u'spend'], [u'love', u'give', u'suggest', u'music'], [u'make', u'play', u'screen', u'full', u'screen', u'playlist'], [u'great', u'job', u'properly', u'super', u'convinient'], [u'good', u'music'], [u'pretty', u'neat', u'guy'], [u'far', u'good', u'ufe', u'fradio', u'far', u'good', u'selection', u'music'], [u'really'], [u'premium', u'worth'], [u'good', u'music'], [u'hope', u'get', u'offline', u'music'], [u'decent'], [u'app', u'interface', u'complete', u'dog', u'sh'], [u'great'], [u'play', u'music'], [u'good', u'music'], [u'pain'], [u'free', u'version'], [u'great'], [u'love', u'easy', u'find', u'song', u'baby'], [u'mum'], [u'party', u'musia'], [u'spotify', u'music', u'stand'], [u'omg', u'everything', u'need'], [u'great'], [u'great', u'lot', u'music', u'choose', u'play', u'certain', u'song', u'do', u'not'], [], [u'love'], [u'freeze', u'occasionally', u'love'], [u'skip', u'thing'], [u'brilliant', u'make', u'hy'], [u'downloader'], [u'great', u'listening'], [u'spotify', u'brilliant', u'choice', u'excellent', u'get', u'different', u'genre'], [u'suca'], [u'real', u'deal', u'come', u'music'], [u'far'], [u'thank', u'best', u'ever', u'download', u'find', u'music', u'minute', u'look', u'year', u'brilliant'], [u'pretty', u'solid', u'music', u'sometimes', u'delete', u'song', u'do', u'not', u'log', u'hand'], [u'love'], [u'premium', u'great'], [u'love'], [u'thank', u'fix', u'bug'], [u'download', u'use', u'cellular', u'work', u'always'], [u'greatful'], [u'great', u'wish', u'lil', u'cheap', u'month', u'subscription', u'tho'], [u'relax', u'awesome', u'listening'], [u'love', u'spotify', u'bit', u'someone', u'yet', u'job', u'rather', u'annoying', u'able', u'skip', u'play', u'random', u'song', u'shuffle', u'play', u'premium', u'laptop', u'great', u'play', u'music', u'also', u'phone', u'song', u'particular', u'playlist', u'be', u'listen', u'completely', u'irrelevant', u'also', u'limit', u'skip', u'rather', u'annoying', u'irrelevant', u'song', u'playlist', u'be', u'attempt', u'listen'], [u'great', u'ad', u'annoy', u'enough', u'care', u'be'], [u'bring', u'music', u'ever', u'need'], [u'thank'], [u'galaxy', u'review', u'spotify', u'many', u'artist', u'thank'], [u'really', u'reciat'], [], [u'wish', u'look', u'go', u'pandora', u'year', u'ago'], [u'love', u'spotify', u'favorite', u'song'], [u'great', u'sharing', u'listen', u'globe', u'friend', u'great'], [u'work', u'well', u'chromecast', u'tv', u'audio', u'also', u'start', u'tablet', u'room', u'continue', u'room', u'tablet', u'real', u'home', u'sound', u'automation', u'true', u'problem', u'google', u'let', u'tv', u'audio', u'chromecast', u'group', u'together'], [u'amazing'], [u'pretty', u'useful', u'complaint', u'difficult', u'finding', u'anime', u'music', u'otherwise', u'find', u'background', u'music'], [u'great'], [u'awesome', u'efficient'], [u'meeh'], [u'love'], [u'star', u'review', u'swipe', u'queue', u'shocking', u'android', u'user', u'still'], [u'can', u'not', u'discover', u'new', u'music'], [u'love'], [u'great', u'app', u'great', u'music', u'selection'], [u'make', u'offline', u'need', u'pay'], [u'have', u'get', u'turn', u'cereal', u'flake'], [u'great', u'design', u'sound', u'quality', u'great', u'kinda', u'want', u'able', u'select', u'song', u'tho'], [u'simply', u'best', u'good', u'rest'], [u'think', u'way', u'improve', u'first', u'make', u'read', u'lyric', u'second', u'make', u'offline', u'feature', u'available', u'everyone', u'everyone', u'money', u'buy', u'premium', u'everyone', u'go', u'suffer', u'ad', u'would', u'rather', u'play', u'music', u'ad', u'be', u'offline', u'make', u'day', u'trial', u'premium', u'love', u'get', u'wrong', u'ad', u'start', u'annoy', u'end', u'can', u'not', u'pay', u'premium', u'be', u'broke', u'would', u'love', u'would', u'read', u'least', u'fix', u'premium', u'issue', u'people', u'enough', u'money', u'pay', u'month', u'everyone', u'want', u'day', u'trial', u'acknowledge', u'review', u'hope', u'see', u'improvement', u'suggest', u'next', u'update', u'thank'], [u'love'], [u'try', u'music', u'spotify', u'right', u'consideration', u'best', u'pay', u'subscription', u'easy', u'navigate', u'song', u'love', u'recommendation', u'usually', u'well', u'find', u'lot', u'old', u'song', u'would', u'forget', u'really', u'new', u'artist'], [u'can', u'not', u'much', u'buy', u'spotify', u'premium'], [u'love'], [u'love', u'song'], [u'love', u'top', u'knotch', u'music'], [u'love', u'lack', u'slightly', u'old', u'song', u'think', u'would'], [u'perfect', u'music'], [u'late', u'update', u'can', u'not', u'constantly', u'crash', u'everytime', u'time', u'open', u'try', u'listen', u'song', u'fix', u'problem'], [u'great', u'enjoying'], [u'hard', u'determine', u'playlist'], [u'good'], [u'great'], [u'uninstall', u'can', u'not', u'sign', u'annoying'], [u'enjoy', u'listen', u'offline', u'favorite', u'song', u'spotify', u'especially', u'new', u'song', u'release', u'available'], [u'great', u'selection', u'old', u'new', u'genre'], [u'good', u'music', u'ever'], [u'love', u'spotify', u'day', u'great'], [u'quite', u'enjoy', u'able', u'find', u'playlist', u'sort', u'mood', u'would', u'wish', u'option', u'play', u'song', u'artist', u'favorite', u'alot', u'easy', u'go', u'do', u'not', u'know', u'feel', u'listen'], [u'love', u'much', u'make', u'relax'], [u'great', u'great', u'great', u'awesome', u'spotify'], [u'love'], [u'sometimes', u'search', u'song', u'go', u'hening'], [u'love', u'favorite', u'song', u'tap', u'away', u'anywhere', u'wish', u'shuffle', u'play', u'shuffle', u'differently', u'everytime', u'would', u'different', u'order'], [u'listen', u'ear', u'hole'], [u'love', u'get', u'favorite', u'song', u'genre', u'music'], [u'play', u'suggest', u'song', u'permission', u'do', u'not', u'let', u'skip', u'song', u'want'], [u'great', u'quality'], [u'keep', u'work'], [u'good', u'music', u'streaming'], [u'litty'], [u's'], [u'really', u'listen', u'evaluate'], [u'spotify', u'good', u'world'], [u'perfect', u'wish', u'could', u'afford', u'premium', u'month'], [u'pemutar', u'musik', u'yang', u'cukup', u'baik'], [u'spotify', u'music', u'good', u'pandora', u'cut'], [u'think', u'listen', u'enjoy', u'music'], [u'spend', u'day', u'vibe'], [u'do', u'not', u'connect', u'right', u'song', u'want', u'listen', u'otherwise', u'song', u'choice'], [u'could', u'not'], [u'start', u'use', u'comment'], [u'really', u'spotify', u'always', u'point', u'want', u'jam'], [u'great'], [u'awesome'], [], [u'stop', u'add', u'song', u'playlist'], [u'awesome', u'game', u'changer'], [u'spotify', u'know', u'like', u'base', u'playlist', u'let', u'new', u'music', u'similar', u'style'], [u'easy', u'love'], [u'great', u'skip', u'that', u's', u'reason'], [u'song', u'have', u'look'], [u'great'], [u'make', u'playlist', u'listen', u'music', u'instead', u'let', u'listen', u'music', u'spotify', u'reason', u'want', u'add', u'bunch', u'song', u'playlist', u'make', u'listen', u'can', u'not', u'skip', u'pay', u'make', u'playlist', u'listen', u'quit', u'add', u'music', u'playlist'], [u'get', u'bad', u'music', u'control', u'get', u'unresponsive', u'frequently', u'spotify', u'connect', u'break'], [u'great'], [u'love', u'free', u'version', u'premium', u'worth'], [u'love', u'get', u'premium', u'everything', u'past', u'week', u'decidedly', u'slow', u'take', u'minute', u'start', u'play', u'music', u'load', u'time', u'page', u'grow', u'exponentially', u'love', u'may', u'because', u'break', u'phone', u'fix', u'soon'], [u'incredible'], [u'guy', u'trash', u'people', u'mobile', u'number', u'guy', u'smoke', u'lmao'], [u'second', u'none', u'music', u'app'], [u'low', u'member', u'price'], [u'there', u's', u'nothing', u'better', u'spotify', u'playslist', u'love', u'discover', u'new', u'music', u'will', u'love', u'endless', u'option', u'have', u'premium', u'subscriber', u'tell', u'would', u'stop', u'pay', u'stop', u'listen', u'day'], [u'good', u'music', u'lover', u'music', u'enthusiast', u'depression', u'reliever', u'mood', u'booster'], [u'great', u'music'], [u'awesome'], [u'spotify', u'exist', u'primarily', u'good', u'service', u'cruel', u'death', u'grooveshark', u'spotify', u'fill', u'gap', u'awkward', u'shortcoming', u'variable', u'quality', u'development', u'mortal', u'disservice', u'soon', u'good', u'service', u'creep', u'public', u'awareness'], [u'maria'], [u'thank'], [u'love'], [u'great', u'playlist', u'far', u'need', u'dj', u'mix', u'playlist', u'radio', u'station', u'would', u'new', u'old', u'music', u'relatively', u'accurate', u'music', u'genre'], [u'can', u'not', u'download', u'would', u'review', u'actually', u'let', u'download'], [u'great', u'love'], [u'still', u'buggy', u'even', u'several', u'update', u'sometimes', u'be', u'sick', u'use', u'due', u'inconsistency', u'be', u'use', u'huawei', u'sure', u'phone'], [u'great', u'stuff'], [u'complaint', u'wish', u'also', u'video'], [u'love', u'everyday'], [u'medium'], [u'love'], [u'great', u'music', u'great'], [u'love', u'app'], [u'great'], [u'love'], [u'would', u'much', u'good', u'would', u'allowed', u'enjoy', u'distraction', u'add', u'least', u'reduce', u'timing', u'add', u'would', u'pleasure', u'user'], [u'use', u'spotify', u'year', u'recommend', u'cheap', u'work', u'fault'], [u'enjoy'], [u'great', u'ever'], [u'music'], [u'bad', u'can', u'not', u'play', u'song', u'may', u'well', u'go', u'still', u'cut', u'music', u'constantly'], [u'music', u'actually', u'enjoy'], [u'love', u'music'], [u'love'], [u'omg'], [u'premium', u'package', u'pay', u'card', u'successful', u'write', u'payment', u'fail', u'everything', u'fine', u'hope', u'fix', u'fast', u'thank'], [u'awesome'], [], [u'great'], [u'bad'], [u'rock'], [u'love', u'much', u'reduce', u'add'], [u'clever', u'logic', u'love'], [u'good', u'music'], [u'love', u'music'], [u'great'], [u'take', u'away', u'browse', u'bottom', u'menu'], [u'want', u'hear', u'certain', u'song', u'go', u'spotify', u'listen'], [u'give', u'promise', u'wish', u'need', u'premium'], [u'music'], [u'keep', u'shake', u'nasty', u'lil', u'utty', u'keep', u'old', u'senior', u'cock', u'always', u'hire', u'supris', u'middle', u'high', u'school', u'boy', u'love', u'pay', u'play', u'nasty', u'wh', u'self'], [u'broaden', u'musical', u'mind'], [u'love'], [u'type', u'play', u'iy'], [u'new', u'update', u'glitch', u'song', u'will', u'not', u'play', u'time', u'song', u'do', u'will', u'not', u'play', u'follow', u'song', u'automatically'], [u'want', u'free', u'trial'], [u'recent', u'crash', u'super', u'inconvenient', u'annoying', u'switch', u'streaming', u'service'], [u'stuff'], [u'use', u'spotify', u'year', u'good', u'music'], [u'cool'], [u'love', u'work', u'thing', u'be', u'sure', u'work', u'wifi', u'have', u'not', u'get', u'premium', u'download', u'worked', u'minute', u'stop', u'wifi'], [u'love'], [u'awesome'], [u'awesome', u'live', u'add', u'song'], [u'awesome'], [u'old', u'version', u'spotify', u'see', u'song', u'play', u'old', u'version', u'new', u'version'], [u'awesome', u'let', u'listen', u'music', u'free'], [u'love'], [u'enjoy', u'look', u'artist'], [u'favourite', u'song'], [u'spotify', u'wish', u'skip', u'song', u'want', u'android'], [u'great'], [u'love', u'music'], [], [u'chill', u'ad', u'promise', u'minute', u'get', u'ad', u'song', u'people', u'sue', u'btw'], [u'love', u'good', u'pandora'], [u'useful'], [u'music', u'selection'], [u'use', u'spotify', u'year', u'have', u'never', u'really', u'problem', u'fact', u'make', u'playlist', u'want', u'help', u'playlist'], [u'what', u's', u'point', u'make', u'playlist', u'keep', u'play', u'suggest', u'song'], [u'little', u'lack', u'song', u'bug', u'always', u'remove', u'download', u'day', u'problem', u'still', u'annoying'], [u'good', u'ever'], [u'pretty', u'awesome', u'last', u'update', u'hour', u'write', u'developer', u'take', u'away', u'time', u'hit', u'shuffle', u'reshuffle'], [u'soundful', u'sweet'], [u'good', u'deh'], [u'easy'], [u'amazing', u'get'], [u'great'], [u'chill'], [u'lication'], [u'love', u'play', u'music', u'wanna', u'hear', u'think', u'wanna', u'hear'], [u'spotify', u'play', u'favorite', u'christian', u'song', u'introduce', u'new', u'artist', u'spotify', u'rock'], [u'love', u'make', u'music', u'video', u'yay'], [u'have', u'love', u'hear', u'classical', u'love', u'song', u'thank'], [u'great', u'easy', u'sync', u'device'], [], [], [u'mantap'], [u'love'], [u'freaky', u'friday'], [u'amazing'], [u'awesome'], [u'need', u'offline', u'amenity', u'overall', u'great'], [u'muis'], [u'change', u'spotify', u'music', u'save', u'memory', u'essentially', u'thing', u'anyway'], [u'love', u'get', u'expensive']]\n"
     ]
    }
   ],
   "source": [
    "data_words_nostops = remove_stopwords(data_words)\n",
    "data_words_bigrams = make_bigrams(data_words_nostops)\n",
    "nlp = spacy.load('en', disable=['parser', 'ner'])\n",
    "data_lemmatized = lemmatization(data_words_bigrams, allowed_postags=['NOUN', 'ADJ', 'VERB', 'ADV'])\n",
    "print(data_lemmatized)"
   ]
  },
  {
   "cell_type": "code",
   "execution_count": 40,
   "metadata": {
    "extensions": {
     "jupyter_dashboards": {
      "version": 1,
      "views": {
       "grid_default": {
        "col": 0,
        "height": 12,
        "hidden": false,
        "row": 24,
        "width": 12
       },
       "report_default": {
        "hidden": false
       }
      }
     }
    },
    "nbpresent": {
     "id": "7f1599be-b3fa-4ed4-b9fc-5695bd8e94e7"
    }
   },
   "outputs": [
    {
     "name": "stdout",
     "output_type": "stream",
     "text": [
      "[[(0, 1)], [(1, 1)], [(2, 1), (3, 1), (4, 1), (5, 1)], [(6, 1), (7, 1)], [(8, 1), (9, 1), (10, 1), (11, 1), (12, 1), (13, 1), (14, 1), (15, 1)], [(6, 1)], [(7, 1), (16, 1), (17, 1), (18, 1), (19, 1), (20, 1)], [(7, 1), (21, 1)], [(22, 1)], [(23, 1)], [(24, 1), (25, 1), (26, 1)], [(27, 1), (28, 1)], [(5, 1), (6, 1), (29, 1), (30, 1), (31, 1), (32, 1), (33, 1), (34, 1), (35, 1), (36, 1), (37, 1), (38, 1), (39, 1), (40, 1), (41, 1), (42, 1)], [(43, 1)], [(44, 1), (45, 1), (46, 1), (47, 1)], [(14, 1), (36, 1), (48, 1), (49, 1), (50, 2), (51, 1), (52, 1)], [(6, 1), (46, 1), (53, 1), (54, 1), (55, 1), (56, 1), (57, 1)], [(6, 1), (58, 1), (59, 1), (60, 1), (61, 1), (62, 1), (63, 1)], [(5, 1), (45, 1), (46, 1), (64, 1), (65, 1), (66, 1), (67, 1)], [(31, 1)], [(22, 1)], [(68, 1), (69, 1), (70, 1), (71, 1), (72, 2)], [(73, 1), (74, 1)], [(75, 1)], [(76, 1)], [(77, 1), (78, 1), (79, 1), (80, 1), (81, 1)], [(82, 1)], [(5, 1), (6, 1), (83, 1), (84, 1)], [(22, 1), (85, 1), (86, 1), (87, 1), (88, 1), (89, 1)], [(44, 1), (90, 1)], [(91, 1)], [(6, 1), (76, 1), (92, 1), (93, 1), (94, 1), (95, 1), (96, 1), (97, 1)], [(38, 1), (85, 1), (98, 1), (99, 1), (100, 1), (101, 1), (102, 1)], [(5, 1), (13, 1), (42, 1), (44, 1), (45, 1), (48, 1), (56, 3), (67, 1), (82, 2), (87, 1), (103, 1), (104, 1), (105, 1), (106, 1), (107, 1), (108, 1), (109, 1), (110, 1), (111, 2), (112, 1), (113, 1), (114, 2), (115, 1), (116, 1), (117, 1), (118, 1), (119, 1), (120, 1), (121, 1), (122, 1), (123, 1), (124, 1), (125, 1), (126, 1), (127, 1), (128, 1), (129, 1), (130, 1), (131, 1)], [(3, 1), (6, 1), (88, 1), (107, 1), (132, 1)], [(133, 1), (134, 1)], [(35, 2), (120, 1), (135, 2), (136, 1), (137, 1)], [(22, 1)], [(6, 1), (15, 1), (73, 1), (108, 1)], [(57, 1), (138, 1)], [(11, 1), (31, 1), (139, 1), (140, 1)], [(6, 1), (35, 1), (141, 1)], [(105, 1), (140, 1), (142, 1), (143, 1), (144, 1), (145, 1), (146, 1), (147, 1), (148, 1), (149, 1)], [], [(35, 1), (140, 1)], [(16, 1), (35, 1), (150, 1), (151, 1), (152, 1), (153, 1), (154, 1)], [(113, 2), (155, 1), (156, 1), (157, 1), (158, 1), (159, 1)], [(6, 1), (100, 1), (159, 2), (160, 1), (161, 1), (162, 1), (163, 2), (164, 1), (165, 1), (166, 1), (167, 1), (168, 1), (169, 1)], [(35, 1), (57, 1), (78, 1), (81, 1), (84, 1), (90, 1), (103, 1), (140, 1), (143, 2), (147, 1), (151, 2), (159, 1), (163, 1), (170, 1), (171, 1), (172, 1), (173, 1), (174, 1)], [(175, 1), (176, 1)], [(12, 1), (31, 1), (69, 1), (70, 1), (128, 1), (137, 1), (146, 1), (159, 1), (176, 1), (177, 1), (178, 1), (179, 1), (180, 1), (181, 1), (182, 1), (183, 1)], [(184, 1)], [], [(35, 1), (140, 1)], [], [(35, 2), (79, 1), (140, 1), (185, 1), (186, 1)], [(35, 1)], [(57, 1), (108, 1), (137, 1), (153, 1), (187, 1), (188, 1), (189, 1)], [(43, 1), (140, 1)], [(87, 1), (135, 2), (159, 1), (190, 1)], [(90, 1), (191, 1)], [(22, 1), (44, 1), (192, 1), (193, 1), (194, 1), (195, 1)], [(84, 1), (137, 1), (196, 1)], [(35, 2), (136, 1), (159, 1), (197, 1), (198, 1), (199, 1), (200, 1), (201, 1), (202, 1)], [(31, 1), (151, 1)], [(43, 1)], [(72, 1), (81, 1), (141, 1), (165, 1), (188, 1), (203, 1), (204, 1), (205, 1)], [(6, 1), (84, 1), (159, 1), (206, 1)], [(134, 1)], [(35, 1)], [(82, 1), (207, 1)], [(53, 1), (137, 1), (196, 1), (208, 1), (209, 1), (210, 1)], [(139, 1), (211, 1)], [(135, 1), (136, 1), (140, 1), (153, 3), (188, 1), (212, 1), (213, 1), (214, 1), (215, 1), (216, 1)], [(13, 1), (17, 1), (35, 2), (82, 1), (124, 1), (139, 1), (140, 1), (152, 1), (153, 2), (159, 1), (217, 1), (218, 1), (219, 1), (220, 1), (221, 1), (222, 1), (223, 1)], [(35, 1), (36, 1), (40, 1), (57, 1), (90, 1), (128, 1), (148, 1), (151, 1), (153, 1), (159, 1), (172, 1), (176, 1), (183, 1), (196, 1), (224, 1), (225, 1), (226, 1), (227, 1), (228, 1), (229, 1), (230, 1), (231, 1), (232, 1), (233, 1)], [(134, 1)], [(6, 1)], [(35, 1)], [(91, 1)], [(6, 1)], [(17, 1), (20, 1), (81, 1), (159, 1), (176, 1), (204, 1), (234, 1), (235, 1), (236, 1), (237, 1), (238, 1), (239, 1), (240, 1)], [(91, 1), (241, 1)], [(90, 1), (159, 1), (242, 1), (243, 1), (244, 1)], [(20, 1), (165, 1), (245, 1)], [(35, 1), (140, 1)], [(90, 1), (141, 1), (159, 1), (246, 1), (247, 1)], [(248, 1)], [(90, 1), (159, 1)], [(35, 1)], [(112, 1), (137, 1), (148, 1), (152, 1), (196, 1), (201, 1), (222, 1), (249, 1), (250, 1), (251, 1), (252, 1), (253, 1), (254, 1)], [], [(10, 1), (13, 1), (59, 1), (151, 1), (159, 1), (160, 1), (176, 1), (255, 1), (256, 1), (257, 1), (258, 1), (259, 1)], [(260, 1)], [(93, 1), (140, 1), (159, 1), (222, 1), (261, 2), (262, 1)], [(35, 1)], [(15, 1), (235, 1), (263, 1)], [(6, 1), (13, 2), (35, 1), (43, 2), (78, 1), (81, 1), (108, 2), (136, 1), (137, 1), (152, 1), (153, 2), (159, 1), (170, 1), (264, 1), (265, 1), (266, 1), (267, 1), (268, 1), (269, 1), (270, 1), (271, 1), (272, 1), (273, 1), (274, 1), (275, 1), (276, 1), (277, 1)], [(35, 1), (213, 1), (278, 1), (279, 1)], [(136, 1), (280, 1), (281, 1), (282, 1)], [(15, 1), (38, 1), (72, 1), (153, 1), (172, 1), (212, 1), (229, 1), (231, 1), (283, 1), (284, 1), (285, 1)], [(90, 1)], [(31, 1), (35, 1), (40, 1), (153, 1), (209, 1), (286, 1), (287, 1), (288, 1), (289, 1), (290, 1)], [(194, 1)], [(291, 1)], [(14, 1), (53, 1), (84, 1), (136, 1), (153, 2), (163, 1), (188, 1), (210, 1), (229, 1), (292, 2), (293, 1), (294, 1)], [(84, 1)], [], [(87, 1), (153, 2), (210, 1), (295, 1)], [(296, 1)], [(28, 1), (35, 1), (136, 1)], [(6, 1), (87, 1), (119, 1), (159, 1), (196, 1), (201, 1), (231, 1), (297, 1), (298, 1), (299, 1), (300, 1), (301, 1), (302, 1), (303, 1), (304, 1), (305, 1), (306, 1)], [(307, 1)], [(308, 1)], [(6, 1), (72, 1), (153, 1), (188, 1), (210, 1), (231, 1), (302, 1), (309, 1)], [], [(36, 1), (38, 1), (163, 2), (183, 1), (310, 2), (311, 1), (312, 1), (313, 1), (314, 1)], [(137, 1), (153, 1), (229, 1), (300, 1), (315, 1)], [], [(35, 1)], [(69, 1), (81, 1), (148, 1), (153, 1), (188, 1), (292, 1), (302, 1), (316, 1), (317, 1), (318, 1)], [(213, 1), (319, 1), (320, 1)], [(6, 1), (321, 1)], [(90, 1), (159, 1)], [(38, 1), (224, 1), (225, 1), (302, 1), (322, 1), (323, 1), (324, 1), (325, 1), (326, 1), (327, 1), (328, 1), (329, 1), (330, 1)], [(90, 1), (159, 1), (331, 1)], [(35, 1), (140, 1), (159, 1), (188, 1), (278, 1), (287, 1)], [(22, 1)], [(7, 1), (20, 1), (65, 1), (81, 1), (84, 1), (85, 1), (124, 1), (142, 1), (152, 1), (159, 1), (165, 1), (204, 1), (218, 1), (229, 1), (238, 1), (245, 1), (279, 1), (332, 1), (333, 1), (334, 1), (335, 1), (336, 1)], [(165, 1), (285, 1), (337, 1), (338, 1), (339, 1), (340, 1), (341, 1)], [(134, 1)], [(342, 1)], [(35, 1)], [(35, 1), (72, 1), (159, 1)], [(165, 1), (343, 1), (344, 1), (345, 1), (346, 1)], [(35, 1), (140, 1), (229, 1), (279, 1)], [(76, 1), (137, 1), (234, 1), (235, 1), (263, 1), (292, 1), (347, 1), (348, 1)], [(112, 1), (128, 1), (149, 1)], [(90, 1)], [(20, 1), (42, 1), (81, 2), (113, 1), (140, 1), (151, 1), (159, 2), (163, 2), (170, 1), (176, 1), (204, 2), (316, 1), (349, 1), (350, 1), (351, 1), (352, 1), (353, 1), (354, 1), (355, 1), (356, 1), (357, 1), (358, 1), (359, 1)], [(6, 1)], [(6, 1)], [(11, 1), (35, 7), (39, 1), (43, 1), (81, 1), (140, 2), (153, 2), (187, 2), (204, 1), (360, 1), (361, 1), (362, 2), (363, 1), (364, 1), (365, 1), (366, 1), (367, 1), (368, 1), (369, 1)], [(35, 1)], [(14, 1), (38, 1), (113, 1), (187, 2), (292, 1), (300, 2), (301, 1), (302, 2), (339, 2), (370, 1), (371, 1), (372, 1), (373, 1), (374, 1), (375, 1)], [(14, 1), (108, 1), (153, 1), (177, 1), (187, 2), (231, 1), (376, 1), (377, 1)], [(124, 1), (165, 1)], [(35, 1)], [(43, 1), (159, 1), (378, 1)], [(35, 1)], [(6, 1)], [(35, 1), (207, 1)], [(379, 1)], [], [(189, 1)], [(261, 1)], [(209, 1), (231, 1), (292, 1), (311, 1), (380, 1), (381, 1)], [(90, 1), (159, 1), (382, 1)], [(229, 1)], [(6, 1), (159, 1), (163, 1), (165, 1), (234, 1), (280, 1), (302, 1), (355, 2), (383, 1), (384, 1), (385, 1), (386, 1), (387, 1), (388, 1), (389, 1), (390, 1), (391, 1)], [(90, 1), (159, 1), (172, 1)], [(90, 1), (141, 1), (159, 1), (160, 1), (167, 1), (348, 1), (354, 1), (392, 1)], [(11, 1), (122, 1), (124, 1), (163, 1), (213, 1), (385, 1), (393, 1), (394, 1), (395, 1), (396, 1)], [(90, 1), (112, 1), (174, 1), (196, 1), (320, 1), (397, 1), (398, 1)], [(57, 1), (209, 1), (383, 1), (399, 1)], [(72, 1), (81, 1), (108, 1), (136, 1), (153, 1), (159, 1), (163, 1), (188, 1), (189, 1), (204, 1), (229, 1), (358, 1), (391, 1), (400, 1)], [], [(35, 1), (154, 1)], [(35, 1), (43, 1), (401, 1), (402, 1)], [(36, 1), (139, 1), (140, 1), (159, 1), (176, 1), (218, 1), (289, 1), (302, 1), (403, 1), (404, 1)], [(72, 1), (81, 1), (159, 1), (204, 1), (405, 1)], [(10, 1), (42, 1), (44, 1), (113, 1), (140, 1), (163, 1), (279, 1), (406, 1), (407, 1), (408, 1), (409, 1), (410, 1), (411, 1), (412, 1), (413, 1), (414, 1), (415, 1), (416, 1), (417, 1), (418, 1), (419, 1)], [(35, 1), (47, 1), (151, 1), (153, 1)], [(6, 1)], [(15, 1), (20, 1), (73, 1), (81, 1), (90, 1), (153, 1), (170, 1), (204, 1), (303, 1)], [(35, 1)], [(420, 1)], [(44, 1), (159, 1)], [(14, 1), (35, 1), (152, 1), (228, 1), (353, 1)], [(57, 1), (91, 1), (421, 1)], [(422, 1)], [(31, 1), (423, 1), (424, 1)], [(15, 1), (73, 1), (123, 1), (425, 1), (426, 1), (427, 1)], [(35, 1), (428, 1)], [(35, 1), (43, 1), (287, 1)], [(159, 1), (429, 1)], [(16, 1), (22, 1), (430, 1)], [(22, 1)], [(35, 1), (36, 1), (43, 1), (140, 1), (159, 1), (170, 1), (302, 1), (353, 1), (355, 1), (377, 1), (431, 1), (432, 2), (433, 1)], [(90, 1), (159, 1)], [(140, 1), (159, 1), (245, 1), (300, 1), (434, 1)], [(14, 1), (36, 1), (131, 1), (136, 1), (173, 1), (302, 1), (404, 1), (435, 1), (436, 1), (437, 1), (438, 1)], [(6, 2), (35, 1), (84, 1), (87, 1), (141, 1), (159, 1), (316, 1)], [(91, 1), (439, 1), (440, 1)], [(35, 1)], [(6, 1), (7, 1), (78, 1), (81, 1), (93, 1), (159, 1), (201, 1), (213, 1), (234, 1), (441, 1)], [(20, 1), (134, 1), (283, 1), (442, 1)], [(36, 1), (78, 1), (81, 1), (135, 1), (153, 1), (245, 1), (302, 1), (443, 1), (444, 1)], [(229, 1), (445, 1), (446, 1), (447, 1), (448, 1)], [(449, 1)], [(7, 1), (22, 1), (113, 1)], [(6, 1), (19, 1), (450, 1), (451, 1), (452, 1)], [(31, 1), (42, 1), (53, 2), (137, 1), (143, 1), (310, 1), (453, 1), (454, 1)], [(7, 1), (13, 1), (14, 1), (18, 1), (38, 1), (103, 1), (128, 1), (136, 3), (137, 2), (153, 1), (159, 2), (163, 1), (188, 1), (216, 1), (229, 2), (231, 1), (255, 1), (262, 1), (292, 2), (294, 1), (341, 1), (370, 1), (373, 1), (452, 1), (455, 1), (456, 1), (457, 1), (458, 1), (459, 1), (460, 1), (461, 1), (462, 1), (463, 1), (464, 1), (465, 1)], [(90, 1), (159, 1), (466, 1)], [(44, 1), (261, 1)], [(6, 1)], [(90, 2), (153, 1), (160, 1), (187, 1), (262, 1), (304, 1), (467, 1), (468, 1)], [(469, 1)], [(140, 1)], [], [(35, 1), (47, 1), (90, 1), (136, 1), (137, 1), (153, 1), (159, 1), (229, 2), (279, 1), (470, 1), (471, 1)], [(6, 1), (13, 1), (14, 1), (38, 1), (159, 2), (187, 1), (229, 1), (283, 1), (304, 1), (472, 1)], [(6, 2), (88, 1), (159, 1), (196, 1), (201, 1), (206, 1), (305, 1), (473, 1), (474, 1), (475, 1), (476, 1)], [(6, 1), (137, 1), (196, 1), (477, 1)], [(35, 1)], [(478, 1)], [(6, 1), (36, 1), (172, 1)], [(43, 1)], [(72, 1), (159, 1), (187, 1)], [(22, 1), (159, 1)], [(36, 1), (53, 1), (72, 1), (104, 1), (159, 1), (172, 1), (302, 1), (336, 1), (479, 1), (480, 1)], [(11, 1), (35, 1)], [(6, 1), (146, 1), (231, 1), (273, 1), (481, 1)], [(482, 1)], [(6, 1), (159, 1)], [(35, 1), (140, 1)], [(6, 1)], [(196, 1), (483, 1)], [(44, 1), (90, 1), (159, 1), (484, 1)], [(485, 1), (486, 1), (487, 1)], [(90, 1), (112, 1), (159, 1), (172, 1)], [(13, 1), (84, 1), (141, 1), (143, 1)], [(6, 1)], [(82, 1)], [(124, 1), (139, 1), (488, 1), (489, 1)], [(14, 1), (72, 1), (81, 2), (104, 1), (153, 2), (189, 1), (204, 2), (205, 1), (229, 2), (236, 1), (259, 1), (292, 1), (358, 1), (403, 1), (490, 1), (491, 1), (492, 1), (493, 1), (494, 1)], [(124, 1), (153, 1)], [(22, 1), (159, 1), (424, 1), (495, 1)], [(6, 1), (35, 1), (57, 1), (140, 1)], [(6, 1), (153, 1)], [(7, 1), (13, 1), (78, 1), (81, 1), (108, 1), (159, 1), (164, 1), (167, 1), (214, 1), (264, 1), (363, 1), (373, 1), (446, 1), (460, 1), (463, 1), (470, 2), (496, 1), (497, 1), (498, 1), (499, 1), (500, 1)], [(35, 1)], [(59, 1), (463, 1)], [(81, 1), (204, 1), (279, 1), (501, 1), (502, 1)], [(6, 2), (31, 1), (159, 1), (304, 1), (503, 1)], [(35, 1)], [(35, 1), (74, 1)], [(43, 1)], [(6, 1)], [(504, 1)], [(27, 1), (172, 1)], [(35, 1), (134, 1), (159, 1), (304, 1)], [(22, 1)], [(6, 1)], [(505, 1), (506, 1)], [(159, 1), (188, 1), (507, 1)], [(243, 1), (302, 1), (323, 1)], [(35, 1), (179, 1), (508, 1)], [(47, 1), (140, 1), (308, 1)], [(22, 1)], [(84, 1), (218, 1), (509, 1), (510, 1), (511, 1)], [(159, 1), (304, 1), (512, 1)], [(22, 2), (513, 1)], [(153, 1), (188, 1), (229, 1), (292, 1), (302, 1), (514, 1), (515, 1)], [(90, 1)], [(35, 1), (213, 1), (516, 1)], [(69, 1), (90, 1), (517, 1)], [(6, 1), (277, 1), (518, 1), (519, 1), (520, 1)], [(33, 1), (141, 1), (521, 1)], [(7, 1), (78, 1), (81, 1), (201, 1)], [(6, 1), (38, 1), (522, 1)], [(44, 1), (159, 1)], [(11, 1), (35, 1)], [(14, 1), (54, 1), (57, 1), (63, 1), (159, 1), (229, 1), (523, 1)], [(10, 1), (11, 1), (72, 1), (78, 1), (81, 1), (113, 1), (159, 1), (263, 1), (373, 1), (524, 1), (525, 1), (526, 1), (527, 1), (528, 1), (529, 1)], [(36, 1), (207, 1), (231, 1)], [(6, 1), (159, 1)], [(16, 1), (43, 1), (47, 1), (81, 1), (108, 2), (140, 1), (146, 1), (153, 2), (159, 1), (189, 1), (226, 1), (292, 1), (302, 1), (309, 1), (530, 1), (531, 1)], [(50, 1), (95, 1), (176, 1), (532, 1), (533, 1), (534, 1), (535, 1)], [(81, 1), (536, 1), (537, 1)], [(24, 1), (35, 2), (36, 2), (53, 1), (136, 1), (141, 1), (146, 1), (151, 1), (153, 1), (159, 1), (179, 1), (207, 1), (212, 1), (302, 2), (538, 1), (539, 1)], [(261, 1)], [(90, 1), (140, 1), (159, 1), (225, 1)], [(7, 1), (84, 1), (540, 1), (541, 1), (542, 1)], [(43, 1), (57, 1)], [(35, 1), (159, 1)], [(7, 2), (35, 1), (543, 1)], [(43, 1), (113, 1)], [(35, 1), (40, 1), (544, 1), (545, 1)], [(35, 1)], [(35, 3)], [(140, 1), (176, 1), (292, 1), (546, 1)], [(73, 1), (136, 1), (137, 1), (213, 1), (226, 1), (231, 1), (492, 1), (547, 1)], [], [(6, 1)], [(43, 1), (179, 1), (196, 1), (252, 1)], [(11, 1), (35, 1), (81, 1), (204, 1), (548, 1)], [(35, 1), (42, 1), (53, 1), (57, 1), (78, 1), (81, 1), (93, 1), (112, 1), (140, 1), (151, 2), (159, 1), (172, 1), (306, 1), (452, 1), (496, 1), (523, 1), (530, 1), (549, 1), (550, 1), (551, 1)], [(78, 1), (81, 1), (113, 1), (151, 1), (153, 1), (188, 1), (317, 1), (324, 1), (354, 1), (552, 1)], [(6, 1)], [(16, 1), (300, 1), (302, 1), (553, 1)], [(90, 1), (159, 1), (172, 1), (554, 1)], [(452, 1)], [(194, 1)], [(555, 1)], [(556, 1)], [(136, 1), (137, 1)], [(557, 1), (558, 1)], [(17, 1), (137, 2), (153, 1), (163, 2), (187, 2), (244, 1), (273, 1), (279, 1), (292, 1), (400, 1), (463, 1), (477, 2), (559, 1), (560, 1), (561, 2)], [(35, 1), (72, 1), (73, 1), (128, 1), (151, 1), (153, 1), (229, 1)], [(90, 1), (427, 1)], [(562, 1), (563, 1), (564, 1)], [(22, 1), (146, 1), (159, 1), (183, 1), (222, 1), (229, 1), (292, 1), (565, 1), (566, 1), (567, 1), (568, 1)], [(449, 1)], [(35, 1), (90, 1), (128, 1), (140, 2), (146, 1), (159, 1), (187, 1), (216, 1), (222, 1)], [(295, 1), (300, 1)], [(31, 1)], [(569, 1)], [(91, 1), (261, 1)], [(6, 1), (16, 1), (159, 1), (170, 1), (444, 1), (539, 1), (570, 1)], [(261, 1)], [(35, 1), (90, 1), (140, 1), (154, 1), (159, 1), (305, 1)], [(230, 1), (571, 1)], [(35, 2), (159, 1), (209, 1), (572, 1)], [(137, 1), (140, 1), (163, 1), (172, 1), (230, 1), (234, 1), (262, 1), (336, 1), (573, 1)], [(6, 1), (31, 1), (78, 1), (150, 1), (201, 1), (424, 1), (574, 1)], [(78, 1), (159, 1), (201, 1), (275, 1), (575, 1), (576, 1)], [(6, 1), (17, 1), (72, 1), (75, 1), (93, 1), (123, 1), (128, 1), (159, 1), (183, 1), (228, 1), (273, 1), (302, 1), (353, 1), (577, 1), (578, 1), (579, 1), (580, 1), (581, 1), (582, 2), (583, 1), (584, 1)], [(33, 1), (333, 1), (585, 1), (586, 1), (587, 1), (588, 1)], [(35, 1), (73, 1), (159, 1)], [(6, 2), (159, 1), (589, 1)], [(6, 1)], [(35, 1)], [(6, 1), (159, 1)], [(6, 1), (153, 1), (188, 1), (205, 1)], [(6, 1)], [(81, 1), (136, 1), (146, 1), (153, 2), (189, 2), (200, 1), (204, 1), (229, 1), (292, 1), (302, 1), (320, 1), (590, 1), (591, 1)], [(35, 1)], [(165, 1), (592, 1)], [(329, 1)], [(7, 2), (24, 1), (35, 1), (37, 1), (112, 1), (128, 1), (148, 1), (153, 1), (159, 1), (163, 2), (167, 1), (174, 1), (188, 3), (222, 1), (234, 1), (283, 1), (302, 1), (320, 1), (372, 1), (386, 1), (593, 1), (594, 1), (595, 1), (596, 1)], [(6, 1), (73, 1), (93, 1), (159, 1), (302, 1), (576, 1), (597, 1), (598, 1)], [(43, 1)], [(140, 1), (159, 1), (184, 1), (424, 1), (442, 1), (514, 1)], [(6, 1), (550, 1), (599, 1)], [(154, 1)], [(31, 1), (35, 1), (151, 1), (159, 1)], [(159, 1), (160, 1), (201, 1), (467, 1), (600, 1)], [(35, 1), (81, 1), (159, 2), (176, 1), (292, 1), (305, 1), (324, 1), (424, 1), (601, 1)], [(35, 1), (140, 1)], [(6, 1), (146, 1), (179, 1)], [(124, 1), (602, 1)], [(153, 1), (229, 1), (603, 1), (604, 1)], [(605, 1)], [(22, 1)], [(90, 1)], [(11, 1), (35, 1), (128, 1), (140, 1), (141, 1), (165, 1)], [(35, 1), (140, 1), (157, 1), (173, 1)], [(31, 1), (606, 1)], [(35, 1)], [(6, 1)], [(90, 1), (112, 1), (128, 1), (159, 1), (172, 1), (196, 1), (231, 1), (252, 1), (292, 1), (398, 1)], [], [(6, 1), (13, 1), (141, 1), (160, 1), (210, 1), (472, 1), (607, 1), (608, 1)], [(22, 1)], [(35, 1), (140, 1)], [(6, 1), (81, 1), (153, 1), (204, 1), (228, 1)], [(35, 1), (140, 1)], [(90, 1), (159, 1)], [(43, 1)], [(35, 1)], [(153, 1), (159, 1), (176, 1), (228, 1), (230, 1), (287, 1), (514, 1)], [(124, 1), (609, 1), (610, 1)], [(22, 1)], [(153, 1), (170, 1), (300, 1), (611, 1)], [(35, 1)], [(35, 1), (140, 1)], [(153, 1), (188, 1), (354, 1), (543, 1)], [(6, 1), (7, 1), (612, 1)], [(35, 1), (36, 1), (103, 1), (159, 1), (229, 1), (302, 1), (444, 1)], [(13, 1), (72, 2), (119, 1), (152, 1), (284, 1), (375, 1), (422, 1), (459, 1), (472, 1), (613, 1), (614, 1)], [(35, 1)], [(90, 1), (159, 1), (172, 1)], [(35, 1), (146, 1), (229, 1), (302, 1), (615, 1)], [(27, 1), (90, 1)], [(35, 3), (304, 1)], [(44, 1), (146, 1), (159, 1), (581, 1), (616, 1), (617, 1)], [(11, 1), (35, 1), (124, 1)], [(14, 1), (22, 1), (27, 1), (47, 1), (57, 1), (136, 1), (153, 1), (229, 1), (618, 1)], [(16, 1), (136, 1), (304, 1), (361, 1)], [(6, 1), (31, 1), (308, 1)], [(619, 1)], [(22, 1), (90, 1), (137, 1)], [(11, 1), (13, 1), (26, 1), (36, 1), (43, 1), (81, 1), (91, 1), (103, 1), (123, 1), (128, 1), (136, 1), (150, 1), (159, 1), (161, 1), (188, 1), (232, 1), (275, 1), (292, 1), (302, 1), (315, 1), (331, 1), (370, 1), (380, 1), (524, 1), (620, 1), (621, 1), (622, 1), (623, 1), (624, 1), (625, 1), (626, 1), (627, 1), (628, 1), (629, 1)], [(35, 1)], [(91, 1), (153, 1)], [(6, 1), (187, 1), (630, 1), (631, 1)], [(6, 1), (159, 1)], [(35, 1), (218, 1)], [(159, 1), (632, 1)], [(159, 1)], [(6, 2), (141, 1), (152, 1), (159, 1)], [(35, 1), (47, 1), (140, 1), (159, 1), (382, 1)], [(6, 1), (14, 1), (183, 1), (224, 1), (232, 1), (300, 2), (302, 1), (633, 1), (634, 1)], [(159, 1)], [(55, 1), (159, 1), (188, 1), (358, 1), (391, 1), (635, 1), (636, 1), (637, 1), (638, 1), (639, 1), (640, 1), (641, 1), (642, 1), (643, 1), (644, 1)], [(645, 1)], [(81, 1), (204, 1), (501, 1)], [(304, 1), (646, 1)], [(6, 1), (210, 1), (647, 1)], [(11, 1), (35, 1)], [(47, 1), (87, 1), (128, 1), (142, 1), (149, 1), (237, 1), (303, 1), (648, 1)], [(159, 1), (649, 1)], [(6, 1)], [(153, 1), (159, 1), (199, 1), (229, 1), (302, 1), (320, 1), (581, 1), (650, 1)], [(22, 1)], [(148, 1), (160, 1), (170, 1), (222, 1), (637, 1), (642, 1)], [(6, 1), (91, 1), (136, 1), (403, 1), (424, 1), (648, 1), (651, 1)], [(6, 1), (22, 1), (38, 1), (73, 1), (93, 1), (137, 1), (140, 1), (652, 1), (653, 1)], [(501, 1)], [(242, 1)], [(159, 1), (576, 1)], [(6, 1), (113, 1), (153, 1), (205, 1), (654, 1)], [(35, 1), (159, 1)], [(124, 1)], [(6, 1), (159, 1), (242, 1)], [(35, 1), (43, 1), (135, 2), (136, 1), (159, 2), (228, 1), (655, 1), (656, 1), (657, 1), (658, 1)], [], [(22, 1), (659, 1)], [(43, 1)], [(72, 1), (146, 1), (229, 1), (435, 1), (444, 1), (583, 1), (660, 1)], [(22, 1)], [(661, 1)], [(35, 1)], [(57, 1)], [(159, 1), (424, 1), (662, 1)], [(78, 1), (81, 1), (654, 1), (663, 1)], [(6, 1)], [(16, 1), (53, 1), (57, 1), (72, 2), (84, 1), (124, 1), (140, 1), (153, 1), (205, 1), (210, 1), (245, 1), (565, 1), (568, 1), (664, 1), (665, 1)], [(35, 1), (159, 1)], [(35, 1), (140, 1), (152, 1), (428, 1), (463, 1), (666, 1)], [(43, 1)], [(35, 1)], [(64, 1), (206, 1), (329, 1), (400, 1), (576, 1)], [(22, 1), (261, 1), (290, 1), (667, 1)], [(73, 1), (137, 1), (210, 1)], [(53, 1), (163, 1), (668, 1), (669, 1), (670, 1)], [(15, 1), (135, 1), (173, 1), (183, 1), (671, 1), (672, 1), (673, 1)], [(35, 1)], [(6, 1), (16, 1), (35, 1)], [(22, 1)], [(6, 1), (35, 1)], [(6, 1), (137, 1), (141, 1), (674, 1)], [(35, 1), (148, 1), (167, 1), (230, 1), (292, 1)], [(134, 1), (167, 1), (230, 1), (675, 1)], [(90, 1), (159, 1), (676, 1)], [(152, 1), (415, 1), (677, 1)], [(14, 1), (72, 1), (87, 1), (152, 1), (153, 3), (182, 1), (188, 1), (302, 1), (317, 1), (346, 1), (389, 1), (650, 1), (678, 1), (679, 1), (680, 1)], [(72, 1), (159, 1), (188, 1), (615, 1), (681, 1), (682, 1)], [(72, 1)], [(6, 1), (35, 1)], [(90, 1), (159, 1), (575, 1)], [(36, 1), (113, 1), (140, 2), (151, 1), (159, 1), (176, 1), (331, 1), (683, 1), (684, 1), (685, 1), (686, 1)], [(27, 1), (90, 1), (159, 1), (172, 1)], [(6, 1), (35, 2), (84, 1), (146, 1), (159, 2), (176, 1), (187, 1), (237, 1), (687, 1)], [(134, 1), (159, 1)], [(31, 1), (227, 1), (420, 1), (688, 1)], [(129, 1)], [(9, 1)], [(7, 1), (17, 1), (20, 1), (22, 1), (81, 1), (153, 3), (160, 1), (188, 1), (189, 1), (204, 1), (234, 1), (292, 1), (388, 1), (444, 1), (470, 1), (499, 1), (545, 1), (612, 1), (689, 1), (690, 1), (691, 1), (692, 2), (693, 1), (694, 1), (695, 1), (696, 1)], [(11, 1), (95, 1), (151, 1), (292, 1), (648, 1)], [(35, 1)], [(323, 1)], [(6, 1), (7, 1), (35, 1), (73, 1), (113, 1), (140, 1), (141, 1), (159, 1), (163, 1), (173, 1), (188, 1), (229, 1), (279, 1), (402, 1)], [(81, 1), (108, 1), (141, 1), (152, 1), (153, 1), (187, 1), (204, 1), (358, 1)], [(72, 1), (108, 1), (153, 2), (183, 1), (188, 1), (229, 2), (283, 1), (433, 1), (654, 1), (697, 2), (698, 1)], [(35, 1)], [(90, 1), (148, 1), (699, 1), (700, 1)], [(43, 1), (153, 1), (301, 1), (446, 1), (644, 1), (701, 1)], [(75, 1)], [(90, 1), (167, 1), (207, 1), (300, 1), (702, 2), (703, 1), (704, 1)], [(22, 1), (35, 1), (43, 1), (136, 1), (137, 1), (146, 1), (159, 1), (160, 1), (179, 1), (196, 1), (304, 1), (495, 1)], [(35, 1)], [(35, 1)], [(20, 1), (124, 1), (159, 2), (229, 1), (234, 1), (245, 2), (292, 1), (705, 1), (706, 1), (707, 1), (708, 1), (709, 1)], [(6, 1), (35, 2), (36, 1), (84, 1), (108, 1), (123, 1), (710, 1), (711, 1)], [(31, 1), (712, 1)], [(140, 1)], [(35, 1), (424, 1)], [(81, 1), (128, 1), (136, 1), (139, 1), (183, 1), (279, 1)], [(6, 1), (153, 1), (302, 1), (304, 1)], [(159, 1)], [(6, 1), (119, 1), (140, 1), (159, 1), (229, 1), (279, 1), (415, 1), (713, 1)], [(7, 1)], [(19, 1), (140, 1), (159, 1), (188, 1), (302, 1), (329, 1), (333, 1), (709, 1), (714, 1), (715, 1), (716, 1)], [(82, 1)], [(2, 1), (717, 1)], [(22, 1)], [(290, 1)], [], [(6, 1), (48, 1), (55, 1), (87, 1), (140, 1), (237, 1), (302, 1), (625, 1), (651, 1), (718, 1), (719, 1)], [(159, 1), (291, 1)], [(72, 1), (87, 1), (123, 1), (135, 2), (140, 1), (153, 2), (168, 1), (245, 1), (302, 1)], [(31, 1), (128, 1), (218, 1), (423, 1), (720, 1)], [(721, 1), (722, 1), (723, 1)], [(159, 1)], [(724, 1)], [(159, 1), (229, 1), (725, 1), (726, 1), (727, 1), (728, 1)], [(6, 1), (16, 1), (57, 1), (81, 1), (176, 1), (188, 1), (204, 1), (289, 1), (301, 1), (573, 1)], [(729, 1)], [(159, 1), (730, 1), (731, 1)], [(75, 1)], [(119, 1), (153, 1), (208, 1), (289, 1), (732, 1)], [(31, 1), (42, 1), (78, 1), (105, 1), (135, 2), (153, 2), (302, 1), (309, 1), (537, 1)], [(35, 1), (40, 1), (137, 1), (143, 1), (279, 1), (292, 1), (491, 1), (733, 1), (734, 1)], [], [(35, 1), (72, 1), (73, 1), (136, 2), (137, 1), (153, 1), (279, 1), (354, 1)], [], [(7, 1), (20, 1), (78, 1), (81, 1), (201, 1), (264, 1), (284, 1), (307, 1), (522, 1), (735, 1)], [(78, 1)], [(35, 1), (57, 1), (90, 1), (159, 1), (172, 1), (736, 1), (737, 1), (738, 1), (739, 1), (740, 1), (741, 1)], [(576, 1)], [(35, 1), (742, 1), (743, 1), (744, 1), (745, 1), (746, 1)], [(14, 1), (135, 1), (159, 1), (747, 1), (748, 1)], [(10, 1), (19, 1), (72, 1), (159, 1), (166, 1), (167, 1), (199, 1), (216, 1), (255, 1), (749, 1), (750, 1)], [(81, 1), (140, 1), (149, 1), (183, 1)], [(28, 1)], [], [(35, 1)], [(73, 1), (159, 1), (210, 1), (229, 1)], [(35, 1)], [(141, 1), (300, 1), (607, 1)], [(316, 1)], [(43, 1)], [(84, 1), (112, 2), (151, 1), (159, 1), (160, 1), (173, 1), (176, 1), (218, 1), (229, 1), (263, 1), (583, 1), (751, 1), (752, 1), (753, 1)], [(754, 1)], [(14, 1), (20, 1), (101, 1), (136, 1), (255, 1), (428, 1), (666, 1), (705, 1)], [(159, 1), (228, 1), (594, 1), (755, 1)], [(6, 2), (35, 1), (69, 1), (70, 1), (128, 1), (137, 1), (140, 1), (141, 2), (149, 1), (159, 1), (267, 1), (477, 1), (488, 1), (731, 1), (756, 1)], [(35, 1), (140, 1), (262, 1), (446, 1)], [(73, 1), (757, 1), (758, 1)], [(87, 1), (329, 1), (759, 1), (760, 1), (761, 1)], [(537, 1), (762, 1), (763, 1), (764, 2), (765, 1)], [(35, 1), (766, 1)], [], [(72, 1), (90, 1), (159, 1), (172, 1), (229, 1)], [(35, 1)], [(35, 1)], [(139, 1), (140, 1)], [(65, 1), (140, 1), (218, 1), (554, 1)], [(35, 1), (90, 1), (140, 1), (159, 1)], [(90, 1), (767, 1)], [(22, 1)], [(35, 1)], [(7, 1), (43, 1), (136, 1), (768, 1), (769, 1)], [(10, 1), (14, 1), (159, 1), (176, 1), (646, 1), (770, 1)], [(57, 1), (84, 1), (134, 1), (229, 1), (302, 1), (354, 1), (715, 1), (771, 1)], [(7, 1), (16, 1), (72, 1), (153, 1)], [(6, 1), (136, 1), (153, 1), (403, 1)], [(43, 1), (72, 1), (153, 1), (229, 1)], [(6, 1), (65, 1), (159, 1)], [(84, 1), (165, 1), (668, 1), (670, 1)], [(14, 1), (128, 1), (148, 1), (222, 2), (268, 1), (357, 1), (428, 1), (472, 1), (712, 1), (772, 1), (773, 1), (774, 1), (775, 1)], [(6, 1), (35, 1), (137, 1), (140, 1), (153, 1), (304, 1), (398, 1), (776, 1), (777, 1), (778, 1), (779, 1), (780, 1)], [(35, 1), (159, 1)], [(6, 1), (78, 1), (81, 1), (137, 1), (210, 1), (231, 1)], [(781, 1)], [], [(134, 1)], [(7, 1), (782, 1)], [(35, 1), (783, 1)], [(53, 1), (75, 1), (183, 1), (415, 1), (784, 1), (785, 1)], [], [(6, 1), (159, 1), (786, 1)], [(6, 1), (38, 1), (57, 1), (112, 1), (140, 1), (159, 1), (230, 1), (400, 1), (787, 1)], [(492, 1)], [(35, 1), (153, 1)], [(7, 1), (788, 1)], [(576, 1)], [(57, 1), (141, 1), (159, 1), (188, 1), (625, 1)], [(35, 1), (292, 1)], [(135, 1), (152, 1)], [(6, 1), (57, 1), (159, 1), (539, 1), (789, 1)], [(5, 1), (20, 1), (35, 1), (81, 1), (87, 1), (124, 1), (128, 1), (135, 1), (140, 1), (145, 1), (153, 2), (159, 1), (163, 1), (176, 1), (204, 1), (222, 1), (229, 1), (245, 1), (268, 1), (292, 1), (301, 1), (302, 1), (363, 1), (451, 1), (526, 1), (568, 1), (690, 1), (790, 1), (791, 1), (792, 1), (793, 1), (794, 1), (795, 1), (796, 1), (797, 1), (798, 1), (799, 1), (800, 1)], [(6, 1), (42, 1), (69, 1), (112, 1), (135, 2), (136, 2), (152, 1), (159, 2), (212, 1), (216, 1), (229, 1), (292, 1), (300, 1), (309, 1), (318, 1)], [(218, 1), (709, 1)], [(53, 1), (81, 1), (87, 3), (101, 1), (112, 1), (124, 1), (137, 1), (153, 1), (177, 2), (231, 1), (245, 2), (292, 1), (353, 1), (715, 1), (716, 1), (801, 1), (802, 1), (803, 1)], [(14, 1), (141, 2), (159, 1), (226, 1), (229, 1), (359, 1), (677, 1), (720, 1), (804, 1), (805, 1), (806, 2)], [], [(6, 1), (11, 1), (19, 1), (48, 1), (81, 1), (91, 1), (153, 3), (188, 3), (189, 1), (234, 1), (250, 1), (463, 1), (464, 1), (537, 3), (560, 1), (573, 1), (636, 1), (666, 1), (709, 1), (807, 1)], [], [(159, 1)], [(6, 1)], [(22, 1)], [(403, 1), (761, 1), (808, 1), (809, 1), (810, 1), (811, 1)], [(42, 1), (90, 1), (170, 1), (231, 1), (812, 1)], [(90, 1), (813, 1)], [(137, 1), (300, 1), (814, 1)], [(12, 1), (20, 1), (81, 1), (204, 1), (245, 1), (289, 1), (311, 1), (347, 1), (428, 1), (626, 1), (792, 1), (815, 1), (816, 1), (817, 1), (818, 1), (819, 1), (820, 1), (821, 1)], [(822, 1)], [(35, 1)], [(35, 1), (241, 1)], [(36, 1), (188, 1), (205, 1), (433, 1), (492, 1)], [(684, 1)], [(6, 1), (47, 1), (101, 1), (159, 1), (170, 1), (183, 1), (207, 1), (229, 2), (300, 1), (648, 1)], [(57, 1), (91, 1), (134, 1)], [(141, 1), (152, 1)], [(7, 1), (44, 1), (108, 1), (128, 1), (153, 1), (302, 1), (307, 1), (358, 1), (823, 1)], [], [(36, 1), (72, 1), (140, 1), (214, 1), (731, 1), (824, 1)], [(825, 1)], [], [(6, 1), (36, 1), (263, 1), (433, 1), (743, 1), (826, 1), (827, 1)], [(1, 1), (7, 1), (38, 1), (90, 1), (135, 1), (143, 1), (210, 1), (300, 1), (326, 1), (380, 1), (477, 1), (763, 1), (767, 1), (771, 1), (828, 1), (829, 2), (830, 1), (831, 1), (832, 1), (833, 1), (834, 1)], [(84, 1)], [(44, 1), (124, 1), (140, 1)], [(81, 1), (204, 1), (320, 1), (501, 1)], [(300, 1), (436, 1), (515, 1), (835, 1)], [(35, 1), (836, 1)], [(22, 1)], [(218, 1), (424, 1), (837, 1)], [(6, 1)], [(53, 1), (838, 1)], [(134, 1)], [(98, 1), (246, 1), (839, 1)], [(24, 1), (53, 1), (323, 1), (776, 1)], [(6, 1), (146, 1), (151, 1), (165, 1), (353, 1), (398, 1)], [(134, 1)], [(14, 1), (483, 1)], [(43, 1)], [(379, 1)], [(43, 1)], [(31, 1), (35, 2), (136, 1), (176, 1), (404, 1), (423, 1), (510, 1), (707, 1), (840, 1), (841, 1), (842, 1), (843, 1)], [(6, 1)], [(35, 1)], [(84, 1), (196, 1)], [(134, 1)], [(723, 1), (844, 1), (845, 1), (846, 1), (847, 1), (848, 1), (849, 1), (850, 1), (851, 1), (852, 1), (853, 1), (854, 1), (855, 1), (856, 1), (857, 1)], [(90, 1), (858, 1)], [(36, 1), (95, 1), (111, 2), (140, 1), (153, 2), (159, 2), (302, 1), (428, 1), (859, 1), (860, 1), (861, 1)], [(35, 1), (159, 1), (579, 1), (862, 1)], [(15, 1), (22, 1), (99, 1), (187, 1), (292, 1), (304, 1), (515, 1), (547, 1), (658, 1), (863, 1)], [(864, 1)], [(73, 1), (81, 1), (141, 1), (204, 1), (207, 1), (386, 1), (763, 1), (865, 1), (866, 1), (867, 1)], [(583, 1), (600, 1), (868, 1), (869, 1)], [(43, 1)], [(7, 1), (20, 1), (42, 1), (172, 1), (870, 1)], [(31, 1)], [(35, 1)], [(43, 1), (91, 1)], [(35, 1), (159, 1), (176, 1), (237, 1), (871, 1)], [(35, 1), (36, 1), (72, 1), (78, 1), (81, 1), (104, 1), (159, 1), (174, 1), (302, 1), (751, 1)], [(6, 1), (57, 1), (143, 1), (200, 1), (767, 1)], [(6, 1), (153, 1), (176, 1), (237, 1)], [], [(13, 1), (467, 1), (654, 1)], [(9, 1)], [(153, 2), (167, 1), (188, 2), (264, 1), (402, 1), (533, 1), (594, 1), (709, 2), (792, 1), (872, 1), (873, 1)], [(90, 1), (140, 1), (159, 1)], [(6, 1), (17, 1), (20, 2), (69, 1), (70, 1), (84, 1), (159, 1), (208, 1), (212, 1), (231, 1), (289, 1), (292, 1), (304, 1), (306, 1), (403, 1), (440, 1), (447, 1), (461, 1), (792, 1), (874, 1), (875, 1), (876, 1), (877, 1), (878, 1), (879, 1), (880, 1)], [(255, 1)], [(6, 1), (43, 1), (73, 1), (137, 1), (422, 1), (881, 1), (882, 1)], [(35, 1), (42, 1), (140, 1), (210, 1), (267, 1), (613, 1), (648, 1), (883, 1), (884, 1), (885, 1), (886, 1)], [(22, 1)], [(887, 1)], [(35, 1)], [(139, 1), (488, 1), (711, 1)], [(141, 1), (159, 1), (163, 1), (463, 1), (888, 1)], [(36, 1), (73, 1), (137, 1), (889, 1), (890, 1)], [(201, 1), (891, 1)], [(22, 1), (222, 1), (892, 1)], [(207, 1), (302, 1)], [(10, 1), (135, 1), (231, 1), (893, 1), (894, 1)], [(11, 1), (151, 2), (153, 2), (324, 1), (336, 1), (403, 1), (427, 1), (480, 1), (895, 1)], [(6, 1), (146, 1), (566, 1)], [(896, 1)], [(84, 1), (153, 1), (188, 1), (201, 1), (897, 1)], [(898, 1), (899, 1), (900, 1), (901, 1), (902, 1), (903, 1)], [(6, 3), (35, 1), (422, 1)], [(153, 1), (163, 1), (167, 1), (188, 1), (229, 1), (403, 1), (904, 1), (905, 1), (906, 1)], [(81, 1), (108, 1), (128, 2), (159, 1), (163, 1), (167, 1), (168, 1), (177, 2), (187, 5), (204, 1), (213, 1), (229, 1), (231, 1), (299, 1), (300, 1), (301, 1), (302, 2), (328, 1), (522, 1), (763, 1), (907, 2), (908, 1)], [(72, 1), (73, 1), (159, 1)], [(22, 1)], [(153, 2), (187, 1), (232, 1), (304, 1), (308, 1), (329, 1), (908, 1), (909, 1), (910, 1), (911, 1), (912, 1), (913, 1), (914, 1)], [(10, 1), (14, 1), (78, 1), (81, 1), (141, 2), (167, 1), (594, 1), (629, 1), (905, 1)], [(95, 1), (159, 1), (218, 1), (514, 1), (915, 1), (916, 1)], [(81, 1), (124, 1), (204, 1), (452, 1), (917, 1), (918, 1)], [(35, 1)], [(919, 1)], [(31, 1), (108, 1), (263, 1), (920, 1)], [(35, 1), (69, 1), (84, 1), (153, 1), (210, 1), (229, 1), (318, 1), (921, 1), (922, 1), (923, 1)], [(10, 1), (69, 1), (81, 1), (137, 1), (149, 2), (153, 1), (159, 1), (160, 1), (167, 1), (170, 1), (188, 1), (222, 1), (251, 1), (318, 1), (537, 1), (568, 2), (638, 1), (924, 1), (925, 1), (926, 1), (927, 1)], [], [(6, 1), (108, 1), (136, 1), (137, 1), (143, 1), (153, 1)], [(90, 1), (113, 1), (128, 1), (136, 1), (149, 1), (196, 1), (201, 1), (252, 1), (928, 1)], [(35, 1), (159, 1), (182, 1), (208, 1)], [(36, 1), (188, 1), (302, 1), (311, 1), (388, 2)], [(6, 1), (242, 1), (290, 1), (335, 1), (929, 1)], [(90, 1), (159, 1)], [(91, 1), (220, 1), (478, 1)], [(90, 2), (154, 1), (159, 1), (304, 1), (382, 2), (930, 1)], [(84, 1)], [(137, 1), (196, 1)], [(90, 1), (159, 1)], [(136, 1), (159, 1), (301, 1), (333, 1)], [(435, 1)], [(44, 1), (76, 1), (910, 1), (931, 1), (932, 1)], [(6, 1)], [(159, 1), (188, 1)], [(90, 1), (159, 1)], [(933, 1)], [(15, 1), (73, 1)], [(6, 1)], [(31, 1), (35, 1), (151, 1), (153, 1), (934, 1)], [(935, 1)], [(634, 1), (936, 1)], [(140, 1), (159, 1), (937, 1)], [(207, 1), (300, 1), (938, 1)], [(6, 1)], [(6, 1), (78, 1), (81, 1), (153, 1), (159, 1), (173, 1), (188, 1), (315, 1), (444, 1)], [], [(35, 1)], [(35, 1), (59, 1), (912, 1)], [(148, 1), (189, 1)], [(36, 1), (82, 1), (939, 1)], [(940, 1)], [(6, 1), (581, 1)], [(75, 1), (82, 1), (136, 1), (140, 1), (150, 1), (514, 1), (941, 1)], [(942, 1)], [(52, 1), (93, 1), (159, 1), (267, 1)], [(382, 1)], [(27, 1), (82, 1), (95, 1), (124, 1), (149, 1), (151, 1), (159, 1), (172, 1), (187, 1), (460, 1)], [(78, 1), (81, 1), (91, 1), (153, 1), (159, 1), (283, 1), (339, 1), (463, 1), (943, 1), (944, 1)], [(35, 1)], [(6, 1), (137, 1)], [(35, 1)], [(124, 1), (245, 1), (792, 1)], [(7, 1), (16, 1), (128, 1), (187, 1), (907, 1)], [(945, 1)], [(6, 1), (210, 1), (273, 1), (306, 1), (673, 1), (881, 1), (946, 1)], [(22, 1), (581, 1), (947, 1)], [(6, 1), (24, 1), (35, 1), (38, 1), (103, 1), (131, 1), (137, 1), (140, 1), (153, 3), (159, 1), (160, 2), (188, 3), (189, 2), (212, 2), (229, 2), (242, 1), (292, 2), (302, 2), (317, 1), (358, 1), (481, 1), (627, 1), (714, 2), (874, 1), (895, 1), (948, 1), (949, 2), (950, 1)], [(6, 1), (141, 1), (226, 1), (292, 1), (951, 1), (952, 1)], [(159, 1), (172, 1), (235, 1), (300, 1)], [(124, 1)], [(99, 1), (124, 1), (140, 1), (152, 1), (170, 1), (953, 1)], [(84, 1), (954, 1)], [], [(95, 1), (142, 1), (149, 1), (163, 1), (210, 1), (427, 1)], [(35, 1), (47, 1), (140, 1), (153, 1)], [(6, 2), (229, 1), (353, 1), (893, 1), (955, 1)], [(7, 1), (52, 1), (111, 1), (160, 1), (165, 1), (201, 1), (216, 1), (329, 1), (584, 1), (636, 2), (638, 2), (654, 1), (771, 2), (829, 1), (861, 1), (927, 1), (956, 1), (957, 1), (958, 2), (959, 2)], [(43, 1)], [(28, 1), (91, 1), (151, 1), (159, 2), (293, 1), (308, 1), (324, 1), (960, 1), (961, 1), (962, 1)], [(6, 1)], [(22, 1), (963, 1)], [(964, 1)], [(35, 1)], [(123, 1), (209, 1), (336, 1), (390, 1), (466, 1), (799, 1), (953, 1), (965, 1)], [(81, 1), (159, 1), (176, 1), (204, 1), (237, 1)], [(35, 1)], [(6, 2), (44, 1), (159, 1), (304, 1)], [(36, 1), (231, 1), (300, 1), (301, 1)], [(112, 1), (136, 1), (168, 1), (966, 1), (967, 1)], [(6, 2), (72, 1), (103, 1), (153, 1), (206, 1), (329, 1), (673, 1), (727, 1), (815, 1), (968, 1)], [(27, 1), (90, 1), (200, 1), (430, 1)], [(20, 1), (32, 4), (35, 2), (36, 3), (42, 1), (57, 1), (72, 1), (81, 1), (87, 1), (124, 1), (136, 1), (137, 4), (141, 3), (159, 1), (163, 1), (182, 1), (183, 3), (188, 1), (204, 1), (213, 1), (216, 1), (226, 1), (231, 2), (245, 1), (252, 2), (273, 1), (279, 2), (292, 2), (295, 1), (301, 2), (333, 1), (436, 1), (451, 1), (477, 1), (479, 1), (539, 1), (547, 2), (553, 1), (612, 1), (644, 1), (692, 1), (709, 1), (714, 1), (951, 1), (953, 1), (969, 1), (970, 1), (971, 1), (972, 1), (973, 2), (974, 1)], [(35, 1)], [(27, 1), (31, 1), (35, 1), (84, 1), (140, 1), (151, 1), (153, 2), (159, 1), (170, 1), (173, 1), (176, 1), (183, 1), (201, 1), (215, 1), (231, 1), (263, 1), (306, 1), (320, 1), (423, 1), (531, 1), (975, 1), (976, 1), (977, 1)], [(11, 1), (81, 1), (137, 1), (140, 1), (204, 1), (477, 1)], [(35, 1)], [(35, 1), (153, 1)], [(35, 1), (159, 1), (869, 1), (978, 1)], [(35, 1), (57, 1), (153, 1), (183, 1), (239, 1), (263, 1), (696, 1)], [(159, 1), (576, 1)], [(14, 1), (17, 1), (20, 1), (81, 1), (153, 1), (165, 1), (204, 1), (229, 1), (245, 1), (280, 1), (320, 1), (497, 1), (705, 1), (979, 1)], [(6, 1), (980, 1)], [(302, 1), (981, 1), (982, 1)], [(90, 1)], [(6, 1)], [(81, 1), (204, 1), (212, 1), (375, 1), (983, 1)], [(47, 1), (140, 1), (153, 2), (176, 1), (181, 1), (218, 1), (229, 1), (268, 1), (301, 1), (479, 1)], [(6, 1), (176, 1), (263, 1), (304, 1), (941, 1)], [(90, 1), (159, 1), (172, 1)], [(6, 1), (35, 1), (140, 1), (279, 1)], [(31, 1), (47, 1), (50, 1), (78, 1), (81, 1), (103, 1), (119, 1), (151, 1), (153, 1), (163, 1), (170, 1), (183, 1), (188, 1), (210, 1), (218, 1), (229, 1), (302, 1), (354, 1), (563, 1), (602, 1), (616, 1), (789, 1)], [(11, 1), (35, 1), (36, 1), (947, 1)], [(6, 3), (22, 1), (140, 1)], [(35, 1)], [(153, 1), (163, 1), (289, 1), (463, 1), (984, 1)], [(35, 1), (47, 1), (153, 1), (161, 1), (183, 1), (188, 1), (210, 1), (280, 1), (358, 2), (371, 1), (391, 1), (514, 1), (523, 1), (985, 1)], [(229, 1), (986, 1), (987, 1)], [(35, 1), (47, 1), (136, 1), (153, 1), (159, 1), (941, 1)], [(72, 1), (78, 1), (81, 1), (153, 2), (182, 1), (188, 1), (189, 1), (654, 1), (988, 1)], [(6, 1), (206, 1)], [(7, 1), (113, 1)], [(90, 1), (159, 1), (305, 1)], [(989, 1)], [(69, 1)], [(84, 1), (229, 1), (990, 1)], [(90, 1), (140, 1), (331, 1)], [(53, 1), (137, 1), (210, 1), (273, 1), (576, 1), (991, 1)], [(992, 1), (993, 1), (994, 1), (995, 1), (996, 1)], [(90, 1), (140, 1), (159, 1), (250, 1), (427, 1)], [(57, 1), (159, 1), (218, 1), (229, 1)], [(279, 1), (928, 1), (997, 1)], [(48, 1), (72, 1), (78, 1), (81, 1), (150, 1), (153, 2), (215, 1), (229, 1), (293, 1)], [(53, 1), (81, 1)], [(128, 1), (216, 1), (319, 1)], [(16, 1), (54, 1), (72, 1), (84, 1), (140, 1), (281, 1)], [(6, 1)], [(22, 1)], [], [(135, 1), (153, 1), (167, 1), (302, 1)], [(22, 1), (755, 1), (998, 1)], [(140, 1), (159, 1), (176, 1), (302, 1), (354, 1), (492, 1), (615, 1), (617, 1), (654, 1), (999, 1)], [(31, 1), (35, 1)], [(6, 1), (69, 1), (70, 1), (189, 1), (232, 1)], [(95, 1), (112, 1), (153, 1)], [(6, 1)], [(36, 3), (72, 1), (81, 1), (135, 2), (140, 1), (153, 1), (159, 3), (189, 1), (204, 1), (229, 4), (231, 1), (232, 1), (302, 4), (654, 1), (1000, 1), (1001, 1), (1002, 1)], [(48, 1), (98, 1), (136, 2), (140, 1), (159, 1), (246, 1), (749, 1), (1003, 1), (1004, 1)], [(6, 1)], [(15, 1), (35, 1), (73, 1), (137, 1), (196, 1)], [(10, 1), (12, 1), (13, 1), (14, 1), (35, 2), (38, 1), (136, 1), (137, 1), (159, 1), (188, 1), (207, 1), (216, 1), (245, 1), (246, 1), (355, 1), (428, 1), (459, 1), (460, 1), (1005, 1), (1006, 1), (1007, 1), (1008, 1), (1009, 1), (1010, 1)], [(260, 1)], [(194, 1), (220, 2), (539, 1), (796, 1), (1011, 1), (1012, 1), (1013, 1)], [(44, 1), (159, 1), (274, 1), (709, 1)], [(251, 1), (275, 1), (778, 1)], [(35, 2), (69, 1), (112, 1), (119, 1), (137, 1), (140, 1), (143, 1), (159, 1), (167, 2), (176, 1), (183, 1), (229, 1), (231, 1), (237, 1), (279, 1), (318, 1), (374, 1), (446, 1), (537, 1), (1014, 1), (1015, 1), (1016, 1)], [(90, 1), (159, 2), (563, 1), (575, 1), (1017, 1), (1018, 1), (1019, 1), (1020, 1)], [(6, 1), (159, 1)], [(22, 1)], [(12, 1), (90, 2), (140, 2), (206, 1), (269, 1), (452, 2), (1021, 1), (1022, 1), (1023, 1), (1024, 1), (1025, 1), (1026, 1), (1027, 1), (1028, 1), (1029, 1), (1030, 1), (1031, 1), (1032, 1), (1033, 1), (1034, 1), (1035, 1)], [(1036, 1)], [(124, 1)], [(35, 1)], [(6, 1), (159, 2), (176, 1), (183, 1), (263, 1), (300, 1), (302, 2), (303, 1), (382, 1), (442, 1), (599, 1), (941, 1), (1037, 1), (1038, 1), (1039, 1)], [(81, 1), (183, 1), (187, 2), (204, 1), (654, 1), (751, 1), (953, 1)], [(6, 1), (35, 1)], [(20, 1), (38, 1), (40, 1), (108, 1), (123, 1), (128, 2), (238, 1), (255, 1), (292, 2), (377, 1), (463, 1), (729, 1), (1040, 1), (1041, 1)], [(6, 1), (583, 1)], [(129, 1), (160, 1), (210, 1), (308, 1)], [(35, 1), (287, 1)], [(1042, 1)], [(35, 1)], [(6, 2), (159, 1)], [(35, 1), (44, 1)], [(6, 1)], [(35, 1)], [(11, 1), (90, 1), (135, 2), (183, 3), (218, 1), (336, 1), (972, 1), (1043, 1), (1044, 1), (1045, 1), (1046, 1), (1047, 1)], [(7, 1), (128, 1), (140, 1), (146, 1), (149, 1), (881, 1), (917, 1)], [(218, 1)], [(6, 1), (172, 1)], [(159, 1)], [(81, 1), (98, 1), (123, 1), (153, 1), (159, 1), (163, 1), (188, 1), (201, 1), (204, 1), (250, 1), (459, 1), (497, 1)], [(159, 1), (218, 1), (751, 1)], [(35, 1), (159, 1)], [(35, 1)], [(938, 1)], [(124, 1), (137, 1), (207, 1), (227, 1), (231, 1), (245, 1), (310, 1), (333, 1), (763, 1), (779, 1), (876, 1), (1048, 1), (1049, 1), (1050, 1)], [(22, 1)], [], [(6, 1)], [(98, 1)], [(684, 1)], [(11, 1), (35, 1), (135, 1), (1046, 1)], [(35, 1), (1051, 1), (1052, 1)], [(90, 1), (159, 1)], [(35, 1), (159, 1)], [(6, 1)], [(13, 1), (161, 1), (532, 1), (795, 1), (1053, 1)], [(72, 1), (140, 1), (153, 1), (163, 1), (228, 1), (229, 1), (315, 1)], [(137, 1), (208, 1), (210, 1), (300, 1), (1054, 1)], [(159, 1)], [(16, 1), (35, 1), (113, 2), (188, 1), (231, 1), (263, 1), (288, 1), (393, 1), (946, 1), (1055, 1), (1056, 1), (1057, 1), (1058, 1), (1059, 2), (1060, 1), (1061, 1), (1062, 1), (1063, 1), (1064, 1), (1065, 1)], [(402, 1), (574, 1), (1066, 1)], [(35, 1)], [(188, 1), (761, 1), (1067, 1)], [(14, 1), (20, 1), (78, 1), (81, 2), (153, 3), (176, 1), (188, 2), (432, 1), (537, 2), (666, 1), (1068, 1)], [(72, 1), (73, 1), (547, 1)], [(212, 1), (290, 1), (305, 1), (452, 1), (464, 1), (705, 1), (1069, 1), (1070, 1)], [(583, 1)], [(90, 1), (128, 1), (140, 1), (149, 1), (159, 1)], [(134, 1)], [(7, 2), (35, 1), (40, 1), (81, 1), (112, 1), (136, 1), (137, 1), (148, 1), (167, 1), (187, 1), (292, 1), (460, 1), (568, 2), (1071, 1)], [(35, 1)], [(22, 1)], [(22, 1), (135, 1), (153, 1), (501, 1)], [(22, 1)], [(15, 3), (140, 1), (153, 1), (176, 1), (188, 1), (263, 2), (451, 1)], [(22, 1), (73, 1), (159, 1), (229, 1), (654, 1)], [(35, 1)], [(95, 1), (170, 1), (218, 1)], [(153, 1), (707, 1)], [(72, 1), (140, 1), (153, 1), (189, 1), (210, 1), (466, 1)], [(6, 1)], [(35, 1), (159, 1)], [], [(136, 1), (141, 2), (153, 1), (460, 1), (518, 1), (539, 1), (1054, 1), (1072, 1), (1073, 1)], [(35, 1), (90, 1), (427, 1)], [(28, 1)], [(159, 1), (304, 1)], [(36, 1), (72, 1), (84, 1), (112, 1), (128, 1), (140, 1), (149, 1), (157, 1), (165, 1), (230, 1), (302, 2), (515, 1)], [(36, 1), (54, 1), (69, 1), (113, 1), (153, 1), (182, 1), (188, 1), (302, 1), (517, 1)], [(16, 1), (123, 1), (153, 1), (165, 1), (187, 1), (212, 1), (239, 1), (279, 1), (510, 1), (625, 1), (792, 1)], [(90, 1), (172, 1)], [(13, 1), (14, 1), (20, 1), (22, 1), (91, 1), (161, 1), (358, 1), (491, 1), (702, 1), (735, 1), (784, 1), (1050, 1), (1074, 1)], [(1075, 1), (1076, 1)], [(90, 1), (1077, 1)], [(31, 1)], [(43, 1), (136, 1)], [(6, 1)], [(518, 1)], [(2, 1)], [(35, 1), (57, 1), (159, 1), (188, 1), (228, 2), (1078, 2)], [(47, 1), (140, 2), (153, 1), (170, 1), (176, 1), (188, 1), (684, 1), (1079, 1), (1080, 1)], [(35, 1), (36, 1), (129, 1), (159, 1), (1081, 1)], [(35, 2), (112, 1), (124, 1), (153, 1), (228, 1), (1082, 1)], [(6, 1), (31, 1), (225, 1), (233, 1)], [], [], [(902, 1)], [(35, 1)], [(1083, 1), (1084, 1)], [(43, 1)], [(22, 1)], [(6, 1), (120, 1), (300, 1), (301, 1), (1085, 1)], [(1086, 1)], [(140, 1), (148, 1), (159, 1), (312, 1), (357, 1), (488, 1), (1087, 1), (1088, 1)], [(35, 1), (136, 1), (509, 1)]]\n"
     ]
    }
   ],
   "source": [
    "# Create Dictionary\n",
    "id2word = corpora.Dictionary(data_lemmatized)\n",
    "\n",
    "# Create Corpus\n",
    "texts = data_lemmatized\n",
    "\n",
    "# Term Document Frequency\n",
    "corpus = [id2word.doc2bow(text) for text in texts]\n",
    "\n",
    "# View\n",
    "print(corpus)"
   ]
  },
  {
   "cell_type": "code",
   "execution_count": 41,
   "metadata": {
    "extensions": {
     "jupyter_dashboards": {
      "version": 1,
      "views": {
       "grid_default": {
        "col": 0,
        "height": 4,
        "hidden": false,
        "row": 36,
        "width": 12
       },
       "report_default": {
        "hidden": false
       }
      }
     }
    },
    "nbpresent": {
     "id": "85bbe127-bdc5-4c87-aa2c-9481b83e07ac"
    }
   },
   "outputs": [
    {
     "data": {
      "text/plain": [
       "u'collection'"
      ]
     },
     "execution_count": 41,
     "metadata": {},
     "output_type": "execute_result"
    }
   ],
   "source": [
    "id2word[1]"
   ]
  },
  {
   "cell_type": "code",
   "execution_count": 42,
   "metadata": {
    "extensions": {
     "jupyter_dashboards": {
      "version": 1,
      "views": {
       "grid_default": {
        "hidden": true
       },
       "report_default": {
        "hidden": true
       }
      }
     }
    },
    "nbpresent": {
     "id": "b3be3278-593e-43a8-9e04-6d245220e88d"
    }
   },
   "outputs": [],
   "source": [
    "# Human readable format of corpus (term-frequency)\n",
    "#[[(id2word[id], freq) for id, freq in cp] for cp in corpus[:1]]"
   ]
  },
  {
   "cell_type": "code",
   "execution_count": 43,
   "metadata": {
    "extensions": {
     "jupyter_dashboards": {
      "version": 1,
      "views": {
       "grid_default": {
        "col": 0,
        "height": 12,
        "hidden": false,
        "row": 40,
        "width": 12
       },
       "report_default": {
        "hidden": false
       }
      }
     }
    },
    "nbpresent": {
     "id": "9b48686c-6083-48c3-a6c2-b5f05dfd4dc0"
    }
   },
   "outputs": [],
   "source": [
    "import warnings\n",
    "warnings.filterwarnings(\"ignore\",category=DeprecationWarning)\n",
    "\n",
    "# Build LDA model\n",
    "lda_model = gensim.models.ldamodel.LdaModel(corpus=corpus,\n",
    "                                           id2word=id2word,\n",
    "                                           num_topics=4, \n",
    "                                           random_state=100,\n",
    "                                           update_every=1,\n",
    "                                           chunksize=100,\n",
    "                                           passes=10,\n",
    "                                           alpha='auto',\n",
    "                                           per_word_topics=True)\n"
   ]
  },
  {
   "cell_type": "code",
   "execution_count": 44,
   "metadata": {
    "extensions": {
     "jupyter_dashboards": {
      "version": 1,
      "views": {
       "grid_default": {
        "col": 0,
        "height": 6,
        "hidden": false,
        "row": 52,
        "width": 12
       },
       "report_default": {
        "hidden": false
       }
      }
     }
    },
    "nbpresent": {
     "id": "8c9b52c5-579c-440c-b2cb-1761d743d214"
    }
   },
   "outputs": [
    {
     "name": "stdout",
     "output_type": "stream",
     "text": [
      "[(0,\n",
      "  u'0.055*\"song\" + 0.054*\"great\" + 0.028*\"music\" + 0.026*\"play\" + 0.024*\"playlist\" + 0.023*\"spotify\" + 0.020*\"listen\" + 0.020*\"not\" + 0.020*\"get\" + 0.018*\"make\"'),\n",
      " (1,\n",
      "  u'0.061*\"awesome\" + 0.031*\"thank\" + 0.026*\"update\" + 0.017*\"still\" + 0.017*\"old\" + 0.017*\"fix\" + 0.014*\"bug\" + 0.014*\"pandora\" + 0.012*\"everything\" + 0.011*\"video\"'),\n",
      " (2,\n",
      "  u'0.042*\"amazing\" + 0.033*\"need\" + 0.032*\"add\" + 0.023*\"offline\" + 0.022*\"always\" + 0.014*\"away\" + 0.014*\"rock\" + 0.013*\"useful\" + 0.013*\"feature\" + 0.011*\"hit\"'),\n",
      " (3,\n",
      "  u'0.171*\"love\" + 0.101*\"music\" + 0.061*\"good\" + 0.034*\"spotify\" + 0.020*\"work\" + 0.017*\"day\" + 0.017*\"selection\" + 0.016*\"favorite\" + 0.015*\"pretty\" + 0.010*\"well\"')]\n"
     ]
    }
   ],
   "source": [
    "# Print the Keyword in the 10 topics\n",
    "pprint(lda_model.print_topics())\n",
    "doc_lda = lda_model[corpus]"
   ]
  },
  {
   "cell_type": "code",
   "execution_count": 45,
   "metadata": {
    "extensions": {
     "jupyter_dashboards": {
      "version": 1,
      "views": {
       "grid_default": {
        "col": 0,
        "height": 29,
        "hidden": false,
        "row": 58,
        "width": null
       },
       "report_default": {
        "hidden": false
       }
      }
     }
    },
    "nbpresent": {
     "id": "7f7b4eb4-ee3f-4be3-a5bf-2a667752a485"
    }
   },
   "outputs": [
    {
     "data": {
      "text/html": [
       "\n",
       "<link rel=\"stylesheet\" type=\"text/css\" href=\"https://cdn.rawgit.com/bmabey/pyLDAvis/files/ldavis.v1.0.0.css\">\n",
       "\n",
       "\n",
       "<div id=\"ldavis_el220971121837198887623193939\"></div>\n",
       "<script type=\"text/javascript\">\n",
       "\n",
       "var ldavis_el220971121837198887623193939_data = {\"plot.opts\": {\"xlab\": \"PC1\", \"ylab\": \"PC2\"}, \"topic.order\": [1, 4, 3, 2], \"token.table\": {\"Topic\": [1, 3, 3, 3, 3, 3, 4, 2, 1, 3, 3, 4, 4, 1, 3, 4, 4, 4, 2, 1, 3, 3, 3, 2, 2, 3, 3, 2, 2, 2, 2, 3, 3, 1, 1, 1, 1, 4, 1, 4, 3, 2, 3, 4, 4, 4, 4, 3, 2, 1, 2, 2, 1, 2, 1, 2, 4, 1, 1, 3, 4, 2, 4, 4, 1, 2, 2, 2, 1, 4, 4, 3, 2, 2, 1, 2, 3, 1, 1, 3, 3, 4, 3, 3, 4, 1, 2, 1, 1, 3, 1, 2, 1, 3, 1, 4, 3, 1, 4, 4, 2, 2, 1, 3, 2, 4, 1, 2, 1, 3, 4, 1, 2, 4, 2, 2, 3, 4, 3, 4, 1, 3, 1, 3, 2, 4, 1, 3, 4, 4, 1, 2, 1, 2, 2, 1, 4, 2, 1], \"Freq\": [0.9755075573921204, 0.946789026260376, 0.9615212082862854, 0.9755851626396179, 0.830723762512207, 0.8989752531051636, 0.9406629800796509, 0.9587497711181641, 0.9889234900474548, 0.7868617177009583, 0.9084429740905762, 0.9787377715110779, 0.8138275742530823, 0.9891640543937683, 0.9343617558479309, 0.7895262241363525, 0.8584818243980408, 0.943570613861084, 0.8643524646759033, 0.9850767254829407, 0.7643611431121826, 0.8353010416030884, 0.7500608563423157, 0.8755125403404236, 0.9535549879074097, 0.8595895171165466, 0.9082865715026855, 0.9366421699523926, 0.8612155318260193, 0.9883830547332764, 0.8741561770439148, 0.909305214881897, 0.889843225479126, 0.9810927510261536, 0.9853176474571228, 0.9827372431755066, 0.9474070072174072, 0.9406629800796509, 0.9847127795219421, 0.8563901782035828, 0.8749380111694336, 0.9784301519393921, 0.8857806324958801, 0.9048017859458923, 0.9045517444610596, 0.9441428780555725, 0.9441428780555725, 0.7318676710128784, 0.8715750575065613, 0.9737209677696228, 0.019871855154633522, 0.9580513834953308, 0.9766027331352234, 0.9832895994186401, 0.9955251812934875, 0.7363351583480835, 0.7509915232658386, 0.9811781048774719, 0.9810287356376648, 0.867420494556427, 0.8931306600570679, 0.7385091185569763, 0.9531325101852417, 0.8605653643608093, 0.9976112842559814, 0.9047605991363525, 0.8999349474906921, 0.9992465972900391, 0.9849054217338562, 0.8403010368347168, 0.9122985005378723, 0.8570429086685181, 0.8197907209396362, 0.8739752769470215, 0.4040541350841522, 0.5972974300384521, 0.9572882056236267, 0.9727786779403687, 0.9980589151382446, 0.8338800668716431, 0.9422210454940796, 0.8843874335289001, 0.9162784218788147, 0.9471744894981384, 0.9505110383033752, 0.9587814807891846, 0.8997153043746948, 0.998607337474823, 0.9619029760360718, 0.03316906839609146, 0.975259006023407, 0.9644980430603027, 0.8731188774108887, 0.0970132052898407, 0.9918601512908936, 0.7497068047523499, 0.9365449547767639, 0.9776044487953186, 0.8360762596130371, 0.8518955707550049, 0.9510507583618164, 0.9323006868362427, 0.5444285273551941, 0.3888775408267975, 0.8596898913383484, 0.1719379872083664, 0.36190980672836304, 0.6031830310821533, 0.9929161667823792, 0.8954230546951294, 0.9441429376602173, 0.6167415380477905, 0.3854634463787079, 0.9816187024116516, 0.833906888961792, 0.8844729065895081, 0.7591586709022522, 0.9441429376602173, 0.9703603386878967, 0.9731353521347046, 0.9766179323196411, 0.9308635592460632, 0.8397183418273926, 0.13995306193828583, 0.8626317381858826, 0.9249758720397949, 0.9919607043266296, 0.8789201378822327, 0.7641334533691406, 0.8626834154129028, 0.9852569699287415, 0.9404062628746033, 0.9522275328636169, 0.9588932394981384, 0.9282472133636475, 0.9702385067939758, 0.9369155168533325, 0.876389741897583, 0.9634387493133545], \"Term\": [\"ad\", \"add\", \"always\", \"amazing\", \"amenity\", \"android\", \"anyway\", \"app\", \"artist\", \"audio\", \"away\", \"awesome\", \"bad\", \"be\", \"best\", \"break\", \"brilliant\", \"bug\", \"buy\", \"can\", \"choice\", \"choose\", \"chromecast\", \"classical\", \"come\", \"complaint\", \"continue\", \"cool\", \"cut\", \"day\", \"deh\", \"developer\", \"difficult\", \"do\", \"download\", \"easy\", \"enjoy\", \"essentially\", \"ever\", \"everything\", \"far\", \"favorite\", \"feature\", \"fine\", \"fix\", \"freaky\", \"friday\", \"friend\", \"genre\", \"get\", \"get\", \"glitch\", \"go\", \"good\", \"great\", \"group\", \"guy\", \"have\", \"hear\", \"hit\", \"hope\", \"job\", \"lack\", \"last\", \"listen\", \"listening\", \"look\", \"love\", \"make\", \"mantap\", \"memory\", \"mind\", \"money\", \"muis\", \"music\", \"music\", \"need\", \"new\", \"not\", \"nothing\", \"offline\", \"old\", \"otherwise\", \"overall\", \"pandora\", \"pay\", \"perfect\", \"play\", \"playlist\", \"playlist\", \"premium\", \"pretty\", \"problem\", \"problem\", \"really\", \"reshuffle\", \"rock\", \"s\", \"save\", \"second\", \"selection\", \"service\", \"shuffle\", \"shuffle\", \"slow\", \"slow\", \"sometimes\", \"sometimes\", \"song\", \"sound\", \"soundful\", \"spotify\", \"spotify\", \"still\", \"streaming\", \"subscription\", \"super\", \"sweet\", \"tablet\", \"thank\", \"think\", \"tho\", \"time\", \"time\", \"try\", \"update\", \"use\", \"useful\", \"variety\", \"video\", \"want\", \"well\", \"wish\", \"work\", \"worth\", \"would\", \"write\", \"yay\", \"year\"]}, \"mdsDat\": {\"y\": [-0.07090042065319398, 0.2525519702056204, -0.09427568427254623, -0.08737586527988024], \"cluster\": [1, 1, 1, 1], \"Freq\": [53.38758087158203, 22.06206512451172, 12.609185218811035, 11.941168785095215], \"topics\": [1, 2, 3, 4], \"x\": [-0.27875283800330125, 0.015653412970779438, 0.10557579015290366, 0.1575236348796181]}, \"R\": 30, \"lambda.step\": 0.01, \"tinfo\": {\"Category\": [\"Default\", \"Default\", \"Default\", \"Default\", \"Default\", \"Default\", \"Default\", \"Default\", \"Default\", \"Default\", \"Default\", \"Default\", \"Default\", \"Default\", \"Default\", \"Default\", \"Default\", \"Default\", \"Default\", \"Default\", \"Default\", \"Default\", \"Default\", \"Default\", \"Default\", \"Default\", \"Default\", \"Default\", \"Default\", \"Default\", \"Topic1\", \"Topic1\", \"Topic1\", \"Topic1\", \"Topic1\", \"Topic1\", \"Topic1\", \"Topic1\", \"Topic1\", \"Topic1\", \"Topic1\", \"Topic1\", \"Topic1\", \"Topic1\", \"Topic1\", \"Topic1\", \"Topic1\", \"Topic1\", \"Topic1\", \"Topic1\", \"Topic1\", \"Topic1\", \"Topic1\", \"Topic1\", \"Topic1\", \"Topic1\", \"Topic1\", \"Topic1\", \"Topic1\", \"Topic1\", \"Topic1\", \"Topic1\", \"Topic1\", \"Topic1\", \"Topic2\", \"Topic2\", \"Topic2\", \"Topic2\", \"Topic2\", \"Topic2\", \"Topic2\", \"Topic2\", \"Topic2\", \"Topic2\", \"Topic2\", \"Topic2\", \"Topic2\", \"Topic2\", \"Topic2\", \"Topic2\", \"Topic2\", \"Topic2\", \"Topic2\", \"Topic2\", \"Topic2\", \"Topic2\", \"Topic2\", \"Topic2\", \"Topic2\", \"Topic2\", \"Topic2\", \"Topic2\", \"Topic2\", \"Topic2\", \"Topic2\", \"Topic2\", \"Topic2\", \"Topic2\", \"Topic3\", \"Topic3\", \"Topic3\", \"Topic3\", \"Topic3\", \"Topic3\", \"Topic3\", \"Topic3\", \"Topic3\", \"Topic3\", \"Topic3\", \"Topic3\", \"Topic3\", \"Topic3\", \"Topic3\", \"Topic3\", \"Topic3\", \"Topic3\", \"Topic3\", \"Topic3\", \"Topic3\", \"Topic3\", \"Topic3\", \"Topic3\", \"Topic3\", \"Topic3\", \"Topic3\", \"Topic3\", \"Topic3\", \"Topic3\", \"Topic3\", \"Topic3\", \"Topic3\", \"Topic4\", \"Topic4\", \"Topic4\", \"Topic4\", \"Topic4\", \"Topic4\", \"Topic4\", \"Topic4\", \"Topic4\", \"Topic4\", \"Topic4\", \"Topic4\", \"Topic4\", \"Topic4\", \"Topic4\", \"Topic4\", \"Topic4\", \"Topic4\", \"Topic4\", \"Topic4\", \"Topic4\", \"Topic4\", \"Topic4\", \"Topic4\", \"Topic4\", \"Topic4\", \"Topic4\", \"Topic4\", \"Topic4\", \"Topic4\", \"Topic4\"], \"Term\": [\"love\", \"music\", \"good\", \"song\", \"great\", \"awesome\", \"amazing\", \"spotify\", \"need\", \"add\", \"thank\", \"play\", \"update\", \"work\", \"offline\", \"always\", \"day\", \"listen\", \"not\", \"selection\", \"playlist\", \"favorite\", \"make\", \"pretty\", \"still\", \"old\", \"get\", \"fix\", \"premium\", \"want\", \"song\", \"great\", \"play\", \"listen\", \"not\", \"make\", \"premium\", \"want\", \"ad\", \"new\", \"easy\", \"use\", \"download\", \"really\", \"be\", \"have\", \"would\", \"can\", \"hear\", \"get\", \"think\", \"pay\", \"ever\", \"wish\", \"go\", \"year\", \"do\", \"artist\", \"enjoy\", \"s\", \"playlist\", \"spotify\", \"music\", \"problem\", \"love\", \"good\", \"work\", \"selection\", \"day\", \"favorite\", \"pretty\", \"well\", \"app\", \"cool\", \"worth\", \"look\", \"service\", \"deh\", \"perfect\", \"muis\", \"yay\", \"try\", \"buy\", \"classical\", \"streaming\", \"money\", \"genre\", \"cut\", \"listening\", \"come\", \"subscription\", \"job\", \"group\", \"glitch\", \"music\", \"slow\", \"spotify\", \"sometimes\", \"amazing\", \"need\", \"add\", \"offline\", \"always\", \"away\", \"useful\", \"feature\", \"rock\", \"hit\", \"overall\", \"amenity\", \"developer\", \"sound\", \"far\", \"best\", \"complaint\", \"tablet\", \"friend\", \"choice\", \"super\", \"audio\", \"chromecast\", \"choose\", \"nothing\", \"continue\", \"mind\", \"otherwise\", \"difficult\", \"tho\", \"android\", \"shuffle\", \"time\", \"awesome\", \"thank\", \"update\", \"fix\", \"still\", \"old\", \"bug\", \"pandora\", \"everything\", \"write\", \"video\", \"mantap\", \"lack\", \"save\", \"second\", \"last\", \"memory\", \"sweet\", \"soundful\", \"friday\", \"freaky\", \"bad\", \"anyway\", \"essentially\", \"brilliant\", \"hope\", \"guy\", \"variety\", \"reshuffle\", \"break\", \"fine\"], \"loglift\": [30.0, 29.0, 28.0, 27.0, 26.0, 25.0, 24.0, 23.0, 22.0, 21.0, 20.0, 19.0, 18.0, 17.0, 16.0, 15.0, 14.0, 13.0, 12.0, 11.0, 10.0, 9.0, 8.0, 7.0, 6.0, 5.0, 4.0, 3.0, 2.0, 1.0, 0.6233999729156494, 0.6233999729156494, 0.6187000274658203, 0.6164000034332275, 0.6162999868392944, 0.6148999929428101, 0.6133000254631042, 0.6126999855041504, 0.6110000014305115, 0.609000027179718, 0.6083999872207642, 0.6080999970436096, 0.6065999865531921, 0.6061000227928162, 0.6060000061988831, 0.6057999730110168, 0.6047000288963318, 0.604200005531311, 0.6039999723434448, 0.6022999882698059, 0.6021000146865845, 0.5993000268936157, 0.5985999703407288, 0.5985000133514404, 0.5982999801635742, 0.597100019454956, 0.5967000126838684, 0.5961999893188477, 0.5954999923706055, 0.5952000021934509, 0.5859000086784363, 0.1387999951839447, -0.2822999954223633, 0.5004000067710876, 1.5078999996185303, 1.5018999576568604, 1.4823999404907227, 1.4775999784469604, 1.4753999710083008, 1.4704999923706055, 1.466599941253662, 1.4543999433517456, 1.454200029373169, 1.4496999979019165, 1.4421000480651855, 1.4413000345230103, 1.4306000471115112, 1.4205000400543213, 1.420199990272522, 1.416100025177002, 1.406000018119812, 1.3997000455856323, 1.3990999460220337, 1.3942999839782715, 1.3838000297546387, 1.3788000345230103, 1.3759000301361084, 1.3690999746322632, 1.3646999597549438, 1.3624000549316406, 1.3575999736785889, 1.3515000343322754, 1.3487000465393066, 1.3410999774932861, 0.9927999973297119, 1.3037999868392944, 0.5509999990463257, 0.9373000264167786, 2.045599937438965, 2.039400100708008, 2.037100076675415, 2.023200035095215, 2.01990008354187, 1.9962999820709229, 1.9910000562667847, 1.9886000156402588, 1.9846999645233154, 1.9696999788284302, 1.9681999683380127, 1.9603999853134155, 1.9601999521255493, 1.9550000429153442, 1.9524999856948853, 1.9329999685287476, 1.9299999475479126, 1.9089000225067139, 1.9063999652862549, 1.8940999507904053, 1.8901000022888184, 1.8898999691009521, 1.8858000040054321, 1.8733999729156494, 1.8696999549865723, 1.8661999702453613, 1.8655999898910522, 1.8583999872207642, 1.8559999465942383, 1.8516000509262085, 1.8494999408721924, 1.1539000272750854, 0.2547000050544739, 2.1061999797821045, 2.0871999263763428, 2.0813000202178955, 2.0587000846862793, 2.0578999519348145, 2.0550999641418457, 2.0457000732421875, 2.0352001190185547, 2.0283000469207764, 2.015700101852417, 2.012700080871582, 2.010200023651123, 2.0095999240875244, 2.009000062942505, 2.0041000843048096, 1.9946999549865723, 1.9925999641418457, 1.9918999671936035, 1.9918999671936035, 1.9918999671936035, 1.9918999671936035, 1.982300043106079, 1.9788000583648682, 1.9788000583648682, 1.9757000207901, 1.965499997138977, 1.9524999856948853, 1.9462000131607056, 1.9413000345230103, 1.9412000179290771, 1.9063999652862549], \"Freq\": [173.0, 170.0, 62.0, 134.0, 133.0, 33.0, 24.0, 90.0, 19.0, 19.0, 17.0, 64.0, 15.0, 20.0, 13.0, 13.0, 18.0, 50.0, 50.0, 17.0, 60.0, 16.0, 45.0, 15.0, 10.0, 10.0, 50.0, 9.0, 39.0, 37.0, 134.389892578125, 133.03289794921875, 63.52167510986328, 49.5609016418457, 49.53699493408203, 45.11370086669922, 39.42360305786133, 36.99829864501953, 33.272560119628906, 30.270503997802734, 28.949878692626953, 28.67118263244629, 26.83258628845215, 25.656166076660156, 25.722196578979492, 25.92709732055664, 25.184473037719727, 23.79925537109375, 24.890453338623047, 49.066646575927734, 21.959259033203125, 20.276927947998047, 19.730249404907227, 19.38074493408203, 18.89434051513672, 18.122819900512695, 17.789138793945312, 17.639455795288086, 17.37713623046875, 16.83478355407715, 57.83771514892578, 55.695777893066406, 68.74640655517578, 18.152873992919922, 172.5457000732422, 61.45659637451172, 20.262252807617188, 17.282392501831055, 17.56869125366211, 15.698760986328125, 14.872291564941406, 10.045031547546387, 9.85127067565918, 9.034279823303223, 8.041892051696777, 8.28814697265625, 6.926105976104736, 6.267839431762695, 6.08828067779541, 6.241771221160889, 6.16164493560791, 5.184025764465332, 5.170548439025879, 6.096394062042236, 4.222506523132324, 4.273777961730957, 5.010410308837891, 4.028809547424316, 3.8182578086853027, 3.6145548820495605, 3.878016233444214, 3.462434768676758, 3.462630033493042, 3.521787643432617, 101.67446899414062, 4.725952625274658, 34.75617599487305, 4.669200420379639, 23.99005889892578, 19.23509407043457, 18.382888793945312, 13.157163619995117, 12.850544929504395, 8.174582481384277, 7.353829860687256, 7.279423713684082, 7.837409973144531, 6.251997947692871, 5.7173261642456055, 5.389953136444092, 5.907834529876709, 4.9738030433654785, 5.0772175788879395, 4.662847995758057, 4.0425286293029785, 3.506162405014038, 3.4780054092407227, 3.2892208099365234, 3.298769474029541, 3.1817727088928223, 3.324361562728882, 2.9484047889709473, 2.942366361618042, 2.691837787628174, 2.85124135017395, 2.6476857662200928, 2.7199184894561768, 2.5886285305023193, 2.6748909950256348, 5.140253067016602, 3.4867892265319824, 33.082271575927734, 16.818580627441406, 14.486026763916016, 9.309843063354492, 9.524041175842285, 9.48766803741455, 7.830721855163574, 7.69260835647583, 6.359412670135498, 5.740074634552002, 6.214956760406494, 5.304159641265869, 5.607898235321045, 5.3241777420043945, 5.200014591217041, 5.099205017089844, 4.800198078155518, 4.635184288024902, 4.635184288024902, 4.635183334350586, 4.635183334350586, 4.260727405548096, 4.5913801193237305, 4.5913801193237305, 4.012300968170166, 3.8177902698516846, 3.361356496810913, 3.2827227115631104, 4.439099311828613, 3.1610970497131348, 3.5523180961608887], \"Total\": [173.0, 170.0, 62.0, 134.0, 133.0, 33.0, 24.0, 90.0, 19.0, 19.0, 17.0, 64.0, 15.0, 20.0, 13.0, 13.0, 18.0, 50.0, 50.0, 17.0, 60.0, 16.0, 45.0, 15.0, 10.0, 10.0, 50.0, 9.0, 39.0, 37.0, 134.9560089111328, 133.5978240966797, 64.0892562866211, 50.119720458984375, 50.09724426269531, 45.689666748046875, 39.989376068115234, 37.553653717041016, 33.82854461669922, 30.83949089050293, 29.509414672851562, 29.235029220581055, 27.40233039855957, 26.2133731842041, 26.284820556640625, 26.498756408691406, 25.766860961914062, 24.363584518432617, 25.48345375061035, 50.322425842285156, 22.526721954345703, 20.85980987548828, 20.31049156188965, 19.953214645385742, 19.455198287963867, 18.683076858520508, 18.34688949584961, 18.201610565185547, 17.943714141845703, 17.389446258544922, 60.297142028808594, 90.79978942871094, 170.76919555664062, 20.61574935913086, 173.13043212890625, 62.036659240722656, 20.857379913330078, 17.87496566772461, 18.211563110351562, 16.352725982666016, 15.552130699157715, 10.633702278137207, 10.43025016784668, 9.608792304992676, 8.618393898010254, 8.889531135559082, 7.508307456970215, 6.863761901855469, 6.668776035308838, 6.865182876586914, 6.846269130706787, 5.796216011047363, 5.784677028656006, 6.853128433227539, 4.796698570251465, 4.879293918609619, 5.736740589141846, 4.644598007202148, 4.4210591316223145, 4.194828987121582, 4.522467613220215, 4.0622382164001465, 4.0742316246032715, 4.175141334533691, 170.76919555664062, 5.8160505294799805, 90.79978942871094, 8.289358139038086, 24.60062026977539, 19.847732543945312, 19.011627197265625, 13.797186851501465, 13.520242691040039, 8.806276321411133, 7.964318752288818, 7.9026336669921875, 8.542035102844238, 6.917060375213623, 6.334630012512207, 6.018847942352295, 6.59844446182251, 5.583952903747559, 5.714690685272217, 5.351246356964111, 4.653383731842041, 4.122179985046387, 4.099101543426514, 3.9248461723327637, 3.9517431259155273, 3.8126139640808105, 3.9996755123138428, 3.591519594192505, 3.597639560699463, 3.302922248840332, 3.500408172607422, 3.274113893508911, 3.37138032913208, 3.222813844680786, 3.3371329307556152, 12.857518196105957, 21.435758590698242, 33.716896057128906, 17.46930694580078, 15.135529518127441, 9.949679374694824, 10.187254905700684, 10.176535606384277, 8.478432655334473, 8.416524887084961, 7.006152153015137, 6.403992652893066, 6.955042839050293, 5.950248718261719, 6.295032501220703, 5.980315685272217, 5.869264125823975, 5.810133934020996, 5.4806623458862305, 5.2958083152771, 5.2958083152771, 5.295808792114258, 5.295808792114258, 4.915046215057373, 5.315400123596191, 5.315400123596191, 4.659388065338135, 4.478628158569336, 3.9947187900543213, 3.926015853881836, 5.335419178009033, 3.7997469902038574, 4.420857906341553], \"logprob\": [30.0, 29.0, 28.0, 27.0, 26.0, 25.0, 24.0, 23.0, 22.0, 21.0, 20.0, 19.0, 18.0, 17.0, 16.0, 15.0, 14.0, 13.0, 12.0, 11.0, 10.0, 9.0, 8.0, 7.0, 6.0, 5.0, 4.0, 3.0, 2.0, 1.0, -2.900899887084961, -2.9110000133514404, -3.6503000259399414, -3.898400068283081, -3.898900032043457, -3.992500066757202, -4.127299785614014, -4.190800189971924, -4.296899795532227, -4.391499996185303, -4.436100006103516, -4.445799827575684, -4.51200008392334, -4.5569000244140625, -4.554299831390381, -4.54640007019043, -4.575399875640869, -4.631999969482422, -4.587200164794922, -3.9084999561309814, -4.712500095367432, -4.792200088500977, -4.819499969482422, -4.837399959564209, -4.862800121307373, -4.9045000076293945, -4.923099994659424, -4.93149995803833, -4.946499824523926, -4.9781999588012695, -3.74399995803833, -3.7816998958587646, -3.571199893951416, -4.9028000831604, -1.767300009727478, -2.7995998859405518, -3.9091999530792236, -4.06820011138916, -4.051799774169922, -4.164299964904785, -4.218400001525879, -4.610799789428711, -4.630300045013428, -4.716899871826172, -4.8333001136779785, -4.803100109100342, -4.982600212097168, -5.082499980926514, -5.111599922180176, -5.086699962615967, -5.099599838256836, -5.272299766540527, -5.274899959564209, -5.110199928283691, -5.477499961853027, -5.465400218963623, -5.306399822235107, -5.524499893188477, -5.578100204467773, -5.632999897003174, -5.562600135803223, -5.676000118255615, -5.675899982452393, -5.658999919891357, -2.296099901199341, -5.3649001121521, -3.3696000576019287, -5.3769001960754395, -3.1809000968933105, -3.4017999172210693, -3.4470999240875244, -3.7815001010894775, -3.8050999641418457, -4.257500171661377, -4.36329984664917, -4.3734002113342285, -4.299600124359131, -4.525599956512451, -4.614999771118164, -4.673999786376953, -4.582200050354004, -4.754300117492676, -4.733699798583984, -4.818900108337402, -4.961599826812744, -5.104000091552734, -5.111999988555908, -5.167799949645996, -5.164899826049805, -5.201099872589111, -5.157199859619141, -5.277200222015381, -5.279300212860107, -5.368299961090088, -5.310699939727783, -5.384799957275391, -5.357900142669678, -5.407400131225586, -5.374599933624268, -4.721399784088135, -5.109499931335449, -2.8050999641418457, -3.481600046157837, -3.6308999061584473, -4.072999954223633, -4.05019998550415, -4.054100036621094, -4.245999813079834, -4.263800144195557, -4.454100131988525, -4.556600093841553, -4.477099895477295, -4.6356000900268555, -4.579899787902832, -4.631800174713135, -4.655399799346924, -4.675000190734863, -4.735400199890137, -4.770400047302246, -4.770400047302246, -4.770400047302246, -4.770400047302246, -4.854599952697754, -4.779900074005127, -4.779900074005127, -4.914700031280518, -4.964399814605713, -5.091700077056885, -5.1153998374938965, -4.813600063323975, -5.15310001373291, -5.036499977111816]}};\n",
       "\n",
       "function LDAvis_load_lib(url, callback){\n",
       "  var s = document.createElement('script');\n",
       "  s.src = url;\n",
       "  s.async = true;\n",
       "  s.onreadystatechange = s.onload = callback;\n",
       "  s.onerror = function(){console.warn(\"failed to load library \" + url);};\n",
       "  document.getElementsByTagName(\"head\")[0].appendChild(s);\n",
       "}\n",
       "\n",
       "if(typeof(LDAvis) !== \"undefined\"){\n",
       "   // already loaded: just create the visualization\n",
       "   !function(LDAvis){\n",
       "       new LDAvis(\"#\" + \"ldavis_el220971121837198887623193939\", ldavis_el220971121837198887623193939_data);\n",
       "   }(LDAvis);\n",
       "}else if(typeof define === \"function\" && define.amd){\n",
       "   // require.js is available: use it to load d3/LDAvis\n",
       "   require.config({paths: {d3: \"https://cdnjs.cloudflare.com/ajax/libs/d3/3.5.5/d3.min\"}});\n",
       "   require([\"d3\"], function(d3){\n",
       "      window.d3 = d3;\n",
       "      LDAvis_load_lib(\"https://cdn.rawgit.com/bmabey/pyLDAvis/files/ldavis.v1.0.0.js\", function(){\n",
       "        new LDAvis(\"#\" + \"ldavis_el220971121837198887623193939\", ldavis_el220971121837198887623193939_data);\n",
       "      });\n",
       "    });\n",
       "}else{\n",
       "    // require.js not available: dynamically load d3 & LDAvis\n",
       "    LDAvis_load_lib(\"https://cdnjs.cloudflare.com/ajax/libs/d3/3.5.5/d3.min.js\", function(){\n",
       "         LDAvis_load_lib(\"https://cdn.rawgit.com/bmabey/pyLDAvis/files/ldavis.v1.0.0.js\", function(){\n",
       "                 new LDAvis(\"#\" + \"ldavis_el220971121837198887623193939\", ldavis_el220971121837198887623193939_data);\n",
       "            })\n",
       "         });\n",
       "}\n",
       "</script>"
      ],
      "text/plain": [
       "PreparedData(topic_coordinates=            Freq  cluster  topics         x         y\n",
       "topic                                                \n",
       "0      53.387581        1       1 -0.278753 -0.070900\n",
       "3      22.062065        1       2  0.015653  0.252552\n",
       "2      12.609185        1       3  0.105576 -0.094276\n",
       "1      11.941169        1       4  0.157524 -0.087376, topic_info=     Category        Freq         Term       Total  loglift  logprob\n",
       "term                                                                \n",
       "132   Default  173.000000         love  173.000000  30.0000  30.0000\n",
       "158   Default  170.000000        music  170.000000  29.0000  29.0000\n",
       "314   Default   62.000000         good   62.000000  28.0000  28.0000\n",
       "31    Default  134.000000         song  134.000000  27.0000  27.0000\n",
       "112   Default  133.000000        great  133.000000  26.0000  26.0000\n",
       "213   Default   33.000000      awesome   33.000000  25.0000  25.0000\n",
       "235   Default   24.000000      amazing   24.000000  24.0000  24.0000\n",
       "295   Default   90.000000      spotify   90.000000  23.0000  23.0000\n",
       "495   Default   19.000000         need   19.000000  22.0000  22.0000\n",
       "845   Default   19.000000          add   19.000000  21.0000  21.0000\n",
       "298   Default   17.000000        thank   17.000000  20.0000  20.0000\n",
       "515   Default   64.000000         play   64.000000  19.0000  19.0000\n",
       "1062  Default   15.000000       update   15.000000  18.0000  18.0000\n",
       "192   Default   20.000000         work   20.000000  17.0000  17.0000\n",
       "374   Default   13.000000      offline   13.000000  16.0000  16.0000\n",
       "335   Default   13.000000       always   13.000000  15.0000  15.0000\n",
       "329   Default   18.000000          day   18.000000  14.0000  14.0000\n",
       "450   Default   50.000000       listen   50.000000  13.0000  13.0000\n",
       "326   Default   50.000000          not   50.000000  12.0000  12.0000\n",
       "555   Default   17.000000    selection   17.000000  11.0000  11.0000\n",
       "433   Default   60.000000     playlist   60.000000  10.0000  10.0000\n",
       "939   Default   16.000000     favorite   16.000000   9.0000   9.0000\n",
       "781   Default   45.000000         make   45.000000   8.0000   8.0000\n",
       "583   Default   15.000000       pretty   15.000000   7.0000   7.0000\n",
       "291   Default   10.000000        still   10.000000   6.0000   6.0000\n",
       "890   Default   10.000000          old   10.000000   5.0000   5.0000\n",
       "592   Default   50.000000          get   50.000000   4.0000   4.0000\n",
       "688   Default    9.000000          fix    9.000000   3.0000   3.0000\n",
       "30    Default   39.000000      premium   39.000000   2.0000   2.0000\n",
       "210   Default   37.000000         want   37.000000   1.0000   1.0000\n",
       "...       ...         ...          ...         ...      ...      ...\n",
       "298    Topic4   16.818581        thank   17.469307   2.0872  -3.4816\n",
       "1062   Topic4   14.486027       update   15.135530   2.0813  -3.6309\n",
       "688    Topic4    9.309843          fix    9.949679   2.0587  -4.0730\n",
       "291    Topic4    9.524041        still   10.187255   2.0579  -4.0502\n",
       "890    Topic4    9.487668          old   10.176536   2.0551  -4.0541\n",
       "1002   Topic4    7.830722          bug    8.478433   2.0457  -4.2460\n",
       "815    Topic4    7.692608      pandora    8.416525   2.0352  -4.2638\n",
       "917    Topic4    6.359413   everything    7.006152   2.0283  -4.4541\n",
       "233    Topic4    5.740075        write    6.403993   2.0157  -4.5566\n",
       "76     Topic4    6.214957        video    6.955043   2.0127  -4.4771\n",
       "945    Topic4    5.304160       mantap    5.950249   2.0102  -4.6356\n",
       "4      Topic4    5.607898         lack    6.295033   2.0096  -4.5799\n",
       "851    Topic4    5.324178         save    5.980316   2.0090  -4.6318\n",
       "75     Topic4    5.200015       second    5.869264   2.0041  -4.6554\n",
       "674    Topic4    5.099205         last    5.810134   1.9947  -4.6750\n",
       "160    Topic4    4.800198       memory    5.480662   1.9926  -4.7354\n",
       "850    Topic4    4.635184        sweet    5.295808   1.9919  -4.7704\n",
       "1012   Topic4    4.635184     soundful    5.295808   1.9919  -4.7704\n",
       "383    Topic4    4.635183       friday    5.295809   1.9919  -4.7704\n",
       "612    Topic4    4.635183       freaky    5.295809   1.9919  -4.7704\n",
       "615    Topic4    4.260727          bad    4.915046   1.9823  -4.8546\n",
       "1011   Topic4    4.591380       anyway    5.315400   1.9788  -4.7799\n",
       "673    Topic4    4.591380  essentially    5.315400   1.9788  -4.7799\n",
       "115    Topic4    4.012301    brilliant    4.659388   1.9757  -4.9147\n",
       "588    Topic4    3.817790         hope    4.478628   1.9655  -4.9644\n",
       "61     Topic4    3.361356          guy    3.994719   1.9525  -5.0917\n",
       "702    Topic4    3.282723      variety    3.926016   1.9462  -5.1154\n",
       "672    Topic4    4.439099    reshuffle    5.335419   1.9413  -4.8136\n",
       "322    Topic4    3.161097        break    3.799747   1.9412  -5.1531\n",
       "569    Topic4    3.552318         fine    4.420858   1.9064  -5.0365\n",
       "\n",
       "[162 rows x 6 columns], token_table=      Topic      Freq          Term\n",
       "term                               \n",
       "1025      1  0.975508            ad\n",
       "845       3  0.946789           add\n",
       "335       3  0.961521        always\n",
       "235       3  0.975585       amazing\n",
       "764       3  0.830724       amenity\n",
       "647       3  0.898975       android\n",
       "1011      4  0.940663        anyway\n",
       "135       2  0.958750           app\n",
       "611       1  0.988923        artist\n",
       "816       3  0.786862         audio\n",
       "636       3  0.908443          away\n",
       "213       4  0.978738       awesome\n",
       "615       4  0.813828           bad\n",
       "921       1  0.989164            be\n",
       "633       3  0.934362          best\n",
       "322       4  0.789526         break\n",
       "115       4  0.858482     brilliant\n",
       "1002      4  0.943571           bug\n",
       "985       2  0.864352           buy\n",
       "200       1  0.985077           can\n",
       "38        3  0.764361        choice\n",
       "308       3  0.835301        choose\n",
       "418       3  0.750061    chromecast\n",
       "915       2  0.875513     classical\n",
       "668       2  0.953555          come\n",
       "855       3  0.859590     complaint\n",
       "881       3  0.908287      continue\n",
       "46        2  0.936642          cool\n",
       "837       2  0.861216           cut\n",
       "329       2  0.988383           day\n",
       "...     ...       ...           ...\n",
       "741       3  0.895423         sound\n",
       "1012      4  0.944143      soundful\n",
       "295       1  0.616742       spotify\n",
       "295       2  0.385463       spotify\n",
       "291       4  0.981619         still\n",
       "897       2  0.833907     streaming\n",
       "183       2  0.884473  subscription\n",
       "931       3  0.759159         super\n",
       "850       4  0.944143         sweet\n",
       "839       3  0.970360        tablet\n",
       "298       4  0.973135         thank\n",
       "411       1  0.976618         think\n",
       "812       3  0.930864           tho\n",
       "1085      1  0.839718          time\n",
       "1085      3  0.139953          time\n",
       "364       2  0.862632           try\n",
       "1062      4  0.924976        update\n",
       "149       1  0.991961           use\n",
       "832       3  0.878920        useful\n",
       "702       4  0.764133       variety\n",
       "76        4  0.862683         video\n",
       "210       1  0.985257          want\n",
       "810       2  0.940406          well\n",
       "1010      1  0.952228          wish\n",
       "192       2  0.958893          work\n",
       "27        2  0.928247         worth\n",
       "151       1  0.970239         would\n",
       "233       4  0.936916         write\n",
       "713       2  0.876390           yay\n",
       "357       1  0.963439          year\n",
       "\n",
       "[139 rows x 3 columns], R=30, lambda_step=0.01, plot_opts={'xlab': 'PC1', 'ylab': 'PC2'}, topic_order=[1, 4, 3, 2])"
      ]
     },
     "execution_count": 45,
     "metadata": {},
     "output_type": "execute_result"
    }
   ],
   "source": [
    "import warnings\n",
    "warnings.filterwarnings(\"ignore\",category=DeprecationWarning)\n",
    "# Visualize the topics\n",
    "pyLDAvis.enable_notebook()\n",
    "vis = pyLDAvis.gensim.prepare(lda_model, corpus, id2word)\n",
    "vis"
   ]
  },
  {
   "cell_type": "code",
   "execution_count": 23,
   "metadata": {
    "extensions": {
     "jupyter_dashboards": {
      "version": 1,
      "views": {
       "grid_default": {
        "col": 0,
        "height": 4,
        "hidden": false,
        "row": 87,
        "width": 12
       },
       "report_default": {
        "hidden": false
       }
      }
     }
    },
    "nbpresent": {
     "id": "9fb063b7-96ce-47c4-967b-95e0e3f8f3ad"
    }
   },
   "outputs": [
    {
     "name": "stdout",
     "output_type": "stream",
     "text": [
      "('\\nPerplexity: ', -6.318845249752648)\n",
      "('\\nCoherence Score: ', 0.4574147550313077)\n"
     ]
    }
   ],
   "source": [
    "# Compute Perplexity\n",
    "print('\\nPerplexity: ', lda_model.log_perplexity(corpus))  # a measure of how good the model is. lower the better.\n",
    "\n",
    "import warnings\n",
    "warnings.filterwarnings(\"ignore\",category=DeprecationWarning)\n",
    "# Compute Coherence Score\n",
    "coherence_model_lda = CoherenceModel(model=lda_model, texts=data_lemmatized, dictionary=id2word, coherence='c_v')\n",
    "coherence_lda = coherence_model_lda.get_coherence()\n",
    "print('\\nCoherence Score: ', coherence_lda)\n"
   ]
  },
  {
   "cell_type": "code",
   "execution_count": null,
   "metadata": {
    "extensions": {
     "jupyter_dashboards": {
      "version": 1,
      "views": {
       "grid_default": {
        "hidden": true
       },
       "report_default": {
        "hidden": true
       }
      }
     }
    },
    "nbpresent": {
     "id": "1ecd0d99-cbdd-426b-9d36-5395a684a8e2"
    }
   },
   "outputs": [],
   "source": []
  }
 ],
 "metadata": {
  "anaconda-cloud": {},
  "extensions": {
   "jupyter_dashboards": {
    "activeView": "report_default",
    "version": 1,
    "views": {
     "grid_default": {
      "cellMargin": 10,
      "defaultCellHeight": 20,
      "maxColumns": 12,
      "name": "grid",
      "type": "grid"
     },
     "report_default": {
      "name": "report",
      "type": "report"
     }
    }
   }
  },
  "kernelspec": {
   "display_name": "Python [default]",
   "language": "python",
   "name": "python2"
  },
  "language_info": {
   "codemirror_mode": {
    "name": "ipython",
    "version": 2
   },
   "file_extension": ".py",
   "mimetype": "text/x-python",
   "name": "python",
   "nbconvert_exporter": "python",
   "pygments_lexer": "ipython2",
   "version": "2.7.13"
  },
  "nbpresent": {
   "slides": {
    "06665074-5a34-42ac-8d7a-c636a04384c4": {
     "id": "06665074-5a34-42ac-8d7a-c636a04384c4",
     "prev": "e05eca8c-65f7-495d-85f9-26c4938e8e46",
     "regions": {
      "198347ca-8cc1-439d-8115-f214e2f48141": {
       "attrs": {
        "height": 0.8,
        "width": 0.8,
        "x": 0.1,
        "y": 0.1
       },
       "content": {
        "cell": "85bbe127-bdc5-4c87-aa2c-9481b83e07ac",
        "part": "whole"
       },
       "id": "198347ca-8cc1-439d-8115-f214e2f48141"
      }
     }
    },
    "108e302f-8485-4cec-b835-604fa062f571": {
     "id": "108e302f-8485-4cec-b835-604fa062f571",
     "prev": "95df674d-f368-4983-9e53-d1970f1cce20",
     "regions": {
      "ac564226-56f5-44d6-b747-dfca51b4594f": {
       "attrs": {
        "height": 0.8,
        "width": 0.8,
        "x": 0.1,
        "y": 0.1
       },
       "content": {
        "cell": "cf5dfef5-2131-4772-9755-633888a36089",
        "part": "whole"
       },
       "id": "ac564226-56f5-44d6-b747-dfca51b4594f"
      }
     }
    },
    "154cf516-f826-4775-95c7-24fab535f55f": {
     "id": "154cf516-f826-4775-95c7-24fab535f55f",
     "prev": "87b2b7f2-8060-4c2f-83b4-aa5bbe2c245d",
     "regions": {
      "bafde9b7-51c4-40cf-9f3b-f425a53c98a2": {
       "attrs": {
        "height": 0.8,
        "width": 0.8,
        "x": 0.1,
        "y": 0.1
       },
       "content": {
        "cell": "f0518271-cfbd-4fd9-a7e2-404a41d3083a",
        "part": "whole"
       },
       "id": "bafde9b7-51c4-40cf-9f3b-f425a53c98a2"
      }
     }
    },
    "173aeed9-cad1-417c-80ce-8548a41b73df": {
     "id": "173aeed9-cad1-417c-80ce-8548a41b73df",
     "prev": "25759c41-67af-4ee2-998d-667b10f6d3e3",
     "regions": {
      "0da81a50-eb42-4368-9b70-f6a3628c05c7": {
       "attrs": {
        "height": 0.8,
        "width": 0.8,
        "x": 0.1,
        "y": 0.1
       },
       "content": {
        "cell": "5aa33765-1a24-4ddb-98c9-2ede92aae97f",
        "part": "whole"
       },
       "id": "0da81a50-eb42-4368-9b70-f6a3628c05c7"
      }
     }
    },
    "25759c41-67af-4ee2-998d-667b10f6d3e3": {
     "id": "25759c41-67af-4ee2-998d-667b10f6d3e3",
     "prev": null,
     "regions": {
      "f025df98-fc47-4191-9189-7f39f915f0f7": {
       "attrs": {
        "height": 0.8,
        "width": 0.8,
        "x": 0.1,
        "y": 0.1
       },
       "content": {
        "cell": "24ca0b73-b287-45eb-8374-5f724ba0606a",
        "part": "whole"
       },
       "id": "f025df98-fc47-4191-9189-7f39f915f0f7"
      }
     }
    },
    "2bd78ed9-8eb4-4488-9b1a-048bc7ad49b6": {
     "id": "2bd78ed9-8eb4-4488-9b1a-048bc7ad49b6",
     "prev": "d9c31ac4-e98e-4025-adee-7d5b9ef0c380",
     "regions": {
      "1e7c2003-cff2-4fc3-b34a-8f38bedb0020": {
       "attrs": {
        "height": 0.8,
        "width": 0.8,
        "x": 0.1,
        "y": 0.1
       },
       "content": {
        "cell": "9b48686c-6083-48c3-a6c2-b5f05dfd4dc0",
        "part": "whole"
       },
       "id": "1e7c2003-cff2-4fc3-b34a-8f38bedb0020"
      }
     }
    },
    "46f0ae02-170e-4f94-9acb-986b9a626ae1": {
     "id": "46f0ae02-170e-4f94-9acb-986b9a626ae1",
     "prev": "108e302f-8485-4cec-b835-604fa062f571",
     "regions": {
      "2d34914e-db2b-4f9d-87b3-1ffdf5bd23fc": {
       "attrs": {
        "height": 0.8,
        "width": 0.8,
        "x": 0.1,
        "y": 0.1
       },
       "content": {
        "cell": "2b74f5ee-ab75-48b6-8254-fcf18cb1025a",
        "part": "whole"
       },
       "id": "2d34914e-db2b-4f9d-87b3-1ffdf5bd23fc"
      }
     }
    },
    "57dc2581-e052-4d9a-82f8-7b6121a09876": {
     "id": "57dc2581-e052-4d9a-82f8-7b6121a09876",
     "prev": "173aeed9-cad1-417c-80ce-8548a41b73df",
     "regions": {
      "c49aec27-417b-4250-aab5-f8182fb87ffa": {
       "attrs": {
        "height": 0.8,
        "width": 0.8,
        "x": 0.1,
        "y": 0.1
       },
       "content": {
        "cell": "94da91ee-dace-41a3-b461-3a350ed473a0",
        "part": "whole"
       },
       "id": "c49aec27-417b-4250-aab5-f8182fb87ffa"
      }
     }
    },
    "87b2b7f2-8060-4c2f-83b4-aa5bbe2c245d": {
     "id": "87b2b7f2-8060-4c2f-83b4-aa5bbe2c245d",
     "prev": "e2c9d68d-782a-4ce6-ad53-4ac7173bbcd2",
     "regions": {
      "e7c13fd8-b47e-42c4-881f-2539dfe1e48c": {
       "attrs": {
        "height": 0.8,
        "width": 0.8,
        "x": 0.1,
        "y": 0.1
       },
       "content": {
        "cell": "3d82c11d-fbb2-4c36-9e4d-be62db4cb92b",
        "part": "whole"
       },
       "id": "e7c13fd8-b47e-42c4-881f-2539dfe1e48c"
      }
     }
    },
    "88e2081a-297a-49ba-9880-718573ab2b8e": {
     "id": "88e2081a-297a-49ba-9880-718573ab2b8e",
     "prev": "c7df94b5-900e-4927-9275-b49240ea83a2",
     "regions": {
      "e25d684e-1a8d-47f1-beaf-2584acde1baa": {
       "attrs": {
        "height": 0.8,
        "width": 0.8,
        "x": 0.1,
        "y": 0.1
       },
       "content": {
        "cell": "1ecd0d99-cbdd-426b-9d36-5395a684a8e2",
        "part": "whole"
       },
       "id": "e25d684e-1a8d-47f1-beaf-2584acde1baa"
      }
     }
    },
    "95df674d-f368-4983-9e53-d1970f1cce20": {
     "id": "95df674d-f368-4983-9e53-d1970f1cce20",
     "prev": "d37df809-954a-4ed3-81a0-322cf204d5b5",
     "regions": {
      "15f185d5-9425-4459-aef2-001995ee1426": {
       "attrs": {
        "height": 0.8,
        "width": 0.8,
        "x": 0.1,
        "y": 0.1
       },
       "content": {
        "cell": "47c3cab3-d492-4696-bb2b-99dcb3a2765f",
        "part": "whole"
       },
       "id": "15f185d5-9425-4459-aef2-001995ee1426"
      }
     }
    },
    "c7df94b5-900e-4927-9275-b49240ea83a2": {
     "id": "c7df94b5-900e-4927-9275-b49240ea83a2",
     "prev": "cd64f496-c480-4558-b9ee-ba99c6aa38bf",
     "regions": {
      "486c377a-2f2d-4caa-ba3f-88d8a434115d": {
       "attrs": {
        "height": 0.8,
        "width": 0.8,
        "x": 0.1,
        "y": 0.1
       },
       "content": {
        "cell": "9fb063b7-96ce-47c4-967b-95e0e3f8f3ad",
        "part": "whole"
       },
       "id": "486c377a-2f2d-4caa-ba3f-88d8a434115d"
      }
     }
    },
    "cd64f496-c480-4558-b9ee-ba99c6aa38bf": {
     "id": "cd64f496-c480-4558-b9ee-ba99c6aa38bf",
     "prev": "f1072372-abd3-4925-bf9b-f2f9dfa4e186",
     "regions": {
      "7e5a3f1b-5195-49f6-8931-d8a6f3f55a99": {
       "attrs": {
        "height": 0.8,
        "width": 0.8,
        "x": 0.1,
        "y": 0.1
       },
       "content": {
        "cell": "7f7b4eb4-ee3f-4be3-a5bf-2a667752a485",
        "part": "whole"
       },
       "id": "7e5a3f1b-5195-49f6-8931-d8a6f3f55a99"
      }
     }
    },
    "d37df809-954a-4ed3-81a0-322cf204d5b5": {
     "id": "d37df809-954a-4ed3-81a0-322cf204d5b5",
     "prev": "154cf516-f826-4775-95c7-24fab535f55f",
     "regions": {
      "b168872e-9dad-413c-8186-17ca7bd5379c": {
       "attrs": {
        "height": 0.8,
        "width": 0.8,
        "x": 0.1,
        "y": 0.1
       },
       "content": {
        "cell": "8df769f7-c82a-4b8b-9ba3-130fe2f2631a",
        "part": "whole"
       },
       "id": "b168872e-9dad-413c-8186-17ca7bd5379c"
      }
     }
    },
    "d9c31ac4-e98e-4025-adee-7d5b9ef0c380": {
     "id": "d9c31ac4-e98e-4025-adee-7d5b9ef0c380",
     "prev": "06665074-5a34-42ac-8d7a-c636a04384c4",
     "regions": {
      "541e91d8-9608-433e-a86d-10dc3388d9aa": {
       "attrs": {
        "height": 0.8,
        "width": 0.8,
        "x": 0.1,
        "y": 0.1
       },
       "content": {
        "cell": "b3be3278-593e-43a8-9e04-6d245220e88d",
        "part": "whole"
       },
       "id": "541e91d8-9608-433e-a86d-10dc3388d9aa"
      }
     }
    },
    "dd2c77f5-0dea-4cf9-b96a-1b4352793adc": {
     "id": "dd2c77f5-0dea-4cf9-b96a-1b4352793adc",
     "prev": "57dc2581-e052-4d9a-82f8-7b6121a09876",
     "regions": {
      "bab925d7-be05-4b12-99d6-c1b55f7a1c2c": {
       "attrs": {
        "height": 0.8,
        "width": 0.8,
        "x": 0.1,
        "y": 0.1
       },
       "content": {
        "cell": "047266ac-41d6-4ff0-84d1-1eb7972541f9",
        "part": "whole"
       },
       "id": "bab925d7-be05-4b12-99d6-c1b55f7a1c2c"
      }
     }
    },
    "e05eca8c-65f7-495d-85f9-26c4938e8e46": {
     "id": "e05eca8c-65f7-495d-85f9-26c4938e8e46",
     "prev": "46f0ae02-170e-4f94-9acb-986b9a626ae1",
     "regions": {
      "3e14274e-76d5-4486-99dc-34cbc0e42cf1": {
       "attrs": {
        "height": 0.8,
        "width": 0.8,
        "x": 0.1,
        "y": 0.1
       },
       "content": {
        "cell": "7f1599be-b3fa-4ed4-b9fc-5695bd8e94e7",
        "part": "whole"
       },
       "id": "3e14274e-76d5-4486-99dc-34cbc0e42cf1"
      }
     }
    },
    "e2c9d68d-782a-4ce6-ad53-4ac7173bbcd2": {
     "id": "e2c9d68d-782a-4ce6-ad53-4ac7173bbcd2",
     "prev": "dd2c77f5-0dea-4cf9-b96a-1b4352793adc",
     "regions": {
      "2d16d21b-6568-4f2d-9aa1-4e2bf3d114a8": {
       "attrs": {
        "height": 0.8,
        "width": 0.8,
        "x": 0.1,
        "y": 0.1
       },
       "content": {
        "cell": "b3b79604-770f-43d4-b519-fbeb9a039a3c",
        "part": "whole"
       },
       "id": "2d16d21b-6568-4f2d-9aa1-4e2bf3d114a8"
      }
     }
    },
    "f1072372-abd3-4925-bf9b-f2f9dfa4e186": {
     "id": "f1072372-abd3-4925-bf9b-f2f9dfa4e186",
     "prev": "2bd78ed9-8eb4-4488-9b1a-048bc7ad49b6",
     "regions": {
      "8690c4f2-fde2-427a-bf3e-b930a1f604c7": {
       "attrs": {
        "height": 0.8,
        "width": 0.8,
        "x": 0.1,
        "y": 0.1
       },
       "content": {
        "cell": "8c9b52c5-579c-440c-b2cb-1761d743d214",
        "part": "whole"
       },
       "id": "8690c4f2-fde2-427a-bf3e-b930a1f604c7"
      }
     }
    }
   },
   "themes": {}
  }
 },
 "nbformat": 4,
 "nbformat_minor": 2
}
