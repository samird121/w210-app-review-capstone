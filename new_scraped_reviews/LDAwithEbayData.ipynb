{
 "cells": [
  {
   "cell_type": "code",
   "execution_count": 5,
   "metadata": {},
   "outputs": [
    {
     "name": "stdout",
     "output_type": "stream",
     "text": [
      "[nltk_data] Downloading package stopwords to\n",
      "[nltk_data]     /Users/yubozhang/nltk_data...\n",
      "[nltk_data]   Package stopwords is already up-to-date!\n"
     ]
    }
   ],
   "source": [
    "\n",
    "#useful: https://www.kdnuggets.com/2018/04/robust-word2vec-models-gensim.html\n",
    "\n",
    "import csv\n",
    "import nltk\n",
    "import re\n",
    "import numpy as np\n",
    "import datetime\n",
    "import time\n",
    "import gensim, logging\n",
    "import gensim\n",
    "import gensim.corpora as corpora\n",
    "import matplotlib.pyplot as plt\n",
    "from sklearn.preprocessing import StandardScaler\n",
    "from scipy.spatial.distance import cdist\n",
    "from scipy.spatial.distance import cosine\n",
    "from sklearn.cluster import KMeans\n",
    "from sklearn.decomposition import PCA\n",
    "from scipy.spatial import cKDTree\n",
    "from gensim.models import Word2Vec\n",
    "from nltk.tokenize import sent_tokenize\n",
    "from nltk.tokenize import word_tokenize\n",
    "from nltk.corpus import stopwords\n",
    "from nltk.stem.porter import PorterStemmer\n",
    "import spacy\n",
    "from scipy import sparse\n",
    "import nltk; nltk.download('stopwords')\n",
    "from nltk.corpus import stopwords\n",
    "stop_words = stopwords.words('english')\n",
    "stop_words.extend([u'like',u'ebay', u'message', u'seller', u'sell', u'see', u'website', u'site', u'new', u'star', u'customer', u'wish', u'paypal', u'ca', u'page', u'android', u'shop', u'way', u'ad', u'let', u'add', u'team', u'able',u'library', u'hear', u'thing', u'really', u'continue', u'job', u'everyday', u'basic', u'choice', u'lil', u'month', u'save', u'come', u'ever', u'guy', u'keep', u'wifi', u'sometimes', u'artist', u'selection', u'choose', u'always', u'nothing', u'tablet', u'range', u'know', u'follow', u'daily', u'overall', u'give', u'totally', u'life', u'anything', u'everything', u'never', u'spotify', u'think', u'also', u'many', u'stuff', u'second', u'could', u'try', u'still', u'must', u'need', u'away', u'day', u'bit', u'number', u'make',u'year', u'lot', u'time',u'buy', u'song', u'even', u'minute', u'phone', u'gemitin', u'basta', u'say', u'everyone', u'service', u'take', u'bottom', u'panget', u'otherwise', u'yet', u'put', u'much', u'far', u'thank',  u'-PRON-', u'go', u'play',u'app', u'from', u'subject', u're', u'edu', u'use',  u'album', u'get', u'would', u'already',u'xe',u'vez', u'include', u'litt', u'sort', u'dayu', u'nice', u'dont', u'i', u'want', u'that'])\n",
    "import warnings\n",
    "import pyLDAvis\n",
    "import pyLDAvis.gensim  # don't skip this"
   ]
  },
  {
   "cell_type": "code",
   "execution_count": 6,
   "metadata": {},
   "outputs": [],
   "source": [
    "with open('./android/ebay/total_info.txt') as f:\n",
    "    reader = csv.reader(f, delimiter=\"\\t\")\n",
    "    d = list(reader)\n",
    "\n",
    "ratings = []\n",
    "reviews = []\n",
    "titles = []\n",
    "dates = []\n",
    "versions = []\n",
    "\n",
    "for line in d:\n",
    "    vals = line[0].split(\"******\")\n",
    "    ratings.append(float(vals[0]))\n",
    "    reviews.append(vals[1])\n",
    "    dates.append(vals[2])\n",
    "    versions.append(vals[3])"
   ]
  },
  {
   "cell_type": "code",
   "execution_count": 7,
   "metadata": {},
   "outputs": [
    {
     "data": {
      "text/plain": [
       "35483"
      ]
     },
     "execution_count": 7,
     "metadata": {},
     "output_type": "execute_result"
    }
   ],
   "source": [
    "len(reviews)"
   ]
  },
  {
   "cell_type": "code",
   "execution_count": 8,
   "metadata": {},
   "outputs": [
    {
     "data": {
      "text/plain": [
       "['new app be so slow . shop be no longer fun . i wish i could go back to last version . hate .',\n",
       " 'i give my real email adress and i sit for a 1 2 hour try diffrent name .',\n",
       " 'be have trouble with the app so i uninstalled and reinstall . the reinstall version have lose most of the info i use ? the only thing improve on this version be the pic .',\n",
       " \"you do n't need an account to check thing out , but then you can convince your parent into make one and buy it .\",\n",
       " \"i use to have it on my tablet and i like it but something remove it and i do n't remove it now anytime i try to put it back on my tablet it wo n't install it download but it wo n't install i can not find anything wrong with my android installer i hope ebay read s this review and look into the problem the error message i get read s unknown error during install 24 .\",\n",
       " 'it good but there be no cash and cary option .',\n",
       " 'i love it , it really cool and i make a ton of money . thank a million , ebay !',\n",
       " 'so everything will be go swimmingly . then suddenly i ll get an error code which apparently android device be prone to get that effectively stop me bid on any more item . thank ebay , im better off just use the web page . or amazon .',\n",
       " 'great application . tell me there be internal error and to restart the app on my phone . never work . reinstall it . the same thing happen .',\n",
       " \"this app be useless . it do n't show half of the stuff that s on the website , i be delete this app and use the main site .\"]"
      ]
     },
     "execution_count": 8,
     "metadata": {},
     "output_type": "execute_result"
    }
   ],
   "source": [
    "reviews[0:10]"
   ]
  },
  {
   "cell_type": "code",
   "execution_count": 9,
   "metadata": {},
   "outputs": [],
   "source": [
    "def remove_stopwords(texts, stop_words):\n",
    "    corp=[]\n",
    "    for doc in texts:\n",
    "        fix_doc=[]\n",
    "        for word in doc:\n",
    "            if word not in stop_words:\n",
    "                fix_doc.append(word)\n",
    "        corp.append(fix_doc)\n",
    "    return corp\n",
    "def make_bigrams(texts):\n",
    "    return [bigram_mod[doc] for doc in texts]\n",
    "\n",
    "def make_trigrams(texts):\n",
    "    return [trigram_mod[bigram_mod[doc]] for doc in texts]\n",
    "\n",
    "def lemmatization(texts, allowed_postags=['NOUN', 'ADJ', 'VERB', 'ADV']):\n",
    "    \"\"\"https://spacy.io/api/annotation\"\"\"\n",
    "    texts_out = []\n",
    "    for sent in texts:\n",
    "        if sent != []:\n",
    "            doc = nlp(\" \".join(sent)) \n",
    "\n",
    "            texts_out.append([token.lemma_ for token in doc if token.pos_ in allowed_postags])\n",
    " \n",
    "    return texts_out\n",
    "def sent_to_words(sentences):\n",
    "        for sentence in sentences:\n",
    "            yield(gensim.utils.simple_preprocess(str([sentence]), deacc=True)) "
   ]
  },
  {
   "cell_type": "code",
   "execution_count": 19,
   "metadata": {},
   "outputs": [],
   "source": [
    "data_words = list(sent_to_words(reviews))"
   ]
  },
  {
   "cell_type": "code",
   "execution_count": 20,
   "metadata": {},
   "outputs": [],
   "source": [
    "pyLDAvis.save_html(vis, 'lda.html')"
   ]
  },
  {
   "cell_type": "code",
   "execution_count": 11,
   "metadata": {},
   "outputs": [
    {
     "name": "stderr",
     "output_type": "stream",
     "text": [
      "/Users/yubozhang/anaconda/lib/python2.7/site-packages/gensim/models/phrases.py:598: UserWarning: For a faster implementation, use the gensim.models.phrases.Phraser class\n",
      "  warnings.warn(\"For a faster implementation, use the gensim.models.phrases.Phraser class\")\n"
     ]
    }
   ],
   "source": [
    "# Build the bigram and trigram models\n",
    "bigram = gensim.models.Phrases(data_words, min_count=5, threshold=100) \n",
    "trigram = gensim.models.Phrases(bigram[data_words], threshold=100)  \n",
    "bigram_mod = gensim.models.phrases.Phraser(bigram)\n",
    "trigram_mod = gensim.models.phrases.Phraser(trigram)\n",
    "\n",
    "\n",
    "\n"
   ]
  },
  {
   "cell_type": "code",
   "execution_count": 12,
   "metadata": {},
   "outputs": [],
   "source": [
    "nlp = spacy.load('en', disable=['parser', 'ner'])\n",
    "data_lemmatized = lemmatization(data_words, allowed_postags=['NOUN', 'ADJ', 'VERB', 'ADV'])\n",
    "data_words_nostops = remove_stopwords(data_lemmatized, stop_words)\n",
    "data_words_bigrams = make_bigrams(data_words_nostops)\n",
    "\n",
    "data_lemmatized = data_words_bigrams"
   ]
  },
  {
   "cell_type": "code",
   "execution_count": 17,
   "metadata": {},
   "outputs": [],
   "source": [
    "# Create Dictionary\n",
    "id2word = corpora.Dictionary(data_lemmatized)\n",
    "\n",
    "# Create Corpus\n",
    "texts = data_lemmatized\n",
    "\n",
    "# Term Document Frequency\n",
    "corpus = [id2word.doc2bow(text) for text in texts]\n",
    "\n",
    "\n",
    "warnings.filterwarnings(\"ignore\",category=DeprecationWarning)\n",
    "\n",
    "# Build LDA model\n",
    "lda_model = gensim.models.ldamodel.LdaModel(corpus=corpus,\n",
    "                                           id2word=id2word,\n",
    "                                           num_topics=10, \n",
    "                                           random_state=100,\n",
    "                                           update_every=1,\n",
    "                                           chunksize=100,\n",
    "                                           passes=10,\n",
    "                                           alpha='auto',\n",
    "                                           per_word_topics=True)\n"
   ]
  },
  {
   "cell_type": "code",
   "execution_count": 18,
   "metadata": {},
   "outputs": [
    {
     "data": {
      "text/html": [
       "\n",
       "<link rel=\"stylesheet\" type=\"text/css\" href=\"https://cdn.rawgit.com/bmabey/pyLDAvis/files/ldavis.v1.0.0.css\">\n",
       "\n",
       "\n",
       "<div id=\"ldavis_el80071124075949605138225498\"></div>\n",
       "<script type=\"text/javascript\">\n",
       "\n",
       "var ldavis_el80071124075949605138225498_data = {\"plot.opts\": {\"xlab\": \"PC1\", \"ylab\": \"PC2\"}, \"topic.order\": [10, 7, 1, 6, 5, 2, 4, 8, 9, 3], \"token.table\": {\"Topic\": [2, 4, 4, 8, 7, 9, 4, 1, 5, 5, 6, 8, 1, 3, 8, 8, 4, 1, 9, 7, 2, 3, 8, 10, 7, 1, 6, 7, 5, 2, 4, 1, 2, 1, 8, 9, 2, 2, 3, 6, 5, 8, 10, 10, 4, 2, 10, 6, 3, 6, 5, 10, 4, 2, 8, 4, 8, 8, 2, 7, 10, 4, 7, 4, 6, 3, 10, 5, 2, 6, 10, 6, 3, 1, 7, 9, 8, 6, 9, 4, 10, 10, 5, 7, 5, 7, 4, 6, 1, 10, 8, 7, 4, 10, 10, 2, 5, 3, 7, 2, 4, 5, 10, 2, 2, 2, 8, 10, 7, 3, 3, 3, 8, 3, 5, 4, 1, 9, 1, 9, 4, 5, 6, 5, 7, 1, 4, 8, 2, 9, 7, 3, 8, 9, 7, 5, 9, 9, 4, 6, 6, 8, 9, 6, 4, 7, 2, 3, 6, 9, 2, 1, 4, 10, 2, 10, 5, 1, 5, 5, 1, 10, 3, 1, 3, 4, 7, 8, 9, 8, 2, 7, 1, 5, 7, 4, 3, 10, 1, 2, 5, 5, 7, 2, 5, 10, 9, 9, 9, 4, 1, 9, 9, 1, 9, 1, 2, 5, 3, 5, 3, 2, 10, 6, 9, 2, 3, 10, 6, 3, 4, 5, 9, 10, 4, 7, 6, 8, 8, 6, 10, 4, 10, 2, 10, 4, 6, 3, 6, 9, 7, 3, 2, 7, 7, 5, 4, 6, 3, 10, 7, 9, 8, 8, 8, 8, 1, 9, 4, 8, 9, 1, 7, 3, 1, 1, 2, 6, 7, 9, 1, 8, 5, 1, 3, 2, 1, 8, 10, 7, 9, 5, 1, 6, 9, 3, 6, 6, 5, 8, 3, 3, 10, 3, 2, 10, 3, 9, 4, 7, 6, 6, 7, 1, 7, 8, 6, 1, 4, 5, 5, 1, 3, 9, 8, 6], \"Freq\": [0.9964542388916016, 0.9970369935035706, 0.99887615442276, 0.999176561832428, 0.996863842010498, 0.9983488321304321, 0.9961793422698975, 0.9988702535629272, 0.9964885711669922, 0.9977743625640869, 0.9968119263648987, 0.9977000951766968, 0.9983634948730469, 0.9944620728492737, 0.9981862902641296, 0.9940890073776245, 0.9978246688842773, 0.9986199140548706, 0.9983853697776794, 0.9970592260360718, 0.9990906715393066, 0.9994531273841858, 0.9976475238800049, 0.9901055097579956, 0.9967530369758606, 0.9992085695266724, 0.9957699775695801, 0.9970306158065796, 0.9934573769569397, 0.9986028075218201, 0.9984850883483887, 0.9985519647598267, 0.9972795248031616, 0.9991329908370972, 0.9965084791183472, 0.9972701072692871, 0.9984923601150513, 0.995709240436554, 0.9996066689491272, 0.9955539107322693, 0.9928610324859619, 0.9982227087020874, 0.9963262677192688, 0.993703305721283, 0.9943010807037354, 0.9988475441932678, 0.9964115023612976, 0.9936494827270508, 0.9962584972381592, 0.9924632906913757, 0.9953415989875793, 0.9967384338378906, 0.9978686571121216, 0.9993085861206055, 0.994100034236908, 0.9966492652893066, 0.9997899532318115, 0.99473637342453, 0.9974183440208435, 0.9951095581054688, 0.9969555139541626, 0.9955191612243652, 0.9973439574241638, 0.9969020485877991, 0.9960233569145203, 0.998540461063385, 0.9919345378875732, 0.9956293106079102, 0.9968423843383789, 0.9955227971076965, 0.9922897219657898, 0.9980558156967163, 0.9926570653915405, 0.9988099932670593, 0.9984580874443054, 0.994477391242981, 0.9975707530975342, 0.9932087659835815, 0.9933567047119141, 0.9980113506317139, 0.9955892562866211, 0.9909147024154663, 0.9964391589164734, 0.995516300201416, 0.9998512268066406, 0.9970336556434631, 0.996687114238739, 0.997762143611908, 0.9982953667640686, 0.9941650032997131, 0.9987896084785461, 0.9951857328414917, 0.9997592568397522, 0.9916051626205444, 0.9944896697998047, 0.9964815378189087, 0.9937447309494019, 0.9910997152328491, 0.9946483969688416, 0.9983311891555786, 0.9943125247955322, 0.997890293598175, 0.9901127815246582, 0.9996045827865601, 0.9981928467750549, 0.998999297618866, 0.9922129511833191, 0.9897361397743225, 0.9995545148849487, 0.998993456363678, 0.9977742433547974, 0.9997646808624268, 0.9908213019371033, 0.9933279752731323, 0.9949953556060791, 0.9978856444358826, 0.9985020756721497, 0.9992544054985046, 0.9987585544586182, 0.9972919821739197, 0.9985289573669434, 0.9963017702102661, 0.999748945236206, 0.9998676180839539, 0.9963646531105042, 0.9989008903503418, 0.9982646703720093, 0.998911440372467, 0.9981332421302795, 0.9959931969642639, 0.9971458315849304, 0.9972162246704102, 0.9959439039230347, 0.9961868524551392, 0.9984341859817505, 0.995540201663971, 0.9905148148536682, 0.9971317648887634, 0.9975004196166992, 0.9962987899780273, 0.9936318397521973, 0.9986940622329712, 0.9979513883590698, 0.9924443960189819, 0.9972246885299683, 0.999349057674408, 0.9999464154243469, 0.9921223521232605, 0.9968329668045044, 0.9970094561576843, 0.9973297119140625, 0.999323308467865, 0.999114990234375, 0.9876201748847961, 0.9991334080696106, 0.9979913830757141, 0.9975086450576782, 0.999704897403717, 0.9982973337173462, 0.9972904920578003, 0.9993295073509216, 0.9979720115661621, 0.9959492087364197, 0.009048442356288433, 0.018096884712576866, 0.9591349363327026, 0.006032295059412718, 0.003016147529706359, 0.003016147529706359, 0.9966855049133301, 0.9979239106178284, 0.9991345405578613, 0.9995173811912537, 0.9997762441635132, 0.9931562542915344, 0.9958808422088623, 0.9947128295898438, 0.9825630187988281, 0.9990367889404297, 0.99908846616745, 0.9989888072013855, 0.995317816734314, 0.9960792064666748, 0.998271107673645, 0.9962465167045593, 0.9930686950683594, 0.999782383441925, 0.9938663244247437, 0.9956527352333069, 0.9991468191146851, 0.9993389248847961, 0.9981881380081177, 0.9970198273658752, 0.9976310729980469, 0.9973146319389343, 0.9989667534828186, 0.9994444251060486, 0.9981588125228882, 0.9934003949165344, 0.998798668384552, 0.9965699911117554, 0.9992256164550781, 0.9980984330177307, 0.9989944696426392, 0.9977375268936157, 0.9990951418876648, 0.9971840977668762, 0.9982014894485474, 0.9987819790840149, 0.9975368976593018, 0.9957515001296997, 0.9966914653778076, 0.9919704794883728, 0.997592568397522, 0.998859167098999, 0.9988764524459839, 0.9964375495910645, 0.9995744824409485, 0.9934017062187195, 0.9978922605514526, 0.9956248998641968, 0.9977221488952637, 0.9914405941963196, 0.9991447329521179, 0.9954909086227417, 0.9967154264450073, 0.9989292621612549, 0.9957923889160156, 0.9973892569541931, 0.9964411854743958, 0.9985837936401367, 0.9953125715255737, 0.9978227019309998, 0.997989296913147, 0.9970966577529907, 0.994964063167572, 0.9984654188156128, 0.9967607855796814, 0.9986300468444824, 0.9898074865341187, 0.9973524808883667, 0.9972103834152222, 0.9973469972610474, 0.9922019839286804, 0.9895625710487366, 0.9893187284469604, 0.9986004829406738, 0.9963825941085815, 0.9956267476081848, 0.9937227368354797, 0.9967310428619385, 0.9992415904998779, 0.9959248900413513, 0.9987045526504517, 0.9987267255783081, 0.9998332262039185, 0.9971729516983032, 0.9980172514915466, 0.9965519309043884, 0.9993661046028137, 0.9981576800346375, 0.9941068291664124, 0.998706579208374, 0.9993124604225159, 0.9973096251487732, 0.9981061816215515, 0.9985898733139038, 0.9890819787979126, 0.9983605146408081, 0.9986705780029297, 0.9926336407661438, 0.992933452129364, 0.9991129040718079, 0.9975447058677673, 0.9935323596000671, 0.9984757304191589, 0.9957171678543091, 0.9983901381492615, 0.9975475072860718, 0.9977504014968872, 0.9991952776908875, 0.9977187514305115, 0.9989054799079895, 0.9975802302360535, 0.9988216757774353, 0.9894477128982544, 0.9982659816741943, 0.9964696764945984, 0.9998528957366943, 0.9984580278396606, 0.9979389905929565, 0.9955237507820129, 0.9931648373603821, 0.9991763830184937, 0.9994194507598877, 0.9975799918174744, 0.996717631816864, 0.9993813633918762, 0.9990025162696838, 0.9942944049835205, 0.9993560910224915, 0.9993806481361389, 0.9997885227203369, 0.9939227104187012, 0.9952090978622437, 0.9975008368492126], \"Term\": [\"ability\", \"absolutely\", \"access\", \"account\", \"actually\", \"ago\", \"alert\", \"allow\", \"almost\", \"alot\", \"amaze\", \"amazon\", \"annoy\", \"appear\", \"application\", \"area\", \"asap\", \"auction\", \"available\", \"awesome\", \"back\", \"bad\", \"bar\", \"basically\", \"better\", \"bid\", \"big\", \"box\", \"brilliant\", \"browse\", \"browser\", \"bug\", \"button\", \"buyer\", \"car\", \"care\", \"cart\", \"case\", \"change\", \"charge\", \"cheap\", \"check\", \"classic\", \"clean\", \"clear\", \"click\", \"close\", \"collection\", \"combine\", \"company\", \"compare\", \"complaint\", \"completely\", \"computer\", \"condition\", \"connect\", \"connection\", \"constant\", \"constantly\", \"contact\", \"convenient\", \"copy\", \"country\", \"couple\", \"crap\", \"crash\", \"create\", \"date\", \"deal\", \"definitely\", \"deliver\", \"description\", \"design\", \"desktop\", \"detail\", \"developer\", \"device\", \"different\", \"disappoint\", \"display\", \"download\", \"drive\", \"ease\", \"easily\", \"easy\", \"edit\", \"else\", \"email\", \"end\", \"enjoy\", \"enough\", \"enter\", \"error\", \"especially\", \"everytime\", \"excellent\", \"experience\", \"expire\", \"extremely\", \"fail\", \"fantastic\", \"fast\", \"faster\", \"feature\", \"fee\", \"feedback\", \"figure\", \"finally\", \"find\", \"fine\", \"first\", \"fix\", \"flaw\", \"forever\", \"free\", \"freeze\", \"frustrate\", \"full\", \"function\", \"functionality\", \"galaxy\", \"glitch\", \"good\", \"great\", \"handy\", \"happen\", \"hard\", \"help\", \"history\", \"home\", \"hope\", \"however\", \"htc\", \"idea\", \"image\", \"improvement\", \"inbox\", \"information\", \"instal\", \"instead\", \"interface\", \"internet\", \"invoice\", \"ipad\", \"iphone\", \"issue\", \"item\", \"keyboard\", \"label\", \"lack\", \"laptop\", \"last\", \"late\", \"later\", \"leave\", \"less\", \"limit\", \"list\", \"little\", \"live\", \"load\", \"log\", \"login\", \"lollipop\", \"lollipop\", \"lollipop\", \"lollipop\", \"lollipop\", \"lollipop\", \"long\", \"longer\", \"look\", \"lose\", \"love\", \"low\", \"major\", \"maybe\", \"method\", \"miss\", \"mobile\", \"money\", \"motor\", \"move\", \"multiple\", \"navigate\", \"negative\", \"network\", \"next\", \"nexus\", \"note\", \"notification\", \"offer\", \"ok\", \"old\", \"one\", \"open\", \"option\", \"order\", \"package\", \"part\", \"password\", \"pay\", \"payment\", \"pc\", \"people\", \"perfect\", \"perfectly\", \"photo\", \"picture\", \"place\", \"poor\", \"pop\", \"possible\", \"post\", \"pretty\", \"price\", \"print\", \"problem\", \"process\", \"product\", \"proper\", \"properly\", \"provide\", \"purchase\", \"push\", \"quality\", \"quick\", \"quickly\", \"quite\", \"rat\", \"read\", \"reason\", \"receive\", \"recent\", \"recently\", \"recommend\", \"refresh\", \"refund\", \"reinstall\", \"remember\", \"remove\", \"reply\", \"report\", \"request\", \"resolve\", \"response\", \"result\", \"review\", \"ridiculous\", \"rubbish\", \"run\", \"sale\", \"samsung\", \"screen\", \"scroll\", \"search\", \"section\", \"seem\", \"select\", \"send\", \"set\", \"shame\", \"ship\", \"show\", \"sign\", \"similar\", \"simple\", \"single\", \"slow\", \"something\", \"sound\", \"spend\", \"start\", \"stay\", \"stick\", \"stop\", \"store\", \"suck\", \"support\", \"sure\", \"tell\", \"top\", \"track\", \"transaction\", \"unable\", \"understand\", \"uninstall\", \"unusable\", \"update\", \"upload\", \"user\", \"user_friendly\", \"vehicle\", \"version\", \"view\", \"wait\", \"waste\", \"watch\", \"web\", \"week\", \"well\", \"wo\", \"work\", \"worth\", \"wrong\", \"zoom\"]}, \"mdsDat\": {\"y\": [0.07816223629267967, -0.4366190756477873, 0.03394282838444267, 0.0561448999019533, 0.04368921882873713, 0.03942565240240892, 0.043299680038756665, 0.05044662601187766, 0.05089211587144521, 0.040615817915486345], \"cluster\": [1, 1, 1, 1, 1, 1, 1, 1, 1, 1], \"Freq\": [20.06505584716797, 14.91497802734375, 10.498383522033691, 9.711153984069824, 9.519139289855957, 8.25568962097168, 8.158638000488281, 7.129100799560547, 6.80258846282959, 4.94527530670166], \"topics\": [1, 2, 3, 4, 5, 6, 7, 8, 9, 10], \"x\": [0.4382734783078297, 0.030124512694231883, -0.05087773705075988, -0.056575465648816534, -0.025382297589879088, -0.06871202827264478, -0.05530405374709705, -0.06838026980803154, -0.07037352175153133, -0.07279261713330133]}, \"R\": 30, \"lambda.step\": 0.01, \"tinfo\": {\"Category\": [\"Default\", \"Default\", \"Default\", \"Default\", \"Default\", \"Default\", \"Default\", \"Default\", \"Default\", \"Default\", \"Default\", \"Default\", \"Default\", \"Default\", \"Default\", \"Default\", \"Default\", \"Default\", \"Default\", \"Default\", \"Default\", \"Default\", \"Default\", \"Default\", \"Default\", \"Default\", \"Default\", \"Default\", \"Default\", \"Default\", \"Topic1\", \"Topic1\", \"Topic1\", \"Topic1\", \"Topic1\", \"Topic1\", \"Topic1\", \"Topic1\", \"Topic1\", \"Topic1\", \"Topic1\", \"Topic1\", \"Topic1\", \"Topic1\", \"Topic1\", \"Topic1\", \"Topic1\", \"Topic1\", \"Topic1\", \"Topic1\", \"Topic1\", \"Topic1\", \"Topic1\", \"Topic1\", \"Topic1\", \"Topic1\", \"Topic1\", \"Topic1\", \"Topic1\", \"Topic1\", \"Topic2\", \"Topic2\", \"Topic2\", \"Topic2\", \"Topic2\", \"Topic2\", \"Topic2\", \"Topic2\", \"Topic2\", \"Topic2\", \"Topic2\", \"Topic2\", \"Topic2\", \"Topic2\", \"Topic2\", \"Topic2\", \"Topic2\", \"Topic2\", \"Topic2\", \"Topic2\", \"Topic2\", \"Topic2\", \"Topic2\", \"Topic2\", \"Topic2\", \"Topic2\", \"Topic2\", \"Topic2\", \"Topic2\", \"Topic2\", \"Topic3\", \"Topic3\", \"Topic3\", \"Topic3\", \"Topic3\", \"Topic3\", \"Topic3\", \"Topic3\", \"Topic3\", \"Topic3\", \"Topic3\", \"Topic3\", \"Topic3\", \"Topic3\", \"Topic3\", \"Topic3\", \"Topic3\", \"Topic3\", \"Topic3\", \"Topic3\", \"Topic3\", \"Topic3\", \"Topic3\", \"Topic3\", \"Topic3\", \"Topic3\", \"Topic3\", \"Topic3\", \"Topic3\", \"Topic3\", \"Topic4\", \"Topic4\", \"Topic4\", \"Topic4\", \"Topic4\", \"Topic4\", \"Topic4\", \"Topic4\", \"Topic4\", \"Topic4\", \"Topic4\", \"Topic4\", \"Topic4\", \"Topic4\", \"Topic4\", \"Topic4\", \"Topic4\", \"Topic4\", \"Topic4\", \"Topic4\", \"Topic4\", \"Topic4\", \"Topic4\", \"Topic4\", \"Topic4\", \"Topic4\", \"Topic4\", \"Topic4\", \"Topic4\", \"Topic4\", \"Topic4\", \"Topic5\", \"Topic5\", \"Topic5\", \"Topic5\", \"Topic5\", \"Topic5\", \"Topic5\", \"Topic5\", \"Topic5\", \"Topic5\", \"Topic5\", \"Topic5\", \"Topic5\", \"Topic5\", \"Topic5\", \"Topic5\", \"Topic5\", \"Topic5\", \"Topic5\", \"Topic5\", \"Topic5\", \"Topic5\", \"Topic5\", \"Topic5\", \"Topic5\", \"Topic5\", \"Topic5\", \"Topic5\", \"Topic5\", \"Topic5\", \"Topic6\", \"Topic6\", \"Topic6\", \"Topic6\", \"Topic6\", \"Topic6\", \"Topic6\", \"Topic6\", \"Topic6\", \"Topic6\", \"Topic6\", \"Topic6\", \"Topic6\", \"Topic6\", \"Topic6\", \"Topic6\", \"Topic6\", \"Topic6\", \"Topic6\", \"Topic6\", \"Topic6\", \"Topic6\", \"Topic6\", \"Topic6\", \"Topic6\", \"Topic6\", \"Topic6\", \"Topic6\", \"Topic6\", \"Topic6\", \"Topic7\", \"Topic7\", \"Topic7\", \"Topic7\", \"Topic7\", \"Topic7\", \"Topic7\", \"Topic7\", \"Topic7\", \"Topic7\", \"Topic7\", \"Topic7\", \"Topic7\", \"Topic7\", \"Topic7\", \"Topic7\", \"Topic7\", \"Topic7\", \"Topic7\", \"Topic7\", \"Topic7\", \"Topic7\", \"Topic7\", \"Topic7\", \"Topic7\", \"Topic7\", \"Topic7\", \"Topic7\", \"Topic7\", \"Topic7\", \"Topic8\", \"Topic8\", \"Topic8\", \"Topic8\", \"Topic8\", \"Topic8\", \"Topic8\", \"Topic8\", \"Topic8\", \"Topic8\", \"Topic8\", \"Topic8\", \"Topic8\", \"Topic8\", \"Topic8\", \"Topic8\", \"Topic8\", \"Topic8\", \"Topic8\", \"Topic8\", \"Topic8\", \"Topic8\", \"Topic8\", \"Topic8\", \"Topic8\", \"Topic8\", \"Topic8\", \"Topic8\", \"Topic8\", \"Topic8\", \"Topic9\", \"Topic9\", \"Topic9\", \"Topic9\", \"Topic9\", \"Topic9\", \"Topic9\", \"Topic9\", \"Topic9\", \"Topic9\", \"Topic9\", \"Topic9\", \"Topic9\", \"Topic9\", \"Topic9\", \"Topic9\", \"Topic9\", \"Topic9\", \"Topic9\", \"Topic9\", \"Topic9\", \"Topic9\", \"Topic9\", \"Topic9\", \"Topic9\", \"Topic9\", \"Topic9\", \"Topic9\", \"Topic9\", \"Topic9\", \"Topic10\", \"Topic10\", \"Topic10\", \"Topic10\", \"Topic10\", \"Topic10\", \"Topic10\", \"Topic10\", \"Topic10\", \"Topic10\", \"Topic10\", \"Topic10\", \"Topic10\", \"Topic10\", \"Topic10\", \"Topic10\", \"Topic10\", \"Topic10\", \"Topic10\", \"Topic10\", \"Topic10\", \"Topic10\", \"Topic10\", \"Topic10\", \"Topic10\", \"Topic10\", \"Topic10\", \"Topic10\", \"Topic10\", \"Topic10\"], \"Term\": [\"item\", \"update\", \"work\", \"good\", \"fix\", \"easy\", \"great\", \"problem\", \"love\", \"search\", \"connection\", \"network\", \"find\", \"list\", \"issue\", \"error\", \"option\", \"look\", \"notification\", \"track\", \"mobile\", \"purchase\", \"fine\", \"back\", \"picture\", \"view\", \"feature\", \"version\", \"bid\", \"send\", \"search\", \"list\", \"notification\", \"version\", \"bid\", \"show\", \"last\", \"open\", \"lose\", \"watch\", \"miss\", \"load\", \"sale\", \"scroll\", \"desktop\", \"wo\", \"buyer\", \"end\", \"bug\", \"set\", \"annoy\", \"auction\", \"simple\", \"old\", \"result\", \"function\", \"allow\", \"start\", \"happen\", \"frustrate\", \"item\", \"option\", \"mobile\", \"purchase\", \"back\", \"feature\", \"pay\", \"computer\", \"feedback\", \"leave\", \"unable\", \"click\", \"multiple\", \"perfect\", \"fee\", \"receive\", \"longer\", \"similar\", \"cart\", \"laptop\", \"button\", \"history\", \"browse\", \"deal\", \"section\", \"ability\", \"constantly\", \"excellent\", \"case\", \"fail\", \"work\", \"fix\", \"fine\", \"change\", \"bad\", \"crash\", \"tell\", \"stop\", \"screen\", \"first\", \"reinstall\", \"sign\", \"uninstall\", \"place\", \"however\", \"perfectly\", \"top\", \"transaction\", \"reason\", \"appear\", \"maybe\", \"combine\", \"quickly\", \"package\", \"login\", \"password\", \"design\", \"expire\", \"forever\", \"keyboard\", \"update\", \"error\", \"late\", \"web\", \"access\", \"note\", \"browser\", \"pretty\", \"display\", \"freeze\", \"asap\", \"connect\", \"else\", \"refresh\", \"galaxy\", \"couple\", \"iphone\", \"absolutely\", \"hard\", \"poor\", \"alert\", \"properly\", \"completely\", \"ridiculous\", \"instal\", \"major\", \"clear\", \"copy\", \"quality\", \"fantastic\", \"lollipop\", \"easy\", \"great\", \"love\", \"ship\", \"well\", \"money\", \"order\", \"part\", \"fast\", \"navigate\", \"little\", \"support\", \"almost\", \"improvement\", \"motor\", \"compare\", \"pop\", \"alot\", \"limit\", \"glitch\", \"week\", \"experience\", \"free\", \"date\", \"cheap\", \"live\", \"recommend\", \"brilliant\", \"ease\", \"spend\", \"good\", \"picture\", \"pc\", \"description\", \"quick\", \"seem\", \"product\", \"user\", \"instead\", \"email\", \"suck\", \"store\", \"big\", \"user_friendly\", \"charge\", \"quite\", \"amaze\", \"zoom\", \"interface\", \"refund\", \"different\", \"waste\", \"stay\", \"crap\", \"ipad\", \"print\", \"label\", \"collection\", \"company\", \"definitely\", \"find\", \"issue\", \"look\", \"view\", \"read\", \"something\", \"price\", \"upload\", \"awesome\", \"recent\", \"image\", \"select\", \"edit\", \"remove\", \"handy\", \"detail\", \"better\", \"move\", \"recently\", \"contact\", \"actually\", \"samsung\", \"easily\", \"hope\", \"enter\", \"low\", \"vehicle\", \"country\", \"box\", \"extremely\", \"problem\", \"connection\", \"check\", \"account\", \"help\", \"application\", \"internet\", \"enough\", \"long\", \"car\", \"device\", \"wait\", \"bar\", \"wrong\", \"sure\", \"amazon\", \"report\", \"rubbish\", \"area\", \"htc\", \"process\", \"figure\", \"constant\", \"shame\", \"request\", \"flaw\", \"resolve\", \"condition\", \"response\", \"single\", \"network\", \"send\", \"full\", \"people\", \"available\", \"offer\", \"invoice\", \"run\", \"information\", \"one\", \"review\", \"functionality\", \"rat\", \"home\", \"ago\", \"unusable\", \"ok\", \"lack\", \"next\", \"developer\", \"idea\", \"care\", \"disappoint\", \"possible\", \"nexus\", \"stick\", \"reply\", \"sound\", \"worth\", \"inbox\", \"track\", \"slow\", \"photo\", \"log\", \"post\", \"payment\", \"less\", \"convenient\", \"close\", \"everytime\", \"download\", \"classic\", \"enjoy\", \"especially\", \"complaint\", \"provide\", \"create\", \"deliver\", \"negative\", \"remember\", \"faster\", \"proper\", \"drive\", \"push\", \"later\", \"basically\", \"finally\", \"understand\", \"clean\", \"method\"], \"loglift\": [30.0, 29.0, 28.0, 27.0, 26.0, 25.0, 24.0, 23.0, 22.0, 21.0, 20.0, 19.0, 18.0, 17.0, 16.0, 15.0, 14.0, 13.0, 12.0, 11.0, 10.0, 9.0, 8.0, 7.0, 6.0, 5.0, 4.0, 3.0, 2.0, 1.0, 1.6059999465942383, 1.6059000492095947, 1.6057000160217285, 1.6055999994277954, 1.6055999994277954, 1.6055999994277954, 1.6054999828338623, 1.6053999662399292, 1.605299949645996, 1.605299949645996, 1.605299949645996, 1.605299949645996, 1.6052000522613525, 1.6051000356674194, 1.6051000356674194, 1.6050000190734863, 1.6050000190734863, 1.6050000190734863, 1.6050000190734863, 1.6047999858856201, 1.6047999858856201, 1.604699969291687, 1.604599952697754, 1.604599952697754, 1.604599952697754, 1.6045000553131104, 1.6045000553131104, 1.6043000221252441, 1.6043000221252441, 1.6043000221252441, 1.9026999473571777, 1.902400016784668, 1.9021999835968018, 1.9021999835968018, 1.9021999835968018, 1.9021999835968018, 1.9020999670028687, 1.901900053024292, 1.9017000198364258, 1.9016000032424927, 1.9013999700546265, 1.9013999700546265, 1.9012999534606934, 1.9012999534606934, 1.9012000560760498, 1.9012000560760498, 1.9010000228881836, 1.9009000062942505, 1.9009000062942505, 1.9007999897003174, 1.9005999565124512, 1.9005000591278076, 1.9004000425338745, 1.9003000259399414, 1.9002000093460083, 1.9002000093460083, 1.899999976158142, 1.8997999429702759, 1.8997000455856323, 1.8996000289916992, 2.2537999153137207, 2.2537999153137207, 2.253200054168701, 2.253200054168701, 2.253000020980835, 2.2528998851776123, 2.252700090408325, 2.2525999546051025, 2.2523999214172363, 2.2523999214172363, 2.2520999908447266, 2.252000093460083, 2.251499891281128, 2.2513999938964844, 2.2511000633239746, 2.2507998943328857, 2.250699996948242, 2.250499963760376, 2.250499963760376, 2.250200033187866, 2.2499001026153564, 2.249799966812134, 2.2497000694274902, 2.2495999336242676, 2.249500036239624, 2.249300003051758, 2.248500108718872, 2.2476999759674072, 2.2474000453948975, 2.2472000122070312, 2.3317999839782715, 2.331399917602539, 2.3308000564575195, 2.330699920654297, 2.330699920654297, 2.330399990081787, 2.3303000926971436, 2.3301000595092773, 2.329900026321411, 2.3297998905181885, 2.329699993133545, 2.3296000957489014, 2.3290998935699463, 2.328900098800659, 2.3287999629974365, 2.3287999629974365, 2.3287999629974365, 2.328700065612793, 2.328700065612793, 2.3285999298095703, 2.3285000324249268, 2.328200101852417, 2.328000068664551, 2.3273000717163086, 2.327199935913086, 2.327199935913086, 2.3271000385284424, 2.32669997215271, 2.32669997215271, 2.3266000747680664, 2.2887001037597656, 2.351599931716919, 2.351599931716919, 2.351599931716919, 2.3508999347686768, 2.3506999015808105, 2.350600004196167, 2.350399971008301, 2.3503000736236572, 2.350100040435791, 2.349400043487549, 2.3489999771118164, 2.348900079727173, 2.3487000465393066, 2.3487000465393066, 2.348400115966797, 2.348099946975708, 2.3480000495910645, 2.3480000495910645, 2.3480000495910645, 2.3478000164031982, 2.347399950027466, 2.347399950027466, 2.347100019454956, 2.3469998836517334, 2.3468000888824463, 2.3466999530792236, 2.346400022506714, 2.3457000255584717, 2.3454999923706055, 2.3454999923706055, 2.4941000938415527, 2.4934000968933105, 2.4930999279022217, 2.4928998947143555, 2.4927000999450684, 2.4925999641418457, 2.492500066757202, 2.492300033569336, 2.4916000366210938, 2.4914000034332275, 2.4914000034332275, 2.491300106048584, 2.490999937057495, 2.4909000396728516, 2.4909000396728516, 2.490299940109253, 2.4902000427246094, 2.4895999431610107, 2.4895999431610107, 2.4893999099731445, 2.489300012588501, 2.4892001152038574, 2.4892001152038574, 2.4892001152038574, 2.489000082015991, 2.489000082015991, 2.488600015640259, 2.4883999824523926, 2.4883999824523926, 2.4881999492645264, 2.50570011138916, 2.5055999755859375, 2.5053999423980713, 2.505199909210205, 2.505199909210205, 2.5051000118255615, 2.5048000812530518, 2.504199981689453, 2.5041000843048096, 2.503999948501587, 2.5037999153137207, 2.5037999153137207, 2.503700017929077, 2.503499984741211, 2.503499984741211, 2.5034000873565674, 2.503000020980835, 2.502700090408325, 2.5023999214172363, 2.5023000240325928, 2.50219988822937, 2.501699924468994, 2.5016000270843506, 2.5016000270843506, 2.501499891281128, 2.501300096511841, 2.500699996948242, 2.500699996948242, 2.500499963760376, 2.499000072479248, 2.640700101852417, 2.6405999660491943, 2.6398000717163086, 2.639699935913086, 2.639699935913086, 2.639400005340576, 2.6389999389648438, 2.638700008392334, 2.638700008392334, 2.6384999752044678, 2.6384999752044678, 2.6382999420166016, 2.638200044631958, 2.6377999782562256, 2.6375999450683594, 2.637399911880493, 2.63700008392334, 2.636699914932251, 2.6366000175476074, 2.636399984359741, 2.6363000869750977, 2.6356000900268555, 2.6345999240875244, 2.634500026702881, 2.634500026702881, 2.6342999935150146, 2.634000062942505, 2.634000062942505, 2.6338999271392822, 2.6335999965667725, 2.6874001026153564, 2.6868999004364014, 2.6865999698638916, 2.686300039291382, 2.685800075531006, 2.685800075531006, 2.685699939727783, 2.685699939727783, 2.6854000091552734, 2.6854000091552734, 2.6851000785827637, 2.6849000453948975, 2.684799909591675, 2.6847000122070312, 2.684499979019165, 2.684499979019165, 2.6842000484466553, 2.6842000484466553, 2.683500051498413, 2.6830999851226807, 2.682800054550171, 2.6826999187469482, 2.6826000213623047, 2.6823999881744385, 2.6821000576019287, 2.681999921798706, 2.681999921798706, 2.6819000244140625, 2.6812000274658203, 2.6812000274658203, 3.0058000087738037, 3.005500078201294, 3.005500078201294, 3.0053000450134277, 3.0046000480651855, 3.0046000480651855, 3.0041000843048096, 3.003999948501587, 3.0032999515533447, 3.0023000240325928, 3.00219988822937, 3.0020999908447266, 3.002000093460083, 3.0011000633239746, 3.0009000301361084, 3.000499963760376, 3.000499963760376, 3.0004000663757324, 3.0000998973846436, 2.9999001026153564, 2.9995999336242676, 2.9993999004364014, 2.9990999698638916, 2.9986000061035156, 2.998199939727783, 2.997499942779541, 2.9967000484466553, 2.9958999156951904, 2.995300054550171, 2.9951999187469482], \"Freq\": [8871.0, 6951.0, 6259.0, 4961.0, 5042.0, 4214.0, 4073.0, 3001.0, 3252.0, 3974.0, 2373.0, 2174.0, 2298.0, 3553.0, 1967.0, 1932.0, 2284.0, 1388.0, 2087.0, 1051.0, 1556.0, 1531.0, 1270.0, 1504.0, 1138.0, 1131.0, 1473.0, 1746.0, 1729.0, 992.0, 3973.709228515625, 3552.094970703125, 2086.42626953125, 1745.485107421875, 1728.41552734375, 1625.164794921875, 1479.0482177734375, 1268.3580322265625, 1125.590576171875, 1100.728271484375, 1044.053466796875, 1041.745849609375, 997.8040771484375, 851.1314086914062, 844.0521240234375, 834.5640869140625, 817.7564697265625, 794.4024047851562, 783.1820678710938, 687.3146362304688, 676.1547241210938, 660.960205078125, 617.9193115234375, 607.4879760742188, 597.8847045898438, 579.767578125, 557.6776733398438, 516.5056762695312, 506.6044921875, 493.7877502441406, 8870.5224609375, 2283.318359375, 1555.4683837890625, 1530.359375, 1503.4176025390625, 1472.63232421875, 1386.123779296875, 1107.8162841796875, 893.9450073242188, 770.7182006835938, 660.8292236328125, 653.8040771484375, 650.1752319335938, 618.610107421875, 600.1357421875, 578.3107299804688, 527.1458740234375, 511.0191955566406, 508.81817626953125, 474.3186340332031, 429.2198791503906, 403.80517578125, 397.6064147949219, 379.2501220703125, 371.1012268066406, 370.3661193847656, 335.91937255859375, 320.1794738769531, 303.3552551269531, 297.54766845703125, 6258.38037109375, 5041.2431640625, 1269.3353271484375, 1180.521240234375, 1009.6090698242188, 863.31787109375, 781.6862182617188, 691.111328125, 601.8372802734375, 593.3792114257812, 503.7478942871094, 473.3323974609375, 384.72528076171875, 375.98486328125, 329.9776306152344, 294.8895568847656, 287.7149658203125, 272.7186279296875, 271.33270263671875, 252.45968627929688, 231.28424072265625, 227.91249084472656, 219.9860076904297, 216.4913330078125, 212.92269897460938, 201.7517547607422, 172.32875061035156, 150.40338134765625, 143.01695251464844, 139.16004943847656, 6950.07958984375, 1931.52294921875, 894.8502807617188, 802.8591918945312, 762.9158935546875, 633.5988159179688, 599.9677734375, 528.66162109375, 474.00201416015625, 452.0151672363281, 433.0014953613281, 402.40911865234375, 339.1843566894531, 311.53692626953125, 305.5083312988281, 305.0052185058594, 303.90350341796875, 296.9400939941406, 294.57025146484375, 282.2607116699219, 275.1121826171875, 257.646484375, 239.570068359375, 203.95347595214844, 201.56369018554688, 199.8846435546875, 197.1865234375, 181.87661743164062, 179.65054321289062, 178.0756378173828, 317.54803466796875, 4213.65478515625, 4072.567138671875, 3251.755615234375, 1012.3385620117188, 829.562744140625, 773.8114624023438, 653.2324829101562, 609.7616577148438, 565.2225341796875, 387.48602294921875, 337.6043701171875, 332.8464660644531, 306.1062927246094, 305.3943176269531, 277.33099365234375, 260.24481201171875, 253.8710479736328, 252.59231567382812, 249.65232849121094, 239.91876220703125, 216.26754760742188, 215.38137817382812, 203.0490264892578, 199.90589904785156, 191.40138244628906, 186.5360107421875, 176.92393493652344, 156.05543518066406, 152.5746612548828, 151.1027374267578, 4960.28515625, 1137.426513671875, 791.8370361328125, 695.3935546875, 606.6904907226562, 567.1663208007812, 544.18896484375, 488.0477294921875, 357.3660888671875, 337.7978515625, 337.5848693847656, 321.4206237792969, 297.30157470703125, 288.3348083496094, 282.29925537109375, 241.67330932617188, 234.7914276123047, 203.55007934570312, 203.3408660888672, 198.68649291992188, 192.35267639160156, 190.66885375976562, 188.50511169433594, 187.79052734375, 182.42535400390625, 180.68692016601562, 168.57669067382812, 164.087890625, 163.2777862548828, 158.75482177734375, 2297.063232421875, 1966.3204345703125, 1387.2412109375, 1130.69677734375, 1026.4945068359375, 983.3482055664062, 766.9024658203125, 514.8350219726562, 476.4436950683594, 455.9583740234375, 413.6889343261719, 410.4582824707031, 401.2326965332031, 376.03778076171875, 368.38232421875, 359.5955810546875, 307.0398254394531, 279.13787841796875, 262.8054504394531, 250.26832580566406, 247.8199462890625, 218.9358367919922, 212.99905395507812, 211.6465606689453, 207.04098510742188, 201.42483520507812, 177.2577667236328, 176.51109313964844, 171.5519561767578, 135.77142333984375, 3000.32666015625, 2372.54833984375, 774.4278564453125, 727.6497192382812, 712.82666015625, 590.1217651367188, 472.6684265136719, 414.55267333984375, 411.4165344238281, 386.4021911621094, 379.9750671386719, 347.8938903808594, 334.83966064453125, 301.4988098144531, 276.67431640625, 263.6584167480469, 240.6907958984375, 222.45220947265625, 214.3218994140625, 208.9009552001953, 202.39132690429688, 174.41526794433594, 147.83299255371094, 146.9210205078125, 145.18923950195312, 141.3557891845703, 136.48426818847656, 135.85678100585938, 134.4965057373047, 128.46258544921875, 2173.521240234375, 991.6771240234375, 734.5963745117188, 597.4017333984375, 464.7999267578125, 454.8738708496094, 441.9552307128906, 435.474609375, 392.1754455566406, 384.0818786621094, 343.2932434082031, 321.9222717285156, 311.15869140625, 299.25079345703125, 286.5226135253906, 286.06121826171875, 260.8280334472656, 256.8187561035156, 219.39935302734375, 198.14752197265625, 185.75975036621094, 185.55703735351562, 179.2450408935547, 172.440185546875, 165.77279663085938, 162.1024169921875, 161.5010223388672, 159.2278594970703, 141.9161834716797, 141.39784240722656, 1050.191650390625, 762.29248046875, 758.4067993164062, 656.3741455078125, 457.1439208984375, 453.9060974121094, 368.7838134765625, 347.10076904296875, 275.03155517578125, 213.22134399414062, 209.97154235839844, 205.80059814453125, 200.21493530273438, 169.47189331054688, 164.58106994628906, 154.3706817626953, 153.28514099121094, 151.21441650390625, 143.0391845703125, 139.47244262695312, 134.37918090820312, 129.61231994628906, 125.1871566772461, 117.5755386352539, 112.44506072998047, 103.07040405273438, 95.02619934082031, 87.97975158691406, 83.57317352294922, 82.49445343017578], \"Total\": [8871.0, 6951.0, 6259.0, 4961.0, 5042.0, 4214.0, 4073.0, 3001.0, 3252.0, 3974.0, 2373.0, 2174.0, 2298.0, 3553.0, 1967.0, 1932.0, 2284.0, 1388.0, 2087.0, 1051.0, 1556.0, 1531.0, 1270.0, 1504.0, 1138.0, 1131.0, 1473.0, 1746.0, 1729.0, 992.0, 3974.662841796875, 3553.048583984375, 2087.3798828125, 1746.4383544921875, 1729.36865234375, 1626.1180419921875, 1480.00146484375, 1269.3115234375, 1126.543701171875, 1101.6815185546875, 1045.006591796875, 1042.6990966796875, 998.7574462890625, 852.0849609375, 845.0055541992188, 835.5174560546875, 818.7098388671875, 795.3557739257812, 784.1354370117188, 688.2680053710938, 677.1080932617188, 661.9135131835938, 618.8726806640625, 608.4413452148438, 598.8380737304688, 580.720947265625, 558.631103515625, 517.4590454101562, 507.557861328125, 494.7410888671875, 8871.4755859375, 2284.26904296875, 1556.418701171875, 1531.3096923828125, 1504.367919921875, 1473.5826416015625, 1387.0740966796875, 1108.7666015625, 894.8955078125, 771.668701171875, 661.77978515625, 654.7545776367188, 651.125732421875, 619.5606079101562, 601.0862426757812, 579.26123046875, 528.0963745117188, 511.9695739746094, 509.7685546875, 475.26910400390625, 430.1702575683594, 404.7555847167969, 398.5568542480469, 380.2005310058594, 372.05181884765625, 371.31658935546875, 336.86968994140625, 321.1298828125, 304.3056945800781, 298.4981384277344, 6259.32373046875, 5042.1865234375, 1270.278564453125, 1181.4647216796875, 1010.5526733398438, 864.2614135742188, 782.6298217773438, 692.0548706054688, 602.7808837890625, 594.3228149414062, 504.69140625, 474.2759704589844, 385.66876220703125, 376.92840576171875, 330.92120361328125, 295.8330383300781, 288.65850830078125, 273.6622009277344, 272.2762756347656, 253.40333557128906, 232.2278289794922, 228.85626220703125, 220.92958068847656, 217.4349822998047, 213.8663330078125, 202.69525146484375, 173.27232360839844, 151.34703063964844, 143.96051025390625, 140.1036834716797, 6951.0224609375, 1932.4652099609375, 895.7927856445312, 803.8017578125, 763.8584594726562, 634.5413818359375, 600.9103393554688, 529.6041870117188, 474.9444885253906, 452.95770263671875, 433.9439697265625, 403.3515319824219, 340.1268005371094, 312.4795227050781, 306.4508056640625, 305.94781494140625, 304.8460388183594, 297.88262939453125, 295.5128173828125, 283.20318603515625, 276.0547180175781, 258.5890197753906, 240.5126190185547, 204.89605712890625, 202.5061798095703, 200.82723999023438, 198.12911987304688, 182.81918334960938, 180.59317016601562, 179.01815795898438, 331.54876708984375, 4214.626953125, 4073.539306640625, 3252.727783203125, 1013.3106079101562, 830.5347900390625, 774.783447265625, 654.2045288085938, 610.7337036132812, 566.1945190429688, 388.45806884765625, 338.57647705078125, 333.8186950683594, 307.0782775878906, 306.3663330078125, 278.3030700683594, 261.21685791015625, 254.84315490722656, 253.56434631347656, 250.6243896484375, 240.890869140625, 217.23948669433594, 216.3533477783203, 204.02105712890625, 200.8779754638672, 192.37335205078125, 187.508056640625, 177.8958740234375, 157.02737426757812, 153.5467529296875, 152.07464599609375, 4961.24560546875, 1138.3865966796875, 792.7971801757812, 696.3538208007812, 607.650634765625, 568.12646484375, 545.1490478515625, 489.0078430175781, 358.32623291015625, 338.7580871582031, 338.5450134277344, 322.3807067871094, 298.26165771484375, 289.2949523925781, 283.2593994140625, 242.63345336914062, 235.7515869140625, 204.5111083984375, 204.301025390625, 199.64669799804688, 193.31283569335938, 191.62899780273438, 189.46519470214844, 188.75059509277344, 183.38558959960938, 181.64710998535156, 169.53692626953125, 165.0481414794922, 164.23780822753906, 159.71507263183594, 2298.023681640625, 1967.2806396484375, 1388.201416015625, 1131.656982421875, 1027.455078125, 984.3085327148438, 767.8627319335938, 515.7953491210938, 477.4039306640625, 456.9187316894531, 414.6492614746094, 411.4186096191406, 402.19305419921875, 376.99810791015625, 369.3426818847656, 360.5559387207031, 308.00006103515625, 280.09820556640625, 263.76580810546875, 251.22862243652344, 248.78021240234375, 219.89610290527344, 213.95933532714844, 212.6068115234375, 208.00137329101562, 202.38507080078125, 178.21815490722656, 177.47137451171875, 172.5122528076172, 136.7317352294922, 3001.277099609375, 2373.49853515625, 775.3780517578125, 728.5999755859375, 713.7769775390625, 591.072021484375, 473.6185302734375, 415.5029296875, 412.3667907714844, 387.3524475097656, 380.92535400390625, 348.8442077636719, 335.7899475097656, 302.4490051269531, 277.6245422363281, 264.60858154296875, 241.6410675048828, 223.40235900878906, 215.27247619628906, 209.85118103027344, 203.34170532226562, 175.36558532714844, 148.78314208984375, 147.87142944335938, 146.1396026611328, 142.30618286132812, 137.43446350097656, 136.80715942382812, 135.44674682617188, 129.41293334960938, 2174.47314453125, 992.6292114257812, 735.5484008789062, 598.353759765625, 465.75201416015625, 455.8258972167969, 442.9073486328125, 436.4266662597656, 393.1275939941406, 385.0339660644531, 344.2452697753906, 322.8743591308594, 312.1107482910156, 300.2028503417969, 287.47467041015625, 287.01324462890625, 261.7801513671875, 257.7708740234375, 220.3515625, 199.09954833984375, 186.7119598388672, 186.5091552734375, 180.1970977783203, 173.3922576904297, 166.72479248046875, 163.05458068847656, 162.45318603515625, 160.17994689941406, 142.86825561523438, 142.3502197265625, 1051.1505126953125, 763.2513427734375, 759.36572265625, 657.3330688476562, 458.10284423828125, 454.8649597167969, 369.74267578125, 348.0596618652344, 275.9903869628906, 214.18020629882812, 210.93035888671875, 206.75958251953125, 201.17384338378906, 170.4307403564453, 165.5399169921875, 155.32952880859375, 154.24404907226562, 152.1732940673828, 143.9980926513672, 140.4313507080078, 135.33811950683594, 130.57125854492188, 126.14607238769531, 118.53448486328125, 113.40392303466797, 104.0293197631836, 95.98517608642578, 88.93850708007812, 84.53227233886719, 83.45520782470703], \"logprob\": [30.0, 29.0, 28.0, 27.0, 26.0, 25.0, 24.0, 23.0, 22.0, 21.0, 20.0, 19.0, 18.0, 17.0, 16.0, 15.0, 14.0, 13.0, 12.0, 11.0, 10.0, 9.0, 8.0, 7.0, 6.0, 5.0, 4.0, 3.0, 2.0, 1.0, -2.669300079345703, -2.7815001010894775, -3.3136000633239746, -3.492000102996826, -3.501800060272217, -3.5634000301361084, -3.657599925994873, -3.811300039291382, -3.9307000637054443, -3.9530999660491943, -4.005899906158447, -4.0081000328063965, -4.051199913024902, -4.21019983291626, -4.218599796295166, -4.229899883270264, -4.250199794769287, -4.279200077056885, -4.293399810791016, -4.423999786376953, -4.440400123596191, -4.463099956512451, -4.530399799346924, -4.547500133514404, -4.563399791717529, -4.594200134277344, -4.632999897003174, -4.709700107574463, -4.729100227355957, -4.754700183868408, -1.569700002670288, -2.926800012588501, -3.3106000423431396, -3.326900005340576, -3.3447000980377197, -3.3654000759124756, -3.4258999824523926, -3.6500000953674316, -3.864500045776367, -4.012800216674805, -4.1666998863220215, -4.1774001121521, -4.1828999519348145, -4.232699871063232, -4.263000011444092, -4.300099849700928, -4.3927001953125, -4.423799991607666, -4.428100109100342, -4.498300075531006, -4.598199844360352, -4.659200191497803, -4.674699783325195, -4.7220001220703125, -4.74370002746582, -4.745699882507324, -4.843299865722656, -4.891300201416016, -4.945300102233887, -4.964600086212158, -1.5672999620437622, -1.7835999727249146, -3.1628000736236572, -3.235300064086914, -3.391700029373169, -3.5481998920440674, -3.647599935531616, -3.770699977874756, -3.9089999198913574, -3.9231998920440674, -4.086900234222412, -4.149199962615967, -4.356500148773193, -4.379499912261963, -4.510000228881836, -4.622399806976318, -4.64709997177124, -4.7006001472473145, -4.705699920654297, -4.7778000831604, -4.8653998374938965, -4.880099773406982, -4.915500164031982, -4.93149995803833, -4.9481000900268555, -5.001999855041504, -5.159599781036377, -5.2957000732421875, -5.346099853515625, -5.3734002113342285, -1.384600043296814, -2.6649999618530273, -3.4344000816345215, -3.5429000854492188, -3.593899965286255, -3.7797000408172607, -3.834199905395508, -3.960700035095215, -4.069900035858154, -4.117400169372559, -4.160299777984619, -4.23360013961792, -4.4045000076293945, -4.48960018157959, -4.509099960327148, -4.510799884796143, -4.514400005340576, -4.537499904632568, -4.545599937438965, -4.588200092315674, -4.613900184631348, -4.679500102996826, -4.752200126647949, -4.9131999015808105, -4.925000190734863, -4.933300018310547, -4.946899890899658, -5.0278000831604, -5.04010009765625, -5.048900127410889, -4.470399856567383, -1.8650000095367432, -1.8990999460220337, -2.1242001056671143, -3.291100025177002, -3.4902000427246094, -3.559799909591675, -3.7291998863220215, -3.7980000972747803, -3.8738999366760254, -4.251399993896484, -4.389200210571289, -4.40339994430542, -4.487199783325195, -4.489500045776367, -4.585899829864502, -4.649499893188477, -4.674300193786621, -4.679299831390381, -4.690999984741211, -4.730800151824951, -4.83459997177124, -4.838699817657471, -4.89769983291626, -4.913300037384033, -4.956699848175049, -4.982500076293945, -5.035399913787842, -5.160900115966797, -5.183499813079834, -5.1930999755859375, -1.559499979019165, -3.0322000980377197, -3.394399881362915, -3.524199962615967, -3.6607000827789307, -3.728100061416626, -3.769399881362915, -3.8782999515533447, -4.189899921417236, -4.246300220489502, -4.2469000816345215, -4.296000003814697, -4.374000072479248, -4.404600143432617, -4.4257001876831055, -4.581099987030029, -4.610000133514404, -4.752799987792969, -4.753799915313721, -4.7769999504089355, -4.8094000816345215, -4.81820011138916, -4.829599857330322, -4.833399772644043, -4.862400054931641, -4.8719000816345215, -4.941299915313721, -4.968299865722656, -4.973299980163574, -5.001299858093262, -2.317500114440918, -2.4730000495910645, -2.8217999935150146, -3.0262999534606934, -3.122999906539917, -3.1658999919891357, -3.4144999980926514, -3.812999963760376, -3.890500068664551, -3.934499979019165, -4.031799793243408, -4.039599895477295, -4.062300205230713, -4.127200126647949, -4.147799968719482, -4.171899795532227, -4.329899787902832, -4.42519998550415, -4.485499858856201, -4.534299850463867, -4.5441999435424805, -4.668099880218506, -4.6956000328063965, -4.702000141143799, -4.723999977111816, -4.751500129699707, -4.879300117492676, -4.883500099182129, -4.9120001792907715, -5.145899772644043, -1.9155000448226929, -2.1503000259399414, -3.26990008354187, -3.332200050354004, -3.352799892425537, -3.5416998863220215, -3.7636001110076904, -3.8947999477386475, -3.902400016784668, -3.965100049972534, -3.9818999767303467, -4.070099830627441, -4.10830020904541, -4.213200092315674, -4.299099922180176, -4.347300052642822, -4.438499927520752, -4.517300128936768, -4.554500102996826, -4.580100059509277, -4.611800193786621, -4.760499954223633, -4.925899982452393, -4.93209981918335, -4.943999767303467, -4.970699787139893, -5.005799770355225, -5.01039981842041, -5.020400047302246, -5.066400051116943, -2.190999984741211, -2.9756999015808105, -3.2757999897003174, -3.4825000762939453, -3.7335000038146973, -3.7551000118255615, -3.783900022506714, -3.7987000942230225, -3.90339994430542, -3.924299955368042, -4.036499977111816, -4.100800037384033, -4.134799957275391, -4.173799991607666, -4.217299938201904, -4.218900203704834, -4.311200141906738, -4.326700210571289, -4.4842000007629395, -4.586100101470947, -4.650700092315674, -4.651700019836426, -4.686399936676025, -4.725100040435791, -4.764500141143799, -4.786900043487549, -4.790599822998047, -4.804800033569336, -4.919899940490723, -4.923500061035156, -2.5994999408721924, -2.9198999404907227, -2.924999952316284, -3.069499969482422, -3.4312000274658203, -3.4382998943328857, -3.6459999084472656, -3.7065999507904053, -3.9393999576568604, -4.193900108337402, -4.2093000411987305, -4.229300022125244, -4.256800174713135, -4.423500061035156, -4.4527997970581055, -4.516900062561035, -4.523900032043457, -4.537499904632568, -4.593100070953369, -4.6184000968933105, -4.655600070953369, -4.691699981689453, -4.726399898529053, -4.7891998291015625, -4.833799839019775, -4.92080020904541, -5.002099990844727, -5.079100131988525, -5.130499839782715, -5.143499851226807]}};\n",
       "\n",
       "function LDAvis_load_lib(url, callback){\n",
       "  var s = document.createElement('script');\n",
       "  s.src = url;\n",
       "  s.async = true;\n",
       "  s.onreadystatechange = s.onload = callback;\n",
       "  s.onerror = function(){console.warn(\"failed to load library \" + url);};\n",
       "  document.getElementsByTagName(\"head\")[0].appendChild(s);\n",
       "}\n",
       "\n",
       "if(typeof(LDAvis) !== \"undefined\"){\n",
       "   // already loaded: just create the visualization\n",
       "   !function(LDAvis){\n",
       "       new LDAvis(\"#\" + \"ldavis_el80071124075949605138225498\", ldavis_el80071124075949605138225498_data);\n",
       "   }(LDAvis);\n",
       "}else if(typeof define === \"function\" && define.amd){\n",
       "   // require.js is available: use it to load d3/LDAvis\n",
       "   require.config({paths: {d3: \"https://cdnjs.cloudflare.com/ajax/libs/d3/3.5.5/d3.min\"}});\n",
       "   require([\"d3\"], function(d3){\n",
       "      window.d3 = d3;\n",
       "      LDAvis_load_lib(\"https://cdn.rawgit.com/bmabey/pyLDAvis/files/ldavis.v1.0.0.js\", function(){\n",
       "        new LDAvis(\"#\" + \"ldavis_el80071124075949605138225498\", ldavis_el80071124075949605138225498_data);\n",
       "      });\n",
       "    });\n",
       "}else{\n",
       "    // require.js not available: dynamically load d3 & LDAvis\n",
       "    LDAvis_load_lib(\"https://cdnjs.cloudflare.com/ajax/libs/d3/3.5.5/d3.min.js\", function(){\n",
       "         LDAvis_load_lib(\"https://cdn.rawgit.com/bmabey/pyLDAvis/files/ldavis.v1.0.0.js\", function(){\n",
       "                 new LDAvis(\"#\" + \"ldavis_el80071124075949605138225498\", ldavis_el80071124075949605138225498_data);\n",
       "            })\n",
       "         });\n",
       "}\n",
       "</script>"
      ],
      "text/plain": [
       "PreparedData(topic_coordinates=            Freq  cluster  topics         x         y\n",
       "topic                                                \n",
       "9      20.065056        1       1  0.438273  0.078162\n",
       "6      14.914978        1       2  0.030125 -0.436619\n",
       "0      10.498384        1       3 -0.050878  0.033943\n",
       "5       9.711154        1       4 -0.056575  0.056145\n",
       "4       9.519139        1       5 -0.025382  0.043689\n",
       "1       8.255690        1       6 -0.068712  0.039426\n",
       "3       8.158638        1       7 -0.055304  0.043300\n",
       "7       7.129101        1       8 -0.068380  0.050447\n",
       "8       6.802588        1       9 -0.070374  0.050892\n",
       "2       4.945275        1      10 -0.072793  0.040616, topic_info=     Category         Freq          Term        Total  loglift  logprob\n",
       "term                                                                   \n",
       "5077  Default  8871.000000          item  8871.000000  30.0000  30.0000\n",
       "2795  Default  6951.000000        update  6951.000000  29.0000  29.0000\n",
       "2324  Default  6259.000000          work  6259.000000  28.0000  28.0000\n",
       "5800  Default  4961.000000          good  4961.000000  27.0000  27.0000\n",
       "142   Default  5042.000000           fix  5042.000000  26.0000  26.0000\n",
       "442   Default  4214.000000          easy  4214.000000  25.0000  25.0000\n",
       "1748  Default  4073.000000         great  4073.000000  24.0000  24.0000\n",
       "7983  Default  3001.000000       problem  3001.000000  23.0000  23.0000\n",
       "634   Default  3252.000000          love  3252.000000  22.0000  22.0000\n",
       "5697  Default  3974.000000        search  3974.000000  21.0000  21.0000\n",
       "1463  Default  2373.000000    connection  2373.000000  20.0000  20.0000\n",
       "2423  Default  2174.000000       network  2174.000000  19.0000  19.0000\n",
       "5931  Default  2298.000000          find  2298.000000  18.0000  18.0000\n",
       "7914  Default  3553.000000          list  3553.000000  17.0000  17.0000\n",
       "3554  Default  1967.000000         issue  1967.000000  16.0000  16.0000\n",
       "1502  Default  1932.000000         error  1932.000000  15.0000  15.0000\n",
       "8113  Default  2284.000000        option  2284.000000  14.0000  14.0000\n",
       "3750  Default  1388.000000          look  1388.000000  13.0000  13.0000\n",
       "4954  Default  2087.000000  notification  2087.000000  12.0000  12.0000\n",
       "5340  Default  1051.000000         track  1051.000000  11.0000  11.0000\n",
       "3644  Default  1556.000000        mobile  1556.000000  10.0000  10.0000\n",
       "4625  Default  1531.000000      purchase  1531.000000   9.0000   9.0000\n",
       "5930  Default  1270.000000          fine  1270.000000   8.0000   8.0000\n",
       "6114  Default  1504.000000          back  1504.000000   7.0000   7.0000\n",
       "7328  Default  1138.000000       picture  1138.000000   6.0000   6.0000\n",
       "8723  Default  1131.000000          view  1131.000000   5.0000   5.0000\n",
       "109   Default  1473.000000       feature  1473.000000   4.0000   4.0000\n",
       "7943  Default  1746.000000       version  1746.000000   3.0000   3.0000\n",
       "6092  Default  1729.000000           bid  1729.000000   2.0000   2.0000\n",
       "1204  Default   992.000000          send   992.000000   1.0000   1.0000\n",
       "...       ...          ...           ...          ...      ...      ...\n",
       "5340  Topic10  1050.191650         track  1051.150513   3.0058  -2.5995\n",
       "874   Topic10   762.292480          slow   763.251343   3.0055  -2.9199\n",
       "2672  Topic10   758.406799         photo   759.365723   3.0055  -2.9250\n",
       "3318  Topic10   656.374146           log   657.333069   3.0053  -3.0695\n",
       "2724  Topic10   457.143921          post   458.102844   3.0046  -3.4312\n",
       "6476  Topic10   453.906097       payment   454.864960   3.0046  -3.4383\n",
       "2097  Topic10   368.783813          less   369.742676   3.0041  -3.6460\n",
       "2494  Topic10   347.100769    convenient   348.059662   3.0040  -3.7066\n",
       "3692  Topic10   275.031555         close   275.990387   3.0033  -3.9394\n",
       "1299  Topic10   213.221344     everytime   214.180206   3.0023  -4.1939\n",
       "3977  Topic10   209.971542      download   210.930359   3.0022  -4.2093\n",
       "5008  Topic10   205.800598       classic   206.759583   3.0021  -4.2293\n",
       "6789  Topic10   200.214935         enjoy   201.173843   3.0020  -4.2568\n",
       "5346  Topic10   169.471893    especially   170.430740   3.0011  -4.4235\n",
       "8318  Topic10   164.581070     complaint   165.539917   3.0009  -4.4528\n",
       "2342  Topic10   154.370682       provide   155.329529   3.0005  -4.5169\n",
       "6009  Topic10   153.285141        create   154.244049   3.0005  -4.5239\n",
       "6534  Topic10   151.214417       deliver   152.173294   3.0004  -4.5375\n",
       "2307  Topic10   143.039185      negative   143.998093   3.0001  -4.5931\n",
       "2953  Topic10   139.472443      remember   140.431351   2.9999  -4.6184\n",
       "7334  Topic10   134.379181        faster   135.338120   2.9996  -4.6556\n",
       "6657  Topic10   129.612320        proper   130.571259   2.9994  -4.6917\n",
       "5010  Topic10   125.187157         drive   126.146072   2.9991  -4.7264\n",
       "562   Topic10   117.575539          push   118.534485   2.9986  -4.7892\n",
       "534   Topic10   112.445061         later   113.403923   2.9982  -4.8338\n",
       "7985  Topic10   103.070404     basically   104.029320   2.9975  -4.9208\n",
       "5054  Topic10    95.026199       finally    95.985176   2.9967  -5.0021\n",
       "6023  Topic10    87.979752    understand    88.938507   2.9959  -5.0791\n",
       "3650  Topic10    83.573174         clean    84.532272   2.9953  -5.1305\n",
       "1177  Topic10    82.494453        method    83.455208   2.9952  -5.1435\n",
       "\n",
       "[331 rows x 6 columns], token_table=      Topic      Freq           Term\n",
       "term                                \n",
       "8745      2  0.996454        ability\n",
       "6113      4  0.997037     absolutely\n",
       "6252      4  0.998876         access\n",
       "6296      8  0.999177        account\n",
       "3514      7  0.996864       actually\n",
       "1672      9  0.998349            ago\n",
       "1527      4  0.996179          alert\n",
       "1836      1  0.998870          allow\n",
       "3434      5  0.996489         almost\n",
       "5993      5  0.997774           alot\n",
       "5053      6  0.996812          amaze\n",
       "7071      8  0.997700         amazon\n",
       "8510      1  0.998363          annoy\n",
       "2864      3  0.994462         appear\n",
       "3908      8  0.998186    application\n",
       "3320      8  0.994089           area\n",
       "3287      4  0.997825           asap\n",
       "6822      1  0.998620        auction\n",
       "8724      9  0.998385      available\n",
       "670       7  0.997059        awesome\n",
       "6114      2  0.999091           back\n",
       "4806      3  0.999453            bad\n",
       "4798      8  0.997648            bar\n",
       "7985     10  0.990106      basically\n",
       "4644      7  0.996753         better\n",
       "6092      1  0.999209            bid\n",
       "6091      6  0.995770            big\n",
       "5102      7  0.997031            box\n",
       "627       5  0.993457      brilliant\n",
       "70        2  0.998603         browse\n",
       "...     ...       ...            ...\n",
       "8111      6  0.995717          store\n",
       "683       6  0.998390           suck\n",
       "506       5  0.997548        support\n",
       "7597      8  0.997750           sure\n",
       "4585      3  0.999195           tell\n",
       "6981      3  0.997719            top\n",
       "5340     10  0.998905          track\n",
       "4348      3  0.997580    transaction\n",
       "2559      2  0.998822         unable\n",
       "6023     10  0.989448     understand\n",
       "3500      3  0.998266      uninstall\n",
       "1334      9  0.996470       unusable\n",
       "2795      4  0.999853         update\n",
       "2257      7  0.998458         upload\n",
       "3785      6  0.997939           user\n",
       "6699      6  0.995524  user_friendly\n",
       "4018      7  0.993165        vehicle\n",
       "7943      1  0.999176        version\n",
       "8723      7  0.999419           view\n",
       "5101      8  0.997580           wait\n",
       "2049      6  0.996718          waste\n",
       "7067      1  0.999381          watch\n",
       "2101      4  0.999003            web\n",
       "7736      5  0.994294           week\n",
       "4350      5  0.999356           well\n",
       "2564      1  0.999381             wo\n",
       "2324      3  0.999789           work\n",
       "2250      9  0.993923          worth\n",
       "122       8  0.995209          wrong\n",
       "7215      6  0.997501           zoom\n",
       "\n",
       "[306 rows x 3 columns], R=30, lambda_step=0.01, plot_opts={'xlab': 'PC1', 'ylab': 'PC2'}, topic_order=[10, 7, 1, 6, 5, 2, 4, 8, 9, 3])"
      ]
     },
     "execution_count": 18,
     "metadata": {},
     "output_type": "execute_result"
    }
   ],
   "source": [
    "warnings.filterwarnings(\"ignore\",category=DeprecationWarning)\n",
    "# Visualize the topics\n",
    "score =1\n",
    "pyLDAvis.enable_notebook()\n",
    "vis = pyLDAvis.gensim.prepare(lda_model, corpus, id2word)\n",
    "vis"
   ]
  },
  {
   "cell_type": "code",
   "execution_count": 16,
   "metadata": {},
   "outputs": [],
   "source": [
    "modeltopic = lda_model.print_topics()\n",
    "tp = ['bug', 'great', 'speed','findissue','easy','error','average','problem','connect','search']"
   ]
  },
  {
   "cell_type": "code",
   "execution_count": 59,
   "metadata": {},
   "outputs": [
    {
     "name": "stdout",
     "output_type": "stream",
     "text": [
      "topic:  bug  ->  (0, u'0.209*\"work\" + 0.168*\"fix\" + 0.042*\"fine\" + 0.039*\"change\" + 0.034*\"bad\" + 0.029*\"crash\" + 0.026*\"tell\" + 0.023*\"stop\" + 0.020*\"screen\" + 0.020*\"first\"')\n",
      "topic:  great  ->  (1, u'0.210*\"good\" + 0.048*\"picture\" + 0.034*\"pc\" + 0.029*\"description\" + 0.026*\"quick\" + 0.024*\"seem\" + 0.023*\"product\" + 0.021*\"user\" + 0.015*\"instead\" + 0.014*\"email\"')\n",
      "topic:  speed  ->  (2, u'0.074*\"track\" + 0.054*\"slow\" + 0.054*\"photo\" + 0.046*\"log\" + 0.032*\"post\" + 0.032*\"payment\" + 0.026*\"less\" + 0.025*\"convenient\" + 0.019*\"close\" + 0.015*\"everytime\"')\n",
      "topic:  findissue  ->  (3, u'0.099*\"find\" + 0.084*\"issue\" + 0.059*\"look\" + 0.048*\"view\" + 0.044*\"read\" + 0.042*\"something\" + 0.033*\"price\" + 0.022*\"upload\" + 0.020*\"awesome\" + 0.020*\"recent\"')\n",
      "topic:  easy  ->  (4, u'0.155*\"easy\" + 0.150*\"great\" + 0.120*\"love\" + 0.037*\"ship\" + 0.030*\"well\" + 0.028*\"money\" + 0.024*\"order\" + 0.022*\"part\" + 0.021*\"fast\" + 0.014*\"navigate\"')\n",
      "topic:  error  ->  (5, u'0.250*\"update\" + 0.070*\"error\" + 0.032*\"late\" + 0.029*\"web\" + 0.027*\"access\" + 0.023*\"note\" + 0.022*\"browser\" + 0.019*\"pretty\" + 0.017*\"display\" + 0.016*\"freeze\"')\n",
      "topic:  average  ->  (6, u'0.208*\"item\" + 0.054*\"option\" + 0.036*\"mobile\" + 0.036*\"purchase\" + 0.035*\"back\" + 0.035*\"feature\" + 0.033*\"pay\" + 0.026*\"computer\" + 0.021*\"feedback\" + 0.018*\"leave\"')\n",
      "topic:  problem  ->  (7, u'0.147*\"problem\" + 0.116*\"connection\" + 0.038*\"check\" + 0.036*\"account\" + 0.035*\"help\" + 0.029*\"application\" + 0.023*\"internet\" + 0.020*\"enough\" + 0.020*\"long\" + 0.019*\"car\"')\n",
      "topic:  connect  ->  (8, u'0.112*\"network\" + 0.051*\"send\" + 0.038*\"full\" + 0.031*\"people\" + 0.024*\"available\" + 0.023*\"offer\" + 0.023*\"invoice\" + 0.022*\"run\" + 0.020*\"information\" + 0.020*\"one\"')\n",
      "topic:  search  ->  (9, u'0.069*\"search\" + 0.062*\"list\" + 0.036*\"notification\" + 0.030*\"version\" + 0.030*\"bid\" + 0.028*\"show\" + 0.026*\"last\" + 0.022*\"open\" + 0.020*\"lose\" + 0.019*\"watch\"')\n"
     ]
    }
   ],
   "source": [
    "for i in range(len(modeltopic)):\n",
    "    print 'topic: ', tp[i], ' -> ', modeltopic[i] \n",
    "    "
   ]
  },
  {
   "cell_type": "code",
   "execution_count": null,
   "metadata": {},
   "outputs": [],
   "source": []
  }
 ],
 "metadata": {
  "anaconda-cloud": {},
  "kernelspec": {
   "display_name": "Python [default]",
   "language": "python",
   "name": "python2"
  },
  "language_info": {
   "codemirror_mode": {
    "name": "ipython",
    "version": 2
   },
   "file_extension": ".py",
   "mimetype": "text/x-python",
   "name": "python",
   "nbconvert_exporter": "python",
   "pygments_lexer": "ipython2",
   "version": "2.7.13"
  }
 },
 "nbformat": 4,
 "nbformat_minor": 2
}
