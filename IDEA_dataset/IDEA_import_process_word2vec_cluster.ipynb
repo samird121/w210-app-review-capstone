{
 "cells": [
  {
   "cell_type": "code",
   "execution_count": 1,
   "metadata": {
    "scrolled": true
   },
   "outputs": [
    {
     "name": "stderr",
     "output_type": "stream",
     "text": [
      "C:\\Users\\samir\\Anaconda3\\lib\\site-packages\\gensim\\utils.py:1197: UserWarning: detected Windows; aliasing chunkize to chunkize_serial\n",
      "  warnings.warn(\"detected Windows; aliasing chunkize to chunkize_serial\")\n"
     ]
    }
   ],
   "source": [
    "#useful: https://www.kdnuggets.com/2018/04/robust-word2vec-models-gensim.html\n",
    "\n",
    "import csv\n",
    "import nltk\n",
    "import re\n",
    "import numpy as np\n",
    "import time\n",
    "import gensim, logging\n",
    "import matplotlib.pyplot as plt\n",
    "from sklearn.preprocessing import StandardScaler\n",
    "from scipy.spatial.distance import cdist\n",
    "from sklearn.cluster import KMeans\n",
    "from sklearn.decomposition import PCA\n",
    "from scipy.spatial import cKDTree\n",
    "from gensim.models import Word2Vec\n",
    "from nltk.tokenize import sent_tokenize\n",
    "from nltk.tokenize import word_tokenize\n",
    "from nltk.corpus import stopwords\n",
    "from nltk.stem.porter import PorterStemmer\n",
    "\n"
   ]
  },
  {
   "cell_type": "markdown",
   "metadata": {},
   "source": [
    "# Load data"
   ]
  },
  {
   "cell_type": "code",
   "execution_count": 2,
   "metadata": {},
   "outputs": [],
   "source": [
    "\n",
    "with open('./ios/youtube/total_info.txt') as f:\n",
    "    reader = csv.reader(f, delimiter=\"\\t\")\n",
    "    d = list(reader)\n",
    "\n",
    "ratings = []\n",
    "reviews = []\n",
    "titles = []\n",
    "dates = []\n",
    "versions = []\n",
    "\n",
    "for line in d:\n",
    "    vals = line[0].split(\"******\")\n",
    "    ratings.append(float(vals[0]))\n",
    "    reviews.append(vals[1])\n",
    "    titles.append(vals[2])\n",
    "    dates.append(vals[3])\n",
    "    versions.append(vals[4])\n",
    "    \n"
   ]
  },
  {
   "cell_type": "code",
   "execution_count": 3,
   "metadata": {},
   "outputs": [
    {
     "data": {
      "text/plain": [
       "37718"
      ]
     },
     "execution_count": 3,
     "metadata": {},
     "output_type": "execute_result"
    }
   ],
   "source": [
    "len(reviews)"
   ]
  },
  {
   "cell_type": "code",
   "execution_count": 4,
   "metadata": {},
   "outputs": [
    {
     "data": {
      "text/plain": [
       "[\"video still open in browser den can tap to open in app . it's not as describe .\",\n",
       " \"i can't load any of the video on my youtube ever since i update the app . please fix this problem as soon as possible .\",\n",
       " 'after the update it get more worse come on youtube step up .']"
      ]
     },
     "execution_count": 4,
     "metadata": {},
     "output_type": "execute_result"
    }
   ],
   "source": [
    "reviews[0:3]"
   ]
  },
  {
   "cell_type": "markdown",
   "metadata": {},
   "source": [
    "# Preprocess all review text"
   ]
  },
  {
   "cell_type": "code",
   "execution_count": 5,
   "metadata": {},
   "outputs": [],
   "source": [
    "stop_words = stopwords.words('english')\n",
    "def custom_preprocessor(text):\n",
    "    porter = PorterStemmer()\n",
    "\n",
    "    #split into sentences\n",
    "    sentences = sent_tokenize(text)\n",
    "    \n",
    "    final_sentences = []\n",
    "    \n",
    "    for sentence in sentences:\n",
    "        sentence_split = sentence.split(\" \")\n",
    "        \n",
    "        #remove words in not in stop words, and make lowercase\n",
    "        words = [word.lower() for word in sentence_split if word.lower() not in stop_words]\n",
    "        #get rid of words with non alphanumeric characters in it\n",
    "        #(should we replace these with a token?)\n",
    "        words = [word for word in words if word.isalpha()]\n",
    "        #stem words\n",
    "        words = [porter.stem(word) for word in words]\n",
    "\n",
    "        final_sentences.append(\" \".join(words))\n",
    "        \n",
    "        #consider joining sentences with a stop token\n",
    "    return \" \".join(final_sentences)"
   ]
  },
  {
   "cell_type": "code",
   "execution_count": 6,
   "metadata": {},
   "outputs": [],
   "source": [
    "processed_reviews = np.array([custom_preprocessor(review) for review in reviews])"
   ]
  },
  {
   "cell_type": "code",
   "execution_count": 11,
   "metadata": {},
   "outputs": [],
   "source": [
    "#get rid of reviews that are empty after preprocessing\n",
    "#(not that many)\n",
    "\n",
    "processed_review_lens = np.array([len(review) for review in processed_reviews])\n",
    "#if using stop tokens \"<END>\" then empty reviews have a length of 6\n",
    "nonzero_indeces = np.where(processed_review_lens > 0)\n",
    "\n",
    "\n",
    "final_reviews =  [review.split(\" \") for review in processed_reviews[nonzero_indeces]]\n",
    "final_reviews_unprocessed =  np.array(reviews)[nonzero_indeces]\n",
    "final_ratings = np.array(ratings)[nonzero_indeces]\n",
    "final_titles = np.array(titles)[nonzero_indeces]\n",
    "final_dates = np.array(dates)[nonzero_indeces]\n",
    "final_versions = np.array(versions)[nonzero_indeces]"
   ]
  },
  {
   "cell_type": "code",
   "execution_count": 12,
   "metadata": {},
   "outputs": [
    {
     "name": "stdout",
     "output_type": "stream",
     "text": [
      "37718\n",
      "37684\n"
     ]
    }
   ],
   "source": [
    "print(len(reviews))\n",
    "print(len(final_reviews))"
   ]
  },
  {
   "cell_type": "code",
   "execution_count": 13,
   "metadata": {},
   "outputs": [
    {
     "name": "stdout",
     "output_type": "stream",
     "text": [
      "1.659101963043213\n"
     ]
    }
   ],
   "source": [
    "start = time.time()\n",
    "model = Word2Vec(final_reviews, min_count=1)\n",
    "#model.save(\"../../large files/youtube_w2v_stoptokens.model\")\n",
    "print(time.time() - start)"
   ]
  },
  {
   "cell_type": "code",
   "execution_count": 14,
   "metadata": {},
   "outputs": [
    {
     "data": {
      "text/plain": [
       "[('horribl', 0.7401350736618042),\n",
       " ('weird', 0.6685174703598022),\n",
       " ('dumb', 0.6527937054634094),\n",
       " ('aw', 0.6496073603630066),\n",
       " ('new', 0.6389003992080688)]"
      ]
     },
     "execution_count": 14,
     "metadata": {},
     "output_type": "execute_result"
    }
   ],
   "source": [
    "model.wv.most_similar('hate', topn=5)"
   ]
  },
  {
   "cell_type": "markdown",
   "metadata": {},
   "source": [
    "# Clustering the reviews"
   ]
  },
  {
   "cell_type": "code",
   "execution_count": 15,
   "metadata": {},
   "outputs": [],
   "source": [
    "#here we create a vector for each review,\n",
    "#which will be the simple average of all word vectors in that review.\n",
    "#these vectors will then be used for clustering, data reduction, etc.\n",
    "avg_vectors = []\n",
    "for review in final_reviews:\n",
    "    avg_vectors.append(np.mean([model.wv[word] for word in review], axis=0))\n",
    "    \n",
    "avg_vectors = np.array(avg_vectors)  "
   ]
  },
  {
   "cell_type": "code",
   "execution_count": 16,
   "metadata": {},
   "outputs": [],
   "source": [
    "#scaling makes it\n",
    "scaler = StandardScaler()\n",
    "avg_vectors_scaled = scaler.fit_transform(avg_vectors)"
   ]
  },
  {
   "cell_type": "code",
   "execution_count": 17,
   "metadata": {},
   "outputs": [
    {
     "name": "stdout",
     "output_type": "stream",
     "text": [
      "(37684, 100)\n",
      "(37684, 100)\n"
     ]
    }
   ],
   "source": [
    "print(avg_vectors.shape)\n",
    "print(avg_vectors_scaled.shape)"
   ]
  },
  {
   "cell_type": "code",
   "execution_count": 137,
   "metadata": {},
   "outputs": [
    {
     "name": "stdout",
     "output_type": "stream",
     "text": [
      "1\n",
      "2\n",
      "3\n",
      "4\n",
      "5\n",
      "6\n",
      "7\n",
      "8\n",
      "9\n",
      "10\n",
      "11\n"
     ]
    },
    {
     "data": {
      "image/png": "[encoded data removed]",
      "text/plain": [
       "<Figure size 432x288 with 1 Axes>"
      ]
     },
     "metadata": {
      "needs_background": "light"
     },
     "output_type": "display_data"
    },
    {
     "name": "stdout",
     "output_type": "stream",
     "text": [
      "75.81483244895935 seconds\n"
     ]
    }
   ],
   "source": [
    "#Using the elbow plot method to try and determine how many clusters to go with\n",
    "\n",
    "\n",
    "start = time.time()\n",
    "\n",
    "distortions = []\n",
    "K = range(1,12)\n",
    "for k in K:\n",
    "    print(k)\n",
    "    kmeanModel = KMeans(n_clusters=k)\n",
    "    kmeanModel.fit(avg_vectors_scaled)\n",
    "    distortions.append(sum(np.min(cdist(avg_vectors_scaled, kmeanModel.cluster_centers_, 'euclidean'), axis=1)) / avg_vectors_scaled.shape[0])\n",
    "\n",
    "# Plot the elbow\n",
    "plt.plot()\n",
    "plt.plot(K, distortions, 'bx-')\n",
    "plt.xlabel('k')\n",
    "plt.ylabel('Distortion')\n",
    "plt.title('')\n",
    "plt.show()\n",
    "print(time.time() - start, \"seconds\")"
   ]
  },
  {
   "cell_type": "code",
   "execution_count": 18,
   "metadata": {},
   "outputs": [
    {
     "data": {
      "text/plain": [
       "KMeans(algorithm='auto', copy_x=True, init='k-means++', max_iter=300,\n",
       "    n_clusters=10, n_init=10, n_jobs=1, precompute_distances='auto',\n",
       "    random_state=None, tol=0.0001, verbose=0)"
      ]
     },
     "execution_count": 18,
     "metadata": {},
     "output_type": "execute_result"
    }
   ],
   "source": [
    "#run the clustering algorithm\n",
    "km = KMeans(n_clusters = 10)\n",
    "km.fit(avg_vectors)"
   ]
  },
  {
   "cell_type": "code",
   "execution_count": 19,
   "metadata": {},
   "outputs": [],
   "source": [
    "\n",
    "def find_k_closest(centroids, data, k=1, distance_norm=2):\n",
    "    kdtree = cKDTree(data)\n",
    "    distances, indices = kdtree.query(centroids, k)\n",
    "    return indices"
   ]
  },
  {
   "cell_type": "code",
   "execution_count": 20,
   "metadata": {},
   "outputs": [
    {
     "name": "stdout",
     "output_type": "stream",
     "text": [
      "Cluster 1\n",
      "i cant skip buffer video they load forever video wont start i need to close youtube and open again and still doesn't work ive be tryin to watch the same video but the ad just dont start and when i click for a new video just freeze .\n",
      "\n",
      "\n",
      "i've be watch youtube for a while but today when i go to watch video , some video with ad keep freeze . the ad freeze and be load for a while . and most of the freeze video be video i like . please fix the problem because it be load really slow .\n",
      "\n",
      "\n",
      "can you fix the problem where whenever i try to watch a video the video or the ad pause even though it's unpaused and just stay like that ? i can never seem to watch a video .\n",
      "\n",
      "\n",
      "this app be fine until a few day ago . now video randomly won't play . i click on the video , and the first frame load , but no matter what the video just stop . the load bar show that the video be load , but the video just doesn't play . if i change apps and go back to youtube , the same thing happen and the video just freeze up .\n",
      "\n",
      "\n",
      "i love youtube but recently the video haven't be load . i will press a video that i want to watch and then it will load for 20 minute and still not play the video .\n",
      "\n",
      "\n",
      "i do like this app but the problem be that every time i click a video and it's finish load the video won't play it's just freeze and i'm not sure it have anything to do with the internet connection because it do load the video won't run so please see if you can fix this i want to watch my video again .\n",
      "\n",
      "\n",
      "i try to watch video and it constantly just have the load spin circle and doesn't load the video i wanna watch or any random video .\n",
      "\n",
      "\n",
      "before the update everything be fine ! but now finish watch a video without it get stick , when i watch a video it seem fine but after a few second the video just keep buffer in an endless loop , and some video don't even open ! please just fix it !\n",
      "\n",
      "\n",
      "mostly every time i watch a video it play but then stop even though the load video bar be far from it fix it .\n",
      "\n",
      "\n",
      "whenever i try to play a video , it just freeze , the video be completely load , there's no spin load circle , so i know it's not load , and it just doesn't play . at first , only the commercial do that , every commercial that come up on youtube within the past few day just do not play at all , leave me no choice but to go ahead and click the button to stop play the video , and click irrelevant . now , it be do that to every single video or commercial that i try to watch .\n",
      "\n",
      "\n",
      "\n",
      "\n",
      "\n",
      "\n",
      "Cluster 2\n",
      "great app for entretainment i love some youtubers .\n",
      "\n",
      "\n",
      "i honestly think youtube be great ! i start use it on january 10th , 2016 . it be the best app !\n",
      "\n",
      "\n",
      "this app do have a few bug here and there . but overall it's a great app . love the creator on youtube and think the whole app idea be a great one . keep up the great work .\n",
      "\n",
      "\n",
      "this be a gr8 app ! it's very inspire and entertain and i love it .\n",
      "\n",
      "\n",
      "i love youtube ! i use the app everyday and it's become part of my daily routine . despite the few flaw the app have , it's pretty good and i haven't have much trouble 3 .\n",
      "\n",
      "\n",
      "i love youtube greatest app in the world .\n",
      "\n",
      "\n",
      "youtube be great , the app be organize great , outstanding work by the developer of youtube , seriously great job .\n",
      "\n",
      "\n",
      "i love youtube , this be literally the only app that i use on a daily basis other then instagram i love the newest feature it's absolutely perfect never change .\n",
      "\n",
      "\n",
      "this app be really great to me i have no word to describe how much i love the app .\n",
      "\n",
      "\n",
      "amaze app love all the cool video on it amaze app .\n",
      "\n",
      "\n",
      "\n",
      "\n",
      "\n",
      "\n",
      "Cluster 3\n",
      "very disappoint . youtube be one of my most use apps , despite occasional glitchy ness . this latest update be a total disaster , and delete the app entirely follow by re download have fail completely . it now sit in a state of pending download , totally unusable . please fix !\n",
      "\n",
      "\n",
      "i can spend all day on youtube lol , i love it . although for some reason it's be update on it own ? i won't even be on the appstore and it will automatically update by itself . that bother me because it's glitch and now i can't even use the app because it freeze . idk if my phone be the problem , or if it's the apps problem , but it need . fix . now .\n",
      "\n",
      "\n",
      "wow ! it's be week , and numerous youtube update , and still i can't access any video . oops , something go wrong be a really lame meme ! i'm use an ipad pro with the latest io . i'm not the only person have this problem with your app google . it's march 2 . 2017 . let's see how long it take to fix this . not hold out much hope with what's happen so far . old review no video will load since the new update . i even delete the app and reinstall . still doesn't work . you be a multi billion dollar worldwide business . don't you have beta tester check before put out update ? epic fail !\n",
      "\n",
      "\n",
      "it seem as if the latest update be flaw . when i attempt to open the youtube app , it lock on me upon entry . it won't allow me to do anything at all . this need to be fix asap !\n",
      "\n",
      "\n",
      "the most recent version of the youtube app be a piece of s word garbage ! it constantly crash , often just before i be start to watch a video , it be buggy as hell , and extremely unstable . why don't you fix this crappiest version of the youtube ever and make it work so everyone can enjoy it again ? and yet , despite a few change , this app be still garbage and you do not fix the instability problem .\n",
      "\n",
      "\n",
      "not quite sure why a company like youtube would release an update for an app that be so flaw it wont even work properly . terrible decision . cant even watch video now without the app freeze or lock my phone up . please youtube fix your terrible update . your to good of a company to put out such garbage and call it an update .\n",
      "\n",
      "\n",
      "every time i update youtube app i'm afraid that it's gonna be a mess . i accidentally update and it ruin the smoothness of the app . i try it in all iphones 5 7 and it all have that slow video load and slow responsive . i have to get another app to use cause i don't trust youtube app no more . i rather another non youtube relate app steal my account rather then this update youtube app . so youtube please downgrade this app or to what i would say update cause if every update you produce only make it worst then it be not an update but really a downgrade .\n",
      "\n",
      "\n",
      "there's a huge problem bug when use this app that's lead me to uninstall this app completely . there's this something go wrong error that keep happen everytime i try to load up a video it happen on multiple device of mine and it's make me angry . i almost have to constantly re download the app . i like youtube a lot . i think it's a great social medium outlet and i even have my own channel . this mobile version on io be too annoy with bug . it be way better back when i first get an ipod 3 and there be a build in app for it . now it's trash . complete trash . fix it or i'll be take my time to twitch or some better website . i'm certain i'm not the only one . thank you for read this .\n",
      "\n",
      "\n",
      "i use this app everyday , it's always a big part of help to keep me entertain or provide back grind noise while i work . but after instal the update release today whenever i try to watch a video the app promptly crash and nothing i do seem to fix it . please fix this issue as soon as possible , this app be a real life saver and work be much more mundane without it .\n",
      "\n",
      "\n",
      "once upon a time i love this app ! but the population have go down . i didn't know why so i decide to update ! but my ipod cant update . so i delete the app so it can update by it self . i go back on and download . life time mistake ! my ipod need to update the whole ipod ! as i say i cant update so now i cant get it ! and i'm pretty happy i didn't . everyone be so fussy . like me ! fix it !\n",
      "\n",
      "\n",
      "\n",
      "\n",
      "\n",
      "\n",
      "Cluster 4\n",
      "i update a few day ago and nothing much change i do like the new volume bar , but today when i open it up the subscription tab isn't fill with video , it's fill with suggestion . when i want to go look at the video of the people i'm subscribe to , i want to watch those video , not look at a slew of top category , some of which i'll never watch food , health beauty , tech , etc . while it's ok that you want me to look at their vids , this be not the right place for it . the subscription that i have can still be access individually at the top , but i can't see the video in a chronological order as i always have be able to . it's really stupid , please fix . i can't even tell it to go away , or revert back to what it be .\n",
      "\n",
      "\n",
      "i don't have a subscription fee anymore . it just stop refresh and instead now show me best of youtube and recommend for you . i can clearly see the thumbnail for my sub above that so i know i'm sign in . this be beyond annoy as if i have to look through each sub individually while at work , i'll get fire . so now i work in silence most of the time . please fix asap ! also , it's really kind of annoy that the app now apply the gray out watch filter on random video in your fee whether you have actually watch them or not . i wish they would fix this as it now hard to see the detail in the thumbnail .\n",
      "\n",
      "\n",
      "it just not very good still . they at least need to fix the home tab so it actually show video i haven't watch by people i'm not subscribe to . also , if a video be in my home page for 1 month , do you think i truly want to watch it ? just stop post bs update and actually fix youtube .\n",
      "\n",
      "\n",
      "so you really can't hate the app it's youtube we all love for various reason but this most recent update be so dumb u can no longer check your subscription that side bar be go and it join the home bar so to find ur fav channel video u have to go through all the video say video you might like and it really make me mad like i want to see the video and channel i subscribe to ugh .\n",
      "\n",
      "\n",
      "the worst version of the app so far . you cannot do anything while you be on time app because they decide to try to fix something that be not break and it mess up everything . the comment section be horrible and now automatically load when the video be open instead of give the user the option of whether they want to load the comment or not . this cause the load time of the video to go up so that mean we have to wait instead of be able to watch the video straight away . the whole menu be buggy and slow and do not respond to what you want to do . when you have a channel select and you select another one it cancel the selection out and go to the list of new video from all channel that you be subscribe to . in addition to that , when you do end up select a channel , many time it still show the channel picture and stats for the previous channel . there be a lot of work that have to be do to get this back to a usable app . if you can avoid update i would because if you do you will be leave with a worthless app that just take up space . you have be warn !\n",
      "\n",
      "\n",
      "i'm on this app most of the time to be completely honest . i've realize that i no longer get any notification for anyone i'm sub to . also , whenever i say i'm not interest in anything that's in the recommendation area , it come back after i scroll down or watch a video . there be reason why i don't want to watch thing and i don't want to see them keep on reappear . please fix at least these two thing and all the other thigs other people have be complain about .\n",
      "\n",
      "\n",
      "i'm on this app most of the time to be completely honest . i've realize that i no longer get any notification for anyone i'm sub to . also , whenever i say i'm not interest in anything that's in the recommendation area , it come back after i scroll down or watch a video . there be reason why i don't want to watch thing and i don't want to see them keep on reappear . last thing . niw it won't show any comment on vidoes . it'll show the older one but for video that have be upload recent , nothing show up . i actually do like see comment at time . please fix at least these three thing and all the other thing other people have be complain about .\n",
      "\n",
      "\n",
      "it go without say that youtube be awesome and this be an awesome app . that say , over the past few update you've mess with and partly break the subscription list . for awhile i have to click on a channel's icon twice to view their new video and if i then click on another channel's icon it would just send me back in to the all channel list . now i no longer have to click on an icon multiple time , however it still take 2 or 3 second to change subscription list . also if i go strait from one channel's subscription list to another channel's subscription list it still pop back to the all channel subscription for 2 or 3 sec before automatically redirect me to the appropriate location . so the bug be fix but in a patchwork way that be not smooth , quick , or anything i have come to associate with google and youtube . you can do better . 4star .\n",
      "\n",
      "\n",
      "i think someone hack my account and be just watch all of my video until i check the app today saw that there be new video post that i have not yet watch scroll pass them then scroll back and it say i already watch it . how can i watch a video that i only scroll by ? please fix this youtube i love u and need your support .\n",
      "\n",
      "\n",
      "i rarely write review but i be finally force to delete this app and think i should let someone know about it . the new home page be just awful . i like the previous one where i could see the category and look at new or recent video . this new one just take up the screen and be really random and consist mostly of video i've already watch or have no interest in . also , i can't even locate channel that i'm actually subscribe to . there use to be a list of video from channel i be subscribe to and now it be nowhere to be see . really disappoint .\n",
      "\n",
      "\n",
      "\n",
      "\n",
      "\n",
      "\n",
      "Cluster 5\n",
      "these last couple update have be complete crap . i can't watch video anymore with press the whole 10 second thing . it's annoy , and not useful the auto play feature isn't as great as it sound , because it will randomly change to the next video that i my not even want to watch ! now after a certain amount of search , it get rid of whatever you have previously search for . this mean to get back to something i want to watch , i have to type it in again . but my main issue with this new update , be the fact that 50 of the time , video don't load and give you the something go wrong message . i've try everything i can of to fix it on my end , but then i realize it be youtubes end . thank god that i can still watch youtube on my pc . i've delete the app for now because honestly , it's a waste of time download , and try to get it to even work .\n",
      "\n",
      "\n",
      "youtube seem to be go downhill . the past several update have either slow the app down , create an issue where the video will not play , or create several new bug . i have run into several . the first be that my earpods with remote will not pause the video anymore , even when i have use other people's to experiment . another be the video will not exit full screen unless the app be close and reopen . the biggest glitch of all be when the video i'm watch play an add randomly and then skip to a random video and no amount of restart and re download of the app will fix this . the app be go downhill and be go to keep go that way until they get their thing together and do some actual work that the community and people want .\n",
      "\n",
      "\n",
      "while i wasn't a fan of the new interface and menu as of now , the update would have be more tolerable for me if i could actually watch a video . every video i try to watch never go any father than the first frame and stay stick on another frame whenever i skip to the middle of the video . this even happen when i watch on safari . please fix this error asap . and to anyone who hasn't update yet , don't . this problem may not be happen to earlier version .\n",
      "\n",
      "\n",
      "before the last update , youtube be work just fine for me . now , everything be take forever to load , and the auto quality for every single video i watch be always at 480p . i don't want to watch video if i can barely see what's go on . i click 720p because that's the highest video quality on the mobile app which be another thing i think need to be fix and it start load , but it keep load and it never stop until it say , sorry , there be an error in play this video , or whatever . it use to be fine , but now everything be all jack up and it's start to get on my nerve . i understand that there be many negative review on your app right now , and i'm not try to add to the pressure , but it's get to a point where i'm too feed up and irritate to act like nothing's happen . please fix this issue as soon as you possibly can , thank you .\n",
      "\n",
      "\n",
      "if you have ever use youtube on your laptop you no doubt understand that youtube's entire function be to load and play video . on my wifi which i have never have a problem with and youtube . com work great youtube struggle to load more than one video . what i mean be that after i watch my first video after load up the app , i attempt to watch a second video and the app give me a never end load sign so i have to restart the app every time that i want to watch a new video . not only that but on my brand new iphone , youtube struggle to understand which my phone be point and will have the video upside down or simply small screen until i exit the app and reload . the best thing that i can say about use this app be you will be disappoint .\n",
      "\n",
      "\n",
      "i've get numerous update notice always believe the issue here would be fix . it hasn't . when i load a video , the audio cut off randomly , and it's get worse every update . sometimes it won't even let me go to another part in video , it will stand still unless i reload the page . this isn't a problem with my phone , this be a problem with the you , the people behind this app . you don't seem to care .\n",
      "\n",
      "\n",
      "im just gonna go straight ahead to the point . after i recently update the app , youtube video start freeze while the audio still go on and on my subscription , it show that watch sign on the upper ledge corner on every video and i think for a second i be hack . i have this problem before and from the last update , i still can't believe none of these be fix smh . y'all better do somethinf about this before i riot .\n",
      "\n",
      "\n",
      "the whole point of youtube be to be able to watch video , be it not ? this morning i instal the newest update and in return , i haven't be able to watch a single video . each one open just fine , but if there be an ad , it's stick at 00 . if there be no ad , it's still stick at 00 . my internet connection be not the issue . my cellular connection be not the issue . the only variable have be this update . don't get me wrong , i don't necessarily need to watch any video right now . but an app as well know and stable as this should be able to meet the one requirement that we all expect it to meet . be able to play video . i don't believe i have much else to say , other than this be the absolute worst glitch the app could have , base on it purpose . end rant .\n",
      "\n",
      "\n",
      "youtube be something i use on a day to day basis so it be crucial for everything to be run correctly . this however , be not the case because there have be an increase in bug recently . one be example be when i be view a video and i turn off my ipod and then turn it back on , i try to press play but it won't do anything even though i would try and go back a few second . so what be the solution to this ? restart the video which be always a pain because i have to constantly go through the hassle of find my place in the video . this be one of many bug that youtube must fix . another thing that annoy me be that when i'm watch a video , it almost always change the resolution to like 144p even though my internet connection can handle 720p . they can fix this by have an option of always load a video with the resolution that you desire . if youtube can fix such problem then maybe i'll give them a higher rat but for now , they get only 2 star .\n",
      "\n",
      "\n",
      "i remember when i first get youtube how well everything work . now , i'm lucky if i can get the video to start . ever sunset this new update , the ad on my video will load , though the video will just sit there as though i've pause it . the only way to solve this problem be that i have to delete the entire app , then go back into the appstore to re download it . another problem with this app be the ad themselves . they be become longer and longer and you can hardly ever skip the long one . and another problem be the quality of video of the ad vs the quality of video of the actual video . the ad will run perfectly , never buffer and the screen will be clear , but once the video start , it look awful . it doesn't want to play , and the screen be blurry . perhaps youtube should fix the important thing that be wrong with their app , instead of try to get people to pay for youtube red , to watch their own video .\n",
      "\n",
      "\n",
      "\n",
      "\n",
      "\n",
      "\n",
      "Cluster 6\n",
      "every time i try to watch a video , without exception , it will say something go wrong tap to retry and the video will never load ! grant i'm on an iphone 5c so that might have something to do with it but please fix this issue !\n",
      "\n",
      "\n",
      "whenever i load a video to watch and stop and keep say something go wrong tap to retry . i do tap to retry and it still doesn't work . please fix this . i literally can't use youtube because of this . include other people .\n",
      "\n",
      "\n",
      "this be get really frustrate ! every time i try to play a video it keep say something go wrong tap to retry even though there be nothing wrong with it . beside i'm not the only one have the issue .\n",
      "\n",
      "\n",
      "i've be use this app ever since and i have no problem and now the video be not play . it say something go wrong tap to retry and this show to every video i try to watch . please fix this bug .\n",
      "\n",
      "\n",
      "this be really ridiculous , i can't even watch a video . every time i try it just keep say something go wrong , tap to retry . fix the issue .\n",
      "\n",
      "\n",
      "whenever i try to watch a video any video it won't load and keep say something go wrong tap to retry and no matter how many time i keep tap to retry it keep go back like a loop . please help i cant watch youtube video from my phone anymore because of this !\n",
      "\n",
      "\n",
      "whenever i click on a video it will load for a little bite and say something go wrong , retry and i keep refresh my fee but it will still say something go wrong . i even restart my phone and still get the same result . please fix this !\n",
      "\n",
      "\n",
      "can't even load video anymore , just keep get something go wrong , tap to retry clear memory and restart a few time , no change .\n",
      "\n",
      "\n",
      "i be literally unable to watch any video . i can navigate through the app as normal , but if i try to play any video , i get the same something go wrong . tap to retry message over and over .\n",
      "\n",
      "\n",
      "i always watch video on youtube with no problem . until today . it keep say something go wrong . tap to retry . so i do and nothing work out . i even try to watch other video and the same thing happen . my wifi be strong btw .\n",
      "\n",
      "\n",
      "\n",
      "\n",
      "\n",
      "\n",
      "Cluster 7\n",
      "1 they remove the skip 10 second forward and backwards by double tap each end of the screen . first of all , now if i miss what a person say , it be extremely hard to go back . second , it's already hard enough to scrub on an iphone , so remove this essentially make me watch the entire video . youtube , don't worry . i'll still be watch your video , but i don't want to watch trash video . either way , the second major problem pour salt in the wound . 2 they add three suggest video to the bottom of the screen while you're watch the video . now , whenever you go to tap the scrub bar , you have 90 10 odds of accidentally start a different video instead of simply be able to scrub through the video . this be absolutely unacceptable and youtube must change now .\n",
      "\n",
      "\n",
      "now everytime you slightly touch either side of the screen well watch a video it jump forward or backwards 10 second , this make it very hard to hold my phone while watch a video , and when i try to click the information button to see relate video or change the setting it start mess up my video . this make watch very choppy and annoy . i don't know why they would get rid of the button that be next to the play button that you could actually see . it be ruin watch video on my phone .\n",
      "\n",
      "\n",
      "improve slightly with video buffer pause . now it lock itself into landscape mode when i leave a video . have to leave the app and come back for it to be fix . also , it skip through my offline video . won't play one after another . no i don't have shuffle on . lastly , the video suggestion box under the buffer bar in video be super distract and there's no reason for them . please work on this guy ! although i love the 10 second skip feature . but i suggest a set switch to turn it off as some people don't seem to like it .\n",
      "\n",
      "\n",
      "in fact this be the first review i've make in year . but seriously , the update be horrible . the home screen thumbnail be way too big and take up the whole screen . the new autoplay feature be terrible , please make it so if we have to have autoplay , there's not the previous video and next video button on the screen . if i'm in the middle of a video and i accidentally happen to tap one of those button , it take me away from the video i be just watch and to whatever's up next on autoplay . which mean i have to go back to what i be just watch , wait for the ad to finish , and then skip to where i be in the video . it's such a headache jfc fix your sh tty app .\n",
      "\n",
      "\n",
      "usually i don't like layout change because i don't like change in general but this update be simply just inconvenient . i can't go back to the begin or end of the video without go in 10 second interval because my phone have a case on it and i can't reach close enough to the edge of my screen . advertisement do not need a the thumbnail on the side as if it be give you the opinion to skip it . advertisement do not need video thumbnail even when you have the option to skip it . it simply take up too much space on my screen . the 10 second interval need button for themselves instead of be a double tap . i like the feature but it be inconvenient because when i'm try to skip part in video it end up switch between 10 second interval .\n",
      "\n",
      "\n",
      "no . nononono this update need to disappear , first off i don't like the fact that when i tap on screen it take 2 second for it to actually pop up with the pause and prev next , second when my phone be flip up vertically i can't swipe the video all the way back because the start be so far to the leave , third all of the button take 2 second as well to actually take action , and fourth of all i can't even flip my phone horizontally to make the video change position . great update really . sarcasm .\n",
      "\n",
      "\n",
      "i don't know what people be complain about with the update . the ability to skip 10 second forward or back be great ! it doesn't interfere with tap the screen to see the time leave at all . different tab be great instead of swipe for each one . every once in a blue moon a video will stop and the audio will continue to play if you switch between landscape or portrait but overall i love the change .\n",
      "\n",
      "\n",
      "with the new ten second skip and rewind thing , i actually think that it's a good idea . it really add some precision that be need especially in longer video where drag the timer microscopically could have potentially send the video fly ahead or behind by minute . of course there be an issue when the phone be in it tilt full screen mode where i try and leave full screen only to fast forward the video . maybe make the interface a little larger . also there be a rise issue where the video won't load and keep say an error occur .\n",
      "\n",
      "\n",
      "first off , the 10 second idea itself be not bad . i like the idea of rewinding back a few second . the terrible implementation be the double tap of one entire half of the screen . see , when i'm a little bore if the video be repetitive or something , i rapidly tap the right side of the screen just to see the button appear and disappear . now when i do that it advance like a minute forward , which be horribly annoy . what would fix this be have the two function as small button like the pause play or the previous next video . this be feature need fix the most . second off , on short video or if i want to re watch a video , i , as a normal person would , scroll back the video to the begin . the problem be that with this update , it's nearly impossible . the scroll bar take up the whole screen length when in miniature mode , mean that i can't reach the far leave side . this be horribly annoy as well . this then force me to rewind to a bite after the begin and then have to use the 10 second feature which be already something i've complain about . overall , this update be terrible and i regret not read the review before update .\n",
      "\n",
      "\n",
      "i enjoy the app and use it at least an hour or so a day but the new feature to where you swipe up for other video be annoy . it's constantly in the way and it pop up when i don't even touch the screen or it come up when i'm try to fast forward or rewind and i end up unintentionally hit it try to do something else . please make an option to turn it off .\n",
      "\n",
      "\n",
      "\n",
      "\n",
      "\n",
      "\n",
      "Cluster 8\n",
      "on ipads they release this new layout which be complete garbage . it make the comment section so ugly and impossible to use . you have to go to a different page just to read all the sub comment on a comment . it be impossible to use while watch a video and hurt my eye just look at it . i don't even read comment anymore . i will bring it back up to a five star if they fix this .\n",
      "\n",
      "\n",
      "clearly , you have never hear the phrase , if it ain't break , don't fix it . well that's the comment section . it be annoy before have to press the show button 18 time to see all the comment . but now ? now it open up a whole new page and at least you can see the comment but if you be just browse the comment section you can never tell what's a reply or a new comment thread . this app just get worse and worse and i have no idea how you look at this new comment section up and think to yourself s , this be a great idea let make an update . but whatever . i at least don't have to deal with it on my tablet because i never auto update and still have the old ui . anyway , i would give a no star rat if possible but whatever . please read the ton of comment on this garbage ui and change it back to the old one or something like the old one .\n",
      "\n",
      "\n",
      "why do u change the comment section ? i like the way it be before , now it just stupid and very annoy . this update to the comment section be unnecessary . i dont want to open a new page to view comment . i want to be able to read it while watch the video . and if i didnt know better this be a cheap knockoff of google s comment system . please change it back to the way it be before . if it aint break dont fix it .\n",
      "\n",
      "\n",
      "watch video be still easy and all but half the time when i watch a vid i read the comment and the new comment section layout be just awful . read comment and reply isn't even fun anymore , don't even try bother now . revert it back to the old layout . this one be just confuse and complicate .\n",
      "\n",
      "\n",
      "my rat use to be five star but since the new update i've be bring youtube this update change the comment so that if you want to see reply to a comment it bring you to a whole different screen and you have to watch the video in a small rectangle in the corner . i think that's plain stupid . the comment be perfect the way they be before you be able to watch the video and read the comment at the same time . now the comment section be so big it have to take you to a different screen to see them and you lose the page you be on . not to mention they be confuse now . they be great the way they be before and instead of make it better , you make it worse . change the comment section to the way it be before and i will change my review to five star ! also the new term of service be ridiculous . i like the old comment section so much better and the new update be complete stupidity must be change back ! thank you .\n",
      "\n",
      "\n",
      "right when this app be finally perfect , after all the bug have be fix . you change the comment section layout . it's awful now ! everything be a jumble mess ! you have to click a separate button to be bring to a whole new page to access reply , and now you can only reply to the person who make a comment chain and not the repliers to the original comment . the only good thing to come out of this be a dislike button for comment , but that isn't worth it . go back to the old comment format and 5 star will be award .\n",
      "\n",
      "\n",
      "right when this app be finally perfect , after all the bug have be fix . you change the comment section layout . it's awful now ! everything be a jumble mess ! you have to click a separate button to be bring to a whole new page to access reply , and now you can only reply to the person who make a comment chain and not the repliers to the original comment . the only good thing to come out of this be a dislike button for comment , but that isn't worth it . go back to the old comment format and 5 star will be award .\n",
      "\n",
      "\n",
      "the comment section look like complete and utter trash . when i press view reply why the hell do it open up a new page . how be i suppose to browse the comment section when it's look like a magnify crap hole of ton of letter . change it back for the sake of efficiency . unnecessary update all the time smh .\n",
      "\n",
      "\n",
      "the new comment section be horrendous . it's confuse and very hard to follow , and reply to someone be difficult . if you click view all reply , it minimize the video . the comment section before this update be perfectly fine , it didn't need to be change . a shame you guy waste your time redesign something that didn't need it instead of spend more time fix bug or add in new feature .\n",
      "\n",
      "\n",
      "ever since the app update , the comment section have unnecessarily change horrifically ! it's so unappealing . i'd rather tap to see comment rather than scroll down to all of them . and i'd rather tap to reply or like than to tap a small little like button . it all hurt my eye there's too much happen . and not to mention i can't even reply to reply like i use to . this update be the worse update i've see with the mobile youtube and i've be apart of it since 2011 . bring back the old comment section . stop change thing if no one want it change .\n",
      "\n",
      "\n",
      "\n",
      "\n",
      "\n",
      "\n",
      "Cluster 9\n",
      "so youtube be great and work perfectly . until i update it . now i can't even use it . the app be completely break with me . as soon at i update it , i'll click a video and it will just load . than a minute or so later it will say error with the video or something like that , and it's will any video . it's not my wifi that be the problem , because i'll go on safari and it play fine . it's be like this for a couple day now and it really upset me . please , i don't know what's up with the app . even if i restart my phone . i even try to delete and re download the app a couple time . plz help this situation .\n",
      "\n",
      "\n",
      "my youtube doesn't work anymore . i've uninstalled and reinstall several time , but it still doesn't work . i try to watch a video , any video , and it just keep load . it's definitely not a wifi problem , because the router be in my room , and it always work , but ever since this update , i can't watch on youtube . please fix this ! thank .\n",
      "\n",
      "\n",
      "recently , every time i try to watch a video , it fail . i'm not sure why though . i try delete and redownloading the app but it still doesn't work at all . i even go on youtube's website and it didn't work there either . i hope this problem get fix because i use youtube regularly .\n",
      "\n",
      "\n",
      "the new update be horible . i can't even watch a video because on every single video i click it say error . my internet be fine . i have reinstall the app . i have restart my phone . i try it on other device . this app be horrible . it's better just to use safari or google .\n",
      "\n",
      "\n",
      "everysense the new update video wont play i even try delete the app and go on safari it dosent work either please fix it till now i have to watch tv .\n",
      "\n",
      "\n",
      "i currently have an iphone se and run perfect most of the time . but i will get an notification on my phone and i will tap it then go back to youtube and it won't work . video won't load , and won't play . they're just freeze and i can't do anything about it unless i delete the app and re download it . help .\n",
      "\n",
      "\n",
      "this app use to work well for me . i've be use it for year without a problem . however , recently , it have be completely useless . when i tap on a video to play it , it always say something go wrong , tap to retry . it's not a problem with my wifi , it's fully function in other apps . i've delete and redownloaded the app , and reset my phone , but it doesn't help anything . please fix this .\n",
      "\n",
      "\n",
      "every time i try to watch a video , there's always an error and the video won't load . my wifi be fine as the app work on my phone , but it won't work on my ipad ! i'm not sure if i'm the only one with this problem , but until it's fix i'm rat this one star . when i can't watch video without have to use the browser , than i'll update my review . p . s . i have , in fact , try uninstalling and reinstall but to no avail .\n",
      "\n",
      "\n",
      "the ad will play but the video won't ? anyway it always tell me to refresh but never work i've try restart app and phone but of course do not work . love the new update youtube .\n",
      "\n",
      "\n",
      "earlier today all video be work perfectly fine . try to watch a couple of video in the afternoon and now all of a sudden all video be say there seem to be a problem or whatever and it won't let me play anything . i have my sister try it on her phone and it be just fine . i've try everything i can think of close all the apps i'm on ipad btw , turn off the wifi , uninstalling the app . i don't know what to do and every other app be work just fine so stop be petty youtube and just let me play me video please !\n",
      "\n",
      "\n",
      "\n",
      "\n",
      "\n",
      "\n",
      "Cluster 10\n",
      "over a year later and my review of this junk app have hardly change . an obvious sign that the developer don't care about the app . a huge money leach spy company like google sure have the cash to do much better than this cheaply slat together app . sad ! do i sound harsh ? i have no petty for a company that be worth billion of dollar by sell private information of their client to market company and then provide the people they spy on with poorly develop apps such as this one , map , and the list go on . how can a guy by himself develop a better app than this one in his basement , while this huge corporation can't ? seriously , there be no excuse . none ! i hate the fact that this app doesn't have a back button . a lot of time i wish i could go back to the previous page video to click on another one of the suggest video that show up . you can do that in a web browser or some other apps and i can't understand why you can't do it in this app . no logical reason what so ever except for poor development result a cheaply put together app . developer need to go back to school . leave a comment be annoy . the box the pop up to type your message should be larger . it doesn't even work right . again the whole apps need improvement . for a little while i've notice a huge increase in the number of ad before a video . that be even more true when watch video from a computer . the number of ad and their length be get way too excessive . to a level of ridiculous . for a moment i think it be my imagination , but everything make sense with the announcement of youtube red . the greedy folk at youtube want to annoy the hell out of people in order to encourage them to pay for an over price service . hell , at 13 buck per month , youtube in more expensive than netflix , my local basic cable , and other tv and web service . their fame and greed have really get to their head . therefore i give this app and the youtube as a company one star . i would give it a negative 5 if i could .\n",
      "\n",
      "\n",
      "so don't get me wrong , i love youtube . it's probably my most use app . but the only thing it really do well be play video . but with their new term , quality of some of those video have be force into shitiness . they no longer allow fowl language or topic that might be see as controversial to be monetize . some of these you tuber depend on make video as their main source of income , and they have be a lot less happy lately and thus the video be less entertain . while i'm rant , the notification button hasn't work once since it be add . please , to the creator of the app and to the youtube company in general , go sit in a corner and think about your action and think about the damage you have do .\n",
      "\n",
      "\n",
      "youtube's no fix's update only mean to reset bad review counter 12 . this week . and count ! youtube 1 . first and foremost ! gas cost 6 for less than 2 gallon . just to watch normal tv it cost 100 of dollar these day . insurance be sky high , income tax take a crapload from a paycheck and this do not include rent , mortgage , repair bill , car insurance and other untold expense . the point be nobody have money for youtube red so stop try to force youtube red . you purposely try to make your app crap so people get bamboozle into pay money for something they shouldn't . you strong arm other apps who offer a good quality player . your app be bloat . useless . recommendation do not work . the whole screen be trigger to take you away from a play video . the ui be godawful and the crash , bug , glitch be horrendous . every time you update i complain to google . your business practice be unethical and your quality control be non existant . comment do not load . video do not play . the ff rr button be again something no one want and jump us around a play video . people ask for a simple box video player so they can watch youtube and multitask and instead of give them this you make sure no other 3rd party player can have it . how , from a market standpoint be this effective ? you essentially force people to stop the youtube app in order to run other apps . so instead of ad revenue you get nothing because those who do not have youtube red make a conscience decision that it be not worth the little money they have leave . for over a year there have be a very significant dislike ratio on the app rat and yet you pump out update to reset the counter . ironically each update break the app more . instead of make youtube a likable app which would encourage profit you detract feature which earn disdain for your product . you people do not belong in the position you be hold and need a major overhaul of philosophy , business practice , quality control and app design . p . s amazon prime offer student it service at 50 for the year and that include 1280p hd movie , speciality show , normal show , recommendation that work , picture in picture multitasking free 2 day ship on all amazon product and no glitch , no problem , and no ad except to preview other show which be relate to what you like . i might add this may have never interest me until youtube become a bloat , non function , non improve , free speech control , ad infest , make sure no other app can offer quality youtube player , crapfest . unfortunately you can't threaten prime , cause you have no right ownership of them . hard to believe youtube have no issue once . really hard to believe . now every update be look we move this button . here ! nothing worse than an app that do that . relearn a layout constantly blow . i find it funny that they finally fix the discard an empty comment issue . only take month , for a simple bug that should have never make it past quality control . how many update do that take ? at least 40 . no really ! . not even kid on that . thats not a joke . unbelievable but true . anyway keep on update .\n",
      "\n",
      "\n",
      "hold on , i get to vent . first off , youtube have annoy me in the last update , constantly push me on the idea of youtube red , which in my opinion , should be free . google already make enough money a day to not have to have to profit off of something they would have never think of if it weren't for the user ask for it . for real ! they be practically punish us ! secondly , my phone be set to auto lock after a certain amount of time , and with the old version of the app , i wouldn't auto lock in the middle of a video . it's become annoy that i have to constantly tap the video to keep my phone from shut off . third , the layout could use some improvement . user profile and setting for the app should be more easily accessible . if i want to change something specific , i have to go through loophole and practically search for what seem like forever to do something as mediocre as change notification setting . i would also like the app to be change so that i can view my channel's analytics and have more creative control from my mobile device . i know how little my review probably matter , so why should i even bother anyway . feel free to consider , i believe that these be thing everyone would like to see happen , because overall , youtube be a wonderful thing .\n",
      "\n",
      "\n",
      "youtube 1 . first and foremost ! gas cost 6 for less than 2 gallon . just to watch normal tv it cost 100 of dollar these day . insurance be sky high , income tax take a crapload from a paycheck and this do not include rent , mortgage , repair bill , car insurance and other untold expense . the point be nobody have money for youtube red so stop try to force youtube red . you purposely try to make your app crap so people get bamboozle into pay money for something they shouldn't . you strong arm other apps who offer a good quality player . your app be bloat . useless . recommendation do not work . the whole screen be trigger to take you away from a play video . the ui be godawful and the crash , bug , glitch be horrendous . every time you update i complain to google . your business practice be unethical and your quality control be non existant . comment do not load . video do not play . the ff rr button be again something no one want and jump us around a play video . people ask for a simple box video player so they can watch youtube and multitask and instead of give them this you make sure no other 3rd party player can have it . how , from a market standpoint be this effective ? you essentially force people to stop the youtube app in order to run other apps . so instead of ad revenue you get nothing because those who do not have youtube red make a conscience decision that it be not worth the little money they have leave . for over a year there have be a very significant dislike ratio on the app rat and yet you pump out update to reset the counter . ironically each update break the app more . instead of make youtube a likable app which would encourage profit you detract feature which earn disdain for your product . you people do not belong in the position you be hold and need a major overhaul of philosophy , business practice , quality control and app design .\n",
      "\n",
      "\n",
      "so youtube suffer and in some way still do from false dmca claim . they eventually fix it so the money be hold in a safe space until the claimant or the accuse win the case . i be pretty stoke when this happen and i think thing would only get better . i be wrong , the new term of service make it so that any criticism that the criticize find offense can be remove allow lie , rumor , and other terrible statement to go undisputed . i'm at the point where i will delete this app and download youtube repeat instead . even if youtube be to claim repeat , i would still delete it . i think the reason this happen be because offend individual couldn't have their opinion challenge . the previous term of service already be mean to get rid of hate . the could have so easily just leave it and actually start enforce it . if you want to keep people watch you then delete the new term except the part of reveal personal information that can stay and actually enforce your previous term . after this review be write i will delete this app and download repeat and i encourage everyone to do the same till these issue be fix .\n",
      "\n",
      "\n",
      "nice layout but not so novel concept free ad reminiscent of old school youtube and play while listen offline , that's not really outside the box . but the all ancient , not modern concept lie with the price of 12 . 99 mo . need a lower price or cheaper flat rate to keep up with the time . not enough bang for all those monthly buck .\n",
      "\n",
      "\n",
      "i don't like autoplay , as i'm someone who know what i want to watch and don't need youtube google algorithm to inaccurately tell me what i want to watch . now this wouldn't be so bad , except for the fact that i cannot disable this feature like i can on the pc , which be so frustrate . i can't let a video finish without be force to get rid of it so as to not watch a video i've already see or another i have no desire to see or hear . i get that this be a free platform and google do whatever the hell it want , but boy i could use a little bite more intuition here . have to start with the trend page when open the app or site and then immediately have to switch to my subscription be already bad enough , but this be just another design flaw in this lean tower of pisa app . it's still work , but not with the best design and foresight invest prior to execution of these diminish update .\n",
      "\n",
      "\n",
      "youtube have be on the downward slope ever since google take over . each update seem to create more problem than it fix , and this last one be there biggest mistake yet . this latest update be a sad attempt to put profit over usability by throw away the option to skip ad . i would propose a boycott on youtube if it wouldn't hurt the creator that we all wish to support . the root of the problem stem from a lack of competition which essentially make youtube a monopoly . youtube have choose to ignore the issue of active account be unsubscribed to the creator they employ , and instead take a shortcut to payday . i could go on and on about the corrupt motif of this company , but it still won't change anything .\n",
      "\n",
      "\n",
      "with the exception of the desktop , youtube be usually the worst app i have instal on any give platform that go triply for roku . while it would be hyperbolic to make that claim on io it's still chock a block with shortcoming . the app's material design principle couple with it loud , red design make the app stand out on io in rather a bad way . while on the one hand this make sense , it privilege google's brand over design for the platform and it's user . likewise it seem to prioritize feature and deprioritize others without rhyme or reason . why on a mobile phone do i have to minimize a video to search for another ? the result window be the size of a postage stamp and i've already communicate that i'm do with it . yet if i want to search within a channel that i'm currently browse ? i have no idea , but that seem like a pretty basic action . youtube have the best video content to be find on the internet . but man , do they make it a pain to access .\n",
      "\n",
      "\n",
      "\n",
      "\n",
      "\n",
      "\n"
     ]
    }
   ],
   "source": [
    "#find and print the reviews closest to the centroid, i.e. the most represntative reviews\n",
    "\n",
    "centroids = km.cluster_centers_ \n",
    "cluster_closest_indices = find_k_closest(centroids, avg_vectors, k=10)\n",
    "n = 1\n",
    "for cluster in cluster_closest_indices:\n",
    "    print(\"Cluster\", n)\n",
    "    \n",
    "    for index in cluster:\n",
    "        pass\n",
    "        print(final_reviews_unprocessed[index])\n",
    "        print(\"\\n\")\n",
    "    print(\"\\n\\n\\n\")\n",
    "    n += 1"
   ]
  },
  {
   "cell_type": "code",
   "execution_count": 21,
   "metadata": {},
   "outputs": [],
   "source": [
    "cluster_labels = km.fit_predict(avg_vectors)"
   ]
  },
  {
   "cell_type": "code",
   "execution_count": 22,
   "metadata": {},
   "outputs": [],
   "source": [
    "#use logistic regression to see what the most important words for each cluster is"
   ]
  },
  {
   "cell_type": "code",
   "execution_count": 23,
   "metadata": {},
   "outputs": [],
   "source": [
    "from sklearn.linear_model import LogisticRegression\n",
    "from sklearn.feature_extraction.text import *\n",
    "from sklearn.model_selection import train_test_split\n",
    "from sklearn.metrics import classification_report, r2_score, mean_squared_error"
   ]
  },
  {
   "cell_type": "code",
   "execution_count": 24,
   "metadata": {},
   "outputs": [
    {
     "name": "stdout",
     "output_type": "stream",
     "text": [
      "28263\n",
      "9421\n",
      "28263\n",
      "9421\n"
     ]
    }
   ],
   "source": [
    "train_text, test_text, train_labels, test_labels = train_test_split(processed_reviews[nonzero_indeces], cluster_labels, random_state=2)\n",
    "print(len(train_text))\n",
    "print(len(test_text))\n",
    "print(len(train_labels))\n",
    "print(len(test_labels))"
   ]
  },
  {
   "cell_type": "code",
   "execution_count": 25,
   "metadata": {},
   "outputs": [],
   "source": [
    "cv = CountVectorizer(min_df=1, ngram_range=(0,1))\n",
    "cv_train_text = cv.fit_transform(train_text)\n",
    "cv_test_text = cv.transform(test_text)"
   ]
  },
  {
   "cell_type": "code",
   "execution_count": 26,
   "metadata": {},
   "outputs": [
    {
     "name": "stdout",
     "output_type": "stream",
     "text": [
      "             precision    recall  f1-score   support\n",
      "\n",
      "          0       0.89      0.85      0.87       435\n",
      "          1       0.79      0.76      0.77      1037\n",
      "          2       0.89      0.91      0.90       696\n",
      "          3       0.88      0.83      0.85       811\n",
      "          4       0.82      0.75      0.79       867\n",
      "          5       0.78      0.74      0.76       903\n",
      "          6       0.82      0.85      0.83      1803\n",
      "          7       0.79      0.88      0.83       759\n",
      "          8       0.74      0.75      0.75      1767\n",
      "          9       0.79      0.81      0.80       343\n",
      "\n",
      "avg / total       0.81      0.81      0.81      9421\n",
      "\n"
     ]
    }
   ],
   "source": [
    "#run logistic regression model to predict cluster based on bag of words\n",
    "lr = LogisticRegression()\n",
    "lr.fit(cv_train_text, train_labels)\n",
    "preds = lr.predict(cv_test_text)\n",
    "\n",
    "#checking accuracy out of curiosity (although it's not really the point of any of this)\n",
    "print(classification_report(test_labels, preds))"
   ]
  },
  {
   "cell_type": "code",
   "execution_count": 27,
   "metadata": {},
   "outputs": [
    {
     "name": "stdout",
     "output_type": "stream",
     "text": [
      "Cluster 1\n",
      "comment, repli, section, layout, read, old, horribl, new, confus, hate, ugli, back, review, bring, feel, mess, home, interfac, trash, terribl\n",
      "****************\n",
      "Cluster 2\n",
      "io, version, pro, iphon, updat, failur, se, fex, forum, slightli, verif, smoothli, solid, crazi, hi, storag, server, dev, latest, app\n",
      "****************\n",
      "Cluster 3\n",
      "wrong, error, retri, say, tap, someth, messag, tri, keep, reload, pop, sorri, tell, go, click, everi, press, alway, pick, happen\n",
      "****************\n",
      "Cluster 4\n",
      "button, forward, doubl, rewind, hit, skip, screen, auto, second, annoy, bar, accident, landscap, ten, fast, thumb, minim, earbud, leav, part\n",
      "****************\n",
      "Cluster 5\n",
      "subscrib, channel, subscript, sub, interest, suggest, recommend, notif, intent, post, pleaz, grey, relev, list, initi, search, see, luck, bunch, secondli\n",
      "****************\n",
      "Cluster 6\n",
      "wifi, work, restart, reinstal, internet, freakin, strong, bump, connect, delet, open, noth, reset, anoy, offlin, fine, forget, enter, uninstal, zero\n",
      "****************\n",
      "Cluster 7\n",
      "educ, movi, compani, con, call, money, autoplay, key, rule, simpl, child, support, user, alright, clunki, clean, ban, restrict, charg, share\n",
      "****************\n",
      "Cluster 8\n",
      "load, play, video, buffer, freez, forev, black, sometim, paus, show, begin, start, minut, randomli, whenev, playback, graini, stay, stick, restart\n",
      "****************\n",
      "Cluster 9\n",
      "unsatisfi, exagger, explan, straw, your, popup, conclus, disconnect, canada, regist, indefinit, unplug, dash, wt, row, resum, viewabl, grind, entireti, repetit\n",
      "****************\n",
      "Cluster 10\n",
      "love, great, best, amaz, awesom, good, favorit, nice, easi, cool, better, everyday, youtub, life, enjoy, year, daili, use, faster, pretti\n",
      "****************\n"
     ]
    }
   ],
   "source": [
    "#get the largest coefficient for each of the clusters, i.e.\n",
    "#the words most predictive of that cluster\n",
    "#and print them out\n",
    "\n",
    "cv_featurenames = cv.get_feature_names()\n",
    "max_indeces = []\n",
    "\n",
    "for n in range(0,10):\n",
    "    coefs = lr.coef_[n]\n",
    "    maxes = np.argsort(coefs)[-20:]\n",
    "    max_indeces.append(maxes)\n",
    "for i in range(0, len(max_indeces)):\n",
    "    print(\"Cluster\", i+1)\n",
    "    top_features = [cv_featurenames[index] for index in max_indeces[i]]\n",
    "    #reverse, because getting the coefficients this way gives you a list\n",
    "    #where the last element is the highest number\n",
    "    print(\", \".join(reversed(top_features)))\n",
    "    print(\"****************\")"
   ]
  },
  {
   "cell_type": "markdown",
   "metadata": {},
   "source": [
    "# Write data to files outside repo to upload to projector.tensorflow.org"
   ]
  },
  {
   "cell_type": "code",
   "execution_count": 28,
   "metadata": {},
   "outputs": [],
   "source": [
    "with open('../../large files/tf_projector_data.tsv', 'w', newline='') as tsvfile:\n",
    "    writer = csv.writer(tsvfile, delimiter='\\t')\n",
    "    for vector in avg_vectors:\n",
    "        writer.writerow(vector)"
   ]
  },
  {
   "cell_type": "code",
   "execution_count": 29,
   "metadata": {},
   "outputs": [],
   "source": [
    "centroids = km.cluster_centers_ \n",
    "cluster_closest_indices = find_k_closest(centroids, avg_vectors, k=100)\n",
    "is_closest = [0]*len(final_reviews_unprocessed)\n",
    "cluster_labels_closest_only = [0]*len(final_reviews_unprocessed)\n",
    "i = 0\n",
    "for cluster in cluster_closest_indices:    \n",
    "    for index in cluster: \n",
    "        is_closest[index] = 1\n",
    "        cluster_labels_closest_only[index] = i\n",
    "    i += 1"
   ]
  },
  {
   "cell_type": "code",
   "execution_count": 30,
   "metadata": {},
   "outputs": [],
   "source": [
    "with open('../../large files/tf_projector_metadata.tsv', 'w', newline='') as tsvfile:\n",
    "    writer = csv.writer(tsvfile, delimiter='\\t')\n",
    "    writer.writerow(['review_text', 'cluster_label', 'is_closest', 'cluster_labels_closest_only'])\n",
    "    for i in range(0, len(final_reviews_unprocessed)):\n",
    "        writer.writerow([final_reviews_unprocessed[i], cluster_labels[i], is_closest[i], cluster_labels_closest_only[i]])"
   ]
  },
  {
   "cell_type": "code",
   "execution_count": null,
   "metadata": {},
   "outputs": [],
   "source": []
  }
 ],
 "metadata": {
  "kernelspec": {
   "display_name": "Python 3",
   "language": "python",
   "name": "python3"
  },
  "language_info": {
   "codemirror_mode": {
    "name": "ipython",
    "version": 3
   },
   "file_extension": ".py",
   "mimetype": "text/x-python",
   "name": "python",
   "nbconvert_exporter": "python",
   "pygments_lexer": "ipython3",
   "version": "3.7.0"
  }
 },
 "nbformat": 4,
 "nbformat_minor": 2
}
