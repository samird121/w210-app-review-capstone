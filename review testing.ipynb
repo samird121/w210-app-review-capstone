{
 "cells": [
  {
   "cell_type": "code",
   "execution_count": 412,
   "metadata": {},
   "outputs": [],
   "source": [
    "import pandas as pd\n",
    "import ast\n",
    "import re\n",
    "import json\n",
    "from sklearn import linear_model\n",
    "from sklearn.feature_extraction.text import *\n",
    "from sklearn.model_selection import train_test_split\n",
    "from sklearn.metrics import classification_report, r2_score, mean_squared_error\n",
    "import numpy as np\n",
    "import matplotlib.pyplot as plt\n",
    "from nltk.sentiment.vader import SentimentIntensityAnalyzer\n",
    "from scipy import sparse"
   ]
  },
  {
   "cell_type": "code",
   "execution_count": 36,
   "metadata": {},
   "outputs": [
    {
     "data": {
      "text/plain": [
       "'hehho my darhing'"
      ]
     },
     "execution_count": 36,
     "metadata": {},
     "output_type": "execute_result"
    }
   ],
   "source": [
    "x = re.sub('l', 'h', 'hello my darling')\n",
    "x"
   ]
  },
  {
   "cell_type": "code",
   "execution_count": 269,
   "metadata": {},
   "outputs": [],
   "source": [
    "reviews = []\n",
    "with open('reviews.txt', 'r', encoding='utf-8') as f:\n",
    "    reviews = f.read()\n",
    "\n",
    "reviews = re.sub('\\]', '', reviews)\n",
    "reviews = re.sub('\\[', '', reviews)\n",
    "reviews = re.sub('\\n', '', reviews)\n",
    "reviews = re.sub(\"'\", '\"', reviews)\n",
    "reviews = re.sub('    ', ' ', reviews)\n",
    "reviews = re.sub(' {', '{', reviews)\n",
    "reviews = re.sub(' }', '}', reviews)\n",
    "reviews = re.sub('{ ', '{', reviews)\n",
    "reviews = re.sub('} ', '}', reviews)\n",
    "reviews = re.sub('}  {', '}, {', reviews)\n",
    "reviews = re.sub('}{', '}, {', reviews)\n",
    "reviews = re.sub('id:', '\"id\":', reviews)\n",
    "reviews = re.sub('userName:', '\"userName\":', reviews)\n",
    "reviews = re.sub('userImage:', '\"userImage\":', reviews)\n",
    "reviews = re.sub('date:', '\"date\":', reviews)\n",
    "reviews = re.sub('url:', '\"url\":', reviews)\n",
    "reviews = re.sub('score:', '\"score\":', reviews)\n",
    "reviews = re.sub('title:', '\"title\":', reviews)\n",
    "reviews = re.sub('text:', '\"text\":', reviews)\n",
    "reviews = re.sub('replyDate:', '\"replyDate\":', reviews)\n",
    "reviews = re.sub('replyText:', '\"replyText\":', reviews)\n",
    "reviews = re.sub(': undefined', ': \"undefined\"', reviews)"
   ]
  },
  {
   "cell_type": "code",
   "execution_count": 270,
   "metadata": {},
   "outputs": [],
   "source": [
    "review_strings = [r+'}' for r in reviews.split('},')]\n",
    "review_strings[-1] = review_strings[-1][:-1]"
   ]
  },
  {
   "cell_type": "code",
   "execution_count": 274,
   "metadata": {},
   "outputs": [],
   "source": [
    "review_list = []\n",
    "for r in review_strings:\n",
    "    try:\n",
    "        review_list.append(json.loads(r))\n",
    "    except:\n",
    "        pass"
   ]
  },
  {
   "cell_type": "code",
   "execution_count": 275,
   "metadata": {},
   "outputs": [
    {
     "data": {
      "text/plain": [
       "3972"
      ]
     },
     "execution_count": 275,
     "metadata": {},
     "output_type": "execute_result"
    }
   ],
   "source": [
    "len(review_list)"
   ]
  },
  {
   "cell_type": "code",
   "execution_count": 279,
   "metadata": {},
   "outputs": [],
   "source": [
    "review_text = [r['text'] for r in review_list]\n",
    "review_dates = [r['date'] for r in review_list]\n",
    "review_scores = [r['score'] for r in review_list]"
   ]
  },
  {
   "cell_type": "code",
   "execution_count": 385,
   "metadata": {},
   "outputs": [
    {
     "name": "stdout",
     "output_type": "stream",
     "text": [
      "[nltk_data] Downloading package vader_lexicon to\n",
      "[nltk_data]     C:\\Users\\sdatta\\AppData\\Roaming\\nltk_data...\n"
     ]
    },
    {
     "data": {
      "text/plain": [
       "True"
      ]
     },
     "execution_count": 385,
     "metadata": {},
     "output_type": "execute_result"
    }
   ],
   "source": [
    "import nltk\n",
    "nltk.download('vader_lexicon')"
   ]
  },
  {
   "cell_type": "code",
   "execution_count": 536,
   "metadata": {},
   "outputs": [],
   "source": [
    "sid = SentimentIntensityAnalyzer()\n",
    "\n",
    "pscores = []\n",
    "lens = []\n",
    "for sentence in review_text:\n",
    "    pscores.append(abs(sid.polarity_scores(sentence)['compound']))\n",
    "    lens.append(np.log(len(sentence.split('.'))))\n",
    "    \n",
    "#pscores = np.reshape(pscores, [-1,1])"
   ]
  },
  {
   "cell_type": "code",
   "execution_count": 531,
   "metadata": {},
   "outputs": [
    {
     "data": {
      "text/plain": [
       "34"
      ]
     },
     "execution_count": 531,
     "metadata": {},
     "output_type": "execute_result"
    }
   ],
   "source": [
    "np.max(lens)"
   ]
  },
  {
   "cell_type": "code",
   "execution_count": 485,
   "metadata": {
    "scrolled": true
   },
   "outputs": [
    {
     "ename": "TypeError",
     "evalue": "only integer scalar arrays can be converted to a scalar index",
     "output_type": "error",
     "traceback": [
      "\u001b[1;31m---------------------------------------------------------------------------\u001b[0m",
      "\u001b[1;31mTypeError\u001b[0m                                 Traceback (most recent call last)",
      "\u001b[1;32m<ipython-input-485-a0b780bb204d>\u001b[0m in \u001b[0;36m<module>\u001b[1;34m\u001b[0m\n\u001b[1;32m----> 1\u001b[1;33m \u001b[0mreview_text_lim\u001b[0m \u001b[1;33m=\u001b[0m \u001b[0mreview_text\u001b[0m\u001b[1;33m[\u001b[0m\u001b[0mnp\u001b[0m\u001b[1;33m.\u001b[0m\u001b[0marray\u001b[0m\u001b[1;33m(\u001b[0m\u001b[0mnp\u001b[0m\u001b[1;33m.\u001b[0m\u001b[0mwhere\u001b[0m\u001b[1;33m(\u001b[0m\u001b[0mnp\u001b[0m\u001b[1;33m.\u001b[0m\u001b[0marray\u001b[0m\u001b[1;33m(\u001b[0m\u001b[1;33m[\u001b[0m\u001b[0mlen\u001b[0m\u001b[1;33m(\u001b[0m\u001b[0mx\u001b[0m\u001b[1;33m)\u001b[0m \u001b[1;32mfor\u001b[0m \u001b[0mx\u001b[0m \u001b[1;32min\u001b[0m \u001b[0mreview_text\u001b[0m\u001b[1;33m]\u001b[0m\u001b[1;33m)\u001b[0m \u001b[1;33m<\u001b[0m \u001b[1;36m500\u001b[0m\u001b[1;33m)\u001b[0m\u001b[1;33m)\u001b[0m\u001b[1;33m]\u001b[0m\u001b[1;33m\u001b[0m\u001b[0m\n\u001b[0m",
      "\u001b[1;31mTypeError\u001b[0m: only integer scalar arrays can be converted to a scalar index"
     ]
    }
   ],
   "source": [
    "review_text_lim = review_text[np.array(np.where(np.array([len(x) for x in review_text]) < 500))]"
   ]
  },
  {
   "cell_type": "code",
   "execution_count": 537,
   "metadata": {},
   "outputs": [],
   "source": [
    "train_text, test_text, train_scores, test_scores, train_pscores, test_pscores, train_lens, test_lens = train_test_split(review_text, review_scores, pscores, lens, random_state=2)\n",
    "\n",
    "cv = CountVectorizer(min_df=1, ngram_range=(0,5))\n",
    "cv_train_sentences = cv.fit_transform(train_text)\n",
    "cv_test_sentences = cv.transform(test_text)\n",
    "\n",
    "train_pscore_sparse = sparse.csr_matrix(train_pscores)\n",
    "train_pscore_int = sparse.csc_matrix.multiply(np.transpose(train_pscore_sparse), cv_train_sentences)\n",
    "#stacked_train_sentences = sparse.hstack([cv_train_sentences, np.transpose(train_pscore_sparse), train_pscore_int])\n",
    "stacked_train_sentences = sparse.hstack([cv_train_sentences, np.transpose(train_pscore_sparse), np.transpose(sparse.csr_matrix(train_lens))])\n",
    "\n",
    "\n",
    "test_pscore_sparse = sparse.csr_matrix(test_pscores)\n",
    "test_pscore_int = sparse.csc_matrix.multiply(np.transpose(test_pscore_sparse), cv_test_sentences)\n",
    "#stacked_test_sentences = sparse.hstack([cv_test_sentences, np.transpose(test_pscore_sparse), test_pscore_int])\n",
    "stacked_test_sentences = sparse.hstack([cv_test_sentences, np.transpose(test_pscore_sparse), np.transpose(sparse.csr_matrix(test_lens))])"
   ]
  },
  {
   "cell_type": "code",
   "execution_count": 507,
   "metadata": {},
   "outputs": [
    {
     "data": {
      "text/plain": [
       "(2979,)"
      ]
     },
     "execution_count": 507,
     "metadata": {},
     "output_type": "execute_result"
    }
   ],
   "source": [
    "np.transpose(train_lens).shape"
   ]
  },
  {
   "cell_type": "code",
   "execution_count": 504,
   "metadata": {},
   "outputs": [
    {
     "data": {
      "text/plain": [
       "(2979,)"
      ]
     },
     "execution_count": 504,
     "metadata": {},
     "output_type": "execute_result"
    }
   ],
   "source": [
    "np.transpose(train_pscores).shape"
   ]
  },
  {
   "cell_type": "code",
   "execution_count": 502,
   "metadata": {},
   "outputs": [
    {
     "data": {
      "text/plain": [
       "(2979,)"
      ]
     },
     "execution_count": 502,
     "metadata": {},
     "output_type": "execute_result"
    }
   ],
   "source": [
    "np.multiply(train_pscores, train_lens).shape"
   ]
  },
  {
   "cell_type": "code",
   "execution_count": 538,
   "metadata": {
    "scrolled": true
   },
   "outputs": [],
   "source": [
    "train_df = np.transpose(np.stack((train_pscores, train_lens, np.transpose(np.multiply(train_pscores, train_lens))), axis=0))\n",
    "test_df = np.transpose(np.stack((test_pscores, test_lens, np.transpose(np.multiply(test_pscores, test_lens))), axis=0))"
   ]
  },
  {
   "cell_type": "code",
   "execution_count": null,
   "metadata": {},
   "outputs": [],
   "source": []
  },
  {
   "cell_type": "code",
   "execution_count": 521,
   "metadata": {},
   "outputs": [
    {
     "data": {
      "text/plain": [
       "array([ 1.13807138, -0.52746403,  0.08262148])"
      ]
     },
     "execution_count": 521,
     "metadata": {},
     "output_type": "execute_result"
    }
   ],
   "source": [
    "lm.coef_"
   ]
  },
  {
   "cell_type": "code",
   "execution_count": 539,
   "metadata": {},
   "outputs": [
    {
     "name": "stdout",
     "output_type": "stream",
     "text": [
      "1.4882213436746266\n"
     ]
    }
   ],
   "source": [
    "lm = linear_model.Ridge()\n",
    "lm.fit(train_df, train_scores)\n",
    "preds = lm.predict(test_df)\n",
    "print(mean_squared_error(preds, test_scores))"
   ]
  },
  {
   "cell_type": "code",
   "execution_count": 380,
   "metadata": {
    "scrolled": true
   },
   "outputs": [
    {
     "data": {
      "text/plain": [
       "(array([974], dtype=int32),)"
      ]
     },
     "execution_count": 380,
     "metadata": {},
     "output_type": "execute_result"
    }
   ],
   "source": [
    "np.where(preds<=-1)"
   ]
  },
  {
   "cell_type": "code",
   "execution_count": 381,
   "metadata": {},
   "outputs": [
    {
     "data": {
      "text/plain": [
       "'I had my old account for almost a year now. But I just bought a new phone and it didn\"t let me log into my snap so I made a new one and I logged out today to give my friend to log in. And now I can\"t log back on and my email is the same. I\"m recieving email from you guys that someone is trying to log in, but that\"s me and when I say to verify through email it\"s says email not recognized. Fix it please asap.'"
      ]
     },
     "execution_count": 381,
     "metadata": {},
     "output_type": "execute_result"
    }
   ],
   "source": [
    "test_text[974]"
   ]
  },
  {
   "cell_type": "code",
   "execution_count": 540,
   "metadata": {},
   "outputs": [
    {
     "data": {
      "image/png": "[encoded data removed]",
      "text/plain": [
       "<Figure size 432x288 with 1 Axes>"
      ]
     },
     "metadata": {
      "needs_background": "light"
     },
     "output_type": "display_data"
    }
   ],
   "source": [
    "plt.scatter(preds, test_scores)\n",
    "plt.show()"
   ]
  },
  {
   "cell_type": "code",
   "execution_count": 549,
   "metadata": {},
   "outputs": [
    {
     "name": "stdout",
     "output_type": "stream",
     "text": [
      "              precision    recall  f1-score   support\n",
      "\n",
      "           1       0.47      0.61      0.53        99\n",
      "           2       0.27      0.09      0.14        43\n",
      "           3       0.35      0.25      0.29        79\n",
      "           4       0.27      0.08      0.12        92\n",
      "           5       0.83      0.94      0.88       680\n",
      "\n",
      "   micro avg       0.73      0.73      0.73       993\n",
      "   macro avg       0.44      0.39      0.39       993\n",
      "weighted avg       0.68      0.73      0.70       993\n",
      "\n"
     ]
    }
   ],
   "source": [
    "lr_base = LogisticRegression(C = 1, class_weight=\"balanced\")\n",
    "lr_base.fit(stacked_train_sentences, train_scores)\n",
    "preds = lr_base.predict(stacked_test_sentences)\n",
    "print(classification_report(test_scores, preds))"
   ]
  },
  {
   "cell_type": "code",
   "execution_count": 301,
   "metadata": {},
   "outputs": [],
   "source": [
    "cv_featurenames = cv.get_feature_names()\n",
    "\n",
    "\n",
    "weightIndeces_con = np.argsort(lr_base.coef_[0])[:10]"
   ]
  },
  {
   "cell_type": "code",
   "execution_count": 302,
   "metadata": {},
   "outputs": [
    {
     "name": "stdout",
     "output_type": "stream",
     "text": [
      "love\n",
      "awesome\n",
      "great\n",
      "good\n",
      "cool\n",
      "amazing\n",
      "nice\n",
      "best\n",
      "love it\n",
      "most\n"
     ]
    }
   ],
   "source": [
    "for index in weightIndeces_con: \n",
    "    print(cv_featurenames[index])"
   ]
  },
  {
   "cell_type": "code",
   "execution_count": null,
   "metadata": {},
   "outputs": [],
   "source": []
  }
 ],
 "metadata": {
  "kernelspec": {
   "display_name": "Python 3",
   "language": "python",
   "name": "python3"
  },
  "language_info": {
   "codemirror_mode": {
    "name": "ipython",
    "version": 3
   },
   "file_extension": ".py",
   "mimetype": "text/x-python",
   "name": "python",
   "nbconvert_exporter": "python",
   "pygments_lexer": "ipython3",
   "version": "3.7.0"
  }
 },
 "nbformat": 4,
 "nbformat_minor": 2
}
